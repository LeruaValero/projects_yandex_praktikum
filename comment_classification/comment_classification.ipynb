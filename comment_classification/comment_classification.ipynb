{
 "cells": [
  {
   "cell_type": "markdown",
   "metadata": {
    "toc": true
   },
   "source": [
    "<h1>Содержание<span class=\"tocSkip\"></span></h1>\n",
    "<div class=\"toc\"><ul class=\"toc-item\"><li><span><a href=\"#Подготовка\" data-toc-modified-id=\"Подготовка-1\"><span class=\"toc-item-num\">1&nbsp;&nbsp;</span>Подготовка</a></span></li><li><span><a href=\"#Обучение\" data-toc-modified-id=\"Обучение-2\"><span class=\"toc-item-num\">2&nbsp;&nbsp;</span>Обучение</a></span></li><li><span><a href=\"#Выводы\" data-toc-modified-id=\"Выводы-3\"><span class=\"toc-item-num\">3&nbsp;&nbsp;</span>Выводы"
   ]
  },
  {
   "cell_type": "markdown",
   "metadata": {},
   "source": [
    "# Проект для «Викишоп»"
   ]
  },
  {
   "cell_type": "markdown",
   "metadata": {},
   "source": [
    "Интернет-магазин «Викишоп» запускает новый сервис. Теперь пользователи могут редактировать и дополнять описания товаров, как в вики-сообществах. То есть клиенты предлагают свои правки и комментируют изменения других. Магазину нужен инструмент, который будет искать токсичные комментарии и отправлять их на модерацию. \n",
    "\n",
    "Обучите модель классифицировать комментарии на позитивные и негативные. В вашем распоряжении набор данных с разметкой о токсичности правок.\n",
    "\n",
    "Постройте модель со значением метрики качества *F1* не меньше 0.75. \n",
    "\n",
    "**Инструкция по выполнению проекта**\n",
    "\n",
    "1. Загрузите и подготовьте данные.\n",
    "2. Обучите разные модели. \n",
    "3. Сделайте выводы.\n",
    "\n",
    "**Описание данных**\n",
    "\n",
    "Данные находятся в файле `toxic_comments.csv`. Столбец *text* в нём содержит текст комментария, а *toxic* — целевой признак."
   ]
  },
  {
   "cell_type": "markdown",
   "metadata": {},
   "source": [
    "## Подготовка"
   ]
  },
  {
   "cell_type": "code",
   "execution_count": 1,
   "metadata": {},
   "outputs": [
    {
     "name": "stderr",
     "output_type": "stream",
     "text": [
      "[nltk_data] Downloading package stopwords to /home/jovyan/nltk_data...\n",
      "[nltk_data]   Package stopwords is already up-to-date!\n"
     ]
    },
    {
     "name": "stdout",
     "output_type": "stream",
     "text": [
      "Requirement already satisfied: spacy in /opt/conda/lib/python3.9/site-packages (3.2.0)\n",
      "Requirement already satisfied: srsly<3.0.0,>=2.4.1 in /opt/conda/lib/python3.9/site-packages (from spacy) (2.4.4)\n",
      "Requirement already satisfied: requests<3.0.0,>=2.13.0 in /opt/conda/lib/python3.9/site-packages (from spacy) (2.25.1)\n",
      "Requirement already satisfied: wasabi<1.1.0,>=0.8.1 in /opt/conda/lib/python3.9/site-packages (from spacy) (0.10.1)\n",
      "Requirement already satisfied: pathy>=0.3.5 in /opt/conda/lib/python3.9/site-packages (from spacy) (0.6.2)\n",
      "Requirement already satisfied: murmurhash<1.1.0,>=0.28.0 in /opt/conda/lib/python3.9/site-packages (from spacy) (1.0.8)\n",
      "Requirement already satisfied: preshed<3.1.0,>=3.0.2 in /opt/conda/lib/python3.9/site-packages (from spacy) (3.0.7)\n",
      "Requirement already satisfied: langcodes<4.0.0,>=3.2.0 in /opt/conda/lib/python3.9/site-packages (from spacy) (3.3.0)\n",
      "Requirement already satisfied: typer<0.5.0,>=0.3.0 in /opt/conda/lib/python3.9/site-packages (from spacy) (0.4.2)\n",
      "Requirement already satisfied: thinc<8.1.0,>=8.0.12 in /opt/conda/lib/python3.9/site-packages (from spacy) (8.0.17)\n",
      "Requirement already satisfied: spacy-legacy<3.1.0,>=3.0.8 in /opt/conda/lib/python3.9/site-packages (from spacy) (3.0.10)\n",
      "Requirement already satisfied: tqdm<5.0.0,>=4.38.0 in /opt/conda/lib/python3.9/site-packages (from spacy) (4.61.2)\n",
      "Requirement already satisfied: packaging>=20.0 in /opt/conda/lib/python3.9/site-packages (from spacy) (21.3)\n",
      "Requirement already satisfied: jinja2 in /opt/conda/lib/python3.9/site-packages (from spacy) (3.0.1)\n",
      "Requirement already satisfied: blis<0.8.0,>=0.4.0 in /opt/conda/lib/python3.9/site-packages (from spacy) (0.7.8)\n",
      "Requirement already satisfied: catalogue<2.1.0,>=2.0.6 in /opt/conda/lib/python3.9/site-packages (from spacy) (2.0.8)\n",
      "Requirement already satisfied: spacy-loggers<2.0.0,>=1.0.0 in /opt/conda/lib/python3.9/site-packages (from spacy) (1.0.3)\n",
      "Requirement already satisfied: numpy>=1.15.0 in /opt/conda/lib/python3.9/site-packages (from spacy) (1.21.1)\n",
      "Requirement already satisfied: pydantic!=1.8,!=1.8.1,<1.9.0,>=1.7.4 in /opt/conda/lib/python3.9/site-packages (from spacy) (1.8.2)\n",
      "Requirement already satisfied: setuptools in /opt/conda/lib/python3.9/site-packages (from spacy) (49.6.0.post20210108)\n",
      "Requirement already satisfied: cymem<2.1.0,>=2.0.2 in /opt/conda/lib/python3.9/site-packages (from spacy) (2.0.6)\n",
      "Requirement already satisfied: pyparsing!=3.0.5,>=2.0.2 in /opt/conda/lib/python3.9/site-packages (from packaging>=20.0->spacy) (2.4.7)\n",
      "Requirement already satisfied: smart-open<6.0.0,>=5.2.1 in /opt/conda/lib/python3.9/site-packages (from pathy>=0.3.5->spacy) (5.2.1)\n",
      "Requirement already satisfied: typing-extensions>=3.7.4.3 in /opt/conda/lib/python3.9/site-packages (from pydantic!=1.8,!=1.8.1,<1.9.0,>=1.7.4->spacy) (4.3.0)\n",
      "Requirement already satisfied: certifi>=2017.4.17 in /opt/conda/lib/python3.9/site-packages (from requests<3.0.0,>=2.13.0->spacy) (2022.6.15)\n",
      "Requirement already satisfied: idna<3,>=2.5 in /opt/conda/lib/python3.9/site-packages (from requests<3.0.0,>=2.13.0->spacy) (2.10)\n",
      "Requirement already satisfied: chardet<5,>=3.0.2 in /opt/conda/lib/python3.9/site-packages (from requests<3.0.0,>=2.13.0->spacy) (4.0.0)\n",
      "Requirement already satisfied: urllib3<1.27,>=1.21.1 in /opt/conda/lib/python3.9/site-packages (from requests<3.0.0,>=2.13.0->spacy) (1.26.6)\n",
      "Requirement already satisfied: click<9.0.0,>=7.1.1 in /opt/conda/lib/python3.9/site-packages (from typer<0.5.0,>=0.3.0->spacy) (8.1.3)\n",
      "Requirement already satisfied: MarkupSafe>=2.0 in /opt/conda/lib/python3.9/site-packages (from jinja2->spacy) (2.1.1)\n",
      "\u001b[38;5;3m⚠ As of spaCy v3.0, shortcuts like 'en' are deprecated. Please use the\n",
      "full pipeline package name 'en_core_web_sm' instead.\u001b[0m\n",
      "Collecting en-core-web-sm==3.2.0\n",
      "  Downloading https://github.com/explosion/spacy-models/releases/download/en_core_web_sm-3.2.0/en_core_web_sm-3.2.0-py3-none-any.whl (13.9 MB)\n",
      "\u001b[K     |████████████████████████████████| 13.9 MB 1.2 MB/s eta 0:00:01\n",
      "\u001b[?25hRequirement already satisfied: spacy<3.3.0,>=3.2.0 in /opt/conda/lib/python3.9/site-packages (from en-core-web-sm==3.2.0) (3.2.0)\n",
      "Requirement already satisfied: spacy-legacy<3.1.0,>=3.0.8 in /opt/conda/lib/python3.9/site-packages (from spacy<3.3.0,>=3.2.0->en-core-web-sm==3.2.0) (3.0.10)\n",
      "Requirement already satisfied: requests<3.0.0,>=2.13.0 in /opt/conda/lib/python3.9/site-packages (from spacy<3.3.0,>=3.2.0->en-core-web-sm==3.2.0) (2.25.1)\n",
      "Requirement already satisfied: thinc<8.1.0,>=8.0.12 in /opt/conda/lib/python3.9/site-packages (from spacy<3.3.0,>=3.2.0->en-core-web-sm==3.2.0) (8.0.17)\n",
      "Requirement already satisfied: setuptools in /opt/conda/lib/python3.9/site-packages (from spacy<3.3.0,>=3.2.0->en-core-web-sm==3.2.0) (49.6.0.post20210108)\n",
      "Requirement already satisfied: srsly<3.0.0,>=2.4.1 in /opt/conda/lib/python3.9/site-packages (from spacy<3.3.0,>=3.2.0->en-core-web-sm==3.2.0) (2.4.4)\n",
      "Requirement already satisfied: catalogue<2.1.0,>=2.0.6 in /opt/conda/lib/python3.9/site-packages (from spacy<3.3.0,>=3.2.0->en-core-web-sm==3.2.0) (2.0.8)\n",
      "Requirement already satisfied: packaging>=20.0 in /opt/conda/lib/python3.9/site-packages (from spacy<3.3.0,>=3.2.0->en-core-web-sm==3.2.0) (21.3)\n",
      "Requirement already satisfied: typer<0.5.0,>=0.3.0 in /opt/conda/lib/python3.9/site-packages (from spacy<3.3.0,>=3.2.0->en-core-web-sm==3.2.0) (0.4.2)\n",
      "Requirement already satisfied: numpy>=1.15.0 in /opt/conda/lib/python3.9/site-packages (from spacy<3.3.0,>=3.2.0->en-core-web-sm==3.2.0) (1.21.1)\n",
      "Requirement already satisfied: preshed<3.1.0,>=3.0.2 in /opt/conda/lib/python3.9/site-packages (from spacy<3.3.0,>=3.2.0->en-core-web-sm==3.2.0) (3.0.7)\n",
      "Requirement already satisfied: wasabi<1.1.0,>=0.8.1 in /opt/conda/lib/python3.9/site-packages (from spacy<3.3.0,>=3.2.0->en-core-web-sm==3.2.0) (0.10.1)\n",
      "Requirement already satisfied: jinja2 in /opt/conda/lib/python3.9/site-packages (from spacy<3.3.0,>=3.2.0->en-core-web-sm==3.2.0) (3.0.1)\n",
      "Requirement already satisfied: blis<0.8.0,>=0.4.0 in /opt/conda/lib/python3.9/site-packages (from spacy<3.3.0,>=3.2.0->en-core-web-sm==3.2.0) (0.7.8)\n",
      "Requirement already satisfied: spacy-loggers<2.0.0,>=1.0.0 in /opt/conda/lib/python3.9/site-packages (from spacy<3.3.0,>=3.2.0->en-core-web-sm==3.2.0) (1.0.3)\n",
      "Requirement already satisfied: pydantic!=1.8,!=1.8.1,<1.9.0,>=1.7.4 in /opt/conda/lib/python3.9/site-packages (from spacy<3.3.0,>=3.2.0->en-core-web-sm==3.2.0) (1.8.2)\n",
      "Requirement already satisfied: pathy>=0.3.5 in /opt/conda/lib/python3.9/site-packages (from spacy<3.3.0,>=3.2.0->en-core-web-sm==3.2.0) (0.6.2)\n",
      "Requirement already satisfied: langcodes<4.0.0,>=3.2.0 in /opt/conda/lib/python3.9/site-packages (from spacy<3.3.0,>=3.2.0->en-core-web-sm==3.2.0) (3.3.0)\n",
      "Requirement already satisfied: murmurhash<1.1.0,>=0.28.0 in /opt/conda/lib/python3.9/site-packages (from spacy<3.3.0,>=3.2.0->en-core-web-sm==3.2.0) (1.0.8)\n",
      "Requirement already satisfied: cymem<2.1.0,>=2.0.2 in /opt/conda/lib/python3.9/site-packages (from spacy<3.3.0,>=3.2.0->en-core-web-sm==3.2.0) (2.0.6)\n",
      "Requirement already satisfied: tqdm<5.0.0,>=4.38.0 in /opt/conda/lib/python3.9/site-packages (from spacy<3.3.0,>=3.2.0->en-core-web-sm==3.2.0) (4.61.2)\n",
      "Requirement already satisfied: pyparsing!=3.0.5,>=2.0.2 in /opt/conda/lib/python3.9/site-packages (from packaging>=20.0->spacy<3.3.0,>=3.2.0->en-core-web-sm==3.2.0) (2.4.7)\n",
      "Requirement already satisfied: smart-open<6.0.0,>=5.2.1 in /opt/conda/lib/python3.9/site-packages (from pathy>=0.3.5->spacy<3.3.0,>=3.2.0->en-core-web-sm==3.2.0) (5.2.1)\n",
      "Requirement already satisfied: typing-extensions>=3.7.4.3 in /opt/conda/lib/python3.9/site-packages (from pydantic!=1.8,!=1.8.1,<1.9.0,>=1.7.4->spacy<3.3.0,>=3.2.0->en-core-web-sm==3.2.0) (4.3.0)\n",
      "Requirement already satisfied: urllib3<1.27,>=1.21.1 in /opt/conda/lib/python3.9/site-packages (from requests<3.0.0,>=2.13.0->spacy<3.3.0,>=3.2.0->en-core-web-sm==3.2.0) (1.26.6)\n",
      "Requirement already satisfied: idna<3,>=2.5 in /opt/conda/lib/python3.9/site-packages (from requests<3.0.0,>=2.13.0->spacy<3.3.0,>=3.2.0->en-core-web-sm==3.2.0) (2.10)\n",
      "Requirement already satisfied: chardet<5,>=3.0.2 in /opt/conda/lib/python3.9/site-packages (from requests<3.0.0,>=2.13.0->spacy<3.3.0,>=3.2.0->en-core-web-sm==3.2.0) (4.0.0)\n",
      "Requirement already satisfied: certifi>=2017.4.17 in /opt/conda/lib/python3.9/site-packages (from requests<3.0.0,>=2.13.0->spacy<3.3.0,>=3.2.0->en-core-web-sm==3.2.0) (2022.6.15)\n",
      "Requirement already satisfied: click<9.0.0,>=7.1.1 in /opt/conda/lib/python3.9/site-packages (from typer<0.5.0,>=0.3.0->spacy<3.3.0,>=3.2.0->en-core-web-sm==3.2.0) (8.1.3)\n",
      "Requirement already satisfied: MarkupSafe>=2.0 in /opt/conda/lib/python3.9/site-packages (from jinja2->spacy<3.3.0,>=3.2.0->en-core-web-sm==3.2.0) (2.1.1)\n",
      "\u001b[38;5;2m✔ Download and installation successful\u001b[0m\n",
      "You can now load the package via spacy.load('en_core_web_sm')\n"
     ]
    }
   ],
   "source": [
    "import pandas as pd\n",
    "import numpy as np\n",
    "import matplotlib.pyplot as plt\n",
    "\n",
    "import re\n",
    "import nltk\n",
    "nltk.download('stopwords')\n",
    "from nltk.corpus import stopwords as nltk_stopwords\n",
    "from sklearn.feature_extraction.text import TfidfVectorizer\n",
    "from sklearn.metrics import f1_score, accuracy_score, precision_score\n",
    "from sklearn.utils import shuffle\n",
    "#from pymystem3 import Mystem\n",
    "import warnings\n",
    "warnings.filterwarnings('ignore')\n",
    "\n",
    "from sklearn.pipeline import Pipeline\n",
    "\n",
    "from sklearn.model_selection import train_test_split, cross_val_score, GridSearchCV\n",
    "from sklearn.linear_model import LogisticRegression\n",
    "#import lightgbm as lgb\n",
    "from catboost import CatBoostClassifier\n",
    "from sklearn.model_selection import RepeatedStratifiedKFold\n",
    "from lightgbm import LGBMClassifier\n",
    "\n",
    "from nltk.corpus import wordnet\n",
    "from nltk.stem import WordNetLemmatizer\n",
    "\n",
    "import sys\n",
    "!{sys.executable} -m pip install spacy\n",
    "!{sys.executable} -m spacy download en\n",
    "#!{sys.executable} -m spacy download en_core_web_sm\n",
    "import spacy\n",
    "\n",
    "from tqdm.notebook import tqdm\n",
    "tqdm.pandas()"
   ]
  },
  {
   "cell_type": "raw",
   "metadata": {},
   "source": [
    "pip install -U spacy==2.1.3"
   ]
  },
  {
   "cell_type": "code",
   "execution_count": 2,
   "metadata": {},
   "outputs": [],
   "source": [
    "CV_COUNTS = 3"
   ]
  },
  {
   "cell_type": "code",
   "execution_count": 3,
   "metadata": {},
   "outputs": [],
   "source": [
    "import random\n",
    "np.random.seed(42)"
   ]
  },
  {
   "cell_type": "code",
   "execution_count": 4,
   "metadata": {},
   "outputs": [
    {
     "data": {
      "text/html": [
       "<div>\n",
       "<style scoped>\n",
       "    .dataframe tbody tr th:only-of-type {\n",
       "        vertical-align: middle;\n",
       "    }\n",
       "\n",
       "    .dataframe tbody tr th {\n",
       "        vertical-align: top;\n",
       "    }\n",
       "\n",
       "    .dataframe thead th {\n",
       "        text-align: right;\n",
       "    }\n",
       "</style>\n",
       "<table border=\"1\" class=\"dataframe\">\n",
       "  <thead>\n",
       "    <tr style=\"text-align: right;\">\n",
       "      <th></th>\n",
       "      <th>text</th>\n",
       "      <th>toxic</th>\n",
       "    </tr>\n",
       "  </thead>\n",
       "  <tbody>\n",
       "    <tr>\n",
       "      <th>0</th>\n",
       "      <td>Explanation\\nWhy the edits made under my usern...</td>\n",
       "      <td>0</td>\n",
       "    </tr>\n",
       "    <tr>\n",
       "      <th>1</th>\n",
       "      <td>D'aww! He matches this background colour I'm s...</td>\n",
       "      <td>0</td>\n",
       "    </tr>\n",
       "    <tr>\n",
       "      <th>2</th>\n",
       "      <td>Hey man, I'm really not trying to edit war. It...</td>\n",
       "      <td>0</td>\n",
       "    </tr>\n",
       "    <tr>\n",
       "      <th>3</th>\n",
       "      <td>\"\\nMore\\nI can't make any real suggestions on ...</td>\n",
       "      <td>0</td>\n",
       "    </tr>\n",
       "    <tr>\n",
       "      <th>4</th>\n",
       "      <td>You, sir, are my hero. Any chance you remember...</td>\n",
       "      <td>0</td>\n",
       "    </tr>\n",
       "  </tbody>\n",
       "</table>\n",
       "</div>"
      ],
      "text/plain": [
       "                                                text  toxic\n",
       "0  Explanation\\nWhy the edits made under my usern...      0\n",
       "1  D'aww! He matches this background colour I'm s...      0\n",
       "2  Hey man, I'm really not trying to edit war. It...      0\n",
       "3  \"\\nMore\\nI can't make any real suggestions on ...      0\n",
       "4  You, sir, are my hero. Any chance you remember...      0"
      ]
     },
     "execution_count": 4,
     "metadata": {},
     "output_type": "execute_result"
    }
   ],
   "source": [
    "data = pd.read_csv('/datasets/toxic_comments.csv', index_col=[0])\n",
    "(data.head())"
   ]
  },
  {
   "cell_type": "code",
   "execution_count": 5,
   "metadata": {},
   "outputs": [
    {
     "name": "stdout",
     "output_type": "stream",
     "text": [
      "<class 'pandas.core.frame.DataFrame'>\n",
      "Int64Index: 159292 entries, 0 to 159450\n",
      "Data columns (total 2 columns):\n",
      " #   Column  Non-Null Count   Dtype \n",
      "---  ------  --------------   ----- \n",
      " 0   text    159292 non-null  object\n",
      " 1   toxic   159292 non-null  int64 \n",
      "dtypes: int64(1), object(1)\n",
      "memory usage: 3.6+ MB\n"
     ]
    }
   ],
   "source": [
    "data.info()"
   ]
  },
  {
   "cell_type": "code",
   "execution_count": 6,
   "metadata": {},
   "outputs": [
    {
     "data": {
      "text/plain": [
       "0"
      ]
     },
     "execution_count": 6,
     "metadata": {},
     "output_type": "execute_result"
    }
   ],
   "source": [
    "data.duplicated().sum()"
   ]
  },
  {
   "cell_type": "code",
   "execution_count": 7,
   "metadata": {},
   "outputs": [
    {
     "data": {
      "text/plain": [
       "text     0\n",
       "toxic    0\n",
       "dtype: int64"
      ]
     },
     "execution_count": 7,
     "metadata": {},
     "output_type": "execute_result"
    }
   ],
   "source": [
    "data.isna().sum()"
   ]
  },
  {
   "cell_type": "code",
   "execution_count": 8,
   "metadata": {},
   "outputs": [
    {
     "data": {
      "text/html": [
       "<div>\n",
       "<style scoped>\n",
       "    .dataframe tbody tr th:only-of-type {\n",
       "        vertical-align: middle;\n",
       "    }\n",
       "\n",
       "    .dataframe tbody tr th {\n",
       "        vertical-align: top;\n",
       "    }\n",
       "\n",
       "    .dataframe thead th {\n",
       "        text-align: right;\n",
       "    }\n",
       "</style>\n",
       "<table border=\"1\" class=\"dataframe\">\n",
       "  <thead>\n",
       "    <tr style=\"text-align: right;\">\n",
       "      <th></th>\n",
       "      <th>text</th>\n",
       "      <th>toxic</th>\n",
       "    </tr>\n",
       "  </thead>\n",
       "  <tbody>\n",
       "    <tr>\n",
       "      <th>31055</th>\n",
       "      <td>Sometime back, I just happened to log on to ww...</td>\n",
       "      <td>0</td>\n",
       "    </tr>\n",
       "    <tr>\n",
       "      <th>102929</th>\n",
       "      <td>\"\\n\\nThe latest edit is much better, don't mak...</td>\n",
       "      <td>0</td>\n",
       "    </tr>\n",
       "    <tr>\n",
       "      <th>67385</th>\n",
       "      <td>\" October 2007 (UTC)\\n\\nI would think you'd be...</td>\n",
       "      <td>0</td>\n",
       "    </tr>\n",
       "    <tr>\n",
       "      <th>81167</th>\n",
       "      <td>Thanks for the tip on the currency translation...</td>\n",
       "      <td>0</td>\n",
       "    </tr>\n",
       "    <tr>\n",
       "      <th>90182</th>\n",
       "      <td>I would argue that if content on the Con in co...</td>\n",
       "      <td>0</td>\n",
       "    </tr>\n",
       "  </tbody>\n",
       "</table>\n",
       "</div>"
      ],
      "text/plain": [
       "                                                     text  toxic\n",
       "31055   Sometime back, I just happened to log on to ww...      0\n",
       "102929  \"\\n\\nThe latest edit is much better, don't mak...      0\n",
       "67385   \" October 2007 (UTC)\\n\\nI would think you'd be...      0\n",
       "81167   Thanks for the tip on the currency translation...      0\n",
       "90182   I would argue that if content on the Con in co...      0"
      ]
     },
     "execution_count": 8,
     "metadata": {},
     "output_type": "execute_result"
    }
   ],
   "source": [
    "data.sample(n=5)"
   ]
  },
  {
   "cell_type": "markdown",
   "metadata": {},
   "source": [
    "Проведем лемматизацию и отчистим тексты от лишних символов."
   ]
  },
  {
   "cell_type": "code",
   "execution_count": 9,
   "metadata": {},
   "outputs": [
    {
     "name": "stderr",
     "output_type": "stream",
     "text": [
      "[nltk_data] Downloading package averaged_perceptron_tagger to\n",
      "[nltk_data]     /home/jovyan/nltk_data...\n",
      "[nltk_data]   Package averaged_perceptron_tagger is already up-to-\n",
      "[nltk_data]       date!\n"
     ]
    },
    {
     "data": {
      "text/plain": [
       "True"
      ]
     },
     "execution_count": 9,
     "metadata": {},
     "output_type": "execute_result"
    }
   ],
   "source": [
    "import nltk\n",
    "nltk.download('averaged_perceptron_tagger')"
   ]
  },
  {
   "cell_type": "code",
   "execution_count": 10,
   "metadata": {},
   "outputs": [
    {
     "name": "stdout",
     "output_type": "stream",
     "text": [
      "CPU times: user 4.54 s, sys: 61.9 ms, total: 4.6 s\n",
      "Wall time: 4.61 s\n"
     ]
    }
   ],
   "source": [
    "%%time\n",
    "def clear_text(text):\n",
    "    text = text.lower()\n",
    "    text = re.sub(r'[^a-zA-Z]', ' ', text)   \n",
    "    text = ' '.join(text.split())\n",
    "    return text\n",
    "\n",
    "data['text'] = data['text'].apply(clear_text) "
   ]
  },
  {
   "cell_type": "code",
   "execution_count": 11,
   "metadata": {},
   "outputs": [
    {
     "data": {
      "application/vnd.jupyter.widget-view+json": {
       "model_id": "0d1d9b404a5c490796853a4a95ef4c7a",
       "version_major": 2,
       "version_minor": 0
      },
      "text/plain": [
       "  0%|          | 0/159292 [00:00<?, ?it/s]"
      ]
     },
     "metadata": {},
     "output_type": "display_data"
    },
    {
     "name": "stdout",
     "output_type": "stream",
     "text": [
      "CPU times: user 19min 15s, sys: 1min 54s, total: 21min 9s\n",
      "Wall time: 21min 39s\n"
     ]
    }
   ],
   "source": [
    "%%time\n",
    "def get_wordnet(word):\n",
    "    tag = nltk.pos_tag([word])[0][1][0].upper()\n",
    "    tag_dict = {\"J\": wordnet.ADJ,               \n",
    "                \"N\": wordnet.NOUN,              \n",
    "                \"V\": wordnet.VERB,              \n",
    "                \"R\": wordnet.ADV                \n",
    "               }  \n",
    "    return tag_dict.get(tag, wordnet.NOUN)\n",
    "\n",
    "lemmatizer = WordNetLemmatizer()\n",
    "\n",
    "def lemm_text(text):\n",
    "    text = [lemmatizer.lemmatize(t, get_wordnet(t)) for t in nltk.word_tokenize(text)]\n",
    "    return ' '.join(text)\n",
    "\n",
    "data['text'] = data['text'].progress_apply(lemm_text) "
   ]
  },
  {
   "cell_type": "code",
   "execution_count": 12,
   "metadata": {},
   "outputs": [
    {
     "data": {
      "text/html": [
       "<div>\n",
       "<style scoped>\n",
       "    .dataframe tbody tr th:only-of-type {\n",
       "        vertical-align: middle;\n",
       "    }\n",
       "\n",
       "    .dataframe tbody tr th {\n",
       "        vertical-align: top;\n",
       "    }\n",
       "\n",
       "    .dataframe thead th {\n",
       "        text-align: right;\n",
       "    }\n",
       "</style>\n",
       "<table border=\"1\" class=\"dataframe\">\n",
       "  <thead>\n",
       "    <tr style=\"text-align: right;\">\n",
       "      <th></th>\n",
       "      <th>text</th>\n",
       "      <th>toxic</th>\n",
       "    </tr>\n",
       "  </thead>\n",
       "  <tbody>\n",
       "    <tr>\n",
       "      <th>17234</th>\n",
       "      <td>murrumbidgee mean track go down here a very go...</td>\n",
       "      <td>0</td>\n",
       "    </tr>\n",
       "    <tr>\n",
       "      <th>65584</th>\n",
       "      <td>you just change the article after discussion d...</td>\n",
       "      <td>0</td>\n",
       "    </tr>\n",
       "    <tr>\n",
       "      <th>125277</th>\n",
       "      <td>there i get a little very little info on basic...</td>\n",
       "      <td>0</td>\n",
       "    </tr>\n",
       "    <tr>\n",
       "      <th>75724</th>\n",
       "      <td>block i have temporarily block your account fo...</td>\n",
       "      <td>0</td>\n",
       "    </tr>\n",
       "    <tr>\n",
       "      <th>14311</th>\n",
       "      <td>thanks for experiment with the page bonzi budd...</td>\n",
       "      <td>0</td>\n",
       "    </tr>\n",
       "  </tbody>\n",
       "</table>\n",
       "</div>"
      ],
      "text/plain": [
       "                                                     text  toxic\n",
       "17234   murrumbidgee mean track go down here a very go...      0\n",
       "65584   you just change the article after discussion d...      0\n",
       "125277  there i get a little very little info on basic...      0\n",
       "75724   block i have temporarily block your account fo...      0\n",
       "14311   thanks for experiment with the page bonzi budd...      0"
      ]
     },
     "execution_count": 12,
     "metadata": {},
     "output_type": "execute_result"
    }
   ],
   "source": [
    "data.sample(n=5)"
   ]
  },
  {
   "cell_type": "markdown",
   "metadata": {},
   "source": [
    "Список стоп-слов."
   ]
  },
  {
   "cell_type": "code",
   "execution_count": 13,
   "metadata": {},
   "outputs": [],
   "source": [
    "stopwords = set(nltk_stopwords.words('english'))"
   ]
  },
  {
   "cell_type": "markdown",
   "metadata": {},
   "source": [
    "Проверим баланс классов."
   ]
  },
  {
   "cell_type": "code",
   "execution_count": 14,
   "metadata": {},
   "outputs": [
    {
     "name": "stdout",
     "output_type": "stream",
     "text": [
      "0    0.898388\n",
      "1    0.101612\n",
      "Name: toxic, dtype: float64\n"
     ]
    },
    {
     "data": {
      "text/plain": [
       "<AxesSubplot:>"
      ]
     },
     "execution_count": 14,
     "metadata": {},
     "output_type": "execute_result"
    },
    {
     "data": {
      "image/png": "[encoded data removed]",
      "text/plain": [
       "<Figure size 432x288 with 1 Axes>"
      ]
     },
     "metadata": {
      "needs_background": "light"
     },
     "output_type": "display_data"
    }
   ],
   "source": [
    "class_toxic = data['toxic'].value_counts(normalize=True)\n",
    "print(class_toxic)\n",
    "class_toxic.plot(kind='bar')"
   ]
  },
  {
   "cell_type": "markdown",
   "metadata": {},
   "source": [
    "Мы наблюдаем жуткий дисбаланс. Далее сделаем веса классов сбалансированными с помощью 'class_weight='balanced'."
   ]
  },
  {
   "cell_type": "markdown",
   "metadata": {},
   "source": [
    "Разделим выборки на тестовую и обучающую 80/20."
   ]
  },
  {
   "cell_type": "code",
   "execution_count": 15,
   "metadata": {},
   "outputs": [],
   "source": [
    "target =data['toxic']\n",
    "features = data.drop(['toxic'], axis=1)\n",
    "\n",
    "features_train, features_test,  target_train, target_test = train_test_split(features, target, test_size=0.2, stratify=target, random_state=42)"
   ]
  },
  {
   "cell_type": "code",
   "execution_count": 16,
   "metadata": {},
   "outputs": [
    {
     "name": "stdout",
     "output_type": "stream",
     "text": [
      "(127433, 1)\n",
      "(31859, 1)\n"
     ]
    }
   ],
   "source": [
    "print(features_train.shape)\n",
    "print(features_test.shape)"
   ]
  },
  {
   "cell_type": "code",
   "execution_count": 17,
   "metadata": {},
   "outputs": [
    {
     "name": "stdout",
     "output_type": "stream",
     "text": [
      "(127433,)\n",
      "(31859,)\n"
     ]
    }
   ],
   "source": [
    "print(target_train.shape)\n",
    "print(target_test.shape)"
   ]
  },
  {
   "cell_type": "markdown",
   "metadata": {},
   "source": [
    "Проведем изменения балансов классов."
   ]
  },
  {
   "cell_type": "code",
   "execution_count": 18,
   "metadata": {},
   "outputs": [
    {
     "name": "stdout",
     "output_type": "stream",
     "text": [
      "(127433, 132080)\n",
      "(31859, 132080)\n"
     ]
    }
   ],
   "source": [
    "count_tf_idf = TfidfVectorizer(stop_words=stopwords)\n",
    "\n",
    "features_train_idf = count_tf_idf.fit_transform(features_train['text'])\n",
    "features_test_idf = count_tf_idf.transform(features_test['text'])\n",
    "\n",
    "print(features_train_idf.shape)\n",
    "print(features_test_idf.shape)"
   ]
  },
  {
   "cell_type": "code",
   "execution_count": 19,
   "metadata": {},
   "outputs": [
    {
     "name": "stdout",
     "output_type": "stream",
     "text": [
      "F1 без балансировки 0.7068430317934163\n",
      "CPU times: user 1min 3s, sys: 1min 3s, total: 2min 7s\n",
      "Wall time: 2min 8s\n"
     ]
    }
   ],
   "source": [
    "%%time\n",
    "\n",
    "model = LogisticRegression(random_state=42)\n",
    "f1_original = cross_val_score(model, \n",
    "                      features_train_idf, \n",
    "                      target_train, \n",
    "                      cv=CV_COUNTS,\n",
    "                      scoring='f1').mean()\n",
    "\n",
    "print('F1 без балансировки', f1_original)"
   ]
  },
  {
   "cell_type": "code",
   "execution_count": 20,
   "metadata": {},
   "outputs": [
    {
     "name": "stdout",
     "output_type": "stream",
     "text": [
      "F1 с балансированными классами 0.7442155376243416\n",
      "CPU times: user 49.9 s, sys: 50.3 s, total: 1min 40s\n",
      "Wall time: 1min 40s\n"
     ]
    }
   ],
   "source": [
    "%%time\n",
    "\n",
    "model = LogisticRegression(class_weight='balanced', random_state=42)\n",
    "f1_ballanced = cross_val_score(model, \n",
    "                      features_train_idf, \n",
    "                      target_train, \n",
    "                      cv=CV_COUNTS, \n",
    "                      scoring='f1').mean()\n",
    "\n",
    "print('F1 с балансированными классами', f1_ballanced)"
   ]
  },
  {
   "cell_type": "markdown",
   "metadata": {},
   "source": [
    "F1 метрика значительно стала больше, дальше будет использовать этот метод балансирования."
   ]
  },
  {
   "cell_type": "markdown",
   "metadata": {},
   "source": [
    "## Обучение"
   ]
  },
  {
   "cell_type": "markdown",
   "metadata": {},
   "source": [
    "Возьмем такие модели:\n",
    "- LogisticRegression  \n",
    "- LightGBM \n",
    "- CatBoost"
   ]
  },
  {
   "cell_type": "code",
   "execution_count": 21,
   "metadata": {
    "scrolled": true
   },
   "outputs": [
    {
     "name": "stdout",
     "output_type": "stream",
     "text": [
      "{'model__C': 10, 'model__class_weight': 'balanced', 'model__max_iter': 200, 'model__random_state': 42}\n",
      "0.7710488923335953\n",
      "Pipeline(steps=[('tfidf',\n",
      "                 TfidfVectorizer(ngram_range=(1, 3),\n",
      "                                 stop_words={'a', 'about', 'above', 'after',\n",
      "                                             'again', 'against', 'ain', 'all',\n",
      "                                             'am', 'an', 'and', 'any', 'are',\n",
      "                                             'aren', \"aren't\", 'as', 'at', 'be',\n",
      "                                             'because', 'been', 'before',\n",
      "                                             'being', 'below', 'between',\n",
      "                                             'both', 'but', 'by', 'can',\n",
      "                                             'couldn', \"couldn't\", ...},\n",
      "                                 sublinear_tf=True)),\n",
      "                ('model',\n",
      "                 LogisticRegression(C=10, class_weight='balanced', max_iter=200,\n",
      "                                    random_state=42))])\n",
      "CPU times: user 22min 39s, sys: 8min 46s, total: 31min 25s\n",
      "Wall time: 31min 27s\n"
     ]
    }
   ],
   "source": [
    "%%time\n",
    "\n",
    "params={'model__C': [0.1, 1, 10],\n",
    "       'model__class_weight': ['balanced'],\n",
    "       'model__random_state': [42],\n",
    "       'model__max_iter': [200]}\n",
    "\n",
    "pipeline = Pipeline([\n",
    "    ('tfidf', TfidfVectorizer(ngram_range=(1,3), sublinear_tf=True, stop_words=stopwords)),\n",
    "    ('model', LogisticRegression())\n",
    "])\n",
    "\n",
    "grid_lr = GridSearchCV(estimator=pipeline, param_grid=params, cv=CV_COUNTS, scoring='f1', n_jobs=-1)\n",
    "grid_lr.fit(features_train['text'], target_train)\n",
    "lr_best_paramms = grid_lr.best_params_\n",
    "\n",
    "print(lr_best_paramms)\n",
    "print(grid_lr.best_score_)\n",
    "print(grid_lr.best_estimator_)"
   ]
  },
  {
   "cell_type": "code",
   "execution_count": 22,
   "metadata": {},
   "outputs": [
    {
     "name": "stdout",
     "output_type": "stream",
     "text": [
      "F1 на тренировочной LogisticRegression 0.9890722909980131\n",
      "CPU times: user 19.9 s, sys: 122 ms, total: 20 s\n",
      "Wall time: 20 s\n"
     ]
    }
   ],
   "source": [
    "%%time\n",
    "best_model = grid_lr.best_estimator_\n",
    "target_predict = best_model.predict(features_train['text'])\n",
    "f1_train_LR = f1_score(target_train, target_predict)\n",
    "\n",
    "print('F1 на тренировочной LogisticRegression', f1_train_LR)"
   ]
  },
  {
   "cell_type": "code",
   "execution_count": 23,
   "metadata": {},
   "outputs": [
    {
     "name": "stdout",
     "output_type": "stream",
     "text": [
      "{'model__class_weights': (1, 1), 'model__iterations': 200, 'model__random_state': 42, 'model__verbose': False}\n",
      "0.7393006726823788\n",
      "Pipeline(steps=[('tfidf',\n",
      "                 TfidfVectorizer(stop_words={'a', 'about', 'above', 'after',\n",
      "                                             'again', 'against', 'ain', 'all',\n",
      "                                             'am', 'an', 'and', 'any', 'are',\n",
      "                                             'aren', \"aren't\", 'as', 'at', 'be',\n",
      "                                             'because', 'been', 'before',\n",
      "                                             'being', 'below', 'between',\n",
      "                                             'both', 'but', 'by', 'can',\n",
      "                                             'couldn', \"couldn't\", ...})),\n",
      "                ('model',\n",
      "                 <catboost.core.CatBoostClassifier object at 0x7facaa534d90>)])\n",
      "CPU times: user 40min 5s, sys: 14.2 s, total: 40min 19s\n",
      "Wall time: 40min 23s\n"
     ]
    }
   ],
   "source": [
    "%%time\n",
    "params = {'model__verbose': [False],\n",
    "        'model__iterations': [200],\n",
    "        'model__random_state': [42],\n",
    "        'model__class_weights':([(1, 1), (1, 11)])}\n",
    "        \n",
    "pipeline = Pipeline([('tfidf', TfidfVectorizer(stop_words=stopwords)),\n",
    "                     ('model', CatBoostClassifier())])\n",
    "              \n",
    "cb_grid = GridSearchCV(estimator=pipeline, param_grid=params, cv=CV_COUNTS, scoring='f1', n_jobs=-1)\n",
    "cb_grid.fit(features_train['text'], target_train)\n",
    "cb_best_paramms = cb_grid.best_params_\n",
    "\n",
    "print(cb_best_paramms)\n",
    "print(cb_grid.best_score_)\n",
    "print(cb_grid.best_estimator_)"
   ]
  },
  {
   "cell_type": "code",
   "execution_count": 24,
   "metadata": {},
   "outputs": [
    {
     "name": "stdout",
     "output_type": "stream",
     "text": [
      "F1 на тренировочной LogisticRegression 0.7850149760829719\n",
      "CPU times: user 6.45 s, sys: 22 ms, total: 6.47 s\n",
      "Wall time: 6.48 s\n"
     ]
    }
   ],
   "source": [
    "%%time\n",
    "cb_model = cb_grid.best_estimator_\n",
    "target_predict = cb_model.predict(features_train['text'])\n",
    "f1_train_CB = f1_score(target_train, target_predict)\n",
    "\n",
    "print('F1 на тренировочной LogisticRegression', f1_train_CB)"
   ]
  },
  {
   "cell_type": "markdown",
   "metadata": {},
   "source": [
    "Логистическая регрессия оказалось самой шустрой и метрика F1 на тренировочной выборке равна 0.98. Значит ее и опробуем на тестовой выборке. "
   ]
  },
  {
   "cell_type": "code",
   "execution_count": 25,
   "metadata": {},
   "outputs": [
    {
     "name": "stdout",
     "output_type": "stream",
     "text": [
      "F1 на тестовой LogisticRegression 0.7807294011706439\n",
      "CPU times: user 4.17 s, sys: 0 ns, total: 4.17 s\n",
      "Wall time: 4.18 s\n"
     ]
    }
   ],
   "source": [
    "%%time\n",
    "\n",
    "target_predict = best_model.predict(features_test['text'])\n",
    "f1_test_LR = f1_score(target_test, target_predict)\n",
    "\n",
    "print('F1 на тестовой LogisticRegression', f1_test_LR)"
   ]
  },
  {
   "cell_type": "code",
   "execution_count": 26,
   "metadata": {},
   "outputs": [
    {
     "name": "stdout",
     "output_type": "stream",
     "text": [
      "Precision: 0.7591943957968477\n",
      "Accuracy: 0.9541416868074956\n"
     ]
    }
   ],
   "source": [
    "print('Precision:', precision_score(target_test, target_predict))\n",
    "print('Accuracy:', accuracy_score(target_test, target_predict))"
   ]
  },
  {
   "cell_type": "markdown",
   "metadata": {},
   "source": [
    "## Выводы"
   ]
  },
  {
   "cell_type": "markdown",
   "metadata": {},
   "source": [
    "Лучше всего подошла модель логистической регрессии, ее метрика F1 равна 0,78 на тестовой выборке. Также эта модель обладает большими показателями precision (точности) и accuracy, значит именно токсичные комментарии хорошо находятся этой моделью. "
   ]
  },
  {
   "cell_type": "markdown",
   "metadata": {},
   "source": [
    "Загрузили данные и провели их предобработку (лемматизацию, очитску текстов, удаление лишнего). Обучили две-три модели с разными гиперпараметрами, наилучшую подходящую модель проверили на тестовой выборке. "
   ]
  },
  {
   "cell_type": "code",
   "execution_count": null,
   "metadata": {},
   "outputs": [],
   "source": []
  }
 ],
 "metadata": {
  "ExecuteTimeLog": [
   {
    "duration": 2452,
    "start_time": "2023-02-23T09:43:18.991Z"
   },
   {
    "duration": 8,
    "start_time": "2023-02-23T09:44:17.489Z"
   },
   {
    "duration": 3500,
    "start_time": "2023-02-23T09:47:24.878Z"
   },
   {
    "duration": 772,
    "start_time": "2023-02-23T09:47:49.560Z"
   },
   {
    "duration": 34,
    "start_time": "2023-02-23T09:52:49.025Z"
   },
   {
    "duration": 209,
    "start_time": "2023-02-23T09:54:24.796Z"
   },
   {
    "duration": 26,
    "start_time": "2023-02-23T09:55:08.742Z"
   },
   {
    "duration": 2758,
    "start_time": "2023-02-23T10:06:17.433Z"
   },
   {
    "duration": 1948,
    "start_time": "2023-02-23T10:07:35.597Z"
   },
   {
    "duration": 3473,
    "start_time": "2023-02-23T10:07:37.548Z"
   },
   {
    "duration": 30,
    "start_time": "2023-02-23T10:07:41.023Z"
   },
   {
    "duration": 221,
    "start_time": "2023-02-23T10:07:41.055Z"
   },
   {
    "duration": 27,
    "start_time": "2023-02-23T10:07:41.278Z"
   },
   {
    "duration": 2779,
    "start_time": "2023-02-23T10:07:41.306Z"
   },
   {
    "duration": 136,
    "start_time": "2023-02-23T10:07:44.087Z"
   },
   {
    "duration": 1904,
    "start_time": "2023-02-23T10:09:10.583Z"
   },
   {
    "duration": 3401,
    "start_time": "2023-02-23T10:09:12.488Z"
   },
   {
    "duration": 33,
    "start_time": "2023-02-23T10:09:15.890Z"
   },
   {
    "duration": 243,
    "start_time": "2023-02-23T10:09:15.924Z"
   },
   {
    "duration": 26,
    "start_time": "2023-02-23T10:09:16.169Z"
   },
   {
    "duration": 2904,
    "start_time": "2023-02-23T10:09:16.196Z"
   },
   {
    "duration": 2870,
    "start_time": "2023-02-23T10:19:11.872Z"
   },
   {
    "duration": 7,
    "start_time": "2023-02-23T10:21:46.755Z"
   },
   {
    "duration": 1882,
    "start_time": "2023-02-23T10:29:41.789Z"
   },
   {
    "duration": 749,
    "start_time": "2023-02-23T10:29:43.674Z"
   },
   {
    "duration": 33,
    "start_time": "2023-02-23T10:29:44.427Z"
   },
   {
    "duration": 228,
    "start_time": "2023-02-23T10:29:44.461Z"
   },
   {
    "duration": 38,
    "start_time": "2023-02-23T10:29:44.691Z"
   },
   {
    "duration": 1260,
    "start_time": "2023-02-23T10:29:44.731Z"
   },
   {
    "duration": 8,
    "start_time": "2023-02-23T10:29:45.993Z"
   },
   {
    "duration": 133838,
    "start_time": "2023-02-23T10:30:18.080Z"
   },
   {
    "duration": 1383,
    "start_time": "2023-02-23T10:32:57.471Z"
   },
   {
    "duration": 9,
    "start_time": "2023-02-23T10:33:15.746Z"
   },
   {
    "duration": 2002,
    "start_time": "2023-02-23T10:35:47.602Z"
   },
   {
    "duration": 862,
    "start_time": "2023-02-23T10:35:49.606Z"
   },
   {
    "duration": 38,
    "start_time": "2023-02-23T10:35:50.470Z"
   },
   {
    "duration": 264,
    "start_time": "2023-02-23T10:35:50.510Z"
   },
   {
    "duration": 24,
    "start_time": "2023-02-23T10:35:50.777Z"
   },
   {
    "duration": 132469,
    "start_time": "2023-02-23T10:35:50.803Z"
   },
   {
    "duration": 11,
    "start_time": "2023-02-23T10:38:03.275Z"
   },
   {
    "duration": 1905,
    "start_time": "2023-02-23T10:40:23.408Z"
   },
   {
    "duration": 923,
    "start_time": "2023-02-23T10:40:25.315Z"
   },
   {
    "duration": 32,
    "start_time": "2023-02-23T10:40:26.240Z"
   },
   {
    "duration": 280,
    "start_time": "2023-02-23T10:40:26.274Z"
   },
   {
    "duration": 33,
    "start_time": "2023-02-23T10:40:26.557Z"
   },
   {
    "duration": 130973,
    "start_time": "2023-02-23T10:40:26.592Z"
   },
   {
    "duration": 10,
    "start_time": "2023-02-23T10:42:37.567Z"
   },
   {
    "duration": 8,
    "start_time": "2023-02-23T11:12:38.005Z"
   },
   {
    "duration": 121,
    "start_time": "2023-02-23T11:14:06.738Z"
   },
   {
    "duration": 113,
    "start_time": "2023-02-23T11:14:39.879Z"
   },
   {
    "duration": 181,
    "start_time": "2023-02-23T11:14:48.727Z"
   },
   {
    "duration": 6,
    "start_time": "2023-02-23T11:26:57.271Z"
   },
   {
    "duration": 39,
    "start_time": "2023-02-23T11:47:42.971Z"
   },
   {
    "duration": 12975,
    "start_time": "2023-02-23T11:48:34.694Z"
   },
   {
    "duration": 3,
    "start_time": "2023-02-23T11:52:35.490Z"
   },
   {
    "duration": 190,
    "start_time": "2023-02-23T12:09:15.044Z"
   },
   {
    "duration": 174,
    "start_time": "2023-02-23T12:10:09.287Z"
   },
   {
    "duration": 106798,
    "start_time": "2023-02-23T12:10:14.870Z"
   },
   {
    "duration": 103322,
    "start_time": "2023-02-23T12:12:50.906Z"
   },
   {
    "duration": 69117,
    "start_time": "2023-02-23T12:15:33.651Z"
   },
   {
    "duration": 72675,
    "start_time": "2023-02-23T12:17:13.258Z"
   },
   {
    "duration": 9,
    "start_time": "2023-02-23T12:34:57.657Z"
   },
   {
    "duration": 14,
    "start_time": "2023-02-23T12:38:38.531Z"
   },
   {
    "duration": 5,
    "start_time": "2023-02-23T12:40:58.836Z"
   },
   {
    "duration": 92,
    "start_time": "2023-02-23T12:43:20.452Z"
   },
   {
    "duration": 5,
    "start_time": "2023-02-23T12:43:23.690Z"
   },
   {
    "duration": 11,
    "start_time": "2023-02-23T12:52:04.855Z"
   },
   {
    "duration": 264333,
    "start_time": "2023-02-23T12:52:33.305Z"
   },
   {
    "duration": 275662,
    "start_time": "2023-02-23T12:58:15.572Z"
   },
   {
    "duration": 41802,
    "start_time": "2023-02-23T13:03:49.680Z"
   },
   {
    "duration": 44,
    "start_time": "2023-02-23T13:57:52.824Z"
   },
   {
    "duration": 11440,
    "start_time": "2023-02-23T13:57:54.609Z"
   },
   {
    "duration": 1948,
    "start_time": "2023-02-23T13:58:16.823Z"
   },
   {
    "duration": 788,
    "start_time": "2023-02-23T13:58:18.773Z"
   },
   {
    "duration": 43,
    "start_time": "2023-02-23T13:58:19.563Z"
   },
   {
    "duration": 316,
    "start_time": "2023-02-23T13:58:19.609Z"
   },
   {
    "duration": 30,
    "start_time": "2023-02-23T13:58:19.927Z"
   },
   {
    "duration": 129502,
    "start_time": "2023-02-23T13:58:19.959Z"
   },
   {
    "duration": 9,
    "start_time": "2023-02-23T14:00:29.463Z"
   },
   {
    "duration": 8,
    "start_time": "2023-02-23T14:00:29.474Z"
   },
   {
    "duration": 123,
    "start_time": "2023-02-23T14:00:29.483Z"
   },
   {
    "duration": 56,
    "start_time": "2023-02-23T14:00:29.608Z"
   },
   {
    "duration": 12244,
    "start_time": "2023-02-23T14:00:29.666Z"
   },
   {
    "duration": 3,
    "start_time": "2023-02-23T14:00:41.911Z"
   },
   {
    "duration": 114415,
    "start_time": "2023-02-23T14:00:41.916Z"
   },
   {
    "duration": 69203,
    "start_time": "2023-02-23T14:02:36.334Z"
   },
   {
    "duration": 294049,
    "start_time": "2023-02-23T14:03:45.540Z"
   },
   {
    "duration": 51124,
    "start_time": "2023-02-23T14:08:39.635Z"
   },
   {
    "duration": 211,
    "start_time": "2023-02-23T14:09:30.762Z"
   },
   {
    "duration": 45,
    "start_time": "2023-02-23T14:16:04.631Z"
   },
   {
    "duration": 43,
    "start_time": "2023-02-23T14:16:13.848Z"
   },
   {
    "duration": 1300942,
    "start_time": "2023-02-23T14:17:01.282Z"
   },
   {
    "duration": 109,
    "start_time": "2023-02-23T14:38:50.295Z"
   },
   {
    "duration": 100,
    "start_time": "2023-02-23T14:39:10.112Z"
   },
   {
    "duration": 717139,
    "start_time": "2023-02-23T14:39:26.466Z"
   },
   {
    "duration": 6,
    "start_time": "2023-02-23T14:51:23.607Z"
   },
   {
    "duration": 2414,
    "start_time": "2023-02-23T14:59:16.398Z"
   },
   {
    "duration": 1253,
    "start_time": "2023-02-23T14:59:18.815Z"
   },
   {
    "duration": 39,
    "start_time": "2023-02-23T14:59:20.071Z"
   },
   {
    "duration": 360,
    "start_time": "2023-02-23T14:59:20.112Z"
   },
   {
    "duration": 37,
    "start_time": "2023-02-23T14:59:20.475Z"
   },
   {
    "duration": 128174,
    "start_time": "2023-02-23T14:59:20.515Z"
   },
   {
    "duration": 9,
    "start_time": "2023-02-23T15:01:28.691Z"
   },
   {
    "duration": 11,
    "start_time": "2023-02-23T15:01:28.703Z"
   },
   {
    "duration": 156,
    "start_time": "2023-02-23T15:01:28.716Z"
   },
   {
    "duration": 44,
    "start_time": "2023-02-23T15:01:28.874Z"
   },
   {
    "duration": 12079,
    "start_time": "2023-02-23T15:01:28.928Z"
   },
   {
    "duration": 2,
    "start_time": "2023-02-23T15:01:41.009Z"
   },
   {
    "duration": 117623,
    "start_time": "2023-02-23T15:01:41.013Z"
   },
   {
    "duration": 68300,
    "start_time": "2023-02-23T15:03:38.642Z"
   },
   {
    "duration": 293098,
    "start_time": "2023-02-23T15:04:46.944Z"
   },
   {
    "duration": 48992,
    "start_time": "2023-02-23T15:09:40.052Z"
   },
   {
    "duration": 1723096,
    "start_time": "2023-02-23T15:10:29.046Z"
   },
   {
    "duration": 789447,
    "start_time": "2023-02-23T15:39:12.144Z"
   },
   {
    "duration": 3255925,
    "start_time": "2023-02-23T15:52:28.436Z"
   },
   {
    "duration": 44171,
    "start_time": "2023-02-23T16:49:29.759Z"
   },
   {
    "duration": 58,
    "start_time": "2023-02-23T16:50:27.324Z"
   },
   {
    "duration": 46342,
    "start_time": "2023-02-23T16:50:59.699Z"
   },
   {
    "duration": 3,
    "start_time": "2023-02-23T16:54:37.291Z"
   },
   {
    "duration": 15,
    "start_time": "2023-02-23T16:54:38.791Z"
   },
   {
    "duration": 2128,
    "start_time": "2023-02-23T17:32:00.648Z"
   },
   {
    "duration": 858,
    "start_time": "2023-02-23T17:32:02.778Z"
   },
   {
    "duration": 34,
    "start_time": "2023-02-23T17:32:03.641Z"
   },
   {
    "duration": 245,
    "start_time": "2023-02-23T17:32:03.678Z"
   },
   {
    "duration": 31,
    "start_time": "2023-02-23T17:32:03.924Z"
   },
   {
    "duration": 104244,
    "start_time": "2023-02-23T17:32:03.956Z"
   },
   {
    "duration": 8,
    "start_time": "2023-02-23T17:33:48.202Z"
   },
   {
    "duration": 27,
    "start_time": "2023-02-23T17:33:48.211Z"
   },
   {
    "duration": 119,
    "start_time": "2023-02-23T17:33:48.240Z"
   },
   {
    "duration": 43,
    "start_time": "2023-02-23T17:33:48.362Z"
   },
   {
    "duration": 12048,
    "start_time": "2023-02-23T17:33:48.406Z"
   },
   {
    "duration": 3,
    "start_time": "2023-02-23T17:34:00.456Z"
   },
   {
    "duration": 110083,
    "start_time": "2023-02-23T17:34:00.461Z"
   },
   {
    "duration": 65588,
    "start_time": "2023-02-23T17:35:50.546Z"
   },
   {
    "duration": 279203,
    "start_time": "2023-02-23T17:36:56.136Z"
   },
   {
    "duration": 46595,
    "start_time": "2023-02-23T17:41:35.343Z"
   },
   {
    "duration": 1739702,
    "start_time": "2023-02-23T17:42:21.940Z"
   },
   {
    "duration": 4237583,
    "start_time": "2023-02-23T18:11:21.644Z"
   },
   {
    "duration": 43298,
    "start_time": "2023-02-23T19:21:59.229Z"
   },
   {
    "duration": 21,
    "start_time": "2023-02-23T19:22:42.529Z"
   },
   {
    "duration": 13418,
    "start_time": "2023-02-25T08:52:37.073Z"
   },
   {
    "duration": 12042,
    "start_time": "2023-02-25T08:53:18.185Z"
   },
   {
    "duration": 12264,
    "start_time": "2023-02-25T09:00:30.778Z"
   },
   {
    "duration": 3,
    "start_time": "2023-02-25T09:16:07.216Z"
   },
   {
    "duration": 317,
    "start_time": "2023-02-25T09:16:09.479Z"
   },
   {
    "duration": 4,
    "start_time": "2023-02-25T09:16:20.436Z"
   },
   {
    "duration": 2,
    "start_time": "2023-02-25T09:16:38.877Z"
   },
   {
    "duration": 14071,
    "start_time": "2023-02-25T09:18:23.384Z"
   },
   {
    "duration": 5,
    "start_time": "2023-02-25T09:18:37.457Z"
   },
   {
    "duration": 20,
    "start_time": "2023-02-25T09:18:37.463Z"
   },
   {
    "duration": 2248,
    "start_time": "2023-02-25T09:18:37.485Z"
   },
   {
    "duration": 25,
    "start_time": "2023-02-25T09:18:39.736Z"
   },
   {
    "duration": 228,
    "start_time": "2023-02-25T09:18:39.762Z"
   },
   {
    "duration": 22,
    "start_time": "2023-02-25T09:18:39.992Z"
   },
   {
    "duration": 35,
    "start_time": "2023-02-25T09:18:40.015Z"
   },
   {
    "duration": 390,
    "start_time": "2023-02-25T09:18:40.051Z"
   },
   {
    "duration": 6,
    "start_time": "2023-02-25T09:18:40.442Z"
   },
   {
    "duration": 23,
    "start_time": "2023-02-25T09:18:40.450Z"
   },
   {
    "duration": 108,
    "start_time": "2023-02-25T09:18:40.474Z"
   },
   {
    "duration": 10,
    "start_time": "2023-02-25T09:19:54.780Z"
   },
   {
    "duration": 71,
    "start_time": "2023-02-25T09:20:47.770Z"
   },
   {
    "duration": 52,
    "start_time": "2023-02-25T09:21:17.377Z"
   },
   {
    "duration": 26745,
    "start_time": "2023-02-25T09:22:13.675Z"
   },
   {
    "duration": 13586,
    "start_time": "2023-02-25T09:23:10.280Z"
   },
   {
    "duration": 16408,
    "start_time": "2023-02-25T09:23:23.868Z"
   },
   {
    "duration": 47,
    "start_time": "2023-02-25T09:23:40.278Z"
   },
   {
    "duration": 0,
    "start_time": "2023-02-25T09:23:40.327Z"
   },
   {
    "duration": 0,
    "start_time": "2023-02-25T09:23:40.328Z"
   },
   {
    "duration": 0,
    "start_time": "2023-02-25T09:23:40.329Z"
   },
   {
    "duration": 0,
    "start_time": "2023-02-25T09:23:40.329Z"
   },
   {
    "duration": 0,
    "start_time": "2023-02-25T09:23:40.330Z"
   },
   {
    "duration": 0,
    "start_time": "2023-02-25T09:23:40.331Z"
   },
   {
    "duration": 0,
    "start_time": "2023-02-25T09:23:40.332Z"
   },
   {
    "duration": 0,
    "start_time": "2023-02-25T09:23:40.333Z"
   },
   {
    "duration": 0,
    "start_time": "2023-02-25T09:23:40.334Z"
   },
   {
    "duration": 0,
    "start_time": "2023-02-25T09:23:40.335Z"
   },
   {
    "duration": 0,
    "start_time": "2023-02-25T09:23:40.337Z"
   },
   {
    "duration": 0,
    "start_time": "2023-02-25T09:23:40.338Z"
   },
   {
    "duration": 18858,
    "start_time": "2023-02-25T09:25:11.304Z"
   },
   {
    "duration": 3,
    "start_time": "2023-02-25T09:25:36.836Z"
   },
   {
    "duration": 41,
    "start_time": "2023-02-25T09:25:37.250Z"
   },
   {
    "duration": 12995,
    "start_time": "2023-02-25T09:25:48.488Z"
   },
   {
    "duration": 5,
    "start_time": "2023-02-25T09:26:01.486Z"
   },
   {
    "duration": 769,
    "start_time": "2023-02-25T09:26:04.853Z"
   },
   {
    "duration": 30,
    "start_time": "2023-02-25T09:26:07.881Z"
   },
   {
    "duration": 201,
    "start_time": "2023-02-25T09:26:10.442Z"
   },
   {
    "duration": 24,
    "start_time": "2023-02-25T09:26:12.635Z"
   },
   {
    "duration": 13,
    "start_time": "2023-02-25T09:26:15.392Z"
   },
   {
    "duration": 354,
    "start_time": "2023-02-25T09:26:21.795Z"
   },
   {
    "duration": 15923,
    "start_time": "2023-02-25T09:27:00.691Z"
   },
   {
    "duration": 100,
    "start_time": "2023-02-25T09:27:17.805Z"
   },
   {
    "duration": 19153,
    "start_time": "2023-02-25T09:27:40.241Z"
   },
   {
    "duration": 5,
    "start_time": "2023-02-25T09:27:59.396Z"
   },
   {
    "duration": 7,
    "start_time": "2023-02-25T09:27:59.402Z"
   },
   {
    "duration": 735,
    "start_time": "2023-02-25T09:27:59.410Z"
   },
   {
    "duration": 26,
    "start_time": "2023-02-25T09:28:00.148Z"
   },
   {
    "duration": 210,
    "start_time": "2023-02-25T09:28:00.176Z"
   },
   {
    "duration": 23,
    "start_time": "2023-02-25T09:28:00.388Z"
   },
   {
    "duration": 29,
    "start_time": "2023-02-25T09:28:00.412Z"
   },
   {
    "duration": 370,
    "start_time": "2023-02-25T09:28:00.442Z"
   },
   {
    "duration": 0,
    "start_time": "2023-02-25T09:28:00.814Z"
   },
   {
    "duration": 0,
    "start_time": "2023-02-25T09:28:00.815Z"
   },
   {
    "duration": 0,
    "start_time": "2023-02-25T09:28:00.816Z"
   },
   {
    "duration": 0,
    "start_time": "2023-02-25T09:28:00.817Z"
   },
   {
    "duration": 495,
    "start_time": "2023-02-25T09:28:31.285Z"
   },
   {
    "duration": 390,
    "start_time": "2023-02-25T09:29:34.203Z"
   },
   {
    "duration": 55,
    "start_time": "2023-02-25T09:29:38.485Z"
   },
   {
    "duration": 47,
    "start_time": "2023-02-25T09:29:48.389Z"
   },
   {
    "duration": 98918,
    "start_time": "2023-02-25T09:30:38.893Z"
   },
   {
    "duration": 51,
    "start_time": "2023-02-25T09:32:17.814Z"
   },
   {
    "duration": 13605,
    "start_time": "2023-02-25T09:32:38.280Z"
   },
   {
    "duration": 5,
    "start_time": "2023-02-25T09:32:51.887Z"
   },
   {
    "duration": 17,
    "start_time": "2023-02-25T09:32:51.894Z"
   },
   {
    "duration": 769,
    "start_time": "2023-02-25T09:32:51.913Z"
   },
   {
    "duration": 31,
    "start_time": "2023-02-25T09:32:52.684Z"
   },
   {
    "duration": 227,
    "start_time": "2023-02-25T09:32:52.716Z"
   },
   {
    "duration": 25,
    "start_time": "2023-02-25T09:32:52.947Z"
   },
   {
    "duration": 10,
    "start_time": "2023-02-25T09:32:52.974Z"
   },
   {
    "duration": 138265,
    "start_time": "2023-02-25T09:32:52.985Z"
   },
   {
    "duration": 357,
    "start_time": "2023-02-25T09:35:11.253Z"
   },
   {
    "duration": 0,
    "start_time": "2023-02-25T09:35:11.612Z"
   },
   {
    "duration": 0,
    "start_time": "2023-02-25T09:35:11.613Z"
   },
   {
    "duration": 0,
    "start_time": "2023-02-25T09:35:11.615Z"
   },
   {
    "duration": 0,
    "start_time": "2023-02-25T09:35:11.616Z"
   },
   {
    "duration": 55,
    "start_time": "2023-02-25T09:36:44.134Z"
   },
   {
    "duration": 1629,
    "start_time": "2023-02-25T09:38:17.647Z"
   },
   {
    "duration": 1125280,
    "start_time": "2023-02-25T09:38:30.486Z"
   },
   {
    "duration": 10,
    "start_time": "2023-02-25T10:04:13.807Z"
   },
   {
    "duration": 4,
    "start_time": "2023-02-25T10:04:48.595Z"
   },
   {
    "duration": 127,
    "start_time": "2023-02-25T10:04:50.652Z"
   },
   {
    "duration": 31,
    "start_time": "2023-02-25T10:06:28.076Z"
   },
   {
    "duration": 5286,
    "start_time": "2023-02-25T10:09:12.815Z"
   },
   {
    "duration": 35,
    "start_time": "2023-02-25T10:09:26.369Z"
   },
   {
    "duration": 4,
    "start_time": "2023-02-25T10:15:24.906Z"
   },
   {
    "duration": 34,
    "start_time": "2023-02-25T10:17:04.715Z"
   },
   {
    "duration": 4,
    "start_time": "2023-02-25T10:17:06.136Z"
   },
   {
    "duration": 1082,
    "start_time": "2023-02-25T10:17:48.199Z"
   },
   {
    "duration": 40,
    "start_time": "2023-02-25T10:18:56.063Z"
   },
   {
    "duration": 3,
    "start_time": "2023-02-25T10:18:57.233Z"
   },
   {
    "duration": 7544,
    "start_time": "2023-02-25T10:19:05.211Z"
   },
   {
    "duration": 62,
    "start_time": "2023-02-25T10:22:39.081Z"
   },
   {
    "duration": 101,
    "start_time": "2023-02-25T10:24:00.638Z"
   },
   {
    "duration": 129897,
    "start_time": "2023-02-25T10:24:37.278Z"
   },
   {
    "duration": 147672,
    "start_time": "2023-02-25T10:26:47.177Z"
   },
   {
    "duration": 39,
    "start_time": "2023-02-25T10:35:04.905Z"
   },
   {
    "duration": 89,
    "start_time": "2023-02-25T10:35:13.316Z"
   },
   {
    "duration": 5,
    "start_time": "2023-02-25T10:35:14.864Z"
   },
   {
    "duration": 7643,
    "start_time": "2023-02-25T10:35:19.988Z"
   },
   {
    "duration": 125546,
    "start_time": "2023-02-25T10:35:35.907Z"
   },
   {
    "duration": 134610,
    "start_time": "2023-02-25T10:37:41.455Z"
   },
   {
    "duration": 10776,
    "start_time": "2023-02-25T10:49:43.387Z"
   },
   {
    "duration": 163,
    "start_time": "2023-02-25T10:58:00.920Z"
   },
   {
    "duration": 77,
    "start_time": "2023-02-25T11:02:16.122Z"
   },
   {
    "duration": 73,
    "start_time": "2023-02-25T11:02:27.279Z"
   },
   {
    "duration": 48,
    "start_time": "2023-02-27T17:12:31.020Z"
   },
   {
    "duration": 18886,
    "start_time": "2023-02-27T17:12:40.291Z"
   },
   {
    "duration": 7,
    "start_time": "2023-02-27T17:12:59.179Z"
   },
   {
    "duration": 3,
    "start_time": "2023-02-27T17:13:02.698Z"
   },
   {
    "duration": 2,
    "start_time": "2023-02-27T17:13:03.421Z"
   },
   {
    "duration": 3976,
    "start_time": "2023-02-27T17:13:05.931Z"
   },
   {
    "duration": 41,
    "start_time": "2023-02-27T17:13:17.111Z"
   },
   {
    "duration": 243,
    "start_time": "2023-02-27T17:13:19.490Z"
   },
   {
    "duration": 28,
    "start_time": "2023-02-27T17:13:20.353Z"
   },
   {
    "duration": 13,
    "start_time": "2023-02-27T17:13:23.853Z"
   },
   {
    "duration": 83928,
    "start_time": "2023-02-27T17:13:30.797Z"
   },
   {
    "duration": 2014,
    "start_time": "2023-02-27T17:14:54.728Z"
   },
   {
    "duration": 1429859,
    "start_time": "2023-02-27T17:15:16.543Z"
   },
   {
    "duration": 12,
    "start_time": "2023-02-27T17:39:28.106Z"
   },
   {
    "duration": 12,
    "start_time": "2023-02-27T17:41:19.461Z"
   },
   {
    "duration": 5,
    "start_time": "2023-02-27T17:41:22.700Z"
   },
   {
    "duration": 125,
    "start_time": "2023-02-27T17:41:27.619Z"
   },
   {
    "duration": 91,
    "start_time": "2023-02-27T17:43:48.335Z"
   },
   {
    "duration": 4,
    "start_time": "2023-02-27T17:43:52.066Z"
   },
   {
    "duration": 8238,
    "start_time": "2023-02-27T17:47:06.659Z"
   },
   {
    "duration": 121875,
    "start_time": "2023-02-27T17:47:51.764Z"
   },
   {
    "duration": 131724,
    "start_time": "2023-02-27T17:49:53.642Z"
   },
   {
    "duration": 207,
    "start_time": "2023-02-27T17:55:01.429Z"
   },
   {
    "duration": 658,
    "start_time": "2023-02-27T18:14:10.727Z"
   },
   {
    "duration": 338,
    "start_time": "2023-02-27T18:21:02.176Z"
   },
   {
    "duration": 33,
    "start_time": "2023-02-27T18:22:37.763Z"
   },
   {
    "duration": 6638,
    "start_time": "2023-02-27T18:29:12.021Z"
   },
   {
    "duration": 543,
    "start_time": "2023-02-27T18:30:39.888Z"
   },
   {
    "duration": 282,
    "start_time": "2023-02-27T18:32:26.335Z"
   },
   {
    "duration": 392,
    "start_time": "2023-02-27T18:34:01.645Z"
   },
   {
    "duration": 22,
    "start_time": "2023-02-27T18:39:59.955Z"
   },
   {
    "duration": 21,
    "start_time": "2023-02-27T18:40:13.008Z"
   },
   {
    "duration": 30,
    "start_time": "2023-02-27T18:40:35.137Z"
   },
   {
    "duration": 44,
    "start_time": "2023-02-27T18:40:46.117Z"
   },
   {
    "duration": 20,
    "start_time": "2023-02-27T18:49:17.303Z"
   },
   {
    "duration": 34,
    "start_time": "2023-02-27T18:49:33.463Z"
   },
   {
    "duration": 105,
    "start_time": "2023-02-27T18:49:37.080Z"
   },
   {
    "duration": 103,
    "start_time": "2023-02-27T18:50:04.110Z"
   },
   {
    "duration": 5,
    "start_time": "2023-02-27T18:51:34.120Z"
   },
   {
    "duration": 3,
    "start_time": "2023-02-27T18:51:41.424Z"
   },
   {
    "duration": 92,
    "start_time": "2023-02-27T18:54:53.374Z"
   },
   {
    "duration": 43,
    "start_time": "2023-02-27T18:54:59.838Z"
   },
   {
    "duration": 3,
    "start_time": "2023-02-27T18:59:17.258Z"
   },
   {
    "duration": 119,
    "start_time": "2023-02-27T19:00:40.669Z"
   },
   {
    "duration": 21,
    "start_time": "2023-02-27T19:05:07.759Z"
   },
   {
    "duration": 28,
    "start_time": "2023-02-27T19:08:31.138Z"
   },
   {
    "duration": 27434,
    "start_time": "2023-02-27T19:09:25.779Z"
   },
   {
    "duration": 6,
    "start_time": "2023-02-27T19:09:53.215Z"
   },
   {
    "duration": 29,
    "start_time": "2023-02-27T19:09:53.223Z"
   },
   {
    "duration": 3968,
    "start_time": "2023-02-27T19:09:53.254Z"
   },
   {
    "duration": 42,
    "start_time": "2023-02-27T19:09:57.223Z"
   },
   {
    "duration": 245,
    "start_time": "2023-02-27T19:09:57.267Z"
   },
   {
    "duration": 37,
    "start_time": "2023-02-27T19:09:57.514Z"
   },
   {
    "duration": 18,
    "start_time": "2023-02-27T19:09:57.553Z"
   },
   {
    "duration": 120739,
    "start_time": "2023-02-27T19:09:57.573Z"
   },
   {
    "duration": 7992,
    "start_time": "2023-02-27T19:11:58.316Z"
   },
   {
    "duration": 1507738,
    "start_time": "2023-02-27T19:12:06.310Z"
   },
   {
    "duration": 15,
    "start_time": "2023-02-27T19:37:14.050Z"
   },
   {
    "duration": 24,
    "start_time": "2023-02-27T19:37:14.067Z"
   },
   {
    "duration": 147,
    "start_time": "2023-02-27T19:37:14.093Z"
   },
   {
    "duration": 68,
    "start_time": "2023-02-27T19:37:14.242Z"
   },
   {
    "duration": 4,
    "start_time": "2023-02-27T19:37:14.312Z"
   },
   {
    "duration": 7744,
    "start_time": "2023-02-27T19:37:14.318Z"
   },
   {
    "duration": 4,
    "start_time": "2023-02-27T19:37:22.063Z"
   },
   {
    "duration": 120488,
    "start_time": "2023-02-27T19:37:22.069Z"
   },
   {
    "duration": 124800,
    "start_time": "2023-02-27T19:39:22.559Z"
   },
   {
    "duration": 151,
    "start_time": "2023-02-27T19:41:27.360Z"
   },
   {
    "duration": 750,
    "start_time": "2023-02-27T19:41:27.513Z"
   },
   {
    "duration": 0,
    "start_time": "2023-02-27T19:41:28.265Z"
   },
   {
    "duration": 0,
    "start_time": "2023-02-27T19:41:28.266Z"
   },
   {
    "duration": 0,
    "start_time": "2023-02-27T19:41:28.268Z"
   },
   {
    "duration": 94,
    "start_time": "2023-02-27T19:41:40.088Z"
   },
   {
    "duration": 241,
    "start_time": "2023-02-27T19:41:58.067Z"
   },
   {
    "duration": 21,
    "start_time": "2023-02-27T19:42:44.349Z"
   },
   {
    "duration": 15836,
    "start_time": "2023-02-27T19:54:02.025Z"
   },
   {
    "duration": 16062,
    "start_time": "2023-02-27T19:56:48.920Z"
   },
   {
    "duration": 7,
    "start_time": "2023-02-27T19:57:04.984Z"
   },
   {
    "duration": 15,
    "start_time": "2023-02-27T19:57:04.993Z"
   },
   {
    "duration": 3571,
    "start_time": "2023-02-27T19:57:05.011Z"
   },
   {
    "duration": 34,
    "start_time": "2023-02-27T19:57:08.584Z"
   },
   {
    "duration": 246,
    "start_time": "2023-02-27T19:57:08.620Z"
   },
   {
    "duration": 29,
    "start_time": "2023-02-27T19:57:08.867Z"
   },
   {
    "duration": 37,
    "start_time": "2023-02-27T19:57:08.897Z"
   },
   {
    "duration": 505,
    "start_time": "2023-02-27T19:57:08.936Z"
   },
   {
    "duration": 90,
    "start_time": "2023-02-27T19:57:09.443Z"
   },
   {
    "duration": 10,
    "start_time": "2023-02-27T19:57:09.535Z"
   },
   {
    "duration": 12,
    "start_time": "2023-02-27T19:57:09.547Z"
   },
   {
    "duration": 127,
    "start_time": "2023-02-27T19:57:09.560Z"
   },
   {
    "duration": 77,
    "start_time": "2023-02-27T19:57:09.689Z"
   },
   {
    "duration": 3,
    "start_time": "2023-02-27T19:57:09.768Z"
   },
   {
    "duration": 16,
    "start_time": "2023-02-27T19:57:09.773Z"
   },
   {
    "duration": 85,
    "start_time": "2023-02-27T19:57:09.790Z"
   },
   {
    "duration": 79,
    "start_time": "2023-02-27T19:57:09.877Z"
   },
   {
    "duration": 3,
    "start_time": "2023-02-27T19:57:09.958Z"
   },
   {
    "duration": 16511,
    "start_time": "2023-02-27T19:59:07.344Z"
   },
   {
    "duration": 6,
    "start_time": "2023-02-27T19:59:23.857Z"
   },
   {
    "duration": 6,
    "start_time": "2023-02-27T19:59:23.865Z"
   },
   {
    "duration": 2890,
    "start_time": "2023-02-27T19:59:23.873Z"
   },
   {
    "duration": 37,
    "start_time": "2023-02-27T19:59:26.765Z"
   },
   {
    "duration": 264,
    "start_time": "2023-02-27T19:59:26.804Z"
   },
   {
    "duration": 37,
    "start_time": "2023-02-27T19:59:27.070Z"
   },
   {
    "duration": 31,
    "start_time": "2023-02-27T19:59:27.110Z"
   },
   {
    "duration": 4441,
    "start_time": "2023-02-27T19:59:27.143Z"
   },
   {
    "duration": 960,
    "start_time": "2023-02-27T19:59:31.587Z"
   },
   {
    "duration": 11,
    "start_time": "2023-02-27T19:59:32.549Z"
   },
   {
    "duration": 11,
    "start_time": "2023-02-27T19:59:32.561Z"
   },
   {
    "duration": 167,
    "start_time": "2023-02-27T19:59:32.574Z"
   },
   {
    "duration": 114,
    "start_time": "2023-02-27T19:59:32.743Z"
   },
   {
    "duration": 5,
    "start_time": "2023-02-27T19:59:32.859Z"
   },
   {
    "duration": 7,
    "start_time": "2023-02-27T19:59:32.866Z"
   },
   {
    "duration": 107,
    "start_time": "2023-02-27T19:59:32.875Z"
   },
   {
    "duration": 75,
    "start_time": "2023-02-27T19:59:32.984Z"
   },
   {
    "duration": 4,
    "start_time": "2023-02-27T19:59:33.061Z"
   },
   {
    "duration": 16230,
    "start_time": "2023-02-27T20:00:04.020Z"
   },
   {
    "duration": 7,
    "start_time": "2023-02-27T20:00:20.252Z"
   },
   {
    "duration": 6,
    "start_time": "2023-02-27T20:00:20.261Z"
   },
   {
    "duration": 929,
    "start_time": "2023-02-27T20:00:20.269Z"
   },
   {
    "duration": 41,
    "start_time": "2023-02-27T20:00:21.199Z"
   },
   {
    "duration": 281,
    "start_time": "2023-02-27T20:00:21.242Z"
   },
   {
    "duration": 28,
    "start_time": "2023-02-27T20:00:21.539Z"
   },
   {
    "duration": 12,
    "start_time": "2023-02-27T20:00:21.568Z"
   },
   {
    "duration": 4354,
    "start_time": "2023-02-27T20:00:21.582Z"
   },
   {
    "duration": 1077,
    "start_time": "2023-02-27T20:00:25.938Z"
   },
   {
    "duration": 12,
    "start_time": "2023-02-27T20:00:27.017Z"
   },
   {
    "duration": 9,
    "start_time": "2023-02-27T20:00:27.031Z"
   },
   {
    "duration": 159,
    "start_time": "2023-02-27T20:00:27.042Z"
   },
   {
    "duration": 95,
    "start_time": "2023-02-27T20:00:27.203Z"
   },
   {
    "duration": 3,
    "start_time": "2023-02-27T20:00:27.300Z"
   },
   {
    "duration": 7,
    "start_time": "2023-02-27T20:00:27.305Z"
   },
   {
    "duration": 88,
    "start_time": "2023-02-27T20:00:27.314Z"
   },
   {
    "duration": 71,
    "start_time": "2023-02-27T20:00:27.404Z"
   },
   {
    "duration": 4,
    "start_time": "2023-02-27T20:00:27.477Z"
   },
   {
    "duration": 8666,
    "start_time": "2023-02-27T20:00:27.483Z"
   },
   {
    "duration": 177,
    "start_time": "2023-02-27T20:00:36.151Z"
   },
   {
    "duration": 105,
    "start_time": "2023-02-27T20:00:36.329Z"
   },
   {
    "duration": 519,
    "start_time": "2023-02-27T20:02:07.923Z"
   },
   {
    "duration": 1307814,
    "start_time": "2023-02-27T20:02:13.747Z"
   },
   {
    "duration": 12,
    "start_time": "2023-02-27T20:25:50.456Z"
   },
   {
    "duration": 4,
    "start_time": "2023-02-27T20:25:58.332Z"
   },
   {
    "duration": 111,
    "start_time": "2023-02-27T20:26:00.349Z"
   },
   {
    "duration": 98,
    "start_time": "2023-02-27T20:26:05.580Z"
   },
   {
    "duration": 3,
    "start_time": "2023-02-27T20:26:08.153Z"
   },
   {
    "duration": 70,
    "start_time": "2023-02-27T20:26:27.689Z"
   },
   {
    "duration": 67,
    "start_time": "2023-02-27T20:26:31.214Z"
   },
   {
    "duration": 69,
    "start_time": "2023-02-27T20:26:54.224Z"
   },
   {
    "duration": 7241,
    "start_time": "2023-02-27T20:30:25.133Z"
   },
   {
    "duration": 4,
    "start_time": "2023-02-27T20:30:39.394Z"
   },
   {
    "duration": 16373,
    "start_time": "2023-02-27T20:30:57.942Z"
   },
   {
    "duration": 7,
    "start_time": "2023-02-27T20:31:14.318Z"
   },
   {
    "duration": 14,
    "start_time": "2023-02-27T20:31:14.327Z"
   },
   {
    "duration": 914,
    "start_time": "2023-02-27T20:31:14.344Z"
   },
   {
    "duration": 38,
    "start_time": "2023-02-27T20:31:15.259Z"
   },
   {
    "duration": 266,
    "start_time": "2023-02-27T20:31:15.299Z"
   },
   {
    "duration": 30,
    "start_time": "2023-02-27T20:31:15.567Z"
   },
   {
    "duration": 25,
    "start_time": "2023-02-27T20:31:15.599Z"
   },
   {
    "duration": 20,
    "start_time": "2023-02-27T20:31:15.626Z"
   },
   {
    "duration": 4525,
    "start_time": "2023-02-27T20:31:15.650Z"
   },
   {
    "duration": 1318429,
    "start_time": "2023-02-27T20:31:20.177Z"
   },
   {
    "duration": 11,
    "start_time": "2023-02-27T20:53:18.608Z"
   },
   {
    "duration": 36,
    "start_time": "2023-02-27T20:53:18.621Z"
   },
   {
    "duration": 129,
    "start_time": "2023-02-27T20:53:18.659Z"
   },
   {
    "duration": 80,
    "start_time": "2023-02-27T20:53:18.790Z"
   },
   {
    "duration": 4,
    "start_time": "2023-02-27T20:53:18.872Z"
   },
   {
    "duration": 6926,
    "start_time": "2023-02-27T20:53:18.878Z"
   },
   {
    "duration": 3,
    "start_time": "2023-02-27T20:53:25.806Z"
   },
   {
    "duration": 128848,
    "start_time": "2023-02-27T20:53:25.810Z"
   },
   {
    "duration": 107886,
    "start_time": "2023-02-27T20:55:34.660Z"
   },
   {
    "duration": 364,
    "start_time": "2023-02-27T20:57:22.548Z"
   },
   {
    "duration": 0,
    "start_time": "2023-02-27T20:57:22.915Z"
   },
   {
    "duration": 0,
    "start_time": "2023-02-27T20:57:22.918Z"
   },
   {
    "duration": 0,
    "start_time": "2023-02-27T20:57:22.919Z"
   },
   {
    "duration": 0,
    "start_time": "2023-02-27T20:57:22.920Z"
   },
   {
    "duration": 269,
    "start_time": "2023-02-27T20:57:46.873Z"
   },
   {
    "duration": 54,
    "start_time": "2023-02-27T20:58:14.366Z"
   },
   {
    "duration": 190,
    "start_time": "2023-02-27T20:58:29.770Z"
   },
   {
    "duration": 188,
    "start_time": "2023-02-27T21:00:55.816Z"
   },
   {
    "duration": 203,
    "start_time": "2023-02-27T21:01:18.733Z"
   },
   {
    "duration": 73,
    "start_time": "2023-02-27T21:04:13.632Z"
   },
   {
    "duration": 18599,
    "start_time": "2023-02-28T06:55:46.885Z"
   },
   {
    "duration": 9,
    "start_time": "2023-02-28T06:56:05.486Z"
   },
   {
    "duration": 19,
    "start_time": "2023-02-28T06:56:05.497Z"
   },
   {
    "duration": 3990,
    "start_time": "2023-02-28T06:56:05.520Z"
   },
   {
    "duration": 38,
    "start_time": "2023-02-28T06:56:09.513Z"
   },
   {
    "duration": 281,
    "start_time": "2023-02-28T06:56:09.553Z"
   },
   {
    "duration": 32,
    "start_time": "2023-02-28T06:56:09.836Z"
   },
   {
    "duration": 52,
    "start_time": "2023-02-28T06:56:09.870Z"
   },
   {
    "duration": 537,
    "start_time": "2023-02-28T06:56:09.923Z"
   },
   {
    "duration": 5437,
    "start_time": "2023-02-28T06:56:10.464Z"
   },
   {
    "duration": 1468205,
    "start_time": "2023-02-28T06:56:15.904Z"
   },
   {
    "duration": 28,
    "start_time": "2023-02-28T07:20:44.111Z"
   },
   {
    "duration": 4,
    "start_time": "2023-02-28T07:20:44.142Z"
   },
   {
    "duration": 154,
    "start_time": "2023-02-28T07:20:44.148Z"
   },
   {
    "duration": 101,
    "start_time": "2023-02-28T07:20:44.305Z"
   },
   {
    "duration": 3,
    "start_time": "2023-02-28T07:20:44.408Z"
   },
   {
    "duration": 7,
    "start_time": "2023-02-28T07:20:44.413Z"
   },
   {
    "duration": 79,
    "start_time": "2023-02-28T07:20:44.422Z"
   },
   {
    "duration": 78,
    "start_time": "2023-02-28T07:20:44.503Z"
   },
   {
    "duration": 1968765,
    "start_time": "2023-02-28T07:20:44.583Z"
   },
   {
    "duration": 541,
    "start_time": "2023-02-28T07:53:33.354Z"
   },
   {
    "duration": 1455552,
    "start_time": "2023-02-28T07:53:33.899Z"
   },
   {
    "duration": 215,
    "start_time": "2023-02-28T08:17:49.456Z"
   },
   {
    "duration": 98,
    "start_time": "2023-02-28T08:17:49.673Z"
   },
   {
    "duration": 14571,
    "start_time": "2023-02-28T14:40:10.846Z"
   },
   {
    "duration": 8,
    "start_time": "2023-02-28T14:40:25.419Z"
   },
   {
    "duration": 16,
    "start_time": "2023-02-28T14:40:25.428Z"
   },
   {
    "duration": 2393,
    "start_time": "2023-02-28T14:40:25.447Z"
   },
   {
    "duration": 28,
    "start_time": "2023-02-28T14:40:27.841Z"
   },
   {
    "duration": 221,
    "start_time": "2023-02-28T14:40:27.871Z"
   },
   {
    "duration": 25,
    "start_time": "2023-02-28T14:40:28.094Z"
   },
   {
    "duration": 13,
    "start_time": "2023-02-28T14:40:28.120Z"
   },
   {
    "duration": 428,
    "start_time": "2023-02-28T14:40:28.135Z"
   },
   {
    "duration": 4178,
    "start_time": "2023-02-28T14:40:28.565Z"
   },
   {
    "duration": 1222193,
    "start_time": "2023-02-28T14:40:32.745Z"
   },
   {
    "duration": 11,
    "start_time": "2023-02-28T15:00:54.939Z"
   },
   {
    "duration": 5,
    "start_time": "2023-02-28T15:00:54.952Z"
   },
   {
    "duration": 133,
    "start_time": "2023-02-28T15:00:54.959Z"
   },
   {
    "duration": 66,
    "start_time": "2023-02-28T15:00:55.103Z"
   },
   {
    "duration": 4,
    "start_time": "2023-02-28T15:00:55.170Z"
   },
   {
    "duration": 6,
    "start_time": "2023-02-28T15:00:55.176Z"
   },
   {
    "duration": 6536,
    "start_time": "2023-02-28T15:00:55.184Z"
   },
   {
    "duration": 141984,
    "start_time": "2023-02-28T15:01:01.722Z"
   },
   {
    "duration": 109497,
    "start_time": "2023-02-28T15:03:23.709Z"
   },
   {
    "duration": 1877805,
    "start_time": "2023-02-28T15:05:13.208Z"
   },
   {
    "duration": 66,
    "start_time": "2023-02-28T15:36:31.015Z"
   },
   {
    "duration": 223840,
    "start_time": "2023-02-28T15:36:31.082Z"
   },
   {
    "duration": 102,
    "start_time": "2023-02-28T15:40:14.923Z"
   },
   {
    "duration": 1919485,
    "start_time": "2023-02-28T15:41:13.093Z"
   },
   {
    "duration": 90,
    "start_time": "2023-02-28T16:13:12.580Z"
   },
   {
    "duration": 3,
    "start_time": "2023-02-28T16:25:39.905Z"
   },
   {
    "duration": 97,
    "start_time": "2023-02-28T16:27:24.804Z"
   },
   {
    "duration": 144,
    "start_time": "2023-02-28T16:27:38.736Z"
   },
   {
    "duration": 21687,
    "start_time": "2023-02-28T16:28:19.323Z"
   },
   {
    "duration": 126,
    "start_time": "2023-02-28T16:30:25.824Z"
   },
   {
    "duration": 64,
    "start_time": "2023-02-28T16:30:47.325Z"
   },
   {
    "duration": 82,
    "start_time": "2023-02-28T16:30:53.503Z"
   },
   {
    "duration": 275102,
    "start_time": "2023-02-28T16:32:49.872Z"
   },
   {
    "duration": 16125,
    "start_time": "2023-02-28T16:51:02.221Z"
   },
   {
    "duration": 5,
    "start_time": "2023-02-28T16:51:18.349Z"
   },
   {
    "duration": 5,
    "start_time": "2023-02-28T16:51:18.355Z"
   },
   {
    "duration": 2758,
    "start_time": "2023-02-28T16:51:18.362Z"
   },
   {
    "duration": 39,
    "start_time": "2023-02-28T16:51:21.122Z"
   },
   {
    "duration": 270,
    "start_time": "2023-02-28T16:51:21.163Z"
   },
   {
    "duration": 29,
    "start_time": "2023-02-28T16:51:21.435Z"
   },
   {
    "duration": 33,
    "start_time": "2023-02-28T16:51:21.466Z"
   },
   {
    "duration": 58,
    "start_time": "2023-02-28T16:51:21.501Z"
   },
   {
    "duration": 4612,
    "start_time": "2023-02-28T16:51:21.562Z"
   },
   {
    "duration": 1299690,
    "start_time": "2023-02-28T16:51:26.176Z"
   },
   {
    "duration": 10,
    "start_time": "2023-02-28T17:13:05.868Z"
   },
   {
    "duration": 23,
    "start_time": "2023-02-28T17:13:05.880Z"
   },
   {
    "duration": 123,
    "start_time": "2023-02-28T17:13:05.905Z"
   },
   {
    "duration": 66,
    "start_time": "2023-02-28T17:13:06.030Z"
   },
   {
    "duration": 6,
    "start_time": "2023-02-28T17:13:06.098Z"
   },
   {
    "duration": 17,
    "start_time": "2023-02-28T17:13:06.106Z"
   },
   {
    "duration": 6507,
    "start_time": "2023-02-28T17:13:06.125Z"
   },
   {
    "duration": 128078,
    "start_time": "2023-02-28T17:13:12.634Z"
   },
   {
    "duration": 100493,
    "start_time": "2023-02-28T17:15:20.714Z"
   },
   {
    "duration": 1887299,
    "start_time": "2023-02-28T17:17:01.209Z"
   },
   {
    "duration": 19991,
    "start_time": "2023-02-28T17:48:28.510Z"
   },
   {
    "duration": 2423419,
    "start_time": "2023-02-28T17:48:48.503Z"
   },
   {
    "duration": 6480,
    "start_time": "2023-02-28T18:29:11.924Z"
   },
   {
    "duration": 4180,
    "start_time": "2023-02-28T18:29:18.405Z"
   },
   {
    "duration": 19,
    "start_time": "2023-02-28T18:29:22.587Z"
   }
  ],
  "kernelspec": {
   "display_name": "Python 3",
   "language": "python",
   "name": "python3"
  },
  "language_info": {
   "codemirror_mode": {
    "name": "ipython",
    "version": 3
   },
   "file_extension": ".py",
   "mimetype": "text/x-python",
   "name": "python",
   "nbconvert_exporter": "python",
   "pygments_lexer": "ipython3",
   "version": "3.8.3"
  },
  "toc": {
   "base_numbering": 1,
   "nav_menu": {},
   "number_sections": true,
   "sideBar": true,
   "skip_h1_title": true,
   "title_cell": "Содержание",
   "title_sidebar": "Contents",
   "toc_cell": true,
   "toc_position": {
    "height": "calc(100% - 180px)",
    "left": "10px",
    "top": "150px",
    "width": "302.391px"
   },
   "toc_section_display": true,
   "toc_window_display": false
  }
 },
 "nbformat": 4,
 "nbformat_minor": 2
}
