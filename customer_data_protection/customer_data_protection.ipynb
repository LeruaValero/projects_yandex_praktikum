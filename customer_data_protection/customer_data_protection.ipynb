{
 "cells": [
  {
   "cell_type": "markdown",
   "metadata": {
    "toc": true
   },
   "source": [
    "<h1>Содержание<span class=\"tocSkip\"></span></h1>\n",
    "<div class=\"toc\"><ul class=\"toc-item\"><li><span><a href=\"#Загрузка-данных\" data-toc-modified-id=\"Загрузка-данных-1\"><span class=\"toc-item-num\">1&nbsp;&nbsp;</span>Загрузка данных</a></span></li><li><span><a href=\"#Умножение-матриц\" data-toc-modified-id=\"Умножение-матриц-2\"><span class=\"toc-item-num\">2&nbsp;&nbsp;</span>Умножение матриц</a></span></li><li><span><a href=\"#Алгоритм-преобразования\" data-toc-modified-id=\"Алгоритм-преобразования-3\"><span class=\"toc-item-num\">3&nbsp;&nbsp;</span>Алгоритм преобразования</a></span></li><li><span><a href=\"#Проверка-алгоритма\" data-toc-modified-id=\"Проверка-алгоритма-4\"><span class=\"toc-item-num\">4&nbsp;&nbsp;</span>Проверка алгоритма"
   ]
  },
  {
   "cell_type": "markdown",
   "metadata": {},
   "source": [
    "# Защита персональных данных клиентов"
   ]
  },
  {
   "cell_type": "markdown",
   "metadata": {},
   "source": [
    "Вам нужно защитить данные клиентов страховой компании «Хоть потоп». Разработайте такой метод преобразования данных, чтобы по ним было сложно восстановить персональную информацию. Обоснуйте корректность его работы.\n",
    "\n",
    "Нужно защитить данные, чтобы при преобразовании качество моделей машинного обучения не ухудшилось. Подбирать наилучшую модель не требуется."
   ]
  },
  {
   "cell_type": "markdown",
   "metadata": {},
   "source": [
    "**Описание данных**  \n",
    "Признаки: пол, возраст и зарплата застрахованного, количество членов его семьи.  \n",
    "Целевой признак: количество страховых выплат клиенту за последние 5 лет."
   ]
  },
  {
   "cell_type": "markdown",
   "metadata": {},
   "source": [
    "## Загрузка данных"
   ]
  },
  {
   "cell_type": "code",
   "execution_count": 1,
   "metadata": {},
   "outputs": [
    {
     "name": "stdout",
     "output_type": "stream",
     "text": [
      "Collecting tabulate\n",
      "  Downloading tabulate-0.9.0-py3-none-any.whl (35 kB)\n",
      "Installing collected packages: tabulate\n",
      "Successfully installed tabulate-0.9.0\n",
      "Note: you may need to restart the kernel to use updated packages.\n"
     ]
    }
   ],
   "source": [
    "pip install tabulate"
   ]
  },
  {
   "cell_type": "code",
   "execution_count": 2,
   "metadata": {},
   "outputs": [],
   "source": [
    "import pandas as pd\n",
    "import numpy as np\n",
    "\n",
    "from sklearn.model_selection import train_test_split\n",
    "from sklearn.linear_model import LinearRegression\n",
    "from sklearn.metrics import r2_score\n",
    "\n",
    "from tabulate import tabulate"
   ]
  },
  {
   "cell_type": "code",
   "execution_count": 3,
   "metadata": {
    "scrolled": true
   },
   "outputs": [
    {
     "data": {
      "text/html": [
       "<div>\n",
       "<style scoped>\n",
       "    .dataframe tbody tr th:only-of-type {\n",
       "        vertical-align: middle;\n",
       "    }\n",
       "\n",
       "    .dataframe tbody tr th {\n",
       "        vertical-align: top;\n",
       "    }\n",
       "\n",
       "    .dataframe thead th {\n",
       "        text-align: right;\n",
       "    }\n",
       "</style>\n",
       "<table border=\"1\" class=\"dataframe\">\n",
       "  <thead>\n",
       "    <tr style=\"text-align: right;\">\n",
       "      <th></th>\n",
       "      <th>Пол</th>\n",
       "      <th>Возраст</th>\n",
       "      <th>Зарплата</th>\n",
       "      <th>Члены семьи</th>\n",
       "      <th>Страховые выплаты</th>\n",
       "    </tr>\n",
       "  </thead>\n",
       "  <tbody>\n",
       "    <tr>\n",
       "      <th>0</th>\n",
       "      <td>1</td>\n",
       "      <td>41.0</td>\n",
       "      <td>49600.0</td>\n",
       "      <td>1</td>\n",
       "      <td>0</td>\n",
       "    </tr>\n",
       "    <tr>\n",
       "      <th>1</th>\n",
       "      <td>0</td>\n",
       "      <td>46.0</td>\n",
       "      <td>38000.0</td>\n",
       "      <td>1</td>\n",
       "      <td>1</td>\n",
       "    </tr>\n",
       "    <tr>\n",
       "      <th>2</th>\n",
       "      <td>0</td>\n",
       "      <td>29.0</td>\n",
       "      <td>21000.0</td>\n",
       "      <td>0</td>\n",
       "      <td>0</td>\n",
       "    </tr>\n",
       "    <tr>\n",
       "      <th>3</th>\n",
       "      <td>0</td>\n",
       "      <td>21.0</td>\n",
       "      <td>41700.0</td>\n",
       "      <td>2</td>\n",
       "      <td>0</td>\n",
       "    </tr>\n",
       "    <tr>\n",
       "      <th>4</th>\n",
       "      <td>1</td>\n",
       "      <td>28.0</td>\n",
       "      <td>26100.0</td>\n",
       "      <td>0</td>\n",
       "      <td>0</td>\n",
       "    </tr>\n",
       "    <tr>\n",
       "      <th>...</th>\n",
       "      <td>...</td>\n",
       "      <td>...</td>\n",
       "      <td>...</td>\n",
       "      <td>...</td>\n",
       "      <td>...</td>\n",
       "    </tr>\n",
       "    <tr>\n",
       "      <th>4995</th>\n",
       "      <td>0</td>\n",
       "      <td>28.0</td>\n",
       "      <td>35700.0</td>\n",
       "      <td>2</td>\n",
       "      <td>0</td>\n",
       "    </tr>\n",
       "    <tr>\n",
       "      <th>4996</th>\n",
       "      <td>0</td>\n",
       "      <td>34.0</td>\n",
       "      <td>52400.0</td>\n",
       "      <td>1</td>\n",
       "      <td>0</td>\n",
       "    </tr>\n",
       "    <tr>\n",
       "      <th>4997</th>\n",
       "      <td>0</td>\n",
       "      <td>20.0</td>\n",
       "      <td>33900.0</td>\n",
       "      <td>2</td>\n",
       "      <td>0</td>\n",
       "    </tr>\n",
       "    <tr>\n",
       "      <th>4998</th>\n",
       "      <td>1</td>\n",
       "      <td>22.0</td>\n",
       "      <td>32700.0</td>\n",
       "      <td>3</td>\n",
       "      <td>0</td>\n",
       "    </tr>\n",
       "    <tr>\n",
       "      <th>4999</th>\n",
       "      <td>1</td>\n",
       "      <td>28.0</td>\n",
       "      <td>40600.0</td>\n",
       "      <td>1</td>\n",
       "      <td>0</td>\n",
       "    </tr>\n",
       "  </tbody>\n",
       "</table>\n",
       "<p>5000 rows × 5 columns</p>\n",
       "</div>"
      ],
      "text/plain": [
       "      Пол  Возраст  Зарплата  Члены семьи  Страховые выплаты\n",
       "0       1     41.0   49600.0            1                  0\n",
       "1       0     46.0   38000.0            1                  1\n",
       "2       0     29.0   21000.0            0                  0\n",
       "3       0     21.0   41700.0            2                  0\n",
       "4       1     28.0   26100.0            0                  0\n",
       "...   ...      ...       ...          ...                ...\n",
       "4995    0     28.0   35700.0            2                  0\n",
       "4996    0     34.0   52400.0            1                  0\n",
       "4997    0     20.0   33900.0            2                  0\n",
       "4998    1     22.0   32700.0            3                  0\n",
       "4999    1     28.0   40600.0            1                  0\n",
       "\n",
       "[5000 rows x 5 columns]"
      ]
     },
     "metadata": {},
     "output_type": "display_data"
    }
   ],
   "source": [
    "data = pd.read_csv('/datasets/insurance.csv')\n",
    "display(data)"
   ]
  },
  {
   "cell_type": "code",
   "execution_count": 4,
   "metadata": {},
   "outputs": [
    {
     "name": "stdout",
     "output_type": "stream",
     "text": [
      "<class 'pandas.core.frame.DataFrame'>\n",
      "RangeIndex: 5000 entries, 0 to 4999\n",
      "Data columns (total 5 columns):\n",
      " #   Column             Non-Null Count  Dtype  \n",
      "---  ------             --------------  -----  \n",
      " 0   Пол                5000 non-null   int64  \n",
      " 1   Возраст            5000 non-null   float64\n",
      " 2   Зарплата           5000 non-null   float64\n",
      " 3   Члены семьи        5000 non-null   int64  \n",
      " 4   Страховые выплаты  5000 non-null   int64  \n",
      "dtypes: float64(2), int64(3)\n",
      "memory usage: 195.4 KB\n"
     ]
    }
   ],
   "source": [
    "data.info()"
   ]
  },
  {
   "cell_type": "code",
   "execution_count": 5,
   "metadata": {},
   "outputs": [
    {
     "data": {
      "text/plain": [
       "Пол                  0\n",
       "Возраст              0\n",
       "Зарплата             0\n",
       "Члены семьи          0\n",
       "Страховые выплаты    0\n",
       "dtype: int64"
      ]
     },
     "execution_count": 5,
     "metadata": {},
     "output_type": "execute_result"
    }
   ],
   "source": [
    "data.isna().sum()"
   ]
  },
  {
   "cell_type": "code",
   "execution_count": 6,
   "metadata": {},
   "outputs": [
    {
     "data": {
      "text/plain": [
       "153"
      ]
     },
     "execution_count": 6,
     "metadata": {},
     "output_type": "execute_result"
    }
   ],
   "source": [
    "data.duplicated().sum()"
   ]
  },
  {
   "cell_type": "markdown",
   "metadata": {},
   "source": [
    "Дубликаты есть, но для нашей задачи они не мешают, оставляем как есть."
   ]
  },
  {
   "cell_type": "markdown",
   "metadata": {},
   "source": [
    "## Умножение матриц"
   ]
  },
  {
   "cell_type": "markdown",
   "metadata": {},
   "source": [
    "**Ответьте на вопрос и обоснуйте решение.**   \n",
    " Признаки умножают на обратимую матрицу. Изменится ли качество линейной регрессии? (Её можно обучить заново.)  \n",
    " a. Изменится. Приведите примеры матриц.  \n",
    " b. Не изменится. Укажите, как связаны параметры линейной регрессии в исходной задаче и в преобразованной."
   ]
  },
  {
   "cell_type": "markdown",
   "metadata": {},
   "source": [
    "В этом задании вы можете записывать формулы в *Jupyter Notebook.*\n",
    "\n",
    "Чтобы записать формулу внутри текста, окружите её символами доллара \\\\$; если снаружи —  двойными символами \\\\$\\\\$. Эти формулы записываются на языке вёрстки *LaTeX.* \n",
    "\n",
    "Для примера мы записали формулы линейной регрессии. Можете их скопировать и отредактировать, чтобы решить задачу.\n",
    "\n",
    "Работать в *LaTeX* необязательно."
   ]
  },
  {
   "cell_type": "markdown",
   "metadata": {},
   "source": [
    "Обозначения:\n",
    "\n",
    "- $X$ — матрица признаков (нулевой столбец состоит из единиц)\n",
    "\n",
    "- $y$ — вектор целевого признака\n",
    "\n",
    "- $P$ — матрица, на которую умножаются признаки\n",
    "\n",
    "- $w$ — вектор весов линейной регрессии (нулевой элемент равен сдвигу)"
   ]
  },
  {
   "cell_type": "markdown",
   "metadata": {},
   "source": [
    "Предсказания:\n",
    "\n",
    "$$\n",
    "a = Xw\n",
    "$$\n",
    "\n",
    "Задача обучения:\n",
    "\n",
    "$$\n",
    "w = \\arg\\min_w MSE(Xw, y)\n",
    "$$\n",
    "\n",
    "Формула обучения:\n",
    "\n",
    "$$\n",
    "w = (X^T X)^{-1} X^T y\n",
    "$$"
   ]
  },
  {
   "cell_type": "markdown",
   "metadata": {},
   "source": [
    "_____________________"
   ]
  },
  {
   "cell_type": "markdown",
   "metadata": {},
   "source": [
    "Основные свойства матриц:\n",
    "\n",
    "$$\n",
    "1.а. AA^{-1} = E\n",
    "$$\n",
    "$$\n",
    "1.б. AE = EA = A\n",
    "$$\n",
    "$$\n",
    "2. (AB)^T = B^TA^T\n",
    "$$\n",
    "$$\n",
    "3. (AB)^{-1} = B^{-1}A^{-1}\n",
    "$$\n",
    "$$\n",
    "4. (ABC)^{-1} = (C)^{-1} (AB)^{-1}\n",
    "$$"
   ]
  },
  {
   "cell_type": "markdown",
   "metadata": {},
   "source": [
    "1.a. Обратная для квадратной матрицы A (англ. inverse matrix) — матрица A с верхним индексом -1, произведение которой на А равно единичной матрице.  \n",
    "1.б. Если любую матрицу A умножить на единичную (или наоборот), получится эта же матрица A.   \n",
    "2. Т ранспонированное произведение матриц равно произведению транспонированных матриц, взятых в обратном порядке.  \n",
    "3. Обратная матрица от произведения двух матриц равна произведению матрицы обратной ко второй на матрицу обратную к первой."
   ]
  },
  {
   "cell_type": "markdown",
   "metadata": {},
   "source": [
    "Эти свойства матриц работают только для квадртаных матриц (одного размера)."
   ]
  },
  {
   "cell_type": "markdown",
   "metadata": {},
   "source": [
    "Формула для весов $w$ (формула обучения):\n",
    "\n",
    "$$\n",
    "w = (X^{T}X)^{-1}X^{T}y\n",
    "$$"
   ]
  },
  {
   "cell_type": "markdown",
   "metadata": {},
   "source": [
    "**Изменится ли качество линейной регрессии после умножения признаком на обратимую матрицу?**"
   ]
  },
  {
   "cell_type": "markdown",
   "metadata": {},
   "source": [
    "**Ответ:** Не изменится. \n",
    "\n",
    "**Обоснование:**   \n",
    "Чтобы доказать свой ответ, надо взять формулу обучения (весов $w$) и подставить в нее новую матрицу и получить связь новых весов $w'$ и старых весов $w$. И показать, что формула предсказания $a = Xw = X'w' = a'$.   \n",
    "\n",
    "Пусть существует матрица $X'$, для нее справедливо равентсво:  \n",
    "\n",
    "$$\n",
    "X' = X P\n",
    "$$\n",
    "где $P$ - это обратимая матрица (квадратная), т.е. при умножении матрицы на нее же обратную (с верхним индексом -1) получим единичную матрицу (первое свойство обратных матриц).  \n",
    "Тогда для предсказание и вектор весов у нас будут равны:  \n",
    "\n",
    "$$\n",
    "a' = X' w'\n",
    "$$\n",
    "$$\n",
    "w' = (X'^{T}X')^{-1}X'^{T}y \n",
    "$$\n",
    "   \n",
    "Далее в формулу предсказаний $a'$ подставим все, что выше расписали и заменим $X'$ на $XP$:   \n",
    "\n",
    "$$\n",
    "a' = XP((XP)^{T}(XP))^{-1}*(XP)^{T}y\n",
    "$$\n",
    "\n",
    "Тогда мы можем раскрыть скобки по формуле транспонирования:   \n",
    "\n",
    "$$\n",
    "2. (AB)^T = B^TA^T\n",
    "$$  \n",
    "\n",
    "\n",
    "$$\n",
    "a' = XP((XP)^{T}(XP))^{-1}*(XP)^{T}y = XP(P^TX^TXP)^{-1}*P^TX^Ty\n",
    "$$\n",
    "   \n",
    "   \n",
    "Используем сочетательное свойство и 3 свойство (в моем списке):\n",
    "$$\n",
    "4. (ABC)^{-1} = (C)^{-1} (AB)^{-1}\n",
    "$$\n",
    "\n",
    "$$\n",
    "3. (AB)^{-1} = B^{-1}A^{-1}\n",
    "$$\n",
    "   \n",
    "$$\n",
    "a' = XP(X^TXP)^{-1}(P^T)^{-1}*P^TX^Ty\n",
    "$$\n",
    "\n",
    "$PP^{-1}$ заменим на $E$, и при этом $(P^T)^{-1}P^T = PP^{-1} = E$:    \n",
    "\n",
    "$$\n",
    "a' = XPP^{-1}(X^TX)^{-1}(P^T)^{-1}*P^TX^Ty = XE(X^TX)^{-1}EX^Ty\n",
    "$$\n",
    "\n",
    "Выходит, что предсказание для новой матрицы:  \n",
    "\n",
    "$$\n",
    "a' = X(X^TX)^{-1}X^Ty = Xw = a\n",
    "$$  \n",
    "\n",
    "Векторы предсказаний совпали. Значит предсказание не меняется, если умножить матрицу признаков на обратимую матрицу."
   ]
  },
  {
   "cell_type": "markdown",
   "metadata": {},
   "source": [
    "## Алгоритм преобразования"
   ]
  },
  {
   "cell_type": "markdown",
   "metadata": {},
   "source": [
    "Предложите алгоритм преобразования данных для решения задачи. Обоснуйте, почему качество линейной регрессии не поменяется."
   ]
  },
  {
   "cell_type": "markdown",
   "metadata": {},
   "source": [
    "**Алгоритм**\n",
    "\n",
    "Нам нужен алгоритм преобразования данных, по которому сложно будет восстановить персональную информацию. Для этого можно использовать домножение матрицы признаков на случайную обратимую матрицу, что и обеспечит защиту персональных данных, при этом не потеряв качество модели.   \n",
    "   \n",
    "Алгоритм: (где $Y$ - обратимая матрица, $Z$ - матрица c преобразованными признаками, $X$ - исходные признаки)   \n",
    "1. Разделяем features и target\n",
    "2. Генерируем случайную матрицу $Y$.  \n",
    "2а. Проверяем обратимость этой матрицы $Y$ (для этого надо вычеслить детерминант=определитель).   \n",
    "3. Получение новой матрицы, путем домножения признаков на случайную обратимую матрицу $Z = YX$  \n",
    "4. Сравниваем метрику R2 на исходных и зашифрованных признаках"
   ]
  },
  {
   "cell_type": "markdown",
   "metadata": {},
   "source": [
    "**Обоснование**\n",
    "\n",
    "Т.к. произведение матриц состоит из всех возможных комбинаций скалярных произведений векторов матрицы features (строк) и векторов матрицы random (столбцов), то получается мы произведем умножение каждого возможного набора признаков (строка-вектор) на наборы векторов random (столбец-вектор), затем сохраним эти произведения в новый вектор-строку. Выходит, что веса вектора-строки итогового будут примерно одинаковые с весами признаков для каждого нового набора векторов в результирующей матрице (матрица обратная для исходной матрицы)."
   ]
  },
  {
   "cell_type": "markdown",
   "metadata": {},
   "source": [
    "## Проверка алгоритма"
   ]
  },
  {
   "cell_type": "markdown",
   "metadata": {},
   "source": [
    "Запрограммируйте этот алгоритм, применив матричные операции. Проверьте, что качество линейной регрессии из sklearn не отличается до и после преобразования. Примените метрику R2."
   ]
  },
  {
   "cell_type": "markdown",
   "metadata": {},
   "source": [
    "Разделим данные на обучающую и тестовую выборку и обучим модель."
   ]
  },
  {
   "cell_type": "code",
   "execution_count": 7,
   "metadata": {},
   "outputs": [
    {
     "name": "stdout",
     "output_type": "stream",
     "text": [
      "R2 до преобразования = 0.43522757127026546\n"
     ]
    }
   ],
   "source": [
    "features = data.drop('Страховые выплаты', axis=1)\n",
    "target = data['Страховые выплаты']\n",
    "features_train, features_test, target_train, target_test = train_test_split(features, target, \n",
    "                                                                            test_size=0.25, random_state=12345)\n",
    "model = LinearRegression()\n",
    "model.fit(features_train, target_train)\n",
    "predictions_origin = model.predict(features_test)\n",
    "r2_score_origin = r2_score(target_test, predictions_origin)\n",
    "print(\"R2 до преобразования =\", r2_score_origin)"
   ]
  },
  {
   "cell_type": "markdown",
   "metadata": {},
   "source": [
    "Далее создадим функцию для преобразования матрицы признаков.  \n",
    "**Когда будем вычислять определитель (детерминант), надо чтобы он был не равен нулю - тогда такая матрица будет обратима.**"
   ]
  },
  {
   "cell_type": "code",
   "execution_count": 8,
   "metadata": {},
   "outputs": [],
   "source": [
    "def transform_features(features):\n",
    "    new_features = features\n",
    "    n = features.shape[1] # сохранили в новую переменную features и длинну матрицы (кол-во столбцов [1]) сохранили в n \n",
    "    np.random.seed(12345) # задаем начальные условия для генератора случайных чисел\n",
    "    random_matrix = np.random.randint(1, 10, size = (n,n)) # создали массив(квадратичную матрицу) со случайными числами, размерами как исходный features\n",
    "    det = np.linalg.det(random_matrix) # вычеслили детерминант матрицы\n",
    "    \n",
    "    while det == 0: # если сгенирируется выше рандомная матрица с детерминантом равная 0, то заново надо сгенерировать эту матрицу, так как нам нужны обратимая матрица\n",
    "        np.random.seed(12345)\n",
    "        random_matrix = np.random.randint(1, 10, size = (n,n))\n",
    "        det = np.linalg.det(random_matrix)\n",
    "        \n",
    "    new_features = new_features @ random_matrix # перемножили матрицы между собой (рандомную обратимую и матрицу признаков)\n",
    "    return new_features, random_matrix\n",
    "    "
   ]
  },
  {
   "cell_type": "markdown",
   "metadata": {},
   "source": [
    "Применим эту функцию к признакам и посмотрим, что выходит."
   ]
  },
  {
   "cell_type": "code",
   "execution_count": 9,
   "metadata": {},
   "outputs": [
    {
     "name": "stdout",
     "output_type": "stream",
     "text": [
      "Признаки до преобразования\n"
     ]
    },
    {
     "data": {
      "text/html": [
       "<div>\n",
       "<style scoped>\n",
       "    .dataframe tbody tr th:only-of-type {\n",
       "        vertical-align: middle;\n",
       "    }\n",
       "\n",
       "    .dataframe tbody tr th {\n",
       "        vertical-align: top;\n",
       "    }\n",
       "\n",
       "    .dataframe thead th {\n",
       "        text-align: right;\n",
       "    }\n",
       "</style>\n",
       "<table border=\"1\" class=\"dataframe\">\n",
       "  <thead>\n",
       "    <tr style=\"text-align: right;\">\n",
       "      <th></th>\n",
       "      <th>Пол</th>\n",
       "      <th>Возраст</th>\n",
       "      <th>Зарплата</th>\n",
       "      <th>Члены семьи</th>\n",
       "    </tr>\n",
       "  </thead>\n",
       "  <tbody>\n",
       "    <tr>\n",
       "      <th>0</th>\n",
       "      <td>1</td>\n",
       "      <td>41.0</td>\n",
       "      <td>49600.0</td>\n",
       "      <td>1</td>\n",
       "    </tr>\n",
       "    <tr>\n",
       "      <th>1</th>\n",
       "      <td>0</td>\n",
       "      <td>46.0</td>\n",
       "      <td>38000.0</td>\n",
       "      <td>1</td>\n",
       "    </tr>\n",
       "    <tr>\n",
       "      <th>2</th>\n",
       "      <td>0</td>\n",
       "      <td>29.0</td>\n",
       "      <td>21000.0</td>\n",
       "      <td>0</td>\n",
       "    </tr>\n",
       "    <tr>\n",
       "      <th>3</th>\n",
       "      <td>0</td>\n",
       "      <td>21.0</td>\n",
       "      <td>41700.0</td>\n",
       "      <td>2</td>\n",
       "    </tr>\n",
       "    <tr>\n",
       "      <th>4</th>\n",
       "      <td>1</td>\n",
       "      <td>28.0</td>\n",
       "      <td>26100.0</td>\n",
       "      <td>0</td>\n",
       "    </tr>\n",
       "  </tbody>\n",
       "</table>\n",
       "</div>"
      ],
      "text/plain": [
       "   Пол  Возраст  Зарплата  Члены семьи\n",
       "0    1     41.0   49600.0            1\n",
       "1    0     46.0   38000.0            1\n",
       "2    0     29.0   21000.0            0\n",
       "3    0     21.0   41700.0            2\n",
       "4    1     28.0   26100.0            0"
      ]
     },
     "metadata": {},
     "output_type": "display_data"
    },
    {
     "name": "stdout",
     "output_type": "stream",
     "text": [
      " \n",
      "Признаки после преобразования\n"
     ]
    },
    {
     "data": {
      "text/html": [
       "<div>\n",
       "<style scoped>\n",
       "    .dataframe tbody tr th:only-of-type {\n",
       "        vertical-align: middle;\n",
       "    }\n",
       "\n",
       "    .dataframe tbody tr th {\n",
       "        vertical-align: top;\n",
       "    }\n",
       "\n",
       "    .dataframe thead th {\n",
       "        text-align: right;\n",
       "    }\n",
       "</style>\n",
       "<table border=\"1\" class=\"dataframe\">\n",
       "  <thead>\n",
       "    <tr style=\"text-align: right;\">\n",
       "      <th></th>\n",
       "      <th>0</th>\n",
       "      <th>1</th>\n",
       "      <th>2</th>\n",
       "      <th>3</th>\n",
       "    </tr>\n",
       "  </thead>\n",
       "  <tbody>\n",
       "    <tr>\n",
       "      <th>0</th>\n",
       "      <td>99452.0</td>\n",
       "      <td>396931.0</td>\n",
       "      <td>347287.0</td>\n",
       "      <td>49899.0</td>\n",
       "    </tr>\n",
       "    <tr>\n",
       "      <th>1</th>\n",
       "      <td>76279.0</td>\n",
       "      <td>304140.0</td>\n",
       "      <td>266095.0</td>\n",
       "      <td>38329.0</td>\n",
       "    </tr>\n",
       "    <tr>\n",
       "      <th>2</th>\n",
       "      <td>42174.0</td>\n",
       "      <td>168087.0</td>\n",
       "      <td>147058.0</td>\n",
       "      <td>21203.0</td>\n",
       "    </tr>\n",
       "    <tr>\n",
       "      <th>3</th>\n",
       "      <td>83532.0</td>\n",
       "      <td>333667.0</td>\n",
       "      <td>291948.0</td>\n",
       "      <td>41861.0</td>\n",
       "    </tr>\n",
       "    <tr>\n",
       "      <th>4</th>\n",
       "      <td>52371.0</td>\n",
       "      <td>208890.0</td>\n",
       "      <td>182758.0</td>\n",
       "      <td>26301.0</td>\n",
       "    </tr>\n",
       "  </tbody>\n",
       "</table>\n",
       "</div>"
      ],
      "text/plain": [
       "         0         1         2        3\n",
       "0  99452.0  396931.0  347287.0  49899.0\n",
       "1  76279.0  304140.0  266095.0  38329.0\n",
       "2  42174.0  168087.0  147058.0  21203.0\n",
       "3  83532.0  333667.0  291948.0  41861.0\n",
       "4  52371.0  208890.0  182758.0  26301.0"
      ]
     },
     "metadata": {},
     "output_type": "display_data"
    },
    {
     "data": {
      "text/plain": [
       "array([[3, 6, 2, 5],\n",
       "       [6, 3, 2, 7],\n",
       "       [2, 8, 7, 1],\n",
       "       [3, 2, 3, 7]])"
      ]
     },
     "execution_count": 9,
     "metadata": {},
     "output_type": "execute_result"
    }
   ],
   "source": [
    "print(\"Признаки до преобразования\")\n",
    "display(features.head())\n",
    "features, random_matrix = transform_features(features)\n",
    "print(\" \")\n",
    "print(\"Признаки после преобразования\")\n",
    "display(features.head())\n",
    "random_matrix"
   ]
  },
  {
   "cell_type": "markdown",
   "metadata": {},
   "source": [
    "Видим, что после преобразования признаки стали совсем другими - совсем непонятные числа.   \n",
    "Теперь вычеслим R2 с новыми преобразованными признаками. "
   ]
  },
  {
   "cell_type": "code",
   "execution_count": 10,
   "metadata": {},
   "outputs": [
    {
     "name": "stdout",
     "output_type": "stream",
     "text": [
      "R2 после преобразования = 0.43522757127030764\n"
     ]
    }
   ],
   "source": [
    "features_train, features_test, target_train, target_test = train_test_split(features, target, \n",
    "                                                                            test_size=0.25, random_state=12345)\n",
    "model = LinearRegression()\n",
    "model.fit(features_train, target_train)\n",
    "predictions_transform = model.predict(features_test)\n",
    "r2_score_transform = r2_score(target_test, predictions_transform)\n",
    "print(\"R2 после преобразования =\", r2_score_transform)"
   ]
  },
  {
   "cell_type": "code",
   "execution_count": 11,
   "metadata": {},
   "outputs": [
    {
     "name": "stdout",
     "output_type": "stream",
     "text": [
      "модель                                                  R2\n",
      "------------------------------------------------  --------\n",
      "Линейная регрессия до преобразования признаков    0.435228\n",
      "Линейная регрессия с преобразованными признаками  0.435228\n"
     ]
    }
   ],
   "source": [
    "col = [[\"Линейная регрессия до преобразования признаков\", r2_score_origin],\n",
    "       [\"Линейная регрессия с преобразованными признаками\", r2_score_transform]]\n",
    "\n",
    "col_names = ['модель', 'R2']\n",
    "print(tabulate(col, headers=col_names))"
   ]
  },
  {
   "cell_type": "markdown",
   "metadata": {},
   "source": [
    "R2 метрика не поменялась, значит с поставленной задачей справились. "
   ]
  },
  {
   "cell_type": "markdown",
   "metadata": {},
   "source": [
    "**Вывод**  \n",
    "Разработали метод преобразования данных (перемножили матрицу признаков на случайную обратимую матрицу), чтобы по ним было сложно восстановить персональную информацию. Защитили данные так, что при этом качество модели машинного обучения не ухудшилось."
   ]
  },
  {
   "cell_type": "code",
   "execution_count": null,
   "metadata": {},
   "outputs": [],
   "source": []
  }
 ],
 "metadata": {
  "ExecuteTimeLog": [
   {
    "duration": 358,
    "start_time": "2023-01-18T10:25:18.251Z"
   },
   {
    "duration": 86,
    "start_time": "2023-01-18T10:25:54.568Z"
   },
   {
    "duration": 52,
    "start_time": "2023-01-18T10:26:05.614Z"
   },
   {
    "duration": 11,
    "start_time": "2023-01-18T10:27:01.737Z"
   },
   {
    "duration": 6,
    "start_time": "2023-01-18T10:27:53.270Z"
   },
   {
    "duration": 6,
    "start_time": "2023-01-18T10:29:23.809Z"
   },
   {
    "duration": 3,
    "start_time": "2023-01-18T14:51:32.513Z"
   },
   {
    "duration": 52,
    "start_time": "2023-01-18T14:51:32.527Z"
   },
   {
    "duration": 21,
    "start_time": "2023-01-18T14:51:32.581Z"
   },
   {
    "duration": 45,
    "start_time": "2023-01-18T14:51:32.604Z"
   },
   {
    "duration": 32,
    "start_time": "2023-01-18T14:51:32.651Z"
   },
   {
    "duration": 823,
    "start_time": "2023-01-18T16:19:56.864Z"
   },
   {
    "duration": 94,
    "start_time": "2023-01-18T16:20:36.239Z"
   },
   {
    "duration": 8,
    "start_time": "2023-01-18T16:21:16.618Z"
   },
   {
    "duration": 16,
    "start_time": "2023-01-18T16:26:21.094Z"
   },
   {
    "duration": 12,
    "start_time": "2023-01-18T16:26:33.342Z"
   },
   {
    "duration": 92,
    "start_time": "2023-01-18T16:28:02.844Z"
   },
   {
    "duration": 13,
    "start_time": "2023-01-18T16:28:09.014Z"
   },
   {
    "duration": 12,
    "start_time": "2023-01-18T16:28:14.261Z"
   },
   {
    "duration": 4,
    "start_time": "2023-01-18T17:08:40.780Z"
   },
   {
    "duration": 20,
    "start_time": "2023-01-18T17:18:05.797Z"
   },
   {
    "duration": 4,
    "start_time": "2023-01-18T17:18:43.433Z"
   },
   {
    "duration": 1102,
    "start_time": "2023-01-18T17:19:07.860Z"
   },
   {
    "duration": 38,
    "start_time": "2023-01-18T17:19:08.964Z"
   },
   {
    "duration": 11,
    "start_time": "2023-01-18T17:19:09.004Z"
   },
   {
    "duration": 29,
    "start_time": "2023-01-18T17:19:09.017Z"
   },
   {
    "duration": 35,
    "start_time": "2023-01-18T17:19:09.048Z"
   },
   {
    "duration": 39,
    "start_time": "2023-01-18T17:19:09.085Z"
   },
   {
    "duration": 54,
    "start_time": "2023-01-18T17:19:09.128Z"
   },
   {
    "duration": 51,
    "start_time": "2023-01-18T17:19:09.184Z"
   },
   {
    "duration": 19,
    "start_time": "2023-01-18T17:27:36.372Z"
   },
   {
    "duration": 23,
    "start_time": "2023-01-18T17:28:06.323Z"
   },
   {
    "duration": 23,
    "start_time": "2023-01-18T17:28:57.071Z"
   },
   {
    "duration": 22,
    "start_time": "2023-01-18T17:29:09.512Z"
   },
   {
    "duration": 1051,
    "start_time": "2023-01-18T17:29:36.514Z"
   },
   {
    "duration": 49,
    "start_time": "2023-01-18T17:29:37.568Z"
   },
   {
    "duration": 12,
    "start_time": "2023-01-18T17:29:37.620Z"
   },
   {
    "duration": 6,
    "start_time": "2023-01-18T17:29:37.635Z"
   },
   {
    "duration": 6,
    "start_time": "2023-01-18T17:29:37.643Z"
   },
   {
    "duration": 35,
    "start_time": "2023-01-18T17:29:37.651Z"
   },
   {
    "duration": 5,
    "start_time": "2023-01-18T17:29:37.687Z"
   },
   {
    "duration": 36,
    "start_time": "2023-01-18T17:29:37.693Z"
   },
   {
    "duration": 10,
    "start_time": "2023-01-18T17:35:14.485Z"
   },
   {
    "duration": 13,
    "start_time": "2023-01-18T17:35:21.547Z"
   },
   {
    "duration": 2599,
    "start_time": "2023-01-18T17:39:40.442Z"
   },
   {
    "duration": 7,
    "start_time": "2023-01-18T17:39:54.840Z"
   },
   {
    "duration": 2194,
    "start_time": "2023-01-18T18:17:57.178Z"
   },
   {
    "duration": 3,
    "start_time": "2023-01-18T18:18:08.414Z"
   },
   {
    "duration": 1271,
    "start_time": "2023-01-18T18:20:04.488Z"
   },
   {
    "duration": 46,
    "start_time": "2023-01-18T18:20:05.762Z"
   },
   {
    "duration": 14,
    "start_time": "2023-01-18T18:20:05.815Z"
   },
   {
    "duration": 37,
    "start_time": "2023-01-18T18:20:05.831Z"
   },
   {
    "duration": 49,
    "start_time": "2023-01-18T18:20:05.871Z"
   },
   {
    "duration": 52,
    "start_time": "2023-01-18T18:20:05.923Z"
   },
   {
    "duration": 17,
    "start_time": "2023-01-18T18:20:05.977Z"
   },
   {
    "duration": 75,
    "start_time": "2023-01-18T18:20:05.996Z"
   },
   {
    "duration": 28,
    "start_time": "2023-01-18T18:20:06.073Z"
   },
   {
    "duration": 2069,
    "start_time": "2023-01-18T18:20:06.104Z"
   },
   {
    "duration": 7,
    "start_time": "2023-01-18T18:20:08.175Z"
   },
   {
    "duration": 7,
    "start_time": "2023-01-18T18:20:08.184Z"
   },
   {
    "duration": 13,
    "start_time": "2023-01-18T18:20:08.192Z"
   },
   {
    "duration": 85,
    "start_time": "2023-01-18T18:22:28.608Z"
   },
   {
    "duration": 5,
    "start_time": "2023-01-18T18:22:44.833Z"
   },
   {
    "duration": 2003,
    "start_time": "2023-01-18T18:27:21.626Z"
   },
   {
    "duration": 1092,
    "start_time": "2023-01-18T18:27:23.632Z"
   },
   {
    "duration": 50,
    "start_time": "2023-01-18T18:27:24.726Z"
   },
   {
    "duration": 11,
    "start_time": "2023-01-18T18:27:24.778Z"
   },
   {
    "duration": 12,
    "start_time": "2023-01-18T18:27:24.791Z"
   },
   {
    "duration": 29,
    "start_time": "2023-01-18T18:27:24.805Z"
   },
   {
    "duration": 22,
    "start_time": "2023-01-18T18:27:24.836Z"
   },
   {
    "duration": 27,
    "start_time": "2023-01-18T18:27:24.860Z"
   },
   {
    "duration": 31,
    "start_time": "2023-01-18T18:27:24.889Z"
   },
   {
    "duration": 13,
    "start_time": "2023-01-18T18:27:24.922Z"
   },
   {
    "duration": 9,
    "start_time": "2023-01-18T18:27:24.937Z"
   },
   {
    "duration": 4,
    "start_time": "2023-01-18T18:33:21.927Z"
   },
   {
    "duration": 2032,
    "start_time": "2023-01-18T18:33:33.509Z"
   },
   {
    "duration": 1123,
    "start_time": "2023-01-18T18:33:35.544Z"
   },
   {
    "duration": 40,
    "start_time": "2023-01-18T18:33:36.669Z"
   },
   {
    "duration": 20,
    "start_time": "2023-01-18T18:33:36.711Z"
   },
   {
    "duration": 9,
    "start_time": "2023-01-18T18:33:36.735Z"
   },
   {
    "duration": 12,
    "start_time": "2023-01-18T18:33:36.747Z"
   },
   {
    "duration": 33,
    "start_time": "2023-01-18T18:33:36.760Z"
   },
   {
    "duration": 5,
    "start_time": "2023-01-18T18:33:36.794Z"
   },
   {
    "duration": 30,
    "start_time": "2023-01-18T18:33:36.800Z"
   },
   {
    "duration": 10,
    "start_time": "2023-01-18T18:33:36.833Z"
   },
   {
    "duration": 4,
    "start_time": "2023-01-18T18:33:36.845Z"
   },
   {
    "duration": 2819,
    "start_time": "2023-01-18T19:12:35.812Z"
   },
   {
    "duration": 1576,
    "start_time": "2023-01-18T19:12:38.634Z"
   },
   {
    "duration": 42,
    "start_time": "2023-01-18T19:12:40.212Z"
   },
   {
    "duration": 11,
    "start_time": "2023-01-18T19:12:40.256Z"
   },
   {
    "duration": 10,
    "start_time": "2023-01-18T19:12:40.270Z"
   },
   {
    "duration": 18,
    "start_time": "2023-01-18T19:12:40.282Z"
   },
   {
    "duration": 11,
    "start_time": "2023-01-18T19:12:42.696Z"
   },
   {
    "duration": 4,
    "start_time": "2023-01-18T19:12:43.033Z"
   },
   {
    "duration": 18,
    "start_time": "2023-01-18T19:12:43.376Z"
   },
   {
    "duration": 10,
    "start_time": "2023-01-18T19:12:43.711Z"
   },
   {
    "duration": 6,
    "start_time": "2023-01-18T19:12:43.879Z"
   },
   {
    "duration": 12,
    "start_time": "2023-01-19T07:56:11.061Z"
   }
  ],
  "kernelspec": {
   "display_name": "Python 3",
   "language": "python",
   "name": "python3"
  },
  "language_info": {
   "codemirror_mode": {
    "name": "ipython",
    "version": 3
   },
   "file_extension": ".py",
   "mimetype": "text/x-python",
   "name": "python",
   "nbconvert_exporter": "python",
   "pygments_lexer": "ipython3",
   "version": "3.8.3"
  },
  "toc": {
   "base_numbering": 1,
   "nav_menu": {},
   "number_sections": true,
   "sideBar": true,
   "skip_h1_title": true,
   "title_cell": "Содержание",
   "title_sidebar": "Contents",
   "toc_cell": true,
   "toc_position": {
    "height": "calc(100% - 180px)",
    "left": "10px",
    "top": "150px",
    "width": "165px"
   },
   "toc_section_display": true,
   "toc_window_display": true
  }
 },
 "nbformat": 4,
 "nbformat_minor": 2
}
