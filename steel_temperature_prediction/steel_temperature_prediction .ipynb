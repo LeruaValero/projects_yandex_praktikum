{
 "cells": [
  {
   "cell_type": "markdown",
   "metadata": {},
   "source": [
    "# Прогнозирование температуры стали во время плавки"
   ]
  },
  {
   "cell_type": "markdown",
   "metadata": {},
   "source": [
    "Чтобы оптимизировать производственные расходы, металлургический комбинат ООО «Так закаляем сталь» решил уменьшить потребление электроэнергии на этапе обработки стали. \n",
    "\n",
    "Цель проекта - построить модель, которая предскажет температуру стали, и это в свою очереди позволит уменьшить потребление электроэнергии на этапе обработки стали. "
   ]
  },
  {
   "cell_type": "markdown",
   "metadata": {},
   "source": [
    "**Описание этапа обработки**  \n",
    "Сталь обрабатывают в металлическом ковше вместимостью около 100 тонн. Чтобы ковш выдерживал высокие температуры, изнутри его облицовывают огнеупорным кирпичом. Расплавленную сталь заливают в ковш и подогревают до нужной температуры графитовыми электродами. Они установлены в крышке ковша.  \n",
    "\n",
    "Из сплава выводится сера (десульфурация), добавлением примесей корректируется химический состав и отбираются пробы. Сталь легируют — изменяют её состав — подавая куски сплава из бункера для сыпучих материалов или проволоку через специальный трайб-аппарат (англ. tribe, «масса»).  \n",
    "\n",
    "Перед тем как первый раз ввести легирующие добавки, измеряют температуру стали и производят её химический анализ. Потом температуру на несколько минут повышают, добавляют легирующие материалы и продувают сплав инертным газом. Затем его перемешивают и снова проводят измерения. Такой цикл повторяется до достижения целевого химического состава и оптимальной температуры плавки.  \n",
    "\n",
    "Тогда расплавленная сталь отправляется на доводку металла или поступает в машину непрерывной разливки. Оттуда готовый продукт выходит в виде заготовок-слябов (англ. slab, «плита»)."
   ]
  },
  {
   "cell_type": "markdown",
   "metadata": {},
   "source": [
    "**Описание данных**  \n",
    "Данные состоят из файлов, полученных из разных источников:\n",
    "\n",
    "- `data_arc.csv` — данные об электродах;\n",
    "- `data_bulk.csv` — данные о подаче сыпучих материалов (объём);\n",
    "- `data_bulk_time.csv` *—* данные о подаче сыпучих материалов (время);\n",
    "- `data_gas.csv` — данные о продувке сплава газом;\n",
    "- `data_temp.csv` — результаты измерения температуры;\n",
    "- `data_wire.csv` — данные о проволочных материалах (объём);\n",
    "- `data_wire_time.csv` — данные о проволочных материалах (время).\n",
    "\n",
    "Во всех файлах столбец `key` содержит номер партии. В файлах может быть несколько строк с одинаковым значением `key`: они соответствуют разным итерациям обработки."
   ]
  },
  {
   "cell_type": "markdown",
   "metadata": {},
   "source": [
    "**План проекта**  \n",
    "**1. Проведение обзора данных (EDA)**\n",
    "\n",
    "**Подготовка данных:** \n",
    "* Импорт необходимых библиотек;\n",
    "* Чтение файлов и сохранение полученных данных в переменные;\n",
    "* Получение общей информации о таблицах (head, info, describe);\n",
    "* Корректировка наименований столбцов (при необходимости).\n",
    "* Выводы\n",
    "\n",
    "**Анализ данных:**\n",
    "* Графическое представление данных из таблиц;\n",
    "* Проверка данных на аномалии.\n",
    "* Выводы\n",
    "\n",
    "**Предобработка данных:**\n",
    "* Корректировка типов данных (при необходимости);\n",
    "* Заполнение пропусков / удаление дубликатов (при наличии);\n",
    "* Выделение признаков и таргета;\n",
    "* Соединение таблиц.\n",
    "* Выводы\n",
    "\n",
    "**Исследование итоговой таблицы с данными:**\n",
    "* Аналитический анализ\n",
    "* корреляционный анализ\n",
    "* выводы\n",
    "\n",
    "**2. Построение модели машинного обучения**\n",
    "\n",
    "**Обучение модели:**\n",
    "* Разделение данных на обучающую и тестовую выборки;\n",
    "* Масштабирование данных;\n",
    "* Обучение модели линейной регрессии;\n",
    "* Обучение модели градиентного бустинга с перебором гиперпараметров;\n",
    "* Константная модели.\n",
    "* Выбор лучшей модели\n",
    "\n",
    "**Проверка моделей:**\n",
    "* Тестирование лучшей модели на тестовой выборке;\n",
    "* Если MAE на тестовых данных > нужной метрики - доработка модели.\n",
    "* Анализ важности факторов\n",
    "\n",
    "**3. Общий вывод**"
   ]
  },
  {
   "cell_type": "markdown",
   "metadata": {},
   "source": [
    "## Проведение обзора данных (EDA)"
   ]
  },
  {
   "cell_type": "markdown",
   "metadata": {},
   "source": [
    "### Подготовка и анализ данных"
   ]
  },
  {
   "cell_type": "code",
   "execution_count": 1,
   "metadata": {},
   "outputs": [
    {
     "name": "stdout",
     "output_type": "stream",
     "text": [
      "Requirement already satisfied: seaborn in /opt/conda/lib/python3.9/site-packages (0.11.1)\n",
      "Collecting seaborn\n",
      "  Downloading seaborn-0.12.2-py3-none-any.whl (293 kB)\n",
      "\u001b[K     |████████████████████████████████| 293 kB 1.2 MB/s eta 0:00:01\n",
      "\u001b[?25hRequirement already satisfied: lightgbm in /opt/conda/lib/python3.9/site-packages (3.3.1)\n",
      "Collecting lightgbm\n",
      "  Downloading lightgbm-3.3.5-py3-none-manylinux1_x86_64.whl (2.0 MB)\n",
      "\u001b[K     |████████████████████████████████| 2.0 MB 18.8 MB/s eta 0:00:01\n",
      "\u001b[?25hRequirement already satisfied: numpy!=1.24.0,>=1.17 in /opt/conda/lib/python3.9/site-packages (from seaborn) (1.21.1)\n",
      "Requirement already satisfied: pandas>=0.25 in /opt/conda/lib/python3.9/site-packages (from seaborn) (1.2.4)\n",
      "Requirement already satisfied: matplotlib!=3.6.1,>=3.1 in /opt/conda/lib/python3.9/site-packages (from seaborn) (3.3.4)\n",
      "Requirement already satisfied: pyparsing!=2.0.4,!=2.1.2,!=2.1.6,>=2.0.3 in /opt/conda/lib/python3.9/site-packages (from matplotlib!=3.6.1,>=3.1->seaborn) (2.4.7)\n",
      "Requirement already satisfied: kiwisolver>=1.0.1 in /opt/conda/lib/python3.9/site-packages (from matplotlib!=3.6.1,>=3.1->seaborn) (1.4.4)\n",
      "Requirement already satisfied: pillow>=6.2.0 in /opt/conda/lib/python3.9/site-packages (from matplotlib!=3.6.1,>=3.1->seaborn) (8.4.0)\n",
      "Requirement already satisfied: python-dateutil>=2.1 in /opt/conda/lib/python3.9/site-packages (from matplotlib!=3.6.1,>=3.1->seaborn) (2.8.1)\n",
      "Requirement already satisfied: cycler>=0.10 in /opt/conda/lib/python3.9/site-packages (from matplotlib!=3.6.1,>=3.1->seaborn) (0.11.0)\n",
      "Requirement already satisfied: pytz>=2017.3 in /opt/conda/lib/python3.9/site-packages (from pandas>=0.25->seaborn) (2021.1)\n",
      "Requirement already satisfied: six>=1.5 in /opt/conda/lib/python3.9/site-packages (from python-dateutil>=2.1->matplotlib!=3.6.1,>=3.1->seaborn) (1.16.0)\n",
      "Requirement already satisfied: scikit-learn!=0.22.0 in /opt/conda/lib/python3.9/site-packages (from lightgbm) (0.24.1)\n",
      "Requirement already satisfied: scipy in /opt/conda/lib/python3.9/site-packages (from lightgbm) (1.9.1)\n",
      "Requirement already satisfied: wheel in /opt/conda/lib/python3.9/site-packages (from lightgbm) (0.36.2)\n",
      "Requirement already satisfied: joblib>=0.11 in /opt/conda/lib/python3.9/site-packages (from scikit-learn!=0.22.0->lightgbm) (1.1.0)\n",
      "Requirement already satisfied: threadpoolctl>=2.0.0 in /opt/conda/lib/python3.9/site-packages (from scikit-learn!=0.22.0->lightgbm) (3.1.0)\n",
      "Installing collected packages: seaborn, lightgbm\n",
      "  Attempting uninstall: seaborn\n",
      "    Found existing installation: seaborn 0.11.1\n",
      "    Uninstalling seaborn-0.11.1:\n",
      "      Successfully uninstalled seaborn-0.11.1\n",
      "  Attempting uninstall: lightgbm\n",
      "    Found existing installation: lightgbm 3.3.1\n",
      "    Uninstalling lightgbm-3.3.1:\n",
      "      Successfully uninstalled lightgbm-3.3.1\n",
      "Successfully installed lightgbm-3.3.5 seaborn-0.12.2\n"
     ]
    }
   ],
   "source": [
    "!pip install seaborn lightgbm --upgrade"
   ]
  },
  {
   "cell_type": "code",
   "execution_count": 2,
   "metadata": {},
   "outputs": [],
   "source": [
    "import pandas as pd\n",
    "import numpy as np\n",
    "import matplotlib.pyplot as plt\n",
    "import seaborn as sns\n",
    "\n",
    "\n",
    "from sklearn.model_selection import train_test_split\n",
    "from sklearn.preprocessing import StandardScaler\n",
    "from sklearn.model_selection import cross_val_score\n",
    "\n",
    "from  sklearn.linear_model import LinearRegression\n",
    "from sklearn.ensemble import RandomForestRegressor\n",
    "from lightgbm import LGBMRegressor\n",
    "from catboost import CatBoostRegressor\n",
    "from sklearn.dummy import DummyRegressor\n",
    "from sklearn.metrics import mean_squared_error, mean_absolute_error\n",
    "from sklearn.model_selection import GridSearchCV\n",
    "\n",
    "\n",
    "\n",
    "RANDOM_STATE = 100423\n",
    "CV_COUNTS = 5"
   ]
  },
  {
   "cell_type": "code",
   "execution_count": 3,
   "metadata": {},
   "outputs": [],
   "source": [
    "from sklearn.model_selection import RandomizedSearchCV"
   ]
  },
  {
   "cell_type": "markdown",
   "metadata": {},
   "source": [
    "**Данные об электродах**"
   ]
  },
  {
   "cell_type": "code",
   "execution_count": 4,
   "metadata": {},
   "outputs": [
    {
     "data": {
      "text/html": [
       "<div>\n",
       "<style scoped>\n",
       "    .dataframe tbody tr th:only-of-type {\n",
       "        vertical-align: middle;\n",
       "    }\n",
       "\n",
       "    .dataframe tbody tr th {\n",
       "        vertical-align: top;\n",
       "    }\n",
       "\n",
       "    .dataframe thead th {\n",
       "        text-align: right;\n",
       "    }\n",
       "</style>\n",
       "<table border=\"1\" class=\"dataframe\">\n",
       "  <thead>\n",
       "    <tr style=\"text-align: right;\">\n",
       "      <th></th>\n",
       "      <th>key</th>\n",
       "      <th>Начало нагрева дугой</th>\n",
       "      <th>Конец нагрева дугой</th>\n",
       "      <th>Активная мощность</th>\n",
       "      <th>Реактивная мощность</th>\n",
       "    </tr>\n",
       "  </thead>\n",
       "  <tbody>\n",
       "    <tr>\n",
       "      <th>0</th>\n",
       "      <td>1</td>\n",
       "      <td>2019-05-03 11:02:14</td>\n",
       "      <td>2019-05-03 11:06:02</td>\n",
       "      <td>0.976059</td>\n",
       "      <td>0.687084</td>\n",
       "    </tr>\n",
       "    <tr>\n",
       "      <th>1</th>\n",
       "      <td>1</td>\n",
       "      <td>2019-05-03 11:07:28</td>\n",
       "      <td>2019-05-03 11:10:33</td>\n",
       "      <td>0.805607</td>\n",
       "      <td>0.520285</td>\n",
       "    </tr>\n",
       "    <tr>\n",
       "      <th>2</th>\n",
       "      <td>1</td>\n",
       "      <td>2019-05-03 11:11:44</td>\n",
       "      <td>2019-05-03 11:14:36</td>\n",
       "      <td>0.744363</td>\n",
       "      <td>0.498805</td>\n",
       "    </tr>\n",
       "    <tr>\n",
       "      <th>3</th>\n",
       "      <td>1</td>\n",
       "      <td>2019-05-03 11:18:14</td>\n",
       "      <td>2019-05-03 11:24:19</td>\n",
       "      <td>1.659363</td>\n",
       "      <td>1.062669</td>\n",
       "    </tr>\n",
       "    <tr>\n",
       "      <th>4</th>\n",
       "      <td>1</td>\n",
       "      <td>2019-05-03 11:26:09</td>\n",
       "      <td>2019-05-03 11:28:37</td>\n",
       "      <td>0.692755</td>\n",
       "      <td>0.414397</td>\n",
       "    </tr>\n",
       "    <tr>\n",
       "      <th>...</th>\n",
       "      <td>...</td>\n",
       "      <td>...</td>\n",
       "      <td>...</td>\n",
       "      <td>...</td>\n",
       "      <td>...</td>\n",
       "    </tr>\n",
       "    <tr>\n",
       "      <th>14871</th>\n",
       "      <td>3241</td>\n",
       "      <td>2019-09-01 03:58:58</td>\n",
       "      <td>2019-09-01 04:01:35</td>\n",
       "      <td>0.533670</td>\n",
       "      <td>0.354439</td>\n",
       "    </tr>\n",
       "    <tr>\n",
       "      <th>14872</th>\n",
       "      <td>3241</td>\n",
       "      <td>2019-09-01 04:05:04</td>\n",
       "      <td>2019-09-01 04:08:04</td>\n",
       "      <td>0.676604</td>\n",
       "      <td>0.523631</td>\n",
       "    </tr>\n",
       "    <tr>\n",
       "      <th>14873</th>\n",
       "      <td>3241</td>\n",
       "      <td>2019-09-01 04:16:41</td>\n",
       "      <td>2019-09-01 04:19:45</td>\n",
       "      <td>0.733899</td>\n",
       "      <td>0.475654</td>\n",
       "    </tr>\n",
       "    <tr>\n",
       "      <th>14874</th>\n",
       "      <td>3241</td>\n",
       "      <td>2019-09-01 04:31:51</td>\n",
       "      <td>2019-09-01 04:32:48</td>\n",
       "      <td>0.220694</td>\n",
       "      <td>0.145768</td>\n",
       "    </tr>\n",
       "    <tr>\n",
       "      <th>14875</th>\n",
       "      <td>3241</td>\n",
       "      <td>2019-09-01 04:34:47</td>\n",
       "      <td>2019-09-01 04:36:08</td>\n",
       "      <td>0.306580</td>\n",
       "      <td>0.196708</td>\n",
       "    </tr>\n",
       "  </tbody>\n",
       "</table>\n",
       "<p>14876 rows × 5 columns</p>\n",
       "</div>"
      ],
      "text/plain": [
       "        key Начало нагрева дугой  Конец нагрева дугой  Активная мощность  \\\n",
       "0         1  2019-05-03 11:02:14  2019-05-03 11:06:02           0.976059   \n",
       "1         1  2019-05-03 11:07:28  2019-05-03 11:10:33           0.805607   \n",
       "2         1  2019-05-03 11:11:44  2019-05-03 11:14:36           0.744363   \n",
       "3         1  2019-05-03 11:18:14  2019-05-03 11:24:19           1.659363   \n",
       "4         1  2019-05-03 11:26:09  2019-05-03 11:28:37           0.692755   \n",
       "...     ...                  ...                  ...                ...   \n",
       "14871  3241  2019-09-01 03:58:58  2019-09-01 04:01:35           0.533670   \n",
       "14872  3241  2019-09-01 04:05:04  2019-09-01 04:08:04           0.676604   \n",
       "14873  3241  2019-09-01 04:16:41  2019-09-01 04:19:45           0.733899   \n",
       "14874  3241  2019-09-01 04:31:51  2019-09-01 04:32:48           0.220694   \n",
       "14875  3241  2019-09-01 04:34:47  2019-09-01 04:36:08           0.306580   \n",
       "\n",
       "       Реактивная мощность  \n",
       "0                 0.687084  \n",
       "1                 0.520285  \n",
       "2                 0.498805  \n",
       "3                 1.062669  \n",
       "4                 0.414397  \n",
       "...                    ...  \n",
       "14871             0.354439  \n",
       "14872             0.523631  \n",
       "14873             0.475654  \n",
       "14874             0.145768  \n",
       "14875             0.196708  \n",
       "\n",
       "[14876 rows x 5 columns]"
      ]
     },
     "metadata": {},
     "output_type": "display_data"
    }
   ],
   "source": [
    "df_arc = pd.read_csv('/datasets/final_steel/data_arc.csv')\n",
    "display(df_arc)"
   ]
  },
  {
   "cell_type": "code",
   "execution_count": 5,
   "metadata": {},
   "outputs": [
    {
     "name": "stdout",
     "output_type": "stream",
     "text": [
      "<class 'pandas.core.frame.DataFrame'>\n",
      "RangeIndex: 14876 entries, 0 to 14875\n",
      "Data columns (total 5 columns):\n",
      " #   Column                Non-Null Count  Dtype  \n",
      "---  ------                --------------  -----  \n",
      " 0   key                   14876 non-null  int64  \n",
      " 1   Начало нагрева дугой  14876 non-null  object \n",
      " 2   Конец нагрева дугой   14876 non-null  object \n",
      " 3   Активная мощность     14876 non-null  float64\n",
      " 4   Реактивная мощность   14876 non-null  float64\n",
      "dtypes: float64(2), int64(1), object(2)\n",
      "memory usage: 581.2+ KB\n"
     ]
    }
   ],
   "source": [
    "df_arc.info()"
   ]
  },
  {
   "cell_type": "code",
   "execution_count": 6,
   "metadata": {},
   "outputs": [
    {
     "data": {
      "text/plain": [
       "key                     0\n",
       "Начало нагрева дугой    0\n",
       "Конец нагрева дугой     0\n",
       "Активная мощность       0\n",
       "Реактивная мощность     0\n",
       "dtype: int64"
      ]
     },
     "execution_count": 6,
     "metadata": {},
     "output_type": "execute_result"
    }
   ],
   "source": [
    "df_arc.isna().sum()"
   ]
  },
  {
   "cell_type": "code",
   "execution_count": 7,
   "metadata": {},
   "outputs": [
    {
     "data": {
      "text/plain": [
       "3214"
      ]
     },
     "execution_count": 7,
     "metadata": {},
     "output_type": "execute_result"
    }
   ],
   "source": [
    "len(df_arc['key'].unique())"
   ]
  },
  {
   "cell_type": "code",
   "execution_count": 8,
   "metadata": {},
   "outputs": [
    {
     "data": {
      "text/plain": [
       "count    14876.000000\n",
       "mean         0.670441\n",
       "std          0.408159\n",
       "min          0.030002\n",
       "25%          0.395297\n",
       "50%          0.555517\n",
       "75%          0.857034\n",
       "max          3.731596\n",
       "Name: Активная мощность, dtype: float64"
      ]
     },
     "execution_count": 8,
     "metadata": {},
     "output_type": "execute_result"
    }
   ],
   "source": [
    "df_arc['Активная мощность'].describe()"
   ]
  },
  {
   "cell_type": "code",
   "execution_count": 9,
   "metadata": {},
   "outputs": [
    {
     "data": {
      "text/plain": [
       "count    14876.000000\n",
       "mean         0.452592\n",
       "std          5.878702\n",
       "min       -715.504924\n",
       "25%          0.290991\n",
       "50%          0.415962\n",
       "75%          0.637371\n",
       "max          2.676388\n",
       "Name: Реактивная мощность, dtype: float64"
      ]
     },
     "execution_count": 9,
     "metadata": {},
     "output_type": "execute_result"
    }
   ],
   "source": [
    "df_arc['Реактивная мощность'].describe()"
   ]
  },
  {
   "cell_type": "code",
   "execution_count": 10,
   "metadata": {},
   "outputs": [
    {
     "data": {
      "text/plain": [
       "array([-715.50492418])"
      ]
     },
     "execution_count": 10,
     "metadata": {},
     "output_type": "execute_result"
    }
   ],
   "source": [
    "df_arc['Реактивная мощность'][df_arc['Реактивная мощность']<0].unique()"
   ]
  },
  {
   "cell_type": "code",
   "execution_count": 11,
   "metadata": {},
   "outputs": [
    {
     "data": {
      "text/plain": [
       "0"
      ]
     },
     "execution_count": 11,
     "metadata": {},
     "output_type": "execute_result"
    }
   ],
   "source": [
    "df_arc.duplicated().sum()"
   ]
  },
  {
   "cell_type": "code",
   "execution_count": 12,
   "metadata": {},
   "outputs": [
    {
     "data": {
      "image/png": "[encoded data removed]",
      "text/plain": [
       "<Figure size 1152x720 with 2 Axes>"
      ]
     },
     "metadata": {
      "needs_background": "light"
     },
     "output_type": "display_data"
    }
   ],
   "source": [
    "df_arc_no_key = df_arc.drop(columns='key')\n",
    "df_arc_no_key[df_arc_no_key['Реактивная мощность'] > 0].hist(bins=100, figsize=(16,10))\n",
    "plt.show()"
   ]
  },
  {
   "cell_type": "code",
   "execution_count": 13,
   "metadata": {},
   "outputs": [
    {
     "data": {
      "text/plain": [
       "<AxesSubplot:>"
      ]
     },
     "execution_count": 13,
     "metadata": {},
     "output_type": "execute_result"
    },
    {
     "data": {
      "image/png": "[encoded data removed]",
      "text/plain": [
       "<Figure size 1152x720 with 1 Axes>"
      ]
     },
     "metadata": {
      "needs_background": "light"
     },
     "output_type": "display_data"
    }
   ],
   "source": [
    "df_arc_no_key[df_arc_no_key['Реактивная мощность'] > 0].boxplot(figsize=(16,10))"
   ]
  },
  {
   "cell_type": "code",
   "execution_count": 14,
   "metadata": {},
   "outputs": [
    {
     "data": {
      "text/plain": [
       "3214"
      ]
     },
     "execution_count": 14,
     "metadata": {},
     "output_type": "execute_result"
    }
   ],
   "source": [
    "len(df_arc['key'].unique())"
   ]
  },
  {
   "cell_type": "markdown",
   "metadata": {},
   "source": [
    "**Данные о проволочных материалах (объем)**"
   ]
  },
  {
   "cell_type": "code",
   "execution_count": 15,
   "metadata": {},
   "outputs": [
    {
     "data": {
      "text/html": [
       "<div>\n",
       "<style scoped>\n",
       "    .dataframe tbody tr th:only-of-type {\n",
       "        vertical-align: middle;\n",
       "    }\n",
       "\n",
       "    .dataframe tbody tr th {\n",
       "        vertical-align: top;\n",
       "    }\n",
       "\n",
       "    .dataframe thead th {\n",
       "        text-align: right;\n",
       "    }\n",
       "</style>\n",
       "<table border=\"1\" class=\"dataframe\">\n",
       "  <thead>\n",
       "    <tr style=\"text-align: right;\">\n",
       "      <th></th>\n",
       "      <th>key</th>\n",
       "      <th>Wire 1</th>\n",
       "      <th>Wire 2</th>\n",
       "      <th>Wire 3</th>\n",
       "      <th>Wire 4</th>\n",
       "      <th>Wire 5</th>\n",
       "      <th>Wire 6</th>\n",
       "      <th>Wire 7</th>\n",
       "      <th>Wire 8</th>\n",
       "      <th>Wire 9</th>\n",
       "    </tr>\n",
       "  </thead>\n",
       "  <tbody>\n",
       "    <tr>\n",
       "      <th>0</th>\n",
       "      <td>1</td>\n",
       "      <td>60.059998</td>\n",
       "      <td>NaN</td>\n",
       "      <td>NaN</td>\n",
       "      <td>NaN</td>\n",
       "      <td>NaN</td>\n",
       "      <td>NaN</td>\n",
       "      <td>NaN</td>\n",
       "      <td>NaN</td>\n",
       "      <td>NaN</td>\n",
       "    </tr>\n",
       "    <tr>\n",
       "      <th>1</th>\n",
       "      <td>2</td>\n",
       "      <td>96.052315</td>\n",
       "      <td>NaN</td>\n",
       "      <td>NaN</td>\n",
       "      <td>NaN</td>\n",
       "      <td>NaN</td>\n",
       "      <td>NaN</td>\n",
       "      <td>NaN</td>\n",
       "      <td>NaN</td>\n",
       "      <td>NaN</td>\n",
       "    </tr>\n",
       "    <tr>\n",
       "      <th>2</th>\n",
       "      <td>3</td>\n",
       "      <td>91.160157</td>\n",
       "      <td>NaN</td>\n",
       "      <td>NaN</td>\n",
       "      <td>NaN</td>\n",
       "      <td>NaN</td>\n",
       "      <td>NaN</td>\n",
       "      <td>NaN</td>\n",
       "      <td>NaN</td>\n",
       "      <td>NaN</td>\n",
       "    </tr>\n",
       "    <tr>\n",
       "      <th>3</th>\n",
       "      <td>4</td>\n",
       "      <td>89.063515</td>\n",
       "      <td>NaN</td>\n",
       "      <td>NaN</td>\n",
       "      <td>NaN</td>\n",
       "      <td>NaN</td>\n",
       "      <td>NaN</td>\n",
       "      <td>NaN</td>\n",
       "      <td>NaN</td>\n",
       "      <td>NaN</td>\n",
       "    </tr>\n",
       "    <tr>\n",
       "      <th>4</th>\n",
       "      <td>5</td>\n",
       "      <td>89.238236</td>\n",
       "      <td>9.11456</td>\n",
       "      <td>NaN</td>\n",
       "      <td>NaN</td>\n",
       "      <td>NaN</td>\n",
       "      <td>NaN</td>\n",
       "      <td>NaN</td>\n",
       "      <td>NaN</td>\n",
       "      <td>NaN</td>\n",
       "    </tr>\n",
       "    <tr>\n",
       "      <th>...</th>\n",
       "      <td>...</td>\n",
       "      <td>...</td>\n",
       "      <td>...</td>\n",
       "      <td>...</td>\n",
       "      <td>...</td>\n",
       "      <td>...</td>\n",
       "      <td>...</td>\n",
       "      <td>...</td>\n",
       "      <td>...</td>\n",
       "      <td>...</td>\n",
       "    </tr>\n",
       "    <tr>\n",
       "      <th>3076</th>\n",
       "      <td>3237</td>\n",
       "      <td>38.088959</td>\n",
       "      <td>NaN</td>\n",
       "      <td>NaN</td>\n",
       "      <td>NaN</td>\n",
       "      <td>NaN</td>\n",
       "      <td>NaN</td>\n",
       "      <td>NaN</td>\n",
       "      <td>NaN</td>\n",
       "      <td>NaN</td>\n",
       "    </tr>\n",
       "    <tr>\n",
       "      <th>3077</th>\n",
       "      <td>3238</td>\n",
       "      <td>56.128799</td>\n",
       "      <td>NaN</td>\n",
       "      <td>NaN</td>\n",
       "      <td>NaN</td>\n",
       "      <td>NaN</td>\n",
       "      <td>NaN</td>\n",
       "      <td>NaN</td>\n",
       "      <td>NaN</td>\n",
       "      <td>NaN</td>\n",
       "    </tr>\n",
       "    <tr>\n",
       "      <th>3078</th>\n",
       "      <td>3239</td>\n",
       "      <td>143.357761</td>\n",
       "      <td>NaN</td>\n",
       "      <td>NaN</td>\n",
       "      <td>NaN</td>\n",
       "      <td>NaN</td>\n",
       "      <td>NaN</td>\n",
       "      <td>NaN</td>\n",
       "      <td>NaN</td>\n",
       "      <td>NaN</td>\n",
       "    </tr>\n",
       "    <tr>\n",
       "      <th>3079</th>\n",
       "      <td>3240</td>\n",
       "      <td>34.070400</td>\n",
       "      <td>NaN</td>\n",
       "      <td>NaN</td>\n",
       "      <td>NaN</td>\n",
       "      <td>NaN</td>\n",
       "      <td>NaN</td>\n",
       "      <td>NaN</td>\n",
       "      <td>NaN</td>\n",
       "      <td>NaN</td>\n",
       "    </tr>\n",
       "    <tr>\n",
       "      <th>3080</th>\n",
       "      <td>3241</td>\n",
       "      <td>63.117595</td>\n",
       "      <td>NaN</td>\n",
       "      <td>NaN</td>\n",
       "      <td>NaN</td>\n",
       "      <td>NaN</td>\n",
       "      <td>NaN</td>\n",
       "      <td>NaN</td>\n",
       "      <td>NaN</td>\n",
       "      <td>NaN</td>\n",
       "    </tr>\n",
       "  </tbody>\n",
       "</table>\n",
       "<p>3081 rows × 10 columns</p>\n",
       "</div>"
      ],
      "text/plain": [
       "       key      Wire 1   Wire 2  Wire 3  Wire 4  Wire 5  Wire 6  Wire 7  \\\n",
       "0        1   60.059998      NaN     NaN     NaN     NaN     NaN     NaN   \n",
       "1        2   96.052315      NaN     NaN     NaN     NaN     NaN     NaN   \n",
       "2        3   91.160157      NaN     NaN     NaN     NaN     NaN     NaN   \n",
       "3        4   89.063515      NaN     NaN     NaN     NaN     NaN     NaN   \n",
       "4        5   89.238236  9.11456     NaN     NaN     NaN     NaN     NaN   \n",
       "...    ...         ...      ...     ...     ...     ...     ...     ...   \n",
       "3076  3237   38.088959      NaN     NaN     NaN     NaN     NaN     NaN   \n",
       "3077  3238   56.128799      NaN     NaN     NaN     NaN     NaN     NaN   \n",
       "3078  3239  143.357761      NaN     NaN     NaN     NaN     NaN     NaN   \n",
       "3079  3240   34.070400      NaN     NaN     NaN     NaN     NaN     NaN   \n",
       "3080  3241   63.117595      NaN     NaN     NaN     NaN     NaN     NaN   \n",
       "\n",
       "      Wire 8  Wire 9  \n",
       "0        NaN     NaN  \n",
       "1        NaN     NaN  \n",
       "2        NaN     NaN  \n",
       "3        NaN     NaN  \n",
       "4        NaN     NaN  \n",
       "...      ...     ...  \n",
       "3076     NaN     NaN  \n",
       "3077     NaN     NaN  \n",
       "3078     NaN     NaN  \n",
       "3079     NaN     NaN  \n",
       "3080     NaN     NaN  \n",
       "\n",
       "[3081 rows x 10 columns]"
      ]
     },
     "metadata": {},
     "output_type": "display_data"
    }
   ],
   "source": [
    "df_wire = pd.read_csv('/datasets/final_steel/data_wire.csv')\n",
    "display(df_wire)"
   ]
  },
  {
   "cell_type": "code",
   "execution_count": 16,
   "metadata": {},
   "outputs": [
    {
     "name": "stdout",
     "output_type": "stream",
     "text": [
      "<class 'pandas.core.frame.DataFrame'>\n",
      "RangeIndex: 3081 entries, 0 to 3080\n",
      "Data columns (total 10 columns):\n",
      " #   Column  Non-Null Count  Dtype  \n",
      "---  ------  --------------  -----  \n",
      " 0   key     3081 non-null   int64  \n",
      " 1   Wire 1  3055 non-null   float64\n",
      " 2   Wire 2  1079 non-null   float64\n",
      " 3   Wire 3  63 non-null     float64\n",
      " 4   Wire 4  14 non-null     float64\n",
      " 5   Wire 5  1 non-null      float64\n",
      " 6   Wire 6  73 non-null     float64\n",
      " 7   Wire 7  11 non-null     float64\n",
      " 8   Wire 8  19 non-null     float64\n",
      " 9   Wire 9  29 non-null     float64\n",
      "dtypes: float64(9), int64(1)\n",
      "memory usage: 240.8 KB\n"
     ]
    }
   ],
   "source": [
    "df_wire.info()"
   ]
  },
  {
   "cell_type": "code",
   "execution_count": 17,
   "metadata": {},
   "outputs": [
    {
     "data": {
      "text/plain": [
       "key          0\n",
       "Wire 1      26\n",
       "Wire 2    2002\n",
       "Wire 3    3018\n",
       "Wire 4    3067\n",
       "Wire 5    3080\n",
       "Wire 6    3008\n",
       "Wire 7    3070\n",
       "Wire 8    3062\n",
       "Wire 9    3052\n",
       "dtype: int64"
      ]
     },
     "execution_count": 17,
     "metadata": {},
     "output_type": "execute_result"
    }
   ],
   "source": [
    "df_wire.isna().sum()"
   ]
  },
  {
   "cell_type": "code",
   "execution_count": 18,
   "metadata": {},
   "outputs": [
    {
     "data": {
      "text/plain": [
       "0"
      ]
     },
     "execution_count": 18,
     "metadata": {},
     "output_type": "execute_result"
    }
   ],
   "source": [
    "df_wire.duplicated().sum()"
   ]
  },
  {
   "cell_type": "code",
   "execution_count": 19,
   "metadata": {},
   "outputs": [
    {
     "data": {
      "image/png": "[encoded data removed]",
      "text/plain": [
       "<Figure size 1440x720 with 9 Axes>"
      ]
     },
     "metadata": {
      "needs_background": "light"
     },
     "output_type": "display_data"
    }
   ],
   "source": [
    "df_wire_no_key = df_wire.drop(columns='key')\n",
    "df_wire_no_key.hist(figsize=(20, 10), bins=100)\n",
    "plt.show()"
   ]
  },
  {
   "cell_type": "code",
   "execution_count": 20,
   "metadata": {},
   "outputs": [
    {
     "data": {
      "text/html": [
       "<div>\n",
       "<style scoped>\n",
       "    .dataframe tbody tr th:only-of-type {\n",
       "        vertical-align: middle;\n",
       "    }\n",
       "\n",
       "    .dataframe tbody tr th {\n",
       "        vertical-align: top;\n",
       "    }\n",
       "\n",
       "    .dataframe thead th {\n",
       "        text-align: right;\n",
       "    }\n",
       "</style>\n",
       "<table border=\"1\" class=\"dataframe\">\n",
       "  <thead>\n",
       "    <tr style=\"text-align: right;\">\n",
       "      <th></th>\n",
       "      <th>Wire 1</th>\n",
       "      <th>Wire 2</th>\n",
       "      <th>Wire 3</th>\n",
       "      <th>Wire 4</th>\n",
       "      <th>Wire 5</th>\n",
       "      <th>Wire 6</th>\n",
       "      <th>Wire 7</th>\n",
       "      <th>Wire 8</th>\n",
       "      <th>Wire 9</th>\n",
       "    </tr>\n",
       "  </thead>\n",
       "  <tbody>\n",
       "    <tr>\n",
       "      <th>count</th>\n",
       "      <td>3055.000000</td>\n",
       "      <td>1079.000000</td>\n",
       "      <td>63.000000</td>\n",
       "      <td>14.000000</td>\n",
       "      <td>1.000</td>\n",
       "      <td>73.000000</td>\n",
       "      <td>11.000000</td>\n",
       "      <td>19.000000</td>\n",
       "      <td>29.000000</td>\n",
       "    </tr>\n",
       "    <tr>\n",
       "      <th>mean</th>\n",
       "      <td>100.895853</td>\n",
       "      <td>50.577323</td>\n",
       "      <td>189.482681</td>\n",
       "      <td>57.442841</td>\n",
       "      <td>15.132</td>\n",
       "      <td>48.016974</td>\n",
       "      <td>10.039007</td>\n",
       "      <td>53.625193</td>\n",
       "      <td>34.155752</td>\n",
       "    </tr>\n",
       "    <tr>\n",
       "      <th>std</th>\n",
       "      <td>42.012518</td>\n",
       "      <td>39.320216</td>\n",
       "      <td>99.513444</td>\n",
       "      <td>28.824667</td>\n",
       "      <td>NaN</td>\n",
       "      <td>33.919845</td>\n",
       "      <td>8.610584</td>\n",
       "      <td>16.881728</td>\n",
       "      <td>19.931616</td>\n",
       "    </tr>\n",
       "    <tr>\n",
       "      <th>min</th>\n",
       "      <td>1.918800</td>\n",
       "      <td>0.030160</td>\n",
       "      <td>0.144144</td>\n",
       "      <td>24.148801</td>\n",
       "      <td>15.132</td>\n",
       "      <td>0.034320</td>\n",
       "      <td>0.234208</td>\n",
       "      <td>45.076721</td>\n",
       "      <td>4.622800</td>\n",
       "    </tr>\n",
       "    <tr>\n",
       "      <th>25%</th>\n",
       "      <td>72.115684</td>\n",
       "      <td>20.193680</td>\n",
       "      <td>95.135044</td>\n",
       "      <td>40.807002</td>\n",
       "      <td>15.132</td>\n",
       "      <td>25.053600</td>\n",
       "      <td>6.762756</td>\n",
       "      <td>46.094879</td>\n",
       "      <td>22.058401</td>\n",
       "    </tr>\n",
       "    <tr>\n",
       "      <th>50%</th>\n",
       "      <td>100.158234</td>\n",
       "      <td>40.142956</td>\n",
       "      <td>235.194977</td>\n",
       "      <td>45.234282</td>\n",
       "      <td>15.132</td>\n",
       "      <td>42.076324</td>\n",
       "      <td>9.017009</td>\n",
       "      <td>46.279999</td>\n",
       "      <td>30.066399</td>\n",
       "    </tr>\n",
       "    <tr>\n",
       "      <th>75%</th>\n",
       "      <td>126.060483</td>\n",
       "      <td>70.227558</td>\n",
       "      <td>276.252014</td>\n",
       "      <td>76.124619</td>\n",
       "      <td>15.132</td>\n",
       "      <td>64.212723</td>\n",
       "      <td>11.886057</td>\n",
       "      <td>48.089603</td>\n",
       "      <td>43.862003</td>\n",
       "    </tr>\n",
       "    <tr>\n",
       "      <th>max</th>\n",
       "      <td>330.314424</td>\n",
       "      <td>282.780152</td>\n",
       "      <td>385.008668</td>\n",
       "      <td>113.231044</td>\n",
       "      <td>15.132</td>\n",
       "      <td>180.454575</td>\n",
       "      <td>32.847674</td>\n",
       "      <td>102.762401</td>\n",
       "      <td>90.053604</td>\n",
       "    </tr>\n",
       "  </tbody>\n",
       "</table>\n",
       "</div>"
      ],
      "text/plain": [
       "            Wire 1       Wire 2      Wire 3      Wire 4  Wire 5      Wire 6  \\\n",
       "count  3055.000000  1079.000000   63.000000   14.000000   1.000   73.000000   \n",
       "mean    100.895853    50.577323  189.482681   57.442841  15.132   48.016974   \n",
       "std      42.012518    39.320216   99.513444   28.824667     NaN   33.919845   \n",
       "min       1.918800     0.030160    0.144144   24.148801  15.132    0.034320   \n",
       "25%      72.115684    20.193680   95.135044   40.807002  15.132   25.053600   \n",
       "50%     100.158234    40.142956  235.194977   45.234282  15.132   42.076324   \n",
       "75%     126.060483    70.227558  276.252014   76.124619  15.132   64.212723   \n",
       "max     330.314424   282.780152  385.008668  113.231044  15.132  180.454575   \n",
       "\n",
       "          Wire 7      Wire 8     Wire 9  \n",
       "count  11.000000   19.000000  29.000000  \n",
       "mean   10.039007   53.625193  34.155752  \n",
       "std     8.610584   16.881728  19.931616  \n",
       "min     0.234208   45.076721   4.622800  \n",
       "25%     6.762756   46.094879  22.058401  \n",
       "50%     9.017009   46.279999  30.066399  \n",
       "75%    11.886057   48.089603  43.862003  \n",
       "max    32.847674  102.762401  90.053604  "
      ]
     },
     "execution_count": 20,
     "metadata": {},
     "output_type": "execute_result"
    }
   ],
   "source": [
    "df_wire_no_key.describe()"
   ]
  },
  {
   "cell_type": "code",
   "execution_count": 21,
   "metadata": {},
   "outputs": [
    {
     "data": {
      "text/plain": [
       "3081"
      ]
     },
     "execution_count": 21,
     "metadata": {},
     "output_type": "execute_result"
    }
   ],
   "source": [
    "len(df_wire['key'].unique())"
   ]
  },
  {
   "cell_type": "markdown",
   "metadata": {},
   "source": [
    "**Результаты измерения температуры**"
   ]
  },
  {
   "cell_type": "code",
   "execution_count": 22,
   "metadata": {},
   "outputs": [
    {
     "data": {
      "text/html": [
       "<div>\n",
       "<style scoped>\n",
       "    .dataframe tbody tr th:only-of-type {\n",
       "        vertical-align: middle;\n",
       "    }\n",
       "\n",
       "    .dataframe tbody tr th {\n",
       "        vertical-align: top;\n",
       "    }\n",
       "\n",
       "    .dataframe thead th {\n",
       "        text-align: right;\n",
       "    }\n",
       "</style>\n",
       "<table border=\"1\" class=\"dataframe\">\n",
       "  <thead>\n",
       "    <tr style=\"text-align: right;\">\n",
       "      <th></th>\n",
       "      <th>key</th>\n",
       "      <th>Время замера</th>\n",
       "      <th>Температура</th>\n",
       "    </tr>\n",
       "  </thead>\n",
       "  <tbody>\n",
       "    <tr>\n",
       "      <th>0</th>\n",
       "      <td>1</td>\n",
       "      <td>2019-05-03 11:16:18</td>\n",
       "      <td>1571.0</td>\n",
       "    </tr>\n",
       "    <tr>\n",
       "      <th>1</th>\n",
       "      <td>1</td>\n",
       "      <td>2019-05-03 11:25:53</td>\n",
       "      <td>1604.0</td>\n",
       "    </tr>\n",
       "    <tr>\n",
       "      <th>2</th>\n",
       "      <td>1</td>\n",
       "      <td>2019-05-03 11:29:11</td>\n",
       "      <td>1618.0</td>\n",
       "    </tr>\n",
       "    <tr>\n",
       "      <th>3</th>\n",
       "      <td>1</td>\n",
       "      <td>2019-05-03 11:30:01</td>\n",
       "      <td>1601.0</td>\n",
       "    </tr>\n",
       "    <tr>\n",
       "      <th>4</th>\n",
       "      <td>1</td>\n",
       "      <td>2019-05-03 11:30:39</td>\n",
       "      <td>1613.0</td>\n",
       "    </tr>\n",
       "    <tr>\n",
       "      <th>...</th>\n",
       "      <td>...</td>\n",
       "      <td>...</td>\n",
       "      <td>...</td>\n",
       "    </tr>\n",
       "    <tr>\n",
       "      <th>15902</th>\n",
       "      <td>3241</td>\n",
       "      <td>2019-09-01 04:03:30</td>\n",
       "      <td>1586.0</td>\n",
       "    </tr>\n",
       "    <tr>\n",
       "      <th>15903</th>\n",
       "      <td>3241</td>\n",
       "      <td>2019-09-01 04:16:12</td>\n",
       "      <td>NaN</td>\n",
       "    </tr>\n",
       "    <tr>\n",
       "      <th>15904</th>\n",
       "      <td>3241</td>\n",
       "      <td>2019-09-01 04:22:39</td>\n",
       "      <td>NaN</td>\n",
       "    </tr>\n",
       "    <tr>\n",
       "      <th>15905</th>\n",
       "      <td>3241</td>\n",
       "      <td>2019-09-01 04:33:42</td>\n",
       "      <td>NaN</td>\n",
       "    </tr>\n",
       "    <tr>\n",
       "      <th>15906</th>\n",
       "      <td>3241</td>\n",
       "      <td>2019-09-01 04:38:08</td>\n",
       "      <td>NaN</td>\n",
       "    </tr>\n",
       "  </tbody>\n",
       "</table>\n",
       "<p>15907 rows × 3 columns</p>\n",
       "</div>"
      ],
      "text/plain": [
       "        key         Время замера  Температура\n",
       "0         1  2019-05-03 11:16:18       1571.0\n",
       "1         1  2019-05-03 11:25:53       1604.0\n",
       "2         1  2019-05-03 11:29:11       1618.0\n",
       "3         1  2019-05-03 11:30:01       1601.0\n",
       "4         1  2019-05-03 11:30:39       1613.0\n",
       "...     ...                  ...          ...\n",
       "15902  3241  2019-09-01 04:03:30       1586.0\n",
       "15903  3241  2019-09-01 04:16:12          NaN\n",
       "15904  3241  2019-09-01 04:22:39          NaN\n",
       "15905  3241  2019-09-01 04:33:42          NaN\n",
       "15906  3241  2019-09-01 04:38:08          NaN\n",
       "\n",
       "[15907 rows x 3 columns]"
      ]
     },
     "metadata": {},
     "output_type": "display_data"
    }
   ],
   "source": [
    "df_temp = pd.read_csv('/datasets/final_steel/data_temp.csv')\n",
    "display(df_temp)"
   ]
  },
  {
   "cell_type": "code",
   "execution_count": 23,
   "metadata": {},
   "outputs": [
    {
     "name": "stdout",
     "output_type": "stream",
     "text": [
      "<class 'pandas.core.frame.DataFrame'>\n",
      "RangeIndex: 15907 entries, 0 to 15906\n",
      "Data columns (total 3 columns):\n",
      " #   Column        Non-Null Count  Dtype  \n",
      "---  ------        --------------  -----  \n",
      " 0   key           15907 non-null  int64  \n",
      " 1   Время замера  15907 non-null  object \n",
      " 2   Температура   13006 non-null  float64\n",
      "dtypes: float64(1), int64(1), object(1)\n",
      "memory usage: 372.9+ KB\n"
     ]
    }
   ],
   "source": [
    "df_temp.info()"
   ]
  },
  {
   "cell_type": "code",
   "execution_count": 24,
   "metadata": {},
   "outputs": [
    {
     "data": {
      "text/plain": [
       "key                0\n",
       "Время замера       0\n",
       "Температура     2901\n",
       "dtype: int64"
      ]
     },
     "execution_count": 24,
     "metadata": {},
     "output_type": "execute_result"
    }
   ],
   "source": [
    "df_temp.isna().sum()"
   ]
  },
  {
   "cell_type": "code",
   "execution_count": 25,
   "metadata": {},
   "outputs": [
    {
     "data": {
      "text/plain": [
       "0"
      ]
     },
     "execution_count": 25,
     "metadata": {},
     "output_type": "execute_result"
    }
   ],
   "source": [
    "df_temp.duplicated().sum()"
   ]
  },
  {
   "cell_type": "code",
   "execution_count": 26,
   "metadata": {},
   "outputs": [
    {
     "data": {
      "image/png": "[encoded data removed]",
      "text/plain": [
       "<Figure size 720x504 with 1 Axes>"
      ]
     },
     "metadata": {
      "needs_background": "light"
     },
     "output_type": "display_data"
    }
   ],
   "source": [
    "df_temp['Температура'].hist(bins=100, figsize=(10,7))\n",
    "plt.show()"
   ]
  },
  {
   "cell_type": "code",
   "execution_count": 27,
   "metadata": {},
   "outputs": [
    {
     "data": {
      "text/plain": [
       "<AxesSubplot:>"
      ]
     },
     "execution_count": 27,
     "metadata": {},
     "output_type": "execute_result"
    },
    {
     "data": {
      "image/png": "[encoded data removed]",
      "text/plain": [
       "<Figure size 936x936 with 1 Axes>"
      ]
     },
     "metadata": {
      "needs_background": "light"
     },
     "output_type": "display_data"
    }
   ],
   "source": [
    "df_temp.boxplot(column='Температура', figsize=(13,13))"
   ]
  },
  {
   "cell_type": "code",
   "execution_count": 28,
   "metadata": {},
   "outputs": [
    {
     "data": {
      "text/plain": [
       "count    13006.000000\n",
       "mean      1591.840920\n",
       "std         21.375851\n",
       "min       1191.000000\n",
       "25%       1581.000000\n",
       "50%       1591.000000\n",
       "75%       1601.000000\n",
       "max       1705.000000\n",
       "Name: Температура, dtype: float64"
      ]
     },
     "execution_count": 28,
     "metadata": {},
     "output_type": "execute_result"
    }
   ],
   "source": [
    "df_temp['Температура'].describe()"
   ]
  },
  {
   "cell_type": "code",
   "execution_count": 29,
   "metadata": {},
   "outputs": [
    {
     "data": {
      "text/plain": [
       "3216"
      ]
     },
     "execution_count": 29,
     "metadata": {},
     "output_type": "execute_result"
    }
   ],
   "source": [
    "len(df_temp['key'].unique())"
   ]
  },
  {
   "cell_type": "markdown",
   "metadata": {},
   "source": [
    "**Данные о продувке сплава газом**"
   ]
  },
  {
   "cell_type": "code",
   "execution_count": 30,
   "metadata": {},
   "outputs": [
    {
     "data": {
      "text/html": [
       "<div>\n",
       "<style scoped>\n",
       "    .dataframe tbody tr th:only-of-type {\n",
       "        vertical-align: middle;\n",
       "    }\n",
       "\n",
       "    .dataframe tbody tr th {\n",
       "        vertical-align: top;\n",
       "    }\n",
       "\n",
       "    .dataframe thead th {\n",
       "        text-align: right;\n",
       "    }\n",
       "</style>\n",
       "<table border=\"1\" class=\"dataframe\">\n",
       "  <thead>\n",
       "    <tr style=\"text-align: right;\">\n",
       "      <th></th>\n",
       "      <th>key</th>\n",
       "      <th>Газ 1</th>\n",
       "    </tr>\n",
       "  </thead>\n",
       "  <tbody>\n",
       "    <tr>\n",
       "      <th>0</th>\n",
       "      <td>1</td>\n",
       "      <td>29.749986</td>\n",
       "    </tr>\n",
       "    <tr>\n",
       "      <th>1</th>\n",
       "      <td>2</td>\n",
       "      <td>12.555561</td>\n",
       "    </tr>\n",
       "    <tr>\n",
       "      <th>2</th>\n",
       "      <td>3</td>\n",
       "      <td>28.554793</td>\n",
       "    </tr>\n",
       "    <tr>\n",
       "      <th>3</th>\n",
       "      <td>4</td>\n",
       "      <td>18.841219</td>\n",
       "    </tr>\n",
       "    <tr>\n",
       "      <th>4</th>\n",
       "      <td>5</td>\n",
       "      <td>5.413692</td>\n",
       "    </tr>\n",
       "    <tr>\n",
       "      <th>...</th>\n",
       "      <td>...</td>\n",
       "      <td>...</td>\n",
       "    </tr>\n",
       "    <tr>\n",
       "      <th>3234</th>\n",
       "      <td>3237</td>\n",
       "      <td>5.543905</td>\n",
       "    </tr>\n",
       "    <tr>\n",
       "      <th>3235</th>\n",
       "      <td>3238</td>\n",
       "      <td>6.745669</td>\n",
       "    </tr>\n",
       "    <tr>\n",
       "      <th>3236</th>\n",
       "      <td>3239</td>\n",
       "      <td>16.023518</td>\n",
       "    </tr>\n",
       "    <tr>\n",
       "      <th>3237</th>\n",
       "      <td>3240</td>\n",
       "      <td>11.863103</td>\n",
       "    </tr>\n",
       "    <tr>\n",
       "      <th>3238</th>\n",
       "      <td>3241</td>\n",
       "      <td>12.680959</td>\n",
       "    </tr>\n",
       "  </tbody>\n",
       "</table>\n",
       "<p>3239 rows × 2 columns</p>\n",
       "</div>"
      ],
      "text/plain": [
       "       key      Газ 1\n",
       "0        1  29.749986\n",
       "1        2  12.555561\n",
       "2        3  28.554793\n",
       "3        4  18.841219\n",
       "4        5   5.413692\n",
       "...    ...        ...\n",
       "3234  3237   5.543905\n",
       "3235  3238   6.745669\n",
       "3236  3239  16.023518\n",
       "3237  3240  11.863103\n",
       "3238  3241  12.680959\n",
       "\n",
       "[3239 rows x 2 columns]"
      ]
     },
     "metadata": {},
     "output_type": "display_data"
    }
   ],
   "source": [
    "df_gas = pd.read_csv('/datasets/final_steel/data_gas.csv')\n",
    "display(df_gas)"
   ]
  },
  {
   "cell_type": "code",
   "execution_count": 31,
   "metadata": {},
   "outputs": [
    {
     "name": "stdout",
     "output_type": "stream",
     "text": [
      "<class 'pandas.core.frame.DataFrame'>\n",
      "RangeIndex: 3239 entries, 0 to 3238\n",
      "Data columns (total 2 columns):\n",
      " #   Column  Non-Null Count  Dtype  \n",
      "---  ------  --------------  -----  \n",
      " 0   key     3239 non-null   int64  \n",
      " 1   Газ 1   3239 non-null   float64\n",
      "dtypes: float64(1), int64(1)\n",
      "memory usage: 50.7 KB\n"
     ]
    }
   ],
   "source": [
    "df_gas.info()"
   ]
  },
  {
   "cell_type": "code",
   "execution_count": 32,
   "metadata": {},
   "outputs": [
    {
     "data": {
      "text/plain": [
       "key      0\n",
       "Газ 1    0\n",
       "dtype: int64"
      ]
     },
     "execution_count": 32,
     "metadata": {},
     "output_type": "execute_result"
    }
   ],
   "source": [
    "df_gas.isna().sum()"
   ]
  },
  {
   "cell_type": "code",
   "execution_count": 33,
   "metadata": {},
   "outputs": [
    {
     "data": {
      "text/plain": [
       "0"
      ]
     },
     "execution_count": 33,
     "metadata": {},
     "output_type": "execute_result"
    }
   ],
   "source": [
    "df_gas.duplicated().sum()"
   ]
  },
  {
   "cell_type": "code",
   "execution_count": 34,
   "metadata": {},
   "outputs": [
    {
     "data": {
      "image/png": "[encoded data removed]",
      "text/plain": [
       "<Figure size 720x504 with 1 Axes>"
      ]
     },
     "metadata": {
      "needs_background": "light"
     },
     "output_type": "display_data"
    }
   ],
   "source": [
    "df_gas['Газ 1'].hist(bins=100, figsize=(10,7))\n",
    "plt.show()"
   ]
  },
  {
   "cell_type": "code",
   "execution_count": 35,
   "metadata": {},
   "outputs": [
    {
     "data": {
      "text/plain": [
       "<AxesSubplot:>"
      ]
     },
     "execution_count": 35,
     "metadata": {},
     "output_type": "execute_result"
    },
    {
     "data": {
      "image/png": "[encoded data removed]",
      "text/plain": [
       "<Figure size 936x936 with 1 Axes>"
      ]
     },
     "metadata": {
      "needs_background": "light"
     },
     "output_type": "display_data"
    }
   ],
   "source": [
    "df_gas.boxplot(column='Газ 1', figsize=(13,13))"
   ]
  },
  {
   "cell_type": "code",
   "execution_count": 36,
   "metadata": {},
   "outputs": [
    {
     "data": {
      "text/plain": [
       "count    3239.000000\n",
       "mean       11.002062\n",
       "std         6.220327\n",
       "min         0.008399\n",
       "25%         7.043089\n",
       "50%         9.836267\n",
       "75%        13.769915\n",
       "max        77.995040\n",
       "Name: Газ 1, dtype: float64"
      ]
     },
     "execution_count": 36,
     "metadata": {},
     "output_type": "execute_result"
    }
   ],
   "source": [
    "df_gas['Газ 1'].describe()"
   ]
  },
  {
   "cell_type": "code",
   "execution_count": 37,
   "metadata": {},
   "outputs": [
    {
     "data": {
      "text/plain": [
       "3239"
      ]
     },
     "execution_count": 37,
     "metadata": {},
     "output_type": "execute_result"
    }
   ],
   "source": [
    "len(df_gas['key'].unique())"
   ]
  },
  {
   "cell_type": "markdown",
   "metadata": {},
   "source": [
    "**Данные о подаче сыпучих материалов (объем)**"
   ]
  },
  {
   "cell_type": "code",
   "execution_count": 38,
   "metadata": {},
   "outputs": [
    {
     "data": {
      "text/html": [
       "<div>\n",
       "<style scoped>\n",
       "    .dataframe tbody tr th:only-of-type {\n",
       "        vertical-align: middle;\n",
       "    }\n",
       "\n",
       "    .dataframe tbody tr th {\n",
       "        vertical-align: top;\n",
       "    }\n",
       "\n",
       "    .dataframe thead th {\n",
       "        text-align: right;\n",
       "    }\n",
       "</style>\n",
       "<table border=\"1\" class=\"dataframe\">\n",
       "  <thead>\n",
       "    <tr style=\"text-align: right;\">\n",
       "      <th></th>\n",
       "      <th>key</th>\n",
       "      <th>Bulk 1</th>\n",
       "      <th>Bulk 2</th>\n",
       "      <th>Bulk 3</th>\n",
       "      <th>Bulk 4</th>\n",
       "      <th>Bulk 5</th>\n",
       "      <th>Bulk 6</th>\n",
       "      <th>Bulk 7</th>\n",
       "      <th>Bulk 8</th>\n",
       "      <th>Bulk 9</th>\n",
       "      <th>Bulk 10</th>\n",
       "      <th>Bulk 11</th>\n",
       "      <th>Bulk 12</th>\n",
       "      <th>Bulk 13</th>\n",
       "      <th>Bulk 14</th>\n",
       "      <th>Bulk 15</th>\n",
       "    </tr>\n",
       "  </thead>\n",
       "  <tbody>\n",
       "    <tr>\n",
       "      <th>0</th>\n",
       "      <td>1</td>\n",
       "      <td>NaN</td>\n",
       "      <td>NaN</td>\n",
       "      <td>NaN</td>\n",
       "      <td>43.0</td>\n",
       "      <td>NaN</td>\n",
       "      <td>NaN</td>\n",
       "      <td>NaN</td>\n",
       "      <td>NaN</td>\n",
       "      <td>NaN</td>\n",
       "      <td>NaN</td>\n",
       "      <td>NaN</td>\n",
       "      <td>206.0</td>\n",
       "      <td>NaN</td>\n",
       "      <td>150.0</td>\n",
       "      <td>154.0</td>\n",
       "    </tr>\n",
       "    <tr>\n",
       "      <th>1</th>\n",
       "      <td>2</td>\n",
       "      <td>NaN</td>\n",
       "      <td>NaN</td>\n",
       "      <td>NaN</td>\n",
       "      <td>73.0</td>\n",
       "      <td>NaN</td>\n",
       "      <td>NaN</td>\n",
       "      <td>NaN</td>\n",
       "      <td>NaN</td>\n",
       "      <td>NaN</td>\n",
       "      <td>NaN</td>\n",
       "      <td>NaN</td>\n",
       "      <td>206.0</td>\n",
       "      <td>NaN</td>\n",
       "      <td>149.0</td>\n",
       "      <td>154.0</td>\n",
       "    </tr>\n",
       "    <tr>\n",
       "      <th>2</th>\n",
       "      <td>3</td>\n",
       "      <td>NaN</td>\n",
       "      <td>NaN</td>\n",
       "      <td>NaN</td>\n",
       "      <td>34.0</td>\n",
       "      <td>NaN</td>\n",
       "      <td>NaN</td>\n",
       "      <td>NaN</td>\n",
       "      <td>NaN</td>\n",
       "      <td>NaN</td>\n",
       "      <td>NaN</td>\n",
       "      <td>NaN</td>\n",
       "      <td>205.0</td>\n",
       "      <td>NaN</td>\n",
       "      <td>152.0</td>\n",
       "      <td>153.0</td>\n",
       "    </tr>\n",
       "    <tr>\n",
       "      <th>3</th>\n",
       "      <td>4</td>\n",
       "      <td>NaN</td>\n",
       "      <td>NaN</td>\n",
       "      <td>NaN</td>\n",
       "      <td>81.0</td>\n",
       "      <td>NaN</td>\n",
       "      <td>NaN</td>\n",
       "      <td>NaN</td>\n",
       "      <td>NaN</td>\n",
       "      <td>NaN</td>\n",
       "      <td>NaN</td>\n",
       "      <td>NaN</td>\n",
       "      <td>207.0</td>\n",
       "      <td>NaN</td>\n",
       "      <td>153.0</td>\n",
       "      <td>154.0</td>\n",
       "    </tr>\n",
       "    <tr>\n",
       "      <th>4</th>\n",
       "      <td>5</td>\n",
       "      <td>NaN</td>\n",
       "      <td>NaN</td>\n",
       "      <td>NaN</td>\n",
       "      <td>78.0</td>\n",
       "      <td>NaN</td>\n",
       "      <td>NaN</td>\n",
       "      <td>NaN</td>\n",
       "      <td>NaN</td>\n",
       "      <td>NaN</td>\n",
       "      <td>NaN</td>\n",
       "      <td>NaN</td>\n",
       "      <td>203.0</td>\n",
       "      <td>NaN</td>\n",
       "      <td>151.0</td>\n",
       "      <td>152.0</td>\n",
       "    </tr>\n",
       "    <tr>\n",
       "      <th>...</th>\n",
       "      <td>...</td>\n",
       "      <td>...</td>\n",
       "      <td>...</td>\n",
       "      <td>...</td>\n",
       "      <td>...</td>\n",
       "      <td>...</td>\n",
       "      <td>...</td>\n",
       "      <td>...</td>\n",
       "      <td>...</td>\n",
       "      <td>...</td>\n",
       "      <td>...</td>\n",
       "      <td>...</td>\n",
       "      <td>...</td>\n",
       "      <td>...</td>\n",
       "      <td>...</td>\n",
       "      <td>...</td>\n",
       "    </tr>\n",
       "    <tr>\n",
       "      <th>3124</th>\n",
       "      <td>3237</td>\n",
       "      <td>NaN</td>\n",
       "      <td>NaN</td>\n",
       "      <td>170.0</td>\n",
       "      <td>NaN</td>\n",
       "      <td>NaN</td>\n",
       "      <td>NaN</td>\n",
       "      <td>NaN</td>\n",
       "      <td>NaN</td>\n",
       "      <td>NaN</td>\n",
       "      <td>NaN</td>\n",
       "      <td>NaN</td>\n",
       "      <td>252.0</td>\n",
       "      <td>NaN</td>\n",
       "      <td>130.0</td>\n",
       "      <td>206.0</td>\n",
       "    </tr>\n",
       "    <tr>\n",
       "      <th>3125</th>\n",
       "      <td>3238</td>\n",
       "      <td>NaN</td>\n",
       "      <td>NaN</td>\n",
       "      <td>126.0</td>\n",
       "      <td>NaN</td>\n",
       "      <td>NaN</td>\n",
       "      <td>NaN</td>\n",
       "      <td>NaN</td>\n",
       "      <td>NaN</td>\n",
       "      <td>NaN</td>\n",
       "      <td>NaN</td>\n",
       "      <td>NaN</td>\n",
       "      <td>254.0</td>\n",
       "      <td>NaN</td>\n",
       "      <td>108.0</td>\n",
       "      <td>106.0</td>\n",
       "    </tr>\n",
       "    <tr>\n",
       "      <th>3126</th>\n",
       "      <td>3239</td>\n",
       "      <td>NaN</td>\n",
       "      <td>NaN</td>\n",
       "      <td>NaN</td>\n",
       "      <td>NaN</td>\n",
       "      <td>NaN</td>\n",
       "      <td>114.0</td>\n",
       "      <td>NaN</td>\n",
       "      <td>NaN</td>\n",
       "      <td>NaN</td>\n",
       "      <td>NaN</td>\n",
       "      <td>NaN</td>\n",
       "      <td>158.0</td>\n",
       "      <td>NaN</td>\n",
       "      <td>270.0</td>\n",
       "      <td>88.0</td>\n",
       "    </tr>\n",
       "    <tr>\n",
       "      <th>3127</th>\n",
       "      <td>3240</td>\n",
       "      <td>NaN</td>\n",
       "      <td>NaN</td>\n",
       "      <td>NaN</td>\n",
       "      <td>NaN</td>\n",
       "      <td>NaN</td>\n",
       "      <td>26.0</td>\n",
       "      <td>NaN</td>\n",
       "      <td>NaN</td>\n",
       "      <td>NaN</td>\n",
       "      <td>NaN</td>\n",
       "      <td>NaN</td>\n",
       "      <td>NaN</td>\n",
       "      <td>NaN</td>\n",
       "      <td>192.0</td>\n",
       "      <td>54.0</td>\n",
       "    </tr>\n",
       "    <tr>\n",
       "      <th>3128</th>\n",
       "      <td>3241</td>\n",
       "      <td>NaN</td>\n",
       "      <td>NaN</td>\n",
       "      <td>NaN</td>\n",
       "      <td>NaN</td>\n",
       "      <td>NaN</td>\n",
       "      <td>NaN</td>\n",
       "      <td>NaN</td>\n",
       "      <td>NaN</td>\n",
       "      <td>NaN</td>\n",
       "      <td>NaN</td>\n",
       "      <td>NaN</td>\n",
       "      <td>NaN</td>\n",
       "      <td>NaN</td>\n",
       "      <td>180.0</td>\n",
       "      <td>52.0</td>\n",
       "    </tr>\n",
       "  </tbody>\n",
       "</table>\n",
       "<p>3129 rows × 16 columns</p>\n",
       "</div>"
      ],
      "text/plain": [
       "       key  Bulk 1  Bulk 2  Bulk 3  Bulk 4  Bulk 5  Bulk 6  Bulk 7  Bulk 8  \\\n",
       "0        1     NaN     NaN     NaN    43.0     NaN     NaN     NaN     NaN   \n",
       "1        2     NaN     NaN     NaN    73.0     NaN     NaN     NaN     NaN   \n",
       "2        3     NaN     NaN     NaN    34.0     NaN     NaN     NaN     NaN   \n",
       "3        4     NaN     NaN     NaN    81.0     NaN     NaN     NaN     NaN   \n",
       "4        5     NaN     NaN     NaN    78.0     NaN     NaN     NaN     NaN   \n",
       "...    ...     ...     ...     ...     ...     ...     ...     ...     ...   \n",
       "3124  3237     NaN     NaN   170.0     NaN     NaN     NaN     NaN     NaN   \n",
       "3125  3238     NaN     NaN   126.0     NaN     NaN     NaN     NaN     NaN   \n",
       "3126  3239     NaN     NaN     NaN     NaN     NaN   114.0     NaN     NaN   \n",
       "3127  3240     NaN     NaN     NaN     NaN     NaN    26.0     NaN     NaN   \n",
       "3128  3241     NaN     NaN     NaN     NaN     NaN     NaN     NaN     NaN   \n",
       "\n",
       "      Bulk 9  Bulk 10  Bulk 11  Bulk 12  Bulk 13  Bulk 14  Bulk 15  \n",
       "0        NaN      NaN      NaN    206.0      NaN    150.0    154.0  \n",
       "1        NaN      NaN      NaN    206.0      NaN    149.0    154.0  \n",
       "2        NaN      NaN      NaN    205.0      NaN    152.0    153.0  \n",
       "3        NaN      NaN      NaN    207.0      NaN    153.0    154.0  \n",
       "4        NaN      NaN      NaN    203.0      NaN    151.0    152.0  \n",
       "...      ...      ...      ...      ...      ...      ...      ...  \n",
       "3124     NaN      NaN      NaN    252.0      NaN    130.0    206.0  \n",
       "3125     NaN      NaN      NaN    254.0      NaN    108.0    106.0  \n",
       "3126     NaN      NaN      NaN    158.0      NaN    270.0     88.0  \n",
       "3127     NaN      NaN      NaN      NaN      NaN    192.0     54.0  \n",
       "3128     NaN      NaN      NaN      NaN      NaN    180.0     52.0  \n",
       "\n",
       "[3129 rows x 16 columns]"
      ]
     },
     "metadata": {},
     "output_type": "display_data"
    }
   ],
   "source": [
    "df_bulk = pd.read_csv('/datasets/final_steel/data_bulk.csv')\n",
    "display(df_bulk)"
   ]
  },
  {
   "cell_type": "code",
   "execution_count": 39,
   "metadata": {},
   "outputs": [
    {
     "name": "stdout",
     "output_type": "stream",
     "text": [
      "<class 'pandas.core.frame.DataFrame'>\n",
      "RangeIndex: 3129 entries, 0 to 3128\n",
      "Data columns (total 16 columns):\n",
      " #   Column   Non-Null Count  Dtype  \n",
      "---  ------   --------------  -----  \n",
      " 0   key      3129 non-null   int64  \n",
      " 1   Bulk 1   252 non-null    float64\n",
      " 2   Bulk 2   22 non-null     float64\n",
      " 3   Bulk 3   1298 non-null   float64\n",
      " 4   Bulk 4   1014 non-null   float64\n",
      " 5   Bulk 5   77 non-null     float64\n",
      " 6   Bulk 6   576 non-null    float64\n",
      " 7   Bulk 7   25 non-null     float64\n",
      " 8   Bulk 8   1 non-null      float64\n",
      " 9   Bulk 9   19 non-null     float64\n",
      " 10  Bulk 10  176 non-null    float64\n",
      " 11  Bulk 11  177 non-null    float64\n",
      " 12  Bulk 12  2450 non-null   float64\n",
      " 13  Bulk 13  18 non-null     float64\n",
      " 14  Bulk 14  2806 non-null   float64\n",
      " 15  Bulk 15  2248 non-null   float64\n",
      "dtypes: float64(15), int64(1)\n",
      "memory usage: 391.2 KB\n"
     ]
    }
   ],
   "source": [
    "df_bulk.info()"
   ]
  },
  {
   "cell_type": "code",
   "execution_count": 40,
   "metadata": {},
   "outputs": [
    {
     "data": {
      "text/plain": [
       "key           0\n",
       "Bulk 1     2877\n",
       "Bulk 2     3107\n",
       "Bulk 3     1831\n",
       "Bulk 4     2115\n",
       "Bulk 5     3052\n",
       "Bulk 6     2553\n",
       "Bulk 7     3104\n",
       "Bulk 8     3128\n",
       "Bulk 9     3110\n",
       "Bulk 10    2953\n",
       "Bulk 11    2952\n",
       "Bulk 12     679\n",
       "Bulk 13    3111\n",
       "Bulk 14     323\n",
       "Bulk 15     881\n",
       "dtype: int64"
      ]
     },
     "execution_count": 40,
     "metadata": {},
     "output_type": "execute_result"
    }
   ],
   "source": [
    "df_bulk.isna().sum()"
   ]
  },
  {
   "cell_type": "code",
   "execution_count": 41,
   "metadata": {},
   "outputs": [
    {
     "data": {
      "text/plain": [
       "0"
      ]
     },
     "execution_count": 41,
     "metadata": {},
     "output_type": "execute_result"
    }
   ],
   "source": [
    "df_bulk.duplicated().sum()"
   ]
  },
  {
   "cell_type": "code",
   "execution_count": 42,
   "metadata": {},
   "outputs": [
    {
     "data": {
      "image/png": "[encoded data removed]",
      "text/plain": [
       "<Figure size 1440x720 with 16 Axes>"
      ]
     },
     "metadata": {
      "needs_background": "light"
     },
     "output_type": "display_data"
    }
   ],
   "source": [
    "df_bulk_no_key = df_bulk.drop(columns='key')\n",
    "df_bulk_no_key.hist(figsize=(20, 10), bins=100)\n",
    "plt.show()\n"
   ]
  },
  {
   "cell_type": "code",
   "execution_count": 43,
   "metadata": {},
   "outputs": [
    {
     "data": {
      "text/html": [
       "<div>\n",
       "<style scoped>\n",
       "    .dataframe tbody tr th:only-of-type {\n",
       "        vertical-align: middle;\n",
       "    }\n",
       "\n",
       "    .dataframe tbody tr th {\n",
       "        vertical-align: top;\n",
       "    }\n",
       "\n",
       "    .dataframe thead th {\n",
       "        text-align: right;\n",
       "    }\n",
       "</style>\n",
       "<table border=\"1\" class=\"dataframe\">\n",
       "  <thead>\n",
       "    <tr style=\"text-align: right;\">\n",
       "      <th></th>\n",
       "      <th>Bulk 1</th>\n",
       "      <th>Bulk 2</th>\n",
       "      <th>Bulk 3</th>\n",
       "      <th>Bulk 4</th>\n",
       "      <th>Bulk 5</th>\n",
       "      <th>Bulk 6</th>\n",
       "      <th>Bulk 7</th>\n",
       "      <th>Bulk 8</th>\n",
       "      <th>Bulk 9</th>\n",
       "      <th>Bulk 10</th>\n",
       "      <th>Bulk 11</th>\n",
       "      <th>Bulk 12</th>\n",
       "      <th>Bulk 13</th>\n",
       "      <th>Bulk 14</th>\n",
       "      <th>Bulk 15</th>\n",
       "    </tr>\n",
       "  </thead>\n",
       "  <tbody>\n",
       "    <tr>\n",
       "      <th>count</th>\n",
       "      <td>252.000000</td>\n",
       "      <td>22.000000</td>\n",
       "      <td>1298.000000</td>\n",
       "      <td>1014.000000</td>\n",
       "      <td>77.000000</td>\n",
       "      <td>576.000000</td>\n",
       "      <td>25.000000</td>\n",
       "      <td>1.0</td>\n",
       "      <td>19.000000</td>\n",
       "      <td>176.000000</td>\n",
       "      <td>177.000000</td>\n",
       "      <td>2450.000000</td>\n",
       "      <td>18.000000</td>\n",
       "      <td>2806.000000</td>\n",
       "      <td>2248.000000</td>\n",
       "    </tr>\n",
       "    <tr>\n",
       "      <th>mean</th>\n",
       "      <td>39.242063</td>\n",
       "      <td>253.045455</td>\n",
       "      <td>113.879045</td>\n",
       "      <td>104.394477</td>\n",
       "      <td>107.025974</td>\n",
       "      <td>118.925347</td>\n",
       "      <td>305.600000</td>\n",
       "      <td>49.0</td>\n",
       "      <td>76.315789</td>\n",
       "      <td>83.284091</td>\n",
       "      <td>76.819209</td>\n",
       "      <td>260.471020</td>\n",
       "      <td>181.111111</td>\n",
       "      <td>170.284747</td>\n",
       "      <td>160.513345</td>\n",
       "    </tr>\n",
       "    <tr>\n",
       "      <th>std</th>\n",
       "      <td>18.277654</td>\n",
       "      <td>21.180578</td>\n",
       "      <td>75.483494</td>\n",
       "      <td>48.184126</td>\n",
       "      <td>81.790646</td>\n",
       "      <td>72.057776</td>\n",
       "      <td>191.022904</td>\n",
       "      <td>NaN</td>\n",
       "      <td>21.720581</td>\n",
       "      <td>26.060347</td>\n",
       "      <td>59.655365</td>\n",
       "      <td>120.649269</td>\n",
       "      <td>46.088009</td>\n",
       "      <td>65.868652</td>\n",
       "      <td>51.765319</td>\n",
       "    </tr>\n",
       "    <tr>\n",
       "      <th>min</th>\n",
       "      <td>10.000000</td>\n",
       "      <td>228.000000</td>\n",
       "      <td>6.000000</td>\n",
       "      <td>12.000000</td>\n",
       "      <td>11.000000</td>\n",
       "      <td>17.000000</td>\n",
       "      <td>47.000000</td>\n",
       "      <td>49.0</td>\n",
       "      <td>63.000000</td>\n",
       "      <td>24.000000</td>\n",
       "      <td>8.000000</td>\n",
       "      <td>53.000000</td>\n",
       "      <td>151.000000</td>\n",
       "      <td>16.000000</td>\n",
       "      <td>1.000000</td>\n",
       "    </tr>\n",
       "    <tr>\n",
       "      <th>25%</th>\n",
       "      <td>27.000000</td>\n",
       "      <td>242.000000</td>\n",
       "      <td>58.000000</td>\n",
       "      <td>72.000000</td>\n",
       "      <td>70.000000</td>\n",
       "      <td>69.750000</td>\n",
       "      <td>155.000000</td>\n",
       "      <td>49.0</td>\n",
       "      <td>66.000000</td>\n",
       "      <td>64.000000</td>\n",
       "      <td>25.000000</td>\n",
       "      <td>204.000000</td>\n",
       "      <td>153.250000</td>\n",
       "      <td>119.000000</td>\n",
       "      <td>105.000000</td>\n",
       "    </tr>\n",
       "    <tr>\n",
       "      <th>50%</th>\n",
       "      <td>31.000000</td>\n",
       "      <td>251.500000</td>\n",
       "      <td>97.500000</td>\n",
       "      <td>102.000000</td>\n",
       "      <td>86.000000</td>\n",
       "      <td>100.000000</td>\n",
       "      <td>298.000000</td>\n",
       "      <td>49.0</td>\n",
       "      <td>68.000000</td>\n",
       "      <td>86.500000</td>\n",
       "      <td>64.000000</td>\n",
       "      <td>208.000000</td>\n",
       "      <td>155.500000</td>\n",
       "      <td>151.000000</td>\n",
       "      <td>160.000000</td>\n",
       "    </tr>\n",
       "    <tr>\n",
       "      <th>75%</th>\n",
       "      <td>46.000000</td>\n",
       "      <td>257.750000</td>\n",
       "      <td>152.000000</td>\n",
       "      <td>133.000000</td>\n",
       "      <td>132.000000</td>\n",
       "      <td>157.000000</td>\n",
       "      <td>406.000000</td>\n",
       "      <td>49.0</td>\n",
       "      <td>70.500000</td>\n",
       "      <td>102.000000</td>\n",
       "      <td>106.000000</td>\n",
       "      <td>316.000000</td>\n",
       "      <td>203.500000</td>\n",
       "      <td>205.750000</td>\n",
       "      <td>205.000000</td>\n",
       "    </tr>\n",
       "    <tr>\n",
       "      <th>max</th>\n",
       "      <td>185.000000</td>\n",
       "      <td>325.000000</td>\n",
       "      <td>454.000000</td>\n",
       "      <td>281.000000</td>\n",
       "      <td>603.000000</td>\n",
       "      <td>503.000000</td>\n",
       "      <td>772.000000</td>\n",
       "      <td>49.0</td>\n",
       "      <td>147.000000</td>\n",
       "      <td>159.000000</td>\n",
       "      <td>313.000000</td>\n",
       "      <td>1849.000000</td>\n",
       "      <td>305.000000</td>\n",
       "      <td>636.000000</td>\n",
       "      <td>405.000000</td>\n",
       "    </tr>\n",
       "  </tbody>\n",
       "</table>\n",
       "</div>"
      ],
      "text/plain": [
       "           Bulk 1      Bulk 2       Bulk 3       Bulk 4      Bulk 5  \\\n",
       "count  252.000000   22.000000  1298.000000  1014.000000   77.000000   \n",
       "mean    39.242063  253.045455   113.879045   104.394477  107.025974   \n",
       "std     18.277654   21.180578    75.483494    48.184126   81.790646   \n",
       "min     10.000000  228.000000     6.000000    12.000000   11.000000   \n",
       "25%     27.000000  242.000000    58.000000    72.000000   70.000000   \n",
       "50%     31.000000  251.500000    97.500000   102.000000   86.000000   \n",
       "75%     46.000000  257.750000   152.000000   133.000000  132.000000   \n",
       "max    185.000000  325.000000   454.000000   281.000000  603.000000   \n",
       "\n",
       "           Bulk 6      Bulk 7  Bulk 8      Bulk 9     Bulk 10     Bulk 11  \\\n",
       "count  576.000000   25.000000     1.0   19.000000  176.000000  177.000000   \n",
       "mean   118.925347  305.600000    49.0   76.315789   83.284091   76.819209   \n",
       "std     72.057776  191.022904     NaN   21.720581   26.060347   59.655365   \n",
       "min     17.000000   47.000000    49.0   63.000000   24.000000    8.000000   \n",
       "25%     69.750000  155.000000    49.0   66.000000   64.000000   25.000000   \n",
       "50%    100.000000  298.000000    49.0   68.000000   86.500000   64.000000   \n",
       "75%    157.000000  406.000000    49.0   70.500000  102.000000  106.000000   \n",
       "max    503.000000  772.000000    49.0  147.000000  159.000000  313.000000   \n",
       "\n",
       "           Bulk 12     Bulk 13      Bulk 14      Bulk 15  \n",
       "count  2450.000000   18.000000  2806.000000  2248.000000  \n",
       "mean    260.471020  181.111111   170.284747   160.513345  \n",
       "std     120.649269   46.088009    65.868652    51.765319  \n",
       "min      53.000000  151.000000    16.000000     1.000000  \n",
       "25%     204.000000  153.250000   119.000000   105.000000  \n",
       "50%     208.000000  155.500000   151.000000   160.000000  \n",
       "75%     316.000000  203.500000   205.750000   205.000000  \n",
       "max    1849.000000  305.000000   636.000000   405.000000  "
      ]
     },
     "execution_count": 43,
     "metadata": {},
     "output_type": "execute_result"
    }
   ],
   "source": [
    "df_bulk_no_key.describe()"
   ]
  },
  {
   "cell_type": "code",
   "execution_count": 44,
   "metadata": {},
   "outputs": [
    {
     "data": {
      "text/plain": [
       "3129"
      ]
     },
     "execution_count": 44,
     "metadata": {},
     "output_type": "execute_result"
    }
   ],
   "source": [
    "len(df_bulk['key'].unique())"
   ]
  },
  {
   "cell_type": "markdown",
   "metadata": {},
   "source": [
    "**Данные о проволочных материалах (время)**"
   ]
  },
  {
   "cell_type": "code",
   "execution_count": 46,
   "metadata": {},
   "outputs": [
    {
     "data": {
      "text/html": [
       "<div>\n",
       "<style scoped>\n",
       "    .dataframe tbody tr th:only-of-type {\n",
       "        vertical-align: middle;\n",
       "    }\n",
       "\n",
       "    .dataframe tbody tr th {\n",
       "        vertical-align: top;\n",
       "    }\n",
       "\n",
       "    .dataframe thead th {\n",
       "        text-align: right;\n",
       "    }\n",
       "</style>\n",
       "<table border=\"1\" class=\"dataframe\">\n",
       "  <thead>\n",
       "    <tr style=\"text-align: right;\">\n",
       "      <th></th>\n",
       "      <th>key</th>\n",
       "      <th>Wire 1</th>\n",
       "      <th>Wire 2</th>\n",
       "      <th>Wire 3</th>\n",
       "      <th>Wire 4</th>\n",
       "      <th>Wire 5</th>\n",
       "      <th>Wire 6</th>\n",
       "      <th>Wire 7</th>\n",
       "      <th>Wire 8</th>\n",
       "      <th>Wire 9</th>\n",
       "    </tr>\n",
       "  </thead>\n",
       "  <tbody>\n",
       "    <tr>\n",
       "      <th>0</th>\n",
       "      <td>1</td>\n",
       "      <td>2019-05-03 11:11:41</td>\n",
       "      <td>NaN</td>\n",
       "      <td>NaN</td>\n",
       "      <td>NaN</td>\n",
       "      <td>NaN</td>\n",
       "      <td>NaN</td>\n",
       "      <td>NaN</td>\n",
       "      <td>NaN</td>\n",
       "      <td>NaN</td>\n",
       "    </tr>\n",
       "    <tr>\n",
       "      <th>1</th>\n",
       "      <td>2</td>\n",
       "      <td>2019-05-03 11:46:10</td>\n",
       "      <td>NaN</td>\n",
       "      <td>NaN</td>\n",
       "      <td>NaN</td>\n",
       "      <td>NaN</td>\n",
       "      <td>NaN</td>\n",
       "      <td>NaN</td>\n",
       "      <td>NaN</td>\n",
       "      <td>NaN</td>\n",
       "    </tr>\n",
       "    <tr>\n",
       "      <th>2</th>\n",
       "      <td>3</td>\n",
       "      <td>2019-05-03 12:13:47</td>\n",
       "      <td>NaN</td>\n",
       "      <td>NaN</td>\n",
       "      <td>NaN</td>\n",
       "      <td>NaN</td>\n",
       "      <td>NaN</td>\n",
       "      <td>NaN</td>\n",
       "      <td>NaN</td>\n",
       "      <td>NaN</td>\n",
       "    </tr>\n",
       "    <tr>\n",
       "      <th>3</th>\n",
       "      <td>4</td>\n",
       "      <td>2019-05-03 12:48:05</td>\n",
       "      <td>NaN</td>\n",
       "      <td>NaN</td>\n",
       "      <td>NaN</td>\n",
       "      <td>NaN</td>\n",
       "      <td>NaN</td>\n",
       "      <td>NaN</td>\n",
       "      <td>NaN</td>\n",
       "      <td>NaN</td>\n",
       "    </tr>\n",
       "    <tr>\n",
       "      <th>4</th>\n",
       "      <td>5</td>\n",
       "      <td>2019-05-03 13:18:15</td>\n",
       "      <td>2019-05-03 13:32:06</td>\n",
       "      <td>NaN</td>\n",
       "      <td>NaN</td>\n",
       "      <td>NaN</td>\n",
       "      <td>NaN</td>\n",
       "      <td>NaN</td>\n",
       "      <td>NaN</td>\n",
       "      <td>NaN</td>\n",
       "    </tr>\n",
       "    <tr>\n",
       "      <th>...</th>\n",
       "      <td>...</td>\n",
       "      <td>...</td>\n",
       "      <td>...</td>\n",
       "      <td>...</td>\n",
       "      <td>...</td>\n",
       "      <td>...</td>\n",
       "      <td>...</td>\n",
       "      <td>...</td>\n",
       "      <td>...</td>\n",
       "      <td>...</td>\n",
       "    </tr>\n",
       "    <tr>\n",
       "      <th>3076</th>\n",
       "      <td>3237</td>\n",
       "      <td>2019-08-31 22:50:20</td>\n",
       "      <td>NaN</td>\n",
       "      <td>NaN</td>\n",
       "      <td>NaN</td>\n",
       "      <td>NaN</td>\n",
       "      <td>NaN</td>\n",
       "      <td>NaN</td>\n",
       "      <td>NaN</td>\n",
       "      <td>NaN</td>\n",
       "    </tr>\n",
       "    <tr>\n",
       "      <th>3077</th>\n",
       "      <td>3238</td>\n",
       "      <td>2019-08-31 23:38:24</td>\n",
       "      <td>NaN</td>\n",
       "      <td>NaN</td>\n",
       "      <td>NaN</td>\n",
       "      <td>NaN</td>\n",
       "      <td>NaN</td>\n",
       "      <td>NaN</td>\n",
       "      <td>NaN</td>\n",
       "      <td>NaN</td>\n",
       "    </tr>\n",
       "    <tr>\n",
       "      <th>3078</th>\n",
       "      <td>3239</td>\n",
       "      <td>2019-09-01 01:50:43</td>\n",
       "      <td>NaN</td>\n",
       "      <td>NaN</td>\n",
       "      <td>NaN</td>\n",
       "      <td>NaN</td>\n",
       "      <td>NaN</td>\n",
       "      <td>NaN</td>\n",
       "      <td>NaN</td>\n",
       "      <td>NaN</td>\n",
       "    </tr>\n",
       "    <tr>\n",
       "      <th>3079</th>\n",
       "      <td>3240</td>\n",
       "      <td>2019-09-01 03:12:02</td>\n",
       "      <td>NaN</td>\n",
       "      <td>NaN</td>\n",
       "      <td>NaN</td>\n",
       "      <td>NaN</td>\n",
       "      <td>NaN</td>\n",
       "      <td>NaN</td>\n",
       "      <td>NaN</td>\n",
       "      <td>NaN</td>\n",
       "    </tr>\n",
       "    <tr>\n",
       "      <th>3080</th>\n",
       "      <td>3241</td>\n",
       "      <td>2019-09-01 04:16:01</td>\n",
       "      <td>NaN</td>\n",
       "      <td>NaN</td>\n",
       "      <td>NaN</td>\n",
       "      <td>NaN</td>\n",
       "      <td>NaN</td>\n",
       "      <td>NaN</td>\n",
       "      <td>NaN</td>\n",
       "      <td>NaN</td>\n",
       "    </tr>\n",
       "  </tbody>\n",
       "</table>\n",
       "<p>3081 rows × 10 columns</p>\n",
       "</div>"
      ],
      "text/plain": [
       "       key               Wire 1               Wire 2 Wire 3 Wire 4 Wire 5  \\\n",
       "0        1  2019-05-03 11:11:41                  NaN    NaN    NaN    NaN   \n",
       "1        2  2019-05-03 11:46:10                  NaN    NaN    NaN    NaN   \n",
       "2        3  2019-05-03 12:13:47                  NaN    NaN    NaN    NaN   \n",
       "3        4  2019-05-03 12:48:05                  NaN    NaN    NaN    NaN   \n",
       "4        5  2019-05-03 13:18:15  2019-05-03 13:32:06    NaN    NaN    NaN   \n",
       "...    ...                  ...                  ...    ...    ...    ...   \n",
       "3076  3237  2019-08-31 22:50:20                  NaN    NaN    NaN    NaN   \n",
       "3077  3238  2019-08-31 23:38:24                  NaN    NaN    NaN    NaN   \n",
       "3078  3239  2019-09-01 01:50:43                  NaN    NaN    NaN    NaN   \n",
       "3079  3240  2019-09-01 03:12:02                  NaN    NaN    NaN    NaN   \n",
       "3080  3241  2019-09-01 04:16:01                  NaN    NaN    NaN    NaN   \n",
       "\n",
       "     Wire 6 Wire 7 Wire 8 Wire 9  \n",
       "0       NaN    NaN    NaN    NaN  \n",
       "1       NaN    NaN    NaN    NaN  \n",
       "2       NaN    NaN    NaN    NaN  \n",
       "3       NaN    NaN    NaN    NaN  \n",
       "4       NaN    NaN    NaN    NaN  \n",
       "...     ...    ...    ...    ...  \n",
       "3076    NaN    NaN    NaN    NaN  \n",
       "3077    NaN    NaN    NaN    NaN  \n",
       "3078    NaN    NaN    NaN    NaN  \n",
       "3079    NaN    NaN    NaN    NaN  \n",
       "3080    NaN    NaN    NaN    NaN  \n",
       "\n",
       "[3081 rows x 10 columns]"
      ]
     },
     "metadata": {},
     "output_type": "display_data"
    }
   ],
   "source": [
    "df_wire_time = pd.read_csv('/datasets/final_steel/data_wire_time.csv')\n",
    "display(df_wire_time)"
   ]
  },
  {
   "cell_type": "code",
   "execution_count": 47,
   "metadata": {},
   "outputs": [
    {
     "name": "stdout",
     "output_type": "stream",
     "text": [
      "<class 'pandas.core.frame.DataFrame'>\n",
      "RangeIndex: 3081 entries, 0 to 3080\n",
      "Data columns (total 10 columns):\n",
      " #   Column  Non-Null Count  Dtype \n",
      "---  ------  --------------  ----- \n",
      " 0   key     3081 non-null   int64 \n",
      " 1   Wire 1  3055 non-null   object\n",
      " 2   Wire 2  1079 non-null   object\n",
      " 3   Wire 3  63 non-null     object\n",
      " 4   Wire 4  14 non-null     object\n",
      " 5   Wire 5  1 non-null      object\n",
      " 6   Wire 6  73 non-null     object\n",
      " 7   Wire 7  11 non-null     object\n",
      " 8   Wire 8  19 non-null     object\n",
      " 9   Wire 9  29 non-null     object\n",
      "dtypes: int64(1), object(9)\n",
      "memory usage: 240.8+ KB\n"
     ]
    }
   ],
   "source": [
    "df_wire_time.info()"
   ]
  },
  {
   "cell_type": "code",
   "execution_count": 48,
   "metadata": {},
   "outputs": [
    {
     "data": {
      "text/plain": [
       "key          0\n",
       "Wire 1      26\n",
       "Wire 2    2002\n",
       "Wire 3    3018\n",
       "Wire 4    3067\n",
       "Wire 5    3080\n",
       "Wire 6    3008\n",
       "Wire 7    3070\n",
       "Wire 8    3062\n",
       "Wire 9    3052\n",
       "dtype: int64"
      ]
     },
     "execution_count": 48,
     "metadata": {},
     "output_type": "execute_result"
    }
   ],
   "source": [
    "df_wire_time.isna().sum()"
   ]
  },
  {
   "cell_type": "code",
   "execution_count": 49,
   "metadata": {},
   "outputs": [
    {
     "data": {
      "text/plain": [
       "0"
      ]
     },
     "execution_count": 49,
     "metadata": {},
     "output_type": "execute_result"
    }
   ],
   "source": [
    "df_wire_time.duplicated().sum()"
   ]
  },
  {
   "cell_type": "code",
   "execution_count": 50,
   "metadata": {},
   "outputs": [
    {
     "data": {
      "text/plain": [
       "3081"
      ]
     },
     "execution_count": 50,
     "metadata": {},
     "output_type": "execute_result"
    }
   ],
   "source": [
    "len(df_wire_time['key'].unique())"
   ]
  },
  {
   "cell_type": "markdown",
   "metadata": {},
   "source": [
    "**Данные о подаче сыпучих материалов (время)**"
   ]
  },
  {
   "cell_type": "code",
   "execution_count": 51,
   "metadata": {},
   "outputs": [
    {
     "data": {
      "text/html": [
       "<div>\n",
       "<style scoped>\n",
       "    .dataframe tbody tr th:only-of-type {\n",
       "        vertical-align: middle;\n",
       "    }\n",
       "\n",
       "    .dataframe tbody tr th {\n",
       "        vertical-align: top;\n",
       "    }\n",
       "\n",
       "    .dataframe thead th {\n",
       "        text-align: right;\n",
       "    }\n",
       "</style>\n",
       "<table border=\"1\" class=\"dataframe\">\n",
       "  <thead>\n",
       "    <tr style=\"text-align: right;\">\n",
       "      <th></th>\n",
       "      <th>key</th>\n",
       "      <th>Bulk 1</th>\n",
       "      <th>Bulk 2</th>\n",
       "      <th>Bulk 3</th>\n",
       "      <th>Bulk 4</th>\n",
       "      <th>Bulk 5</th>\n",
       "      <th>Bulk 6</th>\n",
       "      <th>Bulk 7</th>\n",
       "      <th>Bulk 8</th>\n",
       "      <th>Bulk 9</th>\n",
       "      <th>Bulk 10</th>\n",
       "      <th>Bulk 11</th>\n",
       "      <th>Bulk 12</th>\n",
       "      <th>Bulk 13</th>\n",
       "      <th>Bulk 14</th>\n",
       "      <th>Bulk 15</th>\n",
       "    </tr>\n",
       "  </thead>\n",
       "  <tbody>\n",
       "    <tr>\n",
       "      <th>0</th>\n",
       "      <td>1</td>\n",
       "      <td>NaN</td>\n",
       "      <td>NaN</td>\n",
       "      <td>NaN</td>\n",
       "      <td>2019-05-03 11:21:30</td>\n",
       "      <td>NaN</td>\n",
       "      <td>NaN</td>\n",
       "      <td>NaN</td>\n",
       "      <td>NaN</td>\n",
       "      <td>NaN</td>\n",
       "      <td>NaN</td>\n",
       "      <td>NaN</td>\n",
       "      <td>2019-05-03 11:03:52</td>\n",
       "      <td>NaN</td>\n",
       "      <td>2019-05-03 11:03:52</td>\n",
       "      <td>2019-05-03 11:03:52</td>\n",
       "    </tr>\n",
       "    <tr>\n",
       "      <th>1</th>\n",
       "      <td>2</td>\n",
       "      <td>NaN</td>\n",
       "      <td>NaN</td>\n",
       "      <td>NaN</td>\n",
       "      <td>2019-05-03 11:46:38</td>\n",
       "      <td>NaN</td>\n",
       "      <td>NaN</td>\n",
       "      <td>NaN</td>\n",
       "      <td>NaN</td>\n",
       "      <td>NaN</td>\n",
       "      <td>NaN</td>\n",
       "      <td>NaN</td>\n",
       "      <td>2019-05-03 11:40:20</td>\n",
       "      <td>NaN</td>\n",
       "      <td>2019-05-03 11:40:20</td>\n",
       "      <td>2019-05-03 11:40:20</td>\n",
       "    </tr>\n",
       "    <tr>\n",
       "      <th>2</th>\n",
       "      <td>3</td>\n",
       "      <td>NaN</td>\n",
       "      <td>NaN</td>\n",
       "      <td>NaN</td>\n",
       "      <td>2019-05-03 12:31:06</td>\n",
       "      <td>NaN</td>\n",
       "      <td>NaN</td>\n",
       "      <td>NaN</td>\n",
       "      <td>NaN</td>\n",
       "      <td>NaN</td>\n",
       "      <td>NaN</td>\n",
       "      <td>NaN</td>\n",
       "      <td>2019-05-03 12:09:40</td>\n",
       "      <td>NaN</td>\n",
       "      <td>2019-05-03 12:09:40</td>\n",
       "      <td>2019-05-03 12:09:40</td>\n",
       "    </tr>\n",
       "    <tr>\n",
       "      <th>3</th>\n",
       "      <td>4</td>\n",
       "      <td>NaN</td>\n",
       "      <td>NaN</td>\n",
       "      <td>NaN</td>\n",
       "      <td>2019-05-03 12:48:43</td>\n",
       "      <td>NaN</td>\n",
       "      <td>NaN</td>\n",
       "      <td>NaN</td>\n",
       "      <td>NaN</td>\n",
       "      <td>NaN</td>\n",
       "      <td>NaN</td>\n",
       "      <td>NaN</td>\n",
       "      <td>2019-05-03 12:41:24</td>\n",
       "      <td>NaN</td>\n",
       "      <td>2019-05-03 12:41:24</td>\n",
       "      <td>2019-05-03 12:41:24</td>\n",
       "    </tr>\n",
       "    <tr>\n",
       "      <th>4</th>\n",
       "      <td>5</td>\n",
       "      <td>NaN</td>\n",
       "      <td>NaN</td>\n",
       "      <td>NaN</td>\n",
       "      <td>2019-05-03 13:18:50</td>\n",
       "      <td>NaN</td>\n",
       "      <td>NaN</td>\n",
       "      <td>NaN</td>\n",
       "      <td>NaN</td>\n",
       "      <td>NaN</td>\n",
       "      <td>NaN</td>\n",
       "      <td>NaN</td>\n",
       "      <td>2019-05-03 13:12:56</td>\n",
       "      <td>NaN</td>\n",
       "      <td>2019-05-03 13:12:56</td>\n",
       "      <td>2019-05-03 13:12:56</td>\n",
       "    </tr>\n",
       "    <tr>\n",
       "      <th>...</th>\n",
       "      <td>...</td>\n",
       "      <td>...</td>\n",
       "      <td>...</td>\n",
       "      <td>...</td>\n",
       "      <td>...</td>\n",
       "      <td>...</td>\n",
       "      <td>...</td>\n",
       "      <td>...</td>\n",
       "      <td>...</td>\n",
       "      <td>...</td>\n",
       "      <td>...</td>\n",
       "      <td>...</td>\n",
       "      <td>...</td>\n",
       "      <td>...</td>\n",
       "      <td>...</td>\n",
       "      <td>...</td>\n",
       "    </tr>\n",
       "    <tr>\n",
       "      <th>3124</th>\n",
       "      <td>3237</td>\n",
       "      <td>NaN</td>\n",
       "      <td>NaN</td>\n",
       "      <td>2019-08-31 22:51:28</td>\n",
       "      <td>NaN</td>\n",
       "      <td>NaN</td>\n",
       "      <td>NaN</td>\n",
       "      <td>NaN</td>\n",
       "      <td>NaN</td>\n",
       "      <td>NaN</td>\n",
       "      <td>NaN</td>\n",
       "      <td>NaN</td>\n",
       "      <td>2019-08-31 22:46:52</td>\n",
       "      <td>NaN</td>\n",
       "      <td>2019-08-31 22:46:52</td>\n",
       "      <td>2019-08-31 22:46:52</td>\n",
       "    </tr>\n",
       "    <tr>\n",
       "      <th>3125</th>\n",
       "      <td>3238</td>\n",
       "      <td>NaN</td>\n",
       "      <td>NaN</td>\n",
       "      <td>2019-08-31 23:39:11</td>\n",
       "      <td>NaN</td>\n",
       "      <td>NaN</td>\n",
       "      <td>NaN</td>\n",
       "      <td>NaN</td>\n",
       "      <td>NaN</td>\n",
       "      <td>NaN</td>\n",
       "      <td>NaN</td>\n",
       "      <td>NaN</td>\n",
       "      <td>2019-08-31 23:33:09</td>\n",
       "      <td>NaN</td>\n",
       "      <td>2019-08-31 23:33:09</td>\n",
       "      <td>2019-08-31 23:33:09</td>\n",
       "    </tr>\n",
       "    <tr>\n",
       "      <th>3126</th>\n",
       "      <td>3239</td>\n",
       "      <td>NaN</td>\n",
       "      <td>NaN</td>\n",
       "      <td>NaN</td>\n",
       "      <td>NaN</td>\n",
       "      <td>NaN</td>\n",
       "      <td>2019-09-01 01:51:58</td>\n",
       "      <td>NaN</td>\n",
       "      <td>NaN</td>\n",
       "      <td>NaN</td>\n",
       "      <td>NaN</td>\n",
       "      <td>NaN</td>\n",
       "      <td>2019-09-01 01:39:41</td>\n",
       "      <td>NaN</td>\n",
       "      <td>2019-09-01 01:33:25</td>\n",
       "      <td>2019-09-01 01:33:25</td>\n",
       "    </tr>\n",
       "    <tr>\n",
       "      <th>3127</th>\n",
       "      <td>3240</td>\n",
       "      <td>NaN</td>\n",
       "      <td>NaN</td>\n",
       "      <td>NaN</td>\n",
       "      <td>NaN</td>\n",
       "      <td>NaN</td>\n",
       "      <td>2019-09-01 03:12:40</td>\n",
       "      <td>NaN</td>\n",
       "      <td>NaN</td>\n",
       "      <td>NaN</td>\n",
       "      <td>NaN</td>\n",
       "      <td>NaN</td>\n",
       "      <td>NaN</td>\n",
       "      <td>NaN</td>\n",
       "      <td>2019-09-01 02:41:27</td>\n",
       "      <td>2019-09-01 02:41:27</td>\n",
       "    </tr>\n",
       "    <tr>\n",
       "      <th>3128</th>\n",
       "      <td>3241</td>\n",
       "      <td>NaN</td>\n",
       "      <td>NaN</td>\n",
       "      <td>NaN</td>\n",
       "      <td>NaN</td>\n",
       "      <td>NaN</td>\n",
       "      <td>NaN</td>\n",
       "      <td>NaN</td>\n",
       "      <td>NaN</td>\n",
       "      <td>NaN</td>\n",
       "      <td>NaN</td>\n",
       "      <td>NaN</td>\n",
       "      <td>NaN</td>\n",
       "      <td>NaN</td>\n",
       "      <td>2019-09-01 04:05:34</td>\n",
       "      <td>2019-09-01 04:05:34</td>\n",
       "    </tr>\n",
       "  </tbody>\n",
       "</table>\n",
       "<p>3129 rows × 16 columns</p>\n",
       "</div>"
      ],
      "text/plain": [
       "       key Bulk 1 Bulk 2               Bulk 3               Bulk 4 Bulk 5  \\\n",
       "0        1    NaN    NaN                  NaN  2019-05-03 11:21:30    NaN   \n",
       "1        2    NaN    NaN                  NaN  2019-05-03 11:46:38    NaN   \n",
       "2        3    NaN    NaN                  NaN  2019-05-03 12:31:06    NaN   \n",
       "3        4    NaN    NaN                  NaN  2019-05-03 12:48:43    NaN   \n",
       "4        5    NaN    NaN                  NaN  2019-05-03 13:18:50    NaN   \n",
       "...    ...    ...    ...                  ...                  ...    ...   \n",
       "3124  3237    NaN    NaN  2019-08-31 22:51:28                  NaN    NaN   \n",
       "3125  3238    NaN    NaN  2019-08-31 23:39:11                  NaN    NaN   \n",
       "3126  3239    NaN    NaN                  NaN                  NaN    NaN   \n",
       "3127  3240    NaN    NaN                  NaN                  NaN    NaN   \n",
       "3128  3241    NaN    NaN                  NaN                  NaN    NaN   \n",
       "\n",
       "                   Bulk 6 Bulk 7 Bulk 8 Bulk 9 Bulk 10 Bulk 11  \\\n",
       "0                     NaN    NaN    NaN    NaN     NaN     NaN   \n",
       "1                     NaN    NaN    NaN    NaN     NaN     NaN   \n",
       "2                     NaN    NaN    NaN    NaN     NaN     NaN   \n",
       "3                     NaN    NaN    NaN    NaN     NaN     NaN   \n",
       "4                     NaN    NaN    NaN    NaN     NaN     NaN   \n",
       "...                   ...    ...    ...    ...     ...     ...   \n",
       "3124                  NaN    NaN    NaN    NaN     NaN     NaN   \n",
       "3125                  NaN    NaN    NaN    NaN     NaN     NaN   \n",
       "3126  2019-09-01 01:51:58    NaN    NaN    NaN     NaN     NaN   \n",
       "3127  2019-09-01 03:12:40    NaN    NaN    NaN     NaN     NaN   \n",
       "3128                  NaN    NaN    NaN    NaN     NaN     NaN   \n",
       "\n",
       "                  Bulk 12 Bulk 13              Bulk 14              Bulk 15  \n",
       "0     2019-05-03 11:03:52     NaN  2019-05-03 11:03:52  2019-05-03 11:03:52  \n",
       "1     2019-05-03 11:40:20     NaN  2019-05-03 11:40:20  2019-05-03 11:40:20  \n",
       "2     2019-05-03 12:09:40     NaN  2019-05-03 12:09:40  2019-05-03 12:09:40  \n",
       "3     2019-05-03 12:41:24     NaN  2019-05-03 12:41:24  2019-05-03 12:41:24  \n",
       "4     2019-05-03 13:12:56     NaN  2019-05-03 13:12:56  2019-05-03 13:12:56  \n",
       "...                   ...     ...                  ...                  ...  \n",
       "3124  2019-08-31 22:46:52     NaN  2019-08-31 22:46:52  2019-08-31 22:46:52  \n",
       "3125  2019-08-31 23:33:09     NaN  2019-08-31 23:33:09  2019-08-31 23:33:09  \n",
       "3126  2019-09-01 01:39:41     NaN  2019-09-01 01:33:25  2019-09-01 01:33:25  \n",
       "3127                  NaN     NaN  2019-09-01 02:41:27  2019-09-01 02:41:27  \n",
       "3128                  NaN     NaN  2019-09-01 04:05:34  2019-09-01 04:05:34  \n",
       "\n",
       "[3129 rows x 16 columns]"
      ]
     },
     "metadata": {},
     "output_type": "display_data"
    }
   ],
   "source": [
    "df_bulk_time = pd.read_csv('/datasets/final_steel/data_bulk_time.csv')\n",
    "display(df_bulk_time)"
   ]
  },
  {
   "cell_type": "code",
   "execution_count": 52,
   "metadata": {},
   "outputs": [
    {
     "name": "stdout",
     "output_type": "stream",
     "text": [
      "<class 'pandas.core.frame.DataFrame'>\n",
      "RangeIndex: 3129 entries, 0 to 3128\n",
      "Data columns (total 16 columns):\n",
      " #   Column   Non-Null Count  Dtype \n",
      "---  ------   --------------  ----- \n",
      " 0   key      3129 non-null   int64 \n",
      " 1   Bulk 1   252 non-null    object\n",
      " 2   Bulk 2   22 non-null     object\n",
      " 3   Bulk 3   1298 non-null   object\n",
      " 4   Bulk 4   1014 non-null   object\n",
      " 5   Bulk 5   77 non-null     object\n",
      " 6   Bulk 6   576 non-null    object\n",
      " 7   Bulk 7   25 non-null     object\n",
      " 8   Bulk 8   1 non-null      object\n",
      " 9   Bulk 9   19 non-null     object\n",
      " 10  Bulk 10  176 non-null    object\n",
      " 11  Bulk 11  177 non-null    object\n",
      " 12  Bulk 12  2450 non-null   object\n",
      " 13  Bulk 13  18 non-null     object\n",
      " 14  Bulk 14  2806 non-null   object\n",
      " 15  Bulk 15  2248 non-null   object\n",
      "dtypes: int64(1), object(15)\n",
      "memory usage: 391.2+ KB\n"
     ]
    }
   ],
   "source": [
    "df_bulk_time.info()"
   ]
  },
  {
   "cell_type": "code",
   "execution_count": 53,
   "metadata": {},
   "outputs": [
    {
     "data": {
      "text/plain": [
       "key           0\n",
       "Bulk 1     2877\n",
       "Bulk 2     3107\n",
       "Bulk 3     1831\n",
       "Bulk 4     2115\n",
       "Bulk 5     3052\n",
       "Bulk 6     2553\n",
       "Bulk 7     3104\n",
       "Bulk 8     3128\n",
       "Bulk 9     3110\n",
       "Bulk 10    2953\n",
       "Bulk 11    2952\n",
       "Bulk 12     679\n",
       "Bulk 13    3111\n",
       "Bulk 14     323\n",
       "Bulk 15     881\n",
       "dtype: int64"
      ]
     },
     "execution_count": 53,
     "metadata": {},
     "output_type": "execute_result"
    }
   ],
   "source": [
    "df_bulk_time.isna().sum()"
   ]
  },
  {
   "cell_type": "code",
   "execution_count": 55,
   "metadata": {},
   "outputs": [
    {
     "data": {
      "text/plain": [
       "0"
      ]
     },
     "execution_count": 55,
     "metadata": {},
     "output_type": "execute_result"
    }
   ],
   "source": [
    "df_bulk_time.duplicated().sum()"
   ]
  },
  {
   "cell_type": "code",
   "execution_count": 56,
   "metadata": {},
   "outputs": [
    {
     "data": {
      "text/plain": [
       "3129"
      ]
     },
     "execution_count": 56,
     "metadata": {},
     "output_type": "execute_result"
    }
   ],
   "source": [
    "len(df_bulk_time['key'].unique())"
   ]
  },
  {
   "cell_type": "markdown",
   "metadata": {},
   "source": [
    "**Вывод по первичному анализу данных**  \n",
    "1. Данные об активной и реактивной мощности судя по графикам имеют нормальное распределение со смещением влево (распределение Пуассона). Также данные о продувке сплава газом на графике распределены нормально немного со смещением влево. Данные о температуре распределены нормально без смещения.  \n",
    "2. Имеютмя пропуски в данных о: проволочных материалах (объем и время), измерения температуры, подаче сыпучих материалов (объем и время). Отсутствие тех или иных данных можно объяснить тем, что либо произошла какая то техническая ошибка с датчиком, который не передал значение, либо просто не было выполнен замер на какой либо стадии. В таблицах о подаче сыпучих и проволочных материалов, мы имеем 15 и 9 столбцов соответственно. На стадии легирования стали, когда изменяется ее состав, нужно разное количество материалов из таблиц `df_bulk` и `df_wire` и только единичным партиям надо использование всех возможных материалов.   \n",
    "3. Выбросы. Есть аномальное значение в столбце \"Реактивная мощность\" равное -715. Оно похоже на ошибочное значение и его можно удалить. Построили диаграммы размаха и увидели, что в данных `df_arc`, `df_temp`, `df_gas` есть выбросы. Возможно при составлении единой таблицы для обучения моделей, нужно будет удалить эти выбросы. После встречи с тимлидом обозначили, что лучше всего удалить только аномальные выбросы, а выбросы, которые мы увидели на 'ящиках с усами' - лучше оставить без изменения, т.к. это реальнные данные измерений датчиком.\n",
    "4. \"Косяки\" и как их исправить.   \n",
    "    - В данных присуствует разное количество уникальных номеров партий `key`. Данные по партиям либо могут быть утеряны, либо над опеределенными партиями не выполнялся какой то технологический этап. Надо сгруппировать данные по признаку `key`.  \n",
    "    - Время хранится в строке. Надо перевести в формат datetime. \n",
    "    - Значения `key` в данных `df_arc` и `df_temp` совпадают, но время действия технологической операции различается (как я поняла, сначала идет нагрев дугой, а затем через минуты 4 измеряется температура). Количество записей у одной партии для каждой таблицы различается.  "
   ]
  },
  {
   "cell_type": "markdown",
   "metadata": {},
   "source": [
    "### Предобработка данных"
   ]
  },
  {
   "cell_type": "code",
   "execution_count": 57,
   "metadata": {},
   "outputs": [],
   "source": [
    "df_arc['Начало нагрева дугой'] = pd.to_datetime(df_arc['Начало нагрева дугой'])\n",
    "df_arc['Конец нагрева дугой'] = pd.to_datetime(df_arc['Конец нагрева дугой'])\n",
    "df_temp['Время замера'] = pd.to_datetime(df_temp['Время замера'])"
   ]
  },
  {
   "cell_type": "markdown",
   "metadata": {},
   "source": [
    "Уберем аномальное значение в столбце \"Реактивная мощность\" равное -715."
   ]
  },
  {
   "cell_type": "code",
   "execution_count": 58,
   "metadata": {},
   "outputs": [],
   "source": [
    "df_arc = df_arc[df_arc['Реактивная мощность'] > 0]"
   ]
  },
  {
   "cell_type": "markdown",
   "metadata": {},
   "source": [
    "Удалим выбросы в столбце `df_temp`. Ооставим данные, где температура будет выше 1500 градусов. "
   ]
  },
  {
   "cell_type": "code",
   "execution_count": 59,
   "metadata": {},
   "outputs": [
    {
     "data": {
      "text/html": [
       "<div>\n",
       "<style scoped>\n",
       "    .dataframe tbody tr th:only-of-type {\n",
       "        vertical-align: middle;\n",
       "    }\n",
       "\n",
       "    .dataframe tbody tr th {\n",
       "        vertical-align: top;\n",
       "    }\n",
       "\n",
       "    .dataframe thead th {\n",
       "        text-align: right;\n",
       "    }\n",
       "</style>\n",
       "<table border=\"1\" class=\"dataframe\">\n",
       "  <thead>\n",
       "    <tr style=\"text-align: right;\">\n",
       "      <th></th>\n",
       "      <th>key</th>\n",
       "      <th>Время замера</th>\n",
       "      <th>Температура</th>\n",
       "    </tr>\n",
       "  </thead>\n",
       "  <tbody>\n",
       "    <tr>\n",
       "      <th>0</th>\n",
       "      <td>1</td>\n",
       "      <td>2019-05-03 11:16:18</td>\n",
       "      <td>1571.0</td>\n",
       "    </tr>\n",
       "    <tr>\n",
       "      <th>1</th>\n",
       "      <td>1</td>\n",
       "      <td>2019-05-03 11:25:53</td>\n",
       "      <td>1604.0</td>\n",
       "    </tr>\n",
       "    <tr>\n",
       "      <th>2</th>\n",
       "      <td>1</td>\n",
       "      <td>2019-05-03 11:29:11</td>\n",
       "      <td>1618.0</td>\n",
       "    </tr>\n",
       "    <tr>\n",
       "      <th>3</th>\n",
       "      <td>1</td>\n",
       "      <td>2019-05-03 11:30:01</td>\n",
       "      <td>1601.0</td>\n",
       "    </tr>\n",
       "    <tr>\n",
       "      <th>4</th>\n",
       "      <td>1</td>\n",
       "      <td>2019-05-03 11:30:39</td>\n",
       "      <td>1613.0</td>\n",
       "    </tr>\n",
       "    <tr>\n",
       "      <th>...</th>\n",
       "      <td>...</td>\n",
       "      <td>...</td>\n",
       "      <td>...</td>\n",
       "    </tr>\n",
       "    <tr>\n",
       "      <th>15902</th>\n",
       "      <td>3241</td>\n",
       "      <td>2019-09-01 04:03:30</td>\n",
       "      <td>1586.0</td>\n",
       "    </tr>\n",
       "    <tr>\n",
       "      <th>15903</th>\n",
       "      <td>3241</td>\n",
       "      <td>2019-09-01 04:16:12</td>\n",
       "      <td>NaN</td>\n",
       "    </tr>\n",
       "    <tr>\n",
       "      <th>15904</th>\n",
       "      <td>3241</td>\n",
       "      <td>2019-09-01 04:22:39</td>\n",
       "      <td>NaN</td>\n",
       "    </tr>\n",
       "    <tr>\n",
       "      <th>15905</th>\n",
       "      <td>3241</td>\n",
       "      <td>2019-09-01 04:33:42</td>\n",
       "      <td>NaN</td>\n",
       "    </tr>\n",
       "    <tr>\n",
       "      <th>15906</th>\n",
       "      <td>3241</td>\n",
       "      <td>2019-09-01 04:38:08</td>\n",
       "      <td>NaN</td>\n",
       "    </tr>\n",
       "  </tbody>\n",
       "</table>\n",
       "<p>15857 rows × 3 columns</p>\n",
       "</div>"
      ],
      "text/plain": [
       "        key        Время замера  Температура\n",
       "0         1 2019-05-03 11:16:18       1571.0\n",
       "1         1 2019-05-03 11:25:53       1604.0\n",
       "2         1 2019-05-03 11:29:11       1618.0\n",
       "3         1 2019-05-03 11:30:01       1601.0\n",
       "4         1 2019-05-03 11:30:39       1613.0\n",
       "...     ...                 ...          ...\n",
       "15902  3241 2019-09-01 04:03:30       1586.0\n",
       "15903  3241 2019-09-01 04:16:12          NaN\n",
       "15904  3241 2019-09-01 04:22:39          NaN\n",
       "15905  3241 2019-09-01 04:33:42          NaN\n",
       "15906  3241 2019-09-01 04:38:08          NaN\n",
       "\n",
       "[15857 rows x 3 columns]"
      ]
     },
     "execution_count": 59,
     "metadata": {},
     "output_type": "execute_result"
    }
   ],
   "source": [
    "#df_temp = df_temp[df_temp['Температура'] <= 1500]\n",
    "\n",
    "key_1500 = df_temp[df_temp['Температура'] <= 1500]['key'].unique()\n",
    "df_temp = df_temp[~df_temp['key'].isin(key_1500)]\n",
    "#df_temp = df_temp.reset_index(drop=True)\n",
    "df_temp"
   ]
  },
  {
   "cell_type": "code",
   "execution_count": 60,
   "metadata": {},
   "outputs": [
    {
     "data": {
      "text/plain": [
       "count    12961.000000\n",
       "mean      1591.956176\n",
       "std         19.786049\n",
       "min       1519.000000\n",
       "25%       1581.000000\n",
       "50%       1591.000000\n",
       "75%       1601.000000\n",
       "max       1705.000000\n",
       "Name: Температура, dtype: float64"
      ]
     },
     "execution_count": 60,
     "metadata": {},
     "output_type": "execute_result"
    }
   ],
   "source": [
    "df_temp['Температура'].describe()"
   ]
  },
  {
   "cell_type": "markdown",
   "metadata": {},
   "source": [
    "Удалим ковши, где есть только промежуточные замеры и где нет финишного замера температуры."
   ]
  },
  {
   "cell_type": "code",
   "execution_count": 61,
   "metadata": {},
   "outputs": [
    {
     "data": {
      "text/html": [
       "<div>\n",
       "<style scoped>\n",
       "    .dataframe tbody tr th:only-of-type {\n",
       "        vertical-align: middle;\n",
       "    }\n",
       "\n",
       "    .dataframe tbody tr th {\n",
       "        vertical-align: top;\n",
       "    }\n",
       "\n",
       "    .dataframe thead th {\n",
       "        text-align: right;\n",
       "    }\n",
       "</style>\n",
       "<table border=\"1\" class=\"dataframe\">\n",
       "  <thead>\n",
       "    <tr style=\"text-align: right;\">\n",
       "      <th></th>\n",
       "      <th>key</th>\n",
       "      <th>Время замера</th>\n",
       "      <th>Температура</th>\n",
       "    </tr>\n",
       "  </thead>\n",
       "  <tbody>\n",
       "    <tr>\n",
       "      <th>0</th>\n",
       "      <td>1</td>\n",
       "      <td>2019-05-03 11:16:18</td>\n",
       "      <td>1571.0</td>\n",
       "    </tr>\n",
       "    <tr>\n",
       "      <th>4</th>\n",
       "      <td>1</td>\n",
       "      <td>2019-05-03 11:30:39</td>\n",
       "      <td>1613.0</td>\n",
       "    </tr>\n",
       "    <tr>\n",
       "      <th>5</th>\n",
       "      <td>2</td>\n",
       "      <td>2019-05-03 11:37:27</td>\n",
       "      <td>1581.0</td>\n",
       "    </tr>\n",
       "    <tr>\n",
       "      <th>10</th>\n",
       "      <td>2</td>\n",
       "      <td>2019-05-03 11:59:12</td>\n",
       "      <td>1602.0</td>\n",
       "    </tr>\n",
       "    <tr>\n",
       "      <th>11</th>\n",
       "      <td>3</td>\n",
       "      <td>2019-05-03 12:13:17</td>\n",
       "      <td>1596.0</td>\n",
       "    </tr>\n",
       "    <tr>\n",
       "      <th>...</th>\n",
       "      <td>...</td>\n",
       "      <td>...</td>\n",
       "      <td>...</td>\n",
       "    </tr>\n",
       "    <tr>\n",
       "      <th>15893</th>\n",
       "      <td>3239</td>\n",
       "      <td>2019-09-01 02:24:15</td>\n",
       "      <td>NaN</td>\n",
       "    </tr>\n",
       "    <tr>\n",
       "      <th>15894</th>\n",
       "      <td>3240</td>\n",
       "      <td>2019-09-01 02:39:01</td>\n",
       "      <td>1617.0</td>\n",
       "    </tr>\n",
       "    <tr>\n",
       "      <th>15901</th>\n",
       "      <td>3240</td>\n",
       "      <td>2019-09-01 03:35:16</td>\n",
       "      <td>NaN</td>\n",
       "    </tr>\n",
       "    <tr>\n",
       "      <th>15902</th>\n",
       "      <td>3241</td>\n",
       "      <td>2019-09-01 04:03:30</td>\n",
       "      <td>1586.0</td>\n",
       "    </tr>\n",
       "    <tr>\n",
       "      <th>15906</th>\n",
       "      <td>3241</td>\n",
       "      <td>2019-09-01 04:38:08</td>\n",
       "      <td>NaN</td>\n",
       "    </tr>\n",
       "  </tbody>\n",
       "</table>\n",
       "<p>6420 rows × 3 columns</p>\n",
       "</div>"
      ],
      "text/plain": [
       "        key        Время замера  Температура\n",
       "0         1 2019-05-03 11:16:18       1571.0\n",
       "4         1 2019-05-03 11:30:39       1613.0\n",
       "5         2 2019-05-03 11:37:27       1581.0\n",
       "10        2 2019-05-03 11:59:12       1602.0\n",
       "11        3 2019-05-03 12:13:17       1596.0\n",
       "...     ...                 ...          ...\n",
       "15893  3239 2019-09-01 02:24:15          NaN\n",
       "15894  3240 2019-09-01 02:39:01       1617.0\n",
       "15901  3240 2019-09-01 03:35:16          NaN\n",
       "15902  3241 2019-09-01 04:03:30       1586.0\n",
       "15906  3241 2019-09-01 04:38:08          NaN\n",
       "\n",
       "[6420 rows x 3 columns]"
      ]
     },
     "execution_count": 61,
     "metadata": {},
     "output_type": "execute_result"
    }
   ],
   "source": [
    "def temp_start_finish(data):\n",
    "    data_temp_sorted = pd.DataFrame()\n",
    "    for key in data['key'].unique():\n",
    "        sorted = data[data['key']==key].sort_values(by='Время замера')\n",
    "        data_temp_sorted = data_temp_sorted.append(sorted.head(1))\n",
    "        data_temp_sorted = data_temp_sorted.append(sorted.tail(1))\n",
    "    return data_temp_sorted\n",
    "\n",
    "df_temp = temp_start_finish(df_temp)\n",
    "\n",
    "df_temp"
   ]
  },
  {
   "cell_type": "code",
   "execution_count": 62,
   "metadata": {},
   "outputs": [
    {
     "data": {
      "text/html": [
       "<div>\n",
       "<style scoped>\n",
       "    .dataframe tbody tr th:only-of-type {\n",
       "        vertical-align: middle;\n",
       "    }\n",
       "\n",
       "    .dataframe tbody tr th {\n",
       "        vertical-align: top;\n",
       "    }\n",
       "\n",
       "    .dataframe thead th {\n",
       "        text-align: right;\n",
       "    }\n",
       "</style>\n",
       "<table border=\"1\" class=\"dataframe\">\n",
       "  <thead>\n",
       "    <tr style=\"text-align: right;\">\n",
       "      <th></th>\n",
       "      <th>key</th>\n",
       "      <th>Время замера</th>\n",
       "      <th>Температура</th>\n",
       "    </tr>\n",
       "  </thead>\n",
       "  <tbody>\n",
       "    <tr>\n",
       "      <th>0</th>\n",
       "      <td>1</td>\n",
       "      <td>2019-05-03 11:16:18</td>\n",
       "      <td>1571.0</td>\n",
       "    </tr>\n",
       "    <tr>\n",
       "      <th>4</th>\n",
       "      <td>1</td>\n",
       "      <td>2019-05-03 11:30:39</td>\n",
       "      <td>1613.0</td>\n",
       "    </tr>\n",
       "    <tr>\n",
       "      <th>5</th>\n",
       "      <td>2</td>\n",
       "      <td>2019-05-03 11:37:27</td>\n",
       "      <td>1581.0</td>\n",
       "    </tr>\n",
       "    <tr>\n",
       "      <th>10</th>\n",
       "      <td>2</td>\n",
       "      <td>2019-05-03 11:59:12</td>\n",
       "      <td>1602.0</td>\n",
       "    </tr>\n",
       "    <tr>\n",
       "      <th>11</th>\n",
       "      <td>3</td>\n",
       "      <td>2019-05-03 12:13:17</td>\n",
       "      <td>1596.0</td>\n",
       "    </tr>\n",
       "    <tr>\n",
       "      <th>...</th>\n",
       "      <td>...</td>\n",
       "      <td>...</td>\n",
       "      <td>...</td>\n",
       "    </tr>\n",
       "    <tr>\n",
       "      <th>12258</th>\n",
       "      <td>2497</td>\n",
       "      <td>2019-08-06 01:53:50</td>\n",
       "      <td>1589.0</td>\n",
       "    </tr>\n",
       "    <tr>\n",
       "      <th>12259</th>\n",
       "      <td>2498</td>\n",
       "      <td>2019-08-06 02:03:49</td>\n",
       "      <td>1591.0</td>\n",
       "    </tr>\n",
       "    <tr>\n",
       "      <th>12263</th>\n",
       "      <td>2498</td>\n",
       "      <td>2019-08-06 02:25:31</td>\n",
       "      <td>1594.0</td>\n",
       "    </tr>\n",
       "    <tr>\n",
       "      <th>12264</th>\n",
       "      <td>2499</td>\n",
       "      <td>2019-08-06 02:40:25</td>\n",
       "      <td>1569.0</td>\n",
       "    </tr>\n",
       "    <tr>\n",
       "      <th>12266</th>\n",
       "      <td>2499</td>\n",
       "      <td>2019-08-06 03:00:28</td>\n",
       "      <td>1603.0</td>\n",
       "    </tr>\n",
       "  </tbody>\n",
       "</table>\n",
       "<p>4944 rows × 3 columns</p>\n",
       "</div>"
      ],
      "text/plain": [
       "        key        Время замера  Температура\n",
       "0         1 2019-05-03 11:16:18       1571.0\n",
       "4         1 2019-05-03 11:30:39       1613.0\n",
       "5         2 2019-05-03 11:37:27       1581.0\n",
       "10        2 2019-05-03 11:59:12       1602.0\n",
       "11        3 2019-05-03 12:13:17       1596.0\n",
       "...     ...                 ...          ...\n",
       "12258  2497 2019-08-06 01:53:50       1589.0\n",
       "12259  2498 2019-08-06 02:03:49       1591.0\n",
       "12263  2498 2019-08-06 02:25:31       1594.0\n",
       "12264  2499 2019-08-06 02:40:25       1569.0\n",
       "12266  2499 2019-08-06 03:00:28       1603.0\n",
       "\n",
       "[4944 rows x 3 columns]"
      ]
     },
     "execution_count": 62,
     "metadata": {},
     "output_type": "execute_result"
    }
   ],
   "source": [
    "key_NaN = df_temp[df_temp['Температура'].isna()]['key'].unique()\n",
    "df_temp = df_temp[~df_temp['key'].isin(key_NaN)]\n",
    "df_temp"
   ]
  },
  {
   "cell_type": "code",
   "execution_count": 63,
   "metadata": {},
   "outputs": [
    {
     "data": {
      "text/plain": [
       "2472"
      ]
     },
     "execution_count": 63,
     "metadata": {},
     "output_type": "execute_result"
    }
   ],
   "source": [
    "len(df_temp['key'].unique())"
   ]
  },
  {
   "cell_type": "markdown",
   "metadata": {},
   "source": [
    "Конечная температура - наш целевой признак, сохраним в отдельный сталбец. Начальну температуру также сохпаним в отдельный столбец. Рассчитаем время между первым и последним замером температуры, тоже сохраним в отдельный столбец в секундах."
   ]
  },
  {
   "cell_type": "code",
   "execution_count": 64,
   "metadata": {},
   "outputs": [
    {
     "data": {
      "text/html": [
       "<div>\n",
       "<style scoped>\n",
       "    .dataframe tbody tr th:only-of-type {\n",
       "        vertical-align: middle;\n",
       "    }\n",
       "\n",
       "    .dataframe tbody tr th {\n",
       "        vertical-align: top;\n",
       "    }\n",
       "\n",
       "    .dataframe thead th {\n",
       "        text-align: right;\n",
       "    }\n",
       "</style>\n",
       "<table border=\"1\" class=\"dataframe\">\n",
       "  <thead>\n",
       "    <tr style=\"text-align: right;\">\n",
       "      <th></th>\n",
       "      <th>key</th>\n",
       "      <th>Начальная t</th>\n",
       "      <th>Конечная t</th>\n",
       "      <th>Время между замерами</th>\n",
       "    </tr>\n",
       "  </thead>\n",
       "  <tbody>\n",
       "    <tr>\n",
       "      <th>0</th>\n",
       "      <td>1</td>\n",
       "      <td>1571.0</td>\n",
       "      <td>1613.0</td>\n",
       "      <td>861</td>\n",
       "    </tr>\n",
       "    <tr>\n",
       "      <th>1</th>\n",
       "      <td>2</td>\n",
       "      <td>1581.0</td>\n",
       "      <td>1602.0</td>\n",
       "      <td>1305</td>\n",
       "    </tr>\n",
       "    <tr>\n",
       "      <th>2</th>\n",
       "      <td>3</td>\n",
       "      <td>1596.0</td>\n",
       "      <td>1599.0</td>\n",
       "      <td>1300</td>\n",
       "    </tr>\n",
       "    <tr>\n",
       "      <th>3</th>\n",
       "      <td>4</td>\n",
       "      <td>1601.0</td>\n",
       "      <td>1625.0</td>\n",
       "      <td>388</td>\n",
       "    </tr>\n",
       "    <tr>\n",
       "      <th>4</th>\n",
       "      <td>5</td>\n",
       "      <td>1576.0</td>\n",
       "      <td>1602.0</td>\n",
       "      <td>762</td>\n",
       "    </tr>\n",
       "    <tr>\n",
       "      <th>...</th>\n",
       "      <td>...</td>\n",
       "      <td>...</td>\n",
       "      <td>...</td>\n",
       "      <td>...</td>\n",
       "    </tr>\n",
       "    <tr>\n",
       "      <th>2467</th>\n",
       "      <td>2495</td>\n",
       "      <td>1570.0</td>\n",
       "      <td>1591.0</td>\n",
       "      <td>1137</td>\n",
       "    </tr>\n",
       "    <tr>\n",
       "      <th>2468</th>\n",
       "      <td>2496</td>\n",
       "      <td>1554.0</td>\n",
       "      <td>1591.0</td>\n",
       "      <td>1618</td>\n",
       "    </tr>\n",
       "    <tr>\n",
       "      <th>2469</th>\n",
       "      <td>2497</td>\n",
       "      <td>1571.0</td>\n",
       "      <td>1589.0</td>\n",
       "      <td>717</td>\n",
       "    </tr>\n",
       "    <tr>\n",
       "      <th>2470</th>\n",
       "      <td>2498</td>\n",
       "      <td>1591.0</td>\n",
       "      <td>1594.0</td>\n",
       "      <td>1302</td>\n",
       "    </tr>\n",
       "    <tr>\n",
       "      <th>2471</th>\n",
       "      <td>2499</td>\n",
       "      <td>1569.0</td>\n",
       "      <td>1603.0</td>\n",
       "      <td>1203</td>\n",
       "    </tr>\n",
       "  </tbody>\n",
       "</table>\n",
       "<p>2472 rows × 4 columns</p>\n",
       "</div>"
      ],
      "text/plain": [
       "       key  Начальная t  Конечная t  Время между замерами\n",
       "0        1       1571.0      1613.0                   861\n",
       "1        2       1581.0      1602.0                  1305\n",
       "2        3       1596.0      1599.0                  1300\n",
       "3        4       1601.0      1625.0                   388\n",
       "4        5       1576.0      1602.0                   762\n",
       "...    ...          ...         ...                   ...\n",
       "2467  2495       1570.0      1591.0                  1137\n",
       "2468  2496       1554.0      1591.0                  1618\n",
       "2469  2497       1571.0      1589.0                   717\n",
       "2470  2498       1591.0      1594.0                  1302\n",
       "2471  2499       1569.0      1603.0                  1203\n",
       "\n",
       "[2472 rows x 4 columns]"
      ]
     },
     "execution_count": 64,
     "metadata": {},
     "output_type": "execute_result"
    }
   ],
   "source": [
    "def delta_temp(data):\n",
    "    list = []\n",
    "    \n",
    "    for key in data['key'].unique():\n",
    "        x = data[data['key']==key].reset_index(drop=True)\n",
    "        start_temp = x.loc[0,'Температура']\n",
    "        finish_temp = x.loc[1,'Температура']\n",
    "        delta_temp = (x.loc[1,'Время замера'] - x.loc[0,'Время замера']).seconds\n",
    "\n",
    "        list.append([key, start_temp, finish_temp, delta_temp])\n",
    "    \n",
    "    return pd.DataFrame(list,\n",
    "                        columns=['key',\n",
    "                                 'Начальная t',\n",
    "                                 'Конечная t',\n",
    "                                 'Время между замерами'])\n",
    "\n",
    "df_temp = delta_temp(df_temp)\n",
    "df_temp"
   ]
  },
  {
   "cell_type": "code",
   "execution_count": 65,
   "metadata": {},
   "outputs": [
    {
     "data": {
      "text/plain": [
       "2472"
      ]
     },
     "execution_count": 65,
     "metadata": {},
     "output_type": "execute_result"
    }
   ],
   "source": [
    "len(df_temp['key'].unique())"
   ]
  },
  {
   "cell_type": "markdown",
   "metadata": {},
   "source": [
    "Пропуски в `df_bulk` и `df_wire` заполним нулями."
   ]
  },
  {
   "cell_type": "code",
   "execution_count": 66,
   "metadata": {},
   "outputs": [],
   "source": [
    "df_bulk.fillna(0, inplace=True)\n",
    "df_wire.fillna(0, inplace=True)"
   ]
  },
  {
   "cell_type": "markdown",
   "metadata": {},
   "source": [
    "Нам нужна полная мощность, она счетается по формуле:\n",
    "$$\n",
    "S = \\sqrt{P^{2}+Q^{2}}\n",
    "$$\n",
    "где: P - активная мощность\n",
    "Q - реактивная мощность"
   ]
  },
  {
   "cell_type": "markdown",
   "metadata": {},
   "source": [
    "Создадим переменную `t`, в которой будет храниться время нагрева."
   ]
  },
  {
   "cell_type": "code",
   "execution_count": 68,
   "metadata": {},
   "outputs": [
    {
     "data": {
      "text/html": [
       "<div>\n",
       "<style scoped>\n",
       "    .dataframe tbody tr th:only-of-type {\n",
       "        vertical-align: middle;\n",
       "    }\n",
       "\n",
       "    .dataframe tbody tr th {\n",
       "        vertical-align: top;\n",
       "    }\n",
       "\n",
       "    .dataframe thead th {\n",
       "        text-align: right;\n",
       "    }\n",
       "</style>\n",
       "<table border=\"1\" class=\"dataframe\">\n",
       "  <thead>\n",
       "    <tr style=\"text-align: right;\">\n",
       "      <th></th>\n",
       "      <th>key</th>\n",
       "      <th>Начало нагрева дугой</th>\n",
       "      <th>Конец нагрева дугой</th>\n",
       "      <th>Активная мощность</th>\n",
       "      <th>Реактивная мощность</th>\n",
       "      <th>t</th>\n",
       "    </tr>\n",
       "  </thead>\n",
       "  <tbody>\n",
       "    <tr>\n",
       "      <th>0</th>\n",
       "      <td>1</td>\n",
       "      <td>2019-05-03 11:02:14</td>\n",
       "      <td>2019-05-03 11:06:02</td>\n",
       "      <td>0.976059</td>\n",
       "      <td>0.687084</td>\n",
       "      <td>0 days 00:03:48</td>\n",
       "    </tr>\n",
       "    <tr>\n",
       "      <th>1</th>\n",
       "      <td>1</td>\n",
       "      <td>2019-05-03 11:07:28</td>\n",
       "      <td>2019-05-03 11:10:33</td>\n",
       "      <td>0.805607</td>\n",
       "      <td>0.520285</td>\n",
       "      <td>0 days 00:03:05</td>\n",
       "    </tr>\n",
       "    <tr>\n",
       "      <th>2</th>\n",
       "      <td>1</td>\n",
       "      <td>2019-05-03 11:11:44</td>\n",
       "      <td>2019-05-03 11:14:36</td>\n",
       "      <td>0.744363</td>\n",
       "      <td>0.498805</td>\n",
       "      <td>0 days 00:02:52</td>\n",
       "    </tr>\n",
       "    <tr>\n",
       "      <th>3</th>\n",
       "      <td>1</td>\n",
       "      <td>2019-05-03 11:18:14</td>\n",
       "      <td>2019-05-03 11:24:19</td>\n",
       "      <td>1.659363</td>\n",
       "      <td>1.062669</td>\n",
       "      <td>0 days 00:06:05</td>\n",
       "    </tr>\n",
       "    <tr>\n",
       "      <th>4</th>\n",
       "      <td>1</td>\n",
       "      <td>2019-05-03 11:26:09</td>\n",
       "      <td>2019-05-03 11:28:37</td>\n",
       "      <td>0.692755</td>\n",
       "      <td>0.414397</td>\n",
       "      <td>0 days 00:02:28</td>\n",
       "    </tr>\n",
       "    <tr>\n",
       "      <th>...</th>\n",
       "      <td>...</td>\n",
       "      <td>...</td>\n",
       "      <td>...</td>\n",
       "      <td>...</td>\n",
       "      <td>...</td>\n",
       "      <td>...</td>\n",
       "    </tr>\n",
       "    <tr>\n",
       "      <th>14871</th>\n",
       "      <td>3241</td>\n",
       "      <td>2019-09-01 03:58:58</td>\n",
       "      <td>2019-09-01 04:01:35</td>\n",
       "      <td>0.533670</td>\n",
       "      <td>0.354439</td>\n",
       "      <td>0 days 00:02:37</td>\n",
       "    </tr>\n",
       "    <tr>\n",
       "      <th>14872</th>\n",
       "      <td>3241</td>\n",
       "      <td>2019-09-01 04:05:04</td>\n",
       "      <td>2019-09-01 04:08:04</td>\n",
       "      <td>0.676604</td>\n",
       "      <td>0.523631</td>\n",
       "      <td>0 days 00:03:00</td>\n",
       "    </tr>\n",
       "    <tr>\n",
       "      <th>14873</th>\n",
       "      <td>3241</td>\n",
       "      <td>2019-09-01 04:16:41</td>\n",
       "      <td>2019-09-01 04:19:45</td>\n",
       "      <td>0.733899</td>\n",
       "      <td>0.475654</td>\n",
       "      <td>0 days 00:03:04</td>\n",
       "    </tr>\n",
       "    <tr>\n",
       "      <th>14874</th>\n",
       "      <td>3241</td>\n",
       "      <td>2019-09-01 04:31:51</td>\n",
       "      <td>2019-09-01 04:32:48</td>\n",
       "      <td>0.220694</td>\n",
       "      <td>0.145768</td>\n",
       "      <td>0 days 00:00:57</td>\n",
       "    </tr>\n",
       "    <tr>\n",
       "      <th>14875</th>\n",
       "      <td>3241</td>\n",
       "      <td>2019-09-01 04:34:47</td>\n",
       "      <td>2019-09-01 04:36:08</td>\n",
       "      <td>0.306580</td>\n",
       "      <td>0.196708</td>\n",
       "      <td>0 days 00:01:21</td>\n",
       "    </tr>\n",
       "  </tbody>\n",
       "</table>\n",
       "<p>14875 rows × 6 columns</p>\n",
       "</div>"
      ],
      "text/plain": [
       "        key Начало нагрева дугой Конец нагрева дугой  Активная мощность  \\\n",
       "0         1  2019-05-03 11:02:14 2019-05-03 11:06:02           0.976059   \n",
       "1         1  2019-05-03 11:07:28 2019-05-03 11:10:33           0.805607   \n",
       "2         1  2019-05-03 11:11:44 2019-05-03 11:14:36           0.744363   \n",
       "3         1  2019-05-03 11:18:14 2019-05-03 11:24:19           1.659363   \n",
       "4         1  2019-05-03 11:26:09 2019-05-03 11:28:37           0.692755   \n",
       "...     ...                  ...                 ...                ...   \n",
       "14871  3241  2019-09-01 03:58:58 2019-09-01 04:01:35           0.533670   \n",
       "14872  3241  2019-09-01 04:05:04 2019-09-01 04:08:04           0.676604   \n",
       "14873  3241  2019-09-01 04:16:41 2019-09-01 04:19:45           0.733899   \n",
       "14874  3241  2019-09-01 04:31:51 2019-09-01 04:32:48           0.220694   \n",
       "14875  3241  2019-09-01 04:34:47 2019-09-01 04:36:08           0.306580   \n",
       "\n",
       "       Реактивная мощность               t  \n",
       "0                 0.687084 0 days 00:03:48  \n",
       "1                 0.520285 0 days 00:03:05  \n",
       "2                 0.498805 0 days 00:02:52  \n",
       "3                 1.062669 0 days 00:06:05  \n",
       "4                 0.414397 0 days 00:02:28  \n",
       "...                    ...             ...  \n",
       "14871             0.354439 0 days 00:02:37  \n",
       "14872             0.523631 0 days 00:03:00  \n",
       "14873             0.475654 0 days 00:03:04  \n",
       "14874             0.145768 0 days 00:00:57  \n",
       "14875             0.196708 0 days 00:01:21  \n",
       "\n",
       "[14875 rows x 6 columns]"
      ]
     },
     "metadata": {},
     "output_type": "display_data"
    }
   ],
   "source": [
    "df_arc['t'] = df_arc['Конец нагрева дугой'] - df_arc['Начало нагрева дугой']\n",
    "display(df_arc)"
   ]
  },
  {
   "cell_type": "code",
   "execution_count": 69,
   "metadata": {},
   "outputs": [
    {
     "data": {
      "text/html": [
       "<div>\n",
       "<style scoped>\n",
       "    .dataframe tbody tr th:only-of-type {\n",
       "        vertical-align: middle;\n",
       "    }\n",
       "\n",
       "    .dataframe tbody tr th {\n",
       "        vertical-align: top;\n",
       "    }\n",
       "\n",
       "    .dataframe thead th {\n",
       "        text-align: right;\n",
       "    }\n",
       "</style>\n",
       "<table border=\"1\" class=\"dataframe\">\n",
       "  <thead>\n",
       "    <tr style=\"text-align: right;\">\n",
       "      <th></th>\n",
       "      <th>t</th>\n",
       "      <th>P</th>\n",
       "      <th>Q</th>\n",
       "      <th>S</th>\n",
       "    </tr>\n",
       "    <tr>\n",
       "      <th>key</th>\n",
       "      <th></th>\n",
       "      <th></th>\n",
       "      <th></th>\n",
       "      <th></th>\n",
       "    </tr>\n",
       "  </thead>\n",
       "  <tbody>\n",
       "    <tr>\n",
       "      <th>1</th>\n",
       "      <td>0 days 00:18:18</td>\n",
       "      <td>4.878147</td>\n",
       "      <td>3.183241</td>\n",
       "      <td>5.824889</td>\n",
       "    </tr>\n",
       "    <tr>\n",
       "      <th>2</th>\n",
       "      <td>0 days 00:13:31</td>\n",
       "      <td>3.052598</td>\n",
       "      <td>1.998112</td>\n",
       "      <td>3.648398</td>\n",
       "    </tr>\n",
       "    <tr>\n",
       "      <th>3</th>\n",
       "      <td>0 days 00:10:55</td>\n",
       "      <td>2.525882</td>\n",
       "      <td>1.599076</td>\n",
       "      <td>2.989502</td>\n",
       "    </tr>\n",
       "    <tr>\n",
       "      <th>4</th>\n",
       "      <td>0 days 00:12:21</td>\n",
       "      <td>3.209250</td>\n",
       "      <td>2.060298</td>\n",
       "      <td>3.813674</td>\n",
       "    </tr>\n",
       "    <tr>\n",
       "      <th>5</th>\n",
       "      <td>0 days 00:14:29</td>\n",
       "      <td>3.347173</td>\n",
       "      <td>2.252643</td>\n",
       "      <td>4.034596</td>\n",
       "    </tr>\n",
       "    <tr>\n",
       "      <th>...</th>\n",
       "      <td>...</td>\n",
       "      <td>...</td>\n",
       "      <td>...</td>\n",
       "      <td>...</td>\n",
       "    </tr>\n",
       "    <tr>\n",
       "      <th>3237</th>\n",
       "      <td>0 days 00:15:09</td>\n",
       "      <td>3.932467</td>\n",
       "      <td>2.828459</td>\n",
       "      <td>4.844014</td>\n",
       "    </tr>\n",
       "    <tr>\n",
       "      <th>3238</th>\n",
       "      <td>0 days 00:09:06</td>\n",
       "      <td>2.106529</td>\n",
       "      <td>1.681182</td>\n",
       "      <td>2.695151</td>\n",
       "    </tr>\n",
       "    <tr>\n",
       "      <th>3239</th>\n",
       "      <td>0 days 00:20:16</td>\n",
       "      <td>4.666754</td>\n",
       "      <td>3.111617</td>\n",
       "      <td>5.608989</td>\n",
       "    </tr>\n",
       "    <tr>\n",
       "      <th>3240</th>\n",
       "      <td>0 days 00:13:59</td>\n",
       "      <td>2.984083</td>\n",
       "      <td>2.483267</td>\n",
       "      <td>3.882186</td>\n",
       "    </tr>\n",
       "    <tr>\n",
       "      <th>3241</th>\n",
       "      <td>0 days 00:10:59</td>\n",
       "      <td>2.471447</td>\n",
       "      <td>1.696199</td>\n",
       "      <td>2.997523</td>\n",
       "    </tr>\n",
       "  </tbody>\n",
       "</table>\n",
       "<p>3214 rows × 4 columns</p>\n",
       "</div>"
      ],
      "text/plain": [
       "                   t         P         Q         S\n",
       "key                                               \n",
       "1    0 days 00:18:18  4.878147  3.183241  5.824889\n",
       "2    0 days 00:13:31  3.052598  1.998112  3.648398\n",
       "3    0 days 00:10:55  2.525882  1.599076  2.989502\n",
       "4    0 days 00:12:21  3.209250  2.060298  3.813674\n",
       "5    0 days 00:14:29  3.347173  2.252643  4.034596\n",
       "...              ...       ...       ...       ...\n",
       "3237 0 days 00:15:09  3.932467  2.828459  4.844014\n",
       "3238 0 days 00:09:06  2.106529  1.681182  2.695151\n",
       "3239 0 days 00:20:16  4.666754  3.111617  5.608989\n",
       "3240 0 days 00:13:59  2.984083  2.483267  3.882186\n",
       "3241 0 days 00:10:59  2.471447  1.696199  2.997523\n",
       "\n",
       "[3214 rows x 4 columns]"
      ]
     },
     "metadata": {},
     "output_type": "display_data"
    }
   ],
   "source": [
    "df_arc_power = df_arc.groupby('key').agg(t = ('t', 'sum'), P = ('Активная мощность', 'sum'), Q = ('Реактивная мощность', 'sum'))\n",
    "df_arc_power['S'] = np.sqrt(df_arc_power['P']**2 + df_arc_power['Q']**2)\n",
    "display(df_arc_power)"
   ]
  },
  {
   "cell_type": "markdown",
   "metadata": {},
   "source": [
    "Переведем время нагрева в секунды."
   ]
  },
  {
   "cell_type": "code",
   "execution_count": 70,
   "metadata": {},
   "outputs": [],
   "source": [
    "df_arc_power['t'] = df_arc_power['t'].dt.seconds"
   ]
  },
  {
   "cell_type": "code",
   "execution_count": 71,
   "metadata": {},
   "outputs": [
    {
     "name": "stdout",
     "output_type": "stream",
     "text": [
      "<class 'pandas.core.frame.DataFrame'>\n",
      "Int64Index: 3214 entries, 1 to 3241\n",
      "Data columns (total 4 columns):\n",
      " #   Column  Non-Null Count  Dtype  \n",
      "---  ------  --------------  -----  \n",
      " 0   t       3214 non-null   int64  \n",
      " 1   P       3214 non-null   float64\n",
      " 2   Q       3214 non-null   float64\n",
      " 3   S       3214 non-null   float64\n",
      "dtypes: float64(3), int64(1)\n",
      "memory usage: 125.5 KB\n"
     ]
    },
    {
     "data": {
      "text/html": [
       "<div>\n",
       "<style scoped>\n",
       "    .dataframe tbody tr th:only-of-type {\n",
       "        vertical-align: middle;\n",
       "    }\n",
       "\n",
       "    .dataframe tbody tr th {\n",
       "        vertical-align: top;\n",
       "    }\n",
       "\n",
       "    .dataframe thead th {\n",
       "        text-align: right;\n",
       "    }\n",
       "</style>\n",
       "<table border=\"1\" class=\"dataframe\">\n",
       "  <thead>\n",
       "    <tr style=\"text-align: right;\">\n",
       "      <th></th>\n",
       "      <th>t</th>\n",
       "      <th>P</th>\n",
       "      <th>Q</th>\n",
       "      <th>S</th>\n",
       "    </tr>\n",
       "    <tr>\n",
       "      <th>key</th>\n",
       "      <th></th>\n",
       "      <th></th>\n",
       "      <th></th>\n",
       "      <th></th>\n",
       "    </tr>\n",
       "  </thead>\n",
       "  <tbody>\n",
       "    <tr>\n",
       "      <th>1</th>\n",
       "      <td>1098</td>\n",
       "      <td>4.878147</td>\n",
       "      <td>3.183241</td>\n",
       "      <td>5.824889</td>\n",
       "    </tr>\n",
       "    <tr>\n",
       "      <th>2</th>\n",
       "      <td>811</td>\n",
       "      <td>3.052598</td>\n",
       "      <td>1.998112</td>\n",
       "      <td>3.648398</td>\n",
       "    </tr>\n",
       "    <tr>\n",
       "      <th>3</th>\n",
       "      <td>655</td>\n",
       "      <td>2.525882</td>\n",
       "      <td>1.599076</td>\n",
       "      <td>2.989502</td>\n",
       "    </tr>\n",
       "    <tr>\n",
       "      <th>4</th>\n",
       "      <td>741</td>\n",
       "      <td>3.209250</td>\n",
       "      <td>2.060298</td>\n",
       "      <td>3.813674</td>\n",
       "    </tr>\n",
       "    <tr>\n",
       "      <th>5</th>\n",
       "      <td>869</td>\n",
       "      <td>3.347173</td>\n",
       "      <td>2.252643</td>\n",
       "      <td>4.034596</td>\n",
       "    </tr>\n",
       "    <tr>\n",
       "      <th>...</th>\n",
       "      <td>...</td>\n",
       "      <td>...</td>\n",
       "      <td>...</td>\n",
       "      <td>...</td>\n",
       "    </tr>\n",
       "    <tr>\n",
       "      <th>3237</th>\n",
       "      <td>909</td>\n",
       "      <td>3.932467</td>\n",
       "      <td>2.828459</td>\n",
       "      <td>4.844014</td>\n",
       "    </tr>\n",
       "    <tr>\n",
       "      <th>3238</th>\n",
       "      <td>546</td>\n",
       "      <td>2.106529</td>\n",
       "      <td>1.681182</td>\n",
       "      <td>2.695151</td>\n",
       "    </tr>\n",
       "    <tr>\n",
       "      <th>3239</th>\n",
       "      <td>1216</td>\n",
       "      <td>4.666754</td>\n",
       "      <td>3.111617</td>\n",
       "      <td>5.608989</td>\n",
       "    </tr>\n",
       "    <tr>\n",
       "      <th>3240</th>\n",
       "      <td>839</td>\n",
       "      <td>2.984083</td>\n",
       "      <td>2.483267</td>\n",
       "      <td>3.882186</td>\n",
       "    </tr>\n",
       "    <tr>\n",
       "      <th>3241</th>\n",
       "      <td>659</td>\n",
       "      <td>2.471447</td>\n",
       "      <td>1.696199</td>\n",
       "      <td>2.997523</td>\n",
       "    </tr>\n",
       "  </tbody>\n",
       "</table>\n",
       "<p>3214 rows × 4 columns</p>\n",
       "</div>"
      ],
      "text/plain": [
       "         t         P         Q         S\n",
       "key                                     \n",
       "1     1098  4.878147  3.183241  5.824889\n",
       "2      811  3.052598  1.998112  3.648398\n",
       "3      655  2.525882  1.599076  2.989502\n",
       "4      741  3.209250  2.060298  3.813674\n",
       "5      869  3.347173  2.252643  4.034596\n",
       "...    ...       ...       ...       ...\n",
       "3237   909  3.932467  2.828459  4.844014\n",
       "3238   546  2.106529  1.681182  2.695151\n",
       "3239  1216  4.666754  3.111617  5.608989\n",
       "3240   839  2.984083  2.483267  3.882186\n",
       "3241   659  2.471447  1.696199  2.997523\n",
       "\n",
       "[3214 rows x 4 columns]"
      ]
     },
     "metadata": {},
     "output_type": "display_data"
    }
   ],
   "source": [
    "df_arc_power.info()\n",
    "display(df_arc_power)"
   ]
  },
  {
   "cell_type": "markdown",
   "metadata": {},
   "source": [
    "Рассчитаем новые признаки: затрата энергии на нагрев и КПД."
   ]
  },
  {
   "cell_type": "code",
   "execution_count": 72,
   "metadata": {},
   "outputs": [
    {
     "data": {
      "text/html": [
       "<div>\n",
       "<style scoped>\n",
       "    .dataframe tbody tr th:only-of-type {\n",
       "        vertical-align: middle;\n",
       "    }\n",
       "\n",
       "    .dataframe tbody tr th {\n",
       "        vertical-align: top;\n",
       "    }\n",
       "\n",
       "    .dataframe thead th {\n",
       "        text-align: right;\n",
       "    }\n",
       "</style>\n",
       "<table border=\"1\" class=\"dataframe\">\n",
       "  <thead>\n",
       "    <tr style=\"text-align: right;\">\n",
       "      <th></th>\n",
       "      <th>t</th>\n",
       "      <th>P</th>\n",
       "      <th>Q</th>\n",
       "      <th>S</th>\n",
       "      <th>Энергия</th>\n",
       "    </tr>\n",
       "    <tr>\n",
       "      <th>key</th>\n",
       "      <th></th>\n",
       "      <th></th>\n",
       "      <th></th>\n",
       "      <th></th>\n",
       "      <th></th>\n",
       "    </tr>\n",
       "  </thead>\n",
       "  <tbody>\n",
       "    <tr>\n",
       "      <th>1</th>\n",
       "      <td>1098</td>\n",
       "      <td>4.878147</td>\n",
       "      <td>3.183241</td>\n",
       "      <td>5.824889</td>\n",
       "      <td>884.556574</td>\n",
       "    </tr>\n",
       "    <tr>\n",
       "      <th>2</th>\n",
       "      <td>811</td>\n",
       "      <td>3.052598</td>\n",
       "      <td>1.998112</td>\n",
       "      <td>3.648398</td>\n",
       "      <td>603.678739</td>\n",
       "    </tr>\n",
       "    <tr>\n",
       "      <th>3</th>\n",
       "      <td>655</td>\n",
       "      <td>2.525882</td>\n",
       "      <td>1.599076</td>\n",
       "      <td>2.989502</td>\n",
       "      <td>1086.882473</td>\n",
       "    </tr>\n",
       "    <tr>\n",
       "      <th>4</th>\n",
       "      <td>741</td>\n",
       "      <td>3.209250</td>\n",
       "      <td>2.060298</td>\n",
       "      <td>3.813674</td>\n",
       "      <td>513.331266</td>\n",
       "    </tr>\n",
       "    <tr>\n",
       "      <th>5</th>\n",
       "      <td>869</td>\n",
       "      <td>3.347173</td>\n",
       "      <td>2.252643</td>\n",
       "      <td>4.034596</td>\n",
       "      <td>380.677044</td>\n",
       "    </tr>\n",
       "    <tr>\n",
       "      <th>...</th>\n",
       "      <td>...</td>\n",
       "      <td>...</td>\n",
       "      <td>...</td>\n",
       "      <td>...</td>\n",
       "      <td>...</td>\n",
       "    </tr>\n",
       "    <tr>\n",
       "      <th>3237</th>\n",
       "      <td>909</td>\n",
       "      <td>3.932467</td>\n",
       "      <td>2.828459</td>\n",
       "      <td>4.844014</td>\n",
       "      <td>1100.521645</td>\n",
       "    </tr>\n",
       "    <tr>\n",
       "      <th>3238</th>\n",
       "      <td>546</td>\n",
       "      <td>2.106529</td>\n",
       "      <td>1.681182</td>\n",
       "      <td>2.695151</td>\n",
       "      <td>105.204973</td>\n",
       "    </tr>\n",
       "    <tr>\n",
       "      <th>3239</th>\n",
       "      <td>1216</td>\n",
       "      <td>4.666754</td>\n",
       "      <td>3.111617</td>\n",
       "      <td>5.608989</td>\n",
       "      <td>845.404617</td>\n",
       "    </tr>\n",
       "    <tr>\n",
       "      <th>3240</th>\n",
       "      <td>839</td>\n",
       "      <td>2.984083</td>\n",
       "      <td>2.483267</td>\n",
       "      <td>3.882186</td>\n",
       "      <td>427.206141</td>\n",
       "    </tr>\n",
       "    <tr>\n",
       "      <th>3241</th>\n",
       "      <td>659</td>\n",
       "      <td>2.471447</td>\n",
       "      <td>1.696199</td>\n",
       "      <td>2.997523</td>\n",
       "      <td>303.572296</td>\n",
       "    </tr>\n",
       "  </tbody>\n",
       "</table>\n",
       "<p>3214 rows × 5 columns</p>\n",
       "</div>"
      ],
      "text/plain": [
       "         t         P         Q         S      Энергия\n",
       "key                                                  \n",
       "1     1098  4.878147  3.183241  5.824889   884.556574\n",
       "2      811  3.052598  1.998112  3.648398   603.678739\n",
       "3      655  2.525882  1.599076  2.989502  1086.882473\n",
       "4      741  3.209250  2.060298  3.813674   513.331266\n",
       "5      869  3.347173  2.252643  4.034596   380.677044\n",
       "...    ...       ...       ...       ...          ...\n",
       "3237   909  3.932467  2.828459  4.844014  1100.521645\n",
       "3238   546  2.106529  1.681182  2.695151   105.204973\n",
       "3239  1216  4.666754  3.111617  5.608989   845.404617\n",
       "3240   839  2.984083  2.483267  3.882186   427.206141\n",
       "3241   659  2.471447  1.696199  2.997523   303.572296\n",
       "\n",
       "[3214 rows x 5 columns]"
      ]
     },
     "execution_count": 72,
     "metadata": {},
     "output_type": "execute_result"
    }
   ],
   "source": [
    "# Затрата энергии/работы на наргрев = время нагрева электрода * активную мощность\n",
    "df_arc_power['Энергия'] = df_arc_power['t'] * df_arc['Активная мощность']\n",
    "df_arc_power"
   ]
  },
  {
   "cell_type": "code",
   "execution_count": 73,
   "metadata": {},
   "outputs": [
    {
     "data": {
      "text/html": [
       "<div>\n",
       "<style scoped>\n",
       "    .dataframe tbody tr th:only-of-type {\n",
       "        vertical-align: middle;\n",
       "    }\n",
       "\n",
       "    .dataframe tbody tr th {\n",
       "        vertical-align: top;\n",
       "    }\n",
       "\n",
       "    .dataframe thead th {\n",
       "        text-align: right;\n",
       "    }\n",
       "</style>\n",
       "<table border=\"1\" class=\"dataframe\">\n",
       "  <thead>\n",
       "    <tr style=\"text-align: right;\">\n",
       "      <th></th>\n",
       "      <th>t</th>\n",
       "      <th>P</th>\n",
       "      <th>Q</th>\n",
       "      <th>S</th>\n",
       "      <th>Энергия</th>\n",
       "      <th>КПД</th>\n",
       "    </tr>\n",
       "    <tr>\n",
       "      <th>key</th>\n",
       "      <th></th>\n",
       "      <th></th>\n",
       "      <th></th>\n",
       "      <th></th>\n",
       "      <th></th>\n",
       "      <th></th>\n",
       "    </tr>\n",
       "  </thead>\n",
       "  <tbody>\n",
       "    <tr>\n",
       "      <th>1</th>\n",
       "      <td>1098</td>\n",
       "      <td>4.878147</td>\n",
       "      <td>3.183241</td>\n",
       "      <td>5.824889</td>\n",
       "      <td>884.556574</td>\n",
       "      <td>0.138304</td>\n",
       "    </tr>\n",
       "    <tr>\n",
       "      <th>2</th>\n",
       "      <td>811</td>\n",
       "      <td>3.052598</td>\n",
       "      <td>1.998112</td>\n",
       "      <td>3.648398</td>\n",
       "      <td>603.678739</td>\n",
       "      <td>0.204025</td>\n",
       "    </tr>\n",
       "    <tr>\n",
       "      <th>3</th>\n",
       "      <td>655</td>\n",
       "      <td>2.525882</td>\n",
       "      <td>1.599076</td>\n",
       "      <td>2.989502</td>\n",
       "      <td>1086.882473</td>\n",
       "      <td>0.555063</td>\n",
       "    </tr>\n",
       "    <tr>\n",
       "      <th>4</th>\n",
       "      <td>741</td>\n",
       "      <td>3.209250</td>\n",
       "      <td>2.060298</td>\n",
       "      <td>3.813674</td>\n",
       "      <td>513.331266</td>\n",
       "      <td>0.181650</td>\n",
       "    </tr>\n",
       "    <tr>\n",
       "      <th>5</th>\n",
       "      <td>869</td>\n",
       "      <td>3.347173</td>\n",
       "      <td>2.252643</td>\n",
       "      <td>4.034596</td>\n",
       "      <td>380.677044</td>\n",
       "      <td>0.108577</td>\n",
       "    </tr>\n",
       "    <tr>\n",
       "      <th>...</th>\n",
       "      <td>...</td>\n",
       "      <td>...</td>\n",
       "      <td>...</td>\n",
       "      <td>...</td>\n",
       "      <td>...</td>\n",
       "      <td>...</td>\n",
       "    </tr>\n",
       "    <tr>\n",
       "      <th>3237</th>\n",
       "      <td>909</td>\n",
       "      <td>3.932467</td>\n",
       "      <td>2.828459</td>\n",
       "      <td>4.844014</td>\n",
       "      <td>1100.521645</td>\n",
       "      <td>0.249936</td>\n",
       "    </tr>\n",
       "    <tr>\n",
       "      <th>3238</th>\n",
       "      <td>546</td>\n",
       "      <td>2.106529</td>\n",
       "      <td>1.681182</td>\n",
       "      <td>2.695151</td>\n",
       "      <td>105.204973</td>\n",
       "      <td>0.071493</td>\n",
       "    </tr>\n",
       "    <tr>\n",
       "      <th>3239</th>\n",
       "      <td>1216</td>\n",
       "      <td>4.666754</td>\n",
       "      <td>3.111617</td>\n",
       "      <td>5.608989</td>\n",
       "      <td>845.404617</td>\n",
       "      <td>0.123950</td>\n",
       "    </tr>\n",
       "    <tr>\n",
       "      <th>3240</th>\n",
       "      <td>839</td>\n",
       "      <td>2.984083</td>\n",
       "      <td>2.483267</td>\n",
       "      <td>3.882186</td>\n",
       "      <td>427.206141</td>\n",
       "      <td>0.131159</td>\n",
       "    </tr>\n",
       "    <tr>\n",
       "      <th>3241</th>\n",
       "      <td>659</td>\n",
       "      <td>2.471447</td>\n",
       "      <td>1.696199</td>\n",
       "      <td>2.997523</td>\n",
       "      <td>303.572296</td>\n",
       "      <td>0.153679</td>\n",
       "    </tr>\n",
       "  </tbody>\n",
       "</table>\n",
       "<p>3214 rows × 6 columns</p>\n",
       "</div>"
      ],
      "text/plain": [
       "         t         P         Q         S      Энергия       КПД\n",
       "key                                                            \n",
       "1     1098  4.878147  3.183241  5.824889   884.556574  0.138304\n",
       "2      811  3.052598  1.998112  3.648398   603.678739  0.204025\n",
       "3      655  2.525882  1.599076  2.989502  1086.882473  0.555063\n",
       "4      741  3.209250  2.060298  3.813674   513.331266  0.181650\n",
       "5      869  3.347173  2.252643  4.034596   380.677044  0.108577\n",
       "...    ...       ...       ...       ...          ...       ...\n",
       "3237   909  3.932467  2.828459  4.844014  1100.521645  0.249936\n",
       "3238   546  2.106529  1.681182  2.695151   105.204973  0.071493\n",
       "3239  1216  4.666754  3.111617  5.608989   845.404617  0.123950\n",
       "3240   839  2.984083  2.483267  3.882186   427.206141  0.131159\n",
       "3241   659  2.471447  1.696199  2.997523   303.572296  0.153679\n",
       "\n",
       "[3214 rows x 6 columns]"
      ]
     },
     "execution_count": 73,
     "metadata": {},
     "output_type": "execute_result"
    }
   ],
   "source": [
    "# КПД = (активная мощность / полную) \n",
    "df_arc_power['КПД'] = (df_arc['Активная мощность'] / df_arc_power['S'])\n",
    "df_arc_power"
   ]
  },
  {
   "cell_type": "markdown",
   "metadata": {},
   "source": [
    "Для первого раза из таблицы `df_arc_power` оставлю такие признаки: КПД, энергия, t (время нагрева), S (полная мощность). "
   ]
  },
  {
   "cell_type": "code",
   "execution_count": 74,
   "metadata": {},
   "outputs": [
    {
     "data": {
      "text/html": [
       "<div>\n",
       "<style scoped>\n",
       "    .dataframe tbody tr th:only-of-type {\n",
       "        vertical-align: middle;\n",
       "    }\n",
       "\n",
       "    .dataframe tbody tr th {\n",
       "        vertical-align: top;\n",
       "    }\n",
       "\n",
       "    .dataframe thead th {\n",
       "        text-align: right;\n",
       "    }\n",
       "</style>\n",
       "<table border=\"1\" class=\"dataframe\">\n",
       "  <thead>\n",
       "    <tr style=\"text-align: right;\">\n",
       "      <th></th>\n",
       "      <th>Энергия</th>\n",
       "      <th>КПД</th>\n",
       "      <th>t</th>\n",
       "      <th>S</th>\n",
       "    </tr>\n",
       "    <tr>\n",
       "      <th>key</th>\n",
       "      <th></th>\n",
       "      <th></th>\n",
       "      <th></th>\n",
       "      <th></th>\n",
       "    </tr>\n",
       "  </thead>\n",
       "  <tbody>\n",
       "    <tr>\n",
       "      <th>1</th>\n",
       "      <td>884.556574</td>\n",
       "      <td>0.138304</td>\n",
       "      <td>1098</td>\n",
       "      <td>5.824889</td>\n",
       "    </tr>\n",
       "    <tr>\n",
       "      <th>2</th>\n",
       "      <td>603.678739</td>\n",
       "      <td>0.204025</td>\n",
       "      <td>811</td>\n",
       "      <td>3.648398</td>\n",
       "    </tr>\n",
       "    <tr>\n",
       "      <th>3</th>\n",
       "      <td>1086.882473</td>\n",
       "      <td>0.555063</td>\n",
       "      <td>655</td>\n",
       "      <td>2.989502</td>\n",
       "    </tr>\n",
       "    <tr>\n",
       "      <th>4</th>\n",
       "      <td>513.331266</td>\n",
       "      <td>0.181650</td>\n",
       "      <td>741</td>\n",
       "      <td>3.813674</td>\n",
       "    </tr>\n",
       "    <tr>\n",
       "      <th>5</th>\n",
       "      <td>380.677044</td>\n",
       "      <td>0.108577</td>\n",
       "      <td>869</td>\n",
       "      <td>4.034596</td>\n",
       "    </tr>\n",
       "    <tr>\n",
       "      <th>...</th>\n",
       "      <td>...</td>\n",
       "      <td>...</td>\n",
       "      <td>...</td>\n",
       "      <td>...</td>\n",
       "    </tr>\n",
       "    <tr>\n",
       "      <th>3237</th>\n",
       "      <td>1100.521645</td>\n",
       "      <td>0.249936</td>\n",
       "      <td>909</td>\n",
       "      <td>4.844014</td>\n",
       "    </tr>\n",
       "    <tr>\n",
       "      <th>3238</th>\n",
       "      <td>105.204973</td>\n",
       "      <td>0.071493</td>\n",
       "      <td>546</td>\n",
       "      <td>2.695151</td>\n",
       "    </tr>\n",
       "    <tr>\n",
       "      <th>3239</th>\n",
       "      <td>845.404617</td>\n",
       "      <td>0.123950</td>\n",
       "      <td>1216</td>\n",
       "      <td>5.608989</td>\n",
       "    </tr>\n",
       "    <tr>\n",
       "      <th>3240</th>\n",
       "      <td>427.206141</td>\n",
       "      <td>0.131159</td>\n",
       "      <td>839</td>\n",
       "      <td>3.882186</td>\n",
       "    </tr>\n",
       "    <tr>\n",
       "      <th>3241</th>\n",
       "      <td>303.572296</td>\n",
       "      <td>0.153679</td>\n",
       "      <td>659</td>\n",
       "      <td>2.997523</td>\n",
       "    </tr>\n",
       "  </tbody>\n",
       "</table>\n",
       "<p>3214 rows × 4 columns</p>\n",
       "</div>"
      ],
      "text/plain": [
       "          Энергия       КПД     t         S\n",
       "key                                        \n",
       "1      884.556574  0.138304  1098  5.824889\n",
       "2      603.678739  0.204025   811  3.648398\n",
       "3     1086.882473  0.555063   655  2.989502\n",
       "4      513.331266  0.181650   741  3.813674\n",
       "5      380.677044  0.108577   869  4.034596\n",
       "...           ...       ...   ...       ...\n",
       "3237  1100.521645  0.249936   909  4.844014\n",
       "3238   105.204973  0.071493   546  2.695151\n",
       "3239   845.404617  0.123950  1216  5.608989\n",
       "3240   427.206141  0.131159   839  3.882186\n",
       "3241   303.572296  0.153679   659  2.997523\n",
       "\n",
       "[3214 rows x 4 columns]"
      ]
     },
     "execution_count": 74,
     "metadata": {},
     "output_type": "execute_result"
    }
   ],
   "source": [
    "df_arc_power = df_arc_power.groupby('key').agg(Энергия = ('Энергия', 'sum'), КПД = ('КПД', 'sum'), t = ('t', 'sum'), S =('S', 'sum'))\n",
    "df_arc_power"
   ]
  },
  {
   "cell_type": "markdown",
   "metadata": {},
   "source": [
    "В итоговой общей таблице должны быть те значения `key`, которые есть во всех таблицах. Данные `df_bulk_time` и `df_wire_time`для обучения модели не информативны, их не добавляем."
   ]
  },
  {
   "cell_type": "markdown",
   "metadata": {},
   "source": [
    "Далее объединяем признаки в одну общую таблицу, для этого мы объединяем таблицы: `df_arc_power`, `df_temp`, `df_bulk` и `df_bulk`, `df_gas`. "
   ]
  },
  {
   "cell_type": "code",
   "execution_count": 75,
   "metadata": {},
   "outputs": [],
   "source": [
    "# В таблице df_arc_power возратим столбец key с индекса на столбец\n",
    "df_arc_power = df_arc_power.rename_axis('key').reset_index()"
   ]
  },
  {
   "cell_type": "code",
   "execution_count": 76,
   "metadata": {},
   "outputs": [
    {
     "data": {
      "text/html": [
       "<div>\n",
       "<style scoped>\n",
       "    .dataframe tbody tr th:only-of-type {\n",
       "        vertical-align: middle;\n",
       "    }\n",
       "\n",
       "    .dataframe tbody tr th {\n",
       "        vertical-align: top;\n",
       "    }\n",
       "\n",
       "    .dataframe thead th {\n",
       "        text-align: right;\n",
       "    }\n",
       "</style>\n",
       "<table border=\"1\" class=\"dataframe\">\n",
       "  <thead>\n",
       "    <tr style=\"text-align: right;\">\n",
       "      <th></th>\n",
       "      <th>key</th>\n",
       "      <th>Начальная t</th>\n",
       "      <th>Конечная t</th>\n",
       "      <th>Время между замерами</th>\n",
       "      <th>Энергия</th>\n",
       "      <th>КПД</th>\n",
       "      <th>t</th>\n",
       "      <th>S</th>\n",
       "      <th>Bulk 1</th>\n",
       "      <th>Bulk 2</th>\n",
       "      <th>...</th>\n",
       "      <th>Газ 1</th>\n",
       "      <th>Wire 1</th>\n",
       "      <th>Wire 2</th>\n",
       "      <th>Wire 3</th>\n",
       "      <th>Wire 4</th>\n",
       "      <th>Wire 5</th>\n",
       "      <th>Wire 6</th>\n",
       "      <th>Wire 7</th>\n",
       "      <th>Wire 8</th>\n",
       "      <th>Wire 9</th>\n",
       "    </tr>\n",
       "  </thead>\n",
       "  <tbody>\n",
       "    <tr>\n",
       "      <th>0</th>\n",
       "      <td>1</td>\n",
       "      <td>1571.0</td>\n",
       "      <td>1613.0</td>\n",
       "      <td>861</td>\n",
       "      <td>884.556574</td>\n",
       "      <td>0.138304</td>\n",
       "      <td>1098</td>\n",
       "      <td>5.824889</td>\n",
       "      <td>0.0</td>\n",
       "      <td>0.0</td>\n",
       "      <td>...</td>\n",
       "      <td>29.749986</td>\n",
       "      <td>60.059998</td>\n",
       "      <td>0.00000</td>\n",
       "      <td>0.0</td>\n",
       "      <td>0.0</td>\n",
       "      <td>0.0</td>\n",
       "      <td>0.0</td>\n",
       "      <td>0.0</td>\n",
       "      <td>0.0</td>\n",
       "      <td>0.0</td>\n",
       "    </tr>\n",
       "    <tr>\n",
       "      <th>1</th>\n",
       "      <td>2</td>\n",
       "      <td>1581.0</td>\n",
       "      <td>1602.0</td>\n",
       "      <td>1305</td>\n",
       "      <td>603.678739</td>\n",
       "      <td>0.204025</td>\n",
       "      <td>811</td>\n",
       "      <td>3.648398</td>\n",
       "      <td>0.0</td>\n",
       "      <td>0.0</td>\n",
       "      <td>...</td>\n",
       "      <td>12.555561</td>\n",
       "      <td>96.052315</td>\n",
       "      <td>0.00000</td>\n",
       "      <td>0.0</td>\n",
       "      <td>0.0</td>\n",
       "      <td>0.0</td>\n",
       "      <td>0.0</td>\n",
       "      <td>0.0</td>\n",
       "      <td>0.0</td>\n",
       "      <td>0.0</td>\n",
       "    </tr>\n",
       "    <tr>\n",
       "      <th>2</th>\n",
       "      <td>3</td>\n",
       "      <td>1596.0</td>\n",
       "      <td>1599.0</td>\n",
       "      <td>1300</td>\n",
       "      <td>1086.882473</td>\n",
       "      <td>0.555063</td>\n",
       "      <td>655</td>\n",
       "      <td>2.989502</td>\n",
       "      <td>0.0</td>\n",
       "      <td>0.0</td>\n",
       "      <td>...</td>\n",
       "      <td>28.554793</td>\n",
       "      <td>91.160157</td>\n",
       "      <td>0.00000</td>\n",
       "      <td>0.0</td>\n",
       "      <td>0.0</td>\n",
       "      <td>0.0</td>\n",
       "      <td>0.0</td>\n",
       "      <td>0.0</td>\n",
       "      <td>0.0</td>\n",
       "      <td>0.0</td>\n",
       "    </tr>\n",
       "    <tr>\n",
       "      <th>3</th>\n",
       "      <td>4</td>\n",
       "      <td>1601.0</td>\n",
       "      <td>1625.0</td>\n",
       "      <td>388</td>\n",
       "      <td>513.331266</td>\n",
       "      <td>0.181650</td>\n",
       "      <td>741</td>\n",
       "      <td>3.813674</td>\n",
       "      <td>0.0</td>\n",
       "      <td>0.0</td>\n",
       "      <td>...</td>\n",
       "      <td>18.841219</td>\n",
       "      <td>89.063515</td>\n",
       "      <td>0.00000</td>\n",
       "      <td>0.0</td>\n",
       "      <td>0.0</td>\n",
       "      <td>0.0</td>\n",
       "      <td>0.0</td>\n",
       "      <td>0.0</td>\n",
       "      <td>0.0</td>\n",
       "      <td>0.0</td>\n",
       "    </tr>\n",
       "    <tr>\n",
       "      <th>4</th>\n",
       "      <td>5</td>\n",
       "      <td>1576.0</td>\n",
       "      <td>1602.0</td>\n",
       "      <td>762</td>\n",
       "      <td>380.677044</td>\n",
       "      <td>0.108577</td>\n",
       "      <td>869</td>\n",
       "      <td>4.034596</td>\n",
       "      <td>0.0</td>\n",
       "      <td>0.0</td>\n",
       "      <td>...</td>\n",
       "      <td>5.413692</td>\n",
       "      <td>89.238236</td>\n",
       "      <td>9.11456</td>\n",
       "      <td>0.0</td>\n",
       "      <td>0.0</td>\n",
       "      <td>0.0</td>\n",
       "      <td>0.0</td>\n",
       "      <td>0.0</td>\n",
       "      <td>0.0</td>\n",
       "      <td>0.0</td>\n",
       "    </tr>\n",
       "    <tr>\n",
       "      <th>...</th>\n",
       "      <td>...</td>\n",
       "      <td>...</td>\n",
       "      <td>...</td>\n",
       "      <td>...</td>\n",
       "      <td>...</td>\n",
       "      <td>...</td>\n",
       "      <td>...</td>\n",
       "      <td>...</td>\n",
       "      <td>...</td>\n",
       "      <td>...</td>\n",
       "      <td>...</td>\n",
       "      <td>...</td>\n",
       "      <td>...</td>\n",
       "      <td>...</td>\n",
       "      <td>...</td>\n",
       "      <td>...</td>\n",
       "      <td>...</td>\n",
       "      <td>...</td>\n",
       "      <td>...</td>\n",
       "      <td>...</td>\n",
       "      <td>...</td>\n",
       "    </tr>\n",
       "    <tr>\n",
       "      <th>2320</th>\n",
       "      <td>2495</td>\n",
       "      <td>1570.0</td>\n",
       "      <td>1591.0</td>\n",
       "      <td>1137</td>\n",
       "      <td>647.439306</td>\n",
       "      <td>0.224704</td>\n",
       "      <td>723</td>\n",
       "      <td>3.985197</td>\n",
       "      <td>0.0</td>\n",
       "      <td>0.0</td>\n",
       "      <td>...</td>\n",
       "      <td>7.125735</td>\n",
       "      <td>89.150879</td>\n",
       "      <td>0.00000</td>\n",
       "      <td>0.0</td>\n",
       "      <td>0.0</td>\n",
       "      <td>0.0</td>\n",
       "      <td>0.0</td>\n",
       "      <td>0.0</td>\n",
       "      <td>0.0</td>\n",
       "      <td>0.0</td>\n",
       "    </tr>\n",
       "    <tr>\n",
       "      <th>2321</th>\n",
       "      <td>2496</td>\n",
       "      <td>1554.0</td>\n",
       "      <td>1591.0</td>\n",
       "      <td>1618</td>\n",
       "      <td>663.377087</td>\n",
       "      <td>0.139581</td>\n",
       "      <td>940</td>\n",
       "      <td>5.055976</td>\n",
       "      <td>0.0</td>\n",
       "      <td>0.0</td>\n",
       "      <td>...</td>\n",
       "      <td>9.412616</td>\n",
       "      <td>114.179527</td>\n",
       "      <td>0.00000</td>\n",
       "      <td>0.0</td>\n",
       "      <td>0.0</td>\n",
       "      <td>0.0</td>\n",
       "      <td>0.0</td>\n",
       "      <td>0.0</td>\n",
       "      <td>0.0</td>\n",
       "      <td>0.0</td>\n",
       "    </tr>\n",
       "    <tr>\n",
       "      <th>2322</th>\n",
       "      <td>2497</td>\n",
       "      <td>1571.0</td>\n",
       "      <td>1589.0</td>\n",
       "      <td>717</td>\n",
       "      <td>409.971957</td>\n",
       "      <td>0.249766</td>\n",
       "      <td>569</td>\n",
       "      <td>2.884756</td>\n",
       "      <td>0.0</td>\n",
       "      <td>0.0</td>\n",
       "      <td>...</td>\n",
       "      <td>6.271699</td>\n",
       "      <td>94.086723</td>\n",
       "      <td>9.04800</td>\n",
       "      <td>0.0</td>\n",
       "      <td>0.0</td>\n",
       "      <td>0.0</td>\n",
       "      <td>0.0</td>\n",
       "      <td>0.0</td>\n",
       "      <td>0.0</td>\n",
       "      <td>0.0</td>\n",
       "    </tr>\n",
       "    <tr>\n",
       "      <th>2323</th>\n",
       "      <td>2498</td>\n",
       "      <td>1591.0</td>\n",
       "      <td>1594.0</td>\n",
       "      <td>1302</td>\n",
       "      <td>330.685437</td>\n",
       "      <td>0.106415</td>\n",
       "      <td>750</td>\n",
       "      <td>4.143362</td>\n",
       "      <td>0.0</td>\n",
       "      <td>0.0</td>\n",
       "      <td>...</td>\n",
       "      <td>14.953657</td>\n",
       "      <td>118.110717</td>\n",
       "      <td>0.00000</td>\n",
       "      <td>0.0</td>\n",
       "      <td>0.0</td>\n",
       "      <td>0.0</td>\n",
       "      <td>0.0</td>\n",
       "      <td>0.0</td>\n",
       "      <td>0.0</td>\n",
       "      <td>0.0</td>\n",
       "    </tr>\n",
       "    <tr>\n",
       "      <th>2324</th>\n",
       "      <td>2499</td>\n",
       "      <td>1569.0</td>\n",
       "      <td>1603.0</td>\n",
       "      <td>1203</td>\n",
       "      <td>680.745281</td>\n",
       "      <td>0.155711</td>\n",
       "      <td>883</td>\n",
       "      <td>4.951128</td>\n",
       "      <td>0.0</td>\n",
       "      <td>0.0</td>\n",
       "      <td>...</td>\n",
       "      <td>11.336151</td>\n",
       "      <td>110.160958</td>\n",
       "      <td>50.00528</td>\n",
       "      <td>0.0</td>\n",
       "      <td>0.0</td>\n",
       "      <td>0.0</td>\n",
       "      <td>0.0</td>\n",
       "      <td>0.0</td>\n",
       "      <td>0.0</td>\n",
       "      <td>0.0</td>\n",
       "    </tr>\n",
       "  </tbody>\n",
       "</table>\n",
       "<p>2325 rows × 33 columns</p>\n",
       "</div>"
      ],
      "text/plain": [
       "       key  Начальная t  Конечная t  Время между замерами      Энергия  \\\n",
       "0        1       1571.0      1613.0                   861   884.556574   \n",
       "1        2       1581.0      1602.0                  1305   603.678739   \n",
       "2        3       1596.0      1599.0                  1300  1086.882473   \n",
       "3        4       1601.0      1625.0                   388   513.331266   \n",
       "4        5       1576.0      1602.0                   762   380.677044   \n",
       "...    ...          ...         ...                   ...          ...   \n",
       "2320  2495       1570.0      1591.0                  1137   647.439306   \n",
       "2321  2496       1554.0      1591.0                  1618   663.377087   \n",
       "2322  2497       1571.0      1589.0                   717   409.971957   \n",
       "2323  2498       1591.0      1594.0                  1302   330.685437   \n",
       "2324  2499       1569.0      1603.0                  1203   680.745281   \n",
       "\n",
       "           КПД     t         S  Bulk 1  Bulk 2  ...      Газ 1      Wire 1  \\\n",
       "0     0.138304  1098  5.824889     0.0     0.0  ...  29.749986   60.059998   \n",
       "1     0.204025   811  3.648398     0.0     0.0  ...  12.555561   96.052315   \n",
       "2     0.555063   655  2.989502     0.0     0.0  ...  28.554793   91.160157   \n",
       "3     0.181650   741  3.813674     0.0     0.0  ...  18.841219   89.063515   \n",
       "4     0.108577   869  4.034596     0.0     0.0  ...   5.413692   89.238236   \n",
       "...        ...   ...       ...     ...     ...  ...        ...         ...   \n",
       "2320  0.224704   723  3.985197     0.0     0.0  ...   7.125735   89.150879   \n",
       "2321  0.139581   940  5.055976     0.0     0.0  ...   9.412616  114.179527   \n",
       "2322  0.249766   569  2.884756     0.0     0.0  ...   6.271699   94.086723   \n",
       "2323  0.106415   750  4.143362     0.0     0.0  ...  14.953657  118.110717   \n",
       "2324  0.155711   883  4.951128     0.0     0.0  ...  11.336151  110.160958   \n",
       "\n",
       "        Wire 2  Wire 3  Wire 4  Wire 5  Wire 6  Wire 7  Wire 8  Wire 9  \n",
       "0      0.00000     0.0     0.0     0.0     0.0     0.0     0.0     0.0  \n",
       "1      0.00000     0.0     0.0     0.0     0.0     0.0     0.0     0.0  \n",
       "2      0.00000     0.0     0.0     0.0     0.0     0.0     0.0     0.0  \n",
       "3      0.00000     0.0     0.0     0.0     0.0     0.0     0.0     0.0  \n",
       "4      9.11456     0.0     0.0     0.0     0.0     0.0     0.0     0.0  \n",
       "...        ...     ...     ...     ...     ...     ...     ...     ...  \n",
       "2320   0.00000     0.0     0.0     0.0     0.0     0.0     0.0     0.0  \n",
       "2321   0.00000     0.0     0.0     0.0     0.0     0.0     0.0     0.0  \n",
       "2322   9.04800     0.0     0.0     0.0     0.0     0.0     0.0     0.0  \n",
       "2323   0.00000     0.0     0.0     0.0     0.0     0.0     0.0     0.0  \n",
       "2324  50.00528     0.0     0.0     0.0     0.0     0.0     0.0     0.0  \n",
       "\n",
       "[2325 rows x 33 columns]"
      ]
     },
     "metadata": {},
     "output_type": "display_data"
    }
   ],
   "source": [
    "df_finish = df_temp.merge(right=df_arc_power, how='inner', on='key')\\\n",
    "                .merge(right=df_bulk, how='inner', on='key')\\\n",
    "                .merge(right=df_gas, how='inner', on='key')\\\n",
    "                .merge(right=df_wire, how='inner', on='key')\n",
    "\n",
    "display(df_finish)"
   ]
  },
  {
   "cell_type": "code",
   "execution_count": 77,
   "metadata": {},
   "outputs": [
    {
     "name": "stdout",
     "output_type": "stream",
     "text": [
      "<class 'pandas.core.frame.DataFrame'>\n",
      "Int64Index: 2325 entries, 0 to 2324\n",
      "Data columns (total 33 columns):\n",
      " #   Column                Non-Null Count  Dtype  \n",
      "---  ------                --------------  -----  \n",
      " 0   key                   2325 non-null   int64  \n",
      " 1   Начальная t           2325 non-null   float64\n",
      " 2   Конечная t            2325 non-null   float64\n",
      " 3   Время между замерами  2325 non-null   int64  \n",
      " 4   Энергия               2325 non-null   float64\n",
      " 5   КПД                   2325 non-null   float64\n",
      " 6   t                     2325 non-null   int64  \n",
      " 7   S                     2325 non-null   float64\n",
      " 8   Bulk 1                2325 non-null   float64\n",
      " 9   Bulk 2                2325 non-null   float64\n",
      " 10  Bulk 3                2325 non-null   float64\n",
      " 11  Bulk 4                2325 non-null   float64\n",
      " 12  Bulk 5                2325 non-null   float64\n",
      " 13  Bulk 6                2325 non-null   float64\n",
      " 14  Bulk 7                2325 non-null   float64\n",
      " 15  Bulk 8                2325 non-null   float64\n",
      " 16  Bulk 9                2325 non-null   float64\n",
      " 17  Bulk 10               2325 non-null   float64\n",
      " 18  Bulk 11               2325 non-null   float64\n",
      " 19  Bulk 12               2325 non-null   float64\n",
      " 20  Bulk 13               2325 non-null   float64\n",
      " 21  Bulk 14               2325 non-null   float64\n",
      " 22  Bulk 15               2325 non-null   float64\n",
      " 23  Газ 1                 2325 non-null   float64\n",
      " 24  Wire 1                2325 non-null   float64\n",
      " 25  Wire 2                2325 non-null   float64\n",
      " 26  Wire 3                2325 non-null   float64\n",
      " 27  Wire 4                2325 non-null   float64\n",
      " 28  Wire 5                2325 non-null   float64\n",
      " 29  Wire 6                2325 non-null   float64\n",
      " 30  Wire 7                2325 non-null   float64\n",
      " 31  Wire 8                2325 non-null   float64\n",
      " 32  Wire 9                2325 non-null   float64\n",
      "dtypes: float64(30), int64(3)\n",
      "memory usage: 617.6 KB\n"
     ]
    }
   ],
   "source": [
    "df_finish.info()"
   ]
  },
  {
   "cell_type": "code",
   "execution_count": 78,
   "metadata": {},
   "outputs": [],
   "source": [
    "def show_unique(df):\n",
    "    for column in df.columns:\n",
    "        print(column)\n",
    "        print(df[column].unique())    "
   ]
  },
  {
   "cell_type": "code",
   "execution_count": 79,
   "metadata": {},
   "outputs": [
    {
     "name": "stdout",
     "output_type": "stream",
     "text": [
      "key\n",
      "[   1    2    3 ... 2497 2498 2499]\n",
      "Начальная t\n",
      "[1571. 1581. 1596. 1601. 1576. 1543. 1586. 1577. 1587. 1574. 1616. 1606.\n",
      " 1583. 1605. 1611. 1588. 1625. 1582. 1603. 1560. 1578. 1594. 1609. 1580.\n",
      " 1613. 1567. 1602. 1564. 1584. 1585. 1593. 1608. 1600. 1538. 1607. 1565.\n",
      " 1573. 1626. 1569. 1589. 1598. 1604. 1579. 1558. 1591. 1614. 1541. 1572.\n",
      " 1557. 1544. 1619. 1620. 1645. 1631. 1635. 1652. 1628. 1563. 1559. 1561.\n",
      " 1592. 1612. 1568. 1623. 1550. 1551. 1617. 1549. 1618. 1548. 1595. 1599.\n",
      " 1553. 1597. 1566. 1570. 1644. 1624. 1643. 1590. 1562. 1575. 1640. 1637.\n",
      " 1554. 1532. 1627. 1621. 1556. 1632. 1615. 1610. 1552. 1542. 1520. 1555.\n",
      " 1629. 1529. 1636. 1545. 1651. 1530. 1654. 1622. 1531. 1639. 1638. 1634.\n",
      " 1540. 1537. 1546. 1547. 1533. 1633. 1647. 1641. 1660. 1527. 1630. 1525.\n",
      " 1535. 1642. 1536. 1539. 1519. 1526. 1534. 1658. 1649. 1650. 1528. 1646.\n",
      " 1648.]\n",
      "Конечная t\n",
      "[1613. 1602. 1599. 1625. 1596. 1598. 1592. 1593. 1597. 1591. 1619. 1606.\n",
      " 1607. 1595. 1603. 1618. 1585. 1600. 1601. 1604. 1609. 1617. 1621. 1612.\n",
      " 1588. 1589. 1574. 1573. 1576. 1581. 1580. 1594. 1590. 1586. 1583. 1578.\n",
      " 1587. 1582. 1647. 1547. 1620. 1610. 1579. 1572. 1605. 1616. 1584. 1624.\n",
      " 1570. 1577. 1575. 1622. 1614. 1608. 1615. 1611. 1623. 1642. 1631. 1556.\n",
      " 1564. 1568. 1629. 1628. 1653. 1569. 1633. 1554. 1550. 1626. 1545. 1543.\n",
      " 1541. 1551. 1566.]\n",
      "Время между замерами\n",
      "[ 861 1305 1300 ...  626  717 1203]\n",
      "Энергия\n",
      "[ 884.55657439  603.67873946 1086.88247326 ...  409.97195697  330.6854367\n",
      "  680.74528127]\n",
      "КПД\n",
      "[0.13830427 0.20402475 0.55506312 ... 0.24976568 0.10641452 0.15571117]\n",
      "t\n",
      "[1098  811  655 ... 1125 1188  308]\n",
      "S\n",
      "[5.82488946 3.64839776 2.98950246 ... 2.88475621 4.14336231 4.95112811]\n",
      "Bulk 1\n",
      "[  0.  46.  27.  48.  29.  78.  52.  69.  51.  73.  92.  65.  75.  94.\n",
      " 185.  67.  37.  10.  43.  34.  54.  44.  39.  90.  62.  60.  31.  33.\n",
      "  50.  83.  58.  41.  38.  30.  63.  19.  21.  47.]\n",
      "Bulk 2\n",
      "[  0. 228. 247. 232. 325. 257. 233. 242. 248. 249. 282. 258. 270.]\n",
      "Bulk 3\n",
      "[  0.  71. 151.  63.  89. 132.  67.  19.  21.  44. 244. 243. 182.  83.\n",
      "  81. 146. 149.  70. 122. 152. 102.  23.  29.  69.  72. 141.  62. 349.\n",
      " 261.  92.  53.  80. 123. 213. 305. 249. 171. 300. 262. 114. 198. 202.\n",
      " 315. 334. 220. 124.  17. 153.  91.  79. 115. 133. 199. 101.  68.  74.\n",
      "  52.  49. 131.  42. 226. 126.  60.  90.  36. 211. 301. 214. 190. 172.\n",
      "  59.  87. 246. 121. 116.  99.  93.  57. 177.  55. 119. 134. 165. 139.\n",
      "  25. 342. 174. 308. 286. 289. 138.  34.  38. 191. 290.  65.  95. 206.\n",
      "  37. 109.  40. 154. 100. 245. 128.  51. 272. 270. 353. 106. 335. 117.\n",
      " 197. 120. 137.  66. 144.  46. 193. 155. 248.  26. 239. 189. 298.  97.\n",
      " 125. 256. 143. 266. 183.  94. 405. 103.  82.  85.  45.  75.  96. 157.\n",
      " 105.  27. 358. 230. 264.  76.  61.  73. 268. 352.  78. 303. 186. 240.\n",
      " 110. 224. 235. 282. 280. 188. 136. 201. 234. 148. 302. 295. 113. 176.\n",
      "  31. 421. 207. 194. 251. 130. 147. 285. 169. 200. 104. 341. 454. 168.\n",
      "  86.  98. 269. 163. 129. 150. 236.  18. 227. 196. 142. 215. 237. 372.\n",
      " 354.  50.  64. 159. 395. 221. 265. 111. 162. 255. 167. 170. 252.  56.\n",
      " 263.  32.  43. 297.  48.  54.  77. 108. 178.  30. 225. 291. 294. 267.\n",
      "   6.  41.  47. 140. 203.  88. 107.  22. 181. 156. 212. 323. 158. 112.\n",
      " 127. 187. 343. 278. 231.  20. 145. 175. 379. 445. 304. 166. 118. 259.\n",
      " 310. 184. 324.  84.  39.  58. 173. 316. 250. 209. 135. 180. 185.]\n",
      "Bulk 4\n",
      "[ 43.  73.  34.  81.  78. 117.  99.   0.  69. 116. 115. 114. 106. 108.\n",
      "  51. 171. 223. 118. 111. 188. 141.  77.  62.  21. 125.  68.  50.  57.\n",
      " 133. 181.  47. 140. 103.  83. 175. 145. 166. 172. 129. 135. 126.  59.\n",
      " 105. 107. 123. 206.  49.  71. 150.  84.  80.  98.  26. 152. 151.  75.\n",
      "  94.  93.  92. 144.  89.  37.  58. 164. 119. 168. 160. 205. 201. 239.\n",
      " 156. 265. 153. 195. 184. 146. 155. 163. 271. 190. 149.  39. 139.  66.\n",
      " 147. 162.  23.  74. 121.  90.  82. 112.  48. 176. 124.  46. 136.  63.\n",
      "  53.  25. 127. 102.  54. 138. 194.  56.  41. 142. 159. 132.  85.  60.\n",
      "  88. 177.  22. 131. 148.  45. 228. 101. 100. 109. 158. 104. 154.  17.\n",
      "  79.  42.  19. 157.  64. 221. 110.  55. 276. 281. 241. 233. 255. 222.\n",
      " 258. 224. 214.  33.  72.  97.  27.  76. 134.  96. 143.  86. 113. 122.\n",
      " 180. 120. 174.  65.  87. 243.  67.  28. 185. 202. 161.  40.  52.  95.\n",
      " 165.  30.  91.  36. 212. 196. 231. 193. 199.  38.  44. 130. 170. 256.\n",
      " 182. 203.  32. 128.  13.  70.  31. 179. 137. 167. 198. 189. 242. 186.\n",
      "  61. 208. 220.]\n",
      "Bulk 5\n",
      "[  0.  72.  79. 112.  83.  86.  74. 189.  73. 184.  82. 148. 102.  88.\n",
      "  28.  43. 142.  19.  11.  23.  42.  31.  34.  22.  61.  33.  70. 603.\n",
      "  77. 180. 293. 242. 182. 121. 256. 197. 103. 146.  94. 132. 122. 234.\n",
      " 160.]\n",
      "Bulk 6\n",
      "[  0.  72.  77.  76. 219. 108.  88.  84.  70. 172. 157. 185. 109. 146.\n",
      "  87.  66. 138. 106.  82.  80. 125.  36. 136. 144.  85. 130.  79.  25.\n",
      "  89. 321.  75.  91. 121.  53. 107.  37. 350. 174. 179. 280. 153. 255.\n",
      " 168.  78.  81. 178.  95.  61. 167. 155.  73. 139. 212.  86. 140. 297.\n",
      " 162. 170.  71. 195. 151.  60. 163.  59. 264. 295.  64.  27.  44.  69.\n",
      " 189. 165. 114. 181. 160. 142. 208. 158.  24. 164. 231. 278. 234.  90.\n",
      " 224. 127. 166. 215. 271. 325.  40.  46. 232. 203. 220.  97.  99. 173.\n",
      "  55. 105. 137. 135. 112.  57. 206.  93. 156.  51. 103. 176.  38.  56.\n",
      " 128. 104. 110.  68. 252. 288. 186.  62.  49. 115.  63. 123. 134.  48.\n",
      "  42. 102.  28. 503. 272. 145. 143. 283. 226. 262.  83.  67. 150.  47.\n",
      " 359.  45. 124. 211. 187.  43. 141. 250. 100. 120. 218. 198. 254. 159.\n",
      " 190. 247. 193. 236.  94. 330.  65. 230. 204. 118. 261. 177. 285. 101.\n",
      " 126.  92. 175. 407.  98. 117.  96. 111. 131.  17.  58.  74. 132.  30.\n",
      "  23. 294. 149.  54. 266. 265. 357.]\n",
      "Bulk 7\n",
      "[  0. 178. 406.  75. 155. 252.  92. 772. 576. 306. 392. 507. 553. 405.]\n",
      "Bulk 8\n",
      "[ 0. 49.]\n",
      "Bulk 9\n",
      "[  0.  63.  68.  65.  71.  66.  70. 147. 111. 108.]\n",
      "Bulk 10\n",
      "[  0.  56. 106. 105.  96.  57.  36.  54.  70.  52.  98.  63.  93.  46.\n",
      "  58.  34.  75.  38.  81.  24.  26.  67.  84. 100.  82.  50.  45.  88.\n",
      "  77. 147.  89.  83.  76.  55.  65.  85. 113.  32.  49. 103.  79. 107.\n",
      " 108.  95.  68.  87.  47.  90.  91.  97. 126. 104.  59.  99. 111. 118.\n",
      " 154. 115. 159. 124. 117. 101.  61.  73. 125.  28.  80. 128.  30.  86.\n",
      " 122.]\n",
      "Bulk 11\n",
      "[  0.  23. 107.  25.  67. 211.  28. 225.  84.  50. 172.  49.  26. 131.\n",
      " 133. 174. 185.  21. 156. 136.  83. 139.  53. 162.  56. 313. 106.  29.\n",
      " 126. 242. 128.  32.  88.  39.  76. 176.  37. 103.  38.  96.  91.  95.\n",
      "  82. 104.  98.  66.  42.  71.  93.  51.  19.  17.  41. 198.  62. 100.\n",
      "  68. 152.  20. 205.  64. 178.  97. 154.  16.  14. 151.  18.  74. 114.\n",
      "  89.  72.  22.  87.  40. 188. 204.  81.  69.  47.  43.  31. 140.   8.\n",
      "  58.  24.]\n",
      "Bulk 12\n",
      "[ 206.  205.  207.  203.  204.  410.  107.  618.    0.  233.  104.  412.\n",
      "  105.  408.  459.  155.  159.  414.  380.  430.  116.  139.  175.  106.\n",
      "  103.  156.  311.  307.  255.  257.  413.  358.  154.  312.  512.  256.\n",
      "  170.  126.  208.  157.  411.  463.  305.  561.  416.  123.  666.  253.\n",
      "  511.  254.  464.  458.  262.  436.  460.  108.  314.  518.  521.  313.\n",
      " 1849.  775.  158.  481.  236.  267.  362.  447.  321.  182.  361.  359.\n",
      "  363.  469.  177.  186.  446.  268.  223.  371.  226.  224.  346.  248.\n",
      "  567.  360.  221.  373.  264.  270.  461.  671.  309.  496.  202.  409.\n",
      "  423.  381.  185.  514.  333.  393.  285.  235.  528.  474.  275.  225.\n",
      "  263.  388.  334.  399.  271.  227.  173.  260.  383.  397.  165.  445.\n",
      "  304.  467.  510.  356.  462.  391.  563.  370.  507.  331.  310.  369.\n",
      "  465.  368.  210.  406.  372.  377.  508.  153.  109.  325.  404.  342.\n",
      "  382.  515.  129.  136.  484.  435.  669.  519.  516.  364.  379.  284.\n",
      "  281.  215.  419.  195.  340.  259.  431.  166.  308.  668.  212.  138.\n",
      "  127.  647.  513.  478.  468.  176.  453.  456.  330.  349.  407.  444.\n",
      "  509.  473.  434.  216.  443.  261.  258.  392.  385.  415.  303.  289.\n",
      "  466.  230.  562.  609.  475.  214.  437.  272.  422.  622.  291.  597.\n",
      "  301.  279.  290.  351.  332.  390.  306.  280.  187.  209.  774.  420.\n",
      "   54.  616.  111.  335.  265.  184.  189.  352.  479.  168.   55.  124.\n",
      "  296.  667.  283.  183.  733.  401.  441.  378.  345.  319.  433.  417.\n",
      "  833.  432.  191.  564.  217.  167.  228.  143.  282.  853.  570.  302.\n",
      "  222.  316.   53.  517.  343.  239.  162.  174.  620.  201.  457.  440.\n",
      "  252.  586.  135.  181.  375.  273.  418.  329.  247.  322.  137.  483.\n",
      "  425.  229.  180.  115.  211.  421.  395.  501.  583.  685.  240.  402.\n",
      "  145.  394.  337.  220.  439.  125.  160.  550.  387.  277.  244.  213.\n",
      "  234.  192.  266.]\n",
      "Bulk 13\n",
      "[  0. 154. 159. 278. 155. 153. 157. 204. 151. 305. 156.]\n",
      "Bulk 14\n",
      "[150. 149. 152. 153. 151. 201. 252.  99. 102. 101. 406. 251. 100. 103.\n",
      "   0. 249. 401. 202. 302. 204. 260. 257. 262. 159. 154. 160. 106. 321.\n",
      " 417. 310. 277. 235. 163. 174. 105. 177. 104. 206. 215. 109. 198. 137.\n",
      " 126. 308. 313. 256. 306. 156. 157. 155. 225. 255. 208. 259. 312. 258.\n",
      " 241. 120. 254. 228. 209. 189. 196. 134. 220. 272. 211. 200. 121. 221.\n",
      " 110. 203. 213. 107. 205. 131. 114. 129. 316. 231. 428. 311. 304. 305.\n",
      " 356. 253. 210. 108. 264. 116. 307. 263. 207. 226. 336. 379. 281. 330.\n",
      " 405. 407. 309. 300. 636. 403. 353. 132. 130. 290. 279. 166. 265. 327.\n",
      " 237. 247. 212. 136. 232. 165. 295. 143. 135. 243. 145. 147. 214. 199.\n",
      " 144. 140. 168. 246. 133. 138. 271. 275. 178. 128. 124. 276. 268. 113.\n",
      " 111. 242. 139. 119. 142. 195. 267. 182. 227. 194. 244. 219. 123. 324.\n",
      " 216. 234. 192. 245. 283. 261. 217. 229. 148. 218. 333. 223. 288. 299.\n",
      " 158.  52. 125. 354. 197. 190. 240. 127. 325. 186. 248. 236. 185. 181.\n",
      " 282. 183. 291. 224. 303. 342. 180. 141. 184. 294. 385. 315. 193. 371.\n",
      " 269. 146. 191. 117. 230. 266. 122. 222. 250. 112. 238. 233. 280. 375.\n",
      " 337. 179. 161. 173. 188. 167. 297. 349.  97. 351.  98.  29. 278. 352.\n",
      " 301. 298. 320. 169. 398.  95. 296. 118.  96. 389. 348. 347. 450.  48.\n",
      " 286. 187. 366. 239. 289. 115. 292.  94. 176.  93.  85. 170.  91. 171.\n",
      "  83.  89.]\n",
      "Bulk 15\n",
      "[154. 153. 152. 203. 204. 202.   0. 101. 104. 156. 155. 205. 159. 124.\n",
      " 134. 105. 206. 201. 151. 103. 158. 102. 111. 114. 157.  64. 125. 218.\n",
      " 223. 187. 175. 222. 224. 106. 188. 200. 225. 183. 178. 210. 149.   1.\n",
      " 221. 405. 186. 196. 185. 150.  44. 189. 167.  55. 166. 211. 110. 209.\n",
      " 113. 190. 176. 112. 177. 164.  99. 100.  52.  53.  85. 207. 197. 193.\n",
      " 208.  51. 163. 148. 212. 216. 213. 258. 217. 220. 214. 215. 227.  86.\n",
      "  63. 219. 198. 145. 251. 199. 126. 123.  54.  73. 117. 127. 181. 191.\n",
      " 118. 228. 116. 160. 179. 192.  56. 169. 260. 107. 168. 261.  10.  59.\n",
      " 194.  75.  87. 290. 147. 295. 226. 232.  69. 235. 128. 108. 137.  65.\n",
      " 170. 337. 161. 231. 109. 174. 172. 171. 236. 115. 239. 233. 240. 230.\n",
      " 237. 246. 229.]\n",
      "Газ 1\n",
      "[29.74998593 12.55556098 28.55479262 ...  6.27169928 14.95365674\n",
      " 11.33615076]\n",
      "Wire 1\n",
      "[ 60.059998  96.052315  91.160157 ... 114.179527  94.086723 118.110717]\n",
      "Wire 2\n",
      "[0.00000000e+00 9.11456000e+00 9.14368100e+00 1.23760000e+01\n",
      " 5.24160030e+01 3.78268810e+01 5.20956800e+01 4.30975990e+01\n",
      " 5.01446380e+01 3.21484870e+01 7.53043220e+01 7.22758400e+01\n",
      " 9.83673630e+01 9.99107210e+01 1.14907524e+02 5.03193630e+01\n",
      " 6.45881570e+01 3.00518420e+01 2.30339200e+01 2.70233610e+01\n",
      " 1.50841610e+01 4.90380820e+01 4.71452830e+01 1.11238400e+01\n",
      " 7.00627210e+01 6.31321600e+01 7.21884840e+01 6.41513570e+01\n",
      " 2.61206400e+01 9.08544100e+00 4.51359980e+01 3.50604820e+01\n",
      " 3.24979210e+01 1.21721600e+01 5.31731180e+01 2.31504000e+01\n",
      " 1.81417600e+01 2.81008000e+01 1.21430400e+01 1.71225610e+01\n",
      " 5.82400000e-01 1.60160000e+00 3.83219180e+01 1.61033610e+01\n",
      " 3.71571240e+01 9.02720110e+01 6.02492830e+01 4.00691220e+01\n",
      " 9.03011170e+01 9.03302390e+01 2.00928000e+01 6.02492790e+01\n",
      " 1.17149767e+02 8.50012740e+01 5.07561610e+01 6.41804810e+01\n",
      " 3.01100810e+01 6.01619220e+01 1.81708810e+01 1.50259210e+01\n",
      " 2.03548800e+01 1.81126400e+01 1.51132800e+01 1.51424010e+01\n",
      " 2.50432010e+01 2.51014400e+01 1.20848000e+01 1.40358410e+01\n",
      " 5.72499200e+01 1.11296654e+02 6.32486420e+01 8.33123250e+01\n",
      " 2.90908810e+01 6.51996840e+01 4.51068840e+01 8.01964870e+01\n",
      " 2.51305600e+01 5.51241650e+01 2.61497590e+01 1.44289596e+02\n",
      " 1.06258888e+02 8.65155250e+01 9.01264040e+01 4.66793630e+01\n",
      " 6.71215980e+01 3.00227200e+01 3.51187210e+01 7.51296000e+01\n",
      " 8.42150420e+01 1.91900810e+01 1.40649600e+01 8.22057650e+01\n",
      " 9.01846470e+01 1.09462082e+02 7.62361660e+01 1.00289276e+02\n",
      " 3.51478390e+01 6.52579190e+01 6.01036830e+01 2.01801610e+01\n",
      " 2.81299210e+01 1.01337600e+01 6.72380820e+01 4.30102420e+01\n",
      " 3.11584000e+01 1.74720000e-01 2.01510410e+01 1.88228550e+02\n",
      " 1.62864000e+01 4.00524790e+01 1.21544800e+01 5.55848770e+01\n",
      " 3.51062390e+01 2.31025600e+01 3.01600000e-02 4.71702390e+01\n",
      " 9.16864000e+00 1.10355438e+02 3.00695210e+01 3.51363980e+01\n",
      " 8.08288000e+00 1.51101600e+01 3.32363210e+01 4.61749570e+01\n",
      " 7.00616840e+01 1.08515679e+02 4.52399980e+01 2.41581590e+01\n",
      " 2.91345600e+01 3.51665570e+01 3.71872830e+01 3.42617570e+01\n",
      " 2.11120000e+01 5.00957600e+01 7.53396760e+01 1.11592000e+01\n",
      " 1.71610390e+01 2.01468790e+01 1.09360160e+02 9.04800000e-02\n",
      " 6.71059990e+01 1.80658400e+01 9.07816000e+00 2.61185610e+01\n",
      " 4.11080780e+01 1.40847200e+01 1.40244000e+01 2.30120810e+01\n",
      " 5.40467220e+01 3.50760800e+01 1.01036000e+01 3.01298410e+01\n",
      " 3.01600000e+01 1.32100800e+01 8.17336000e+00 8.11304000e+00\n",
      " 2.31930390e+01 4.51796800e+01 1.52006400e+01 3.91476780e+01\n",
      " 1.61959190e+01 8.20955200e+01 9.71151960e+01 5.10307200e+01\n",
      " 2.80789580e+01 4.31287990e+01 3.00996800e+01 2.21072810e+01\n",
      " 9.13848000e+00 1.51704800e+01 1.41450400e+01 2.41280000e+01\n",
      " 4.01731190e+01 2.22279210e+01 1.51403200e+01 6.01692010e+01\n",
      " 5.92643970e+01 1.50287293e+02 9.01482380e+01 2.11723190e+01\n",
      " 3.61618390e+01 4.43050380e+01 1.61355990e+01 1.17624000e+00\n",
      " 1.21243200e+01 5.90532770e+01 6.52059190e+01 7.86874390e+01\n",
      " 1.80960010e+01 2.10245362e+02 1.03207520e+02 3.10949590e+01\n",
      " 1.18257354e+02 8.57448760e+01 3.49252780e+01 3.01298400e+01\n",
      " 1.70705600e+01 1.01337590e+01 2.72646410e+01 5.13323170e+01\n",
      " 2.01770400e+01 3.23315200e+01 1.11893600e+01 5.61579210e+01\n",
      " 7.31983180e+01 3.71269610e+01 9.92263950e+01 2.19564780e+01\n",
      " 2.51534390e+01 4.02032810e+01 9.04800000e-02 5.22069590e+01\n",
      " 1.48930079e+02 5.81183200e+01 8.80370410e+01 1.28994324e+02\n",
      " 1.59063842e+02 1.85122086e+02 1.15211197e+02 1.50257128e+02\n",
      " 3.02806390e+01 4.02635990e+01 7.82953560e+01 7.53095250e+01\n",
      " 1.91214410e+01 9.02688750e+01 1.01639190e+01 3.64031180e+01\n",
      " 8.03764000e+01 1.88258724e+02 9.31340790e+01 8.51416780e+01\n",
      " 4.20732000e+01 2.70836800e+01 6.50551200e+01 5.82389600e+01\n",
      " 2.70836790e+01 1.91516000e+01 2.31628800e+01 9.21991200e+01\n",
      " 1.31376957e+02 5.01259190e+01 4.51193580e+01 2.81392800e+01\n",
      " 4.51495210e+01 5.65198360e+01 6.63821560e+01 2.91647190e+01\n",
      " 5.01560820e+01 1.31799200e+01 3.96604000e+01 3.51967200e+01\n",
      " 4.36716770e+01 3.70967980e+01 1.50196790e+01 2.49724790e+01\n",
      " 5.52832800e+01 1.32100800e+02 4.01429630e+01 2.15432892e+02\n",
      " 3.60713620e+01 2.02071990e+01 2.12024780e+01 5.98374410e+01\n",
      " 4.52098390e+01 2.31568481e+02 1.31346802e+02 1.35388229e+02\n",
      " 3.01901610e+01 9.51547930e+01 1.30110245e+02 1.11049118e+02\n",
      " 1.95225677e+02 1.15331833e+02 7.45555200e+01 1.08123596e+02\n",
      " 1.61356003e+02 1.05318718e+02 9.01783980e+01 1.71550073e+02\n",
      " 9.00879210e+01 4.50590400e+01 9.01180800e+01 8.52019960e+01\n",
      " 1.00312157e+02 4.81353600e+01 2.52137580e+01 1.81563210e+01\n",
      " 7.01823200e+01 5.01862370e+01 8.23368000e+01 1.20941600e+01\n",
      " 1.71308800e+01 2.51232800e+01 7.22633590e+01 5.03671950e+01\n",
      " 2.53344000e+01 4.41240810e+01 7.30776830e+01 5.31720810e+01\n",
      " 7.44348760e+01 2.00865590e+01 9.10832000e+00 2.50327990e+01\n",
      " 5.71230390e+01 9.00577620e+01 6.01390420e+01 1.00101036e+02\n",
      " 2.15945600e+01 9.01482390e+01 6.31852000e+01 6.01088790e+01\n",
      " 4.47875990e+01 9.32848740e+01 1.01940790e+01 3.12759210e+01\n",
      " 1.61657600e+01 2.82780152e+02 5.12720000e+00 7.38015210e+01\n",
      " 3.65237580e+01 5.32022400e+01 5.51626400e+01 6.03200000e-02\n",
      " 2.62090400e+01 1.12195200e+01 8.83688000e+00 5.13021620e+01\n",
      " 8.01351170e+01 3.20299220e+01 2.61487200e+01 2.20348953e+02\n",
      " 5.00655980e+01 4.40939220e+01 5.53435970e+01 6.51757560e+01\n",
      " 5.03672030e+01 9.80501550e+01 7.06648790e+01 4.24351190e+01\n",
      " 8.04065630e+01 7.02124790e+01 1.24289360e+02 1.50407913e+02\n",
      " 3.29045600e+01 1.28903839e+02 9.02387240e+01 6.51154400e+01\n",
      " 7.21125560e+01 4.01128010e+01 1.11290400e+01 4.00826420e+01\n",
      " 9.31944000e+00 3.50760800e+01 6.01993600e+01 5.67912810e+01\n",
      " 5.18148770e+01 6.02295190e+01 8.01652830e+01 1.08696634e+02\n",
      " 1.59335282e+02 1.23233765e+02 7.02426370e+01 6.00485610e+01\n",
      " 3.03107990e+01 2.44296020e+01 1.50498400e+01 9.04800000e+00\n",
      " 1.62562390e+01 2.64804790e+01 7.72096000e+00 2.81091190e+01\n",
      " 1.02182076e+02 7.81747140e+01 1.10295120e+02 2.01167200e+01\n",
      " 6.50852810e+01 2.50931190e+01 6.00787160e+01 5.33228830e+01\n",
      " 1.30894400e+01 1.08425198e+02 5.92040830e+01 5.51324770e+01\n",
      " 6.01691970e+01 1.20187599e+02 3.00393580e+01 3.04917600e+01\n",
      " 9.03895110e+01 1.08153756e+02 2.57264800e+01 1.33367524e+02\n",
      " 1.40274154e+02 5.41371990e+01 4.25256000e+01 7.50983960e+01\n",
      " 1.17382725e+02 7.50682450e+01 9.00879190e+01 4.34304020e+01\n",
      " 4.40637590e+01 5.81484790e+01 6.76187210e+01 7.51587140e+01\n",
      " 4.60543170e+01 1.33096076e+02 5.51928020e+01 1.17322395e+02\n",
      " 1.55293831e+02 1.29326080e+02 1.50377756e+02 1.33277046e+02\n",
      " 1.40213837e+02 1.80236161e+02 7.34094370e+01 1.25254471e+02\n",
      " 1.17835120e+02 8.52623140e+01 9.88343260e+01 1.35267593e+02\n",
      " 8.53226390e+01 1.70283356e+02 6.51757580e+01 4.82861590e+01\n",
      " 1.42958401e+02 8.94243920e+01 6.02898410e+01 1.42053590e+01\n",
      " 1.50800000e+01 8.55035940e+01 1.00312164e+02 5.16640820e+01\n",
      " 9.23499150e+01 1.31195999e+02 7.20220790e+01 1.24741764e+02\n",
      " 6.32756770e+01 5.23275990e+01 6.30947190e+01 6.33661580e+01\n",
      " 4.82861600e+01 4.23144800e+01 1.10687200e+01 6.93378380e+01\n",
      " 1.20097122e+02 6.50551220e+01 9.01784000e+00 3.00092010e+01\n",
      " 3.14267200e+01 5.80579990e+01 3.20902400e+01 1.18528805e+02\n",
      " 9.06308060e+01 3.04314410e+01 7.81144030e+01 8.00446320e+01\n",
      " 4.13192000e+00 2.21374400e+01 3.63428000e+01 5.51023220e+01\n",
      " 2.50629600e+01 8.01049580e+01 3.92381630e+01 4.01429560e+01\n",
      " 1.50106322e+02 6.51455990e+01 1.00764565e+02 8.81275170e+01\n",
      " 1.53333448e+02 2.71741600e+01 4.10176000e+00 1.21846410e+01\n",
      " 3.31759990e+01 1.90912800e+01 9.53056030e+01 2.10818390e+01\n",
      " 2.78075190e+01 4.62051200e+01 6.92172020e+01 8.03160860e+01\n",
      " 5.00354420e+01 7.51285550e+01 1.02242400e+01 3.42919190e+01\n",
      " 7.22332000e+01 6.92172010e+01 2.02373590e+01 1.00734400e+01\n",
      " 5.50721590e+01 3.80920790e+01 1.61054400e+01 2.01770410e+01\n",
      " 3.10648000e+01 5.61277620e+01 8.51115190e+01 5.02465590e+01\n",
      " 1.00282005e+02 8.32416000e+01 1.36293045e+02 1.03177353e+02\n",
      " 1.52609600e+01 3.02504810e+01 2.16548800e+01 3.22712020e+01\n",
      " 1.52308000e+01 4.71702380e+01 3.22711990e+01 1.71007200e+01\n",
      " 1.82769600e+01 5.00052820e+01 1.05288566e+02 4.81655200e+01\n",
      " 1.10385599e+02 4.23446380e+01 9.53659210e+01 8.11605610e+01\n",
      " 4.12588810e+01 5.21768000e+01 9.97089570e+01 4.02635970e+01\n",
      " 9.68136000e+00 6.51154410e+01 2.34946400e+01 1.81261600e+01\n",
      " 2.11421590e+01 4.23747990e+01 2.20771200e+01 1.70886566e+02\n",
      " 1.23233764e+02 9.51849670e+01 1.00674072e+02 4.54812790e+01\n",
      " 7.21427230e+01 5.12720030e+01 7.54000010e+01 7.54301600e+01\n",
      " 3.02203200e+01 4.52701610e+01 4.79543980e+01 3.23616790e+01\n",
      " 2.46105590e+01 1.11411034e+02 5.02164000e+01 7.20823940e+01\n",
      " 1.15301682e+02 1.31196000e+01 7.11474380e+01 2.40978390e+01\n",
      " 7.08458410e+01 1.75501037e+02 1.07460075e+02 1.20368553e+02\n",
      " 1.03358322e+02 1.15090560e+02 1.56138321e+02 2.31327210e+01\n",
      " 5.50118370e+01 1.80960000e+01 1.10385600e+01 4.21033590e+01\n",
      " 8.54131210e+01 3.70666390e+01 5.00052800e+01]\n",
      "Wire 3\n",
      "[0.00000000e+00 2.50041794e+02 2.76324066e+02 9.60479510e+01\n",
      " 8.86485670e+01 9.30689770e+01 9.49908980e+01 9.31170270e+01\n",
      " 2.31110901e+02 2.54077850e+02 2.60131897e+02 2.77044769e+02\n",
      " 2.79783508e+02 2.60083832e+02 2.40240005e+02 2.77092834e+02\n",
      " 2.31591369e+02 2.31495285e+02 2.36972740e+02 1.44144000e-01\n",
      " 2.44468246e+02 2.31014801e+02 2.82089813e+02 2.88432144e+02\n",
      " 2.85116821e+02 2.78053802e+02 2.78101837e+02 3.85008668e+02\n",
      " 2.93188919e+02 2.80215942e+02 9.60960000e-01 9.01380540e+01\n",
      " 9.70089110e+01 9.53752820e+01 9.31650770e+01 9.32131270e+01]\n",
      "Wire 4\n",
      "[  0.        24.148801  43.065361  33.182243 103.034882  25.132641\n",
      "  40.069122  58.046562 113.231044  82.150638  92.570401  43.244242\n",
      "  56.07888 ]\n",
      "Wire 5\n",
      "[0.]\n",
      "Wire 6\n",
      "[0.00000000e+00 6.00943220e+01 5.41226430e+01 6.42127230e+01\n",
      " 2.69755230e+01 6.00256840e+01 4.31745610e+01 4.00514410e+01\n",
      " 4.00857620e+01 6.53109670e+01 2.50536000e+01 1.80866410e+01\n",
      " 1.00557600e+01 2.81080820e+01 1.37142731e+02 2.61518420e+01\n",
      " 5.12054410e+01 9.82238470e+01 3.81981620e+01 3.91591220e+01\n",
      " 3.21235240e+01 2.02144810e+01 4.20763240e+01 1.40712000e+01\n",
      " 9.19776100e+00 1.37280000e-01 7.80780020e+01 8.11324920e+01\n",
      " 6.84340870e+01 9.92191220e+01 6.30458450e+01 7.31702470e+01\n",
      " 9.14284870e+01 1.30759210e+01 3.40111240e+01 1.50664820e+01\n",
      " 6.50364000e+01 5.00728840e+01 1.45139283e+02 3.00643230e+01\n",
      " 5.94765660e+01 8.16816000e+00 1.80454575e+02]\n",
      "Wire 7\n",
      "[0.       5.035472 8.49004  1.053936 0.234208]\n",
      "Wire 8\n",
      "[  0.        46.002319  46.094879  46.187439  46.279999  45.354401\n",
      "  45.076721  68.494405 102.762401  95.244248]\n",
      "Wire 9\n",
      "[ 0.       35.0532    4.6228   35.0168   10.01     53.071201 55.000397\n",
      " 23.5508   30.066399 62.0256   17.0352   10.0464   15.0696   22.058401\n",
      " 30.1028   30.030001 43.862003 48.193606 25.1888   42.0784   11.3568\n",
      " 39.967201]\n"
     ]
    }
   ],
   "source": [
    "show_unique(df_finish)"
   ]
  },
  {
   "cell_type": "markdown",
   "metadata": {},
   "source": [
    "Столбец `Wire 5` пустой, его можно удалить."
   ]
  },
  {
   "cell_type": "code",
   "execution_count": 80,
   "metadata": {},
   "outputs": [],
   "source": [
    "df_finish.drop(['Wire 5'],inplace=True, axis=1)"
   ]
  },
  {
   "cell_type": "code",
   "execution_count": 81,
   "metadata": {},
   "outputs": [
    {
     "data": {
      "text/plain": [
       "2325"
      ]
     },
     "execution_count": 81,
     "metadata": {},
     "output_type": "execute_result"
    }
   ],
   "source": [
    "len(df_finish['key'].unique())"
   ]
  },
  {
   "cell_type": "code",
   "execution_count": 82,
   "metadata": {},
   "outputs": [
    {
     "data": {
      "text/html": [
       "<div>\n",
       "<style scoped>\n",
       "    .dataframe tbody tr th:only-of-type {\n",
       "        vertical-align: middle;\n",
       "    }\n",
       "\n",
       "    .dataframe tbody tr th {\n",
       "        vertical-align: top;\n",
       "    }\n",
       "\n",
       "    .dataframe thead th {\n",
       "        text-align: right;\n",
       "    }\n",
       "</style>\n",
       "<table border=\"1\" class=\"dataframe\">\n",
       "  <thead>\n",
       "    <tr style=\"text-align: right;\">\n",
       "      <th></th>\n",
       "      <th>key</th>\n",
       "      <th>Начальная t</th>\n",
       "      <th>Конечная t</th>\n",
       "      <th>Время между замерами</th>\n",
       "      <th>Энергия</th>\n",
       "      <th>КПД</th>\n",
       "      <th>t</th>\n",
       "      <th>S</th>\n",
       "      <th>Bulk 1</th>\n",
       "      <th>Bulk 2</th>\n",
       "      <th>...</th>\n",
       "      <th>Bulk 15</th>\n",
       "      <th>Газ 1</th>\n",
       "      <th>Wire 1</th>\n",
       "      <th>Wire 2</th>\n",
       "      <th>Wire 3</th>\n",
       "      <th>Wire 4</th>\n",
       "      <th>Wire 6</th>\n",
       "      <th>Wire 7</th>\n",
       "      <th>Wire 8</th>\n",
       "      <th>Wire 9</th>\n",
       "    </tr>\n",
       "  </thead>\n",
       "  <tbody>\n",
       "  </tbody>\n",
       "</table>\n",
       "<p>0 rows × 32 columns</p>\n",
       "</div>"
      ],
      "text/plain": [
       "Empty DataFrame\n",
       "Columns: [key, Начальная t, Конечная t, Время между замерами, Энергия, КПД, t, S, Bulk 1, Bulk 2, Bulk 3, Bulk 4, Bulk 5, Bulk 6, Bulk 7, Bulk 8, Bulk 9, Bulk 10, Bulk 11, Bulk 12, Bulk 13, Bulk 14, Bulk 15, Газ 1, Wire 1, Wire 2, Wire 3, Wire 4, Wire 6, Wire 7, Wire 8, Wire 9]\n",
       "Index: []\n",
       "\n",
       "[0 rows x 32 columns]"
      ]
     },
     "execution_count": 82,
     "metadata": {},
     "output_type": "execute_result"
    }
   ],
   "source": [
    "duplicateRows = df_finish[df_finish.duplicated()]\n",
    "duplicateRows"
   ]
  },
  {
   "cell_type": "code",
   "execution_count": 83,
   "metadata": {},
   "outputs": [
    {
     "data": {
      "text/plain": [
       "key                     0\n",
       "Начальная t             0\n",
       "Конечная t              0\n",
       "Время между замерами    0\n",
       "Энергия                 0\n",
       "КПД                     0\n",
       "t                       0\n",
       "S                       0\n",
       "Bulk 1                  0\n",
       "Bulk 2                  0\n",
       "Bulk 3                  0\n",
       "Bulk 4                  0\n",
       "Bulk 5                  0\n",
       "Bulk 6                  0\n",
       "Bulk 7                  0\n",
       "Bulk 8                  0\n",
       "Bulk 9                  0\n",
       "Bulk 10                 0\n",
       "Bulk 11                 0\n",
       "Bulk 12                 0\n",
       "Bulk 13                 0\n",
       "Bulk 14                 0\n",
       "Bulk 15                 0\n",
       "Газ 1                   0\n",
       "Wire 1                  0\n",
       "Wire 2                  0\n",
       "Wire 3                  0\n",
       "Wire 4                  0\n",
       "Wire 6                  0\n",
       "Wire 7                  0\n",
       "Wire 8                  0\n",
       "Wire 9                  0\n",
       "dtype: int64"
      ]
     },
     "execution_count": 83,
     "metadata": {},
     "output_type": "execute_result"
    }
   ],
   "source": [
    "pd.isna(df_finish).sum()"
   ]
  },
  {
   "cell_type": "markdown",
   "metadata": {},
   "source": [
    "**Вывод по предобработке данных**  \n",
    "\n",
    "- Добавили и расчитали новые признаки: `Энергия`, `КПД`, полная мощность `S`.  \n",
    "- Как отдельные признаки в столбцы выделили: начальную температуру, конечную температуру. А так же рассчитали время нагрева и сохранили в столбец `t`.  \n",
    "- Объединили столбцы по тем номерам партий/ковшов `key`, которые есть во всех таблицах. При этом не оставили пропусков в значениях. Пропуски в `df_bulk` и `df_wire` заполнили нулями.  \n",
    "- Целевым признаком является конечная температура `Конечная t`, остальные столбцы будут использоваться для предсказания."
   ]
  },
  {
   "cell_type": "markdown",
   "metadata": {},
   "source": [
    "### Исследование итоговой таблицы с данными"
   ]
  },
  {
   "cell_type": "code",
   "execution_count": 84,
   "metadata": {},
   "outputs": [
    {
     "data": {
      "image/png": "[encoded data removed]",
      "text/plain": [
       "<Figure size 1440x1440 with 2 Axes>"
      ]
     },
     "metadata": {
      "needs_background": "light"
     },
     "output_type": "display_data"
    }
   ],
   "source": [
    "plt.figure(figsize=(20, 20))\n",
    "\n",
    "heatmap = sns.heatmap(df_finish.corr(), vmin=-1, vmax=1, annot=True)\n",
    "\n",
    "heatmap.set_title('Heatmap корреляция', fontdict={'fontsize':15});"
   ]
  },
  {
   "cell_type": "markdown",
   "metadata": {},
   "source": [
    "На тепловой карте мы видим, что у таких признаков как `S` и `t`,  `Wire 8` и `Bulk 9` - очень высокая корреляция, надо удалить один из этих признаков. "
   ]
  },
  {
   "cell_type": "code",
   "execution_count": 89,
   "metadata": {},
   "outputs": [],
   "source": [
    "df_finish = df_finish.drop(['t', 'Wire 8'], axis=1)"
   ]
  },
  {
   "cell_type": "markdown",
   "metadata": {},
   "source": [
    "Рассмотрим, какие признаки влияют больше всего на таргет."
   ]
  },
  {
   "cell_type": "code",
   "execution_count": 90,
   "metadata": {},
   "outputs": [
    {
     "data": {
      "text/plain": [
       "Конечная t              1.000000\n",
       "Wire 1                  0.317702\n",
       "Начальная t             0.301961\n",
       "S                       0.273701\n",
       "Bulk 12                 0.267379\n",
       "Bulk 15                 0.266386\n",
       "Bulk 4                  0.188100\n",
       "Энергия                 0.160038\n",
       "Bulk 14                 0.114520\n",
       "Время между замерами    0.097425\n",
       "Bulk 10                 0.061345\n",
       "Газ 1                   0.059036\n",
       "Bulk 13                -0.010925\n",
       "Bulk 9                 -0.016081\n",
       "Bulk 8                 -0.026590\n",
       "Wire 9                 -0.027496\n",
       "Bulk 5                 -0.028365\n",
       "Bulk 3                 -0.036767\n",
       "Wire 3                 -0.047548\n",
       "Bulk 1                 -0.075233\n",
       "Bulk 2                 -0.082466\n",
       "Wire 6                 -0.084049\n",
       "key                    -0.097052\n",
       "Bulk 7                 -0.107289\n",
       "Bulk 11                -0.114777\n",
       "КПД                    -0.119403\n",
       "Wire 7                 -0.137275\n",
       "Wire 4                 -0.159737\n",
       "Bulk 6                 -0.181880\n",
       "Wire 2                 -0.206837\n",
       "Name: Конечная t, dtype: float64"
      ]
     },
     "execution_count": 90,
     "metadata": {},
     "output_type": "execute_result"
    }
   ],
   "source": [
    "df_finish.corr()['Конечная t'].sort_values(ascending=False)"
   ]
  },
  {
   "cell_type": "markdown",
   "metadata": {},
   "source": [
    "Целевой признак сильнее коррелирует с:  \n",
    "- `Wire 1`  \n",
    "- `Начальная t`- начальная температура  \n",
    "- `S`- полная мощность \n",
    "- `Bulk 12`  \n",
    "- `Bulk 15`  \n",
    "  \n",
    "Меньше всего целевой признак связан с `Wire 2`, `Bulk 6`, `Wire 4` - отрицательная корреляция."
   ]
  },
  {
   "cell_type": "markdown",
   "metadata": {},
   "source": [
    "**Вывод по итоговой таблице**  \n",
    "- Для выявления корреляций и проверки призаков на мультиколлинеарность построили тепловую карту. Выявили сильную корреляцию между такими признаками, как: `S` и `t`,  `Wire 8` и `Bulk 9`, удалили один из признаков. Сильных линейных корреляций с целевым признаком не выявлено.  \n",
    "- Подготовили данные для обучения."
   ]
  },
  {
   "cell_type": "markdown",
   "metadata": {},
   "source": [
    "## Построение модели машинного обучения"
   ]
  },
  {
   "cell_type": "markdown",
   "metadata": {},
   "source": [
    "### Обучение модели"
   ]
  },
  {
   "cell_type": "markdown",
   "metadata": {},
   "source": [
    "Проведем разделение данных на обучающую и тестовую выборки. "
   ]
  },
  {
   "cell_type": "code",
   "execution_count": 91,
   "metadata": {},
   "outputs": [
    {
     "name": "stdout",
     "output_type": "stream",
     "text": [
      "(2325, 28)\n",
      "(2325,)\n"
     ]
    }
   ],
   "source": [
    "features = df_finish.drop(['Конечная t', 'key'], axis=1)\n",
    "target = df_finish['Конечная t']\n",
    "print(features.shape)\n",
    "print(target.shape)"
   ]
  },
  {
   "cell_type": "code",
   "execution_count": 92,
   "metadata": {},
   "outputs": [],
   "source": [
    "features_train, features_test, target_train, target_test = train_test_split(\n",
    "                                                             features, \n",
    "                                                             target, \n",
    "                                                             test_size=.25, \n",
    "                                                             #shuffle=True,\n",
    "                                                             random_state=RANDOM_STATE)  "
   ]
  },
  {
   "cell_type": "markdown",
   "metadata": {},
   "source": [
    "Проведем масштабирование данных."
   ]
  },
  {
   "cell_type": "code",
   "execution_count": 93,
   "metadata": {},
   "outputs": [],
   "source": [
    "scaler = StandardScaler()\n",
    "features_train_lr = pd.DataFrame(scaler.fit_transform(features_train), columns = features_test.columns)\n",
    "features_test_lr = pd.DataFrame(scaler.transform(features_test), columns = features_test.columns)"
   ]
  },
  {
   "cell_type": "markdown",
   "metadata": {},
   "source": [
    "**LinearRegression**"
   ]
  },
  {
   "cell_type": "code",
   "execution_count": 94,
   "metadata": {},
   "outputs": [
    {
     "name": "stdout",
     "output_type": "stream",
     "text": [
      "MAE у линейной регрессии = 5.86508742702793\n",
      "CPU times: user 188 ms, sys: 698 ms, total: 887 ms\n",
      "Wall time: 807 ms\n"
     ]
    }
   ],
   "source": [
    "%%time\n",
    "model_LR = LinearRegression()\n",
    "cv_model_LR = (cross_val_score(\n",
    "                             model_LR, \n",
    "                             features_train_lr, \n",
    "                             target_train, \n",
    "                             cv=CV_COUNTS, \n",
    "                             #random_state=RANDOM_STATE,\n",
    "                             scoring='neg_mean_absolute_error').mean() * -1)\n",
    "\n",
    "print('MAE у линейной регрессии =', cv_model_LR)"
   ]
  },
  {
   "cell_type": "markdown",
   "metadata": {},
   "source": [
    "**RandomForestRegressor**"
   ]
  },
  {
   "cell_type": "code",
   "execution_count": 95,
   "metadata": {},
   "outputs": [
    {
     "name": "stdout",
     "output_type": "stream",
     "text": [
      "-5.912430340569027\n",
      "RandomForestRegressor(max_depth=13, n_estimators=400, random_state=100423)\n",
      "CPU times: user 11min 15s, sys: 2.13 s, total: 11min 18s\n",
      "Wall time: 11min 21s\n"
     ]
    }
   ],
   "source": [
    "%%time\n",
    "params = {'random_state':[RANDOM_STATE],\n",
    "         'max_depth': range(10, 15),\n",
    "         'n_estimators':[x for x in range(100, 501, 50)],\n",
    "         'criterion':['mse']}\n",
    "\n",
    "model_RF = RandomForestRegressor()\n",
    "\n",
    "grid_RF = GridSearchCV(model_RF, params, scoring='neg_mean_absolute_error', cv=CV_COUNTS)\n",
    "grid_RF.fit(features_train, target_train)\n",
    "rf_best_paramms = grid_RF.best_params_\n",
    "\n",
    "#print(rf_best_paramms)\n",
    "print(grid_RF.best_score_)\n",
    "print(grid_RF.best_estimator_)"
   ]
  },
  {
   "cell_type": "code",
   "execution_count": 96,
   "metadata": {},
   "outputs": [
    {
     "name": "stdout",
     "output_type": "stream",
     "text": [
      "MAE у случайного леса = 5.912430340569027\n"
     ]
    }
   ],
   "source": [
    "grid_RF.best_score_ = grid_RF.best_score_ * (-1)\n",
    "print('MAE у случайного леса =', grid_RF.best_score_)"
   ]
  },
  {
   "cell_type": "markdown",
   "metadata": {},
   "source": [
    "**CatBoostRegressor**"
   ]
  },
  {
   "cell_type": "code",
   "execution_count": 97,
   "metadata": {},
   "outputs": [
    {
     "name": "stdout",
     "output_type": "stream",
     "text": [
      "MAE у CatBoost = 5.676160040641611\n",
      "\n",
      "{'nan_mode': 'Min', 'eval_metric': 'RMSE', 'iterations': 1000, 'sampling_frequency': 'PerTree', 'leaf_estimation_method': 'Newton', 'grow_policy': 'SymmetricTree', 'penalties_coefficient': 1, 'boosting_type': 'Plain', 'model_shrink_mode': 'Constant', 'feature_border_type': 'GreedyLogSum', 'bayesian_matrix_reg': 0.10000000149011612, 'force_unit_auto_pair_weights': False, 'l2_leaf_reg': 3, 'random_strength': 1, 'rsm': 1, 'boost_from_average': True, 'model_size_reg': 0.5, 'pool_metainfo_options': {'tags': {}}, 'subsample': 0.800000011920929, 'use_best_model': False, 'random_seed': 100423, 'depth': 6, 'posterior_sampling': False, 'border_count': 254, 'classes_count': 0, 'auto_class_weights': 'None', 'sparse_features_conflict_fraction': 0, 'leaf_estimation_backtracking': 'AnyImprovement', 'best_model_min_trees': 1, 'model_shrink_rate': 0, 'min_data_in_leaf': 1, 'loss_function': 'RMSE', 'learning_rate': 0.04470000043511391, 'score_function': 'Cosine', 'task_type': 'CPU', 'leaf_estimation_iterations': 1, 'bootstrap_type': 'MVS', 'max_leaves': 64}\n",
      "CPU times: user 29.8 s, sys: 631 ms, total: 30.4 s\n",
      "Wall time: 40.3 s\n"
     ]
    }
   ],
   "source": [
    "%%time\n",
    "model_CB = CatBoostRegressor(random_state=RANDOM_STATE, verbose=False)\n",
    "cv_model_CB = (cross_val_score(\n",
    "                             model_CB, \n",
    "                             features_train, \n",
    "                             target_train, \n",
    "                             cv=CV_COUNTS, \n",
    "                             scoring='neg_mean_absolute_error').mean() * -1)\n",
    "\n",
    "best_param_CB = CatBoostRegressor(\n",
    "                               verbose=False,\n",
    "                               random_state=RANDOM_STATE).\\\n",
    "                               fit(features_train, target_train).\\\n",
    "                               get_all_params()\n",
    "\n",
    "print('MAE у CatBoost =', cv_model_CB)\n",
    "print(  )\n",
    "print(best_param_CB)"
   ]
  },
  {
   "cell_type": "markdown",
   "metadata": {},
   "source": [
    "Попролбую подобрать гиперпараметры.  \n",
    "Параметр 'depth' убрала, так как с ним ждала обучения час и так и не дождалась."
   ]
  },
  {
   "cell_type": "code",
   "execution_count": 98,
   "metadata": {},
   "outputs": [
    {
     "name": "stdout",
     "output_type": "stream",
     "text": [
      "{'random_state': 100423, 'learning_rate': 0.03, 'iterations': 1000, 'depth': 6}\n",
      "-5.605542407913107\n",
      "<catboost.core.CatBoostRegressor object at 0x7f6964434e50>\n",
      "CPU times: user 6min 50s, sys: 3.92 s, total: 6min 54s\n",
      "Wall time: 8min 3s\n"
     ]
    }
   ],
   "source": [
    "%%time\n",
    "params = {'random_state':[RANDOM_STATE],\n",
    "         'depth': [6,8,10],\n",
    "         'learning_rate': [x/100 for x in range(1, 11)],\n",
    "         'iterations': [100,1000]}\n",
    "\n",
    "model_CB = CatBoostRegressor(verbose=False)\n",
    "\n",
    "randm_src_CB = RandomizedSearchCV(estimator=model_CB, param_distributions=params, scoring='neg_mean_absolute_error', cv=CV_COUNTS)\n",
    "randm_src_CB.fit(features_train, target_train)\n",
    "randm_src_CB_best_paramms = randm_src_CB.best_params_\n",
    "\n",
    "print(randm_src_CB_best_paramms)\n",
    "print(randm_src_CB.best_score_)\n",
    "print(randm_src_CB.best_estimator_)"
   ]
  },
  {
   "cell_type": "code",
   "execution_count": 99,
   "metadata": {},
   "outputs": [
    {
     "name": "stdout",
     "output_type": "stream",
     "text": [
      "MAE у CatBoostRegressor = 5.605542407913107\n"
     ]
    }
   ],
   "source": [
    "randm_src_CB.best_score_ = randm_src_CB.best_score_ * (-1)\n",
    "print('MAE у CatBoostRegressor =', randm_src_CB.best_score_)"
   ]
  },
  {
   "cell_type": "markdown",
   "metadata": {},
   "source": [
    "**LightGBM Regressor**"
   ]
  },
  {
   "cell_type": "code",
   "execution_count": 100,
   "metadata": {},
   "outputs": [
    {
     "name": "stdout",
     "output_type": "stream",
     "text": [
      "-5.729908517696089\n",
      "LGBMRegressor(learning_rate=0.08, num_leaves=16, random_state=100423)\n",
      "CPU times: user 37min 26s, sys: 21.1 s, total: 37min 47s\n",
      "Wall time: 37min 59s\n"
     ]
    }
   ],
   "source": [
    "%%time\n",
    "params = {'random_state':[RANDOM_STATE],\n",
    "         'num_leaves': range(10, 20),\n",
    "          'num_leaves': [x for x in range(10,31)],\n",
    "         'learning_rate': [x/100 for x in range(1, 11)]}\n",
    "\n",
    "model_LGMB = LGBMRegressor()\n",
    "\n",
    "randm_src_LGMB = RandomizedSearchCV(estimator=model_LGMB, param_distributions=params, scoring='neg_mean_absolute_error', cv=CV_COUNTS)\n",
    "randm_src_LGMB.fit(features_train, target_train)\n",
    "randm_src_LGMB_best_paramms = randm_src_LGMB.best_params_\n",
    "\n",
    "print(randm_src_LGMB.best_score_)\n",
    "print(randm_src_LGMB.best_estimator_)"
   ]
  },
  {
   "cell_type": "code",
   "execution_count": 101,
   "metadata": {},
   "outputs": [
    {
     "name": "stdout",
     "output_type": "stream",
     "text": [
      "MAE у LightGBM Regressor = 5.729908517696089\n"
     ]
    }
   ],
   "source": [
    "randm_src_LGMB.best_score_ = randm_src_LGMB.best_score_ * (-1)\n",
    "print('MAE у LightGBM Regressor =', randm_src_LGMB.best_score_)"
   ]
  },
  {
   "cell_type": "markdown",
   "metadata": {},
   "source": [
    "Константная модель через DummyRegressor - проверка на вменяемость."
   ]
  },
  {
   "cell_type": "code",
   "execution_count": 102,
   "metadata": {},
   "outputs": [
    {
     "name": "stdout",
     "output_type": "stream",
     "text": [
      "MAE: 8.0442065297096\n",
      "CPU times: user 3.88 ms, sys: 8.11 ms, total: 12 ms\n",
      "Wall time: 11.1 ms\n"
     ]
    }
   ],
   "source": [
    "%%time \n",
    "dummy_model = DummyRegressor(strategy=\"mean\")\n",
    "scores = cross_val_score(dummy_model, features_train, target_train, cv=5, scoring='neg_mean_absolute_error')\n",
    "print('MAE:',np.mean(np.abs(scores)))"
   ]
  },
  {
   "cell_type": "markdown",
   "metadata": {},
   "source": [
    "Значение MAE у DummyRegressor выше, чем у моих моделей, можно считать, что модели прошли проверку на вменяемость."
   ]
  },
  {
   "cell_type": "markdown",
   "metadata": {},
   "source": [
    "Выбор лучшей модели. Построили общую таблицу всех моделей с МАЕ."
   ]
  },
  {
   "cell_type": "code",
   "execution_count": 104,
   "metadata": {},
   "outputs": [
    {
     "data": {
      "text/html": [
       "<div>\n",
       "<style scoped>\n",
       "    .dataframe tbody tr th:only-of-type {\n",
       "        vertical-align: middle;\n",
       "    }\n",
       "\n",
       "    .dataframe tbody tr th {\n",
       "        vertical-align: top;\n",
       "    }\n",
       "\n",
       "    .dataframe thead th {\n",
       "        text-align: right;\n",
       "    }\n",
       "</style>\n",
       "<table border=\"1\" class=\"dataframe\">\n",
       "  <thead>\n",
       "    <tr style=\"text-align: right;\">\n",
       "      <th></th>\n",
       "      <th>MAE на обучающей выборке</th>\n",
       "    </tr>\n",
       "  </thead>\n",
       "  <tbody>\n",
       "    <tr>\n",
       "      <th>CatBoostRegressor</th>\n",
       "      <td>5.605542</td>\n",
       "    </tr>\n",
       "    <tr>\n",
       "      <th>LGBMRegressor</th>\n",
       "      <td>5.729909</td>\n",
       "    </tr>\n",
       "    <tr>\n",
       "      <th>LinearRegression</th>\n",
       "      <td>5.865087</td>\n",
       "    </tr>\n",
       "    <tr>\n",
       "      <th>RandomForestRegressor</th>\n",
       "      <td>5.912430</td>\n",
       "    </tr>\n",
       "  </tbody>\n",
       "</table>\n",
       "</div>"
      ],
      "text/plain": [
       "                       MAE на обучающей выборке\n",
       "CatBoostRegressor                      5.605542\n",
       "LGBMRegressor                          5.729909\n",
       "LinearRegression                       5.865087\n",
       "RandomForestRegressor                  5.912430"
      ]
     },
     "execution_count": 104,
     "metadata": {},
     "output_type": "execute_result"
    }
   ],
   "source": [
    "index = ['LinearRegression',\n",
    "         'RandomForestRegressor',\n",
    "         'CatBoostRegressor',\n",
    "         'LGBMRegressor']\n",
    "\n",
    "df = {'MAE на обучающей выборке': [cv_model_LR,\n",
    "                                     grid_RF.best_score_,\n",
    "                                     randm_src_CB.best_score_,\n",
    "                                     randm_src_LGMB.best_score_]}\n",
    "\n",
    "mae = pd.DataFrame(data=df, index=index)\n",
    "\n",
    "mae.sort_values(by='MAE на обучающей выборке', ascending=True)"
   ]
  },
  {
   "cell_type": "markdown",
   "metadata": {},
   "source": [
    "**Вывод**  \n",
    "- Обучили модели: линейная регрессия, RandomForestRegressor, CatBoostRegressor.   \n",
    "- Сделали константую модель и проверили модель на вменяемость.  \n",
    "- Лучшая модель с MAE равное 5.6 - CatBoostRegressor. "
   ]
  },
  {
   "cell_type": "markdown",
   "metadata": {},
   "source": [
    "### Проверка моделей"
   ]
  },
  {
   "cell_type": "markdown",
   "metadata": {},
   "source": [
    "Тестирование лучшей модели на тестовой выборке;  \n",
    "Если MAE на тестовых данных > нужной метрики - доработка модели (MAE <= 6.8)  \n",
    "Анализ важности факторов"
   ]
  },
  {
   "cell_type": "code",
   "execution_count": 105,
   "metadata": {},
   "outputs": [
    {
     "name": "stdout",
     "output_type": "stream",
     "text": [
      "MAE на тестовой выборке CatBoostRegressor = 5.496006111926708\n"
     ]
    }
   ],
   "source": [
    "best_model = randm_src_CB.best_estimator_\n",
    "target_predict = best_model.predict(features_test)\n",
    "mae_cb_test = mean_absolute_error(target_predict, target_test)\n",
    "print('MAE на тестовой выборке CatBoostRegressor =', mae_cb_test)"
   ]
  },
  {
   "cell_type": "markdown",
   "metadata": {},
   "source": [
    "### Анализ важности факторов"
   ]
  },
  {
   "cell_type": "code",
   "execution_count": 108,
   "metadata": {},
   "outputs": [
    {
     "data": {
      "text/html": [
       "<div>\n",
       "<style scoped>\n",
       "    .dataframe tbody tr th:only-of-type {\n",
       "        vertical-align: middle;\n",
       "    }\n",
       "\n",
       "    .dataframe tbody tr th {\n",
       "        vertical-align: top;\n",
       "    }\n",
       "\n",
       "    .dataframe thead th {\n",
       "        text-align: right;\n",
       "    }\n",
       "</style>\n",
       "<table border=\"1\" class=\"dataframe\">\n",
       "  <thead>\n",
       "    <tr style=\"text-align: right;\">\n",
       "      <th></th>\n",
       "      <th>feature</th>\n",
       "      <th>importance</th>\n",
       "    </tr>\n",
       "  </thead>\n",
       "  <tbody>\n",
       "    <tr>\n",
       "      <th>0</th>\n",
       "      <td>Начальная t</td>\n",
       "      <td>23.947338</td>\n",
       "    </tr>\n",
       "    <tr>\n",
       "      <th>1</th>\n",
       "      <td>S</td>\n",
       "      <td>21.947853</td>\n",
       "    </tr>\n",
       "    <tr>\n",
       "      <th>2</th>\n",
       "      <td>Время между замерами</td>\n",
       "      <td>9.239914</td>\n",
       "    </tr>\n",
       "    <tr>\n",
       "      <th>3</th>\n",
       "      <td>Wire 1</td>\n",
       "      <td>6.169044</td>\n",
       "    </tr>\n",
       "    <tr>\n",
       "      <th>4</th>\n",
       "      <td>Bulk 6</td>\n",
       "      <td>4.885147</td>\n",
       "    </tr>\n",
       "    <tr>\n",
       "      <th>5</th>\n",
       "      <td>Bulk 15</td>\n",
       "      <td>3.930263</td>\n",
       "    </tr>\n",
       "    <tr>\n",
       "      <th>6</th>\n",
       "      <td>Bulk 12</td>\n",
       "      <td>3.896577</td>\n",
       "    </tr>\n",
       "    <tr>\n",
       "      <th>7</th>\n",
       "      <td>КПД</td>\n",
       "      <td>3.881818</td>\n",
       "    </tr>\n",
       "    <tr>\n",
       "      <th>8</th>\n",
       "      <td>Энергия</td>\n",
       "      <td>3.643567</td>\n",
       "    </tr>\n",
       "    <tr>\n",
       "      <th>9</th>\n",
       "      <td>Wire 2</td>\n",
       "      <td>3.383189</td>\n",
       "    </tr>\n",
       "    <tr>\n",
       "      <th>10</th>\n",
       "      <td>Bulk 14</td>\n",
       "      <td>3.127946</td>\n",
       "    </tr>\n",
       "    <tr>\n",
       "      <th>11</th>\n",
       "      <td>Газ 1</td>\n",
       "      <td>2.802935</td>\n",
       "    </tr>\n",
       "    <tr>\n",
       "      <th>12</th>\n",
       "      <td>Bulk 7</td>\n",
       "      <td>1.848905</td>\n",
       "    </tr>\n",
       "    <tr>\n",
       "      <th>13</th>\n",
       "      <td>Bulk 1</td>\n",
       "      <td>1.806056</td>\n",
       "    </tr>\n",
       "    <tr>\n",
       "      <th>14</th>\n",
       "      <td>Bulk 4</td>\n",
       "      <td>1.785893</td>\n",
       "    </tr>\n",
       "    <tr>\n",
       "      <th>15</th>\n",
       "      <td>Bulk 3</td>\n",
       "      <td>1.349120</td>\n",
       "    </tr>\n",
       "    <tr>\n",
       "      <th>16</th>\n",
       "      <td>Wire 4</td>\n",
       "      <td>0.723698</td>\n",
       "    </tr>\n",
       "    <tr>\n",
       "      <th>17</th>\n",
       "      <td>Bulk 10</td>\n",
       "      <td>0.409363</td>\n",
       "    </tr>\n",
       "    <tr>\n",
       "      <th>18</th>\n",
       "      <td>Wire 6</td>\n",
       "      <td>0.342052</td>\n",
       "    </tr>\n",
       "    <tr>\n",
       "      <th>19</th>\n",
       "      <td>Bulk 11</td>\n",
       "      <td>0.297019</td>\n",
       "    </tr>\n",
       "    <tr>\n",
       "      <th>20</th>\n",
       "      <td>Bulk 5</td>\n",
       "      <td>0.220015</td>\n",
       "    </tr>\n",
       "    <tr>\n",
       "      <th>21</th>\n",
       "      <td>Wire 3</td>\n",
       "      <td>0.184693</td>\n",
       "    </tr>\n",
       "    <tr>\n",
       "      <th>22</th>\n",
       "      <td>Wire 7</td>\n",
       "      <td>0.157395</td>\n",
       "    </tr>\n",
       "    <tr>\n",
       "      <th>23</th>\n",
       "      <td>Bulk 2</td>\n",
       "      <td>0.015495</td>\n",
       "    </tr>\n",
       "    <tr>\n",
       "      <th>24</th>\n",
       "      <td>Bulk 9</td>\n",
       "      <td>0.003155</td>\n",
       "    </tr>\n",
       "    <tr>\n",
       "      <th>25</th>\n",
       "      <td>Bulk 13</td>\n",
       "      <td>0.001047</td>\n",
       "    </tr>\n",
       "    <tr>\n",
       "      <th>26</th>\n",
       "      <td>Wire 9</td>\n",
       "      <td>0.000502</td>\n",
       "    </tr>\n",
       "    <tr>\n",
       "      <th>27</th>\n",
       "      <td>Bulk 8</td>\n",
       "      <td>0.000000</td>\n",
       "    </tr>\n",
       "  </tbody>\n",
       "</table>\n",
       "</div>"
      ],
      "text/plain": [
       "                 feature  importance\n",
       "0            Начальная t   23.947338\n",
       "1                      S   21.947853\n",
       "2   Время между замерами    9.239914\n",
       "3                 Wire 1    6.169044\n",
       "4                 Bulk 6    4.885147\n",
       "5                Bulk 15    3.930263\n",
       "6                Bulk 12    3.896577\n",
       "7                    КПД    3.881818\n",
       "8                Энергия    3.643567\n",
       "9                 Wire 2    3.383189\n",
       "10               Bulk 14    3.127946\n",
       "11                 Газ 1    2.802935\n",
       "12                Bulk 7    1.848905\n",
       "13                Bulk 1    1.806056\n",
       "14                Bulk 4    1.785893\n",
       "15                Bulk 3    1.349120\n",
       "16                Wire 4    0.723698\n",
       "17               Bulk 10    0.409363\n",
       "18                Wire 6    0.342052\n",
       "19               Bulk 11    0.297019\n",
       "20                Bulk 5    0.220015\n",
       "21                Wire 3    0.184693\n",
       "22                Wire 7    0.157395\n",
       "23                Bulk 2    0.015495\n",
       "24                Bulk 9    0.003155\n",
       "25               Bulk 13    0.001047\n",
       "26                Wire 9    0.000502\n",
       "27                Bulk 8    0.000000"
      ]
     },
     "execution_count": 108,
     "metadata": {},
     "output_type": "execute_result"
    }
   ],
   "source": [
    "importances = best_model.feature_importances_\n",
    "feature_list = list(features_train.columns)\n",
    "feature_results = pd.DataFrame({'feature': feature_list,'importance': importances})\n",
    "feature_results = feature_results.sort_values('importance',ascending = False).reset_index(drop=True)\n",
    "feature_results"
   ]
  },
  {
   "cell_type": "code",
   "execution_count": 107,
   "metadata": {},
   "outputs": [
    {
     "data": {
      "image/png": "[encoded data removed]",
      "text/plain": [
       "<Figure size 720x720 with 1 Axes>"
      ]
     },
     "metadata": {
      "needs_background": "light"
     },
     "output_type": "display_data"
    }
   ],
   "source": [
    "indices = np.argsort(importances)\n",
    "fig, ax = plt.subplots(figsize=(10, 10))\n",
    "ax.barh(range(len(importances)), importances[indices])\n",
    "ax.set_yticks(range(len(importances)))\n",
    "_ = ax.set_yticklabels(np.array(features_train.columns)[indices])"
   ]
  },
  {
   "cell_type": "markdown",
   "metadata": {},
   "source": [
    "Из графика видно, что не важные признаки для предсказания у модели: `Bulk 8`, `Wire 9`, `Bulk 13`, `Bulk 9`, `Bulk 2`. Самые значимые: `Начальная t`, `S`, `Время между замерами`, `Wire 1`, `КПД`.  \n",
    "Энергия где то в середине по значимости."
   ]
  },
  {
   "cell_type": "markdown",
   "metadata": {},
   "source": [
    "## Отчёт"
   ]
  },
  {
   "cell_type": "markdown",
   "metadata": {},
   "source": [
    "- Ответить на 4 вопроса:  \n",
    "    - какие пункты плана были выполнены, а какие нет (поясните, почему?)\n",
    "    - какие трудности возникли и как вы их преодалели?\n",
    "    - какие ключевые шаги в решении задачи выполнини?\n",
    "    - какая ваша итоговая модель и какое у нее качество?\n",
    "- Список признаков, используемых для обучения лучшей модели и описание их преобработки.\n",
    "- Гиперпараметры лучшей модели, включая random_state\n",
    "- Что рекомендуете для улучшения модели, решения"
   ]
  },
  {
   "cell_type": "markdown",
   "metadata": {},
   "source": [
    "**1.1.** Были выполнены почти все пункты из плана. Вот которые нет:   \n",
    "    - Корректировка наименований столбцов не была проведена, т.к. в этом не было сильной необходимости.  \n",
    "    - Заполнение пропусков / удаление дубликатов (при наличии), т.к. в данных не было дубликатов, а пропуски были, но их никак нельзя было заменить например медианой или средней, поэтому некоторые пропуски заполнили нулями, а какие то пришлось удалять. Причем удаляя пропуски в определенных столбцах, мы также удаляли и целую партию по \"key\" во всех других данных.  \n",
    "    - Графический анализ у итоговой таблицы, т.к. просто сама не посчитала нужным."
   ]
  },
  {
   "cell_type": "markdown",
   "metadata": {},
   "source": [
    "**План проекта**  \n",
    "**1. Проведение обзора данных (EDA)**\n",
    "\n",
    "**Подготовка данных:** \n",
    "* Импорт необходимых библиотек; ✅\n",
    "* Чтение файлов и сохранение полученных данных в переменные; ✅\n",
    "* Получение общей информации о таблицах (head, info, describe); ✅\n",
    "* Корректировка наименований столбцов (при необходимости). ❌\n",
    "* Выводы ✅\n",
    "\n",
    "**Анализ данных:**\n",
    "* Графическое представление данных из таблиц; ✅\n",
    "* Проверка данных на аномалии. ✅\n",
    "* Выводы ✅\n",
    "\n",
    "**Предобработка данных:**\n",
    "* Корректировка типов данных (при необходимости); ✅\n",
    "* Заполнение пропусков / удаление дубликатов (при наличии); ❌\n",
    "* Выделение признаков и таргета; ✅\n",
    "* Соединение таблиц. ✅\n",
    "* Выводы ✅\n",
    "\n",
    "**Исследование итоговой таблицы с данными:**\n",
    "* Аналитический анализ ✅\n",
    "* корреляционный анализ ✅\n",
    "* выводы ✅\n",
    "\n",
    "**2. Построение модели машинного обучения**\n",
    "\n",
    "**Обучение модели:**\n",
    "* Разделение данных на обучающую и тестовую выборки; ✅\n",
    "* Масштабирование данных; ✅\n",
    "* Обучение модели линейной регрессии; ✅\n",
    "* Обучение модели градиентного бустинга с перебором гиперпараметров; ✅\n",
    "* Константная модели. ✅\n",
    "* Выбор лучшей модели ✅\n",
    "\n",
    "**Проверка моделей:**\n",
    "* Тестирование лучшей модели на тестовой выборке;✅\n",
    "* Если MAE на тестовых данных > нужной метрики - доработка модели. ✅\n",
    "* Анализ важности факторов ✅\n",
    "\n",
    "**3. Общий вывод**"
   ]
  },
  {
   "cell_type": "markdown",
   "metadata": {},
   "source": [
    "**1.2.** Были трудности с пониманием: самого процесса обработки стали; какие данные в итоге должны войти в проект, а какие нет; какие новые признаки можно добавлять и нужно ли вообще - на все эти вопросы ответил тимлид на первой встрече (спасибо вам 😊). Не вошли данные `data_wire_time.csv` и `data_bulk_time.csv`, т.к. для поставленной задачи они просто не информативны. Добавили новые признаки `S`- полная мощность, `КПД`, `Энергия`, `t` - время нагрева (его правда в итоге при обучении модели убрали, т.к. этот признак сильно коррелировал с другим признаком `S`). Процесс обработки стали объяснили на встрече (один ковш = одна партия = один `key` = одна строка в итоговой табличке).   \n",
    "\n",
    "**1.3.** Ключевые шаги: предобработка признаков и составление единой таблицы (для решения задачи нам нужны были только те партии, где имелись замеры начальной и конечной температуры, поэтому ковши, у которых были только промежуточные замеры и не было финишного замера - удалялись), обучение моделей и выбор одной наилучшей (качество модели оценивали по MAE), тестирование наилучшей модели на тестовой выборке.\n",
    "\n",
    "\n",
    "**1.4.** Итоговая модель - CatBoostRegressor с качеством на тестовой выборке MAE = 5.49 (по условию MAE должно получиться <= 6.8). Это означает, что модель в среднем ошибается на 5-6 градусов.\n",
    "  \n",
    "  \n",
    "**2.** Использовали 28 признаков:  \n",
    "- Начальная температура. Стоит отметить, что этот признак является самым значимым фактором для обучения модели. Этот столбец мы выделили из `df_temp` вместе с целевым признаком `Конечная t`. Также построив диаграмму размаха `df_temp` мы увидели, что имеются выбросы, поэтому оставили те партии, где температура выше или равна 1500. \n",
    "- Полная мощность `S`. Рассчитали этот признак сами используя формулу с реактивной и активной мощностью из таблицы `df_arc`. При этом при рассчете полной мощности, мы убрали аномальное значение в столбце `Реактивная мощность` равное -715. Еще при корреляционном анализе увидели, что полная мощность сильно коррелирует с другим признаком `t` - время нагрева, поэтому для обучения удалили признак `t`, оставив признак `S`.   \n",
    "- Время между замерами. Также выделили из данных `df_temp` используя столбец `Время замера`. Тут меняли тип данных на datetime.\n",
    "- `КПД`. Рассчитывали поделив акивную мощность на полную. \n",
    "- `Энергия`. Затрата энергии/работы на наргрев рассчитывали умножив время нагрева электрода на активную мощность. Время нагрева рассчитали вычев в `df_arc` из `Конец нагрева дугой` `Начало нагрева дугой`.\n",
    "- `Газ 1`. Оставили без изменений. \n",
    "- Столбцы `Wire 1` и тд до `Wire 9`, столбцы `Bulk 1` до `Bulk 15` - это данные о подаче сыпучих и проволочных материалов (объем). При корреляционном анализе увидели, что `Wire 8` и `Bulk 9` сильно коррелируют, признак `Wire 8` удалили. Также удалили столбец `Wire 5`, потому что он оказался совершенно пустым.  \n",
    "\n",
    "И самое важный момент в составлении общей таблицы со всеми этими признаками был в том, что надо было удалить те партии, те ковши, те `key`, где в `df_temp` не было замера начальной и конечной температуры, удалили мы все эти партии из всех данных.  \n",
    "\n",
    "**3.** Гиперпараметры лучшей модели CatBoostRegressor:  \n",
    "    - 'random_state': 100423   \n",
    "    - 'learning_rate': 0.03   \n",
    "    - 'iterations': 1000  \n",
    "    - 'depth': 6  \n",
    "    \n",
    "**4.** Для улучшения модели можно попробовать:  \n",
    "1. Повлиять на фактор, который больше всех имеет важность в обучении модели, а это начальная температура ковша. Т.е. можно например чуть сильнее нагревать сплав в печи перед добавлением добавок.   \n",
    "2. Можно сравнить между собой как работают разные бригады/смены, возможно у одних рабочих получилось прийти к нужному качеству стали быстрее, чем другой. Надо зафиксировать на каких этапах и в чем конкретно были различия у этих рабочих. В общем, зафиксировать различия у разных смен.\n",
    "3. Как вы и писали выше, надо попробовать уменьшить разброс в измерениях, а точнее в температуре. Собрать новые данные, когда температура выходит за рамки, и фиксировать какая при этом была начальная температура, а какой химический состав, какой был газ, какая бригада была на смене и тд и тп. В общем, находить причины и фиксировать их, а потом на основе их придумывать регламенты и разрабатывать энергосберегательные мероприятия."
   ]
  },
  {
   "cell_type": "code",
   "execution_count": null,
   "metadata": {},
   "outputs": [],
   "source": []
  }
 ],
 "metadata": {
  "ExecuteTimeLog": [
   {
    "duration": 7345,
    "start_time": "2023-04-19T07:50:38.163Z"
   },
   {
    "duration": 2545,
    "start_time": "2023-04-19T07:51:11.731Z"
   },
   {
    "duration": 4,
    "start_time": "2023-04-19T07:51:20.687Z"
   },
   {
    "duration": 306,
    "start_time": "2023-04-19T07:51:34.871Z"
   },
   {
    "duration": 28,
    "start_time": "2023-04-19T07:51:40.870Z"
   },
   {
    "duration": 13,
    "start_time": "2023-04-19T07:51:50.872Z"
   },
   {
    "duration": 6,
    "start_time": "2023-04-19T07:52:00.239Z"
   },
   {
    "duration": 15,
    "start_time": "2023-04-19T07:52:07.281Z"
   },
   {
    "duration": 11,
    "start_time": "2023-04-19T07:52:13.823Z"
   },
   {
    "duration": 26,
    "start_time": "2023-04-19T07:54:55.639Z"
   },
   {
    "duration": 27,
    "start_time": "2023-04-19T07:55:01.942Z"
   },
   {
    "duration": 1091,
    "start_time": "2023-04-19T07:55:08.593Z"
   },
   {
    "duration": 372,
    "start_time": "2023-04-19T07:55:16.318Z"
   },
   {
    "duration": 6,
    "start_time": "2023-04-19T07:55:23.184Z"
   },
   {
    "duration": 116,
    "start_time": "2023-04-19T07:55:36.681Z"
   },
   {
    "duration": 18,
    "start_time": "2023-04-19T07:55:42.158Z"
   },
   {
    "duration": 17,
    "start_time": "2023-04-19T07:55:49.013Z"
   },
   {
    "duration": 11,
    "start_time": "2023-04-19T07:55:57.671Z"
   },
   {
    "duration": 3895,
    "start_time": "2023-04-19T07:56:03.860Z"
   },
   {
    "duration": 56,
    "start_time": "2023-04-19T07:56:13.978Z"
   },
   {
    "duration": 6,
    "start_time": "2023-04-19T07:56:19.728Z"
   },
   {
    "duration": 276,
    "start_time": "2023-04-19T07:56:34.068Z"
   },
   {
    "duration": 19,
    "start_time": "2023-04-19T07:56:47.437Z"
   },
   {
    "duration": 27,
    "start_time": "2023-04-19T07:56:53.629Z"
   },
   {
    "duration": 23,
    "start_time": "2023-04-19T07:56:59.265Z"
   },
   {
    "duration": 408,
    "start_time": "2023-04-19T07:57:04.943Z"
   },
   {
    "duration": 257,
    "start_time": "2023-04-19T07:57:16.712Z"
   },
   {
    "duration": 19,
    "start_time": "2023-04-19T07:57:23.648Z"
   },
   {
    "duration": 16,
    "start_time": "2023-04-19T07:57:30.337Z"
   },
   {
    "duration": 159,
    "start_time": "2023-04-19T07:57:43.250Z"
   },
   {
    "duration": 17,
    "start_time": "2023-04-19T07:57:49.273Z"
   },
   {
    "duration": 8,
    "start_time": "2023-04-19T07:57:58.779Z"
   },
   {
    "duration": 7,
    "start_time": "2023-04-19T08:07:36.175Z"
   },
   {
    "duration": 330,
    "start_time": "2023-04-19T08:07:42.818Z"
   },
   {
    "duration": 264,
    "start_time": "2023-04-19T08:07:48.989Z"
   },
   {
    "duration": 12,
    "start_time": "2023-04-19T08:07:55.319Z"
   },
   {
    "duration": 6,
    "start_time": "2023-04-19T08:08:01.437Z"
   },
   {
    "duration": 161,
    "start_time": "2023-04-19T08:08:18.229Z"
   },
   {
    "duration": 18,
    "start_time": "2023-04-19T08:08:54.745Z"
   },
   {
    "duration": 9,
    "start_time": "2023-04-19T08:09:01.162Z"
   },
   {
    "duration": 10,
    "start_time": "2023-04-19T08:09:07.741Z"
   },
   {
    "duration": 4858,
    "start_time": "2023-04-19T08:09:15.053Z"
   },
   {
    "duration": 383,
    "start_time": "2023-04-19T08:09:26.715Z"
   },
   {
    "duration": 6,
    "start_time": "2023-04-19T08:09:32.846Z"
   },
   {
    "duration": 185,
    "start_time": "2023-04-19T08:09:47.364Z"
   },
   {
    "duration": 116,
    "start_time": "2023-04-19T08:09:56.929Z"
   },
   {
    "duration": 29,
    "start_time": "2023-04-19T08:10:15.392Z"
   },
   {
    "duration": 12,
    "start_time": "2023-04-19T08:10:21.132Z"
   },
   {
    "duration": 14,
    "start_time": "2023-04-19T08:10:27.855Z"
   },
   {
    "duration": 7,
    "start_time": "2023-04-19T08:10:33.133Z"
   },
   {
    "duration": 195,
    "start_time": "2023-04-19T08:10:47.045Z"
   },
   {
    "duration": 31,
    "start_time": "2023-04-19T08:10:54.172Z"
   },
   {
    "duration": 15,
    "start_time": "2023-04-19T08:11:00.758Z"
   },
   {
    "duration": 108,
    "start_time": "2023-04-19T08:11:08.443Z"
   },
   {
    "duration": 18,
    "start_time": "2023-04-19T08:11:12.247Z"
   },
   {
    "duration": 11,
    "start_time": "2023-04-19T08:11:17.790Z"
   },
   {
    "duration": 26,
    "start_time": "2023-04-19T08:14:27.825Z"
   },
   {
    "duration": 6,
    "start_time": "2023-04-19T08:14:47.681Z"
   },
   {
    "duration": 22,
    "start_time": "2023-04-19T08:23:52.358Z"
   },
   {
    "duration": 14,
    "start_time": "2023-04-19T08:24:05.930Z"
   },
   {
    "duration": 10707,
    "start_time": "2023-04-19T08:24:19.736Z"
   },
   {
    "duration": 26,
    "start_time": "2023-04-19T08:24:30.446Z"
   },
   {
    "duration": 8,
    "start_time": "2023-04-19T08:24:37.039Z"
   },
   {
    "duration": 2685,
    "start_time": "2023-04-19T08:24:59.376Z"
   },
   {
    "duration": 5,
    "start_time": "2023-04-19T08:25:13.432Z"
   },
   {
    "duration": 6,
    "start_time": "2023-04-19T08:25:28.968Z"
   },
   {
    "duration": 97,
    "start_time": "2023-04-19T08:25:44.307Z"
   },
   {
    "duration": 18,
    "start_time": "2023-04-19T08:25:55.644Z"
   },
   {
    "duration": 456,
    "start_time": "2023-04-19T08:26:02.152Z"
   },
   {
    "duration": 4,
    "start_time": "2023-04-19T08:26:43.249Z"
   },
   {
    "duration": 21,
    "start_time": "2023-04-19T08:26:48.224Z"
   },
   {
    "duration": 25,
    "start_time": "2023-04-19T08:27:00.680Z"
   },
   {
    "duration": 17,
    "start_time": "2023-04-19T08:27:07.263Z"
   },
   {
    "duration": 26,
    "start_time": "2023-04-19T08:27:38.145Z"
   },
   {
    "duration": 5,
    "start_time": "2023-04-19T08:28:05.207Z"
   },
   {
    "duration": 52,
    "start_time": "2023-04-19T08:28:10.806Z"
   },
   {
    "duration": 14,
    "start_time": "2023-04-19T08:28:26.465Z"
   },
   {
    "duration": 3,
    "start_time": "2023-04-19T08:29:01.282Z"
   },
   {
    "duration": 43,
    "start_time": "2023-04-19T08:29:08.573Z"
   },
   {
    "duration": 5,
    "start_time": "2023-04-19T08:29:29.306Z"
   },
   {
    "duration": 7,
    "start_time": "2023-04-19T08:29:44.339Z"
   },
   {
    "duration": 21,
    "start_time": "2023-04-19T08:29:50.865Z"
   },
   {
    "duration": 7,
    "start_time": "2023-04-19T08:29:57.420Z"
   },
   {
    "duration": 6630,
    "start_time": "2023-04-19T08:30:34.120Z"
   },
   {
    "duration": 431,
    "start_time": "2023-04-19T08:31:12.322Z"
   },
   {
    "duration": 455,
    "start_time": "2023-04-19T08:31:40.355Z"
   },
   {
    "duration": 432,
    "start_time": "2023-04-19T08:32:16.710Z"
   },
   {
    "duration": 451,
    "start_time": "2023-04-19T08:32:44.596Z"
   },
   {
    "duration": 7,
    "start_time": "2023-04-19T08:42:39.563Z"
   },
   {
    "duration": 15,
    "start_time": "2023-04-19T08:42:59.156Z"
   },
   {
    "duration": 7,
    "start_time": "2023-04-19T08:44:17.718Z"
   },
   {
    "duration": 8,
    "start_time": "2023-04-19T08:44:46.119Z"
   },
   {
    "duration": 16,
    "start_time": "2023-04-19T08:45:35.376Z"
   },
   {
    "duration": 875,
    "start_time": "2023-04-19T08:46:06.915Z"
   },
   {
    "duration": 681416,
    "start_time": "2023-04-19T08:46:52.664Z"
   },
   {
    "duration": 7,
    "start_time": "2023-04-19T08:58:14.082Z"
   },
   {
    "duration": 40310,
    "start_time": "2023-04-19T08:58:14.091Z"
   },
   {
    "duration": 483599,
    "start_time": "2023-04-19T08:58:54.408Z"
   },
   {
    "duration": 4,
    "start_time": "2023-04-19T09:06:58.010Z"
   },
   {
    "duration": 2279373,
    "start_time": "2023-04-19T09:06:58.017Z"
   },
   {
    "duration": 4,
    "start_time": "2023-04-19T09:44:57.391Z"
   },
   {
    "duration": 17,
    "start_time": "2023-04-19T09:44:57.397Z"
   },
   {
    "duration": 81,
    "start_time": "2023-04-19T09:44:57.416Z"
   },
   {
    "duration": 0,
    "start_time": "2023-04-19T09:44:57.499Z"
   },
   {
    "duration": 0,
    "start_time": "2023-04-19T09:44:57.500Z"
   },
   {
    "duration": 0,
    "start_time": "2023-04-19T09:44:57.501Z"
   },
   {
    "duration": 0,
    "start_time": "2023-04-19T09:44:57.502Z"
   },
   {
    "duration": 0,
    "start_time": "2023-04-19T09:44:57.503Z"
   },
   {
    "duration": 11,
    "start_time": "2023-04-19T09:50:39.122Z"
   },
   {
    "duration": 11,
    "start_time": "2023-04-19T09:50:52.126Z"
   },
   {
    "duration": 12,
    "start_time": "2023-04-19T09:50:55.711Z"
   },
   {
    "duration": 305,
    "start_time": "2023-04-19T09:51:00.958Z"
   },
   {
    "duration": 22,
    "start_time": "2023-04-19T09:53:23.086Z"
   }
  ],
  "kernelspec": {
   "display_name": "Python 3",
   "language": "python",
   "name": "python3"
  },
  "language_info": {
   "codemirror_mode": {
    "name": "ipython",
    "version": 3
   },
   "file_extension": ".py",
   "mimetype": "text/x-python",
   "name": "python",
   "nbconvert_exporter": "python",
   "pygments_lexer": "ipython3",
   "version": "3.8.3"
  },
  "toc": {
   "base_numbering": 1,
   "nav_menu": {},
   "number_sections": true,
   "sideBar": true,
   "skip_h1_title": true,
   "title_cell": "Table of Contents",
   "title_sidebar": "Contents",
   "toc_cell": false,
   "toc_position": {},
   "toc_section_display": true,
   "toc_window_display": false
  }
 },
 "nbformat": 4,
 "nbformat_minor": 2
}
