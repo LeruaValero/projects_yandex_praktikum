{
 "cells": [
  {
   "cell_type": "markdown",
   "metadata": {},
   "source": [
    "# Выбор локации для скважины"
   ]
  },
  {
   "cell_type": "markdown",
   "metadata": {},
   "source": [
    "Допустим, вы работаете в добывающей компании «ГлавРосГосНефть». Нужно решить, где бурить новую скважину.\n",
    "\n",
    "Вам предоставлены пробы нефти в трёх регионах: в каждом 10 000 месторождений, где измерили качество нефти и объём её запасов. Постройте модель машинного обучения, которая поможет определить регион, где добыча принесёт наибольшую прибыль. Проанализируйте возможную прибыль и риски техникой *Bootstrap.*\n",
    "\n",
    "Шаги для выбора локации:\n",
    "\n",
    "- В избранном регионе ищут месторождения, для каждого определяют значения признаков;\n",
    "- Строят модель и оценивают объём запасов;\n",
    "- Выбирают месторождения с самым высокими оценками значений. Количество месторождений зависит от бюджета компании и стоимости разработки одной скважины;\n",
    "- Прибыль равна суммарной прибыли отобранных месторождений."
   ]
  },
  {
   "cell_type": "markdown",
   "metadata": {},
   "source": [
    "Описание данных  \n",
    "Даны геологоразведки трёх регионов:\n",
    "- id — уникальный идентификатор скважины;  \n",
    "- f0, f1, f2 — три признака точек (неважно, что они означают, но сами признаки значимы);  \n",
    "- product — объём запасов в скважине (тыс. баррелей)."
   ]
  },
  {
   "cell_type": "markdown",
   "metadata": {},
   "source": [
    "## Загрузка и подготовка данных"
   ]
  },
  {
   "cell_type": "code",
   "execution_count": 1,
   "metadata": {},
   "outputs": [],
   "source": [
    "import pandas as pd\n",
    "import numpy as np\n",
    "import seaborn as sns\n",
    "import matplotlib.pyplot as plt\n",
    "\n",
    "from sklearn.model_selection import train_test_split\n",
    "from sklearn.linear_model import LinearRegression\n",
    "from sklearn.metrics import mean_squared_error\n",
    "from sklearn.preprocessing import MinMaxScaler\n",
    "\n"
   ]
  },
  {
   "cell_type": "code",
   "execution_count": 2,
   "metadata": {},
   "outputs": [
    {
     "name": "stdout",
     "output_type": "stream",
     "text": [
      "Requirement already satisfied: tabulate in /opt/conda/lib/python3.9/site-packages (0.9.0)\n",
      "Note: you may need to restart the kernel to use updated packages.\n"
     ]
    }
   ],
   "source": [
    "pip install tabulate"
   ]
  },
  {
   "cell_type": "code",
   "execution_count": 3,
   "metadata": {},
   "outputs": [],
   "source": [
    "from tabulate import tabulate"
   ]
  },
  {
   "cell_type": "code",
   "execution_count": 4,
   "metadata": {},
   "outputs": [],
   "source": [
    "BUDGET = 10_000_000_000\n",
    "BENEFIT = 450000\n",
    "POINTS = 200"
   ]
  },
  {
   "cell_type": "code",
   "execution_count": 5,
   "metadata": {},
   "outputs": [
    {
     "data": {
      "text/html": [
       "<div>\n",
       "<style scoped>\n",
       "    .dataframe tbody tr th:only-of-type {\n",
       "        vertical-align: middle;\n",
       "    }\n",
       "\n",
       "    .dataframe tbody tr th {\n",
       "        vertical-align: top;\n",
       "    }\n",
       "\n",
       "    .dataframe thead th {\n",
       "        text-align: right;\n",
       "    }\n",
       "</style>\n",
       "<table border=\"1\" class=\"dataframe\">\n",
       "  <thead>\n",
       "    <tr style=\"text-align: right;\">\n",
       "      <th></th>\n",
       "      <th>id</th>\n",
       "      <th>f0</th>\n",
       "      <th>f1</th>\n",
       "      <th>f2</th>\n",
       "      <th>product</th>\n",
       "    </tr>\n",
       "  </thead>\n",
       "  <tbody>\n",
       "    <tr>\n",
       "      <th>0</th>\n",
       "      <td>txEyH</td>\n",
       "      <td>0.705745</td>\n",
       "      <td>-0.497823</td>\n",
       "      <td>1.221170</td>\n",
       "      <td>105.280062</td>\n",
       "    </tr>\n",
       "    <tr>\n",
       "      <th>1</th>\n",
       "      <td>2acmU</td>\n",
       "      <td>1.334711</td>\n",
       "      <td>-0.340164</td>\n",
       "      <td>4.365080</td>\n",
       "      <td>73.037750</td>\n",
       "    </tr>\n",
       "    <tr>\n",
       "      <th>2</th>\n",
       "      <td>409Wp</td>\n",
       "      <td>1.022732</td>\n",
       "      <td>0.151990</td>\n",
       "      <td>1.419926</td>\n",
       "      <td>85.265647</td>\n",
       "    </tr>\n",
       "    <tr>\n",
       "      <th>3</th>\n",
       "      <td>iJLyR</td>\n",
       "      <td>-0.032172</td>\n",
       "      <td>0.139033</td>\n",
       "      <td>2.978566</td>\n",
       "      <td>168.620776</td>\n",
       "    </tr>\n",
       "    <tr>\n",
       "      <th>4</th>\n",
       "      <td>Xdl7t</td>\n",
       "      <td>1.988431</td>\n",
       "      <td>0.155413</td>\n",
       "      <td>4.751769</td>\n",
       "      <td>154.036647</td>\n",
       "    </tr>\n",
       "  </tbody>\n",
       "</table>\n",
       "</div>"
      ],
      "text/plain": [
       "      id        f0        f1        f2     product\n",
       "0  txEyH  0.705745 -0.497823  1.221170  105.280062\n",
       "1  2acmU  1.334711 -0.340164  4.365080   73.037750\n",
       "2  409Wp  1.022732  0.151990  1.419926   85.265647\n",
       "3  iJLyR -0.032172  0.139033  2.978566  168.620776\n",
       "4  Xdl7t  1.988431  0.155413  4.751769  154.036647"
      ]
     },
     "metadata": {},
     "output_type": "display_data"
    }
   ],
   "source": [
    "data_0 = pd.read_csv('/datasets/geo_data_0.csv')\n",
    "display(data_0.head())"
   ]
  },
  {
   "cell_type": "code",
   "execution_count": 6,
   "metadata": {},
   "outputs": [
    {
     "data": {
      "text/html": [
       "<div>\n",
       "<style scoped>\n",
       "    .dataframe tbody tr th:only-of-type {\n",
       "        vertical-align: middle;\n",
       "    }\n",
       "\n",
       "    .dataframe tbody tr th {\n",
       "        vertical-align: top;\n",
       "    }\n",
       "\n",
       "    .dataframe thead th {\n",
       "        text-align: right;\n",
       "    }\n",
       "</style>\n",
       "<table border=\"1\" class=\"dataframe\">\n",
       "  <thead>\n",
       "    <tr style=\"text-align: right;\">\n",
       "      <th></th>\n",
       "      <th>id</th>\n",
       "      <th>f0</th>\n",
       "      <th>f1</th>\n",
       "      <th>f2</th>\n",
       "      <th>product</th>\n",
       "    </tr>\n",
       "  </thead>\n",
       "  <tbody>\n",
       "    <tr>\n",
       "      <th>0</th>\n",
       "      <td>kBEdx</td>\n",
       "      <td>-15.001348</td>\n",
       "      <td>-8.276000</td>\n",
       "      <td>-0.005876</td>\n",
       "      <td>3.179103</td>\n",
       "    </tr>\n",
       "    <tr>\n",
       "      <th>1</th>\n",
       "      <td>62mP7</td>\n",
       "      <td>14.272088</td>\n",
       "      <td>-3.475083</td>\n",
       "      <td>0.999183</td>\n",
       "      <td>26.953261</td>\n",
       "    </tr>\n",
       "    <tr>\n",
       "      <th>2</th>\n",
       "      <td>vyE1P</td>\n",
       "      <td>6.263187</td>\n",
       "      <td>-5.948386</td>\n",
       "      <td>5.001160</td>\n",
       "      <td>134.766305</td>\n",
       "    </tr>\n",
       "    <tr>\n",
       "      <th>3</th>\n",
       "      <td>KcrkZ</td>\n",
       "      <td>-13.081196</td>\n",
       "      <td>-11.506057</td>\n",
       "      <td>4.999415</td>\n",
       "      <td>137.945408</td>\n",
       "    </tr>\n",
       "    <tr>\n",
       "      <th>4</th>\n",
       "      <td>AHL4O</td>\n",
       "      <td>12.702195</td>\n",
       "      <td>-8.147433</td>\n",
       "      <td>5.004363</td>\n",
       "      <td>134.766305</td>\n",
       "    </tr>\n",
       "  </tbody>\n",
       "</table>\n",
       "</div>"
      ],
      "text/plain": [
       "      id         f0         f1        f2     product\n",
       "0  kBEdx -15.001348  -8.276000 -0.005876    3.179103\n",
       "1  62mP7  14.272088  -3.475083  0.999183   26.953261\n",
       "2  vyE1P   6.263187  -5.948386  5.001160  134.766305\n",
       "3  KcrkZ -13.081196 -11.506057  4.999415  137.945408\n",
       "4  AHL4O  12.702195  -8.147433  5.004363  134.766305"
      ]
     },
     "metadata": {},
     "output_type": "display_data"
    }
   ],
   "source": [
    "data_1 = pd.read_csv('/datasets/geo_data_1.csv')\n",
    "display(data_1.head())"
   ]
  },
  {
   "cell_type": "code",
   "execution_count": 7,
   "metadata": {},
   "outputs": [
    {
     "data": {
      "text/html": [
       "<div>\n",
       "<style scoped>\n",
       "    .dataframe tbody tr th:only-of-type {\n",
       "        vertical-align: middle;\n",
       "    }\n",
       "\n",
       "    .dataframe tbody tr th {\n",
       "        vertical-align: top;\n",
       "    }\n",
       "\n",
       "    .dataframe thead th {\n",
       "        text-align: right;\n",
       "    }\n",
       "</style>\n",
       "<table border=\"1\" class=\"dataframe\">\n",
       "  <thead>\n",
       "    <tr style=\"text-align: right;\">\n",
       "      <th></th>\n",
       "      <th>id</th>\n",
       "      <th>f0</th>\n",
       "      <th>f1</th>\n",
       "      <th>f2</th>\n",
       "      <th>product</th>\n",
       "    </tr>\n",
       "  </thead>\n",
       "  <tbody>\n",
       "    <tr>\n",
       "      <th>0</th>\n",
       "      <td>fwXo0</td>\n",
       "      <td>-1.146987</td>\n",
       "      <td>0.963328</td>\n",
       "      <td>-0.828965</td>\n",
       "      <td>27.758673</td>\n",
       "    </tr>\n",
       "    <tr>\n",
       "      <th>1</th>\n",
       "      <td>WJtFt</td>\n",
       "      <td>0.262778</td>\n",
       "      <td>0.269839</td>\n",
       "      <td>-2.530187</td>\n",
       "      <td>56.069697</td>\n",
       "    </tr>\n",
       "    <tr>\n",
       "      <th>2</th>\n",
       "      <td>ovLUW</td>\n",
       "      <td>0.194587</td>\n",
       "      <td>0.289035</td>\n",
       "      <td>-5.586433</td>\n",
       "      <td>62.871910</td>\n",
       "    </tr>\n",
       "    <tr>\n",
       "      <th>3</th>\n",
       "      <td>q6cA6</td>\n",
       "      <td>2.236060</td>\n",
       "      <td>-0.553760</td>\n",
       "      <td>0.930038</td>\n",
       "      <td>114.572842</td>\n",
       "    </tr>\n",
       "    <tr>\n",
       "      <th>4</th>\n",
       "      <td>WPMUX</td>\n",
       "      <td>-0.515993</td>\n",
       "      <td>1.716266</td>\n",
       "      <td>5.899011</td>\n",
       "      <td>149.600746</td>\n",
       "    </tr>\n",
       "  </tbody>\n",
       "</table>\n",
       "</div>"
      ],
      "text/plain": [
       "      id        f0        f1        f2     product\n",
       "0  fwXo0 -1.146987  0.963328 -0.828965   27.758673\n",
       "1  WJtFt  0.262778  0.269839 -2.530187   56.069697\n",
       "2  ovLUW  0.194587  0.289035 -5.586433   62.871910\n",
       "3  q6cA6  2.236060 -0.553760  0.930038  114.572842\n",
       "4  WPMUX -0.515993  1.716266  5.899011  149.600746"
      ]
     },
     "metadata": {},
     "output_type": "display_data"
    }
   ],
   "source": [
    "data_2 = pd.read_csv('/datasets/geo_data_2.csv')\n",
    "display(data_2.head())"
   ]
  },
  {
   "cell_type": "code",
   "execution_count": 8,
   "metadata": {},
   "outputs": [
    {
     "name": "stdout",
     "output_type": "stream",
     "text": [
      "<class 'pandas.core.frame.DataFrame'>\n",
      "RangeIndex: 100000 entries, 0 to 99999\n",
      "Data columns (total 5 columns):\n",
      " #   Column   Non-Null Count   Dtype  \n",
      "---  ------   --------------   -----  \n",
      " 0   id       100000 non-null  object \n",
      " 1   f0       100000 non-null  float64\n",
      " 2   f1       100000 non-null  float64\n",
      " 3   f2       100000 non-null  float64\n",
      " 4   product  100000 non-null  float64\n",
      "dtypes: float64(4), object(1)\n",
      "memory usage: 3.8+ MB\n"
     ]
    }
   ],
   "source": [
    "data_0.info()"
   ]
  },
  {
   "cell_type": "code",
   "execution_count": 9,
   "metadata": {},
   "outputs": [
    {
     "name": "stdout",
     "output_type": "stream",
     "text": [
      "<class 'pandas.core.frame.DataFrame'>\n",
      "RangeIndex: 100000 entries, 0 to 99999\n",
      "Data columns (total 5 columns):\n",
      " #   Column   Non-Null Count   Dtype  \n",
      "---  ------   --------------   -----  \n",
      " 0   id       100000 non-null  object \n",
      " 1   f0       100000 non-null  float64\n",
      " 2   f1       100000 non-null  float64\n",
      " 3   f2       100000 non-null  float64\n",
      " 4   product  100000 non-null  float64\n",
      "dtypes: float64(4), object(1)\n",
      "memory usage: 3.8+ MB\n"
     ]
    }
   ],
   "source": [
    "data_1.info()"
   ]
  },
  {
   "cell_type": "code",
   "execution_count": 10,
   "metadata": {},
   "outputs": [
    {
     "name": "stdout",
     "output_type": "stream",
     "text": [
      "<class 'pandas.core.frame.DataFrame'>\n",
      "RangeIndex: 100000 entries, 0 to 99999\n",
      "Data columns (total 5 columns):\n",
      " #   Column   Non-Null Count   Dtype  \n",
      "---  ------   --------------   -----  \n",
      " 0   id       100000 non-null  object \n",
      " 1   f0       100000 non-null  float64\n",
      " 2   f1       100000 non-null  float64\n",
      " 3   f2       100000 non-null  float64\n",
      " 4   product  100000 non-null  float64\n",
      "dtypes: float64(4), object(1)\n",
      "memory usage: 3.8+ MB\n"
     ]
    }
   ],
   "source": [
    "data_2 .info()"
   ]
  },
  {
   "cell_type": "markdown",
   "metadata": {},
   "source": [
    "Пропусков нет, все столбцы численные. Проверим мультиколлинеарность."
   ]
  },
  {
   "cell_type": "code",
   "execution_count": 11,
   "metadata": {},
   "outputs": [
    {
     "data": {
      "image/png": "[encoded data removed]",
      "text/plain": [
       "<Figure size 432x288 with 2 Axes>"
      ]
     },
     "metadata": {
      "needs_background": "light"
     },
     "output_type": "display_data"
    }
   ],
   "source": [
    "data_plot = sns.heatmap(data_0.corr(), cmap=\"YlGnBu\", annot=True)  \n",
    "plt.show()"
   ]
  },
  {
   "cell_type": "code",
   "execution_count": 12,
   "metadata": {},
   "outputs": [
    {
     "data": {
      "image/png": "[encoded data removed]",
      "text/plain": [
       "<Figure size 432x288 with 2 Axes>"
      ]
     },
     "metadata": {
      "needs_background": "light"
     },
     "output_type": "display_data"
    }
   ],
   "source": [
    "data_plot = sns.heatmap(data_1.corr(), cmap=\"YlGnBu\", annot=True)  \n",
    "plt.show()"
   ]
  },
  {
   "cell_type": "code",
   "execution_count": 13,
   "metadata": {},
   "outputs": [
    {
     "data": {
      "image/png": "[encoded data removed]",
      "text/plain": [
       "<Figure size 432x288 with 2 Axes>"
      ]
     },
     "metadata": {
      "needs_background": "light"
     },
     "output_type": "display_data"
    }
   ],
   "source": [
    "data_plot = sns.heatmap(data_2.corr(), cmap=\"YlGnBu\", annot=True)  \n",
    "plt.show()"
   ]
  },
  {
   "cell_type": "markdown",
   "metadata": {},
   "source": [
    "Мультиколлинеарности не наблюдаем. Во втором регионе признак `f2` коррелирует с целевой переменной `product`, этот факт как раз в пользу более точных предсказаний."
   ]
  },
  {
   "cell_type": "code",
   "execution_count": 14,
   "metadata": {},
   "outputs": [
    {
     "name": "stdout",
     "output_type": "stream",
     "text": [
      "10\n"
     ]
    }
   ],
   "source": [
    "print(data_0['id'].duplicated().sum())"
   ]
  },
  {
   "cell_type": "code",
   "execution_count": 15,
   "metadata": {},
   "outputs": [
    {
     "name": "stdout",
     "output_type": "stream",
     "text": [
      "4\n"
     ]
    }
   ],
   "source": [
    "print(data_1['id'].duplicated().sum())"
   ]
  },
  {
   "cell_type": "code",
   "execution_count": 16,
   "metadata": {},
   "outputs": [
    {
     "name": "stdout",
     "output_type": "stream",
     "text": [
      "4\n"
     ]
    }
   ],
   "source": [
    "print(data_2['id'].duplicated().sum())"
   ]
  },
  {
   "cell_type": "markdown",
   "metadata": {},
   "source": [
    "Дубликаты по id имеются в каждом регионе. Не ясна их природа появления, поэтому пока оставляем."
   ]
  },
  {
   "cell_type": "markdown",
   "metadata": {},
   "source": [
    "## Обучение и проверка модели"
   ]
  },
  {
   "cell_type": "markdown",
   "metadata": {},
   "source": [
    "**Модель первого региона**"
   ]
  },
  {
   "cell_type": "code",
   "execution_count": 18,
   "metadata": {},
   "outputs": [
    {
     "name": "stdout",
     "output_type": "stream",
     "text": [
      "RMSE модели = 37.5794217150813\n",
      "RMSE случайной модели = 44.289591053907365\n",
      "Средний запас предсказанного сырья первого региона = 92.59256778438035\n"
     ]
    }
   ],
   "source": [
    "target_0 = data_0['product']\n",
    "features_0 = data_0.drop(['product', 'id'] , axis=1)\n",
    "features_train_0, features_valid_0, target_train_0, target_valid_0 = train_test_split(features_0, target_0, test_size=0.25, random_state=12345)\n",
    "\n",
    "# проведем масштабирование\n",
    "scaler = MinMaxScaler()\n",
    "scaler.fit(features_train_0)\n",
    "features_train_0 = scaler.transform(features_train_0)\n",
    "features_valid_0 = scaler.transform(features_valid_0)\n",
    "\n",
    "model = LinearRegression()\n",
    "model.fit(features_train_0, target_train_0)\n",
    "predicted_valid_0 = model.predict(features_valid_0)\n",
    "rmse_0 = mean_squared_error(target_valid_0, predicted_valid_0) ** 0.5\n",
    "\n",
    "predicted_random = pd.Series(target_train_0.mean(), index=target_valid_0.index) \n",
    "rmse_random = mean_squared_error(target_valid_0, predicted_random) ** 0.5\n",
    "\n",
    "print(\"RMSE модели =\", rmse_0)\n",
    "print(\"RMSE случайной модели =\", rmse_random)\n",
    "print(\"Средний запас предсказанного сырья первого региона =\", predicted_valid_0.mean())"
   ]
  },
  {
   "cell_type": "markdown",
   "metadata": {},
   "source": [
    "**Модель второго региона**"
   ]
  },
  {
   "cell_type": "code",
   "execution_count": 19,
   "metadata": {},
   "outputs": [
    {
     "name": "stdout",
     "output_type": "stream",
     "text": [
      "RMSE модели = 0.893099286775617\n",
      "RMSE случайной модели = 46.02144533725462\n",
      "Средний запас предсказанного сырья второго региона = 68.72854689544603\n"
     ]
    }
   ],
   "source": [
    "target_1 = data_1['product']\n",
    "features_1 = data_1.drop(['product', 'id'] , axis=1)\n",
    "features_train_1, features_valid_1, target_train_1, target_valid_1 = train_test_split(features_1, target_1, test_size=0.25, random_state=12345)\n",
    "\n",
    "# проведем масштабирование\n",
    "scaler = MinMaxScaler()\n",
    "scaler.fit(features_train_1)\n",
    "features_train_1 = scaler.transform(features_train_1)\n",
    "features_valid_1 = scaler.transform(features_valid_1)\n",
    "\n",
    "model = LinearRegression()\n",
    "model.fit(features_train_1, target_train_1)\n",
    "predicted_valid_1 = model.predict(features_valid_1)\n",
    "rmse_1 = mean_squared_error(target_valid_1, predicted_valid_1) ** 0.5\n",
    "\n",
    "predicted_random = pd.Series(target_train_1.mean(), index=target_valid_1.index) \n",
    "rmse_random = mean_squared_error(target_valid_1, predicted_random) ** 0.5\n",
    "\n",
    "print(\"RMSE модели =\", rmse_1)\n",
    "print(\"RMSE случайной модели =\", rmse_random)\n",
    "print(\"Средний запас предсказанного сырья второго региона =\", predicted_valid_1.mean())"
   ]
  },
  {
   "cell_type": "markdown",
   "metadata": {},
   "source": [
    "**Модель третьего региона**"
   ]
  },
  {
   "cell_type": "code",
   "execution_count": 20,
   "metadata": {},
   "outputs": [
    {
     "name": "stdout",
     "output_type": "stream",
     "text": [
      "RMSE модели = 40.02970873393434\n",
      "RMSE случайной модели = 44.90234968510566\n",
      "Средний запас предсказанного сырья третьего региона = 94.96504596800493\n"
     ]
    }
   ],
   "source": [
    "target_2 = data_2['product']\n",
    "features_2 = data_2.drop(['product', 'id'] , axis=1)\n",
    "features_train_2, features_valid_2, target_train_2, target_valid_2 = train_test_split(features_2, target_2, test_size=0.25, random_state=12345)\n",
    "\n",
    "# проведем масштабирование\n",
    "scaler = MinMaxScaler()\n",
    "scaler.fit(features_train_2)\n",
    "features_train_2 = scaler.transform(features_train_2)\n",
    "features_valid_2 = scaler.transform(features_valid_2)\n",
    "\n",
    "model = LinearRegression()\n",
    "model.fit(features_train_2, target_train_2)\n",
    "predicted_valid_2 = model.predict(features_valid_2)\n",
    "rmse_2 = mean_squared_error(target_valid_2, predicted_valid_2) ** 0.5\n",
    "\n",
    "predicted_random = pd.Series(target_train_2.mean(), index=target_valid_2.index) \n",
    "rmse_random = mean_squared_error(target_valid_2, predicted_random) ** 0.5\n",
    "\n",
    "print(\"RMSE модели =\", rmse_2)\n",
    "print(\"RMSE случайной модели =\", rmse_random)\n",
    "print(\"Средний запас предсказанного сырья третьего региона =\", predicted_valid_2.mean())"
   ]
  },
  {
   "cell_type": "markdown",
   "metadata": {},
   "source": [
    "Всех больше среднего предсказанного сырья в третьем регионе. RMSE тоже самое большое у третьей модели. Значения RMSE (корня из средней квадратичной ошибки) у случайной модели и самой модели - стоят рядом у первой модели и третьей, у второй сильно отличаются. В регионах 1 и 3 предсказания практически не отличаются от случайных, значит и доверять им нельзя. Минимальный размер ошибки говорит о хорошей точности предсказаний. "
   ]
  },
  {
   "cell_type": "markdown",
   "metadata": {},
   "source": [
    "## Подготовка к расчёту прибыли"
   ]
  },
  {
   "cell_type": "markdown",
   "metadata": {},
   "source": [
    "Правильные ответы сохранены в target_0 и так далее для трех регионов. Предсказания сохранены в predicted_valid_0 и так далее для каждого отдельного региона. "
   ]
  },
  {
   "cell_type": "markdown",
   "metadata": {},
   "source": [
    "3.2. Рассчитайте достаточный объём сырья для безубыточной разработки новой скважины. Сравните полученный объём сырья со средним запасом в каждом регионе.  \n",
    "3.3. Напишите выводы по этапу подготовки расчёта прибыли.  "
   ]
  },
  {
   "cell_type": "markdown",
   "metadata": {},
   "source": [
    "Нужно сравнить полученный объем сырья по каждому региону со средним реальным запасом (тоже отдельно для каждого региона). Нужно рассчитать сколько в среднем должно быть в каждой скважине сырья, чтобы не уйти в убыток при случайном выборе скважин для бурения.   \n",
    "Чтобы рассчитать достаточный объем сырья, нужно поделить бюджет (10млрд) на доход с каждой единицы продукта (скважины) (450 тыс). И еще учесть, что бюджет на 200 скважин.  "
   ]
  },
  {
   "cell_type": "markdown",
   "metadata": {},
   "source": [
    " Достаточный объём сырья для безубыточной разработки новой скважины:"
   ]
  },
  {
   "cell_type": "code",
   "execution_count": 21,
   "metadata": {},
   "outputs": [
    {
     "name": "stdout",
     "output_type": "stream",
     "text": [
      "111.11111111111111\n"
     ]
    }
   ],
   "source": [
    "x = 1000000000 / (200*45000)\n",
    "print(x)"
   ]
  },
  {
   "cell_type": "code",
   "execution_count": 22,
   "metadata": {},
   "outputs": [
    {
     "name": "stdout",
     "output_type": "stream",
     "text": [
      "111.11111111111111\n"
     ]
    }
   ],
   "source": [
    "print(BUDGET / (POINTS * BENEFIT))"
   ]
  },
  {
   "cell_type": "code",
   "execution_count": 23,
   "metadata": {},
   "outputs": [
    {
     "data": {
      "text/plain": [
       "product    92.500\n",
       "product    68.825\n",
       "product    95.000\n",
       "dtype: float64"
      ]
     },
     "metadata": {},
     "output_type": "display_data"
    }
   ],
   "source": [
    "data_product_real = pd.concat([data_0['product'], data_1['product'], data_2['product']], sort=False, axis=1).mean()\n",
    "display(data_product_real)"
   ]
  },
  {
   "cell_type": "code",
   "execution_count": 24,
   "metadata": {},
   "outputs": [
    {
     "name": "stdout",
     "output_type": "stream",
     "text": [
      "Регионы          Средний реальный запас    Объём сырья для безубыточной скважины\n",
      "-------------  ------------------------  ---------------------------------------\n",
      "Первый регион                     92.5                                    111.11\n",
      "Второй регион                     68.82                                   111.11\n",
      "Третий регион                     95                                      111.11\n"
     ]
    }
   ],
   "source": [
    "col = [['Первый регион', 92.5, 111.11],\n",
    "      ['Второй регион', 68.82, 111.11], \n",
    "      ['Третий регион', 95.00, 111.11]]\n",
    "col_names = ['Регионы', 'Средний реальный запас', 'Объём сырья для безубыточной скважины']\n",
    "print(tabulate(col, headers=col_names))"
   ]
  },
  {
   "cell_type": "markdown",
   "metadata": {},
   "source": [
    "Реальный запас 3 региона всех больше близок к безубыточной скважине. "
   ]
  },
  {
   "cell_type": "markdown",
   "metadata": {},
   "source": [
    "Напишите функцию для расчёта прибыли по выбранным скважинам и предсказаниям модели:  \n",
    "4.1. Выберите скважины с максимальными значениями предсказаний.  \n",
    "4.2. Просуммируйте целевое значение объёма сырья, соответствующее этим предсказаниям.  \n",
    "4.3. Рассчитайте прибыль для полученного объёма сырья."
   ]
  },
  {
   "cell_type": "code",
   "execution_count": 25,
   "metadata": {},
   "outputs": [],
   "source": [
    "predicted_v_0 = pd.Series(predicted_valid_0, index=target_valid_0.index)\n",
    "target_v_0 = pd.Series(target_valid_0, index=target_valid_0.index)\n",
    "#display(predicted_v_0, target_v_0)\n",
    "\n",
    "predicted_v_1 = pd.Series(predicted_valid_1, index=target_valid_1.index)\n",
    "target_v_1 = pd.Series(target_valid_1, index=target_valid_1.index)\n",
    "\n",
    "predicted_v_2 = pd.Series(predicted_valid_2, index=target_valid_2.index)\n",
    "target_v_2 = pd.Series(target_valid_2, index=target_valid_2.index)"
   ]
  },
  {
   "cell_type": "markdown",
   "metadata": {},
   "source": [
    "Для расчета прибыли нам надо из выручки вычесть себестоимость(бюджет). "
   ]
  },
  {
   "cell_type": "code",
   "execution_count": 26,
   "metadata": {},
   "outputs": [],
   "source": [
    "#функция прибыли\n",
    "def profit(target, predicted, count):\n",
    "    predicted_sorted = predicted.sort_values(ascending=False)\n",
    "    real_sorted= target[predicted_sorted.index][:count]\n",
    "    return (BENEFIT * real_sorted.sum() - BUDGET)"
   ]
  },
  {
   "cell_type": "code",
   "execution_count": 27,
   "metadata": {},
   "outputs": [
    {
     "name": "stdout",
     "output_type": "stream",
     "text": [
      "Прибыль у перового региона (топ 200 скважин с максимальными значениями) = 3320826043\n"
     ]
    }
   ],
   "source": [
    "result = profit(target_v_0, predicted_v_0, 200)\n",
    "print('Прибыль у перового региона (топ 200 скважин с максимальными значениями) =', result.astype(int))"
   ]
  },
  {
   "cell_type": "code",
   "execution_count": 28,
   "metadata": {},
   "outputs": [
    {
     "name": "stdout",
     "output_type": "stream",
     "text": [
      "Прибыль у второго региона (топ 200 скважин с максимальными значениями) = 2415086696\n"
     ]
    }
   ],
   "source": [
    "result = profit(target_v_1, predicted_v_1, 200)\n",
    "print('Прибыль у второго региона (топ 200 скважин с максимальными значениями) =', result.astype(int))"
   ]
  },
  {
   "cell_type": "code",
   "execution_count": 29,
   "metadata": {},
   "outputs": [
    {
     "name": "stdout",
     "output_type": "stream",
     "text": [
      "Прибыль у третьего региона (топ 200 скважин с максимальными значениями) = 2710349963\n"
     ]
    }
   ],
   "source": [
    "result = profit(target_v_2, predicted_v_2, 200)\n",
    "print('Прибыль у третьего региона (топ 200 скважин с максимальными значениями) =', result.astype(int))"
   ]
  },
  {
   "cell_type": "markdown",
   "metadata": {},
   "source": [
    "Прибыль больше всех вышла у первого региона, но и третий недалеко ушел."
   ]
  },
  {
   "cell_type": "markdown",
   "metadata": {},
   "source": [
    "## Расчёт прибыли и рисков "
   ]
  },
  {
   "cell_type": "code",
   "execution_count": 30,
   "metadata": {},
   "outputs": [
    {
     "name": "stdout",
     "output_type": "stream",
     "text": [
      "Первый регион\n",
      "Средняя выручка = 425938526\n",
      "2.5% квантиль = -102090094\n",
      "97.5% квантиль = 947976353\n"
     ]
    }
   ],
   "source": [
    "#функция для бутстрепа\n",
    "state = np.random.RandomState(12345)\n",
    "values = []\n",
    "\n",
    "for i in range(1000):\n",
    "    target_subsample = target_v_0.sample(n=500, replace=True, random_state=state)\n",
    "    probs_subsample = predicted_v_0[target_subsample.index]\n",
    "    values.append(profit(target_subsample, probs_subsample, 200))\n",
    "\n",
    "values = pd.Series(values)\n",
    "lower = values.quantile(q=0.025)\n",
    "upper = values.quantile(q=0.975)\n",
    "mean = values.mean()\n",
    "\n",
    "print('Первый регион')\n",
    "print('Средняя выручка =', mean.astype(int))\n",
    "print('2.5% квантиль =', lower.astype(int))\n",
    "print('97.5% квантиль =', upper.astype(int))"
   ]
  },
  {
   "cell_type": "markdown",
   "metadata": {},
   "source": [
    "Риск это доля отрицательной прибыли в векторе из 1000 прибылей (доля отрицательных значений в векторе values). "
   ]
  },
  {
   "cell_type": "code",
   "execution_count": 32,
   "metadata": {},
   "outputs": [
    {
     "data": {
      "text/plain": [
       "'Риск убытков = 6.00% '"
      ]
     },
     "execution_count": 32,
     "metadata": {},
     "output_type": "execute_result"
    }
   ],
   "source": [
    "'Риск убытков = {:.2%} '.format((pd.Series(values)<0).mean())"
   ]
  },
  {
   "cell_type": "code",
   "execution_count": 33,
   "metadata": {},
   "outputs": [
    {
     "name": "stdout",
     "output_type": "stream",
     "text": [
      "Второй регион\n",
      "Средняя выручка = 515222773\n",
      "2.5% квантиль = 68873225\n",
      "97.5% квантиль = 931547591\n"
     ]
    }
   ],
   "source": [
    "#функция для бутстрепа\n",
    "state = np.random.RandomState(12345)\n",
    "values = []\n",
    "\n",
    "for i in range(1000):\n",
    "    target_subsample = target_v_1.sample(n=500, replace=True, random_state=state)\n",
    "    probs_subsample = predicted_v_1[target_subsample.index]\n",
    "    values.append(profit(target_subsample, probs_subsample, 200))\n",
    "\n",
    "values = pd.Series(values)\n",
    "lower = values.quantile(q=0.025)\n",
    "upper = values.quantile(q=0.975)\n",
    "mean = values.mean()\n",
    "\n",
    "print('Второй регион')\n",
    "print('Средняя выручка =', mean.astype(int))\n",
    "print('2.5% квантиль =', lower.astype(int))\n",
    "print('97.5% квантиль =', upper.astype(int))"
   ]
  },
  {
   "cell_type": "code",
   "execution_count": 34,
   "metadata": {},
   "outputs": [
    {
     "data": {
      "text/plain": [
       "'Риск убытков = 1.00% '"
      ]
     },
     "execution_count": 34,
     "metadata": {},
     "output_type": "execute_result"
    }
   ],
   "source": [
    "'Риск убытков = {:.2%} '.format((pd.Series(values)<0).mean())"
   ]
  },
  {
   "cell_type": "code",
   "execution_count": 35,
   "metadata": {},
   "outputs": [
    {
     "name": "stdout",
     "output_type": "stream",
     "text": [
      "Третий регион\n",
      "Средняя выручка = 435008362\n",
      "2.5% квантиль = -128880547\n",
      "97.5% квантиль = 969706954\n"
     ]
    }
   ],
   "source": [
    "#функция для бутстрепа\n",
    "state = np.random.RandomState(12345)\n",
    "values = []\n",
    "\n",
    "for i in range(1000):\n",
    "    target_subsample = target_v_2.sample(n=500, replace=True, random_state=state)\n",
    "    probs_subsample = predicted_v_2[target_subsample.index]\n",
    "    values.append(profit(target_subsample, probs_subsample, 200))\n",
    "\n",
    "values = pd.Series(values)\n",
    "lower = values.quantile(q=0.025)\n",
    "upper = values.quantile(q=0.975)\n",
    "mean = values.mean()\n",
    "\n",
    "print('Третий регион')\n",
    "print('Средняя выручка =', mean.astype(int))\n",
    "print('2.5% квантиль =', lower.astype(int))\n",
    "print('97.5% квантиль =', upper.astype(int))"
   ]
  },
  {
   "cell_type": "code",
   "execution_count": 36,
   "metadata": {},
   "outputs": [
    {
     "data": {
      "text/plain": [
       "'Риск убытков = 6.40% '"
      ]
     },
     "execution_count": 36,
     "metadata": {},
     "output_type": "execute_result"
    }
   ],
   "source": [
    "'Риск убытков = {:.2%} '.format((pd.Series(values)<0).mean())"
   ]
  },
  {
   "cell_type": "markdown",
   "metadata": {},
   "source": [
    "**Вывод:** Судя по убыткам нам подходит лишь второй регион, так как у него риск убытков равен 1%, у других регионов он от 6%, а по условию задачи нам нужны регионы с риском меньше 2.5%. Так же у второго региона вышла самая большая средняя выручка. \n",
    "</div>"
   ]
  },
  {
   "cell_type": "code",
   "execution_count": null,
   "metadata": {},
   "outputs": [],
   "source": []
  }
 ],
 "metadata": {
  "ExecuteTimeLog": [
   {
    "duration": 413,
    "start_time": "2022-12-19T09:23:19.305Z"
   },
   {
    "duration": 647,
    "start_time": "2022-12-19T09:24:17.939Z"
   },
   {
    "duration": 148,
    "start_time": "2022-12-19T09:24:35.534Z"
   },
   {
    "duration": 594,
    "start_time": "2022-12-19T09:24:37.840Z"
   },
   {
    "duration": 588,
    "start_time": "2022-12-19T09:24:40.471Z"
   },
   {
    "duration": 14,
    "start_time": "2022-12-19T09:25:46.074Z"
   },
   {
    "duration": 16,
    "start_time": "2022-12-19T09:25:47.806Z"
   },
   {
    "duration": 19,
    "start_time": "2022-12-19T09:25:49.754Z"
   },
   {
    "duration": 433,
    "start_time": "2022-12-19T16:23:15.060Z"
   },
   {
    "duration": 386,
    "start_time": "2022-12-19T16:23:19.073Z"
   },
   {
    "duration": 2,
    "start_time": "2022-12-19T16:23:28.672Z"
   },
   {
    "duration": 134,
    "start_time": "2022-12-19T16:23:28.676Z"
   },
   {
    "duration": 195,
    "start_time": "2022-12-19T16:23:28.811Z"
   },
   {
    "duration": 191,
    "start_time": "2022-12-19T16:23:29.007Z"
   },
   {
    "duration": 16,
    "start_time": "2022-12-19T16:23:29.200Z"
   },
   {
    "duration": 12,
    "start_time": "2022-12-19T16:23:29.218Z"
   },
   {
    "duration": 13,
    "start_time": "2022-12-19T16:23:29.232Z"
   },
   {
    "duration": 801,
    "start_time": "2022-12-19T16:38:04.620Z"
   },
   {
    "duration": 112,
    "start_time": "2022-12-19T17:03:25.374Z"
   },
   {
    "duration": 38,
    "start_time": "2022-12-19T17:03:35.044Z"
   },
   {
    "duration": 26,
    "start_time": "2022-12-19T17:04:42.031Z"
   },
   {
    "duration": 3,
    "start_time": "2022-12-19T17:11:35.730Z"
   },
   {
    "duration": 8,
    "start_time": "2022-12-19T17:14:02.367Z"
   },
   {
    "duration": 14,
    "start_time": "2022-12-19T17:14:23.246Z"
   },
   {
    "duration": 3,
    "start_time": "2022-12-19T17:15:07.206Z"
   },
   {
    "duration": 172,
    "start_time": "2022-12-19T17:15:07.211Z"
   },
   {
    "duration": 125,
    "start_time": "2022-12-19T17:15:07.385Z"
   },
   {
    "duration": 135,
    "start_time": "2022-12-19T17:15:07.513Z"
   },
   {
    "duration": 15,
    "start_time": "2022-12-19T17:15:07.649Z"
   },
   {
    "duration": 13,
    "start_time": "2022-12-19T17:15:07.676Z"
   },
   {
    "duration": 13,
    "start_time": "2022-12-19T17:15:07.691Z"
   },
   {
    "duration": 74,
    "start_time": "2022-12-19T17:15:07.705Z"
   },
   {
    "duration": 101,
    "start_time": "2022-12-19T17:15:07.782Z"
   },
   {
    "duration": 15,
    "start_time": "2022-12-19T17:15:07.884Z"
   },
   {
    "duration": 1038,
    "start_time": "2022-12-19T17:15:19.573Z"
   },
   {
    "duration": 141,
    "start_time": "2022-12-19T17:15:20.613Z"
   },
   {
    "duration": 119,
    "start_time": "2022-12-19T17:15:20.758Z"
   },
   {
    "duration": 129,
    "start_time": "2022-12-19T17:15:20.879Z"
   },
   {
    "duration": 17,
    "start_time": "2022-12-19T17:15:21.009Z"
   },
   {
    "duration": 28,
    "start_time": "2022-12-19T17:15:21.028Z"
   },
   {
    "duration": 27,
    "start_time": "2022-12-19T17:15:21.058Z"
   },
   {
    "duration": 89,
    "start_time": "2022-12-19T17:15:21.087Z"
   },
   {
    "duration": 100,
    "start_time": "2022-12-19T17:15:21.178Z"
   },
   {
    "duration": 53,
    "start_time": "2022-12-19T17:15:21.280Z"
   },
   {
    "duration": 32,
    "start_time": "2022-12-19T17:19:02.441Z"
   },
   {
    "duration": 31,
    "start_time": "2022-12-19T17:25:02.890Z"
   },
   {
    "duration": 32,
    "start_time": "2022-12-19T17:25:36.975Z"
   },
   {
    "duration": 89,
    "start_time": "2022-12-19T17:28:15.389Z"
   },
   {
    "duration": 133,
    "start_time": "2022-12-19T17:33:54.244Z"
   },
   {
    "duration": 39,
    "start_time": "2022-12-19T17:33:59.773Z"
   },
   {
    "duration": 49,
    "start_time": "2022-12-19T17:56:11.814Z"
   },
   {
    "duration": 1072,
    "start_time": "2022-12-19T17:56:16.376Z"
   },
   {
    "duration": 138,
    "start_time": "2022-12-19T17:56:17.450Z"
   },
   {
    "duration": 118,
    "start_time": "2022-12-19T17:56:17.590Z"
   },
   {
    "duration": 119,
    "start_time": "2022-12-19T17:56:17.710Z"
   },
   {
    "duration": 14,
    "start_time": "2022-12-19T17:56:17.831Z"
   },
   {
    "duration": 13,
    "start_time": "2022-12-19T17:56:17.847Z"
   },
   {
    "duration": 13,
    "start_time": "2022-12-19T17:56:17.876Z"
   },
   {
    "duration": 31,
    "start_time": "2022-12-19T17:56:17.890Z"
   },
   {
    "duration": 121,
    "start_time": "2022-12-19T17:56:17.984Z"
   },
   {
    "duration": 200,
    "start_time": "2022-12-19T17:56:18.181Z"
   },
   {
    "duration": 10,
    "start_time": "2022-12-19T18:49:59.781Z"
   },
   {
    "duration": 4,
    "start_time": "2022-12-19T18:51:06.795Z"
   },
   {
    "duration": 3209,
    "start_time": "2022-12-19T19:04:55.508Z"
   },
   {
    "duration": 8,
    "start_time": "2022-12-19T19:05:05.916Z"
   },
   {
    "duration": 72,
    "start_time": "2022-12-19T19:05:20.834Z"
   },
   {
    "duration": 10,
    "start_time": "2022-12-19T19:05:37.887Z"
   },
   {
    "duration": 11,
    "start_time": "2022-12-19T19:05:59.726Z"
   },
   {
    "duration": 13,
    "start_time": "2022-12-19T19:07:18.401Z"
   },
   {
    "duration": 19,
    "start_time": "2022-12-19T19:08:17.173Z"
   },
   {
    "duration": 17,
    "start_time": "2022-12-19T19:09:01.209Z"
   },
   {
    "duration": 11,
    "start_time": "2022-12-19T19:19:12.609Z"
   },
   {
    "duration": 11,
    "start_time": "2022-12-19T19:19:36.064Z"
   },
   {
    "duration": 9,
    "start_time": "2022-12-19T19:22:38.894Z"
   },
   {
    "duration": 7,
    "start_time": "2022-12-19T19:22:43.228Z"
   },
   {
    "duration": 16,
    "start_time": "2022-12-19T19:22:46.320Z"
   },
   {
    "duration": 14,
    "start_time": "2022-12-19T19:23:16.518Z"
   },
   {
    "duration": 11,
    "start_time": "2022-12-19T19:24:27.663Z"
   },
   {
    "duration": 15,
    "start_time": "2022-12-19T19:24:35.571Z"
   },
   {
    "duration": 7,
    "start_time": "2022-12-19T19:26:40.914Z"
   },
   {
    "duration": 10,
    "start_time": "2022-12-19T19:26:54.942Z"
   },
   {
    "duration": 8,
    "start_time": "2022-12-19T19:28:04.194Z"
   },
   {
    "duration": 14,
    "start_time": "2022-12-19T19:32:41.899Z"
   },
   {
    "duration": 14,
    "start_time": "2022-12-19T19:33:00.968Z"
   },
   {
    "duration": 5,
    "start_time": "2022-12-19T19:33:35.100Z"
   },
   {
    "duration": 4,
    "start_time": "2022-12-19T19:33:40.838Z"
   },
   {
    "duration": 8,
    "start_time": "2022-12-19T19:35:54.303Z"
   },
   {
    "duration": 5,
    "start_time": "2022-12-19T19:37:47.078Z"
   },
   {
    "duration": 3,
    "start_time": "2022-12-19T19:37:49.838Z"
   },
   {
    "duration": 3,
    "start_time": "2022-12-19T19:38:19.130Z"
   },
   {
    "duration": 4,
    "start_time": "2022-12-19T19:38:23.814Z"
   },
   {
    "duration": 2283,
    "start_time": "2022-12-19T19:41:55.429Z"
   },
   {
    "duration": 4,
    "start_time": "2022-12-19T19:42:11.070Z"
   },
   {
    "duration": 4,
    "start_time": "2022-12-19T19:43:51.418Z"
   },
   {
    "duration": 4,
    "start_time": "2022-12-19T19:43:58.404Z"
   },
   {
    "duration": 9,
    "start_time": "2022-12-19T19:44:05.781Z"
   },
   {
    "duration": 11,
    "start_time": "2022-12-19T19:44:32.560Z"
   },
   {
    "duration": 4,
    "start_time": "2022-12-19T19:49:08.142Z"
   },
   {
    "duration": 6,
    "start_time": "2022-12-19T19:49:26.830Z"
   },
   {
    "duration": 4,
    "start_time": "2022-12-19T19:50:52.230Z"
   },
   {
    "duration": 1083,
    "start_time": "2022-12-20T12:00:41.321Z"
   },
   {
    "duration": 2946,
    "start_time": "2022-12-20T12:00:42.406Z"
   },
   {
    "duration": 8,
    "start_time": "2022-12-20T12:00:45.355Z"
   },
   {
    "duration": 416,
    "start_time": "2022-12-20T12:00:45.365Z"
   },
   {
    "duration": 232,
    "start_time": "2022-12-20T12:00:45.783Z"
   },
   {
    "duration": 207,
    "start_time": "2022-12-20T12:00:46.017Z"
   },
   {
    "duration": 16,
    "start_time": "2022-12-20T12:00:46.226Z"
   },
   {
    "duration": 16,
    "start_time": "2022-12-20T12:00:46.244Z"
   },
   {
    "duration": 25,
    "start_time": "2022-12-20T12:00:46.262Z"
   },
   {
    "duration": 191,
    "start_time": "2022-12-20T12:00:46.290Z"
   },
   {
    "duration": 121,
    "start_time": "2022-12-20T12:00:46.483Z"
   },
   {
    "duration": 202,
    "start_time": "2022-12-20T12:00:46.605Z"
   },
   {
    "duration": 7,
    "start_time": "2022-12-20T12:00:46.878Z"
   },
   {
    "duration": 203,
    "start_time": "2022-12-20T12:00:46.887Z"
   },
   {
    "duration": 0,
    "start_time": "2022-12-20T12:00:47.092Z"
   },
   {
    "duration": 1028,
    "start_time": "2022-12-20T17:23:52.789Z"
   },
   {
    "duration": 2903,
    "start_time": "2022-12-20T17:23:53.819Z"
   },
   {
    "duration": 9,
    "start_time": "2022-12-20T17:23:56.724Z"
   },
   {
    "duration": 965,
    "start_time": "2022-12-20T17:23:56.735Z"
   },
   {
    "duration": 652,
    "start_time": "2022-12-20T17:23:57.701Z"
   },
   {
    "duration": 610,
    "start_time": "2022-12-20T17:23:58.355Z"
   },
   {
    "duration": 13,
    "start_time": "2022-12-20T17:23:58.967Z"
   },
   {
    "duration": 11,
    "start_time": "2022-12-20T17:23:58.981Z"
   },
   {
    "duration": 11,
    "start_time": "2022-12-20T17:23:58.994Z"
   },
   {
    "duration": 126,
    "start_time": "2022-12-20T17:23:59.007Z"
   },
   {
    "duration": 212,
    "start_time": "2022-12-20T17:23:59.139Z"
   },
   {
    "duration": 273,
    "start_time": "2022-12-20T17:23:59.357Z"
   },
   {
    "duration": 8,
    "start_time": "2022-12-20T17:23:59.635Z"
   },
   {
    "duration": 145,
    "start_time": "2022-12-20T17:23:59.648Z"
   },
   {
    "duration": 0,
    "start_time": "2022-12-20T17:23:59.794Z"
   },
   {
    "duration": 8,
    "start_time": "2022-12-20T17:24:36.291Z"
   },
   {
    "duration": 4,
    "start_time": "2022-12-20T17:24:44.599Z"
   },
   {
    "duration": 10,
    "start_time": "2022-12-20T18:16:48.803Z"
   },
   {
    "duration": 4,
    "start_time": "2022-12-20T18:18:17.449Z"
   },
   {
    "duration": 4,
    "start_time": "2022-12-20T18:52:11.624Z"
   },
   {
    "duration": 3,
    "start_time": "2022-12-20T18:52:57.343Z"
   },
   {
    "duration": 17,
    "start_time": "2022-12-20T19:17:58.178Z"
   },
   {
    "duration": 10,
    "start_time": "2022-12-20T19:29:32.344Z"
   },
   {
    "duration": 9,
    "start_time": "2022-12-20T19:30:34.399Z"
   },
   {
    "duration": 11,
    "start_time": "2022-12-20T19:30:38.792Z"
   },
   {
    "duration": 10,
    "start_time": "2022-12-20T19:32:05.125Z"
   },
   {
    "duration": 10,
    "start_time": "2022-12-20T19:34:03.809Z"
   },
   {
    "duration": 12,
    "start_time": "2022-12-20T19:37:04.743Z"
   },
   {
    "duration": 11,
    "start_time": "2022-12-20T19:43:06.613Z"
   },
   {
    "duration": 80,
    "start_time": "2022-12-20T19:51:31.111Z"
   },
   {
    "duration": 2955,
    "start_time": "2022-12-20T19:51:36.178Z"
   },
   {
    "duration": 3320,
    "start_time": "2022-12-20T19:53:04.711Z"
   },
   {
    "duration": 3224,
    "start_time": "2022-12-20T20:14:10.077Z"
   },
   {
    "duration": 3226,
    "start_time": "2022-12-20T20:14:28.994Z"
   },
   {
    "duration": 3075,
    "start_time": "2022-12-20T20:16:27.522Z"
   },
   {
    "duration": 3178,
    "start_time": "2022-12-20T20:16:34.947Z"
   },
   {
    "duration": 10,
    "start_time": "2022-12-20T20:39:53.210Z"
   },
   {
    "duration": 11,
    "start_time": "2022-12-20T20:40:16.436Z"
   },
   {
    "duration": 8,
    "start_time": "2022-12-20T20:40:24.978Z"
   },
   {
    "duration": 11,
    "start_time": "2022-12-20T20:40:59.741Z"
   },
   {
    "duration": 11,
    "start_time": "2022-12-20T20:41:11.851Z"
   },
   {
    "duration": 9,
    "start_time": "2022-12-20T20:41:32.991Z"
   },
   {
    "duration": 2994,
    "start_time": "2022-12-20T20:44:01.752Z"
   },
   {
    "duration": 2950,
    "start_time": "2022-12-20T20:44:33.547Z"
   },
   {
    "duration": 3064,
    "start_time": "2022-12-20T20:44:48.053Z"
   },
   {
    "duration": 2991,
    "start_time": "2022-12-20T20:45:21.660Z"
   },
   {
    "duration": 6,
    "start_time": "2022-12-20T21:02:06.444Z"
   },
   {
    "duration": 3184,
    "start_time": "2022-12-20T21:03:10.184Z"
   },
   {
    "duration": 5,
    "start_time": "2022-12-20T21:03:17.912Z"
   },
   {
    "duration": 3045,
    "start_time": "2022-12-20T21:04:28.747Z"
   },
   {
    "duration": 4,
    "start_time": "2022-12-20T21:04:32.945Z"
   },
   {
    "duration": 2994,
    "start_time": "2022-12-20T21:04:34.997Z"
   },
   {
    "duration": 4,
    "start_time": "2022-12-20T21:04:37.993Z"
   },
   {
    "duration": 2940,
    "start_time": "2022-12-20T21:04:47.879Z"
   },
   {
    "duration": 10,
    "start_time": "2022-12-20T21:04:52.031Z"
   },
   {
    "duration": 3,
    "start_time": "2022-12-20T21:05:36.721Z"
   },
   {
    "duration": 2032,
    "start_time": "2022-12-20T21:05:36.726Z"
   },
   {
    "duration": 3,
    "start_time": "2022-12-20T21:05:38.760Z"
   },
   {
    "duration": 352,
    "start_time": "2022-12-20T21:05:38.765Z"
   },
   {
    "duration": 132,
    "start_time": "2022-12-20T21:05:39.118Z"
   },
   {
    "duration": 122,
    "start_time": "2022-12-20T21:05:39.252Z"
   },
   {
    "duration": 13,
    "start_time": "2022-12-20T21:05:39.376Z"
   },
   {
    "duration": 14,
    "start_time": "2022-12-20T21:05:39.391Z"
   },
   {
    "duration": 33,
    "start_time": "2022-12-20T21:05:39.408Z"
   },
   {
    "duration": 96,
    "start_time": "2022-12-20T21:05:39.443Z"
   },
   {
    "duration": 112,
    "start_time": "2022-12-20T21:05:39.540Z"
   },
   {
    "duration": 173,
    "start_time": "2022-12-20T21:05:39.653Z"
   },
   {
    "duration": 29,
    "start_time": "2022-12-20T21:05:39.829Z"
   },
   {
    "duration": 23,
    "start_time": "2022-12-20T21:05:39.925Z"
   },
   {
    "duration": 4,
    "start_time": "2022-12-20T21:05:39.950Z"
   },
   {
    "duration": 8,
    "start_time": "2022-12-20T21:05:39.956Z"
   },
   {
    "duration": 5,
    "start_time": "2022-12-20T21:05:39.965Z"
   },
   {
    "duration": 12,
    "start_time": "2022-12-20T21:05:39.972Z"
   },
   {
    "duration": 8,
    "start_time": "2022-12-20T21:05:39.985Z"
   },
   {
    "duration": 39,
    "start_time": "2022-12-20T21:05:39.994Z"
   },
   {
    "duration": 3051,
    "start_time": "2022-12-20T21:05:40.040Z"
   },
   {
    "duration": 3,
    "start_time": "2022-12-20T21:05:43.092Z"
   },
   {
    "duration": 3188,
    "start_time": "2022-12-20T21:05:43.097Z"
   },
   {
    "duration": 4,
    "start_time": "2022-12-20T21:05:46.288Z"
   },
   {
    "duration": 3031,
    "start_time": "2022-12-20T21:05:46.293Z"
   },
   {
    "duration": 8,
    "start_time": "2022-12-20T21:05:49.335Z"
   },
   {
    "duration": 1475,
    "start_time": "2022-12-21T09:32:06.393Z"
   },
   {
    "duration": 2826,
    "start_time": "2022-12-21T09:32:07.870Z"
   },
   {
    "duration": 8,
    "start_time": "2022-12-21T09:32:10.697Z"
   },
   {
    "duration": 201,
    "start_time": "2022-12-21T09:32:10.707Z"
   },
   {
    "duration": 125,
    "start_time": "2022-12-21T09:32:10.910Z"
   },
   {
    "duration": 120,
    "start_time": "2022-12-21T09:32:11.042Z"
   },
   {
    "duration": 13,
    "start_time": "2022-12-21T09:32:11.164Z"
   },
   {
    "duration": 68,
    "start_time": "2022-12-21T09:32:11.178Z"
   },
   {
    "duration": 47,
    "start_time": "2022-12-21T09:32:11.248Z"
   },
   {
    "duration": 142,
    "start_time": "2022-12-21T09:32:11.297Z"
   },
   {
    "duration": 136,
    "start_time": "2022-12-21T09:32:11.440Z"
   },
   {
    "duration": 148,
    "start_time": "2022-12-21T09:32:11.634Z"
   },
   {
    "duration": 188,
    "start_time": "2022-12-21T09:32:11.783Z"
   },
   {
    "duration": 71,
    "start_time": "2022-12-21T09:32:11.973Z"
   },
   {
    "duration": 31,
    "start_time": "2022-12-21T09:32:12.045Z"
   },
   {
    "duration": 44,
    "start_time": "2022-12-21T09:32:12.078Z"
   },
   {
    "duration": 53,
    "start_time": "2022-12-21T09:32:12.124Z"
   },
   {
    "duration": 78,
    "start_time": "2022-12-21T09:32:12.179Z"
   },
   {
    "duration": 44,
    "start_time": "2022-12-21T09:32:12.258Z"
   },
   {
    "duration": 51,
    "start_time": "2022-12-21T09:32:12.304Z"
   },
   {
    "duration": 3093,
    "start_time": "2022-12-21T09:32:12.357Z"
   },
   {
    "duration": 5,
    "start_time": "2022-12-21T09:32:15.452Z"
   },
   {
    "duration": 3141,
    "start_time": "2022-12-21T09:32:15.458Z"
   },
   {
    "duration": 3,
    "start_time": "2022-12-21T09:32:18.601Z"
   },
   {
    "duration": 3123,
    "start_time": "2022-12-21T09:32:18.605Z"
   },
   {
    "duration": 5,
    "start_time": "2022-12-21T09:32:21.730Z"
   },
   {
    "duration": 6,
    "start_time": "2022-12-21T09:48:23.173Z"
   },
   {
    "duration": 9,
    "start_time": "2022-12-21T09:53:09.576Z"
   },
   {
    "duration": 9,
    "start_time": "2022-12-21T09:55:18.581Z"
   },
   {
    "duration": 3729,
    "start_time": "2022-12-21T10:08:10.765Z"
   },
   {
    "duration": 5,
    "start_time": "2022-12-21T10:10:19.998Z"
   },
   {
    "duration": 3802,
    "start_time": "2022-12-21T10:11:54.842Z"
   },
   {
    "duration": 3,
    "start_time": "2022-12-21T10:16:00.761Z"
   },
   {
    "duration": 1221,
    "start_time": "2022-12-21T10:16:07.242Z"
   },
   {
    "duration": 1561,
    "start_time": "2022-12-21T10:16:56.097Z"
   },
   {
    "duration": 1891,
    "start_time": "2022-12-21T10:16:57.660Z"
   },
   {
    "duration": 8,
    "start_time": "2022-12-21T10:16:59.553Z"
   },
   {
    "duration": 163,
    "start_time": "2022-12-21T10:16:59.564Z"
   },
   {
    "duration": 118,
    "start_time": "2022-12-21T10:16:59.729Z"
   },
   {
    "duration": 115,
    "start_time": "2022-12-21T10:16:59.850Z"
   },
   {
    "duration": 12,
    "start_time": "2022-12-21T10:16:59.967Z"
   },
   {
    "duration": 11,
    "start_time": "2022-12-21T10:16:59.981Z"
   },
   {
    "duration": 12,
    "start_time": "2022-12-21T10:16:59.993Z"
   },
   {
    "duration": 124,
    "start_time": "2022-12-21T10:17:00.008Z"
   },
   {
    "duration": 195,
    "start_time": "2022-12-21T10:17:00.133Z"
   },
   {
    "duration": 133,
    "start_time": "2022-12-21T10:17:00.330Z"
   },
   {
    "duration": 64,
    "start_time": "2022-12-21T10:17:00.464Z"
   },
   {
    "duration": 104,
    "start_time": "2022-12-21T10:17:00.531Z"
   },
   {
    "duration": 19,
    "start_time": "2022-12-21T10:17:00.637Z"
   },
   {
    "duration": 25,
    "start_time": "2022-12-21T10:17:00.658Z"
   },
   {
    "duration": 23,
    "start_time": "2022-12-21T10:17:00.685Z"
   },
   {
    "duration": 91,
    "start_time": "2022-12-21T10:17:00.710Z"
   },
   {
    "duration": 15,
    "start_time": "2022-12-21T10:17:00.803Z"
   },
   {
    "duration": 96,
    "start_time": "2022-12-21T10:17:00.820Z"
   },
   {
    "duration": 3040,
    "start_time": "2022-12-21T10:17:00.918Z"
   },
   {
    "duration": 5,
    "start_time": "2022-12-21T10:17:03.959Z"
   },
   {
    "duration": 2922,
    "start_time": "2022-12-21T10:17:03.965Z"
   },
   {
    "duration": 4,
    "start_time": "2022-12-21T10:17:06.889Z"
   },
   {
    "duration": 2891,
    "start_time": "2022-12-21T10:17:06.894Z"
   },
   {
    "duration": 3,
    "start_time": "2022-12-21T10:17:09.787Z"
   },
   {
    "duration": 7,
    "start_time": "2022-12-21T10:26:03.635Z"
   },
   {
    "duration": 1109,
    "start_time": "2022-12-21T11:57:39.978Z"
   },
   {
    "duration": 2723,
    "start_time": "2022-12-21T11:57:41.090Z"
   },
   {
    "duration": 8,
    "start_time": "2022-12-21T11:57:43.815Z"
   },
   {
    "duration": 540,
    "start_time": "2022-12-21T11:57:43.825Z"
   },
   {
    "duration": 534,
    "start_time": "2022-12-21T11:57:44.367Z"
   },
   {
    "duration": 520,
    "start_time": "2022-12-21T11:57:44.902Z"
   },
   {
    "duration": 15,
    "start_time": "2022-12-21T11:57:45.424Z"
   },
   {
    "duration": 12,
    "start_time": "2022-12-21T11:57:45.441Z"
   },
   {
    "duration": 24,
    "start_time": "2022-12-21T11:57:45.454Z"
   },
   {
    "duration": 199,
    "start_time": "2022-12-21T11:57:45.480Z"
   },
   {
    "duration": 116,
    "start_time": "2022-12-21T11:57:45.681Z"
   },
   {
    "duration": 282,
    "start_time": "2022-12-21T11:57:45.799Z"
   },
   {
    "duration": 95,
    "start_time": "2022-12-21T11:57:46.084Z"
   },
   {
    "duration": 8,
    "start_time": "2022-12-21T11:57:46.181Z"
   },
   {
    "duration": 20,
    "start_time": "2022-12-21T11:57:46.191Z"
   },
   {
    "duration": 26,
    "start_time": "2022-12-21T11:57:46.212Z"
   },
   {
    "duration": 34,
    "start_time": "2022-12-21T11:57:46.240Z"
   },
   {
    "duration": 53,
    "start_time": "2022-12-21T11:57:46.276Z"
   },
   {
    "duration": 42,
    "start_time": "2022-12-21T11:57:46.331Z"
   },
   {
    "duration": 12,
    "start_time": "2022-12-21T11:57:46.375Z"
   },
   {
    "duration": 2976,
    "start_time": "2022-12-21T11:57:46.389Z"
   },
   {
    "duration": 13,
    "start_time": "2022-12-21T11:57:49.367Z"
   },
   {
    "duration": 5,
    "start_time": "2022-12-21T11:57:49.381Z"
   },
   {
    "duration": 3058,
    "start_time": "2022-12-21T11:57:49.388Z"
   },
   {
    "duration": 4,
    "start_time": "2022-12-21T11:57:52.448Z"
   },
   {
    "duration": 2934,
    "start_time": "2022-12-21T11:57:52.453Z"
   },
   {
    "duration": 3,
    "start_time": "2022-12-21T11:57:55.389Z"
   },
   {
    "duration": 451,
    "start_time": "2022-12-21T12:15:20.258Z"
   },
   {
    "duration": 446,
    "start_time": "2022-12-21T12:15:56.786Z"
   },
   {
    "duration": 3,
    "start_time": "2022-12-21T12:16:09.994Z"
   },
   {
    "duration": 311,
    "start_time": "2022-12-21T12:16:14.558Z"
   },
   {
    "duration": 304,
    "start_time": "2022-12-21T12:16:25.554Z"
   },
   {
    "duration": 350,
    "start_time": "2022-12-21T12:16:32.154Z"
   },
   {
    "duration": 21,
    "start_time": "2022-12-21T12:25:20.438Z"
   },
   {
    "duration": 18,
    "start_time": "2022-12-21T12:25:30.970Z"
   },
   {
    "duration": 19,
    "start_time": "2022-12-21T12:25:37.658Z"
   },
   {
    "duration": 1304,
    "start_time": "2022-12-21T12:57:34.932Z"
   },
   {
    "duration": 2062,
    "start_time": "2022-12-21T12:57:36.238Z"
   },
   {
    "duration": 9,
    "start_time": "2022-12-21T12:57:38.302Z"
   },
   {
    "duration": 155,
    "start_time": "2022-12-21T12:57:38.312Z"
   },
   {
    "duration": 130,
    "start_time": "2022-12-21T12:57:38.469Z"
   },
   {
    "duration": 125,
    "start_time": "2022-12-21T12:57:38.600Z"
   },
   {
    "duration": 13,
    "start_time": "2022-12-21T12:57:38.727Z"
   },
   {
    "duration": 17,
    "start_time": "2022-12-21T12:57:38.742Z"
   },
   {
    "duration": 23,
    "start_time": "2022-12-21T12:57:38.761Z"
   },
   {
    "duration": 375,
    "start_time": "2022-12-21T12:57:38.786Z"
   },
   {
    "duration": 321,
    "start_time": "2022-12-21T12:57:39.162Z"
   },
   {
    "duration": 310,
    "start_time": "2022-12-21T12:57:39.485Z"
   },
   {
    "duration": 16,
    "start_time": "2022-12-21T12:57:39.798Z"
   },
   {
    "duration": 45,
    "start_time": "2022-12-21T12:57:39.818Z"
   },
   {
    "duration": 19,
    "start_time": "2022-12-21T12:57:39.865Z"
   },
   {
    "duration": 13,
    "start_time": "2022-12-21T12:57:39.886Z"
   },
   {
    "duration": 178,
    "start_time": "2022-12-21T12:57:39.901Z"
   },
   {
    "duration": 197,
    "start_time": "2022-12-21T12:57:40.081Z"
   },
   {
    "duration": 129,
    "start_time": "2022-12-21T12:57:40.281Z"
   },
   {
    "duration": 6,
    "start_time": "2022-12-21T12:57:40.477Z"
   },
   {
    "duration": 104,
    "start_time": "2022-12-21T12:57:40.487Z"
   },
   {
    "duration": 5,
    "start_time": "2022-12-21T12:57:40.593Z"
   },
   {
    "duration": 5,
    "start_time": "2022-12-21T12:57:40.599Z"
   },
   {
    "duration": 20,
    "start_time": "2022-12-21T12:57:40.606Z"
   },
   {
    "duration": 14,
    "start_time": "2022-12-21T12:57:40.627Z"
   },
   {
    "duration": 12,
    "start_time": "2022-12-21T12:57:40.643Z"
   },
   {
    "duration": 22,
    "start_time": "2022-12-21T12:57:40.656Z"
   },
   {
    "duration": 3033,
    "start_time": "2022-12-21T12:57:40.679Z"
   },
   {
    "duration": 7,
    "start_time": "2022-12-21T12:57:43.714Z"
   },
   {
    "duration": 3,
    "start_time": "2022-12-21T12:57:43.723Z"
   },
   {
    "duration": 3021,
    "start_time": "2022-12-21T12:57:43.727Z"
   },
   {
    "duration": 4,
    "start_time": "2022-12-21T12:57:46.750Z"
   },
   {
    "duration": 2855,
    "start_time": "2022-12-21T12:57:46.755Z"
   },
   {
    "duration": 3,
    "start_time": "2022-12-21T12:57:49.612Z"
   },
   {
    "duration": 1336,
    "start_time": "2022-12-21T12:58:24.543Z"
   },
   {
    "duration": 2069,
    "start_time": "2022-12-21T12:58:25.881Z"
   },
   {
    "duration": 9,
    "start_time": "2022-12-21T12:58:27.952Z"
   },
   {
    "duration": 145,
    "start_time": "2022-12-21T12:58:27.963Z"
   },
   {
    "duration": 119,
    "start_time": "2022-12-21T12:58:28.110Z"
   },
   {
    "duration": 122,
    "start_time": "2022-12-21T12:58:28.231Z"
   },
   {
    "duration": 14,
    "start_time": "2022-12-21T12:58:28.355Z"
   },
   {
    "duration": 14,
    "start_time": "2022-12-21T12:58:28.371Z"
   },
   {
    "duration": 12,
    "start_time": "2022-12-21T12:58:28.386Z"
   },
   {
    "duration": 323,
    "start_time": "2022-12-21T12:58:28.401Z"
   },
   {
    "duration": 275,
    "start_time": "2022-12-21T12:58:28.725Z"
   },
   {
    "duration": 280,
    "start_time": "2022-12-21T12:58:29.002Z"
   },
   {
    "duration": 18,
    "start_time": "2022-12-21T12:58:29.284Z"
   },
   {
    "duration": 19,
    "start_time": "2022-12-21T12:58:29.303Z"
   },
   {
    "duration": 20,
    "start_time": "2022-12-21T12:58:29.323Z"
   },
   {
    "duration": 10,
    "start_time": "2022-12-21T12:58:29.344Z"
   },
   {
    "duration": 226,
    "start_time": "2022-12-21T12:58:29.355Z"
   },
   {
    "duration": 198,
    "start_time": "2022-12-21T12:58:29.583Z"
   },
   {
    "duration": 125,
    "start_time": "2022-12-21T12:58:29.783Z"
   },
   {
    "duration": 5,
    "start_time": "2022-12-21T12:58:29.980Z"
   },
   {
    "duration": 122,
    "start_time": "2022-12-21T12:58:29.987Z"
   },
   {
    "duration": 17,
    "start_time": "2022-12-21T12:58:30.111Z"
   },
   {
    "duration": 19,
    "start_time": "2022-12-21T12:58:30.129Z"
   },
   {
    "duration": 19,
    "start_time": "2022-12-21T12:58:30.150Z"
   },
   {
    "duration": 37,
    "start_time": "2022-12-21T12:58:30.170Z"
   },
   {
    "duration": 24,
    "start_time": "2022-12-21T12:58:30.208Z"
   },
   {
    "duration": 19,
    "start_time": "2022-12-21T12:58:30.234Z"
   },
   {
    "duration": 2977,
    "start_time": "2022-12-21T12:58:30.256Z"
   },
   {
    "duration": 8,
    "start_time": "2022-12-21T12:58:33.234Z"
   },
   {
    "duration": 6,
    "start_time": "2022-12-21T12:58:33.244Z"
   },
   {
    "duration": 2961,
    "start_time": "2022-12-21T12:58:33.251Z"
   },
   {
    "duration": 3,
    "start_time": "2022-12-21T12:58:36.214Z"
   },
   {
    "duration": 2936,
    "start_time": "2022-12-21T12:58:36.219Z"
   },
   {
    "duration": 3,
    "start_time": "2022-12-21T12:58:39.157Z"
   },
   {
    "duration": 3,
    "start_time": "2022-12-21T13:13:25.090Z"
   },
   {
    "duration": 3,
    "start_time": "2022-12-21T13:17:28.713Z"
   },
   {
    "duration": 3,
    "start_time": "2022-12-21T13:23:06.544Z"
   },
   {
    "duration": 76,
    "start_time": "2022-12-21T13:26:09.248Z"
   },
   {
    "duration": 3,
    "start_time": "2022-12-21T13:27:26.364Z"
   },
   {
    "duration": 8,
    "start_time": "2022-12-21T13:28:23.808Z"
   },
   {
    "duration": 4,
    "start_time": "2022-12-21T13:28:31.311Z"
   },
   {
    "duration": 8,
    "start_time": "2022-12-21T13:28:35.480Z"
   },
   {
    "duration": 8,
    "start_time": "2022-12-21T13:29:09.215Z"
   },
   {
    "duration": 8,
    "start_time": "2022-12-21T13:29:24.682Z"
   },
   {
    "duration": 1255,
    "start_time": "2022-12-21T13:37:25.035Z"
   },
   {
    "duration": 1254,
    "start_time": "2022-12-21T13:44:16.623Z"
   },
   {
    "duration": 1336,
    "start_time": "2022-12-21T13:44:50.694Z"
   },
   {
    "duration": 2142,
    "start_time": "2022-12-21T13:44:52.032Z"
   },
   {
    "duration": 9,
    "start_time": "2022-12-21T13:44:54.176Z"
   },
   {
    "duration": 3,
    "start_time": "2022-12-21T13:44:54.186Z"
   },
   {
    "duration": 164,
    "start_time": "2022-12-21T13:44:54.191Z"
   },
   {
    "duration": 126,
    "start_time": "2022-12-21T13:44:54.357Z"
   },
   {
    "duration": 124,
    "start_time": "2022-12-21T13:44:54.485Z"
   },
   {
    "duration": 15,
    "start_time": "2022-12-21T13:44:54.611Z"
   },
   {
    "duration": 12,
    "start_time": "2022-12-21T13:44:54.627Z"
   },
   {
    "duration": 12,
    "start_time": "2022-12-21T13:44:54.641Z"
   },
   {
    "duration": 369,
    "start_time": "2022-12-21T13:44:54.655Z"
   },
   {
    "duration": 321,
    "start_time": "2022-12-21T13:44:55.026Z"
   },
   {
    "duration": 309,
    "start_time": "2022-12-21T13:44:55.349Z"
   },
   {
    "duration": 23,
    "start_time": "2022-12-21T13:44:55.661Z"
   },
   {
    "duration": 17,
    "start_time": "2022-12-21T13:44:55.685Z"
   },
   {
    "duration": 19,
    "start_time": "2022-12-21T13:44:55.704Z"
   },
   {
    "duration": 7,
    "start_time": "2022-12-21T13:44:55.724Z"
   },
   {
    "duration": 54,
    "start_time": "2022-12-21T13:44:55.732Z"
   },
   {
    "duration": 292,
    "start_time": "2022-12-21T13:44:55.788Z"
   },
   {
    "duration": 122,
    "start_time": "2022-12-21T13:44:56.086Z"
   },
   {
    "duration": 4,
    "start_time": "2022-12-21T13:44:56.279Z"
   },
   {
    "duration": 100,
    "start_time": "2022-12-21T13:44:56.286Z"
   },
   {
    "duration": 11,
    "start_time": "2022-12-21T13:44:56.387Z"
   },
   {
    "duration": 7,
    "start_time": "2022-12-21T13:44:56.399Z"
   },
   {
    "duration": 8,
    "start_time": "2022-12-21T13:44:56.407Z"
   },
   {
    "duration": 9,
    "start_time": "2022-12-21T13:44:56.417Z"
   },
   {
    "duration": 11,
    "start_time": "2022-12-21T13:44:56.427Z"
   },
   {
    "duration": 7,
    "start_time": "2022-12-21T13:44:56.440Z"
   },
   {
    "duration": 7,
    "start_time": "2022-12-21T13:44:56.449Z"
   },
   {
    "duration": 1280,
    "start_time": "2022-12-21T13:44:56.458Z"
   },
   {
    "duration": 8,
    "start_time": "2022-12-21T13:44:57.740Z"
   },
   {
    "duration": 6,
    "start_time": "2022-12-21T13:44:57.750Z"
   },
   {
    "duration": 1212,
    "start_time": "2022-12-21T13:44:57.757Z"
   },
   {
    "duration": 8,
    "start_time": "2022-12-21T13:44:58.970Z"
   },
   {
    "duration": 1272,
    "start_time": "2022-12-21T13:44:58.979Z"
   },
   {
    "duration": 3,
    "start_time": "2022-12-21T13:45:00.253Z"
   },
   {
    "duration": 95,
    "start_time": "2022-12-21T13:46:28.200Z"
   },
   {
    "duration": 72,
    "start_time": "2022-12-21T13:46:45.400Z"
   },
   {
    "duration": 5,
    "start_time": "2022-12-21T13:49:00.873Z"
   },
   {
    "duration": 1391,
    "start_time": "2022-12-21T13:54:04.346Z"
   },
   {
    "duration": 2153,
    "start_time": "2022-12-21T13:54:05.739Z"
   },
   {
    "duration": 9,
    "start_time": "2022-12-21T13:54:07.895Z"
   },
   {
    "duration": 3,
    "start_time": "2022-12-21T13:54:07.905Z"
   },
   {
    "duration": 152,
    "start_time": "2022-12-21T13:54:07.910Z"
   },
   {
    "duration": 125,
    "start_time": "2022-12-21T13:54:08.063Z"
   },
   {
    "duration": 135,
    "start_time": "2022-12-21T13:54:08.190Z"
   },
   {
    "duration": 14,
    "start_time": "2022-12-21T13:54:08.327Z"
   },
   {
    "duration": 13,
    "start_time": "2022-12-21T13:54:08.343Z"
   },
   {
    "duration": 26,
    "start_time": "2022-12-21T13:54:08.358Z"
   },
   {
    "duration": 374,
    "start_time": "2022-12-21T13:54:08.387Z"
   },
   {
    "duration": 317,
    "start_time": "2022-12-21T13:54:08.763Z"
   },
   {
    "duration": 301,
    "start_time": "2022-12-21T13:54:09.082Z"
   },
   {
    "duration": 18,
    "start_time": "2022-12-21T13:54:09.386Z"
   },
   {
    "duration": 27,
    "start_time": "2022-12-21T13:54:09.406Z"
   },
   {
    "duration": 19,
    "start_time": "2022-12-21T13:54:09.435Z"
   },
   {
    "duration": 8,
    "start_time": "2022-12-21T13:54:09.455Z"
   },
   {
    "duration": 121,
    "start_time": "2022-12-21T13:54:09.465Z"
   },
   {
    "duration": 202,
    "start_time": "2022-12-21T13:54:09.588Z"
   },
   {
    "duration": 287,
    "start_time": "2022-12-21T13:54:09.792Z"
   },
   {
    "duration": 97,
    "start_time": "2022-12-21T13:54:10.081Z"
   },
   {
    "duration": 3,
    "start_time": "2022-12-21T13:54:10.179Z"
   },
   {
    "duration": 16,
    "start_time": "2022-12-21T13:54:10.184Z"
   },
   {
    "duration": 7,
    "start_time": "2022-12-21T13:54:10.202Z"
   },
   {
    "duration": 6,
    "start_time": "2022-12-21T13:54:10.211Z"
   },
   {
    "duration": 10,
    "start_time": "2022-12-21T13:54:10.219Z"
   },
   {
    "duration": 12,
    "start_time": "2022-12-21T13:54:10.230Z"
   },
   {
    "duration": 7,
    "start_time": "2022-12-21T13:54:10.244Z"
   },
   {
    "duration": 29,
    "start_time": "2022-12-21T13:54:10.253Z"
   },
   {
    "duration": 1280,
    "start_time": "2022-12-21T13:54:10.284Z"
   },
   {
    "duration": 13,
    "start_time": "2022-12-21T13:54:11.566Z"
   },
   {
    "duration": 9,
    "start_time": "2022-12-21T13:54:11.580Z"
   },
   {
    "duration": 14,
    "start_time": "2022-12-21T13:54:11.590Z"
   },
   {
    "duration": 1234,
    "start_time": "2022-12-21T13:54:11.606Z"
   },
   {
    "duration": 6,
    "start_time": "2022-12-21T13:54:12.841Z"
   },
   {
    "duration": 1378,
    "start_time": "2022-12-21T13:54:12.849Z"
   },
   {
    "duration": 6,
    "start_time": "2022-12-21T13:54:14.230Z"
   },
   {
    "duration": 18,
    "start_time": "2022-12-21T13:54:14.238Z"
   },
   {
    "duration": 1368,
    "start_time": "2022-12-21T14:02:15.822Z"
   },
   {
    "duration": 2138,
    "start_time": "2022-12-21T14:02:17.193Z"
   },
   {
    "duration": 8,
    "start_time": "2022-12-21T14:02:19.334Z"
   },
   {
    "duration": 20,
    "start_time": "2022-12-21T14:02:19.345Z"
   },
   {
    "duration": 156,
    "start_time": "2022-12-21T14:02:19.366Z"
   },
   {
    "duration": 125,
    "start_time": "2022-12-21T14:02:19.524Z"
   },
   {
    "duration": 132,
    "start_time": "2022-12-21T14:02:19.651Z"
   },
   {
    "duration": 15,
    "start_time": "2022-12-21T14:02:19.785Z"
   },
   {
    "duration": 14,
    "start_time": "2022-12-21T14:02:19.802Z"
   },
   {
    "duration": 14,
    "start_time": "2022-12-21T14:02:19.818Z"
   },
   {
    "duration": 404,
    "start_time": "2022-12-21T14:02:19.834Z"
   },
   {
    "duration": 320,
    "start_time": "2022-12-21T14:02:20.240Z"
   },
   {
    "duration": 337,
    "start_time": "2022-12-21T14:02:20.561Z"
   },
   {
    "duration": 21,
    "start_time": "2022-12-21T14:02:20.900Z"
   },
   {
    "duration": 28,
    "start_time": "2022-12-21T14:02:20.923Z"
   },
   {
    "duration": 28,
    "start_time": "2022-12-21T14:02:20.953Z"
   },
   {
    "duration": 7,
    "start_time": "2022-12-21T14:02:20.983Z"
   },
   {
    "duration": 187,
    "start_time": "2022-12-21T14:02:20.992Z"
   },
   {
    "duration": 201,
    "start_time": "2022-12-21T14:02:21.181Z"
   },
   {
    "duration": 111,
    "start_time": "2022-12-21T14:02:21.384Z"
   },
   {
    "duration": 182,
    "start_time": "2022-12-21T14:02:21.497Z"
   },
   {
    "duration": 23,
    "start_time": "2022-12-21T14:02:21.681Z"
   },
   {
    "duration": 24,
    "start_time": "2022-12-21T14:02:21.706Z"
   },
   {
    "duration": 13,
    "start_time": "2022-12-21T14:02:21.731Z"
   },
   {
    "duration": 26,
    "start_time": "2022-12-21T14:02:21.746Z"
   },
   {
    "duration": 37,
    "start_time": "2022-12-21T14:02:21.773Z"
   },
   {
    "duration": 32,
    "start_time": "2022-12-21T14:02:21.812Z"
   },
   {
    "duration": 12,
    "start_time": "2022-12-21T14:02:21.847Z"
   },
   {
    "duration": 10,
    "start_time": "2022-12-21T14:02:21.861Z"
   },
   {
    "duration": 1307,
    "start_time": "2022-12-21T14:02:21.873Z"
   },
   {
    "duration": 10,
    "start_time": "2022-12-21T14:02:23.182Z"
   },
   {
    "duration": 10,
    "start_time": "2022-12-21T14:02:23.193Z"
   },
   {
    "duration": 1334,
    "start_time": "2022-12-21T14:02:23.205Z"
   },
   {
    "duration": 5,
    "start_time": "2022-12-21T14:02:24.540Z"
   },
   {
    "duration": 1224,
    "start_time": "2022-12-21T14:02:24.546Z"
   },
   {
    "duration": 7,
    "start_time": "2022-12-21T14:02:25.772Z"
   },
   {
    "duration": 1772,
    "start_time": "2022-12-21T15:22:53.674Z"
   },
   {
    "duration": 1936,
    "start_time": "2022-12-21T15:22:55.448Z"
   },
   {
    "duration": 8,
    "start_time": "2022-12-21T15:22:57.386Z"
   },
   {
    "duration": 16,
    "start_time": "2022-12-21T15:22:57.396Z"
   },
   {
    "duration": 156,
    "start_time": "2022-12-21T15:22:57.414Z"
   },
   {
    "duration": 118,
    "start_time": "2022-12-21T15:22:57.572Z"
   },
   {
    "duration": 119,
    "start_time": "2022-12-21T15:22:57.692Z"
   },
   {
    "duration": 21,
    "start_time": "2022-12-21T15:22:57.814Z"
   },
   {
    "duration": 25,
    "start_time": "2022-12-21T15:22:57.836Z"
   },
   {
    "duration": 31,
    "start_time": "2022-12-21T15:22:57.865Z"
   },
   {
    "duration": 378,
    "start_time": "2022-12-21T15:22:57.897Z"
   },
   {
    "duration": 323,
    "start_time": "2022-12-21T15:22:58.277Z"
   },
   {
    "duration": 309,
    "start_time": "2022-12-21T15:22:58.602Z"
   },
   {
    "duration": 23,
    "start_time": "2022-12-21T15:22:58.913Z"
   },
   {
    "duration": 26,
    "start_time": "2022-12-21T15:22:58.938Z"
   },
   {
    "duration": 30,
    "start_time": "2022-12-21T15:22:58.966Z"
   },
   {
    "duration": 11,
    "start_time": "2022-12-21T15:22:58.998Z"
   },
   {
    "duration": 34,
    "start_time": "2022-12-21T15:22:59.011Z"
   },
   {
    "duration": 277,
    "start_time": "2022-12-21T15:22:59.049Z"
   },
   {
    "duration": 195,
    "start_time": "2022-12-21T15:22:59.331Z"
   },
   {
    "duration": 2,
    "start_time": "2022-12-21T15:22:59.529Z"
   },
   {
    "duration": 92,
    "start_time": "2022-12-21T15:22:59.533Z"
   },
   {
    "duration": 31,
    "start_time": "2022-12-21T15:22:59.628Z"
   },
   {
    "duration": 27,
    "start_time": "2022-12-21T15:22:59.661Z"
   },
   {
    "duration": 18,
    "start_time": "2022-12-21T15:22:59.690Z"
   },
   {
    "duration": 25,
    "start_time": "2022-12-21T15:22:59.710Z"
   },
   {
    "duration": 10,
    "start_time": "2022-12-21T15:22:59.737Z"
   },
   {
    "duration": 10,
    "start_time": "2022-12-21T15:22:59.750Z"
   },
   {
    "duration": 11,
    "start_time": "2022-12-21T15:22:59.762Z"
   },
   {
    "duration": 1290,
    "start_time": "2022-12-21T15:22:59.774Z"
   },
   {
    "duration": 8,
    "start_time": "2022-12-21T15:23:01.065Z"
   },
   {
    "duration": 53,
    "start_time": "2022-12-21T15:23:01.075Z"
   },
   {
    "duration": 1296,
    "start_time": "2022-12-21T15:23:01.130Z"
   },
   {
    "duration": 4,
    "start_time": "2022-12-21T15:23:02.427Z"
   },
   {
    "duration": 1221,
    "start_time": "2022-12-21T15:23:02.433Z"
   },
   {
    "duration": 4,
    "start_time": "2022-12-21T15:23:03.656Z"
   }
  ],
  "kernelspec": {
   "display_name": "Python 3",
   "language": "python",
   "name": "python3"
  },
  "language_info": {
   "codemirror_mode": {
    "name": "ipython",
    "version": 3
   },
   "file_extension": ".py",
   "mimetype": "text/x-python",
   "name": "python",
   "nbconvert_exporter": "python",
   "pygments_lexer": "ipython3",
   "version": "3.8.3"
  },
  "toc": {
   "base_numbering": 1,
   "nav_menu": {},
   "number_sections": true,
   "sideBar": true,
   "skip_h1_title": true,
   "title_cell": "Table of Contents",
   "title_sidebar": "Contents",
   "toc_cell": false,
   "toc_position": {
    "height": "calc(100% - 180px)",
    "left": "10px",
    "top": "150px",
    "width": "165px"
   },
   "toc_section_display": true,
   "toc_window_display": true
  }
 },
 "nbformat": 4,
 "nbformat_minor": 2
}
