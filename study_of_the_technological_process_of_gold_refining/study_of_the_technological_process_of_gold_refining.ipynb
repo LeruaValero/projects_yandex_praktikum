{
 "cells": [
  {
   "cell_type": "markdown",
   "metadata": {},
   "source": [
    "<h1>Содержание<span class=\"tocSkip\"></span></h1>\n",
    "<div class=\"toc\"><ul class=\"toc-item\"><li><span><a href=\"#Подготовка-данных\" data-toc-modified-id=\"Подготовка-данных-1\"><span class=\"toc-item-num\">1&nbsp;&nbsp;</span>Подготовка данных</a></span><ul class=\"toc-item\"><li><span><a  href=\"#Анализ-данных\" data-toc-modified-id=\"Анализ-данных-2\"><span class=\"toc-item-num\">2&nbsp;&nbsp;</span>Анализ данных</a></span><ul class=\"toc-item\"><li><span><a href=\"#Модель\" data-toc-modified-id=\"Модель-3\"><span class=\"toc-item-num\">3&nbsp;&nbsp;</span>Модель</a></span></li></ul></div>"
   ]
  },
  {
   "cell_type": "markdown",
   "metadata": {},
   "source": [
    "# Восстановление золота из руды"
   ]
  },
  {
   "cell_type": "markdown",
   "metadata": {},
   "source": [
    "Подготовьте прототип модели машинного обучения для «Цифры». Компания разрабатывает решения для эффективной работы промышленных предприятий.\n",
    "\n",
    "Модель должна предсказать коэффициент восстановления золота из золотосодержащей руды. Используйте данные с параметрами добычи и очистки. \n",
    "\n",
    "Модель поможет оптимизировать производство, чтобы не запускать предприятие с убыточными характеристиками.\n",
    "\n",
    "Вам нужно:\n",
    "\n",
    "1. Подготовить данные;\n",
    "2. Провести исследовательский анализ данных;\n",
    "3. Построить и обучить модель.\n",
    "\n",
    "Чтобы выполнить проект, обращайтесь к библиотекам *pandas*, *matplotlib* и *sklearn.* Вам поможет их документация."
   ]
  },
  {
   "cell_type": "markdown",
   "metadata": {},
   "source": [
    "## Подготовка данных"
   ]
  },
  {
   "cell_type": "code",
   "execution_count": 1,
   "metadata": {},
   "outputs": [],
   "source": [
    "import pandas as pd\n",
    "import numpy as np\n",
    "import seaborn as sns\n",
    "import matplotlib.pyplot as plt\n",
    "\n",
    "from sklearn.model_selection import train_test_split\n",
    "from sklearn.linear_model import LinearRegression\n",
    "from sklearn.metrics import mean_absolute_error\n",
    "from sklearn.tree import DecisionTreeRegressor\n",
    "from sklearn.ensemble import RandomForestRegressor\n",
    "from sklearn.model_selection import cross_val_score\n",
    "from sklearn.metrics import fbeta_score, make_scorer\n",
    "from sklearn.preprocessing import StandardScaler \n",
    "from sklearn.model_selection import GridSearchCV\n"
   ]
  },
  {
   "cell_type": "code",
   "execution_count": 2,
   "metadata": {},
   "outputs": [
    {
     "data": {
      "text/html": [
       "<div>\n",
       "<style scoped>\n",
       "    .dataframe tbody tr th:only-of-type {\n",
       "        vertical-align: middle;\n",
       "    }\n",
       "\n",
       "    .dataframe tbody tr th {\n",
       "        vertical-align: top;\n",
       "    }\n",
       "\n",
       "    .dataframe thead th {\n",
       "        text-align: right;\n",
       "    }\n",
       "</style>\n",
       "<table border=\"1\" class=\"dataframe\">\n",
       "  <thead>\n",
       "    <tr style=\"text-align: right;\">\n",
       "      <th></th>\n",
       "      <th>date</th>\n",
       "      <th>primary_cleaner.input.sulfate</th>\n",
       "      <th>primary_cleaner.input.depressant</th>\n",
       "      <th>primary_cleaner.input.feed_size</th>\n",
       "      <th>primary_cleaner.input.xanthate</th>\n",
       "      <th>primary_cleaner.state.floatbank8_a_air</th>\n",
       "      <th>primary_cleaner.state.floatbank8_a_level</th>\n",
       "      <th>primary_cleaner.state.floatbank8_b_air</th>\n",
       "      <th>primary_cleaner.state.floatbank8_b_level</th>\n",
       "      <th>primary_cleaner.state.floatbank8_c_air</th>\n",
       "      <th>...</th>\n",
       "      <th>secondary_cleaner.state.floatbank4_a_air</th>\n",
       "      <th>secondary_cleaner.state.floatbank4_a_level</th>\n",
       "      <th>secondary_cleaner.state.floatbank4_b_air</th>\n",
       "      <th>secondary_cleaner.state.floatbank4_b_level</th>\n",
       "      <th>secondary_cleaner.state.floatbank5_a_air</th>\n",
       "      <th>secondary_cleaner.state.floatbank5_a_level</th>\n",
       "      <th>secondary_cleaner.state.floatbank5_b_air</th>\n",
       "      <th>secondary_cleaner.state.floatbank5_b_level</th>\n",
       "      <th>secondary_cleaner.state.floatbank6_a_air</th>\n",
       "      <th>secondary_cleaner.state.floatbank6_a_level</th>\n",
       "    </tr>\n",
       "  </thead>\n",
       "  <tbody>\n",
       "    <tr>\n",
       "      <th>0</th>\n",
       "      <td>2016-09-01 00:59:59</td>\n",
       "      <td>210.800909</td>\n",
       "      <td>14.993118</td>\n",
       "      <td>8.080000</td>\n",
       "      <td>1.005021</td>\n",
       "      <td>1398.981301</td>\n",
       "      <td>-500.225577</td>\n",
       "      <td>1399.144926</td>\n",
       "      <td>-499.919735</td>\n",
       "      <td>1400.102998</td>\n",
       "      <td>...</td>\n",
       "      <td>12.023554</td>\n",
       "      <td>-497.795834</td>\n",
       "      <td>8.016656</td>\n",
       "      <td>-501.289139</td>\n",
       "      <td>7.946562</td>\n",
       "      <td>-432.317850</td>\n",
       "      <td>4.872511</td>\n",
       "      <td>-500.037437</td>\n",
       "      <td>26.705889</td>\n",
       "      <td>-499.709414</td>\n",
       "    </tr>\n",
       "    <tr>\n",
       "      <th>1</th>\n",
       "      <td>2016-09-01 01:59:59</td>\n",
       "      <td>215.392455</td>\n",
       "      <td>14.987471</td>\n",
       "      <td>8.080000</td>\n",
       "      <td>0.990469</td>\n",
       "      <td>1398.777912</td>\n",
       "      <td>-500.057435</td>\n",
       "      <td>1398.055362</td>\n",
       "      <td>-499.778182</td>\n",
       "      <td>1396.151033</td>\n",
       "      <td>...</td>\n",
       "      <td>12.058140</td>\n",
       "      <td>-498.695773</td>\n",
       "      <td>8.130979</td>\n",
       "      <td>-499.634209</td>\n",
       "      <td>7.958270</td>\n",
       "      <td>-525.839648</td>\n",
       "      <td>4.878850</td>\n",
       "      <td>-500.162375</td>\n",
       "      <td>25.019940</td>\n",
       "      <td>-499.819438</td>\n",
       "    </tr>\n",
       "    <tr>\n",
       "      <th>2</th>\n",
       "      <td>2016-09-01 02:59:59</td>\n",
       "      <td>215.259946</td>\n",
       "      <td>12.884934</td>\n",
       "      <td>7.786667</td>\n",
       "      <td>0.996043</td>\n",
       "      <td>1398.493666</td>\n",
       "      <td>-500.868360</td>\n",
       "      <td>1398.860436</td>\n",
       "      <td>-499.764529</td>\n",
       "      <td>1398.075709</td>\n",
       "      <td>...</td>\n",
       "      <td>11.962366</td>\n",
       "      <td>-498.767484</td>\n",
       "      <td>8.096893</td>\n",
       "      <td>-500.827423</td>\n",
       "      <td>8.071056</td>\n",
       "      <td>-500.801673</td>\n",
       "      <td>4.905125</td>\n",
       "      <td>-499.828510</td>\n",
       "      <td>24.994862</td>\n",
       "      <td>-500.622559</td>\n",
       "    </tr>\n",
       "    <tr>\n",
       "      <th>3</th>\n",
       "      <td>2016-09-01 03:59:59</td>\n",
       "      <td>215.336236</td>\n",
       "      <td>12.006805</td>\n",
       "      <td>7.640000</td>\n",
       "      <td>0.863514</td>\n",
       "      <td>1399.618111</td>\n",
       "      <td>-498.863574</td>\n",
       "      <td>1397.440120</td>\n",
       "      <td>-499.211024</td>\n",
       "      <td>1400.129303</td>\n",
       "      <td>...</td>\n",
       "      <td>12.033091</td>\n",
       "      <td>-498.350935</td>\n",
       "      <td>8.074946</td>\n",
       "      <td>-499.474407</td>\n",
       "      <td>7.897085</td>\n",
       "      <td>-500.868509</td>\n",
       "      <td>4.931400</td>\n",
       "      <td>-499.963623</td>\n",
       "      <td>24.948919</td>\n",
       "      <td>-498.709987</td>\n",
       "    </tr>\n",
       "    <tr>\n",
       "      <th>4</th>\n",
       "      <td>2016-09-01 04:59:59</td>\n",
       "      <td>199.099327</td>\n",
       "      <td>10.682530</td>\n",
       "      <td>7.530000</td>\n",
       "      <td>0.805575</td>\n",
       "      <td>1401.268123</td>\n",
       "      <td>-500.808305</td>\n",
       "      <td>1398.128818</td>\n",
       "      <td>-499.504543</td>\n",
       "      <td>1402.172226</td>\n",
       "      <td>...</td>\n",
       "      <td>12.025367</td>\n",
       "      <td>-500.786497</td>\n",
       "      <td>8.054678</td>\n",
       "      <td>-500.397500</td>\n",
       "      <td>8.107890</td>\n",
       "      <td>-509.526725</td>\n",
       "      <td>4.957674</td>\n",
       "      <td>-500.360026</td>\n",
       "      <td>25.003331</td>\n",
       "      <td>-500.856333</td>\n",
       "    </tr>\n",
       "    <tr>\n",
       "      <th>...</th>\n",
       "      <td>...</td>\n",
       "      <td>...</td>\n",
       "      <td>...</td>\n",
       "      <td>...</td>\n",
       "      <td>...</td>\n",
       "      <td>...</td>\n",
       "      <td>...</td>\n",
       "      <td>...</td>\n",
       "      <td>...</td>\n",
       "      <td>...</td>\n",
       "      <td>...</td>\n",
       "      <td>...</td>\n",
       "      <td>...</td>\n",
       "      <td>...</td>\n",
       "      <td>...</td>\n",
       "      <td>...</td>\n",
       "      <td>...</td>\n",
       "      <td>...</td>\n",
       "      <td>...</td>\n",
       "      <td>...</td>\n",
       "      <td>...</td>\n",
       "    </tr>\n",
       "    <tr>\n",
       "      <th>5285</th>\n",
       "      <td>2017-12-31 19:59:59</td>\n",
       "      <td>173.957757</td>\n",
       "      <td>15.963399</td>\n",
       "      <td>8.070000</td>\n",
       "      <td>0.896701</td>\n",
       "      <td>1401.930554</td>\n",
       "      <td>-499.728848</td>\n",
       "      <td>1401.441445</td>\n",
       "      <td>-499.193423</td>\n",
       "      <td>1399.810313</td>\n",
       "      <td>...</td>\n",
       "      <td>13.995957</td>\n",
       "      <td>-500.157454</td>\n",
       "      <td>12.069155</td>\n",
       "      <td>-499.673279</td>\n",
       "      <td>7.977259</td>\n",
       "      <td>-499.516126</td>\n",
       "      <td>5.933319</td>\n",
       "      <td>-499.965973</td>\n",
       "      <td>8.987171</td>\n",
       "      <td>-499.755909</td>\n",
       "    </tr>\n",
       "    <tr>\n",
       "      <th>5286</th>\n",
       "      <td>2017-12-31 20:59:59</td>\n",
       "      <td>172.910270</td>\n",
       "      <td>16.002605</td>\n",
       "      <td>8.070000</td>\n",
       "      <td>0.896519</td>\n",
       "      <td>1447.075722</td>\n",
       "      <td>-494.716823</td>\n",
       "      <td>1448.851892</td>\n",
       "      <td>-465.963026</td>\n",
       "      <td>1443.890424</td>\n",
       "      <td>...</td>\n",
       "      <td>16.749781</td>\n",
       "      <td>-496.031539</td>\n",
       "      <td>13.365371</td>\n",
       "      <td>-499.122723</td>\n",
       "      <td>9.288553</td>\n",
       "      <td>-496.892967</td>\n",
       "      <td>7.372897</td>\n",
       "      <td>-499.942956</td>\n",
       "      <td>8.986832</td>\n",
       "      <td>-499.903761</td>\n",
       "    </tr>\n",
       "    <tr>\n",
       "      <th>5287</th>\n",
       "      <td>2017-12-31 21:59:59</td>\n",
       "      <td>171.135718</td>\n",
       "      <td>15.993669</td>\n",
       "      <td>8.070000</td>\n",
       "      <td>1.165996</td>\n",
       "      <td>1498.836182</td>\n",
       "      <td>-501.770403</td>\n",
       "      <td>1499.572353</td>\n",
       "      <td>-495.516347</td>\n",
       "      <td>1502.749213</td>\n",
       "      <td>...</td>\n",
       "      <td>19.994130</td>\n",
       "      <td>-499.791312</td>\n",
       "      <td>15.101425</td>\n",
       "      <td>-499.936252</td>\n",
       "      <td>10.989181</td>\n",
       "      <td>-498.347898</td>\n",
       "      <td>9.020944</td>\n",
       "      <td>-500.040448</td>\n",
       "      <td>8.982038</td>\n",
       "      <td>-497.789882</td>\n",
       "    </tr>\n",
       "    <tr>\n",
       "      <th>5288</th>\n",
       "      <td>2017-12-31 22:59:59</td>\n",
       "      <td>179.697158</td>\n",
       "      <td>15.438979</td>\n",
       "      <td>8.070000</td>\n",
       "      <td>1.501068</td>\n",
       "      <td>1498.466243</td>\n",
       "      <td>-500.483984</td>\n",
       "      <td>1497.986986</td>\n",
       "      <td>-519.200340</td>\n",
       "      <td>1496.569047</td>\n",
       "      <td>...</td>\n",
       "      <td>19.958760</td>\n",
       "      <td>-499.958750</td>\n",
       "      <td>15.026853</td>\n",
       "      <td>-499.723143</td>\n",
       "      <td>11.011607</td>\n",
       "      <td>-499.985046</td>\n",
       "      <td>9.009783</td>\n",
       "      <td>-499.937902</td>\n",
       "      <td>9.012660</td>\n",
       "      <td>-500.154284</td>\n",
       "    </tr>\n",
       "    <tr>\n",
       "      <th>5289</th>\n",
       "      <td>2017-12-31 23:59:59</td>\n",
       "      <td>181.556856</td>\n",
       "      <td>14.995850</td>\n",
       "      <td>8.070000</td>\n",
       "      <td>1.623454</td>\n",
       "      <td>1498.096303</td>\n",
       "      <td>-499.796922</td>\n",
       "      <td>1501.743791</td>\n",
       "      <td>-505.146931</td>\n",
       "      <td>1499.535978</td>\n",
       "      <td>...</td>\n",
       "      <td>20.034715</td>\n",
       "      <td>-500.728588</td>\n",
       "      <td>14.914199</td>\n",
       "      <td>-499.948518</td>\n",
       "      <td>10.986607</td>\n",
       "      <td>-500.658027</td>\n",
       "      <td>8.989497</td>\n",
       "      <td>-500.337588</td>\n",
       "      <td>8.988632</td>\n",
       "      <td>-500.764937</td>\n",
       "    </tr>\n",
       "  </tbody>\n",
       "</table>\n",
       "<p>5290 rows × 53 columns</p>\n",
       "</div>"
      ],
      "text/plain": [
       "                     date  primary_cleaner.input.sulfate  \\\n",
       "0     2016-09-01 00:59:59                     210.800909   \n",
       "1     2016-09-01 01:59:59                     215.392455   \n",
       "2     2016-09-01 02:59:59                     215.259946   \n",
       "3     2016-09-01 03:59:59                     215.336236   \n",
       "4     2016-09-01 04:59:59                     199.099327   \n",
       "...                   ...                            ...   \n",
       "5285  2017-12-31 19:59:59                     173.957757   \n",
       "5286  2017-12-31 20:59:59                     172.910270   \n",
       "5287  2017-12-31 21:59:59                     171.135718   \n",
       "5288  2017-12-31 22:59:59                     179.697158   \n",
       "5289  2017-12-31 23:59:59                     181.556856   \n",
       "\n",
       "      primary_cleaner.input.depressant  primary_cleaner.input.feed_size  \\\n",
       "0                            14.993118                         8.080000   \n",
       "1                            14.987471                         8.080000   \n",
       "2                            12.884934                         7.786667   \n",
       "3                            12.006805                         7.640000   \n",
       "4                            10.682530                         7.530000   \n",
       "...                                ...                              ...   \n",
       "5285                         15.963399                         8.070000   \n",
       "5286                         16.002605                         8.070000   \n",
       "5287                         15.993669                         8.070000   \n",
       "5288                         15.438979                         8.070000   \n",
       "5289                         14.995850                         8.070000   \n",
       "\n",
       "      primary_cleaner.input.xanthate  primary_cleaner.state.floatbank8_a_air  \\\n",
       "0                           1.005021                             1398.981301   \n",
       "1                           0.990469                             1398.777912   \n",
       "2                           0.996043                             1398.493666   \n",
       "3                           0.863514                             1399.618111   \n",
       "4                           0.805575                             1401.268123   \n",
       "...                              ...                                     ...   \n",
       "5285                        0.896701                             1401.930554   \n",
       "5286                        0.896519                             1447.075722   \n",
       "5287                        1.165996                             1498.836182   \n",
       "5288                        1.501068                             1498.466243   \n",
       "5289                        1.623454                             1498.096303   \n",
       "\n",
       "      primary_cleaner.state.floatbank8_a_level  \\\n",
       "0                                  -500.225577   \n",
       "1                                  -500.057435   \n",
       "2                                  -500.868360   \n",
       "3                                  -498.863574   \n",
       "4                                  -500.808305   \n",
       "...                                        ...   \n",
       "5285                               -499.728848   \n",
       "5286                               -494.716823   \n",
       "5287                               -501.770403   \n",
       "5288                               -500.483984   \n",
       "5289                               -499.796922   \n",
       "\n",
       "      primary_cleaner.state.floatbank8_b_air  \\\n",
       "0                                1399.144926   \n",
       "1                                1398.055362   \n",
       "2                                1398.860436   \n",
       "3                                1397.440120   \n",
       "4                                1398.128818   \n",
       "...                                      ...   \n",
       "5285                             1401.441445   \n",
       "5286                             1448.851892   \n",
       "5287                             1499.572353   \n",
       "5288                             1497.986986   \n",
       "5289                             1501.743791   \n",
       "\n",
       "      primary_cleaner.state.floatbank8_b_level  \\\n",
       "0                                  -499.919735   \n",
       "1                                  -499.778182   \n",
       "2                                  -499.764529   \n",
       "3                                  -499.211024   \n",
       "4                                  -499.504543   \n",
       "...                                        ...   \n",
       "5285                               -499.193423   \n",
       "5286                               -465.963026   \n",
       "5287                               -495.516347   \n",
       "5288                               -519.200340   \n",
       "5289                               -505.146931   \n",
       "\n",
       "      primary_cleaner.state.floatbank8_c_air  ...  \\\n",
       "0                                1400.102998  ...   \n",
       "1                                1396.151033  ...   \n",
       "2                                1398.075709  ...   \n",
       "3                                1400.129303  ...   \n",
       "4                                1402.172226  ...   \n",
       "...                                      ...  ...   \n",
       "5285                             1399.810313  ...   \n",
       "5286                             1443.890424  ...   \n",
       "5287                             1502.749213  ...   \n",
       "5288                             1496.569047  ...   \n",
       "5289                             1499.535978  ...   \n",
       "\n",
       "      secondary_cleaner.state.floatbank4_a_air  \\\n",
       "0                                    12.023554   \n",
       "1                                    12.058140   \n",
       "2                                    11.962366   \n",
       "3                                    12.033091   \n",
       "4                                    12.025367   \n",
       "...                                        ...   \n",
       "5285                                 13.995957   \n",
       "5286                                 16.749781   \n",
       "5287                                 19.994130   \n",
       "5288                                 19.958760   \n",
       "5289                                 20.034715   \n",
       "\n",
       "      secondary_cleaner.state.floatbank4_a_level  \\\n",
       "0                                    -497.795834   \n",
       "1                                    -498.695773   \n",
       "2                                    -498.767484   \n",
       "3                                    -498.350935   \n",
       "4                                    -500.786497   \n",
       "...                                          ...   \n",
       "5285                                 -500.157454   \n",
       "5286                                 -496.031539   \n",
       "5287                                 -499.791312   \n",
       "5288                                 -499.958750   \n",
       "5289                                 -500.728588   \n",
       "\n",
       "      secondary_cleaner.state.floatbank4_b_air  \\\n",
       "0                                     8.016656   \n",
       "1                                     8.130979   \n",
       "2                                     8.096893   \n",
       "3                                     8.074946   \n",
       "4                                     8.054678   \n",
       "...                                        ...   \n",
       "5285                                 12.069155   \n",
       "5286                                 13.365371   \n",
       "5287                                 15.101425   \n",
       "5288                                 15.026853   \n",
       "5289                                 14.914199   \n",
       "\n",
       "      secondary_cleaner.state.floatbank4_b_level  \\\n",
       "0                                    -501.289139   \n",
       "1                                    -499.634209   \n",
       "2                                    -500.827423   \n",
       "3                                    -499.474407   \n",
       "4                                    -500.397500   \n",
       "...                                          ...   \n",
       "5285                                 -499.673279   \n",
       "5286                                 -499.122723   \n",
       "5287                                 -499.936252   \n",
       "5288                                 -499.723143   \n",
       "5289                                 -499.948518   \n",
       "\n",
       "      secondary_cleaner.state.floatbank5_a_air  \\\n",
       "0                                     7.946562   \n",
       "1                                     7.958270   \n",
       "2                                     8.071056   \n",
       "3                                     7.897085   \n",
       "4                                     8.107890   \n",
       "...                                        ...   \n",
       "5285                                  7.977259   \n",
       "5286                                  9.288553   \n",
       "5287                                 10.989181   \n",
       "5288                                 11.011607   \n",
       "5289                                 10.986607   \n",
       "\n",
       "      secondary_cleaner.state.floatbank5_a_level  \\\n",
       "0                                    -432.317850   \n",
       "1                                    -525.839648   \n",
       "2                                    -500.801673   \n",
       "3                                    -500.868509   \n",
       "4                                    -509.526725   \n",
       "...                                          ...   \n",
       "5285                                 -499.516126   \n",
       "5286                                 -496.892967   \n",
       "5287                                 -498.347898   \n",
       "5288                                 -499.985046   \n",
       "5289                                 -500.658027   \n",
       "\n",
       "      secondary_cleaner.state.floatbank5_b_air  \\\n",
       "0                                     4.872511   \n",
       "1                                     4.878850   \n",
       "2                                     4.905125   \n",
       "3                                     4.931400   \n",
       "4                                     4.957674   \n",
       "...                                        ...   \n",
       "5285                                  5.933319   \n",
       "5286                                  7.372897   \n",
       "5287                                  9.020944   \n",
       "5288                                  9.009783   \n",
       "5289                                  8.989497   \n",
       "\n",
       "      secondary_cleaner.state.floatbank5_b_level  \\\n",
       "0                                    -500.037437   \n",
       "1                                    -500.162375   \n",
       "2                                    -499.828510   \n",
       "3                                    -499.963623   \n",
       "4                                    -500.360026   \n",
       "...                                          ...   \n",
       "5285                                 -499.965973   \n",
       "5286                                 -499.942956   \n",
       "5287                                 -500.040448   \n",
       "5288                                 -499.937902   \n",
       "5289                                 -500.337588   \n",
       "\n",
       "      secondary_cleaner.state.floatbank6_a_air  \\\n",
       "0                                    26.705889   \n",
       "1                                    25.019940   \n",
       "2                                    24.994862   \n",
       "3                                    24.948919   \n",
       "4                                    25.003331   \n",
       "...                                        ...   \n",
       "5285                                  8.987171   \n",
       "5286                                  8.986832   \n",
       "5287                                  8.982038   \n",
       "5288                                  9.012660   \n",
       "5289                                  8.988632   \n",
       "\n",
       "      secondary_cleaner.state.floatbank6_a_level  \n",
       "0                                    -499.709414  \n",
       "1                                    -499.819438  \n",
       "2                                    -500.622559  \n",
       "3                                    -498.709987  \n",
       "4                                    -500.856333  \n",
       "...                                          ...  \n",
       "5285                                 -499.755909  \n",
       "5286                                 -499.903761  \n",
       "5287                                 -497.789882  \n",
       "5288                                 -500.154284  \n",
       "5289                                 -500.764937  \n",
       "\n",
       "[5290 rows x 53 columns]"
      ]
     },
     "metadata": {},
     "output_type": "display_data"
    }
   ],
   "source": [
    "data_test = pd.read_csv('/datasets/gold_recovery_test_new.csv')\n",
    "display(data_test)"
   ]
  },
  {
   "cell_type": "code",
   "execution_count": 3,
   "metadata": {},
   "outputs": [
    {
     "data": {
      "text/html": [
       "<div>\n",
       "<style scoped>\n",
       "    .dataframe tbody tr th:only-of-type {\n",
       "        vertical-align: middle;\n",
       "    }\n",
       "\n",
       "    .dataframe tbody tr th {\n",
       "        vertical-align: top;\n",
       "    }\n",
       "\n",
       "    .dataframe thead th {\n",
       "        text-align: right;\n",
       "    }\n",
       "</style>\n",
       "<table border=\"1\" class=\"dataframe\">\n",
       "  <thead>\n",
       "    <tr style=\"text-align: right;\">\n",
       "      <th></th>\n",
       "      <th>date</th>\n",
       "      <th>final.output.concentrate_ag</th>\n",
       "      <th>final.output.concentrate_pb</th>\n",
       "      <th>final.output.concentrate_sol</th>\n",
       "      <th>final.output.concentrate_au</th>\n",
       "      <th>final.output.recovery</th>\n",
       "      <th>final.output.tail_ag</th>\n",
       "      <th>final.output.tail_pb</th>\n",
       "      <th>final.output.tail_sol</th>\n",
       "      <th>final.output.tail_au</th>\n",
       "      <th>...</th>\n",
       "      <th>secondary_cleaner.state.floatbank4_a_air</th>\n",
       "      <th>secondary_cleaner.state.floatbank4_a_level</th>\n",
       "      <th>secondary_cleaner.state.floatbank4_b_air</th>\n",
       "      <th>secondary_cleaner.state.floatbank4_b_level</th>\n",
       "      <th>secondary_cleaner.state.floatbank5_a_air</th>\n",
       "      <th>secondary_cleaner.state.floatbank5_a_level</th>\n",
       "      <th>secondary_cleaner.state.floatbank5_b_air</th>\n",
       "      <th>secondary_cleaner.state.floatbank5_b_level</th>\n",
       "      <th>secondary_cleaner.state.floatbank6_a_air</th>\n",
       "      <th>secondary_cleaner.state.floatbank6_a_level</th>\n",
       "    </tr>\n",
       "  </thead>\n",
       "  <tbody>\n",
       "    <tr>\n",
       "      <th>0</th>\n",
       "      <td>2016-01-15 00:00:00</td>\n",
       "      <td>6.055403</td>\n",
       "      <td>9.889648</td>\n",
       "      <td>5.507324</td>\n",
       "      <td>42.192020</td>\n",
       "      <td>70.541216</td>\n",
       "      <td>10.411962</td>\n",
       "      <td>0.895447</td>\n",
       "      <td>16.904297</td>\n",
       "      <td>2.143149</td>\n",
       "      <td>...</td>\n",
       "      <td>14.016835</td>\n",
       "      <td>-502.488007</td>\n",
       "      <td>12.099931</td>\n",
       "      <td>-504.715942</td>\n",
       "      <td>9.925633</td>\n",
       "      <td>-498.310211</td>\n",
       "      <td>8.079666</td>\n",
       "      <td>-500.470978</td>\n",
       "      <td>14.151341</td>\n",
       "      <td>-605.841980</td>\n",
       "    </tr>\n",
       "    <tr>\n",
       "      <th>1</th>\n",
       "      <td>2016-01-15 01:00:00</td>\n",
       "      <td>6.029369</td>\n",
       "      <td>9.968944</td>\n",
       "      <td>5.257781</td>\n",
       "      <td>42.701629</td>\n",
       "      <td>69.266198</td>\n",
       "      <td>10.462676</td>\n",
       "      <td>0.927452</td>\n",
       "      <td>16.634514</td>\n",
       "      <td>2.224930</td>\n",
       "      <td>...</td>\n",
       "      <td>13.992281</td>\n",
       "      <td>-505.503262</td>\n",
       "      <td>11.950531</td>\n",
       "      <td>-501.331529</td>\n",
       "      <td>10.039245</td>\n",
       "      <td>-500.169983</td>\n",
       "      <td>7.984757</td>\n",
       "      <td>-500.582168</td>\n",
       "      <td>13.998353</td>\n",
       "      <td>-599.787184</td>\n",
       "    </tr>\n",
       "    <tr>\n",
       "      <th>2</th>\n",
       "      <td>2016-01-15 02:00:00</td>\n",
       "      <td>6.055926</td>\n",
       "      <td>10.213995</td>\n",
       "      <td>5.383759</td>\n",
       "      <td>42.657501</td>\n",
       "      <td>68.116445</td>\n",
       "      <td>10.507046</td>\n",
       "      <td>0.953716</td>\n",
       "      <td>16.208849</td>\n",
       "      <td>2.257889</td>\n",
       "      <td>...</td>\n",
       "      <td>14.015015</td>\n",
       "      <td>-502.520901</td>\n",
       "      <td>11.912783</td>\n",
       "      <td>-501.133383</td>\n",
       "      <td>10.070913</td>\n",
       "      <td>-500.129135</td>\n",
       "      <td>8.013877</td>\n",
       "      <td>-500.517572</td>\n",
       "      <td>14.028663</td>\n",
       "      <td>-601.427363</td>\n",
       "    </tr>\n",
       "    <tr>\n",
       "      <th>3</th>\n",
       "      <td>2016-01-15 03:00:00</td>\n",
       "      <td>6.047977</td>\n",
       "      <td>9.977019</td>\n",
       "      <td>4.858634</td>\n",
       "      <td>42.689819</td>\n",
       "      <td>68.347543</td>\n",
       "      <td>10.422762</td>\n",
       "      <td>0.883763</td>\n",
       "      <td>16.532835</td>\n",
       "      <td>2.146849</td>\n",
       "      <td>...</td>\n",
       "      <td>14.036510</td>\n",
       "      <td>-500.857308</td>\n",
       "      <td>11.999550</td>\n",
       "      <td>-501.193686</td>\n",
       "      <td>9.970366</td>\n",
       "      <td>-499.201640</td>\n",
       "      <td>7.977324</td>\n",
       "      <td>-500.255908</td>\n",
       "      <td>14.005551</td>\n",
       "      <td>-599.996129</td>\n",
       "    </tr>\n",
       "    <tr>\n",
       "      <th>4</th>\n",
       "      <td>2016-01-15 04:00:00</td>\n",
       "      <td>6.148599</td>\n",
       "      <td>10.142511</td>\n",
       "      <td>4.939416</td>\n",
       "      <td>42.774141</td>\n",
       "      <td>66.927016</td>\n",
       "      <td>10.360302</td>\n",
       "      <td>0.792826</td>\n",
       "      <td>16.525686</td>\n",
       "      <td>2.055292</td>\n",
       "      <td>...</td>\n",
       "      <td>14.027298</td>\n",
       "      <td>-499.838632</td>\n",
       "      <td>11.953070</td>\n",
       "      <td>-501.053894</td>\n",
       "      <td>9.925709</td>\n",
       "      <td>-501.686727</td>\n",
       "      <td>7.894242</td>\n",
       "      <td>-500.356035</td>\n",
       "      <td>13.996647</td>\n",
       "      <td>-601.496691</td>\n",
       "    </tr>\n",
       "    <tr>\n",
       "      <th>...</th>\n",
       "      <td>...</td>\n",
       "      <td>...</td>\n",
       "      <td>...</td>\n",
       "      <td>...</td>\n",
       "      <td>...</td>\n",
       "      <td>...</td>\n",
       "      <td>...</td>\n",
       "      <td>...</td>\n",
       "      <td>...</td>\n",
       "      <td>...</td>\n",
       "      <td>...</td>\n",
       "      <td>...</td>\n",
       "      <td>...</td>\n",
       "      <td>...</td>\n",
       "      <td>...</td>\n",
       "      <td>...</td>\n",
       "      <td>...</td>\n",
       "      <td>...</td>\n",
       "      <td>...</td>\n",
       "      <td>...</td>\n",
       "      <td>...</td>\n",
       "    </tr>\n",
       "    <tr>\n",
       "      <th>14144</th>\n",
       "      <td>2018-08-18 06:59:59</td>\n",
       "      <td>3.224920</td>\n",
       "      <td>11.356233</td>\n",
       "      <td>6.803482</td>\n",
       "      <td>46.713954</td>\n",
       "      <td>73.755150</td>\n",
       "      <td>8.769645</td>\n",
       "      <td>3.141541</td>\n",
       "      <td>10.403181</td>\n",
       "      <td>1.529220</td>\n",
       "      <td>...</td>\n",
       "      <td>23.031497</td>\n",
       "      <td>-501.167942</td>\n",
       "      <td>20.007571</td>\n",
       "      <td>-499.740028</td>\n",
       "      <td>18.006038</td>\n",
       "      <td>-499.834374</td>\n",
       "      <td>13.001114</td>\n",
       "      <td>-500.155694</td>\n",
       "      <td>20.007840</td>\n",
       "      <td>-501.296428</td>\n",
       "    </tr>\n",
       "    <tr>\n",
       "      <th>14145</th>\n",
       "      <td>2018-08-18 07:59:59</td>\n",
       "      <td>3.195978</td>\n",
       "      <td>11.349355</td>\n",
       "      <td>6.862249</td>\n",
       "      <td>46.866780</td>\n",
       "      <td>69.049291</td>\n",
       "      <td>8.897321</td>\n",
       "      <td>3.130493</td>\n",
       "      <td>10.549470</td>\n",
       "      <td>1.612542</td>\n",
       "      <td>...</td>\n",
       "      <td>22.960095</td>\n",
       "      <td>-501.612783</td>\n",
       "      <td>20.035660</td>\n",
       "      <td>-500.251357</td>\n",
       "      <td>17.998535</td>\n",
       "      <td>-500.395178</td>\n",
       "      <td>12.954048</td>\n",
       "      <td>-499.895163</td>\n",
       "      <td>19.968498</td>\n",
       "      <td>-501.041608</td>\n",
       "    </tr>\n",
       "    <tr>\n",
       "      <th>14146</th>\n",
       "      <td>2018-08-18 08:59:59</td>\n",
       "      <td>3.109998</td>\n",
       "      <td>11.434366</td>\n",
       "      <td>6.886013</td>\n",
       "      <td>46.795691</td>\n",
       "      <td>67.002189</td>\n",
       "      <td>8.529606</td>\n",
       "      <td>2.911418</td>\n",
       "      <td>11.115147</td>\n",
       "      <td>1.596616</td>\n",
       "      <td>...</td>\n",
       "      <td>23.015718</td>\n",
       "      <td>-501.711599</td>\n",
       "      <td>19.951231</td>\n",
       "      <td>-499.857027</td>\n",
       "      <td>18.019543</td>\n",
       "      <td>-500.451156</td>\n",
       "      <td>13.023431</td>\n",
       "      <td>-499.914391</td>\n",
       "      <td>19.990885</td>\n",
       "      <td>-501.518452</td>\n",
       "    </tr>\n",
       "    <tr>\n",
       "      <th>14147</th>\n",
       "      <td>2018-08-18 09:59:59</td>\n",
       "      <td>3.367241</td>\n",
       "      <td>11.625587</td>\n",
       "      <td>6.799433</td>\n",
       "      <td>46.408188</td>\n",
       "      <td>65.523246</td>\n",
       "      <td>8.777171</td>\n",
       "      <td>2.819214</td>\n",
       "      <td>10.463847</td>\n",
       "      <td>1.602879</td>\n",
       "      <td>...</td>\n",
       "      <td>23.024963</td>\n",
       "      <td>-501.153409</td>\n",
       "      <td>20.054122</td>\n",
       "      <td>-500.314711</td>\n",
       "      <td>17.979515</td>\n",
       "      <td>-499.272871</td>\n",
       "      <td>12.992404</td>\n",
       "      <td>-499.976268</td>\n",
       "      <td>20.013986</td>\n",
       "      <td>-500.625471</td>\n",
       "    </tr>\n",
       "    <tr>\n",
       "      <th>14148</th>\n",
       "      <td>2018-08-18 10:59:59</td>\n",
       "      <td>3.598375</td>\n",
       "      <td>11.737832</td>\n",
       "      <td>6.717509</td>\n",
       "      <td>46.299438</td>\n",
       "      <td>70.281454</td>\n",
       "      <td>8.406690</td>\n",
       "      <td>2.517518</td>\n",
       "      <td>10.652193</td>\n",
       "      <td>1.389434</td>\n",
       "      <td>...</td>\n",
       "      <td>23.018622</td>\n",
       "      <td>-500.492702</td>\n",
       "      <td>20.020205</td>\n",
       "      <td>-500.220296</td>\n",
       "      <td>17.963512</td>\n",
       "      <td>-499.939490</td>\n",
       "      <td>12.990306</td>\n",
       "      <td>-500.080993</td>\n",
       "      <td>19.990336</td>\n",
       "      <td>-499.191575</td>\n",
       "    </tr>\n",
       "  </tbody>\n",
       "</table>\n",
       "<p>14149 rows × 87 columns</p>\n",
       "</div>"
      ],
      "text/plain": [
       "                      date  final.output.concentrate_ag  \\\n",
       "0      2016-01-15 00:00:00                     6.055403   \n",
       "1      2016-01-15 01:00:00                     6.029369   \n",
       "2      2016-01-15 02:00:00                     6.055926   \n",
       "3      2016-01-15 03:00:00                     6.047977   \n",
       "4      2016-01-15 04:00:00                     6.148599   \n",
       "...                    ...                          ...   \n",
       "14144  2018-08-18 06:59:59                     3.224920   \n",
       "14145  2018-08-18 07:59:59                     3.195978   \n",
       "14146  2018-08-18 08:59:59                     3.109998   \n",
       "14147  2018-08-18 09:59:59                     3.367241   \n",
       "14148  2018-08-18 10:59:59                     3.598375   \n",
       "\n",
       "       final.output.concentrate_pb  final.output.concentrate_sol  \\\n",
       "0                         9.889648                      5.507324   \n",
       "1                         9.968944                      5.257781   \n",
       "2                        10.213995                      5.383759   \n",
       "3                         9.977019                      4.858634   \n",
       "4                        10.142511                      4.939416   \n",
       "...                            ...                           ...   \n",
       "14144                    11.356233                      6.803482   \n",
       "14145                    11.349355                      6.862249   \n",
       "14146                    11.434366                      6.886013   \n",
       "14147                    11.625587                      6.799433   \n",
       "14148                    11.737832                      6.717509   \n",
       "\n",
       "       final.output.concentrate_au  final.output.recovery  \\\n",
       "0                        42.192020              70.541216   \n",
       "1                        42.701629              69.266198   \n",
       "2                        42.657501              68.116445   \n",
       "3                        42.689819              68.347543   \n",
       "4                        42.774141              66.927016   \n",
       "...                            ...                    ...   \n",
       "14144                    46.713954              73.755150   \n",
       "14145                    46.866780              69.049291   \n",
       "14146                    46.795691              67.002189   \n",
       "14147                    46.408188              65.523246   \n",
       "14148                    46.299438              70.281454   \n",
       "\n",
       "       final.output.tail_ag  final.output.tail_pb  final.output.tail_sol  \\\n",
       "0                 10.411962              0.895447              16.904297   \n",
       "1                 10.462676              0.927452              16.634514   \n",
       "2                 10.507046              0.953716              16.208849   \n",
       "3                 10.422762              0.883763              16.532835   \n",
       "4                 10.360302              0.792826              16.525686   \n",
       "...                     ...                   ...                    ...   \n",
       "14144              8.769645              3.141541              10.403181   \n",
       "14145              8.897321              3.130493              10.549470   \n",
       "14146              8.529606              2.911418              11.115147   \n",
       "14147              8.777171              2.819214              10.463847   \n",
       "14148              8.406690              2.517518              10.652193   \n",
       "\n",
       "       final.output.tail_au  ...  secondary_cleaner.state.floatbank4_a_air  \\\n",
       "0                  2.143149  ...                                 14.016835   \n",
       "1                  2.224930  ...                                 13.992281   \n",
       "2                  2.257889  ...                                 14.015015   \n",
       "3                  2.146849  ...                                 14.036510   \n",
       "4                  2.055292  ...                                 14.027298   \n",
       "...                     ...  ...                                       ...   \n",
       "14144              1.529220  ...                                 23.031497   \n",
       "14145              1.612542  ...                                 22.960095   \n",
       "14146              1.596616  ...                                 23.015718   \n",
       "14147              1.602879  ...                                 23.024963   \n",
       "14148              1.389434  ...                                 23.018622   \n",
       "\n",
       "       secondary_cleaner.state.floatbank4_a_level  \\\n",
       "0                                     -502.488007   \n",
       "1                                     -505.503262   \n",
       "2                                     -502.520901   \n",
       "3                                     -500.857308   \n",
       "4                                     -499.838632   \n",
       "...                                           ...   \n",
       "14144                                 -501.167942   \n",
       "14145                                 -501.612783   \n",
       "14146                                 -501.711599   \n",
       "14147                                 -501.153409   \n",
       "14148                                 -500.492702   \n",
       "\n",
       "       secondary_cleaner.state.floatbank4_b_air  \\\n",
       "0                                     12.099931   \n",
       "1                                     11.950531   \n",
       "2                                     11.912783   \n",
       "3                                     11.999550   \n",
       "4                                     11.953070   \n",
       "...                                         ...   \n",
       "14144                                 20.007571   \n",
       "14145                                 20.035660   \n",
       "14146                                 19.951231   \n",
       "14147                                 20.054122   \n",
       "14148                                 20.020205   \n",
       "\n",
       "       secondary_cleaner.state.floatbank4_b_level  \\\n",
       "0                                     -504.715942   \n",
       "1                                     -501.331529   \n",
       "2                                     -501.133383   \n",
       "3                                     -501.193686   \n",
       "4                                     -501.053894   \n",
       "...                                           ...   \n",
       "14144                                 -499.740028   \n",
       "14145                                 -500.251357   \n",
       "14146                                 -499.857027   \n",
       "14147                                 -500.314711   \n",
       "14148                                 -500.220296   \n",
       "\n",
       "       secondary_cleaner.state.floatbank5_a_air  \\\n",
       "0                                      9.925633   \n",
       "1                                     10.039245   \n",
       "2                                     10.070913   \n",
       "3                                      9.970366   \n",
       "4                                      9.925709   \n",
       "...                                         ...   \n",
       "14144                                 18.006038   \n",
       "14145                                 17.998535   \n",
       "14146                                 18.019543   \n",
       "14147                                 17.979515   \n",
       "14148                                 17.963512   \n",
       "\n",
       "       secondary_cleaner.state.floatbank5_a_level  \\\n",
       "0                                     -498.310211   \n",
       "1                                     -500.169983   \n",
       "2                                     -500.129135   \n",
       "3                                     -499.201640   \n",
       "4                                     -501.686727   \n",
       "...                                           ...   \n",
       "14144                                 -499.834374   \n",
       "14145                                 -500.395178   \n",
       "14146                                 -500.451156   \n",
       "14147                                 -499.272871   \n",
       "14148                                 -499.939490   \n",
       "\n",
       "       secondary_cleaner.state.floatbank5_b_air  \\\n",
       "0                                      8.079666   \n",
       "1                                      7.984757   \n",
       "2                                      8.013877   \n",
       "3                                      7.977324   \n",
       "4                                      7.894242   \n",
       "...                                         ...   \n",
       "14144                                 13.001114   \n",
       "14145                                 12.954048   \n",
       "14146                                 13.023431   \n",
       "14147                                 12.992404   \n",
       "14148                                 12.990306   \n",
       "\n",
       "       secondary_cleaner.state.floatbank5_b_level  \\\n",
       "0                                     -500.470978   \n",
       "1                                     -500.582168   \n",
       "2                                     -500.517572   \n",
       "3                                     -500.255908   \n",
       "4                                     -500.356035   \n",
       "...                                           ...   \n",
       "14144                                 -500.155694   \n",
       "14145                                 -499.895163   \n",
       "14146                                 -499.914391   \n",
       "14147                                 -499.976268   \n",
       "14148                                 -500.080993   \n",
       "\n",
       "       secondary_cleaner.state.floatbank6_a_air  \\\n",
       "0                                     14.151341   \n",
       "1                                     13.998353   \n",
       "2                                     14.028663   \n",
       "3                                     14.005551   \n",
       "4                                     13.996647   \n",
       "...                                         ...   \n",
       "14144                                 20.007840   \n",
       "14145                                 19.968498   \n",
       "14146                                 19.990885   \n",
       "14147                                 20.013986   \n",
       "14148                                 19.990336   \n",
       "\n",
       "       secondary_cleaner.state.floatbank6_a_level  \n",
       "0                                     -605.841980  \n",
       "1                                     -599.787184  \n",
       "2                                     -601.427363  \n",
       "3                                     -599.996129  \n",
       "4                                     -601.496691  \n",
       "...                                           ...  \n",
       "14144                                 -501.296428  \n",
       "14145                                 -501.041608  \n",
       "14146                                 -501.518452  \n",
       "14147                                 -500.625471  \n",
       "14148                                 -499.191575  \n",
       "\n",
       "[14149 rows x 87 columns]"
      ]
     },
     "metadata": {},
     "output_type": "display_data"
    }
   ],
   "source": [
    "data_train = pd.read_csv('/datasets/gold_recovery_train_new.csv')\n",
    "display(data_train)"
   ]
  },
  {
   "cell_type": "code",
   "execution_count": 4,
   "metadata": {
    "scrolled": true
   },
   "outputs": [
    {
     "data": {
      "text/html": [
       "<div>\n",
       "<style scoped>\n",
       "    .dataframe tbody tr th:only-of-type {\n",
       "        vertical-align: middle;\n",
       "    }\n",
       "\n",
       "    .dataframe tbody tr th {\n",
       "        vertical-align: top;\n",
       "    }\n",
       "\n",
       "    .dataframe thead th {\n",
       "        text-align: right;\n",
       "    }\n",
       "</style>\n",
       "<table border=\"1\" class=\"dataframe\">\n",
       "  <thead>\n",
       "    <tr style=\"text-align: right;\">\n",
       "      <th></th>\n",
       "      <th>date</th>\n",
       "      <th>final.output.concentrate_ag</th>\n",
       "      <th>final.output.concentrate_pb</th>\n",
       "      <th>final.output.concentrate_sol</th>\n",
       "      <th>final.output.concentrate_au</th>\n",
       "      <th>final.output.recovery</th>\n",
       "      <th>final.output.tail_ag</th>\n",
       "      <th>final.output.tail_pb</th>\n",
       "      <th>final.output.tail_sol</th>\n",
       "      <th>final.output.tail_au</th>\n",
       "      <th>...</th>\n",
       "      <th>secondary_cleaner.state.floatbank4_a_air</th>\n",
       "      <th>secondary_cleaner.state.floatbank4_a_level</th>\n",
       "      <th>secondary_cleaner.state.floatbank4_b_air</th>\n",
       "      <th>secondary_cleaner.state.floatbank4_b_level</th>\n",
       "      <th>secondary_cleaner.state.floatbank5_a_air</th>\n",
       "      <th>secondary_cleaner.state.floatbank5_a_level</th>\n",
       "      <th>secondary_cleaner.state.floatbank5_b_air</th>\n",
       "      <th>secondary_cleaner.state.floatbank5_b_level</th>\n",
       "      <th>secondary_cleaner.state.floatbank6_a_air</th>\n",
       "      <th>secondary_cleaner.state.floatbank6_a_level</th>\n",
       "    </tr>\n",
       "  </thead>\n",
       "  <tbody>\n",
       "    <tr>\n",
       "      <th>0</th>\n",
       "      <td>2016-01-15 00:00:00</td>\n",
       "      <td>6.055403</td>\n",
       "      <td>9.889648</td>\n",
       "      <td>5.507324</td>\n",
       "      <td>42.192020</td>\n",
       "      <td>70.541216</td>\n",
       "      <td>10.411962</td>\n",
       "      <td>0.895447</td>\n",
       "      <td>16.904297</td>\n",
       "      <td>2.143149</td>\n",
       "      <td>...</td>\n",
       "      <td>14.016835</td>\n",
       "      <td>-502.488007</td>\n",
       "      <td>12.099931</td>\n",
       "      <td>-504.715942</td>\n",
       "      <td>9.925633</td>\n",
       "      <td>-498.310211</td>\n",
       "      <td>8.079666</td>\n",
       "      <td>-500.470978</td>\n",
       "      <td>14.151341</td>\n",
       "      <td>-605.841980</td>\n",
       "    </tr>\n",
       "    <tr>\n",
       "      <th>1</th>\n",
       "      <td>2016-01-15 01:00:00</td>\n",
       "      <td>6.029369</td>\n",
       "      <td>9.968944</td>\n",
       "      <td>5.257781</td>\n",
       "      <td>42.701629</td>\n",
       "      <td>69.266198</td>\n",
       "      <td>10.462676</td>\n",
       "      <td>0.927452</td>\n",
       "      <td>16.634514</td>\n",
       "      <td>2.224930</td>\n",
       "      <td>...</td>\n",
       "      <td>13.992281</td>\n",
       "      <td>-505.503262</td>\n",
       "      <td>11.950531</td>\n",
       "      <td>-501.331529</td>\n",
       "      <td>10.039245</td>\n",
       "      <td>-500.169983</td>\n",
       "      <td>7.984757</td>\n",
       "      <td>-500.582168</td>\n",
       "      <td>13.998353</td>\n",
       "      <td>-599.787184</td>\n",
       "    </tr>\n",
       "    <tr>\n",
       "      <th>2</th>\n",
       "      <td>2016-01-15 02:00:00</td>\n",
       "      <td>6.055926</td>\n",
       "      <td>10.213995</td>\n",
       "      <td>5.383759</td>\n",
       "      <td>42.657501</td>\n",
       "      <td>68.116445</td>\n",
       "      <td>10.507046</td>\n",
       "      <td>0.953716</td>\n",
       "      <td>16.208849</td>\n",
       "      <td>2.257889</td>\n",
       "      <td>...</td>\n",
       "      <td>14.015015</td>\n",
       "      <td>-502.520901</td>\n",
       "      <td>11.912783</td>\n",
       "      <td>-501.133383</td>\n",
       "      <td>10.070913</td>\n",
       "      <td>-500.129135</td>\n",
       "      <td>8.013877</td>\n",
       "      <td>-500.517572</td>\n",
       "      <td>14.028663</td>\n",
       "      <td>-601.427363</td>\n",
       "    </tr>\n",
       "    <tr>\n",
       "      <th>3</th>\n",
       "      <td>2016-01-15 03:00:00</td>\n",
       "      <td>6.047977</td>\n",
       "      <td>9.977019</td>\n",
       "      <td>4.858634</td>\n",
       "      <td>42.689819</td>\n",
       "      <td>68.347543</td>\n",
       "      <td>10.422762</td>\n",
       "      <td>0.883763</td>\n",
       "      <td>16.532835</td>\n",
       "      <td>2.146849</td>\n",
       "      <td>...</td>\n",
       "      <td>14.036510</td>\n",
       "      <td>-500.857308</td>\n",
       "      <td>11.999550</td>\n",
       "      <td>-501.193686</td>\n",
       "      <td>9.970366</td>\n",
       "      <td>-499.201640</td>\n",
       "      <td>7.977324</td>\n",
       "      <td>-500.255908</td>\n",
       "      <td>14.005551</td>\n",
       "      <td>-599.996129</td>\n",
       "    </tr>\n",
       "    <tr>\n",
       "      <th>4</th>\n",
       "      <td>2016-01-15 04:00:00</td>\n",
       "      <td>6.148599</td>\n",
       "      <td>10.142511</td>\n",
       "      <td>4.939416</td>\n",
       "      <td>42.774141</td>\n",
       "      <td>66.927016</td>\n",
       "      <td>10.360302</td>\n",
       "      <td>0.792826</td>\n",
       "      <td>16.525686</td>\n",
       "      <td>2.055292</td>\n",
       "      <td>...</td>\n",
       "      <td>14.027298</td>\n",
       "      <td>-499.838632</td>\n",
       "      <td>11.953070</td>\n",
       "      <td>-501.053894</td>\n",
       "      <td>9.925709</td>\n",
       "      <td>-501.686727</td>\n",
       "      <td>7.894242</td>\n",
       "      <td>-500.356035</td>\n",
       "      <td>13.996647</td>\n",
       "      <td>-601.496691</td>\n",
       "    </tr>\n",
       "    <tr>\n",
       "      <th>...</th>\n",
       "      <td>...</td>\n",
       "      <td>...</td>\n",
       "      <td>...</td>\n",
       "      <td>...</td>\n",
       "      <td>...</td>\n",
       "      <td>...</td>\n",
       "      <td>...</td>\n",
       "      <td>...</td>\n",
       "      <td>...</td>\n",
       "      <td>...</td>\n",
       "      <td>...</td>\n",
       "      <td>...</td>\n",
       "      <td>...</td>\n",
       "      <td>...</td>\n",
       "      <td>...</td>\n",
       "      <td>...</td>\n",
       "      <td>...</td>\n",
       "      <td>...</td>\n",
       "      <td>...</td>\n",
       "      <td>...</td>\n",
       "      <td>...</td>\n",
       "    </tr>\n",
       "    <tr>\n",
       "      <th>19434</th>\n",
       "      <td>2018-08-18 06:59:59</td>\n",
       "      <td>3.224920</td>\n",
       "      <td>11.356233</td>\n",
       "      <td>6.803482</td>\n",
       "      <td>46.713954</td>\n",
       "      <td>73.755150</td>\n",
       "      <td>8.769645</td>\n",
       "      <td>3.141541</td>\n",
       "      <td>10.403181</td>\n",
       "      <td>1.529220</td>\n",
       "      <td>...</td>\n",
       "      <td>23.031497</td>\n",
       "      <td>-501.167942</td>\n",
       "      <td>20.007571</td>\n",
       "      <td>-499.740028</td>\n",
       "      <td>18.006038</td>\n",
       "      <td>-499.834374</td>\n",
       "      <td>13.001114</td>\n",
       "      <td>-500.155694</td>\n",
       "      <td>20.007840</td>\n",
       "      <td>-501.296428</td>\n",
       "    </tr>\n",
       "    <tr>\n",
       "      <th>19435</th>\n",
       "      <td>2018-08-18 07:59:59</td>\n",
       "      <td>3.195978</td>\n",
       "      <td>11.349355</td>\n",
       "      <td>6.862249</td>\n",
       "      <td>46.866780</td>\n",
       "      <td>69.049291</td>\n",
       "      <td>8.897321</td>\n",
       "      <td>3.130493</td>\n",
       "      <td>10.549470</td>\n",
       "      <td>1.612542</td>\n",
       "      <td>...</td>\n",
       "      <td>22.960095</td>\n",
       "      <td>-501.612783</td>\n",
       "      <td>20.035660</td>\n",
       "      <td>-500.251357</td>\n",
       "      <td>17.998535</td>\n",
       "      <td>-500.395178</td>\n",
       "      <td>12.954048</td>\n",
       "      <td>-499.895163</td>\n",
       "      <td>19.968498</td>\n",
       "      <td>-501.041608</td>\n",
       "    </tr>\n",
       "    <tr>\n",
       "      <th>19436</th>\n",
       "      <td>2018-08-18 08:59:59</td>\n",
       "      <td>3.109998</td>\n",
       "      <td>11.434366</td>\n",
       "      <td>6.886013</td>\n",
       "      <td>46.795691</td>\n",
       "      <td>67.002189</td>\n",
       "      <td>8.529606</td>\n",
       "      <td>2.911418</td>\n",
       "      <td>11.115147</td>\n",
       "      <td>1.596616</td>\n",
       "      <td>...</td>\n",
       "      <td>23.015718</td>\n",
       "      <td>-501.711599</td>\n",
       "      <td>19.951231</td>\n",
       "      <td>-499.857027</td>\n",
       "      <td>18.019543</td>\n",
       "      <td>-500.451156</td>\n",
       "      <td>13.023431</td>\n",
       "      <td>-499.914391</td>\n",
       "      <td>19.990885</td>\n",
       "      <td>-501.518452</td>\n",
       "    </tr>\n",
       "    <tr>\n",
       "      <th>19437</th>\n",
       "      <td>2018-08-18 09:59:59</td>\n",
       "      <td>3.367241</td>\n",
       "      <td>11.625587</td>\n",
       "      <td>6.799433</td>\n",
       "      <td>46.408188</td>\n",
       "      <td>65.523246</td>\n",
       "      <td>8.777171</td>\n",
       "      <td>2.819214</td>\n",
       "      <td>10.463847</td>\n",
       "      <td>1.602879</td>\n",
       "      <td>...</td>\n",
       "      <td>23.024963</td>\n",
       "      <td>-501.153409</td>\n",
       "      <td>20.054122</td>\n",
       "      <td>-500.314711</td>\n",
       "      <td>17.979515</td>\n",
       "      <td>-499.272871</td>\n",
       "      <td>12.992404</td>\n",
       "      <td>-499.976268</td>\n",
       "      <td>20.013986</td>\n",
       "      <td>-500.625471</td>\n",
       "    </tr>\n",
       "    <tr>\n",
       "      <th>19438</th>\n",
       "      <td>2018-08-18 10:59:59</td>\n",
       "      <td>3.598375</td>\n",
       "      <td>11.737832</td>\n",
       "      <td>6.717509</td>\n",
       "      <td>46.299438</td>\n",
       "      <td>70.281454</td>\n",
       "      <td>8.406690</td>\n",
       "      <td>2.517518</td>\n",
       "      <td>10.652193</td>\n",
       "      <td>1.389434</td>\n",
       "      <td>...</td>\n",
       "      <td>23.018622</td>\n",
       "      <td>-500.492702</td>\n",
       "      <td>20.020205</td>\n",
       "      <td>-500.220296</td>\n",
       "      <td>17.963512</td>\n",
       "      <td>-499.939490</td>\n",
       "      <td>12.990306</td>\n",
       "      <td>-500.080993</td>\n",
       "      <td>19.990336</td>\n",
       "      <td>-499.191575</td>\n",
       "    </tr>\n",
       "  </tbody>\n",
       "</table>\n",
       "<p>19439 rows × 87 columns</p>\n",
       "</div>"
      ],
      "text/plain": [
       "                      date  final.output.concentrate_ag  \\\n",
       "0      2016-01-15 00:00:00                     6.055403   \n",
       "1      2016-01-15 01:00:00                     6.029369   \n",
       "2      2016-01-15 02:00:00                     6.055926   \n",
       "3      2016-01-15 03:00:00                     6.047977   \n",
       "4      2016-01-15 04:00:00                     6.148599   \n",
       "...                    ...                          ...   \n",
       "19434  2018-08-18 06:59:59                     3.224920   \n",
       "19435  2018-08-18 07:59:59                     3.195978   \n",
       "19436  2018-08-18 08:59:59                     3.109998   \n",
       "19437  2018-08-18 09:59:59                     3.367241   \n",
       "19438  2018-08-18 10:59:59                     3.598375   \n",
       "\n",
       "       final.output.concentrate_pb  final.output.concentrate_sol  \\\n",
       "0                         9.889648                      5.507324   \n",
       "1                         9.968944                      5.257781   \n",
       "2                        10.213995                      5.383759   \n",
       "3                         9.977019                      4.858634   \n",
       "4                        10.142511                      4.939416   \n",
       "...                            ...                           ...   \n",
       "19434                    11.356233                      6.803482   \n",
       "19435                    11.349355                      6.862249   \n",
       "19436                    11.434366                      6.886013   \n",
       "19437                    11.625587                      6.799433   \n",
       "19438                    11.737832                      6.717509   \n",
       "\n",
       "       final.output.concentrate_au  final.output.recovery  \\\n",
       "0                        42.192020              70.541216   \n",
       "1                        42.701629              69.266198   \n",
       "2                        42.657501              68.116445   \n",
       "3                        42.689819              68.347543   \n",
       "4                        42.774141              66.927016   \n",
       "...                            ...                    ...   \n",
       "19434                    46.713954              73.755150   \n",
       "19435                    46.866780              69.049291   \n",
       "19436                    46.795691              67.002189   \n",
       "19437                    46.408188              65.523246   \n",
       "19438                    46.299438              70.281454   \n",
       "\n",
       "       final.output.tail_ag  final.output.tail_pb  final.output.tail_sol  \\\n",
       "0                 10.411962              0.895447              16.904297   \n",
       "1                 10.462676              0.927452              16.634514   \n",
       "2                 10.507046              0.953716              16.208849   \n",
       "3                 10.422762              0.883763              16.532835   \n",
       "4                 10.360302              0.792826              16.525686   \n",
       "...                     ...                   ...                    ...   \n",
       "19434              8.769645              3.141541              10.403181   \n",
       "19435              8.897321              3.130493              10.549470   \n",
       "19436              8.529606              2.911418              11.115147   \n",
       "19437              8.777171              2.819214              10.463847   \n",
       "19438              8.406690              2.517518              10.652193   \n",
       "\n",
       "       final.output.tail_au  ...  secondary_cleaner.state.floatbank4_a_air  \\\n",
       "0                  2.143149  ...                                 14.016835   \n",
       "1                  2.224930  ...                                 13.992281   \n",
       "2                  2.257889  ...                                 14.015015   \n",
       "3                  2.146849  ...                                 14.036510   \n",
       "4                  2.055292  ...                                 14.027298   \n",
       "...                     ...  ...                                       ...   \n",
       "19434              1.529220  ...                                 23.031497   \n",
       "19435              1.612542  ...                                 22.960095   \n",
       "19436              1.596616  ...                                 23.015718   \n",
       "19437              1.602879  ...                                 23.024963   \n",
       "19438              1.389434  ...                                 23.018622   \n",
       "\n",
       "       secondary_cleaner.state.floatbank4_a_level  \\\n",
       "0                                     -502.488007   \n",
       "1                                     -505.503262   \n",
       "2                                     -502.520901   \n",
       "3                                     -500.857308   \n",
       "4                                     -499.838632   \n",
       "...                                           ...   \n",
       "19434                                 -501.167942   \n",
       "19435                                 -501.612783   \n",
       "19436                                 -501.711599   \n",
       "19437                                 -501.153409   \n",
       "19438                                 -500.492702   \n",
       "\n",
       "       secondary_cleaner.state.floatbank4_b_air  \\\n",
       "0                                     12.099931   \n",
       "1                                     11.950531   \n",
       "2                                     11.912783   \n",
       "3                                     11.999550   \n",
       "4                                     11.953070   \n",
       "...                                         ...   \n",
       "19434                                 20.007571   \n",
       "19435                                 20.035660   \n",
       "19436                                 19.951231   \n",
       "19437                                 20.054122   \n",
       "19438                                 20.020205   \n",
       "\n",
       "       secondary_cleaner.state.floatbank4_b_level  \\\n",
       "0                                     -504.715942   \n",
       "1                                     -501.331529   \n",
       "2                                     -501.133383   \n",
       "3                                     -501.193686   \n",
       "4                                     -501.053894   \n",
       "...                                           ...   \n",
       "19434                                 -499.740028   \n",
       "19435                                 -500.251357   \n",
       "19436                                 -499.857027   \n",
       "19437                                 -500.314711   \n",
       "19438                                 -500.220296   \n",
       "\n",
       "       secondary_cleaner.state.floatbank5_a_air  \\\n",
       "0                                      9.925633   \n",
       "1                                     10.039245   \n",
       "2                                     10.070913   \n",
       "3                                      9.970366   \n",
       "4                                      9.925709   \n",
       "...                                         ...   \n",
       "19434                                 18.006038   \n",
       "19435                                 17.998535   \n",
       "19436                                 18.019543   \n",
       "19437                                 17.979515   \n",
       "19438                                 17.963512   \n",
       "\n",
       "       secondary_cleaner.state.floatbank5_a_level  \\\n",
       "0                                     -498.310211   \n",
       "1                                     -500.169983   \n",
       "2                                     -500.129135   \n",
       "3                                     -499.201640   \n",
       "4                                     -501.686727   \n",
       "...                                           ...   \n",
       "19434                                 -499.834374   \n",
       "19435                                 -500.395178   \n",
       "19436                                 -500.451156   \n",
       "19437                                 -499.272871   \n",
       "19438                                 -499.939490   \n",
       "\n",
       "       secondary_cleaner.state.floatbank5_b_air  \\\n",
       "0                                      8.079666   \n",
       "1                                      7.984757   \n",
       "2                                      8.013877   \n",
       "3                                      7.977324   \n",
       "4                                      7.894242   \n",
       "...                                         ...   \n",
       "19434                                 13.001114   \n",
       "19435                                 12.954048   \n",
       "19436                                 13.023431   \n",
       "19437                                 12.992404   \n",
       "19438                                 12.990306   \n",
       "\n",
       "       secondary_cleaner.state.floatbank5_b_level  \\\n",
       "0                                     -500.470978   \n",
       "1                                     -500.582168   \n",
       "2                                     -500.517572   \n",
       "3                                     -500.255908   \n",
       "4                                     -500.356035   \n",
       "...                                           ...   \n",
       "19434                                 -500.155694   \n",
       "19435                                 -499.895163   \n",
       "19436                                 -499.914391   \n",
       "19437                                 -499.976268   \n",
       "19438                                 -500.080993   \n",
       "\n",
       "       secondary_cleaner.state.floatbank6_a_air  \\\n",
       "0                                     14.151341   \n",
       "1                                     13.998353   \n",
       "2                                     14.028663   \n",
       "3                                     14.005551   \n",
       "4                                     13.996647   \n",
       "...                                         ...   \n",
       "19434                                 20.007840   \n",
       "19435                                 19.968498   \n",
       "19436                                 19.990885   \n",
       "19437                                 20.013986   \n",
       "19438                                 19.990336   \n",
       "\n",
       "       secondary_cleaner.state.floatbank6_a_level  \n",
       "0                                     -605.841980  \n",
       "1                                     -599.787184  \n",
       "2                                     -601.427363  \n",
       "3                                     -599.996129  \n",
       "4                                     -601.496691  \n",
       "...                                           ...  \n",
       "19434                                 -501.296428  \n",
       "19435                                 -501.041608  \n",
       "19436                                 -501.518452  \n",
       "19437                                 -500.625471  \n",
       "19438                                 -499.191575  \n",
       "\n",
       "[19439 rows x 87 columns]"
      ]
     },
     "metadata": {},
     "output_type": "display_data"
    }
   ],
   "source": [
    "data_full = pd.read_csv('/datasets/gold_recovery_full_new.csv')\n",
    "display(data_full)"
   ]
  },
  {
   "cell_type": "code",
   "execution_count": 5,
   "metadata": {},
   "outputs": [
    {
     "name": "stdout",
     "output_type": "stream",
     "text": [
      "<class 'pandas.core.frame.DataFrame'>\n",
      "RangeIndex: 5290 entries, 0 to 5289\n",
      "Data columns (total 53 columns):\n",
      " #   Column                                      Non-Null Count  Dtype  \n",
      "---  ------                                      --------------  -----  \n",
      " 0   date                                        5290 non-null   object \n",
      " 1   primary_cleaner.input.sulfate               5286 non-null   float64\n",
      " 2   primary_cleaner.input.depressant            5285 non-null   float64\n",
      " 3   primary_cleaner.input.feed_size             5290 non-null   float64\n",
      " 4   primary_cleaner.input.xanthate              5286 non-null   float64\n",
      " 5   primary_cleaner.state.floatbank8_a_air      5290 non-null   float64\n",
      " 6   primary_cleaner.state.floatbank8_a_level    5290 non-null   float64\n",
      " 7   primary_cleaner.state.floatbank8_b_air      5290 non-null   float64\n",
      " 8   primary_cleaner.state.floatbank8_b_level    5290 non-null   float64\n",
      " 9   primary_cleaner.state.floatbank8_c_air      5290 non-null   float64\n",
      " 10  primary_cleaner.state.floatbank8_c_level    5290 non-null   float64\n",
      " 11  primary_cleaner.state.floatbank8_d_air      5290 non-null   float64\n",
      " 12  primary_cleaner.state.floatbank8_d_level    5290 non-null   float64\n",
      " 13  rougher.input.feed_ag                       5290 non-null   float64\n",
      " 14  rougher.input.feed_pb                       5290 non-null   float64\n",
      " 15  rougher.input.feed_rate                     5287 non-null   float64\n",
      " 16  rougher.input.feed_size                     5289 non-null   float64\n",
      " 17  rougher.input.feed_sol                      5269 non-null   float64\n",
      " 18  rougher.input.feed_au                       5290 non-null   float64\n",
      " 19  rougher.input.floatbank10_sulfate           5285 non-null   float64\n",
      " 20  rougher.input.floatbank10_xanthate          5290 non-null   float64\n",
      " 21  rougher.input.floatbank11_sulfate           5282 non-null   float64\n",
      " 22  rougher.input.floatbank11_xanthate          5265 non-null   float64\n",
      " 23  rougher.state.floatbank10_a_air             5290 non-null   float64\n",
      " 24  rougher.state.floatbank10_a_level           5290 non-null   float64\n",
      " 25  rougher.state.floatbank10_b_air             5290 non-null   float64\n",
      " 26  rougher.state.floatbank10_b_level           5290 non-null   float64\n",
      " 27  rougher.state.floatbank10_c_air             5290 non-null   float64\n",
      " 28  rougher.state.floatbank10_c_level           5290 non-null   float64\n",
      " 29  rougher.state.floatbank10_d_air             5290 non-null   float64\n",
      " 30  rougher.state.floatbank10_d_level           5290 non-null   float64\n",
      " 31  rougher.state.floatbank10_e_air             5290 non-null   float64\n",
      " 32  rougher.state.floatbank10_e_level           5290 non-null   float64\n",
      " 33  rougher.state.floatbank10_f_air             5290 non-null   float64\n",
      " 34  rougher.state.floatbank10_f_level           5290 non-null   float64\n",
      " 35  secondary_cleaner.state.floatbank2_a_air    5287 non-null   float64\n",
      " 36  secondary_cleaner.state.floatbank2_a_level  5290 non-null   float64\n",
      " 37  secondary_cleaner.state.floatbank2_b_air    5288 non-null   float64\n",
      " 38  secondary_cleaner.state.floatbank2_b_level  5290 non-null   float64\n",
      " 39  secondary_cleaner.state.floatbank3_a_air    5281 non-null   float64\n",
      " 40  secondary_cleaner.state.floatbank3_a_level  5290 non-null   float64\n",
      " 41  secondary_cleaner.state.floatbank3_b_air    5290 non-null   float64\n",
      " 42  secondary_cleaner.state.floatbank3_b_level  5290 non-null   float64\n",
      " 43  secondary_cleaner.state.floatbank4_a_air    5290 non-null   float64\n",
      " 44  secondary_cleaner.state.floatbank4_a_level  5290 non-null   float64\n",
      " 45  secondary_cleaner.state.floatbank4_b_air    5290 non-null   float64\n",
      " 46  secondary_cleaner.state.floatbank4_b_level  5290 non-null   float64\n",
      " 47  secondary_cleaner.state.floatbank5_a_air    5290 non-null   float64\n",
      " 48  secondary_cleaner.state.floatbank5_a_level  5290 non-null   float64\n",
      " 49  secondary_cleaner.state.floatbank5_b_air    5290 non-null   float64\n",
      " 50  secondary_cleaner.state.floatbank5_b_level  5290 non-null   float64\n",
      " 51  secondary_cleaner.state.floatbank6_a_air    5290 non-null   float64\n",
      " 52  secondary_cleaner.state.floatbank6_a_level  5290 non-null   float64\n",
      "dtypes: float64(52), object(1)\n",
      "memory usage: 2.1+ MB\n"
     ]
    }
   ],
   "source": [
    "data_test.info()"
   ]
  },
  {
   "cell_type": "code",
   "execution_count": 6,
   "metadata": {
    "scrolled": true
   },
   "outputs": [
    {
     "name": "stdout",
     "output_type": "stream",
     "text": [
      "<class 'pandas.core.frame.DataFrame'>\n",
      "RangeIndex: 14149 entries, 0 to 14148\n",
      "Data columns (total 87 columns):\n",
      " #   Column                                              Non-Null Count  Dtype  \n",
      "---  ------                                              --------------  -----  \n",
      " 0   date                                                14149 non-null  object \n",
      " 1   final.output.concentrate_ag                         14148 non-null  float64\n",
      " 2   final.output.concentrate_pb                         14148 non-null  float64\n",
      " 3   final.output.concentrate_sol                        13938 non-null  float64\n",
      " 4   final.output.concentrate_au                         14149 non-null  float64\n",
      " 5   final.output.recovery                               14149 non-null  float64\n",
      " 6   final.output.tail_ag                                14149 non-null  float64\n",
      " 7   final.output.tail_pb                                14049 non-null  float64\n",
      " 8   final.output.tail_sol                               14144 non-null  float64\n",
      " 9   final.output.tail_au                                14149 non-null  float64\n",
      " 10  primary_cleaner.input.sulfate                       14129 non-null  float64\n",
      " 11  primary_cleaner.input.depressant                    14117 non-null  float64\n",
      " 12  primary_cleaner.input.feed_size                     14149 non-null  float64\n",
      " 13  primary_cleaner.input.xanthate                      14049 non-null  float64\n",
      " 14  primary_cleaner.output.concentrate_ag               14149 non-null  float64\n",
      " 15  primary_cleaner.output.concentrate_pb               14063 non-null  float64\n",
      " 16  primary_cleaner.output.concentrate_sol              13863 non-null  float64\n",
      " 17  primary_cleaner.output.concentrate_au               14149 non-null  float64\n",
      " 18  primary_cleaner.output.tail_ag                      14148 non-null  float64\n",
      " 19  primary_cleaner.output.tail_pb                      14134 non-null  float64\n",
      " 20  primary_cleaner.output.tail_sol                     14103 non-null  float64\n",
      " 21  primary_cleaner.output.tail_au                      14149 non-null  float64\n",
      " 22  primary_cleaner.state.floatbank8_a_air              14145 non-null  float64\n",
      " 23  primary_cleaner.state.floatbank8_a_level            14148 non-null  float64\n",
      " 24  primary_cleaner.state.floatbank8_b_air              14145 non-null  float64\n",
      " 25  primary_cleaner.state.floatbank8_b_level            14148 non-null  float64\n",
      " 26  primary_cleaner.state.floatbank8_c_air              14147 non-null  float64\n",
      " 27  primary_cleaner.state.floatbank8_c_level            14148 non-null  float64\n",
      " 28  primary_cleaner.state.floatbank8_d_air              14146 non-null  float64\n",
      " 29  primary_cleaner.state.floatbank8_d_level            14148 non-null  float64\n",
      " 30  rougher.calculation.sulfate_to_au_concentrate       14148 non-null  float64\n",
      " 31  rougher.calculation.floatbank10_sulfate_to_au_feed  14148 non-null  float64\n",
      " 32  rougher.calculation.floatbank11_sulfate_to_au_feed  14148 non-null  float64\n",
      " 33  rougher.calculation.au_pb_ratio                     14149 non-null  float64\n",
      " 34  rougher.input.feed_ag                               14149 non-null  float64\n",
      " 35  rougher.input.feed_pb                               14049 non-null  float64\n",
      " 36  rougher.input.feed_rate                             14141 non-null  float64\n",
      " 37  rougher.input.feed_size                             14005 non-null  float64\n",
      " 38  rougher.input.feed_sol                              14071 non-null  float64\n",
      " 39  rougher.input.feed_au                               14149 non-null  float64\n",
      " 40  rougher.input.floatbank10_sulfate                   14120 non-null  float64\n",
      " 41  rougher.input.floatbank10_xanthate                  14141 non-null  float64\n",
      " 42  rougher.input.floatbank11_sulfate                   14113 non-null  float64\n",
      " 43  rougher.input.floatbank11_xanthate                  13721 non-null  float64\n",
      " 44  rougher.output.concentrate_ag                       14149 non-null  float64\n",
      " 45  rougher.output.concentrate_pb                       14149 non-null  float64\n",
      " 46  rougher.output.concentrate_sol                      14127 non-null  float64\n",
      " 47  rougher.output.concentrate_au                       14149 non-null  float64\n",
      " 48  rougher.output.recovery                             14149 non-null  float64\n",
      " 49  rougher.output.tail_ag                              14148 non-null  float64\n",
      " 50  rougher.output.tail_pb                              14149 non-null  float64\n",
      " 51  rougher.output.tail_sol                             14149 non-null  float64\n",
      " 52  rougher.output.tail_au                              14149 non-null  float64\n",
      " 53  rougher.state.floatbank10_a_air                     14148 non-null  float64\n",
      " 54  rougher.state.floatbank10_a_level                   14148 non-null  float64\n",
      " 55  rougher.state.floatbank10_b_air                     14148 non-null  float64\n",
      " 56  rougher.state.floatbank10_b_level                   14148 non-null  float64\n",
      " 57  rougher.state.floatbank10_c_air                     14148 non-null  float64\n",
      " 58  rougher.state.floatbank10_c_level                   14148 non-null  float64\n",
      " 59  rougher.state.floatbank10_d_air                     14149 non-null  float64\n",
      " 60  rougher.state.floatbank10_d_level                   14149 non-null  float64\n",
      " 61  rougher.state.floatbank10_e_air                     13713 non-null  float64\n",
      " 62  rougher.state.floatbank10_e_level                   14149 non-null  float64\n",
      " 63  rougher.state.floatbank10_f_air                     14149 non-null  float64\n",
      " 64  rougher.state.floatbank10_f_level                   14149 non-null  float64\n",
      " 65  secondary_cleaner.output.tail_ag                    14147 non-null  float64\n",
      " 66  secondary_cleaner.output.tail_pb                    14139 non-null  float64\n",
      " 67  secondary_cleaner.output.tail_sol                   12544 non-null  float64\n",
      " 68  secondary_cleaner.output.tail_au                    14149 non-null  float64\n",
      " 69  secondary_cleaner.state.floatbank2_a_air            13932 non-null  float64\n",
      " 70  secondary_cleaner.state.floatbank2_a_level          14148 non-null  float64\n",
      " 71  secondary_cleaner.state.floatbank2_b_air            14128 non-null  float64\n",
      " 72  secondary_cleaner.state.floatbank2_b_level          14148 non-null  float64\n",
      " 73  secondary_cleaner.state.floatbank3_a_air            14145 non-null  float64\n",
      " 74  secondary_cleaner.state.floatbank3_a_level          14148 non-null  float64\n",
      " 75  secondary_cleaner.state.floatbank3_b_air            14148 non-null  float64\n",
      " 76  secondary_cleaner.state.floatbank3_b_level          14148 non-null  float64\n",
      " 77  secondary_cleaner.state.floatbank4_a_air            14143 non-null  float64\n",
      " 78  secondary_cleaner.state.floatbank4_a_level          14148 non-null  float64\n",
      " 79  secondary_cleaner.state.floatbank4_b_air            14148 non-null  float64\n",
      " 80  secondary_cleaner.state.floatbank4_b_level          14148 non-null  float64\n",
      " 81  secondary_cleaner.state.floatbank5_a_air            14148 non-null  float64\n",
      " 82  secondary_cleaner.state.floatbank5_a_level          14148 non-null  float64\n",
      " 83  secondary_cleaner.state.floatbank5_b_air            14148 non-null  float64\n",
      " 84  secondary_cleaner.state.floatbank5_b_level          14148 non-null  float64\n",
      " 85  secondary_cleaner.state.floatbank6_a_air            14147 non-null  float64\n",
      " 86  secondary_cleaner.state.floatbank6_a_level          14148 non-null  float64\n",
      "dtypes: float64(86), object(1)\n",
      "memory usage: 9.4+ MB\n"
     ]
    }
   ],
   "source": [
    "data_train.info()"
   ]
  },
  {
   "cell_type": "code",
   "execution_count": 7,
   "metadata": {
    "scrolled": true
   },
   "outputs": [
    {
     "name": "stdout",
     "output_type": "stream",
     "text": [
      "<class 'pandas.core.frame.DataFrame'>\n",
      "RangeIndex: 19439 entries, 0 to 19438\n",
      "Data columns (total 87 columns):\n",
      " #   Column                                              Non-Null Count  Dtype  \n",
      "---  ------                                              --------------  -----  \n",
      " 0   date                                                19439 non-null  object \n",
      " 1   final.output.concentrate_ag                         19438 non-null  float64\n",
      " 2   final.output.concentrate_pb                         19438 non-null  float64\n",
      " 3   final.output.concentrate_sol                        19228 non-null  float64\n",
      " 4   final.output.concentrate_au                         19439 non-null  float64\n",
      " 5   final.output.recovery                               19439 non-null  float64\n",
      " 6   final.output.tail_ag                                19438 non-null  float64\n",
      " 7   final.output.tail_pb                                19338 non-null  float64\n",
      " 8   final.output.tail_sol                               19433 non-null  float64\n",
      " 9   final.output.tail_au                                19439 non-null  float64\n",
      " 10  primary_cleaner.input.sulfate                       19415 non-null  float64\n",
      " 11  primary_cleaner.input.depressant                    19402 non-null  float64\n",
      " 12  primary_cleaner.input.feed_size                     19439 non-null  float64\n",
      " 13  primary_cleaner.input.xanthate                      19335 non-null  float64\n",
      " 14  primary_cleaner.output.concentrate_ag               19439 non-null  float64\n",
      " 15  primary_cleaner.output.concentrate_pb               19323 non-null  float64\n",
      " 16  primary_cleaner.output.concentrate_sol              19069 non-null  float64\n",
      " 17  primary_cleaner.output.concentrate_au               19439 non-null  float64\n",
      " 18  primary_cleaner.output.tail_ag                      19435 non-null  float64\n",
      " 19  primary_cleaner.output.tail_pb                      19418 non-null  float64\n",
      " 20  primary_cleaner.output.tail_sol                     19377 non-null  float64\n",
      " 21  primary_cleaner.output.tail_au                      19439 non-null  float64\n",
      " 22  primary_cleaner.state.floatbank8_a_air              19435 non-null  float64\n",
      " 23  primary_cleaner.state.floatbank8_a_level            19438 non-null  float64\n",
      " 24  primary_cleaner.state.floatbank8_b_air              19435 non-null  float64\n",
      " 25  primary_cleaner.state.floatbank8_b_level            19438 non-null  float64\n",
      " 26  primary_cleaner.state.floatbank8_c_air              19437 non-null  float64\n",
      " 27  primary_cleaner.state.floatbank8_c_level            19438 non-null  float64\n",
      " 28  primary_cleaner.state.floatbank8_d_air              19436 non-null  float64\n",
      " 29  primary_cleaner.state.floatbank8_d_level            19438 non-null  float64\n",
      " 30  rougher.calculation.sulfate_to_au_concentrate       19437 non-null  float64\n",
      " 31  rougher.calculation.floatbank10_sulfate_to_au_feed  19437 non-null  float64\n",
      " 32  rougher.calculation.floatbank11_sulfate_to_au_feed  19437 non-null  float64\n",
      " 33  rougher.calculation.au_pb_ratio                     19439 non-null  float64\n",
      " 34  rougher.input.feed_ag                               19439 non-null  float64\n",
      " 35  rougher.input.feed_pb                               19339 non-null  float64\n",
      " 36  rougher.input.feed_rate                             19428 non-null  float64\n",
      " 37  rougher.input.feed_size                             19294 non-null  float64\n",
      " 38  rougher.input.feed_sol                              19340 non-null  float64\n",
      " 39  rougher.input.feed_au                               19439 non-null  float64\n",
      " 40  rougher.input.floatbank10_sulfate                   19405 non-null  float64\n",
      " 41  rougher.input.floatbank10_xanthate                  19431 non-null  float64\n",
      " 42  rougher.input.floatbank11_sulfate                   19395 non-null  float64\n",
      " 43  rougher.input.floatbank11_xanthate                  18986 non-null  float64\n",
      " 44  rougher.output.concentrate_ag                       19439 non-null  float64\n",
      " 45  rougher.output.concentrate_pb                       19439 non-null  float64\n",
      " 46  rougher.output.concentrate_sol                      19416 non-null  float64\n",
      " 47  rougher.output.concentrate_au                       19439 non-null  float64\n",
      " 48  rougher.output.recovery                             19439 non-null  float64\n",
      " 49  rougher.output.tail_ag                              19438 non-null  float64\n",
      " 50  rougher.output.tail_pb                              19439 non-null  float64\n",
      " 51  rougher.output.tail_sol                             19439 non-null  float64\n",
      " 52  rougher.output.tail_au                              19439 non-null  float64\n",
      " 53  rougher.state.floatbank10_a_air                     19438 non-null  float64\n",
      " 54  rougher.state.floatbank10_a_level                   19438 non-null  float64\n",
      " 55  rougher.state.floatbank10_b_air                     19438 non-null  float64\n",
      " 56  rougher.state.floatbank10_b_level                   19438 non-null  float64\n",
      " 57  rougher.state.floatbank10_c_air                     19438 non-null  float64\n",
      " 58  rougher.state.floatbank10_c_level                   19438 non-null  float64\n",
      " 59  rougher.state.floatbank10_d_air                     19439 non-null  float64\n",
      " 60  rougher.state.floatbank10_d_level                   19439 non-null  float64\n",
      " 61  rougher.state.floatbank10_e_air                     19003 non-null  float64\n",
      " 62  rougher.state.floatbank10_e_level                   19439 non-null  float64\n",
      " 63  rougher.state.floatbank10_f_air                     19439 non-null  float64\n",
      " 64  rougher.state.floatbank10_f_level                   19439 non-null  float64\n",
      " 65  secondary_cleaner.output.tail_ag                    19437 non-null  float64\n",
      " 66  secondary_cleaner.output.tail_pb                    19427 non-null  float64\n",
      " 67  secondary_cleaner.output.tail_sol                   17691 non-null  float64\n",
      " 68  secondary_cleaner.output.tail_au                    19439 non-null  float64\n",
      " 69  secondary_cleaner.state.floatbank2_a_air            19219 non-null  float64\n",
      " 70  secondary_cleaner.state.floatbank2_a_level          19438 non-null  float64\n",
      " 71  secondary_cleaner.state.floatbank2_b_air            19416 non-null  float64\n",
      " 72  secondary_cleaner.state.floatbank2_b_level          19438 non-null  float64\n",
      " 73  secondary_cleaner.state.floatbank3_a_air            19426 non-null  float64\n",
      " 74  secondary_cleaner.state.floatbank3_a_level          19438 non-null  float64\n",
      " 75  secondary_cleaner.state.floatbank3_b_air            19438 non-null  float64\n",
      " 76  secondary_cleaner.state.floatbank3_b_level          19438 non-null  float64\n",
      " 77  secondary_cleaner.state.floatbank4_a_air            19433 non-null  float64\n",
      " 78  secondary_cleaner.state.floatbank4_a_level          19438 non-null  float64\n",
      " 79  secondary_cleaner.state.floatbank4_b_air            19438 non-null  float64\n",
      " 80  secondary_cleaner.state.floatbank4_b_level          19438 non-null  float64\n",
      " 81  secondary_cleaner.state.floatbank5_a_air            19438 non-null  float64\n",
      " 82  secondary_cleaner.state.floatbank5_a_level          19438 non-null  float64\n",
      " 83  secondary_cleaner.state.floatbank5_b_air            19438 non-null  float64\n",
      " 84  secondary_cleaner.state.floatbank5_b_level          19438 non-null  float64\n",
      " 85  secondary_cleaner.state.floatbank6_a_air            19437 non-null  float64\n",
      " 86  secondary_cleaner.state.floatbank6_a_level          19438 non-null  float64\n",
      "dtypes: float64(86), object(1)\n",
      "memory usage: 12.9+ MB\n"
     ]
    }
   ],
   "source": [
    "data_full.info()"
   ]
  },
  {
   "cell_type": "markdown",
   "metadata": {},
   "source": [
    "В задании: \"Из-за этого в тестовой выборке отсутствуют некоторые признаки, которые могут быть в обучающей. Также в тестовом наборе нет целевых признаков. Исходный датасет содержит обучающую и тестовую выборки со всеми признаками.\"     "
   ]
  },
  {
   "cell_type": "markdown",
   "metadata": {},
   "source": [
    "Наши таргеты:  \n",
    "эффективность обогащения чернового концентрата rougher.output.recovery;  \n",
    "эффективность обогащения финального концентрата final.output.recovery."
   ]
  },
  {
   "cell_type": "markdown",
   "metadata": {},
   "source": [
    "**Задание 1.2.** Проверьте, что эффективность обогащения рассчитана правильно. Вычислите её на обучающей выборке для признака rougher.output.recovery. Найдите MAE между вашими расчётами и значением признака. Опишите выводы. \n",
    "\n",
    "\n",
    "С - 'rougher.output.concentrate_au'\n",
    "F - 'rougher.input.feed_au'\n",
    "T - 'rougher.output.tail_au'"
   ]
  },
  {
   "cell_type": "code",
   "execution_count": 8,
   "metadata": {},
   "outputs": [
    {
     "name": "stdout",
     "output_type": "stream",
     "text": [
      "0        87.107763\n",
      "1        86.843261\n",
      "2        86.842308\n",
      "3        87.226430\n",
      "4        86.688794\n",
      "           ...    \n",
      "14144    89.574376\n",
      "14145    87.724007\n",
      "14146    88.890579\n",
      "14147    89.858126\n",
      "14148    89.514960\n",
      "Length: 14149, dtype: float64\n"
     ]
    }
   ],
   "source": [
    "check_recovery = ((data_train['rougher.output.concentrate_au'] * (data_train['rougher.input.feed_au'] - data_train['rougher.output.tail_au']))\n",
    "                                                              / (data_train['rougher.input.feed_au'] * (data_train['rougher.output.concentrate_au'] - data_train['rougher.output.tail_au']))) * 100\n",
    "print(check_recovery)"
   ]
  },
  {
   "cell_type": "code",
   "execution_count": 9,
   "metadata": {},
   "outputs": [
    {
     "name": "stdout",
     "output_type": "stream",
     "text": [
      "1.0176144833511667e-14\n"
     ]
    }
   ],
   "source": [
    "target = check_recovery\n",
    "features =  pd.DataFrame(data=data_train, columns=['rougher.output.recovery'])\n",
    "features_train, features_valid, target_train, target_valid = train_test_split(\n",
    "    features, target, test_size=0.25, random_state=12345)\n",
    "\n",
    "model = LinearRegression()\n",
    "model.fit(features_train, target_train)\n",
    "predicted_valid = model.predict(features_valid)\n",
    "\n",
    "print(mean_absolute_error(target_valid, predicted_valid))"
   ]
  },
  {
   "cell_type": "markdown",
   "metadata": {},
   "source": [
    "Вывод: Мы видим, что \"Средняя абсолютная ошибка\" стремится к нулю, а значит эффективность обогащения рассчитана правильно."
   ]
  },
  {
   "cell_type": "markdown",
   "metadata": {},
   "source": [
    "**Задание 1.3.** Проанализируйте признаки, недоступные в тестовой выборке. Что это за параметры? К какому типу относятся?"
   ]
  },
  {
   "cell_type": "code",
   "execution_count": 10,
   "metadata": {
    "scrolled": true
   },
   "outputs": [
    {
     "data": {
      "text/plain": [
       "['date',\n",
       " 'final.output.concentrate_ag',\n",
       " 'final.output.concentrate_pb',\n",
       " 'final.output.concentrate_sol',\n",
       " 'final.output.concentrate_au',\n",
       " 'final.output.recovery',\n",
       " 'final.output.tail_ag',\n",
       " 'final.output.tail_pb',\n",
       " 'final.output.tail_sol',\n",
       " 'final.output.tail_au',\n",
       " 'primary_cleaner.input.sulfate',\n",
       " 'primary_cleaner.input.depressant',\n",
       " 'primary_cleaner.input.feed_size',\n",
       " 'primary_cleaner.input.xanthate',\n",
       " 'primary_cleaner.output.concentrate_ag',\n",
       " 'primary_cleaner.output.concentrate_pb',\n",
       " 'primary_cleaner.output.concentrate_sol',\n",
       " 'primary_cleaner.output.concentrate_au',\n",
       " 'primary_cleaner.output.tail_ag',\n",
       " 'primary_cleaner.output.tail_pb',\n",
       " 'primary_cleaner.output.tail_sol',\n",
       " 'primary_cleaner.output.tail_au',\n",
       " 'primary_cleaner.state.floatbank8_a_air',\n",
       " 'primary_cleaner.state.floatbank8_a_level',\n",
       " 'primary_cleaner.state.floatbank8_b_air',\n",
       " 'primary_cleaner.state.floatbank8_b_level',\n",
       " 'primary_cleaner.state.floatbank8_c_air',\n",
       " 'primary_cleaner.state.floatbank8_c_level',\n",
       " 'primary_cleaner.state.floatbank8_d_air',\n",
       " 'primary_cleaner.state.floatbank8_d_level',\n",
       " 'rougher.calculation.sulfate_to_au_concentrate',\n",
       " 'rougher.calculation.floatbank10_sulfate_to_au_feed',\n",
       " 'rougher.calculation.floatbank11_sulfate_to_au_feed',\n",
       " 'rougher.calculation.au_pb_ratio',\n",
       " 'rougher.input.feed_ag',\n",
       " 'rougher.input.feed_pb',\n",
       " 'rougher.input.feed_rate',\n",
       " 'rougher.input.feed_size',\n",
       " 'rougher.input.feed_sol',\n",
       " 'rougher.input.feed_au',\n",
       " 'rougher.input.floatbank10_sulfate',\n",
       " 'rougher.input.floatbank10_xanthate',\n",
       " 'rougher.input.floatbank11_sulfate',\n",
       " 'rougher.input.floatbank11_xanthate',\n",
       " 'rougher.output.concentrate_ag',\n",
       " 'rougher.output.concentrate_pb',\n",
       " 'rougher.output.concentrate_sol',\n",
       " 'rougher.output.concentrate_au',\n",
       " 'rougher.output.recovery',\n",
       " 'rougher.output.tail_ag',\n",
       " 'rougher.output.tail_pb',\n",
       " 'rougher.output.tail_sol',\n",
       " 'rougher.output.tail_au',\n",
       " 'rougher.state.floatbank10_a_air',\n",
       " 'rougher.state.floatbank10_a_level',\n",
       " 'rougher.state.floatbank10_b_air',\n",
       " 'rougher.state.floatbank10_b_level',\n",
       " 'rougher.state.floatbank10_c_air',\n",
       " 'rougher.state.floatbank10_c_level',\n",
       " 'rougher.state.floatbank10_d_air',\n",
       " 'rougher.state.floatbank10_d_level',\n",
       " 'rougher.state.floatbank10_e_air',\n",
       " 'rougher.state.floatbank10_e_level',\n",
       " 'rougher.state.floatbank10_f_air',\n",
       " 'rougher.state.floatbank10_f_level',\n",
       " 'secondary_cleaner.output.tail_ag',\n",
       " 'secondary_cleaner.output.tail_pb',\n",
       " 'secondary_cleaner.output.tail_sol',\n",
       " 'secondary_cleaner.output.tail_au',\n",
       " 'secondary_cleaner.state.floatbank2_a_air',\n",
       " 'secondary_cleaner.state.floatbank2_a_level',\n",
       " 'secondary_cleaner.state.floatbank2_b_air',\n",
       " 'secondary_cleaner.state.floatbank2_b_level',\n",
       " 'secondary_cleaner.state.floatbank3_a_air',\n",
       " 'secondary_cleaner.state.floatbank3_a_level',\n",
       " 'secondary_cleaner.state.floatbank3_b_air',\n",
       " 'secondary_cleaner.state.floatbank3_b_level',\n",
       " 'secondary_cleaner.state.floatbank4_a_air',\n",
       " 'secondary_cleaner.state.floatbank4_a_level',\n",
       " 'secondary_cleaner.state.floatbank4_b_air',\n",
       " 'secondary_cleaner.state.floatbank4_b_level',\n",
       " 'secondary_cleaner.state.floatbank5_a_air',\n",
       " 'secondary_cleaner.state.floatbank5_a_level',\n",
       " 'secondary_cleaner.state.floatbank5_b_air',\n",
       " 'secondary_cleaner.state.floatbank5_b_level',\n",
       " 'secondary_cleaner.state.floatbank6_a_air',\n",
       " 'secondary_cleaner.state.floatbank6_a_level']"
      ]
     },
     "execution_count": 10,
     "metadata": {},
     "output_type": "execute_result"
    }
   ],
   "source": [
    " data_full.columns.tolist()"
   ]
  },
  {
   "cell_type": "code",
   "execution_count": 11,
   "metadata": {},
   "outputs": [
    {
     "data": {
      "text/plain": [
       "['date',\n",
       " 'primary_cleaner.input.sulfate',\n",
       " 'primary_cleaner.input.depressant',\n",
       " 'primary_cleaner.input.feed_size',\n",
       " 'primary_cleaner.input.xanthate',\n",
       " 'primary_cleaner.state.floatbank8_a_air',\n",
       " 'primary_cleaner.state.floatbank8_a_level',\n",
       " 'primary_cleaner.state.floatbank8_b_air',\n",
       " 'primary_cleaner.state.floatbank8_b_level',\n",
       " 'primary_cleaner.state.floatbank8_c_air',\n",
       " 'primary_cleaner.state.floatbank8_c_level',\n",
       " 'primary_cleaner.state.floatbank8_d_air',\n",
       " 'primary_cleaner.state.floatbank8_d_level',\n",
       " 'rougher.input.feed_ag',\n",
       " 'rougher.input.feed_pb',\n",
       " 'rougher.input.feed_rate',\n",
       " 'rougher.input.feed_size',\n",
       " 'rougher.input.feed_sol',\n",
       " 'rougher.input.feed_au',\n",
       " 'rougher.input.floatbank10_sulfate',\n",
       " 'rougher.input.floatbank10_xanthate',\n",
       " 'rougher.input.floatbank11_sulfate',\n",
       " 'rougher.input.floatbank11_xanthate',\n",
       " 'rougher.state.floatbank10_a_air',\n",
       " 'rougher.state.floatbank10_a_level',\n",
       " 'rougher.state.floatbank10_b_air',\n",
       " 'rougher.state.floatbank10_b_level',\n",
       " 'rougher.state.floatbank10_c_air',\n",
       " 'rougher.state.floatbank10_c_level',\n",
       " 'rougher.state.floatbank10_d_air',\n",
       " 'rougher.state.floatbank10_d_level',\n",
       " 'rougher.state.floatbank10_e_air',\n",
       " 'rougher.state.floatbank10_e_level',\n",
       " 'rougher.state.floatbank10_f_air',\n",
       " 'rougher.state.floatbank10_f_level',\n",
       " 'secondary_cleaner.state.floatbank2_a_air',\n",
       " 'secondary_cleaner.state.floatbank2_a_level',\n",
       " 'secondary_cleaner.state.floatbank2_b_air',\n",
       " 'secondary_cleaner.state.floatbank2_b_level',\n",
       " 'secondary_cleaner.state.floatbank3_a_air',\n",
       " 'secondary_cleaner.state.floatbank3_a_level',\n",
       " 'secondary_cleaner.state.floatbank3_b_air',\n",
       " 'secondary_cleaner.state.floatbank3_b_level',\n",
       " 'secondary_cleaner.state.floatbank4_a_air',\n",
       " 'secondary_cleaner.state.floatbank4_a_level',\n",
       " 'secondary_cleaner.state.floatbank4_b_air',\n",
       " 'secondary_cleaner.state.floatbank4_b_level',\n",
       " 'secondary_cleaner.state.floatbank5_a_air',\n",
       " 'secondary_cleaner.state.floatbank5_a_level',\n",
       " 'secondary_cleaner.state.floatbank5_b_air',\n",
       " 'secondary_cleaner.state.floatbank5_b_level',\n",
       " 'secondary_cleaner.state.floatbank6_a_air',\n",
       " 'secondary_cleaner.state.floatbank6_a_level']"
      ]
     },
     "execution_count": 11,
     "metadata": {},
     "output_type": "execute_result"
    }
   ],
   "source": [
    " data_test.columns.tolist()"
   ]
  },
  {
   "cell_type": "markdown",
   "metadata": {},
   "source": [
    "В тестовой выборке у нас отсутсвуют финальные параметры продукта (final.output.), парметры продукта после флотации (rougher.output.) и расчетные характеристики флотации (rougher.calculation.), т.к \"Некоторые параметры недоступны, потому что замеряются и/или рассчитываются значительно позже\". А все те признаки, которые есть в тесте, они будут доступны в продакшене.  \n",
    "Получается модель нужно будет обучать по тем признакам, которые есть в тесте, а значит при обучении модели, часть признаков из трейна надо будет убрать. Но в тест нам надо добавить как раз только таргенты (rougher.output.recovery и final.output.recovery), чтобы измерить качество работы модели. "
   ]
  },
  {
   "cell_type": "markdown",
   "metadata": {},
   "source": [
    "Уберем сразу признаки, которые лишние из трейна. А к тесту добавим таргеты.  \n",
    "Но сначала избавимся от пропусков, так как по условию написано что соседние данные похожи, то используем \"ffill\"."
   ]
  },
  {
   "cell_type": "code",
   "execution_count": 12,
   "metadata": {},
   "outputs": [
    {
     "data": {
      "text/plain": [
       "date                                           0\n",
       "primary_cleaner.input.sulfate                  4\n",
       "primary_cleaner.input.depressant               5\n",
       "primary_cleaner.input.feed_size                0\n",
       "primary_cleaner.input.xanthate                 4\n",
       "primary_cleaner.state.floatbank8_a_air         0\n",
       "primary_cleaner.state.floatbank8_a_level       0\n",
       "primary_cleaner.state.floatbank8_b_air         0\n",
       "primary_cleaner.state.floatbank8_b_level       0\n",
       "primary_cleaner.state.floatbank8_c_air         0\n",
       "primary_cleaner.state.floatbank8_c_level       0\n",
       "primary_cleaner.state.floatbank8_d_air         0\n",
       "primary_cleaner.state.floatbank8_d_level       0\n",
       "rougher.input.feed_ag                          0\n",
       "rougher.input.feed_pb                          0\n",
       "rougher.input.feed_rate                        3\n",
       "rougher.input.feed_size                        1\n",
       "rougher.input.feed_sol                        21\n",
       "rougher.input.feed_au                          0\n",
       "rougher.input.floatbank10_sulfate              5\n",
       "rougher.input.floatbank10_xanthate             0\n",
       "rougher.input.floatbank11_sulfate              8\n",
       "rougher.input.floatbank11_xanthate            25\n",
       "rougher.state.floatbank10_a_air                0\n",
       "rougher.state.floatbank10_a_level              0\n",
       "rougher.state.floatbank10_b_air                0\n",
       "rougher.state.floatbank10_b_level              0\n",
       "rougher.state.floatbank10_c_air                0\n",
       "rougher.state.floatbank10_c_level              0\n",
       "rougher.state.floatbank10_d_air                0\n",
       "rougher.state.floatbank10_d_level              0\n",
       "rougher.state.floatbank10_e_air                0\n",
       "rougher.state.floatbank10_e_level              0\n",
       "rougher.state.floatbank10_f_air                0\n",
       "rougher.state.floatbank10_f_level              0\n",
       "secondary_cleaner.state.floatbank2_a_air       3\n",
       "secondary_cleaner.state.floatbank2_a_level     0\n",
       "secondary_cleaner.state.floatbank2_b_air       2\n",
       "secondary_cleaner.state.floatbank2_b_level     0\n",
       "secondary_cleaner.state.floatbank3_a_air       9\n",
       "secondary_cleaner.state.floatbank3_a_level     0\n",
       "secondary_cleaner.state.floatbank3_b_air       0\n",
       "secondary_cleaner.state.floatbank3_b_level     0\n",
       "secondary_cleaner.state.floatbank4_a_air       0\n",
       "secondary_cleaner.state.floatbank4_a_level     0\n",
       "secondary_cleaner.state.floatbank4_b_air       0\n",
       "secondary_cleaner.state.floatbank4_b_level     0\n",
       "secondary_cleaner.state.floatbank5_a_air       0\n",
       "secondary_cleaner.state.floatbank5_a_level     0\n",
       "secondary_cleaner.state.floatbank5_b_air       0\n",
       "secondary_cleaner.state.floatbank5_b_level     0\n",
       "secondary_cleaner.state.floatbank6_a_air       0\n",
       "secondary_cleaner.state.floatbank6_a_level     0\n",
       "dtype: int64"
      ]
     },
     "execution_count": 12,
     "metadata": {},
     "output_type": "execute_result"
    }
   ],
   "source": [
    "data_test.isna().sum()"
   ]
  },
  {
   "cell_type": "code",
   "execution_count": 13,
   "metadata": {},
   "outputs": [
    {
     "name": "stdout",
     "output_type": "stream",
     "text": [
      "(5290, 53)\n"
     ]
    }
   ],
   "source": [
    "print(data_test.shape)"
   ]
  },
  {
   "cell_type": "code",
   "execution_count": 14,
   "metadata": {},
   "outputs": [
    {
     "name": "stdout",
     "output_type": "stream",
     "text": [
      "date                                          0\n",
      "primary_cleaner.input.sulfate                 0\n",
      "primary_cleaner.input.depressant              0\n",
      "primary_cleaner.input.feed_size               0\n",
      "primary_cleaner.input.xanthate                0\n",
      "primary_cleaner.state.floatbank8_a_air        0\n",
      "primary_cleaner.state.floatbank8_a_level      0\n",
      "primary_cleaner.state.floatbank8_b_air        0\n",
      "primary_cleaner.state.floatbank8_b_level      0\n",
      "primary_cleaner.state.floatbank8_c_air        0\n",
      "primary_cleaner.state.floatbank8_c_level      0\n",
      "primary_cleaner.state.floatbank8_d_air        0\n",
      "primary_cleaner.state.floatbank8_d_level      0\n",
      "rougher.input.feed_ag                         0\n",
      "rougher.input.feed_pb                         0\n",
      "rougher.input.feed_rate                       0\n",
      "rougher.input.feed_size                       0\n",
      "rougher.input.feed_sol                        0\n",
      "rougher.input.feed_au                         0\n",
      "rougher.input.floatbank10_sulfate             0\n",
      "rougher.input.floatbank10_xanthate            0\n",
      "rougher.input.floatbank11_sulfate             0\n",
      "rougher.input.floatbank11_xanthate            0\n",
      "rougher.state.floatbank10_a_air               0\n",
      "rougher.state.floatbank10_a_level             0\n",
      "rougher.state.floatbank10_b_air               0\n",
      "rougher.state.floatbank10_b_level             0\n",
      "rougher.state.floatbank10_c_air               0\n",
      "rougher.state.floatbank10_c_level             0\n",
      "rougher.state.floatbank10_d_air               0\n",
      "rougher.state.floatbank10_d_level             0\n",
      "rougher.state.floatbank10_e_air               0\n",
      "rougher.state.floatbank10_e_level             0\n",
      "rougher.state.floatbank10_f_air               0\n",
      "rougher.state.floatbank10_f_level             0\n",
      "secondary_cleaner.state.floatbank2_a_air      0\n",
      "secondary_cleaner.state.floatbank2_a_level    0\n",
      "secondary_cleaner.state.floatbank2_b_air      0\n",
      "secondary_cleaner.state.floatbank2_b_level    0\n",
      "secondary_cleaner.state.floatbank3_a_air      0\n",
      "secondary_cleaner.state.floatbank3_a_level    0\n",
      "secondary_cleaner.state.floatbank3_b_air      0\n",
      "secondary_cleaner.state.floatbank3_b_level    0\n",
      "secondary_cleaner.state.floatbank4_a_air      0\n",
      "secondary_cleaner.state.floatbank4_a_level    0\n",
      "secondary_cleaner.state.floatbank4_b_air      0\n",
      "secondary_cleaner.state.floatbank4_b_level    0\n",
      "secondary_cleaner.state.floatbank5_a_air      0\n",
      "secondary_cleaner.state.floatbank5_a_level    0\n",
      "secondary_cleaner.state.floatbank5_b_air      0\n",
      "secondary_cleaner.state.floatbank5_b_level    0\n",
      "secondary_cleaner.state.floatbank6_a_air      0\n",
      "secondary_cleaner.state.floatbank6_a_level    0\n",
      "dtype: int64\n"
     ]
    }
   ],
   "source": [
    "data_test = data_test.ffill(axis = 0)\n",
    "print(data_test.isna().sum())"
   ]
  },
  {
   "cell_type": "code",
   "execution_count": 15,
   "metadata": {},
   "outputs": [
    {
     "name": "stdout",
     "output_type": "stream",
     "text": [
      "date                                          0\n",
      "final.output.concentrate_ag                   0\n",
      "final.output.concentrate_pb                   0\n",
      "final.output.concentrate_sol                  0\n",
      "final.output.concentrate_au                   0\n",
      "                                             ..\n",
      "secondary_cleaner.state.floatbank5_a_level    0\n",
      "secondary_cleaner.state.floatbank5_b_air      0\n",
      "secondary_cleaner.state.floatbank5_b_level    0\n",
      "secondary_cleaner.state.floatbank6_a_air      0\n",
      "secondary_cleaner.state.floatbank6_a_level    0\n",
      "Length: 87, dtype: int64\n"
     ]
    }
   ],
   "source": [
    "data_train = data_train.ffill(axis = 0)\n",
    "print(data_train.isna().sum())"
   ]
  },
  {
   "cell_type": "code",
   "execution_count": 16,
   "metadata": {},
   "outputs": [],
   "source": [
    "#сначала добавим к тесту таргеты из полного датасета\n",
    "data_test = data_test.merge(data_full[['date', 'rougher.output.recovery', 'final.output.recovery']], on='date', how='left')"
   ]
  },
  {
   "cell_type": "code",
   "execution_count": 17,
   "metadata": {},
   "outputs": [
    {
     "name": "stdout",
     "output_type": "stream",
     "text": [
      "(5290, 55)\n"
     ]
    }
   ],
   "source": [
    "print(data_test.shape)"
   ]
  },
  {
   "cell_type": "code",
   "execution_count": 18,
   "metadata": {},
   "outputs": [
    {
     "name": "stdout",
     "output_type": "stream",
     "text": [
      "<class 'pandas.core.frame.DataFrame'>\n",
      "Int64Index: 5290 entries, 0 to 5289\n",
      "Data columns (total 55 columns):\n",
      " #   Column                                      Non-Null Count  Dtype  \n",
      "---  ------                                      --------------  -----  \n",
      " 0   date                                        5290 non-null   object \n",
      " 1   primary_cleaner.input.sulfate               5290 non-null   float64\n",
      " 2   primary_cleaner.input.depressant            5290 non-null   float64\n",
      " 3   primary_cleaner.input.feed_size             5290 non-null   float64\n",
      " 4   primary_cleaner.input.xanthate              5290 non-null   float64\n",
      " 5   primary_cleaner.state.floatbank8_a_air      5290 non-null   float64\n",
      " 6   primary_cleaner.state.floatbank8_a_level    5290 non-null   float64\n",
      " 7   primary_cleaner.state.floatbank8_b_air      5290 non-null   float64\n",
      " 8   primary_cleaner.state.floatbank8_b_level    5290 non-null   float64\n",
      " 9   primary_cleaner.state.floatbank8_c_air      5290 non-null   float64\n",
      " 10  primary_cleaner.state.floatbank8_c_level    5290 non-null   float64\n",
      " 11  primary_cleaner.state.floatbank8_d_air      5290 non-null   float64\n",
      " 12  primary_cleaner.state.floatbank8_d_level    5290 non-null   float64\n",
      " 13  rougher.input.feed_ag                       5290 non-null   float64\n",
      " 14  rougher.input.feed_pb                       5290 non-null   float64\n",
      " 15  rougher.input.feed_rate                     5290 non-null   float64\n",
      " 16  rougher.input.feed_size                     5290 non-null   float64\n",
      " 17  rougher.input.feed_sol                      5290 non-null   float64\n",
      " 18  rougher.input.feed_au                       5290 non-null   float64\n",
      " 19  rougher.input.floatbank10_sulfate           5290 non-null   float64\n",
      " 20  rougher.input.floatbank10_xanthate          5290 non-null   float64\n",
      " 21  rougher.input.floatbank11_sulfate           5290 non-null   float64\n",
      " 22  rougher.input.floatbank11_xanthate          5290 non-null   float64\n",
      " 23  rougher.state.floatbank10_a_air             5290 non-null   float64\n",
      " 24  rougher.state.floatbank10_a_level           5290 non-null   float64\n",
      " 25  rougher.state.floatbank10_b_air             5290 non-null   float64\n",
      " 26  rougher.state.floatbank10_b_level           5290 non-null   float64\n",
      " 27  rougher.state.floatbank10_c_air             5290 non-null   float64\n",
      " 28  rougher.state.floatbank10_c_level           5290 non-null   float64\n",
      " 29  rougher.state.floatbank10_d_air             5290 non-null   float64\n",
      " 30  rougher.state.floatbank10_d_level           5290 non-null   float64\n",
      " 31  rougher.state.floatbank10_e_air             5290 non-null   float64\n",
      " 32  rougher.state.floatbank10_e_level           5290 non-null   float64\n",
      " 33  rougher.state.floatbank10_f_air             5290 non-null   float64\n",
      " 34  rougher.state.floatbank10_f_level           5290 non-null   float64\n",
      " 35  secondary_cleaner.state.floatbank2_a_air    5290 non-null   float64\n",
      " 36  secondary_cleaner.state.floatbank2_a_level  5290 non-null   float64\n",
      " 37  secondary_cleaner.state.floatbank2_b_air    5290 non-null   float64\n",
      " 38  secondary_cleaner.state.floatbank2_b_level  5290 non-null   float64\n",
      " 39  secondary_cleaner.state.floatbank3_a_air    5290 non-null   float64\n",
      " 40  secondary_cleaner.state.floatbank3_a_level  5290 non-null   float64\n",
      " 41  secondary_cleaner.state.floatbank3_b_air    5290 non-null   float64\n",
      " 42  secondary_cleaner.state.floatbank3_b_level  5290 non-null   float64\n",
      " 43  secondary_cleaner.state.floatbank4_a_air    5290 non-null   float64\n",
      " 44  secondary_cleaner.state.floatbank4_a_level  5290 non-null   float64\n",
      " 45  secondary_cleaner.state.floatbank4_b_air    5290 non-null   float64\n",
      " 46  secondary_cleaner.state.floatbank4_b_level  5290 non-null   float64\n",
      " 47  secondary_cleaner.state.floatbank5_a_air    5290 non-null   float64\n",
      " 48  secondary_cleaner.state.floatbank5_a_level  5290 non-null   float64\n",
      " 49  secondary_cleaner.state.floatbank5_b_air    5290 non-null   float64\n",
      " 50  secondary_cleaner.state.floatbank5_b_level  5290 non-null   float64\n",
      " 51  secondary_cleaner.state.floatbank6_a_air    5290 non-null   float64\n",
      " 52  secondary_cleaner.state.floatbank6_a_level  5290 non-null   float64\n",
      " 53  rougher.output.recovery                     5290 non-null   float64\n",
      " 54  final.output.recovery                       5290 non-null   float64\n",
      "dtypes: float64(54), object(1)\n",
      "memory usage: 2.3+ MB\n",
      "None\n"
     ]
    }
   ],
   "source": [
    "print(data_test.info())"
   ]
  },
  {
   "cell_type": "markdown",
   "metadata": {},
   "source": [
    "Столбец date нам в качестве признака навряд ли понадобится, можно его удалить. "
   ]
  },
  {
   "cell_type": "code",
   "execution_count": 19,
   "metadata": {},
   "outputs": [],
   "source": [
    "data_test = data_test.drop(columns=['date'], axis= 1)"
   ]
  },
  {
   "cell_type": "code",
   "execution_count": 20,
   "metadata": {},
   "outputs": [
    {
     "name": "stdout",
     "output_type": "stream",
     "text": [
      "(5290, 54)\n"
     ]
    }
   ],
   "source": [
    "print(data_test.shape)"
   ]
  },
  {
   "cell_type": "code",
   "execution_count": 21,
   "metadata": {},
   "outputs": [
    {
     "name": "stdout",
     "output_type": "stream",
     "text": [
      "(14149, 54)\n"
     ]
    }
   ],
   "source": [
    "#уберем из трейна признаки\n",
    "data_train = data_train[data_test.columns]\n",
    "print(data_train.shape)"
   ]
  },
  {
   "cell_type": "markdown",
   "metadata": {},
   "source": [
    "## Анализ данных"
   ]
  },
  {
   "cell_type": "markdown",
   "metadata": {},
   "source": [
    "**Задание 2.1.** Посмотрите, как меняется концентрация металлов (Au, Ag, Pb) на различных этапах очистки. Опишите выводы.   \n",
    "  \n",
    "Надо рассмотреть'primary_cleaner.output.concentrate_ag', 'primary_cleaner.output.concentrate_pb', 'primary_cleaner.output.concentrate_au' - концентрация металлов на первичной очистке, и 'final.output.concentrate_ag',\n",
    "'final.output.concentrate_pb','final.output.concentrate_au' - концентрация металлов на вторичной очистке (финальной). "
   ]
  },
  {
   "cell_type": "code",
   "execution_count": 22,
   "metadata": {},
   "outputs": [
    {
     "name": "stdout",
     "output_type": "stream",
     "text": [
      "       primary_cleaner.output.concentrate_au  final.output.concentrate_au  \\\n",
      "0                                        0.0                         41.0   \n",
      "1                                        0.0                         44.0   \n",
      "2                                        0.0                         38.0   \n",
      "3                                        0.0                         48.0   \n",
      "4                                        0.0                         43.0   \n",
      "...                                      ...                          ...   \n",
      "19194                                   44.0                         49.0   \n",
      "19195                                   45.0                         19.0   \n",
      "19196                                   45.0                         50.0   \n",
      "19197                                   45.0                         49.0   \n",
      "19198                                   46.0                         50.0   \n",
      "\n",
      "       rougher.output.concentrate_au  \n",
      "0                               18.0  \n",
      "1                               18.0  \n",
      "2                               20.0  \n",
      "3                               22.0  \n",
      "4                               20.0  \n",
      "...                              ...  \n",
      "19194                           24.0  \n",
      "19195                           25.0  \n",
      "19196                           24.0  \n",
      "19197                           15.0  \n",
      "19198                           24.0  \n",
      "\n",
      "[19199 rows x 3 columns]\n"
     ]
    }
   ],
   "source": [
    "data_au = data_full.pivot_table(index=['primary_cleaner.output.concentrate_au'], values=['final.output.concentrate_au', 'rougher.output.concentrate_au'])\n",
    "data_au = data_au.reset_index()\n",
    "data_au['primary_cleaner.output.concentrate_au'] = data_au['primary_cleaner.output.concentrate_au'].round(0)\n",
    "data_au['rougher.output.concentrate_au'] = data_au['rougher.output.concentrate_au'].round(0)\n",
    "data_au['final.output.concentrate_au'] = data_au['final.output.concentrate_au'].round(0)\n",
    "print(data_au)"
   ]
  },
  {
   "cell_type": "code",
   "execution_count": 23,
   "metadata": {},
   "outputs": [
    {
     "data": {
      "text/plain": [
       "<matplotlib.legend.Legend at 0x7f12c219a3d0>"
      ]
     },
     "execution_count": 23,
     "metadata": {},
     "output_type": "execute_result"
    },
    {
     "data": {
      "image/png": "[encoded data removed]",
      "text/plain": [
       "<Figure size 432x288 with 1 Axes>"
      ]
     },
     "metadata": {
      "needs_background": "light"
     },
     "output_type": "display_data"
    }
   ],
   "source": [
    "plt.hist(data_au, bins=10)\n",
    "plt.legend(('Концентрация Au после первой очистки', 'Концентрация Au после вторичной очистки', 'Концентрация Au после флотации'), loc='upper left')"
   ]
  },
  {
   "cell_type": "markdown",
   "metadata": {},
   "source": [
    "Концентрация золота после вторичной очистки стало всех больше. Тут четко видно, как все этапы идут друг за другом. Какая красота."
   ]
  },
  {
   "cell_type": "code",
   "execution_count": 24,
   "metadata": {},
   "outputs": [
    {
     "data": {
      "text/plain": [
       "<matplotlib.legend.Legend at 0x7f12c2d8f8b0>"
      ]
     },
     "execution_count": 24,
     "metadata": {},
     "output_type": "execute_result"
    },
    {
     "data": {
      "image/png": "[encoded data removed]",
      "text/plain": [
       "<Figure size 432x288 with 1 Axes>"
      ]
     },
     "metadata": {
      "needs_background": "light"
     },
     "output_type": "display_data"
    }
   ],
   "source": [
    "data_ag = data_full.pivot_table(index=['primary_cleaner.output.concentrate_ag'], values=['final.output.concentrate_ag', 'rougher.output.concentrate_ag'])\n",
    "data_ag = data_ag.reset_index()\n",
    "data_ag['primary_cleaner.output.concentrate_ag'] = data_ag['primary_cleaner.output.concentrate_ag'].round(0)\n",
    "data_ag['rougher.output.concentrate_ag'] = data_ag['rougher.output.concentrate_ag'].round(0)\n",
    "data_ag['final.output.concentrate_ag'] = data_ag['final.output.concentrate_ag'].round(0)\n",
    "#print(data_ag)\n",
    "plt.hist(data_ag, bins=10)\n",
    "plt.legend(('Концентрация Ag после первичной очистки', 'Концентрация Ag после вторичной очистки', 'Концентрация Ag после флотации'), loc='upper left')"
   ]
  },
  {
   "cell_type": "markdown",
   "metadata": {},
   "source": [
    "Тут же после очистки серебро с самой большой концетрацией 6, но после первичной очистки, мы имеем много значений с концентрацией 9, а так же 10. При этом такая большая концентрация после вторичной чистки начинает падать, и концентрации 9 у серебра почти нет. В черновом концентрации (после флотации) мы имеем большую концентрацию серебра (около 14), но таких значений не очень много. Выходит мы имеем больше всего значений после вторичной обработки с концентрацией 6."
   ]
  },
  {
   "cell_type": "code",
   "execution_count": 25,
   "metadata": {},
   "outputs": [
    {
     "data": {
      "text/plain": [
       "<matplotlib.legend.Legend at 0x7f12c2f26fa0>"
      ]
     },
     "execution_count": 25,
     "metadata": {},
     "output_type": "execute_result"
    },
    {
     "data": {
      "image/png": "[encoded data removed]",
      "text/plain": [
       "<Figure size 432x288 with 1 Axes>"
      ]
     },
     "metadata": {
      "needs_background": "light"
     },
     "output_type": "display_data"
    }
   ],
   "source": [
    "data_pb = data_full.pivot_table(index=['primary_cleaner.output.concentrate_pb'], values=['final.output.concentrate_pb', 'rougher.output.concentrate_pb'])\n",
    "data_pb = data_pb.reset_index()\n",
    "data_pb['primary_cleaner.output.concentrate_pb'] = data_pb['primary_cleaner.output.concentrate_pb'].round(0)\n",
    "data_pb['rougher.output.concentrate_pb'] = data_pb['rougher.output.concentrate_pb'].round(0)\n",
    "data_pb['final.output.concentrate_pb'] = data_pb['final.output.concentrate_pb'].round(0)\n",
    "#print(data_pb)\n",
    "plt.hist(data_pb, bins=10)\n",
    "plt.legend(('Концентрация Pb после первичной очистки', 'Концентрация Pb после вторичной очистки', 'Концентрация Pb после флотации'), loc='upper left')"
   ]
  },
  {
   "cell_type": "markdown",
   "metadata": {},
   "source": [
    "После первичной обработки у свинца повысилась концентрация, и такого свинца (с концентрацией 10), вышло больше чем в первичную обработку. Черновой концентрат (после флотации смесь) содержала в основном концентрацию 8, а уже выше концетрации мало. "
   ]
  },
  {
   "cell_type": "markdown",
   "metadata": {},
   "source": [
    "**Задание 2.2.**  Сравните распределения размеров гранул сырья на обучающей и тестовой выборках. Если распределения сильно отличаются друг от друга, оценка модели будет неправильной.   "
   ]
  },
  {
   "cell_type": "code",
   "execution_count": 26,
   "metadata": {},
   "outputs": [
    {
     "data": {
      "text/plain": [
       "<matplotlib.legend.Legend at 0x7f12c2f85f40>"
      ]
     },
     "execution_count": 26,
     "metadata": {},
     "output_type": "execute_result"
    },
    {
     "data": {
      "image/png": "[encoded data removed]",
      "text/plain": [
       "<Figure size 432x288 with 1 Axes>"
      ]
     },
     "metadata": {
      "needs_background": "light"
     },
     "output_type": "display_data"
    }
   ],
   "source": [
    "#data['rougher.input.feed_size']\n",
    "plt.hist(data_test['rougher.input.feed_size'], bins=50, density=True)\n",
    "plt.hist(data_train['rougher.input.feed_size'], bins=50, density=True)\n",
    "plt.legend(('Размер гранул сырья в тесте', 'Размер гранул сырья в трейне'), loc='upper right')\n",
    "#x, bins=None, range=None, density=False"
   ]
  },
  {
   "cell_type": "markdown",
   "metadata": {},
   "source": [
    "Ну можно сказать что на глаз гранулы сырья более менее распределены похоже."
   ]
  },
  {
   "cell_type": "markdown",
   "metadata": {},
   "source": [
    "**Задание 2.3.** Исследуйте суммарную концентрацию всех веществ на разных стадиях: в сырье, в черновом и финальном концентратах.   \n",
    "(rougher.input.feed, rougher.output.concentrate и final.output.concentrate)\n",
    "rougher.input.feed_ag                         \n",
    "rougher.input.feed_pb                                 \n",
    "rougher.input.feed_au    "
   ]
  },
  {
   "cell_type": "code",
   "execution_count": 27,
   "metadata": {},
   "outputs": [],
   "source": [
    "data_full['sum_concentrate_rougher_in'] = data_full['rougher.input.feed_ag'] + data_full['rougher.input.feed_pb'] + data_full['rougher.input.feed_au']\n",
    "data_full['sum_concentrate_rougher_out'] = data_full['rougher.output.concentrate_ag'] + data_full['rougher.output.concentrate_pb'] + data_full['rougher.output.concentrate_au']\n",
    "data_full['sum_concentrate_final_out'] = data_full['final.output.concentrate_ag'] + data_full['final.output.concentrate_pb'] + data_full['final.output.concentrate_au']\n"
   ]
  },
  {
   "cell_type": "code",
   "execution_count": 28,
   "metadata": {},
   "outputs": [
    {
     "name": "stdout",
     "output_type": "stream",
     "text": [
      "0\n"
     ]
    }
   ],
   "source": [
    "print((data_full['sum_concentrate_rougher_in'].loc[data_full['sum_concentrate_rougher_in'] == 0].count()))"
   ]
  },
  {
   "cell_type": "code",
   "execution_count": 29,
   "metadata": {},
   "outputs": [
    {
     "name": "stdout",
     "output_type": "stream",
     "text": [
      "394\n"
     ]
    }
   ],
   "source": [
    "print((data_full['sum_concentrate_rougher_out'].loc[data_full['sum_concentrate_rougher_out'] == 0].count()))"
   ]
  },
  {
   "cell_type": "code",
   "execution_count": 30,
   "metadata": {},
   "outputs": [
    {
     "name": "stdout",
     "output_type": "stream",
     "text": [
      "98\n"
     ]
    }
   ],
   "source": [
    "print((data_full['sum_concentrate_final_out'].loc[data_full['sum_concentrate_final_out'] == 0].count()))"
   ]
  },
  {
   "cell_type": "code",
   "execution_count": 31,
   "metadata": {},
   "outputs": [
    {
     "data": {
      "image/png": "[encoded data removed]",
      "text/plain": [
       "<Figure size 432x288 with 1 Axes>"
      ]
     },
     "metadata": {
      "needs_background": "light"
     },
     "output_type": "display_data"
    }
   ],
   "source": [
    "plt.hist(data_full['sum_concentrate_rougher_in'], bins=50) #density=True)\n",
    "plt.hist(data_full['sum_concentrate_rougher_out'], bins=50) #density=True)\n",
    "plt.hist(data_full['sum_concentrate_final_out'], bins=50) #density=True)\n",
    "plt.legend(('Cуммарная концентрация в сырье', 'Cуммарная концентрация в черновом', 'Cуммарная концентрация в финальном'), loc='upper right')\n",
    "plt.show()"
   ]
  },
  {
   "cell_type": "markdown",
   "metadata": {},
   "source": [
    "## Модель"
   ]
  },
  {
   "cell_type": "markdown",
   "metadata": {},
   "source": [
    "ответ: Возможны оба варианта. Можно обучить одну модель, которая предсказывает сразу 2 таргета. А можно обучить 2 отдельные модели, каждый из которых предсказывает свой таргет. Тут уже тебе решать, как сделать.\n",
    "Можно попробовать оба варианта и выбрать тот, который приводит к лучшем качеству. "
   ]
  },
  {
   "cell_type": "markdown",
   "metadata": {},
   "source": [
    "**Задание 3.1.** Напишите функцию для вычисления итоговой sMAPE."
   ]
  },
  {
   "cell_type": "code",
   "execution_count": 35,
   "metadata": {},
   "outputs": [],
   "source": [
    "def calculate_smape(target, predictions):\n",
    "    numerator = np.abs(target - predictions)\n",
    "    denominator = (np.abs(target) + np.abs(predictions)) / 2 \n",
    "\n",
    "    return 1 / len(target) * np.sum(numerator / denominator) * 100 "
   ]
  },
  {
   "cell_type": "code",
   "execution_count": 36,
   "metadata": {},
   "outputs": [],
   "source": [
    "def smape_total(smape_rougher, smape_final):\n",
    "    smape_final = 0.25 * smape_rougher + 0.75 * smape_final\n",
    "    return smape_final\n"
   ]
  },
  {
   "cell_type": "markdown",
   "metadata": {},
   "source": [
    "**Задание 3.2.** Обучите разные модели и оцените их качество кросс-валидацией. Выберите лучшую модель и проверьте её на тестовой выборке. Опишите выводы."
   ]
  },
  {
   "cell_type": "code",
   "execution_count": 37,
   "metadata": {},
   "outputs": [
    {
     "data": {
      "text/plain": [
       "(5290, 54)"
      ]
     },
     "execution_count": 37,
     "metadata": {},
     "output_type": "execute_result"
    }
   ],
   "source": [
    "data_test.shape"
   ]
  },
  {
   "cell_type": "code",
   "execution_count": 38,
   "metadata": {},
   "outputs": [
    {
     "data": {
      "text/plain": [
       "(14149, 54)"
      ]
     },
     "execution_count": 38,
     "metadata": {},
     "output_type": "execute_result"
    }
   ],
   "source": [
    "data_train.shape"
   ]
  },
  {
   "cell_type": "markdown",
   "metadata": {},
   "source": [
    "Наши таргеты:  \n",
    "эффективность обогащения чернового концентрата rougher.output.recovery;  \n",
    "эффективность обогащения финального концентрата final.output.recovery."
   ]
  },
  {
   "cell_type": "markdown",
   "metadata": {},
   "source": [
    "**Линейная ререссия**"
   ]
  },
  {
   "cell_type": "code",
   "execution_count": 39,
   "metadata": {},
   "outputs": [
    {
     "name": "stdout",
     "output_type": "stream",
     "text": [
      "Средняя оценка качества модели (по sMAPE)= -12.802483458481987\n"
     ]
    }
   ],
   "source": [
    "# линейная регрессия для таргета rougher.output.recovery на тестовой выборке с применением кросс-валидации\n",
    "#%%time\n",
    "\n",
    "features = features = data_train.drop(['rougher.output.recovery', 'final.output.recovery'], axis=1)\n",
    "target = data_train['rougher.output.recovery']\n",
    "\n",
    "#Промастабируем признаки\n",
    "scaler_train = StandardScaler()\n",
    "scaler_train.fit(features)\n",
    "features = scaler_train.transform(features)\n",
    "\n",
    "scorer = make_scorer(calculate_smape, greater_is_better=False)\n",
    "\n",
    "model_linear_rougher = LinearRegression()\n",
    "model_linear_rougher.fit(features, target)\n",
    "rougher_scores = cross_val_score(model_linear_rougher, features, target.values, scoring=scorer, cv=5)\n",
    "final_score_rougher = rougher_scores.mean() \n",
    "print('Средняя оценка качества модели (по sMAPE)=', final_score_rougher)\n"
   ]
  },
  {
   "cell_type": "code",
   "execution_count": 40,
   "metadata": {},
   "outputs": [
    {
     "name": "stdout",
     "output_type": "stream",
     "text": [
      "Средняя оценка качества модели (по sMAPE)= -12.245300320302261\n"
     ]
    }
   ],
   "source": [
    "# линейная регрессия для таргета final.output.recovery на тестовой выборке с применением кросс-валидации\n",
    "\n",
    "features = features = data_train.drop(['rougher.output.recovery', 'final.output.recovery'], axis=1)\n",
    "target = data_train['final.output.recovery']\n",
    "\n",
    "#Промастабируем признаки\n",
    "scaler_train = StandardScaler()\n",
    "scaler_train.fit(features)\n",
    "features = scaler_train.transform(features)\n",
    "\n",
    "scorer = make_scorer(calculate_smape, greater_is_better=False)\n",
    "\n",
    "model_linear_final = LinearRegression()\n",
    "model_linear_final.fit(features, target)\n",
    "rougher_scores = cross_val_score(model_linear_final, features, target.values, scoring=scorer, cv=5)\n",
    "final_score_final = rougher_scores.mean() \n",
    "print('Средняя оценка качества модели (по sMAPE)=', final_score_final)"
   ]
  },
  {
   "cell_type": "markdown",
   "metadata": {},
   "source": [
    "Рассчитаем итоговую sMAPE."
   ]
  },
  {
   "cell_type": "code",
   "execution_count": 41,
   "metadata": {},
   "outputs": [
    {
     "name": "stdout",
     "output_type": "stream",
     "text": [
      "Итоговая sMAPE дерева решений -12.384596104847192\n"
     ]
    }
   ],
   "source": [
    "result_linear = smape_total(final_score_rougher, final_score_final)\n",
    "print('Итоговая sMAPE дерева решений', result_linear)"
   ]
  },
  {
   "cell_type": "markdown",
   "metadata": {},
   "source": [
    "**Дерево решений**"
   ]
  },
  {
   "cell_type": "code",
   "execution_count": 43,
   "metadata": {},
   "outputs": [
    {
     "name": "stdout",
     "output_type": "stream",
     "text": [
      "{'max_depth': 4}\n"
     ]
    }
   ],
   "source": [
    "#дерево решений, таргет rougher.output.recovery на тесте\n",
    "features = data_train.drop(['rougher.output.recovery', 'final.output.recovery'], axis=1)\n",
    "target = data_train['rougher.output.recovery']\n",
    "\n",
    "#Промастабируем признаки\n",
    "scaler_train = StandardScaler()\n",
    "scaler_train.fit(features)\n",
    "features = scaler_train.transform(features)\n",
    "\n",
    "#подберем лучшую модель используя GridSearchCV\n",
    "model = DecisionTreeRegressor(random_state=12345)\n",
    "param = {'max_depth': range(1,10)}\n",
    "grid = GridSearchCV(model, param, cv=5, scoring=make_scorer(calculate_smape, greater_is_better=False))\n",
    "grid.fit(features, target) \n",
    "print(grid.best_params_)"
   ]
  },
  {
   "cell_type": "code",
   "execution_count": 44,
   "metadata": {},
   "outputs": [
    {
     "name": "stdout",
     "output_type": "stream",
     "text": [
      "Средняя оценка качества модели (по sMAPE)= -11.579887512182543\n"
     ]
    }
   ],
   "source": [
    "model_tree_rougher =  DecisionTreeRegressor(random_state=12345, max_depth = 4)\n",
    "model_tree_rougher.fit(features, target)\n",
    "rougher_scores = cross_val_score(model_tree_rougher, features, target.values, scoring=scorer, cv=5)\n",
    "final_score_rougher = rougher_scores.mean() \n",
    "print('Средняя оценка качества модели (по sMAPE)=', final_score_rougher)"
   ]
  },
  {
   "cell_type": "code",
   "execution_count": 45,
   "metadata": {},
   "outputs": [
    {
     "name": "stdout",
     "output_type": "stream",
     "text": [
      "{'max_depth': 3}\n"
     ]
    }
   ],
   "source": [
    "#дерево решений, таргет final.output.recovery на тесте\n",
    "features = data_train.drop(['rougher.output.recovery', 'final.output.recovery'], axis=1)\n",
    "target = data_train['final.output.recovery']\n",
    "\n",
    "#Промастабируем признаки\n",
    "scaler_train = StandardScaler()\n",
    "scaler_train.fit(features)\n",
    "features = scaler_train.transform(features)\n",
    "\n",
    "#подберем лучшую модель используя GridSearchCV\n",
    "model = DecisionTreeRegressor(random_state=12345)\n",
    "param = {'max_depth': range(1,10)}\n",
    "grid = GridSearchCV(model, param, cv=5, scoring=make_scorer(calculate_smape, greater_is_better=False))\n",
    "grid.fit(features, target) \n",
    "print(grid.best_params_)"
   ]
  },
  {
   "cell_type": "code",
   "execution_count": 46,
   "metadata": {},
   "outputs": [
    {
     "name": "stdout",
     "output_type": "stream",
     "text": [
      "Средняя оценка качества модели (по sMAPE)= -10.806104806167777\n"
     ]
    }
   ],
   "source": [
    "model_tree_final =  DecisionTreeRegressor(random_state=12345, max_depth = 3)\n",
    "model_tree_final.fit(features, target)\n",
    "rougher_scores = cross_val_score(model_tree_final, features, target.values, scoring=scorer, cv=5)\n",
    "final_score_final = rougher_scores.mean() \n",
    "print('Средняя оценка качества модели (по sMAPE)=', final_score_final)"
   ]
  },
  {
   "cell_type": "markdown",
   "metadata": {},
   "source": [
    "Рассчитаем итоговую sMAPE."
   ]
  },
  {
   "cell_type": "code",
   "execution_count": 47,
   "metadata": {},
   "outputs": [
    {
     "name": "stdout",
     "output_type": "stream",
     "text": [
      "Итоговая sMAPE дерева решений -10.999550482671468\n"
     ]
    }
   ],
   "source": [
    "result_tree = smape_total(final_score_rougher, final_score_final)\n",
    "print('Итоговая sMAPE дерева решений', result_tree)"
   ]
  },
  {
   "cell_type": "markdown",
   "metadata": {},
   "source": [
    "Создадим константную модель. "
   ]
  },
  {
   "cell_type": "code",
   "execution_count": 48,
   "metadata": {},
   "outputs": [
    {
     "name": "stdout",
     "output_type": "stream",
     "text": [
      "константная модель для final.output.recovery 11.116270685529766\n"
     ]
    }
   ],
   "source": [
    "def calculate_smape(target, predictions):\n",
    "    numerator = np.abs(target - predictions)\n",
    "    denominator = (np.abs(target) + np.abs(predictions)) / 2 \n",
    "\n",
    "    return 1 / len(target) * np.sum(numerator / denominator) * 100 \n",
    "\n",
    "predicted_random = pd.Series(target.mean(), index=target.index)\n",
    "result = calculate_smape(target, predicted_random)\n",
    "print('константная модель для final.output.recovery', result)"
   ]
  },
  {
   "cell_type": "markdown",
   "metadata": {},
   "source": [
    "**Случайный лес**"
   ]
  },
  {
   "cell_type": "code",
   "execution_count": 49,
   "metadata": {},
   "outputs": [
    {
     "name": "stdout",
     "output_type": "stream",
     "text": [
      "RandomForestRegressor(max_depth=10, n_estimators=17, random_state=12345)\n",
      "CPU times: user 6min 35s, sys: 507 ms, total: 6min 35s\n",
      "Wall time: 6min 36s\n"
     ]
    }
   ],
   "source": [
    "%%time\n",
    "#случайный лес для таргета rougher.output.recovery на тесте\n",
    "features = data_train.drop(['rougher.output.recovery', 'final.output.recovery'], axis=1)\n",
    "target = data_train['rougher.output.recovery']\n",
    "\n",
    "#Промастабируем признаки\n",
    "scaler_train = StandardScaler()\n",
    "scaler_train.fit(features)\n",
    "features = scaler_train.transform(features)\n",
    "\n",
    "#подберем лучшую модель используя GridSearchCV\n",
    "model = RandomForestRegressor(random_state=12345)\n",
    "param = {'max_depth': range(10, 15),\n",
    "        'n_estimators': range(15, 20)}\n",
    "grid = GridSearchCV(model, param, cv=3, scoring=make_scorer(calculate_smape, greater_is_better=False))\n",
    "grid.fit(features, target) \n",
    "print(grid.best_estimator_)"
   ]
  },
  {
   "cell_type": "code",
   "execution_count": 50,
   "metadata": {},
   "outputs": [
    {
     "name": "stdout",
     "output_type": "stream",
     "text": [
      "Средняя оценка качества модели (по sMAPE)= -13.145774667705792\n",
      "CPU times: user 20.7 s, sys: 12.1 ms, total: 20.7 s\n",
      "Wall time: 20.7 s\n"
     ]
    }
   ],
   "source": [
    "%%time\n",
    "model_forest_rougher = RandomForestRegressor(random_state=12345, max_depth = 10, n_estimators=17)\n",
    "model_forest_rougher.fit(features, target)\n",
    "rougher_scores = cross_val_score(model_forest_rougher, features, target.values, scoring=scorer, cv=3)\n",
    "final_score_rougher = rougher_scores.mean() \n",
    "print('Средняя оценка качества модели (по sMAPE)=', final_score_rougher)"
   ]
  },
  {
   "cell_type": "code",
   "execution_count": 51,
   "metadata": {},
   "outputs": [
    {
     "name": "stdout",
     "output_type": "stream",
     "text": [
      "RandomForestRegressor(max_depth=13, n_estimators=15, random_state=12345)\n",
      "CPU times: user 6min 21s, sys: 269 ms, total: 6min 22s\n",
      "Wall time: 6min 22s\n"
     ]
    }
   ],
   "source": [
    "%%time\n",
    "#случайный лес для таргета final.output.recovery на тесте\n",
    "features = data_train.drop(['rougher.output.recovery', 'final.output.recovery'], axis=1)\n",
    "target = data_train['final.output.recovery']\n",
    "\n",
    "#Промастабируем признаки\n",
    "scaler_train = StandardScaler()\n",
    "scaler_train.fit(features)\n",
    "features = scaler_train.transform(features)\n",
    "\n",
    "#подберем лучшую модель используя GridSearchCV\n",
    "model = RandomForestRegressor(random_state=12345)\n",
    "param = {'max_depth': range(10, 15),\n",
    "        'n_estimators': range(15, 20)}\n",
    "grid = GridSearchCV(model, param, cv=3, scoring=make_scorer(calculate_smape, greater_is_better=False))\n",
    "grid.fit(features, target) \n",
    "print(grid.best_estimator_)"
   ]
  },
  {
   "cell_type": "code",
   "execution_count": 52,
   "metadata": {},
   "outputs": [
    {
     "name": "stdout",
     "output_type": "stream",
     "text": [
      "Средняя оценка качества модели (по sMAPE)= -12.06794958011433\n",
      "CPU times: user 21.8 s, sys: 16 ms, total: 21.8 s\n",
      "Wall time: 21.9 s\n"
     ]
    }
   ],
   "source": [
    "%%time\n",
    "model_forest_final = RandomForestRegressor(random_state=12345, max_depth = 13, n_estimators= 15)\n",
    "model_forest_final.fit(features, target)\n",
    "rougher_scores = cross_val_score(model_forest_final, features, target.values, scoring=scorer, cv=3)\n",
    "final_score_rougher = rougher_scores.mean() \n",
    "print('Средняя оценка качества модели (по sMAPE)=', final_score_rougher)"
   ]
  },
  {
   "cell_type": "markdown",
   "metadata": {},
   "source": [
    "Рассчитаем итоговую sMAPE."
   ]
  },
  {
   "cell_type": "code",
   "execution_count": 54,
   "metadata": {},
   "outputs": [
    {
     "name": "stdout",
     "output_type": "stream",
     "text": [
      "Итоговая sMAPE дерева решений -11.121565999654415\n"
     ]
    }
   ],
   "source": [
    "result_forest = smape_total(final_score_rougher, final_score_final)\n",
    "print('Итоговая sMAPE дерева решений', result_forest)"
   ]
  },
  {
   "cell_type": "markdown",
   "metadata": {},
   "source": [
    "**Вывод:** Провела исследование на трех разных моделях. Самый лучший показатель по итоговой sMAPE у дерева решений, ее я и взяла для финальной проверки на тестовой выборке (sMAPE = -10.9). \n"
   ]
  },
  {
   "cell_type": "code",
   "execution_count": null,
   "metadata": {},
   "outputs": [],
   "source": []
  }
 ],
 "metadata": {
  "ExecuteTimeLog": [
   {
    "duration": 1282,
    "start_time": "2022-12-22T18:41:56.633Z"
   },
   {
    "duration": 122,
    "start_time": "2022-12-22T18:45:10.326Z"
   },
   {
    "duration": 48,
    "start_time": "2022-12-22T18:45:21.070Z"
   },
   {
    "duration": 34,
    "start_time": "2022-12-22T18:45:57.031Z"
   },
   {
    "duration": 453,
    "start_time": "2022-12-22T18:49:53.745Z"
   },
   {
    "duration": 833,
    "start_time": "2022-12-22T18:49:59.158Z"
   },
   {
    "duration": 1915,
    "start_time": "2022-12-22T18:50:03.165Z"
   },
   {
    "duration": 13,
    "start_time": "2022-12-22T18:51:08.394Z"
   },
   {
    "duration": 16,
    "start_time": "2022-12-22T18:51:37.015Z"
   },
   {
    "duration": 18,
    "start_time": "2022-12-22T18:51:47.602Z"
   },
   {
    "duration": 1382,
    "start_time": "2022-12-24T09:57:02.003Z"
   },
   {
    "duration": 414,
    "start_time": "2022-12-24T09:57:03.387Z"
   },
   {
    "duration": 1028,
    "start_time": "2022-12-24T09:57:03.802Z"
   },
   {
    "duration": 1803,
    "start_time": "2022-12-24T09:57:04.833Z"
   },
   {
    "duration": 14,
    "start_time": "2022-12-24T09:57:06.639Z"
   },
   {
    "duration": 14,
    "start_time": "2022-12-24T09:57:06.656Z"
   },
   {
    "duration": 15,
    "start_time": "2022-12-24T09:57:06.672Z"
   },
   {
    "duration": 103,
    "start_time": "2022-12-24T10:27:31.353Z"
   },
   {
    "duration": 7,
    "start_time": "2022-12-24T10:28:09.764Z"
   },
   {
    "duration": 275,
    "start_time": "2022-12-24T10:29:42.836Z"
   },
   {
    "duration": 143,
    "start_time": "2022-12-24T10:34:17.016Z"
   },
   {
    "duration": 27,
    "start_time": "2022-12-24T10:42:43.314Z"
   },
   {
    "duration": 13,
    "start_time": "2022-12-24T10:46:18.948Z"
   },
   {
    "duration": 11,
    "start_time": "2022-12-24T10:48:13.888Z"
   },
   {
    "duration": 22,
    "start_time": "2022-12-24T10:49:09.053Z"
   },
   {
    "duration": 11,
    "start_time": "2022-12-24T11:04:54.526Z"
   },
   {
    "duration": 4,
    "start_time": "2022-12-24T11:06:13.008Z"
   },
   {
    "duration": 5,
    "start_time": "2022-12-24T11:06:38.809Z"
   },
   {
    "duration": 8,
    "start_time": "2022-12-24T11:36:02.702Z"
   },
   {
    "duration": 8,
    "start_time": "2022-12-24T11:37:03.356Z"
   },
   {
    "duration": 11,
    "start_time": "2022-12-24T11:39:22.387Z"
   },
   {
    "duration": 17,
    "start_time": "2022-12-24T11:39:27.235Z"
   },
   {
    "duration": 15,
    "start_time": "2022-12-24T11:46:00.294Z"
   },
   {
    "duration": 11,
    "start_time": "2022-12-24T11:46:04.575Z"
   },
   {
    "duration": 1692,
    "start_time": "2022-12-24T12:03:04.345Z"
   },
   {
    "duration": 377,
    "start_time": "2022-12-24T12:03:06.039Z"
   },
   {
    "duration": 447,
    "start_time": "2022-12-24T12:03:06.418Z"
   },
   {
    "duration": 374,
    "start_time": "2022-12-24T12:03:06.868Z"
   },
   {
    "duration": 13,
    "start_time": "2022-12-24T12:03:07.244Z"
   },
   {
    "duration": 21,
    "start_time": "2022-12-24T12:03:07.259Z"
   },
   {
    "duration": 17,
    "start_time": "2022-12-24T12:03:07.283Z"
   },
   {
    "duration": 8,
    "start_time": "2022-12-24T12:03:07.320Z"
   },
   {
    "duration": 11,
    "start_time": "2022-12-24T12:03:07.330Z"
   },
   {
    "duration": 6,
    "start_time": "2022-12-24T12:03:07.343Z"
   },
   {
    "duration": 10,
    "start_time": "2022-12-24T12:03:07.351Z"
   },
   {
    "duration": 39,
    "start_time": "2022-12-24T12:03:07.362Z"
   },
   {
    "duration": 0,
    "start_time": "2022-12-24T12:03:07.403Z"
   },
   {
    "duration": 5,
    "start_time": "2022-12-24T12:05:17.513Z"
   },
   {
    "duration": 107,
    "start_time": "2022-12-24T12:06:17.491Z"
   },
   {
    "duration": 1286,
    "start_time": "2022-12-24T12:06:43.470Z"
   },
   {
    "duration": 110,
    "start_time": "2022-12-24T12:06:44.757Z"
   },
   {
    "duration": 274,
    "start_time": "2022-12-24T12:06:44.869Z"
   },
   {
    "duration": 407,
    "start_time": "2022-12-24T12:06:45.145Z"
   },
   {
    "duration": 12,
    "start_time": "2022-12-24T12:06:45.554Z"
   },
   {
    "duration": 15,
    "start_time": "2022-12-24T12:06:45.568Z"
   },
   {
    "duration": 37,
    "start_time": "2022-12-24T12:06:45.584Z"
   },
   {
    "duration": 9,
    "start_time": "2022-12-24T12:06:45.623Z"
   },
   {
    "duration": 15,
    "start_time": "2022-12-24T12:06:45.633Z"
   },
   {
    "duration": 5,
    "start_time": "2022-12-24T12:06:45.650Z"
   },
   {
    "duration": 6,
    "start_time": "2022-12-24T12:06:45.657Z"
   },
   {
    "duration": 6,
    "start_time": "2022-12-24T12:06:45.664Z"
   },
   {
    "duration": 4,
    "start_time": "2022-12-24T12:06:45.672Z"
   },
   {
    "duration": 127,
    "start_time": "2022-12-24T12:07:05.409Z"
   },
   {
    "duration": 15,
    "start_time": "2022-12-24T12:07:12.403Z"
   },
   {
    "duration": 1346,
    "start_time": "2022-12-24T12:08:53.922Z"
   },
   {
    "duration": 142,
    "start_time": "2022-12-24T12:08:55.271Z"
   },
   {
    "duration": 317,
    "start_time": "2022-12-24T12:08:55.415Z"
   },
   {
    "duration": 354,
    "start_time": "2022-12-24T12:08:55.734Z"
   },
   {
    "duration": 13,
    "start_time": "2022-12-24T12:08:56.090Z"
   },
   {
    "duration": 26,
    "start_time": "2022-12-24T12:08:56.105Z"
   },
   {
    "duration": 16,
    "start_time": "2022-12-24T12:08:56.133Z"
   },
   {
    "duration": 7,
    "start_time": "2022-12-24T12:08:56.151Z"
   },
   {
    "duration": 18,
    "start_time": "2022-12-24T12:08:56.160Z"
   },
   {
    "duration": 16,
    "start_time": "2022-12-24T12:08:56.180Z"
   },
   {
    "duration": 27,
    "start_time": "2022-12-24T12:08:56.198Z"
   },
   {
    "duration": 21,
    "start_time": "2022-12-24T12:08:56.227Z"
   },
   {
    "duration": 5,
    "start_time": "2022-12-24T12:08:56.250Z"
   },
   {
    "duration": 111,
    "start_time": "2022-12-24T12:09:00.299Z"
   },
   {
    "duration": 51,
    "start_time": "2022-12-24T12:09:10.350Z"
   },
   {
    "duration": 11,
    "start_time": "2022-12-24T12:09:13.369Z"
   },
   {
    "duration": 3,
    "start_time": "2022-12-24T12:09:36.523Z"
   },
   {
    "duration": 594,
    "start_time": "2022-12-24T12:10:04.991Z"
   },
   {
    "duration": 20,
    "start_time": "2022-12-24T12:10:13.054Z"
   },
   {
    "duration": 8,
    "start_time": "2022-12-24T12:10:34.792Z"
   },
   {
    "duration": 30,
    "start_time": "2022-12-24T12:16:18.579Z"
   },
   {
    "duration": 27,
    "start_time": "2022-12-24T12:16:32.138Z"
   },
   {
    "duration": 26,
    "start_time": "2022-12-24T12:16:40.233Z"
   },
   {
    "duration": 33159,
    "start_time": "2022-12-24T12:18:46.138Z"
   },
   {
    "duration": 10,
    "start_time": "2022-12-24T12:21:22.543Z"
   },
   {
    "duration": 15,
    "start_time": "2022-12-24T12:22:24.913Z"
   },
   {
    "duration": 1314,
    "start_time": "2022-12-24T12:22:39.350Z"
   },
   {
    "duration": 111,
    "start_time": "2022-12-24T12:22:40.666Z"
   },
   {
    "duration": 282,
    "start_time": "2022-12-24T12:22:40.779Z"
   },
   {
    "duration": 365,
    "start_time": "2022-12-24T12:22:41.063Z"
   },
   {
    "duration": 13,
    "start_time": "2022-12-24T12:22:41.431Z"
   },
   {
    "duration": 15,
    "start_time": "2022-12-24T12:22:41.446Z"
   },
   {
    "duration": 17,
    "start_time": "2022-12-24T12:22:41.462Z"
   },
   {
    "duration": 43,
    "start_time": "2022-12-24T12:22:41.481Z"
   },
   {
    "duration": 14,
    "start_time": "2022-12-24T12:22:41.526Z"
   },
   {
    "duration": 18,
    "start_time": "2022-12-24T12:22:41.542Z"
   },
   {
    "duration": 11,
    "start_time": "2022-12-24T12:22:41.562Z"
   },
   {
    "duration": 10,
    "start_time": "2022-12-24T12:22:41.574Z"
   },
   {
    "duration": 8,
    "start_time": "2022-12-24T12:22:41.586Z"
   },
   {
    "duration": 13,
    "start_time": "2022-12-24T12:22:41.596Z"
   },
   {
    "duration": 34166,
    "start_time": "2022-12-24T12:22:41.611Z"
   },
   {
    "duration": 9,
    "start_time": "2022-12-24T12:32:11.795Z"
   },
   {
    "duration": 12,
    "start_time": "2022-12-24T12:32:24.573Z"
   },
   {
    "duration": 47,
    "start_time": "2022-12-24T12:53:17.454Z"
   },
   {
    "duration": 13,
    "start_time": "2022-12-24T12:53:24.097Z"
   },
   {
    "duration": 7,
    "start_time": "2022-12-24T12:53:53.151Z"
   },
   {
    "duration": 11,
    "start_time": "2022-12-24T12:58:29.617Z"
   },
   {
    "duration": 1320,
    "start_time": "2022-12-24T12:58:49.417Z"
   },
   {
    "duration": 110,
    "start_time": "2022-12-24T12:58:50.739Z"
   },
   {
    "duration": 286,
    "start_time": "2022-12-24T12:58:50.851Z"
   },
   {
    "duration": 364,
    "start_time": "2022-12-24T12:58:51.139Z"
   },
   {
    "duration": 19,
    "start_time": "2022-12-24T12:58:51.505Z"
   },
   {
    "duration": 17,
    "start_time": "2022-12-24T12:58:51.526Z"
   },
   {
    "duration": 17,
    "start_time": "2022-12-24T12:58:51.545Z"
   },
   {
    "duration": 9,
    "start_time": "2022-12-24T12:58:51.563Z"
   },
   {
    "duration": 23,
    "start_time": "2022-12-24T12:58:51.573Z"
   },
   {
    "duration": 28,
    "start_time": "2022-12-24T12:58:51.597Z"
   },
   {
    "duration": 8,
    "start_time": "2022-12-24T12:58:51.626Z"
   },
   {
    "duration": 15,
    "start_time": "2022-12-24T12:58:51.636Z"
   },
   {
    "duration": 10,
    "start_time": "2022-12-24T12:58:51.653Z"
   },
   {
    "duration": 12,
    "start_time": "2022-12-24T12:58:51.666Z"
   },
   {
    "duration": 5,
    "start_time": "2022-12-24T12:58:51.679Z"
   },
   {
    "duration": 14,
    "start_time": "2022-12-24T12:58:51.686Z"
   },
   {
    "duration": 11,
    "start_time": "2022-12-24T12:58:51.702Z"
   },
   {
    "duration": 86,
    "start_time": "2022-12-24T13:09:55.674Z"
   },
   {
    "duration": 9,
    "start_time": "2022-12-24T13:16:00.974Z"
   },
   {
    "duration": 7,
    "start_time": "2022-12-24T13:19:44.436Z"
   },
   {
    "duration": 1308,
    "start_time": "2022-12-24T13:36:47.962Z"
   },
   {
    "duration": 110,
    "start_time": "2022-12-24T13:36:49.272Z"
   },
   {
    "duration": 285,
    "start_time": "2022-12-24T13:36:49.383Z"
   },
   {
    "duration": 354,
    "start_time": "2022-12-24T13:36:49.670Z"
   },
   {
    "duration": 19,
    "start_time": "2022-12-24T13:36:50.026Z"
   },
   {
    "duration": 16,
    "start_time": "2022-12-24T13:36:50.047Z"
   },
   {
    "duration": 28,
    "start_time": "2022-12-24T13:36:50.065Z"
   },
   {
    "duration": 35,
    "start_time": "2022-12-24T13:36:50.095Z"
   },
   {
    "duration": 16,
    "start_time": "2022-12-24T13:36:50.133Z"
   },
   {
    "duration": 5,
    "start_time": "2022-12-24T13:36:50.151Z"
   },
   {
    "duration": 15,
    "start_time": "2022-12-24T13:36:50.158Z"
   },
   {
    "duration": 13,
    "start_time": "2022-12-24T13:36:50.175Z"
   },
   {
    "duration": 31,
    "start_time": "2022-12-24T13:36:50.190Z"
   },
   {
    "duration": 12,
    "start_time": "2022-12-24T13:36:50.224Z"
   },
   {
    "duration": 6,
    "start_time": "2022-12-24T13:36:50.238Z"
   },
   {
    "duration": 48,
    "start_time": "2022-12-24T13:36:50.246Z"
   },
   {
    "duration": 3,
    "start_time": "2022-12-24T13:36:50.296Z"
   },
   {
    "duration": 11,
    "start_time": "2022-12-24T13:36:50.301Z"
   },
   {
    "duration": 6,
    "start_time": "2022-12-24T13:36:50.322Z"
   },
   {
    "duration": 1289,
    "start_time": "2022-12-24T13:54:26.544Z"
   },
   {
    "duration": 117,
    "start_time": "2022-12-24T13:54:27.835Z"
   },
   {
    "duration": 283,
    "start_time": "2022-12-24T13:54:27.954Z"
   },
   {
    "duration": 354,
    "start_time": "2022-12-24T13:54:28.238Z"
   },
   {
    "duration": 11,
    "start_time": "2022-12-24T13:54:28.595Z"
   },
   {
    "duration": 28,
    "start_time": "2022-12-24T13:54:28.608Z"
   },
   {
    "duration": 16,
    "start_time": "2022-12-24T13:54:28.638Z"
   },
   {
    "duration": 7,
    "start_time": "2022-12-24T13:54:28.656Z"
   },
   {
    "duration": 12,
    "start_time": "2022-12-24T13:54:28.665Z"
   },
   {
    "duration": 5,
    "start_time": "2022-12-24T13:54:28.678Z"
   },
   {
    "duration": 38,
    "start_time": "2022-12-24T13:54:28.684Z"
   },
   {
    "duration": 6,
    "start_time": "2022-12-24T13:54:28.724Z"
   },
   {
    "duration": 8,
    "start_time": "2022-12-24T13:54:28.732Z"
   },
   {
    "duration": 14,
    "start_time": "2022-12-24T13:54:28.743Z"
   },
   {
    "duration": 3,
    "start_time": "2022-12-24T13:54:28.758Z"
   },
   {
    "duration": 5,
    "start_time": "2022-12-24T13:54:28.762Z"
   },
   {
    "duration": 859,
    "start_time": "2022-12-24T13:54:28.769Z"
   },
   {
    "duration": 0,
    "start_time": "2022-12-24T13:54:29.629Z"
   },
   {
    "duration": 0,
    "start_time": "2022-12-24T13:54:29.630Z"
   },
   {
    "duration": 0,
    "start_time": "2022-12-24T13:54:29.631Z"
   },
   {
    "duration": 0,
    "start_time": "2022-12-24T13:54:29.633Z"
   },
   {
    "duration": 40,
    "start_time": "2022-12-24T13:55:00.673Z"
   },
   {
    "duration": 1312,
    "start_time": "2022-12-24T14:06:24.736Z"
   },
   {
    "duration": 112,
    "start_time": "2022-12-24T14:06:26.050Z"
   },
   {
    "duration": 286,
    "start_time": "2022-12-24T14:06:26.163Z"
   },
   {
    "duration": 361,
    "start_time": "2022-12-24T14:06:26.451Z"
   },
   {
    "duration": 17,
    "start_time": "2022-12-24T14:06:26.814Z"
   },
   {
    "duration": 18,
    "start_time": "2022-12-24T14:06:26.833Z"
   },
   {
    "duration": 21,
    "start_time": "2022-12-24T14:06:26.853Z"
   },
   {
    "duration": 8,
    "start_time": "2022-12-24T14:06:26.875Z"
   },
   {
    "duration": 17,
    "start_time": "2022-12-24T14:06:26.884Z"
   },
   {
    "duration": 4,
    "start_time": "2022-12-24T14:06:26.922Z"
   },
   {
    "duration": 11,
    "start_time": "2022-12-24T14:06:26.928Z"
   },
   {
    "duration": 10,
    "start_time": "2022-12-24T14:06:26.940Z"
   },
   {
    "duration": 7,
    "start_time": "2022-12-24T14:06:26.952Z"
   },
   {
    "duration": 4,
    "start_time": "2022-12-24T14:06:26.961Z"
   },
   {
    "duration": 9,
    "start_time": "2022-12-24T14:06:26.967Z"
   },
   {
    "duration": 7,
    "start_time": "2022-12-24T14:06:26.977Z"
   },
   {
    "duration": 18,
    "start_time": "2022-12-24T14:06:26.986Z"
   },
   {
    "duration": 5,
    "start_time": "2022-12-24T14:06:27.005Z"
   },
   {
    "duration": 6,
    "start_time": "2022-12-24T14:06:58.985Z"
   },
   {
    "duration": 1293,
    "start_time": "2022-12-24T14:07:21.864Z"
   },
   {
    "duration": 108,
    "start_time": "2022-12-24T14:07:23.161Z"
   },
   {
    "duration": 281,
    "start_time": "2022-12-24T14:07:23.271Z"
   },
   {
    "duration": 361,
    "start_time": "2022-12-24T14:07:23.554Z"
   },
   {
    "duration": 14,
    "start_time": "2022-12-24T14:07:23.916Z"
   },
   {
    "duration": 20,
    "start_time": "2022-12-24T14:07:23.932Z"
   },
   {
    "duration": 15,
    "start_time": "2022-12-24T14:07:23.954Z"
   },
   {
    "duration": 7,
    "start_time": "2022-12-24T14:07:23.971Z"
   },
   {
    "duration": 42,
    "start_time": "2022-12-24T14:07:23.980Z"
   },
   {
    "duration": 5,
    "start_time": "2022-12-24T14:07:24.023Z"
   },
   {
    "duration": 17,
    "start_time": "2022-12-24T14:07:24.029Z"
   },
   {
    "duration": 11,
    "start_time": "2022-12-24T14:07:24.047Z"
   },
   {
    "duration": 11,
    "start_time": "2022-12-24T14:07:24.059Z"
   },
   {
    "duration": 15,
    "start_time": "2022-12-24T14:07:24.071Z"
   },
   {
    "duration": 3,
    "start_time": "2022-12-24T14:07:24.088Z"
   },
   {
    "duration": 5,
    "start_time": "2022-12-24T14:07:24.093Z"
   },
   {
    "duration": 5,
    "start_time": "2022-12-24T14:07:24.100Z"
   },
   {
    "duration": 15,
    "start_time": "2022-12-24T14:07:24.106Z"
   },
   {
    "duration": 7,
    "start_time": "2022-12-24T14:07:24.122Z"
   },
   {
    "duration": 522,
    "start_time": "2022-12-24T14:07:48.141Z"
   },
   {
    "duration": 3,
    "start_time": "2022-12-24T14:07:53.366Z"
   },
   {
    "duration": 42,
    "start_time": "2022-12-24T14:07:57.579Z"
   },
   {
    "duration": 60,
    "start_time": "2022-12-24T14:17:15.781Z"
   },
   {
    "duration": 1347,
    "start_time": "2022-12-24T14:18:20.350Z"
   },
   {
    "duration": 111,
    "start_time": "2022-12-24T14:18:21.700Z"
   },
   {
    "duration": 288,
    "start_time": "2022-12-24T14:18:21.813Z"
   },
   {
    "duration": 370,
    "start_time": "2022-12-24T14:18:22.102Z"
   },
   {
    "duration": 13,
    "start_time": "2022-12-24T14:18:22.474Z"
   },
   {
    "duration": 15,
    "start_time": "2022-12-24T14:18:22.489Z"
   },
   {
    "duration": 30,
    "start_time": "2022-12-24T14:18:22.522Z"
   },
   {
    "duration": 10,
    "start_time": "2022-12-24T14:18:22.554Z"
   },
   {
    "duration": 18,
    "start_time": "2022-12-24T14:18:22.566Z"
   },
   {
    "duration": 5,
    "start_time": "2022-12-24T14:18:22.585Z"
   },
   {
    "duration": 6,
    "start_time": "2022-12-24T14:18:22.622Z"
   },
   {
    "duration": 18,
    "start_time": "2022-12-24T14:18:22.631Z"
   },
   {
    "duration": 7,
    "start_time": "2022-12-24T14:18:22.652Z"
   },
   {
    "duration": 14,
    "start_time": "2022-12-24T14:18:22.663Z"
   },
   {
    "duration": 3,
    "start_time": "2022-12-24T14:18:22.679Z"
   },
   {
    "duration": 7,
    "start_time": "2022-12-24T14:18:22.684Z"
   },
   {
    "duration": 29,
    "start_time": "2022-12-24T14:18:22.692Z"
   },
   {
    "duration": 2,
    "start_time": "2022-12-24T14:18:22.723Z"
   },
   {
    "duration": 11,
    "start_time": "2022-12-24T14:18:22.727Z"
   },
   {
    "duration": 50,
    "start_time": "2022-12-24T14:52:35.358Z"
   },
   {
    "duration": 6,
    "start_time": "2022-12-24T14:53:05.438Z"
   },
   {
    "duration": 491,
    "start_time": "2022-12-24T14:53:11.866Z"
   },
   {
    "duration": 458,
    "start_time": "2022-12-24T14:55:15.287Z"
   },
   {
    "duration": 10,
    "start_time": "2022-12-24T14:55:26.932Z"
   },
   {
    "duration": 34,
    "start_time": "2022-12-24T15:10:25.368Z"
   },
   {
    "duration": 45,
    "start_time": "2022-12-24T15:10:48.551Z"
   },
   {
    "duration": 1307,
    "start_time": "2022-12-24T15:11:08.968Z"
   },
   {
    "duration": 121,
    "start_time": "2022-12-24T15:11:10.277Z"
   },
   {
    "duration": 295,
    "start_time": "2022-12-24T15:11:10.399Z"
   },
   {
    "duration": 365,
    "start_time": "2022-12-24T15:11:10.696Z"
   },
   {
    "duration": 17,
    "start_time": "2022-12-24T15:11:11.063Z"
   },
   {
    "duration": 21,
    "start_time": "2022-12-24T15:11:11.082Z"
   },
   {
    "duration": 24,
    "start_time": "2022-12-24T15:11:11.122Z"
   },
   {
    "duration": 10,
    "start_time": "2022-12-24T15:11:11.148Z"
   },
   {
    "duration": 15,
    "start_time": "2022-12-24T15:11:11.160Z"
   },
   {
    "duration": 6,
    "start_time": "2022-12-24T15:11:11.178Z"
   },
   {
    "duration": 37,
    "start_time": "2022-12-24T15:11:11.185Z"
   },
   {
    "duration": 7,
    "start_time": "2022-12-24T15:11:11.223Z"
   },
   {
    "duration": 6,
    "start_time": "2022-12-24T15:11:11.232Z"
   },
   {
    "duration": 24,
    "start_time": "2022-12-24T15:11:11.240Z"
   },
   {
    "duration": 13,
    "start_time": "2022-12-24T15:11:11.266Z"
   },
   {
    "duration": 52,
    "start_time": "2022-12-24T15:11:11.281Z"
   },
   {
    "duration": 2,
    "start_time": "2022-12-24T15:11:11.336Z"
   },
   {
    "duration": 5,
    "start_time": "2022-12-24T15:11:11.340Z"
   },
   {
    "duration": 9,
    "start_time": "2022-12-24T15:11:11.347Z"
   },
   {
    "duration": 5,
    "start_time": "2022-12-24T15:11:11.358Z"
   },
   {
    "duration": 34,
    "start_time": "2022-12-24T15:12:32.180Z"
   },
   {
    "duration": 4,
    "start_time": "2022-12-24T15:12:52.991Z"
   },
   {
    "duration": 54,
    "start_time": "2022-12-24T15:13:55.226Z"
   },
   {
    "duration": 5,
    "start_time": "2022-12-24T15:13:59.810Z"
   },
   {
    "duration": 302,
    "start_time": "2022-12-24T15:15:06.048Z"
   },
   {
    "duration": 3,
    "start_time": "2022-12-24T15:15:10.692Z"
   },
   {
    "duration": 38,
    "start_time": "2022-12-24T15:20:38.346Z"
   },
   {
    "duration": 3,
    "start_time": "2022-12-24T15:20:43.815Z"
   },
   {
    "duration": 1255,
    "start_time": "2022-12-24T15:23:31.376Z"
   },
   {
    "duration": 110,
    "start_time": "2022-12-24T15:23:32.632Z"
   },
   {
    "duration": 278,
    "start_time": "2022-12-24T15:23:32.744Z"
   },
   {
    "duration": 354,
    "start_time": "2022-12-24T15:23:33.024Z"
   },
   {
    "duration": 13,
    "start_time": "2022-12-24T15:23:33.380Z"
   },
   {
    "duration": 28,
    "start_time": "2022-12-24T15:23:33.395Z"
   },
   {
    "duration": 15,
    "start_time": "2022-12-24T15:23:33.425Z"
   },
   {
    "duration": 7,
    "start_time": "2022-12-24T15:23:33.441Z"
   },
   {
    "duration": 14,
    "start_time": "2022-12-24T15:23:33.450Z"
   },
   {
    "duration": 5,
    "start_time": "2022-12-24T15:23:33.467Z"
   },
   {
    "duration": 6,
    "start_time": "2022-12-24T15:23:33.474Z"
   },
   {
    "duration": 8,
    "start_time": "2022-12-24T15:23:33.481Z"
   },
   {
    "duration": 34,
    "start_time": "2022-12-24T15:23:33.490Z"
   },
   {
    "duration": 12,
    "start_time": "2022-12-24T15:23:33.525Z"
   },
   {
    "duration": 5,
    "start_time": "2022-12-24T15:23:33.538Z"
   },
   {
    "duration": 122,
    "start_time": "2022-12-24T15:23:33.544Z"
   },
   {
    "duration": 0,
    "start_time": "2022-12-24T15:23:33.668Z"
   },
   {
    "duration": 0,
    "start_time": "2022-12-24T15:23:33.670Z"
   },
   {
    "duration": 0,
    "start_time": "2022-12-24T15:23:33.671Z"
   },
   {
    "duration": 0,
    "start_time": "2022-12-24T15:23:33.673Z"
   },
   {
    "duration": 0,
    "start_time": "2022-12-24T15:23:33.674Z"
   },
   {
    "duration": 0,
    "start_time": "2022-12-24T15:23:33.676Z"
   },
   {
    "duration": 0,
    "start_time": "2022-12-24T15:23:33.677Z"
   },
   {
    "duration": 29,
    "start_time": "2022-12-24T15:28:08.905Z"
   },
   {
    "duration": 1511,
    "start_time": "2022-12-24T17:08:37.012Z"
   },
   {
    "duration": 185,
    "start_time": "2022-12-24T17:08:38.527Z"
   },
   {
    "duration": 1394,
    "start_time": "2022-12-24T17:08:38.714Z"
   },
   {
    "duration": 621,
    "start_time": "2022-12-24T17:08:40.110Z"
   },
   {
    "duration": 13,
    "start_time": "2022-12-24T17:08:40.733Z"
   },
   {
    "duration": 14,
    "start_time": "2022-12-24T17:08:40.747Z"
   },
   {
    "duration": 15,
    "start_time": "2022-12-24T17:08:40.763Z"
   },
   {
    "duration": 6,
    "start_time": "2022-12-24T17:08:40.780Z"
   },
   {
    "duration": 30,
    "start_time": "2022-12-24T17:08:40.787Z"
   },
   {
    "duration": 23,
    "start_time": "2022-12-24T17:08:40.819Z"
   },
   {
    "duration": 28,
    "start_time": "2022-12-24T17:08:40.913Z"
   },
   {
    "duration": 19,
    "start_time": "2022-12-24T17:08:41.012Z"
   },
   {
    "duration": 3,
    "start_time": "2022-12-24T17:08:41.032Z"
   },
   {
    "duration": 9,
    "start_time": "2022-12-24T17:08:41.037Z"
   },
   {
    "duration": 4,
    "start_time": "2022-12-24T17:08:41.047Z"
   },
   {
    "duration": 113,
    "start_time": "2022-12-24T17:08:41.052Z"
   },
   {
    "duration": 0,
    "start_time": "2022-12-24T17:08:41.167Z"
   },
   {
    "duration": 0,
    "start_time": "2022-12-24T17:08:41.168Z"
   },
   {
    "duration": 0,
    "start_time": "2022-12-24T17:08:41.169Z"
   },
   {
    "duration": 0,
    "start_time": "2022-12-24T17:08:41.170Z"
   },
   {
    "duration": 0,
    "start_time": "2022-12-24T17:08:41.170Z"
   },
   {
    "duration": 0,
    "start_time": "2022-12-24T17:08:41.171Z"
   },
   {
    "duration": 0,
    "start_time": "2022-12-24T17:08:41.172Z"
   },
   {
    "duration": 12,
    "start_time": "2022-12-24T17:18:00.725Z"
   },
   {
    "duration": 2,
    "start_time": "2022-12-24T17:18:16.905Z"
   },
   {
    "duration": 74,
    "start_time": "2022-12-24T17:18:53.622Z"
   },
   {
    "duration": 14,
    "start_time": "2022-12-24T17:18:56.173Z"
   },
   {
    "duration": 4,
    "start_time": "2022-12-24T17:31:02.731Z"
   },
   {
    "duration": 124,
    "start_time": "2022-12-24T17:31:02.737Z"
   },
   {
    "duration": 282,
    "start_time": "2022-12-24T17:31:02.862Z"
   },
   {
    "duration": 381,
    "start_time": "2022-12-24T17:31:03.146Z"
   },
   {
    "duration": 14,
    "start_time": "2022-12-24T17:31:03.529Z"
   },
   {
    "duration": 67,
    "start_time": "2022-12-24T17:31:03.545Z"
   },
   {
    "duration": 56,
    "start_time": "2022-12-24T17:31:03.614Z"
   },
   {
    "duration": 7,
    "start_time": "2022-12-24T17:31:03.672Z"
   },
   {
    "duration": 38,
    "start_time": "2022-12-24T17:31:03.681Z"
   },
   {
    "duration": 37,
    "start_time": "2022-12-24T17:31:03.721Z"
   },
   {
    "duration": 42,
    "start_time": "2022-12-24T17:31:03.760Z"
   },
   {
    "duration": 40,
    "start_time": "2022-12-24T17:31:03.804Z"
   },
   {
    "duration": 12,
    "start_time": "2022-12-24T17:31:03.846Z"
   },
   {
    "duration": 31,
    "start_time": "2022-12-24T17:31:03.859Z"
   },
   {
    "duration": 79,
    "start_time": "2022-12-24T17:31:03.892Z"
   },
   {
    "duration": 32,
    "start_time": "2022-12-24T17:31:03.973Z"
   },
   {
    "duration": 26,
    "start_time": "2022-12-24T17:31:04.007Z"
   },
   {
    "duration": 42,
    "start_time": "2022-12-24T17:31:04.035Z"
   },
   {
    "duration": 20,
    "start_time": "2022-12-24T17:31:04.079Z"
   },
   {
    "duration": 7,
    "start_time": "2022-12-24T17:31:04.101Z"
   },
   {
    "duration": 27,
    "start_time": "2022-12-24T17:31:04.109Z"
   },
   {
    "duration": 13,
    "start_time": "2022-12-24T17:31:04.138Z"
   },
   {
    "duration": 8,
    "start_time": "2022-12-24T17:31:04.152Z"
   },
   {
    "duration": 1398,
    "start_time": "2022-12-24T17:31:13.509Z"
   },
   {
    "duration": 127,
    "start_time": "2022-12-24T17:31:14.909Z"
   },
   {
    "duration": 281,
    "start_time": "2022-12-24T17:31:15.038Z"
   },
   {
    "duration": 367,
    "start_time": "2022-12-24T17:31:15.322Z"
   },
   {
    "duration": 13,
    "start_time": "2022-12-24T17:31:15.691Z"
   },
   {
    "duration": 21,
    "start_time": "2022-12-24T17:31:15.712Z"
   },
   {
    "duration": 18,
    "start_time": "2022-12-24T17:31:15.735Z"
   },
   {
    "duration": 8,
    "start_time": "2022-12-24T17:31:15.754Z"
   },
   {
    "duration": 11,
    "start_time": "2022-12-24T17:31:15.763Z"
   },
   {
    "duration": 36,
    "start_time": "2022-12-24T17:31:15.777Z"
   },
   {
    "duration": 5,
    "start_time": "2022-12-24T17:31:15.815Z"
   },
   {
    "duration": 18,
    "start_time": "2022-12-24T17:31:15.822Z"
   },
   {
    "duration": 7,
    "start_time": "2022-12-24T17:31:15.842Z"
   },
   {
    "duration": 12,
    "start_time": "2022-12-24T17:31:15.850Z"
   },
   {
    "duration": 3,
    "start_time": "2022-12-24T17:31:15.863Z"
   },
   {
    "duration": 17,
    "start_time": "2022-12-24T17:31:15.868Z"
   },
   {
    "duration": 3,
    "start_time": "2022-12-24T17:31:15.887Z"
   },
   {
    "duration": 31,
    "start_time": "2022-12-24T17:31:15.891Z"
   },
   {
    "duration": 25,
    "start_time": "2022-12-24T17:31:15.924Z"
   },
   {
    "duration": 2,
    "start_time": "2022-12-24T17:31:15.950Z"
   },
   {
    "duration": 4,
    "start_time": "2022-12-24T17:31:15.954Z"
   },
   {
    "duration": 9,
    "start_time": "2022-12-24T17:31:15.960Z"
   },
   {
    "duration": 7,
    "start_time": "2022-12-24T17:31:15.970Z"
   },
   {
    "duration": 17,
    "start_time": "2022-12-24T17:31:53.877Z"
   },
   {
    "duration": 7,
    "start_time": "2022-12-24T17:32:12.483Z"
   },
   {
    "duration": 3,
    "start_time": "2022-12-24T17:32:16.804Z"
   },
   {
    "duration": 1301,
    "start_time": "2022-12-24T17:32:56.567Z"
   },
   {
    "duration": 130,
    "start_time": "2022-12-24T17:32:57.870Z"
   },
   {
    "duration": 288,
    "start_time": "2022-12-24T17:32:58.001Z"
   },
   {
    "duration": 359,
    "start_time": "2022-12-24T17:32:58.292Z"
   },
   {
    "duration": 12,
    "start_time": "2022-12-24T17:32:58.653Z"
   },
   {
    "duration": 14,
    "start_time": "2022-12-24T17:32:58.667Z"
   },
   {
    "duration": 32,
    "start_time": "2022-12-24T17:32:58.683Z"
   },
   {
    "duration": 10,
    "start_time": "2022-12-24T17:32:58.717Z"
   },
   {
    "duration": 19,
    "start_time": "2022-12-24T17:32:58.729Z"
   },
   {
    "duration": 4,
    "start_time": "2022-12-24T17:32:58.751Z"
   },
   {
    "duration": 10,
    "start_time": "2022-12-24T17:32:58.757Z"
   },
   {
    "duration": 12,
    "start_time": "2022-12-24T17:32:58.769Z"
   },
   {
    "duration": 3,
    "start_time": "2022-12-24T17:32:58.782Z"
   },
   {
    "duration": 40,
    "start_time": "2022-12-24T17:32:58.787Z"
   },
   {
    "duration": 7,
    "start_time": "2022-12-24T17:32:58.829Z"
   },
   {
    "duration": 14,
    "start_time": "2022-12-24T17:32:58.837Z"
   },
   {
    "duration": 3,
    "start_time": "2022-12-24T17:32:58.853Z"
   },
   {
    "duration": 15,
    "start_time": "2022-12-24T17:32:58.857Z"
   },
   {
    "duration": 6,
    "start_time": "2022-12-24T17:32:58.873Z"
   },
   {
    "duration": 3,
    "start_time": "2022-12-24T17:32:58.881Z"
   },
   {
    "duration": 5,
    "start_time": "2022-12-24T17:32:58.886Z"
   },
   {
    "duration": 13,
    "start_time": "2022-12-24T17:33:38.780Z"
   },
   {
    "duration": 4,
    "start_time": "2022-12-24T17:36:13.051Z"
   },
   {
    "duration": 112,
    "start_time": "2022-12-24T17:36:13.490Z"
   },
   {
    "duration": 1337,
    "start_time": "2022-12-24T17:36:24.557Z"
   },
   {
    "duration": 113,
    "start_time": "2022-12-24T17:36:25.896Z"
   },
   {
    "duration": 287,
    "start_time": "2022-12-24T17:36:26.010Z"
   },
   {
    "duration": 364,
    "start_time": "2022-12-24T17:36:26.299Z"
   },
   {
    "duration": 12,
    "start_time": "2022-12-24T17:36:26.665Z"
   },
   {
    "duration": 28,
    "start_time": "2022-12-24T17:36:26.679Z"
   },
   {
    "duration": 38,
    "start_time": "2022-12-24T17:36:26.713Z"
   },
   {
    "duration": 21,
    "start_time": "2022-12-24T17:36:26.753Z"
   },
   {
    "duration": 17,
    "start_time": "2022-12-24T17:36:26.776Z"
   },
   {
    "duration": 44,
    "start_time": "2022-12-24T17:36:26.796Z"
   },
   {
    "duration": 23,
    "start_time": "2022-12-24T17:36:26.842Z"
   },
   {
    "duration": 26,
    "start_time": "2022-12-24T17:36:26.866Z"
   },
   {
    "duration": 13,
    "start_time": "2022-12-24T17:36:26.894Z"
   },
   {
    "duration": 41,
    "start_time": "2022-12-24T17:36:26.909Z"
   },
   {
    "duration": 19,
    "start_time": "2022-12-24T17:36:26.951Z"
   },
   {
    "duration": 39,
    "start_time": "2022-12-24T17:36:26.972Z"
   },
   {
    "duration": 17,
    "start_time": "2022-12-24T17:36:27.013Z"
   },
   {
    "duration": 39,
    "start_time": "2022-12-24T17:36:27.032Z"
   },
   {
    "duration": 19,
    "start_time": "2022-12-24T17:36:27.072Z"
   },
   {
    "duration": 141,
    "start_time": "2022-12-24T17:36:27.092Z"
   },
   {
    "duration": 0,
    "start_time": "2022-12-24T17:36:27.234Z"
   },
   {
    "duration": 1,
    "start_time": "2022-12-24T17:36:27.237Z"
   },
   {
    "duration": 10,
    "start_time": "2022-12-24T17:38:45.149Z"
   },
   {
    "duration": 1357,
    "start_time": "2022-12-24T17:38:58.032Z"
   },
   {
    "duration": 114,
    "start_time": "2022-12-24T17:38:59.391Z"
   },
   {
    "duration": 284,
    "start_time": "2022-12-24T17:38:59.507Z"
   },
   {
    "duration": 354,
    "start_time": "2022-12-24T17:38:59.793Z"
   },
   {
    "duration": 13,
    "start_time": "2022-12-24T17:39:00.149Z"
   },
   {
    "duration": 18,
    "start_time": "2022-12-24T17:39:00.164Z"
   },
   {
    "duration": 29,
    "start_time": "2022-12-24T17:39:00.184Z"
   },
   {
    "duration": 18,
    "start_time": "2022-12-24T17:39:00.214Z"
   },
   {
    "duration": 23,
    "start_time": "2022-12-24T17:39:00.234Z"
   },
   {
    "duration": 14,
    "start_time": "2022-12-24T17:39:00.260Z"
   },
   {
    "duration": 14,
    "start_time": "2022-12-24T17:39:00.276Z"
   },
   {
    "duration": 18,
    "start_time": "2022-12-24T17:39:00.292Z"
   },
   {
    "duration": 56,
    "start_time": "2022-12-24T17:39:00.313Z"
   },
   {
    "duration": 38,
    "start_time": "2022-12-24T17:39:00.372Z"
   },
   {
    "duration": 48,
    "start_time": "2022-12-24T17:39:00.414Z"
   },
   {
    "duration": 42,
    "start_time": "2022-12-24T17:39:00.464Z"
   },
   {
    "duration": 54,
    "start_time": "2022-12-24T17:39:00.509Z"
   },
   {
    "duration": 30,
    "start_time": "2022-12-24T17:39:00.565Z"
   },
   {
    "duration": 14,
    "start_time": "2022-12-24T17:39:00.597Z"
   },
   {
    "duration": 126,
    "start_time": "2022-12-24T17:39:00.613Z"
   },
   {
    "duration": 0,
    "start_time": "2022-12-24T17:39:00.741Z"
   },
   {
    "duration": 0,
    "start_time": "2022-12-24T17:39:00.742Z"
   },
   {
    "duration": 8,
    "start_time": "2022-12-24T17:40:43.316Z"
   },
   {
    "duration": 8,
    "start_time": "2022-12-24T17:40:58.093Z"
   },
   {
    "duration": 1355,
    "start_time": "2022-12-24T17:42:28.419Z"
   },
   {
    "duration": 106,
    "start_time": "2022-12-24T17:42:29.775Z"
   },
   {
    "duration": 262,
    "start_time": "2022-12-24T17:42:29.882Z"
   },
   {
    "duration": 402,
    "start_time": "2022-12-24T17:42:30.146Z"
   },
   {
    "duration": 14,
    "start_time": "2022-12-24T17:42:30.549Z"
   },
   {
    "duration": 63,
    "start_time": "2022-12-24T17:42:30.564Z"
   },
   {
    "duration": 37,
    "start_time": "2022-12-24T17:42:30.628Z"
   },
   {
    "duration": 25,
    "start_time": "2022-12-24T17:42:30.666Z"
   },
   {
    "duration": 44,
    "start_time": "2022-12-24T17:42:30.693Z"
   },
   {
    "duration": 50,
    "start_time": "2022-12-24T17:42:30.740Z"
   },
   {
    "duration": 38,
    "start_time": "2022-12-24T17:42:30.791Z"
   },
   {
    "duration": 44,
    "start_time": "2022-12-24T17:42:30.831Z"
   },
   {
    "duration": 39,
    "start_time": "2022-12-24T17:42:30.877Z"
   },
   {
    "duration": 52,
    "start_time": "2022-12-24T17:42:30.918Z"
   },
   {
    "duration": 16,
    "start_time": "2022-12-24T17:42:30.972Z"
   },
   {
    "duration": 34,
    "start_time": "2022-12-24T17:42:30.990Z"
   },
   {
    "duration": 19,
    "start_time": "2022-12-24T17:42:31.025Z"
   },
   {
    "duration": 44,
    "start_time": "2022-12-24T17:42:31.046Z"
   },
   {
    "duration": 30,
    "start_time": "2022-12-24T17:42:31.092Z"
   },
   {
    "duration": 37,
    "start_time": "2022-12-24T17:42:31.123Z"
   },
   {
    "duration": 30,
    "start_time": "2022-12-24T17:42:31.161Z"
   },
   {
    "duration": 4,
    "start_time": "2022-12-24T17:42:31.192Z"
   },
   {
    "duration": 40,
    "start_time": "2022-12-24T17:42:31.198Z"
   },
   {
    "duration": 19,
    "start_time": "2022-12-24T17:42:31.240Z"
   },
   {
    "duration": 8,
    "start_time": "2022-12-24T17:43:09.123Z"
   },
   {
    "duration": 103,
    "start_time": "2022-12-24T18:12:42.790Z"
   },
   {
    "duration": 15,
    "start_time": "2022-12-24T18:12:51.472Z"
   },
   {
    "duration": 281521,
    "start_time": "2022-12-24T18:14:14.702Z"
   },
   {
    "duration": 167,
    "start_time": "2022-12-24T18:18:56.225Z"
   },
   {
    "duration": 1224,
    "start_time": "2022-12-24T18:23:36.533Z"
   },
   {
    "duration": 16,
    "start_time": "2022-12-24T18:24:21.090Z"
   },
   {
    "duration": 17,
    "start_time": "2022-12-24T18:24:49.791Z"
   },
   {
    "duration": 136,
    "start_time": "2022-12-24T18:25:01.870Z"
   },
   {
    "duration": 147,
    "start_time": "2022-12-24T18:25:26.454Z"
   },
   {
    "duration": 364,
    "start_time": "2022-12-24T18:28:10.603Z"
   },
   {
    "duration": 136,
    "start_time": "2022-12-24T18:28:18.453Z"
   },
   {
    "duration": 138,
    "start_time": "2022-12-24T18:29:05.255Z"
   },
   {
    "duration": 159,
    "start_time": "2022-12-24T18:32:22.521Z"
   },
   {
    "duration": 153,
    "start_time": "2022-12-24T18:32:34.453Z"
   },
   {
    "duration": 168,
    "start_time": "2022-12-24T18:33:35.003Z"
   },
   {
    "duration": 20,
    "start_time": "2022-12-24T18:36:56.035Z"
   },
   {
    "duration": 161,
    "start_time": "2022-12-24T18:37:23.532Z"
   },
   {
    "duration": 1158,
    "start_time": "2022-12-24T18:45:02.865Z"
   },
   {
    "duration": 1127,
    "start_time": "2022-12-24T18:46:09.273Z"
   },
   {
    "duration": 1163,
    "start_time": "2022-12-24T18:47:09.124Z"
   },
   {
    "duration": 14,
    "start_time": "2022-12-24T18:47:22.713Z"
   },
   {
    "duration": 13,
    "start_time": "2022-12-24T18:47:28.246Z"
   },
   {
    "duration": 14,
    "start_time": "2022-12-24T18:47:42.349Z"
   },
   {
    "duration": 17,
    "start_time": "2022-12-24T18:47:47.644Z"
   },
   {
    "duration": 163,
    "start_time": "2022-12-24T18:48:08.615Z"
   },
   {
    "duration": 1349,
    "start_time": "2022-12-24T18:48:53.331Z"
   },
   {
    "duration": 119,
    "start_time": "2022-12-24T18:48:54.682Z"
   },
   {
    "duration": 282,
    "start_time": "2022-12-24T18:48:54.803Z"
   },
   {
    "duration": 349,
    "start_time": "2022-12-24T18:48:55.087Z"
   },
   {
    "duration": 12,
    "start_time": "2022-12-24T18:48:55.438Z"
   },
   {
    "duration": 14,
    "start_time": "2022-12-24T18:48:55.451Z"
   },
   {
    "duration": 15,
    "start_time": "2022-12-24T18:48:55.467Z"
   },
   {
    "duration": 9,
    "start_time": "2022-12-24T18:48:55.483Z"
   },
   {
    "duration": 13,
    "start_time": "2022-12-24T18:48:55.514Z"
   },
   {
    "duration": 5,
    "start_time": "2022-12-24T18:48:55.530Z"
   },
   {
    "duration": 9,
    "start_time": "2022-12-24T18:48:55.537Z"
   },
   {
    "duration": 19,
    "start_time": "2022-12-24T18:48:55.547Z"
   },
   {
    "duration": 3,
    "start_time": "2022-12-24T18:48:55.567Z"
   },
   {
    "duration": 26,
    "start_time": "2022-12-24T18:48:55.572Z"
   },
   {
    "duration": 14,
    "start_time": "2022-12-24T18:48:55.600Z"
   },
   {
    "duration": 16,
    "start_time": "2022-12-24T18:48:55.616Z"
   },
   {
    "duration": 3,
    "start_time": "2022-12-24T18:48:55.634Z"
   },
   {
    "duration": 19,
    "start_time": "2022-12-24T18:48:55.638Z"
   },
   {
    "duration": 6,
    "start_time": "2022-12-24T18:48:55.658Z"
   },
   {
    "duration": 6,
    "start_time": "2022-12-24T18:48:55.665Z"
   },
   {
    "duration": 16,
    "start_time": "2022-12-24T18:48:55.673Z"
   },
   {
    "duration": 37,
    "start_time": "2022-12-24T18:48:55.690Z"
   },
   {
    "duration": 175,
    "start_time": "2022-12-24T18:48:55.729Z"
   },
   {
    "duration": 23,
    "start_time": "2022-12-24T18:48:55.905Z"
   },
   {
    "duration": 171,
    "start_time": "2022-12-24T18:48:55.929Z"
   },
   {
    "duration": 18,
    "start_time": "2022-12-24T18:48:56.102Z"
   },
   {
    "duration": 162,
    "start_time": "2022-12-24T18:48:56.121Z"
   },
   {
    "duration": 169,
    "start_time": "2022-12-24T18:50:03.430Z"
   },
   {
    "duration": 177,
    "start_time": "2022-12-24T18:50:23.851Z"
   },
   {
    "duration": 1400,
    "start_time": "2022-12-24T18:50:30.082Z"
   },
   {
    "duration": 110,
    "start_time": "2022-12-24T18:50:31.483Z"
   },
   {
    "duration": 272,
    "start_time": "2022-12-24T18:50:31.595Z"
   },
   {
    "duration": 359,
    "start_time": "2022-12-24T18:50:31.869Z"
   },
   {
    "duration": 12,
    "start_time": "2022-12-24T18:50:32.229Z"
   },
   {
    "duration": 14,
    "start_time": "2022-12-24T18:50:32.243Z"
   },
   {
    "duration": 15,
    "start_time": "2022-12-24T18:50:32.258Z"
   },
   {
    "duration": 7,
    "start_time": "2022-12-24T18:50:32.274Z"
   },
   {
    "duration": 11,
    "start_time": "2022-12-24T18:50:32.282Z"
   },
   {
    "duration": 5,
    "start_time": "2022-12-24T18:50:32.296Z"
   },
   {
    "duration": 4,
    "start_time": "2022-12-24T18:50:32.313Z"
   },
   {
    "duration": 9,
    "start_time": "2022-12-24T18:50:32.318Z"
   },
   {
    "duration": 4,
    "start_time": "2022-12-24T18:50:32.328Z"
   },
   {
    "duration": 10,
    "start_time": "2022-12-24T18:50:32.334Z"
   },
   {
    "duration": 3,
    "start_time": "2022-12-24T18:50:32.345Z"
   },
   {
    "duration": 18,
    "start_time": "2022-12-24T18:50:32.349Z"
   },
   {
    "duration": 7,
    "start_time": "2022-12-24T18:50:32.369Z"
   },
   {
    "duration": 19,
    "start_time": "2022-12-24T18:50:32.377Z"
   },
   {
    "duration": 5,
    "start_time": "2022-12-24T18:50:32.397Z"
   },
   {
    "duration": 4,
    "start_time": "2022-12-24T18:50:32.404Z"
   },
   {
    "duration": 28,
    "start_time": "2022-12-24T18:50:32.409Z"
   },
   {
    "duration": 32,
    "start_time": "2022-12-24T18:50:32.439Z"
   },
   {
    "duration": 195,
    "start_time": "2022-12-24T18:50:32.473Z"
   },
   {
    "duration": 201,
    "start_time": "2022-12-24T18:50:32.670Z"
   },
   {
    "duration": 172,
    "start_time": "2022-12-24T18:50:32.872Z"
   },
   {
    "duration": 178,
    "start_time": "2022-12-24T18:50:33.045Z"
   },
   {
    "duration": 434,
    "start_time": "2022-12-24T18:51:26.513Z"
   },
   {
    "duration": 349,
    "start_time": "2022-12-24T18:51:31.642Z"
   },
   {
    "duration": 169,
    "start_time": "2022-12-24T18:51:47.884Z"
   },
   {
    "duration": 165,
    "start_time": "2022-12-24T18:51:51.926Z"
   },
   {
    "duration": 1363,
    "start_time": "2022-12-24T18:52:44.683Z"
   },
   {
    "duration": 106,
    "start_time": "2022-12-24T18:52:46.048Z"
   },
   {
    "duration": 270,
    "start_time": "2022-12-24T18:52:46.156Z"
   },
   {
    "duration": 347,
    "start_time": "2022-12-24T18:52:46.428Z"
   },
   {
    "duration": 11,
    "start_time": "2022-12-24T18:52:46.777Z"
   },
   {
    "duration": 23,
    "start_time": "2022-12-24T18:52:46.790Z"
   },
   {
    "duration": 16,
    "start_time": "2022-12-24T18:52:46.815Z"
   },
   {
    "duration": 7,
    "start_time": "2022-12-24T18:52:46.832Z"
   },
   {
    "duration": 11,
    "start_time": "2022-12-24T18:52:46.841Z"
   },
   {
    "duration": 17,
    "start_time": "2022-12-24T18:52:46.854Z"
   },
   {
    "duration": 13,
    "start_time": "2022-12-24T18:52:46.872Z"
   },
   {
    "duration": 19,
    "start_time": "2022-12-24T18:52:46.887Z"
   },
   {
    "duration": 27,
    "start_time": "2022-12-24T18:52:46.908Z"
   },
   {
    "duration": 27,
    "start_time": "2022-12-24T18:52:46.937Z"
   },
   {
    "duration": 23,
    "start_time": "2022-12-24T18:52:46.966Z"
   },
   {
    "duration": 18,
    "start_time": "2022-12-24T18:52:46.990Z"
   },
   {
    "duration": 3,
    "start_time": "2022-12-24T18:52:47.009Z"
   },
   {
    "duration": 26,
    "start_time": "2022-12-24T18:52:47.014Z"
   },
   {
    "duration": 5,
    "start_time": "2022-12-24T18:52:47.041Z"
   },
   {
    "duration": 21,
    "start_time": "2022-12-24T18:52:47.047Z"
   },
   {
    "duration": 36,
    "start_time": "2022-12-24T18:52:47.069Z"
   },
   {
    "duration": 39,
    "start_time": "2022-12-24T18:52:47.106Z"
   },
   {
    "duration": 153,
    "start_time": "2022-12-24T18:52:47.146Z"
   },
   {
    "duration": 176,
    "start_time": "2022-12-24T18:52:47.301Z"
   },
   {
    "duration": 169,
    "start_time": "2022-12-24T18:52:47.478Z"
   },
   {
    "duration": 166,
    "start_time": "2022-12-24T18:52:47.649Z"
   },
   {
    "duration": 165,
    "start_time": "2022-12-24T18:53:43.470Z"
   },
   {
    "duration": 287,
    "start_time": "2022-12-24T19:10:03.684Z"
   },
   {
    "duration": 105,
    "start_time": "2022-12-24T19:10:14.083Z"
   },
   {
    "duration": 121,
    "start_time": "2022-12-24T19:10:50.629Z"
   },
   {
    "duration": 120,
    "start_time": "2022-12-24T19:10:59.604Z"
   },
   {
    "duration": 135,
    "start_time": "2022-12-24T19:11:40.812Z"
   },
   {
    "duration": 154,
    "start_time": "2022-12-24T19:12:01.311Z"
   },
   {
    "duration": 5,
    "start_time": "2022-12-24T19:13:12.770Z"
   },
   {
    "duration": 141,
    "start_time": "2022-12-24T19:14:35.461Z"
   },
   {
    "duration": 149,
    "start_time": "2022-12-24T19:14:44.891Z"
   },
   {
    "duration": 170,
    "start_time": "2022-12-24T19:16:53.346Z"
   },
   {
    "duration": 166,
    "start_time": "2022-12-24T19:17:02.308Z"
   },
   {
    "duration": 172,
    "start_time": "2022-12-24T19:17:34.871Z"
   },
   {
    "duration": 1278,
    "start_time": "2022-12-24T19:27:06.038Z"
   },
   {
    "duration": 1249,
    "start_time": "2022-12-24T19:27:19.708Z"
   },
   {
    "duration": 96,
    "start_time": "2022-12-24T19:44:49.461Z"
   },
   {
    "duration": 3,
    "start_time": "2022-12-24T19:46:14.234Z"
   },
   {
    "duration": 10,
    "start_time": "2022-12-24T19:46:31.124Z"
   },
   {
    "duration": 5,
    "start_time": "2022-12-24T19:47:09.135Z"
   },
   {
    "duration": 4,
    "start_time": "2022-12-24T19:47:21.186Z"
   },
   {
    "duration": 12,
    "start_time": "2022-12-24T19:47:34.132Z"
   },
   {
    "duration": 1305,
    "start_time": "2022-12-24T19:55:10.620Z"
   },
   {
    "duration": 102,
    "start_time": "2022-12-24T19:55:11.927Z"
   },
   {
    "duration": 262,
    "start_time": "2022-12-24T19:55:12.030Z"
   },
   {
    "duration": 337,
    "start_time": "2022-12-24T19:55:12.294Z"
   },
   {
    "duration": 11,
    "start_time": "2022-12-24T19:55:12.633Z"
   },
   {
    "duration": 14,
    "start_time": "2022-12-24T19:55:12.646Z"
   },
   {
    "duration": 15,
    "start_time": "2022-12-24T19:55:12.661Z"
   },
   {
    "duration": 6,
    "start_time": "2022-12-24T19:55:12.677Z"
   },
   {
    "duration": 35,
    "start_time": "2022-12-24T19:55:12.685Z"
   },
   {
    "duration": 4,
    "start_time": "2022-12-24T19:55:12.723Z"
   },
   {
    "duration": 4,
    "start_time": "2022-12-24T19:55:12.729Z"
   },
   {
    "duration": 12,
    "start_time": "2022-12-24T19:55:12.735Z"
   },
   {
    "duration": 4,
    "start_time": "2022-12-24T19:55:12.749Z"
   },
   {
    "duration": 17,
    "start_time": "2022-12-24T19:55:12.755Z"
   },
   {
    "duration": 3,
    "start_time": "2022-12-24T19:55:12.774Z"
   },
   {
    "duration": 35,
    "start_time": "2022-12-24T19:55:12.778Z"
   },
   {
    "duration": 3,
    "start_time": "2022-12-24T19:55:12.815Z"
   },
   {
    "duration": 22,
    "start_time": "2022-12-24T19:55:12.820Z"
   },
   {
    "duration": 6,
    "start_time": "2022-12-24T19:55:12.844Z"
   },
   {
    "duration": 6,
    "start_time": "2022-12-24T19:55:12.851Z"
   },
   {
    "duration": 11,
    "start_time": "2022-12-24T19:55:12.858Z"
   },
   {
    "duration": 21,
    "start_time": "2022-12-24T19:55:12.870Z"
   },
   {
    "duration": 185,
    "start_time": "2022-12-24T19:55:12.893Z"
   },
   {
    "duration": 176,
    "start_time": "2022-12-24T19:55:13.080Z"
   },
   {
    "duration": 162,
    "start_time": "2022-12-24T19:55:13.257Z"
   },
   {
    "duration": 170,
    "start_time": "2022-12-24T19:55:13.421Z"
   },
   {
    "duration": 7,
    "start_time": "2022-12-24T19:55:13.593Z"
   },
   {
    "duration": 105,
    "start_time": "2022-12-24T19:55:13.612Z"
   },
   {
    "duration": 11,
    "start_time": "2022-12-24T19:55:26.866Z"
   },
   {
    "duration": 6,
    "start_time": "2022-12-24T19:55:31.339Z"
   },
   {
    "duration": 9,
    "start_time": "2022-12-24T19:56:20.681Z"
   },
   {
    "duration": 9,
    "start_time": "2022-12-24T20:00:22.178Z"
   },
   {
    "duration": 19,
    "start_time": "2022-12-24T20:01:12.930Z"
   },
   {
    "duration": 5,
    "start_time": "2022-12-24T20:01:33.425Z"
   },
   {
    "duration": 3,
    "start_time": "2022-12-24T20:09:54.441Z"
   },
   {
    "duration": 12,
    "start_time": "2022-12-24T20:10:52.931Z"
   },
   {
    "duration": 4,
    "start_time": "2022-12-24T20:12:14.696Z"
   },
   {
    "duration": 4,
    "start_time": "2022-12-24T20:12:23.204Z"
   },
   {
    "duration": 1352,
    "start_time": "2022-12-24T20:15:46.612Z"
   },
   {
    "duration": 113,
    "start_time": "2022-12-24T20:15:47.966Z"
   },
   {
    "duration": 269,
    "start_time": "2022-12-24T20:15:48.080Z"
   },
   {
    "duration": 349,
    "start_time": "2022-12-24T20:15:48.351Z"
   },
   {
    "duration": 17,
    "start_time": "2022-12-24T20:15:48.701Z"
   },
   {
    "duration": 17,
    "start_time": "2022-12-24T20:15:48.720Z"
   },
   {
    "duration": 16,
    "start_time": "2022-12-24T20:15:48.739Z"
   },
   {
    "duration": 7,
    "start_time": "2022-12-24T20:15:48.756Z"
   },
   {
    "duration": 11,
    "start_time": "2022-12-24T20:15:48.764Z"
   },
   {
    "duration": 4,
    "start_time": "2022-12-24T20:15:48.778Z"
   },
   {
    "duration": 33,
    "start_time": "2022-12-24T20:15:48.783Z"
   },
   {
    "duration": 9,
    "start_time": "2022-12-24T20:15:48.818Z"
   },
   {
    "duration": 3,
    "start_time": "2022-12-24T20:15:48.828Z"
   },
   {
    "duration": 21,
    "start_time": "2022-12-24T20:15:48.833Z"
   },
   {
    "duration": 4,
    "start_time": "2022-12-24T20:15:48.856Z"
   },
   {
    "duration": 15,
    "start_time": "2022-12-24T20:15:48.862Z"
   },
   {
    "duration": 23,
    "start_time": "2022-12-24T20:15:48.879Z"
   },
   {
    "duration": 21,
    "start_time": "2022-12-24T20:15:48.904Z"
   },
   {
    "duration": 6,
    "start_time": "2022-12-24T20:15:48.927Z"
   },
   {
    "duration": 12,
    "start_time": "2022-12-24T20:15:48.934Z"
   },
   {
    "duration": 15,
    "start_time": "2022-12-24T20:15:48.947Z"
   },
   {
    "duration": 22,
    "start_time": "2022-12-24T20:15:48.963Z"
   },
   {
    "duration": 179,
    "start_time": "2022-12-24T20:15:48.987Z"
   },
   {
    "duration": 181,
    "start_time": "2022-12-24T20:15:49.168Z"
   },
   {
    "duration": 167,
    "start_time": "2022-12-24T20:15:49.351Z"
   },
   {
    "duration": 168,
    "start_time": "2022-12-24T20:15:49.520Z"
   },
   {
    "duration": 6,
    "start_time": "2022-12-24T20:15:49.690Z"
   },
   {
    "duration": 23,
    "start_time": "2022-12-24T20:15:49.699Z"
   },
   {
    "duration": 26,
    "start_time": "2022-12-24T20:15:49.723Z"
   },
   {
    "duration": 73,
    "start_time": "2022-12-24T20:15:49.750Z"
   },
   {
    "duration": 0,
    "start_time": "2022-12-24T20:15:49.824Z"
   },
   {
    "duration": 0,
    "start_time": "2022-12-24T20:15:49.825Z"
   },
   {
    "duration": 0,
    "start_time": "2022-12-24T20:15:49.827Z"
   },
   {
    "duration": 76,
    "start_time": "2022-12-24T20:16:38.992Z"
   },
   {
    "duration": 19,
    "start_time": "2022-12-24T20:16:43.136Z"
   },
   {
    "duration": 4,
    "start_time": "2022-12-24T20:16:46.325Z"
   },
   {
    "duration": 1357,
    "start_time": "2022-12-24T20:18:50.080Z"
   },
   {
    "duration": 110,
    "start_time": "2022-12-24T20:18:51.439Z"
   },
   {
    "duration": 274,
    "start_time": "2022-12-24T20:18:51.551Z"
   },
   {
    "duration": 349,
    "start_time": "2022-12-24T20:18:51.827Z"
   },
   {
    "duration": 13,
    "start_time": "2022-12-24T20:18:52.177Z"
   },
   {
    "duration": 27,
    "start_time": "2022-12-24T20:18:52.191Z"
   },
   {
    "duration": 16,
    "start_time": "2022-12-24T20:18:52.220Z"
   },
   {
    "duration": 7,
    "start_time": "2022-12-24T20:18:52.238Z"
   },
   {
    "duration": 19,
    "start_time": "2022-12-24T20:18:52.247Z"
   },
   {
    "duration": 6,
    "start_time": "2022-12-24T20:18:52.269Z"
   },
   {
    "duration": 8,
    "start_time": "2022-12-24T20:18:52.276Z"
   },
   {
    "duration": 31,
    "start_time": "2022-12-24T20:18:52.286Z"
   },
   {
    "duration": 4,
    "start_time": "2022-12-24T20:18:52.318Z"
   },
   {
    "duration": 11,
    "start_time": "2022-12-24T20:18:52.323Z"
   },
   {
    "duration": 3,
    "start_time": "2022-12-24T20:18:52.335Z"
   },
   {
    "duration": 21,
    "start_time": "2022-12-24T20:18:52.340Z"
   },
   {
    "duration": 3,
    "start_time": "2022-12-24T20:18:52.363Z"
   },
   {
    "duration": 19,
    "start_time": "2022-12-24T20:18:52.368Z"
   },
   {
    "duration": 5,
    "start_time": "2022-12-24T20:18:52.414Z"
   },
   {
    "duration": 9,
    "start_time": "2022-12-24T20:18:52.421Z"
   },
   {
    "duration": 13,
    "start_time": "2022-12-24T20:18:52.432Z"
   },
   {
    "duration": 28,
    "start_time": "2022-12-24T20:18:52.447Z"
   },
   {
    "duration": 171,
    "start_time": "2022-12-24T20:18:52.477Z"
   },
   {
    "duration": 165,
    "start_time": "2022-12-24T20:18:52.649Z"
   },
   {
    "duration": 183,
    "start_time": "2022-12-24T20:18:52.816Z"
   },
   {
    "duration": 163,
    "start_time": "2022-12-24T20:18:53.000Z"
   },
   {
    "duration": 6,
    "start_time": "2022-12-24T20:18:53.164Z"
   },
   {
    "duration": 8,
    "start_time": "2022-12-24T20:18:53.173Z"
   },
   {
    "duration": 15,
    "start_time": "2022-12-24T20:18:53.182Z"
   },
   {
    "duration": 22,
    "start_time": "2022-12-24T20:18:53.199Z"
   },
   {
    "duration": 4,
    "start_time": "2022-12-24T20:18:53.222Z"
   },
   {
    "duration": 24,
    "start_time": "2022-12-24T20:18:53.228Z"
   },
   {
    "duration": 15,
    "start_time": "2022-12-24T20:18:53.254Z"
   },
   {
    "duration": 5,
    "start_time": "2022-12-24T20:19:36.909Z"
   },
   {
    "duration": 1363,
    "start_time": "2022-12-24T20:19:46.999Z"
   },
   {
    "duration": 111,
    "start_time": "2022-12-24T20:19:48.364Z"
   },
   {
    "duration": 267,
    "start_time": "2022-12-24T20:19:48.478Z"
   },
   {
    "duration": 359,
    "start_time": "2022-12-24T20:19:48.747Z"
   },
   {
    "duration": 14,
    "start_time": "2022-12-24T20:19:49.107Z"
   },
   {
    "duration": 17,
    "start_time": "2022-12-24T20:19:49.122Z"
   },
   {
    "duration": 17,
    "start_time": "2022-12-24T20:19:49.140Z"
   },
   {
    "duration": 8,
    "start_time": "2022-12-24T20:19:49.159Z"
   },
   {
    "duration": 43,
    "start_time": "2022-12-24T20:19:49.170Z"
   },
   {
    "duration": 5,
    "start_time": "2022-12-24T20:19:49.215Z"
   },
   {
    "duration": 16,
    "start_time": "2022-12-24T20:19:49.222Z"
   },
   {
    "duration": 10,
    "start_time": "2022-12-24T20:19:49.239Z"
   },
   {
    "duration": 3,
    "start_time": "2022-12-24T20:19:49.251Z"
   },
   {
    "duration": 14,
    "start_time": "2022-12-24T20:19:49.256Z"
   },
   {
    "duration": 3,
    "start_time": "2022-12-24T20:19:49.272Z"
   },
   {
    "duration": 37,
    "start_time": "2022-12-24T20:19:49.276Z"
   },
   {
    "duration": 3,
    "start_time": "2022-12-24T20:19:49.315Z"
   },
   {
    "duration": 19,
    "start_time": "2022-12-24T20:19:49.320Z"
   },
   {
    "duration": 6,
    "start_time": "2022-12-24T20:19:49.341Z"
   },
   {
    "duration": 13,
    "start_time": "2022-12-24T20:19:49.349Z"
   },
   {
    "duration": 23,
    "start_time": "2022-12-24T20:19:49.364Z"
   },
   {
    "duration": 24,
    "start_time": "2022-12-24T20:19:49.389Z"
   },
   {
    "duration": 172,
    "start_time": "2022-12-24T20:19:49.415Z"
   },
   {
    "duration": 170,
    "start_time": "2022-12-24T20:19:49.588Z"
   },
   {
    "duration": 174,
    "start_time": "2022-12-24T20:19:49.760Z"
   },
   {
    "duration": 174,
    "start_time": "2022-12-24T20:19:49.936Z"
   },
   {
    "duration": 8,
    "start_time": "2022-12-24T20:19:50.114Z"
   },
   {
    "duration": 9,
    "start_time": "2022-12-24T20:19:50.123Z"
   },
   {
    "duration": 4,
    "start_time": "2022-12-24T20:19:50.134Z"
   },
   {
    "duration": 4,
    "start_time": "2022-12-24T20:19:50.140Z"
   },
   {
    "duration": 22,
    "start_time": "2022-12-24T20:19:50.145Z"
   },
   {
    "duration": 5,
    "start_time": "2022-12-24T20:19:50.169Z"
   },
   {
    "duration": 39,
    "start_time": "2022-12-24T20:19:50.175Z"
   },
   {
    "duration": 7,
    "start_time": "2022-12-24T20:19:50.216Z"
   },
   {
    "duration": 72,
    "start_time": "2022-12-24T20:23:03.709Z"
   },
   {
    "duration": 69,
    "start_time": "2022-12-24T20:23:35.877Z"
   },
   {
    "duration": 1312,
    "start_time": "2022-12-24T20:23:42.570Z"
   },
   {
    "duration": 110,
    "start_time": "2022-12-24T20:23:43.884Z"
   },
   {
    "duration": 267,
    "start_time": "2022-12-24T20:23:43.996Z"
   },
   {
    "duration": 346,
    "start_time": "2022-12-24T20:23:44.265Z"
   },
   {
    "duration": 16,
    "start_time": "2022-12-24T20:23:44.613Z"
   },
   {
    "duration": 43,
    "start_time": "2022-12-24T20:23:44.631Z"
   },
   {
    "duration": 76,
    "start_time": "2022-12-24T20:23:44.676Z"
   },
   {
    "duration": 54,
    "start_time": "2022-12-24T20:23:44.754Z"
   },
   {
    "duration": 58,
    "start_time": "2022-12-24T20:23:44.810Z"
   },
   {
    "duration": 34,
    "start_time": "2022-12-24T20:23:44.871Z"
   },
   {
    "duration": 18,
    "start_time": "2022-12-24T20:23:44.907Z"
   },
   {
    "duration": 9,
    "start_time": "2022-12-24T20:23:44.926Z"
   },
   {
    "duration": 17,
    "start_time": "2022-12-24T20:23:44.938Z"
   },
   {
    "duration": 12,
    "start_time": "2022-12-24T20:23:44.956Z"
   },
   {
    "duration": 8,
    "start_time": "2022-12-24T20:23:44.970Z"
   },
   {
    "duration": 16,
    "start_time": "2022-12-24T20:23:44.980Z"
   },
   {
    "duration": 3,
    "start_time": "2022-12-24T20:23:44.998Z"
   },
   {
    "duration": 39,
    "start_time": "2022-12-24T20:23:45.002Z"
   },
   {
    "duration": 12,
    "start_time": "2022-12-24T20:23:45.042Z"
   },
   {
    "duration": 8,
    "start_time": "2022-12-24T20:23:45.056Z"
   },
   {
    "duration": 15,
    "start_time": "2022-12-24T20:23:45.066Z"
   },
   {
    "duration": 20,
    "start_time": "2022-12-24T20:23:45.083Z"
   },
   {
    "duration": 165,
    "start_time": "2022-12-24T20:23:45.105Z"
   },
   {
    "duration": 187,
    "start_time": "2022-12-24T20:23:45.271Z"
   },
   {
    "duration": 176,
    "start_time": "2022-12-24T20:23:45.460Z"
   },
   {
    "duration": 176,
    "start_time": "2022-12-24T20:23:45.637Z"
   },
   {
    "duration": 8,
    "start_time": "2022-12-24T20:23:45.814Z"
   },
   {
    "duration": 73,
    "start_time": "2022-12-24T20:23:45.825Z"
   },
   {
    "duration": 0,
    "start_time": "2022-12-24T20:23:45.900Z"
   },
   {
    "duration": 0,
    "start_time": "2022-12-24T20:23:45.902Z"
   },
   {
    "duration": 0,
    "start_time": "2022-12-24T20:23:45.903Z"
   },
   {
    "duration": 0,
    "start_time": "2022-12-24T20:23:45.905Z"
   },
   {
    "duration": 0,
    "start_time": "2022-12-24T20:23:45.906Z"
   },
   {
    "duration": 0,
    "start_time": "2022-12-24T20:23:45.907Z"
   },
   {
    "duration": 0,
    "start_time": "2022-12-24T20:23:45.908Z"
   },
   {
    "duration": 22,
    "start_time": "2022-12-24T20:23:58.662Z"
   },
   {
    "duration": 4,
    "start_time": "2022-12-24T20:24:19.376Z"
   },
   {
    "duration": 5,
    "start_time": "2022-12-24T20:24:52.330Z"
   },
   {
    "duration": 5,
    "start_time": "2022-12-24T20:25:19.164Z"
   },
   {
    "duration": 203,
    "start_time": "2022-12-24T21:12:20.953Z"
   },
   {
    "duration": 75,
    "start_time": "2022-12-24T21:14:24.305Z"
   },
   {
    "duration": 91,
    "start_time": "2022-12-24T21:14:30.611Z"
   },
   {
    "duration": 68,
    "start_time": "2022-12-24T21:14:35.274Z"
   },
   {
    "duration": 85,
    "start_time": "2022-12-24T21:14:39.774Z"
   },
   {
    "duration": 3,
    "start_time": "2022-12-24T21:14:46.687Z"
   },
   {
    "duration": 3,
    "start_time": "2022-12-24T21:20:16.106Z"
   },
   {
    "duration": 3,
    "start_time": "2022-12-24T21:40:19.669Z"
   },
   {
    "duration": 3,
    "start_time": "2022-12-24T21:43:40.026Z"
   },
   {
    "duration": 96,
    "start_time": "2022-12-24T21:44:41.970Z"
   },
   {
    "duration": 9,
    "start_time": "2022-12-24T21:44:51.242Z"
   },
   {
    "duration": 3,
    "start_time": "2022-12-24T21:45:14.498Z"
   },
   {
    "duration": 3,
    "start_time": "2022-12-24T21:45:27.318Z"
   },
   {
    "duration": 4,
    "start_time": "2022-12-24T21:45:42.971Z"
   },
   {
    "duration": 1515,
    "start_time": "2022-12-25T09:35:27.491Z"
   },
   {
    "duration": 396,
    "start_time": "2022-12-25T09:35:29.008Z"
   },
   {
    "duration": 816,
    "start_time": "2022-12-25T09:35:29.406Z"
   },
   {
    "duration": 1753,
    "start_time": "2022-12-25T09:35:30.224Z"
   },
   {
    "duration": 12,
    "start_time": "2022-12-25T09:35:31.979Z"
   },
   {
    "duration": 15,
    "start_time": "2022-12-25T09:35:31.993Z"
   },
   {
    "duration": 17,
    "start_time": "2022-12-25T09:35:32.009Z"
   },
   {
    "duration": 6,
    "start_time": "2022-12-25T09:35:32.028Z"
   },
   {
    "duration": 11,
    "start_time": "2022-12-25T09:35:32.036Z"
   },
   {
    "duration": 178,
    "start_time": "2022-12-25T09:35:32.049Z"
   },
   {
    "duration": 16,
    "start_time": "2022-12-25T09:35:32.229Z"
   },
   {
    "duration": 8,
    "start_time": "2022-12-25T09:35:32.247Z"
   },
   {
    "duration": 5,
    "start_time": "2022-12-25T09:35:32.257Z"
   },
   {
    "duration": 15,
    "start_time": "2022-12-25T09:35:32.265Z"
   },
   {
    "duration": 5,
    "start_time": "2022-12-25T09:35:32.281Z"
   },
   {
    "duration": 42,
    "start_time": "2022-12-25T09:35:32.288Z"
   },
   {
    "duration": 3,
    "start_time": "2022-12-25T09:35:32.332Z"
   },
   {
    "duration": 15,
    "start_time": "2022-12-25T09:35:32.336Z"
   },
   {
    "duration": 4,
    "start_time": "2022-12-25T09:35:32.353Z"
   },
   {
    "duration": 11,
    "start_time": "2022-12-25T09:35:32.358Z"
   },
   {
    "duration": 12,
    "start_time": "2022-12-25T09:35:32.370Z"
   },
   {
    "duration": 58,
    "start_time": "2022-12-25T09:35:32.384Z"
   },
   {
    "duration": 189,
    "start_time": "2022-12-25T09:35:32.443Z"
   },
   {
    "duration": 193,
    "start_time": "2022-12-25T09:35:32.634Z"
   },
   {
    "duration": 176,
    "start_time": "2022-12-25T09:35:32.828Z"
   },
   {
    "duration": 159,
    "start_time": "2022-12-25T09:35:33.005Z"
   },
   {
    "duration": 7,
    "start_time": "2022-12-25T09:35:33.166Z"
   },
   {
    "duration": 9,
    "start_time": "2022-12-25T09:35:33.174Z"
   },
   {
    "duration": 5,
    "start_time": "2022-12-25T09:35:33.185Z"
   },
   {
    "duration": 5,
    "start_time": "2022-12-25T09:35:33.192Z"
   },
   {
    "duration": 24,
    "start_time": "2022-12-25T09:35:33.198Z"
   },
   {
    "duration": 7,
    "start_time": "2022-12-25T09:35:33.224Z"
   },
   {
    "duration": 5,
    "start_time": "2022-12-25T09:35:33.232Z"
   },
   {
    "duration": 7,
    "start_time": "2022-12-25T09:35:33.239Z"
   },
   {
    "duration": 9,
    "start_time": "2022-12-25T09:35:33.247Z"
   },
   {
    "duration": 25,
    "start_time": "2022-12-25T09:47:55.417Z"
   },
   {
    "duration": 4,
    "start_time": "2022-12-25T10:12:57.015Z"
   },
   {
    "duration": 108,
    "start_time": "2022-12-25T10:19:08.568Z"
   },
   {
    "duration": 9,
    "start_time": "2022-12-25T10:19:12.352Z"
   },
   {
    "duration": 4,
    "start_time": "2022-12-25T10:19:33.818Z"
   },
   {
    "duration": 44,
    "start_time": "2022-12-25T10:26:59.168Z"
   },
   {
    "duration": 4,
    "start_time": "2022-12-25T10:27:08.941Z"
   },
   {
    "duration": 6,
    "start_time": "2022-12-25T10:37:35.068Z"
   },
   {
    "duration": 12,
    "start_time": "2022-12-25T10:37:41.535Z"
   },
   {
    "duration": 19,
    "start_time": "2022-12-25T10:37:55.672Z"
   },
   {
    "duration": 9,
    "start_time": "2022-12-25T10:38:28.200Z"
   },
   {
    "duration": 7,
    "start_time": "2022-12-25T10:38:35.011Z"
   },
   {
    "duration": 8,
    "start_time": "2022-12-25T10:39:23.833Z"
   },
   {
    "duration": 21,
    "start_time": "2022-12-25T10:39:26.633Z"
   },
   {
    "duration": 10,
    "start_time": "2022-12-25T10:39:53.144Z"
   },
   {
    "duration": 26,
    "start_time": "2022-12-25T10:39:57.896Z"
   },
   {
    "duration": 3,
    "start_time": "2022-12-25T10:41:04.879Z"
   },
   {
    "duration": 416,
    "start_time": "2022-12-25T10:41:10.815Z"
   },
   {
    "duration": 607,
    "start_time": "2022-12-25T10:42:30.822Z"
   },
   {
    "duration": 469,
    "start_time": "2022-12-25T10:43:47.160Z"
   },
   {
    "duration": 910,
    "start_time": "2022-12-25T10:45:12.934Z"
   },
   {
    "duration": 363,
    "start_time": "2022-12-25T10:47:30.280Z"
   },
   {
    "duration": 9,
    "start_time": "2022-12-25T10:48:25.097Z"
   },
   {
    "duration": 1225,
    "start_time": "2022-12-25T10:50:11.199Z"
   },
   {
    "duration": 1118,
    "start_time": "2022-12-25T10:50:21.708Z"
   },
   {
    "duration": 1279,
    "start_time": "2022-12-25T10:52:31.791Z"
   },
   {
    "duration": 116,
    "start_time": "2022-12-25T10:52:33.071Z"
   },
   {
    "duration": 288,
    "start_time": "2022-12-25T10:52:33.188Z"
   },
   {
    "duration": 367,
    "start_time": "2022-12-25T10:52:33.478Z"
   },
   {
    "duration": 12,
    "start_time": "2022-12-25T10:52:33.847Z"
   },
   {
    "duration": 13,
    "start_time": "2022-12-25T10:52:33.860Z"
   },
   {
    "duration": 17,
    "start_time": "2022-12-25T10:52:33.874Z"
   },
   {
    "duration": 42,
    "start_time": "2022-12-25T10:52:33.892Z"
   },
   {
    "duration": 16,
    "start_time": "2022-12-25T10:52:33.935Z"
   },
   {
    "duration": 6,
    "start_time": "2022-12-25T10:52:33.954Z"
   },
   {
    "duration": 7,
    "start_time": "2022-12-25T10:52:33.962Z"
   },
   {
    "duration": 11,
    "start_time": "2022-12-25T10:52:33.970Z"
   },
   {
    "duration": 3,
    "start_time": "2022-12-25T10:52:33.983Z"
   },
   {
    "duration": 12,
    "start_time": "2022-12-25T10:52:33.988Z"
   },
   {
    "duration": 34,
    "start_time": "2022-12-25T10:52:34.002Z"
   },
   {
    "duration": 4,
    "start_time": "2022-12-25T10:52:34.037Z"
   },
   {
    "duration": 13,
    "start_time": "2022-12-25T10:52:34.043Z"
   },
   {
    "duration": 3,
    "start_time": "2022-12-25T10:52:34.058Z"
   },
   {
    "duration": 21,
    "start_time": "2022-12-25T10:52:34.063Z"
   },
   {
    "duration": 6,
    "start_time": "2022-12-25T10:52:34.085Z"
   },
   {
    "duration": 10,
    "start_time": "2022-12-25T10:52:34.092Z"
   },
   {
    "duration": 21,
    "start_time": "2022-12-25T10:52:34.121Z"
   },
   {
    "duration": 22,
    "start_time": "2022-12-25T10:52:34.143Z"
   },
   {
    "duration": 170,
    "start_time": "2022-12-25T10:52:34.167Z"
   },
   {
    "duration": 191,
    "start_time": "2022-12-25T10:52:34.339Z"
   },
   {
    "duration": 183,
    "start_time": "2022-12-25T10:52:34.531Z"
   },
   {
    "duration": 167,
    "start_time": "2022-12-25T10:52:34.721Z"
   },
   {
    "duration": 8,
    "start_time": "2022-12-25T10:52:34.891Z"
   },
   {
    "duration": 9,
    "start_time": "2022-12-25T10:52:34.900Z"
   },
   {
    "duration": 11,
    "start_time": "2022-12-25T10:52:34.922Z"
   },
   {
    "duration": 6,
    "start_time": "2022-12-25T10:52:34.935Z"
   },
   {
    "duration": 7,
    "start_time": "2022-12-25T10:52:34.943Z"
   },
   {
    "duration": 5,
    "start_time": "2022-12-25T10:52:34.951Z"
   },
   {
    "duration": 12,
    "start_time": "2022-12-25T10:52:34.958Z"
   },
   {
    "duration": 8,
    "start_time": "2022-12-25T10:52:34.971Z"
   },
   {
    "duration": 6,
    "start_time": "2022-12-25T10:52:34.981Z"
   },
   {
    "duration": 6,
    "start_time": "2022-12-25T10:52:34.989Z"
   },
   {
    "duration": 1033,
    "start_time": "2022-12-25T10:52:34.997Z"
   },
   {
    "duration": 2105,
    "start_time": "2022-12-25T10:52:36.121Z"
   },
   {
    "duration": 1064,
    "start_time": "2022-12-25T11:03:05.956Z"
   },
   {
    "duration": 1460,
    "start_time": "2022-12-25T11:04:00.364Z"
   },
   {
    "duration": 34,
    "start_time": "2022-12-25T11:07:45.645Z"
   },
   {
    "duration": 33,
    "start_time": "2022-12-25T11:07:58.072Z"
   },
   {
    "duration": 25,
    "start_time": "2022-12-25T11:08:35.465Z"
   },
   {
    "duration": 31,
    "start_time": "2022-12-25T11:08:38.361Z"
   },
   {
    "duration": 128,
    "start_time": "2022-12-25T11:08:46.536Z"
   },
   {
    "duration": 14,
    "start_time": "2022-12-25T11:13:39.647Z"
   },
   {
    "duration": 3,
    "start_time": "2022-12-25T11:14:07.788Z"
   },
   {
    "duration": 26,
    "start_time": "2022-12-25T11:14:12.979Z"
   },
   {
    "duration": 18,
    "start_time": "2022-12-25T11:14:24.189Z"
   },
   {
    "duration": 4,
    "start_time": "2022-12-25T11:20:16.846Z"
   },
   {
    "duration": 5843,
    "start_time": "2022-12-25T11:20:29.332Z"
   },
   {
    "duration": 6073,
    "start_time": "2022-12-25T11:21:17.945Z"
   },
   {
    "duration": 3,
    "start_time": "2022-12-25T11:24:20.860Z"
   },
   {
    "duration": 5,
    "start_time": "2022-12-25T11:25:31.065Z"
   },
   {
    "duration": 11,
    "start_time": "2022-12-25T11:28:24.697Z"
   },
   {
    "duration": 611,
    "start_time": "2022-12-25T11:28:35.913Z"
   },
   {
    "duration": 2138,
    "start_time": "2022-12-25T11:28:58.400Z"
   },
   {
    "duration": 5752,
    "start_time": "2022-12-25T11:29:17.602Z"
   },
   {
    "duration": 1332,
    "start_time": "2022-12-25T11:32:32.142Z"
   },
   {
    "duration": 111,
    "start_time": "2022-12-25T11:32:33.476Z"
   },
   {
    "duration": 282,
    "start_time": "2022-12-25T11:32:33.588Z"
   },
   {
    "duration": 347,
    "start_time": "2022-12-25T11:32:33.873Z"
   },
   {
    "duration": 12,
    "start_time": "2022-12-25T11:32:34.222Z"
   },
   {
    "duration": 14,
    "start_time": "2022-12-25T11:32:34.235Z"
   },
   {
    "duration": 16,
    "start_time": "2022-12-25T11:32:34.250Z"
   },
   {
    "duration": 6,
    "start_time": "2022-12-25T11:32:34.267Z"
   },
   {
    "duration": 10,
    "start_time": "2022-12-25T11:32:34.275Z"
   },
   {
    "duration": 35,
    "start_time": "2022-12-25T11:32:34.287Z"
   },
   {
    "duration": 6,
    "start_time": "2022-12-25T11:32:34.323Z"
   },
   {
    "duration": 10,
    "start_time": "2022-12-25T11:32:34.331Z"
   },
   {
    "duration": 3,
    "start_time": "2022-12-25T11:32:34.343Z"
   },
   {
    "duration": 10,
    "start_time": "2022-12-25T11:32:34.347Z"
   },
   {
    "duration": 22,
    "start_time": "2022-12-25T11:32:34.358Z"
   },
   {
    "duration": 3,
    "start_time": "2022-12-25T11:32:34.382Z"
   },
   {
    "duration": 43,
    "start_time": "2022-12-25T11:32:34.387Z"
   },
   {
    "duration": 3,
    "start_time": "2022-12-25T11:32:34.431Z"
   },
   {
    "duration": 16,
    "start_time": "2022-12-25T11:32:34.436Z"
   },
   {
    "duration": 4,
    "start_time": "2022-12-25T11:32:34.454Z"
   },
   {
    "duration": 4,
    "start_time": "2022-12-25T11:32:34.460Z"
   },
   {
    "duration": 15,
    "start_time": "2022-12-25T11:32:34.466Z"
   },
   {
    "duration": 38,
    "start_time": "2022-12-25T11:32:34.483Z"
   },
   {
    "duration": 159,
    "start_time": "2022-12-25T11:32:34.523Z"
   },
   {
    "duration": 173,
    "start_time": "2022-12-25T11:32:34.684Z"
   },
   {
    "duration": 164,
    "start_time": "2022-12-25T11:32:34.859Z"
   },
   {
    "duration": 170,
    "start_time": "2022-12-25T11:32:35.024Z"
   },
   {
    "duration": 7,
    "start_time": "2022-12-25T11:32:35.198Z"
   },
   {
    "duration": 21,
    "start_time": "2022-12-25T11:32:35.207Z"
   },
   {
    "duration": 6,
    "start_time": "2022-12-25T11:32:35.229Z"
   },
   {
    "duration": 9,
    "start_time": "2022-12-25T11:32:35.236Z"
   },
   {
    "duration": 8,
    "start_time": "2022-12-25T11:32:35.247Z"
   },
   {
    "duration": 11,
    "start_time": "2022-12-25T11:32:35.257Z"
   },
   {
    "duration": 7,
    "start_time": "2022-12-25T11:32:35.271Z"
   },
   {
    "duration": 11,
    "start_time": "2022-12-25T11:32:35.281Z"
   },
   {
    "duration": 11,
    "start_time": "2022-12-25T11:32:35.294Z"
   },
   {
    "duration": 13,
    "start_time": "2022-12-25T11:32:35.307Z"
   },
   {
    "duration": 908,
    "start_time": "2022-12-25T11:32:35.321Z"
   },
   {
    "duration": 1498,
    "start_time": "2022-12-25T11:32:36.230Z"
   },
   {
    "duration": 5750,
    "start_time": "2022-12-25T11:32:37.730Z"
   },
   {
    "duration": 1899,
    "start_time": "2022-12-25T15:36:14.495Z"
   },
   {
    "duration": 546,
    "start_time": "2022-12-25T15:36:16.397Z"
   },
   {
    "duration": 1098,
    "start_time": "2022-12-25T15:36:16.946Z"
   },
   {
    "duration": 2228,
    "start_time": "2022-12-25T15:36:18.047Z"
   },
   {
    "duration": 14,
    "start_time": "2022-12-25T15:36:20.277Z"
   },
   {
    "duration": 66,
    "start_time": "2022-12-25T15:36:20.293Z"
   },
   {
    "duration": 19,
    "start_time": "2022-12-25T15:36:20.360Z"
   },
   {
    "duration": 9,
    "start_time": "2022-12-25T15:36:20.381Z"
   },
   {
    "duration": 26,
    "start_time": "2022-12-25T15:36:20.392Z"
   },
   {
    "duration": 97,
    "start_time": "2022-12-25T15:36:20.420Z"
   },
   {
    "duration": 34,
    "start_time": "2022-12-25T15:36:20.519Z"
   },
   {
    "duration": 11,
    "start_time": "2022-12-25T15:36:20.555Z"
   },
   {
    "duration": 3,
    "start_time": "2022-12-25T15:36:20.568Z"
   },
   {
    "duration": 39,
    "start_time": "2022-12-25T15:36:20.574Z"
   },
   {
    "duration": 23,
    "start_time": "2022-12-25T15:36:20.614Z"
   },
   {
    "duration": 27,
    "start_time": "2022-12-25T15:36:20.639Z"
   },
   {
    "duration": 3,
    "start_time": "2022-12-25T15:36:20.668Z"
   },
   {
    "duration": 16,
    "start_time": "2022-12-25T15:36:20.672Z"
   },
   {
    "duration": 5,
    "start_time": "2022-12-25T15:36:20.690Z"
   },
   {
    "duration": 16,
    "start_time": "2022-12-25T15:36:20.696Z"
   },
   {
    "duration": 30,
    "start_time": "2022-12-25T15:36:20.713Z"
   },
   {
    "duration": 18,
    "start_time": "2022-12-25T15:36:20.745Z"
   },
   {
    "duration": 170,
    "start_time": "2022-12-25T15:36:20.764Z"
   },
   {
    "duration": 196,
    "start_time": "2022-12-25T15:36:20.936Z"
   },
   {
    "duration": 176,
    "start_time": "2022-12-25T15:36:21.135Z"
   },
   {
    "duration": 199,
    "start_time": "2022-12-25T15:36:21.313Z"
   },
   {
    "duration": 7,
    "start_time": "2022-12-25T15:36:21.514Z"
   },
   {
    "duration": 29,
    "start_time": "2022-12-25T15:36:21.522Z"
   },
   {
    "duration": 7,
    "start_time": "2022-12-25T15:36:21.552Z"
   },
   {
    "duration": 6,
    "start_time": "2022-12-25T15:36:21.560Z"
   },
   {
    "duration": 4,
    "start_time": "2022-12-25T15:36:21.567Z"
   },
   {
    "duration": 6,
    "start_time": "2022-12-25T15:36:21.572Z"
   },
   {
    "duration": 6,
    "start_time": "2022-12-25T15:36:21.580Z"
   },
   {
    "duration": 5,
    "start_time": "2022-12-25T15:36:21.588Z"
   },
   {
    "duration": 6,
    "start_time": "2022-12-25T15:36:21.595Z"
   },
   {
    "duration": 12,
    "start_time": "2022-12-25T15:36:21.602Z"
   },
   {
    "duration": 820,
    "start_time": "2022-12-25T15:36:21.618Z"
   },
   {
    "duration": 2473,
    "start_time": "2022-12-25T15:36:22.443Z"
   },
   {
    "duration": 6106,
    "start_time": "2022-12-25T15:36:24.942Z"
   },
   {
    "duration": 56,
    "start_time": "2022-12-25T15:49:59.332Z"
   },
   {
    "duration": 1814,
    "start_time": "2022-12-25T15:50:10.909Z"
   },
   {
    "duration": 1785,
    "start_time": "2022-12-26T17:32:49.618Z"
   },
   {
    "duration": 189,
    "start_time": "2022-12-26T17:32:51.405Z"
   },
   {
    "duration": 1188,
    "start_time": "2022-12-26T17:32:51.596Z"
   },
   {
    "duration": 609,
    "start_time": "2022-12-26T17:32:52.786Z"
   },
   {
    "duration": 16,
    "start_time": "2022-12-26T17:32:53.399Z"
   },
   {
    "duration": 20,
    "start_time": "2022-12-26T17:32:53.416Z"
   },
   {
    "duration": 25,
    "start_time": "2022-12-26T17:32:53.438Z"
   },
   {
    "duration": 8,
    "start_time": "2022-12-26T17:32:53.464Z"
   },
   {
    "duration": 18,
    "start_time": "2022-12-26T17:32:53.474Z"
   },
   {
    "duration": 105,
    "start_time": "2022-12-26T17:32:53.552Z"
   },
   {
    "duration": 7,
    "start_time": "2022-12-26T17:32:53.659Z"
   },
   {
    "duration": 10,
    "start_time": "2022-12-26T17:32:53.668Z"
   },
   {
    "duration": 13,
    "start_time": "2022-12-26T17:32:53.680Z"
   },
   {
    "duration": 20,
    "start_time": "2022-12-26T17:32:53.696Z"
   },
   {
    "duration": 33,
    "start_time": "2022-12-26T17:32:53.718Z"
   },
   {
    "duration": 16,
    "start_time": "2022-12-26T17:32:53.753Z"
   },
   {
    "duration": 5,
    "start_time": "2022-12-26T17:32:53.771Z"
   },
   {
    "duration": 20,
    "start_time": "2022-12-26T17:32:53.778Z"
   },
   {
    "duration": 7,
    "start_time": "2022-12-26T17:32:53.800Z"
   },
   {
    "duration": 17,
    "start_time": "2022-12-26T17:32:53.808Z"
   },
   {
    "duration": 9,
    "start_time": "2022-12-26T17:32:53.850Z"
   },
   {
    "duration": 29,
    "start_time": "2022-12-26T17:32:53.861Z"
   },
   {
    "duration": 212,
    "start_time": "2022-12-26T17:32:53.892Z"
   },
   {
    "duration": 215,
    "start_time": "2022-12-26T17:32:54.106Z"
   },
   {
    "duration": 212,
    "start_time": "2022-12-26T17:32:54.322Z"
   },
   {
    "duration": 202,
    "start_time": "2022-12-26T17:32:54.536Z"
   },
   {
    "duration": 16,
    "start_time": "2022-12-26T17:32:54.740Z"
   },
   {
    "duration": 5,
    "start_time": "2022-12-26T17:32:54.758Z"
   },
   {
    "duration": 5,
    "start_time": "2022-12-26T17:32:54.765Z"
   },
   {
    "duration": 6,
    "start_time": "2022-12-26T17:32:54.772Z"
   },
   {
    "duration": 5,
    "start_time": "2022-12-26T17:32:54.780Z"
   },
   {
    "duration": 8,
    "start_time": "2022-12-26T17:32:54.787Z"
   },
   {
    "duration": 9,
    "start_time": "2022-12-26T17:32:54.796Z"
   },
   {
    "duration": 6,
    "start_time": "2022-12-26T17:32:54.806Z"
   },
   {
    "duration": 6,
    "start_time": "2022-12-26T17:32:54.814Z"
   },
   {
    "duration": 5,
    "start_time": "2022-12-26T17:32:54.851Z"
   },
   {
    "duration": 704,
    "start_time": "2022-12-26T17:32:54.857Z"
   },
   {
    "duration": 706,
    "start_time": "2022-12-26T17:32:55.655Z"
   },
   {
    "duration": 1603,
    "start_time": "2022-12-26T17:32:56.455Z"
   },
   {
    "duration": 6794,
    "start_time": "2022-12-26T17:32:58.060Z"
   },
   {
    "duration": 4,
    "start_time": "2022-12-26T18:23:08.421Z"
   },
   {
    "duration": 140,
    "start_time": "2022-12-26T18:23:08.434Z"
   },
   {
    "duration": 306,
    "start_time": "2022-12-26T18:23:08.577Z"
   },
   {
    "duration": 409,
    "start_time": "2022-12-26T18:23:08.885Z"
   },
   {
    "duration": 15,
    "start_time": "2022-12-26T18:23:09.296Z"
   },
   {
    "duration": 47,
    "start_time": "2022-12-26T18:23:09.313Z"
   },
   {
    "duration": 19,
    "start_time": "2022-12-26T18:23:09.362Z"
   },
   {
    "duration": 7,
    "start_time": "2022-12-26T18:23:09.383Z"
   },
   {
    "duration": 58,
    "start_time": "2022-12-26T18:23:09.392Z"
   },
   {
    "duration": 6,
    "start_time": "2022-12-26T18:23:09.452Z"
   },
   {
    "duration": 8,
    "start_time": "2022-12-26T18:23:09.460Z"
   },
   {
    "duration": 13,
    "start_time": "2022-12-26T18:23:09.470Z"
   },
   {
    "duration": 4,
    "start_time": "2022-12-26T18:23:09.485Z"
   },
   {
    "duration": 64,
    "start_time": "2022-12-26T18:23:09.491Z"
   },
   {
    "duration": 16,
    "start_time": "2022-12-26T18:23:09.558Z"
   },
   {
    "duration": 17,
    "start_time": "2022-12-26T18:23:09.576Z"
   },
   {
    "duration": 56,
    "start_time": "2022-12-26T18:23:09.595Z"
   },
   {
    "duration": 25,
    "start_time": "2022-12-26T18:23:09.653Z"
   },
   {
    "duration": 6,
    "start_time": "2022-12-26T18:23:09.680Z"
   },
   {
    "duration": 12,
    "start_time": "2022-12-26T18:23:09.688Z"
   },
   {
    "duration": 48,
    "start_time": "2022-12-26T18:23:09.703Z"
   },
   {
    "duration": 31,
    "start_time": "2022-12-26T18:23:09.754Z"
   },
   {
    "duration": 258,
    "start_time": "2022-12-26T18:23:09.787Z"
   },
   {
    "duration": 229,
    "start_time": "2022-12-26T18:23:10.047Z"
   },
   {
    "duration": 207,
    "start_time": "2022-12-26T18:23:10.279Z"
   },
   {
    "duration": 231,
    "start_time": "2022-12-26T18:23:10.489Z"
   },
   {
    "duration": 29,
    "start_time": "2022-12-26T18:23:10.722Z"
   },
   {
    "duration": 7,
    "start_time": "2022-12-26T18:23:10.753Z"
   },
   {
    "duration": 10,
    "start_time": "2022-12-26T18:23:10.762Z"
   },
   {
    "duration": 6,
    "start_time": "2022-12-26T18:23:10.774Z"
   },
   {
    "duration": 5,
    "start_time": "2022-12-26T18:23:10.782Z"
   },
   {
    "duration": 6,
    "start_time": "2022-12-26T18:23:10.789Z"
   },
   {
    "duration": 55,
    "start_time": "2022-12-26T18:23:10.796Z"
   },
   {
    "duration": 10,
    "start_time": "2022-12-26T18:23:10.853Z"
   },
   {
    "duration": 9,
    "start_time": "2022-12-26T18:23:10.865Z"
   },
   {
    "duration": 11,
    "start_time": "2022-12-26T18:23:10.876Z"
   },
   {
    "duration": 664,
    "start_time": "2022-12-26T18:23:10.889Z"
   },
   {
    "duration": 996,
    "start_time": "2022-12-26T18:23:11.556Z"
   },
   {
    "duration": 1603,
    "start_time": "2022-12-26T18:23:12.555Z"
   },
   {
    "duration": 6711,
    "start_time": "2022-12-26T18:23:14.160Z"
   },
   {
    "duration": 228,
    "start_time": "2022-12-26T18:35:13.710Z"
   },
   {
    "duration": 236,
    "start_time": "2022-12-26T18:35:56.781Z"
   },
   {
    "duration": 136,
    "start_time": "2022-12-26T18:39:54.758Z"
   },
   {
    "duration": 194,
    "start_time": "2022-12-26T18:40:17.674Z"
   },
   {
    "duration": 218,
    "start_time": "2022-12-26T18:40:43.162Z"
   },
   {
    "duration": 21,
    "start_time": "2022-12-26T18:44:27.873Z"
   },
   {
    "duration": 187,
    "start_time": "2022-12-26T18:44:34.595Z"
   },
   {
    "duration": 255,
    "start_time": "2022-12-26T18:44:54.927Z"
   },
   {
    "duration": 74,
    "start_time": "2022-12-26T18:47:38.016Z"
   },
   {
    "duration": 395,
    "start_time": "2022-12-26T18:51:05.345Z"
   },
   {
    "duration": 239,
    "start_time": "2022-12-26T18:52:00.512Z"
   },
   {
    "duration": 207,
    "start_time": "2022-12-26T18:52:10.778Z"
   },
   {
    "duration": 307,
    "start_time": "2022-12-26T18:52:24.484Z"
   },
   {
    "duration": 452,
    "start_time": "2022-12-26T18:53:11.568Z"
   },
   {
    "duration": 299,
    "start_time": "2022-12-26T18:53:20.676Z"
   },
   {
    "duration": 7,
    "start_time": "2022-12-26T19:02:14.002Z"
   },
   {
    "duration": 5,
    "start_time": "2022-12-26T19:02:42.043Z"
   },
   {
    "duration": 436,
    "start_time": "2022-12-26T19:03:04.291Z"
   },
   {
    "duration": 315,
    "start_time": "2022-12-26T19:03:16.207Z"
   },
   {
    "duration": 305,
    "start_time": "2022-12-26T19:04:15.835Z"
   },
   {
    "duration": 332,
    "start_time": "2022-12-26T19:15:07.486Z"
   },
   {
    "duration": 330,
    "start_time": "2022-12-26T19:15:55.308Z"
   },
   {
    "duration": 497,
    "start_time": "2022-12-26T19:16:27.992Z"
   },
   {
    "duration": 200,
    "start_time": "2022-12-26T19:17:14.806Z"
   },
   {
    "duration": 208,
    "start_time": "2022-12-26T19:17:24.684Z"
   },
   {
    "duration": 312,
    "start_time": "2022-12-26T19:17:33.578Z"
   },
   {
    "duration": 513,
    "start_time": "2022-12-26T19:19:04.142Z"
   },
   {
    "duration": 620,
    "start_time": "2022-12-26T19:19:21.915Z"
   },
   {
    "duration": 4,
    "start_time": "2022-12-26T19:23:21.359Z"
   },
   {
    "duration": 67,
    "start_time": "2022-12-26T19:24:40.193Z"
   },
   {
    "duration": 82,
    "start_time": "2022-12-26T19:38:21.771Z"
   },
   {
    "duration": 107,
    "start_time": "2022-12-26T19:38:54.546Z"
   },
   {
    "duration": 137,
    "start_time": "2022-12-26T19:39:56.422Z"
   },
   {
    "duration": 122,
    "start_time": "2022-12-26T19:58:42.132Z"
   },
   {
    "duration": 1502,
    "start_time": "2022-12-26T19:59:09.350Z"
   },
   {
    "duration": 7,
    "start_time": "2022-12-26T19:59:16.528Z"
   },
   {
    "duration": 5,
    "start_time": "2022-12-26T20:00:47.902Z"
   },
   {
    "duration": 5,
    "start_time": "2022-12-26T20:01:06.148Z"
   },
   {
    "duration": 1837,
    "start_time": "2022-12-26T20:01:32.420Z"
   },
   {
    "duration": 3102,
    "start_time": "2022-12-26T20:02:26.549Z"
   },
   {
    "duration": 2068,
    "start_time": "2022-12-26T20:04:43.995Z"
   },
   {
    "duration": 1911,
    "start_time": "2022-12-26T20:31:18.244Z"
   },
   {
    "duration": 35,
    "start_time": "2022-12-26T20:51:08.229Z"
   },
   {
    "duration": 10,
    "start_time": "2022-12-26T20:51:34.553Z"
   },
   {
    "duration": 1417,
    "start_time": "2022-12-26T20:51:45.843Z"
   },
   {
    "duration": 1418,
    "start_time": "2022-12-26T20:51:59.463Z"
   },
   {
    "duration": 1447,
    "start_time": "2022-12-26T20:52:23.088Z"
   },
   {
    "duration": 1496,
    "start_time": "2022-12-26T20:53:13.715Z"
   },
   {
    "duration": 1377,
    "start_time": "2022-12-26T20:54:13.120Z"
   },
   {
    "duration": 5557,
    "start_time": "2022-12-26T20:54:51.188Z"
   },
   {
    "duration": 15323,
    "start_time": "2022-12-26T20:55:12.882Z"
   },
   {
    "duration": 13786,
    "start_time": "2022-12-26T20:56:52.028Z"
   },
   {
    "duration": 13878,
    "start_time": "2022-12-26T20:58:45.956Z"
   },
   {
    "duration": 1814,
    "start_time": "2022-12-26T21:09:04.112Z"
   },
   {
    "duration": 467,
    "start_time": "2022-12-26T21:09:05.928Z"
   },
   {
    "duration": 913,
    "start_time": "2022-12-26T21:09:06.397Z"
   },
   {
    "duration": 1885,
    "start_time": "2022-12-26T21:09:07.313Z"
   },
   {
    "duration": 14,
    "start_time": "2022-12-26T21:09:09.200Z"
   },
   {
    "duration": 22,
    "start_time": "2022-12-26T21:09:09.216Z"
   },
   {
    "duration": 27,
    "start_time": "2022-12-26T21:09:09.240Z"
   },
   {
    "duration": 9,
    "start_time": "2022-12-26T21:09:09.268Z"
   },
   {
    "duration": 58,
    "start_time": "2022-12-26T21:09:09.279Z"
   },
   {
    "duration": 91,
    "start_time": "2022-12-26T21:09:09.351Z"
   },
   {
    "duration": 8,
    "start_time": "2022-12-26T21:09:09.443Z"
   },
   {
    "duration": 22,
    "start_time": "2022-12-26T21:09:09.455Z"
   },
   {
    "duration": 5,
    "start_time": "2022-12-26T21:09:09.480Z"
   },
   {
    "duration": 16,
    "start_time": "2022-12-26T21:09:09.486Z"
   },
   {
    "duration": 19,
    "start_time": "2022-12-26T21:09:09.534Z"
   },
   {
    "duration": 16,
    "start_time": "2022-12-26T21:09:09.555Z"
   },
   {
    "duration": 9,
    "start_time": "2022-12-26T21:09:09.573Z"
   },
   {
    "duration": 19,
    "start_time": "2022-12-26T21:09:09.583Z"
   },
   {
    "duration": 7,
    "start_time": "2022-12-26T21:09:09.604Z"
   },
   {
    "duration": 8,
    "start_time": "2022-12-26T21:09:09.635Z"
   },
   {
    "duration": 20,
    "start_time": "2022-12-26T21:09:09.645Z"
   },
   {
    "duration": 30,
    "start_time": "2022-12-26T21:09:09.668Z"
   },
   {
    "duration": 224,
    "start_time": "2022-12-26T21:09:09.699Z"
   },
   {
    "duration": 284,
    "start_time": "2022-12-26T21:09:09.925Z"
   },
   {
    "duration": 271,
    "start_time": "2022-12-26T21:09:10.211Z"
   },
   {
    "duration": 411,
    "start_time": "2022-12-26T21:09:10.484Z"
   },
   {
    "duration": 10,
    "start_time": "2022-12-26T21:09:10.897Z"
   },
   {
    "duration": 6,
    "start_time": "2022-12-26T21:09:10.912Z"
   },
   {
    "duration": 6,
    "start_time": "2022-12-26T21:09:10.936Z"
   },
   {
    "duration": 11,
    "start_time": "2022-12-26T21:09:10.944Z"
   },
   {
    "duration": 381,
    "start_time": "2022-12-26T21:09:10.957Z"
   },
   {
    "duration": 3,
    "start_time": "2022-12-26T21:09:11.339Z"
   },
   {
    "duration": 12,
    "start_time": "2022-12-26T21:09:11.345Z"
   },
   {
    "duration": 8,
    "start_time": "2022-12-26T21:09:11.359Z"
   },
   {
    "duration": 14,
    "start_time": "2022-12-26T21:09:11.369Z"
   },
   {
    "duration": 7,
    "start_time": "2022-12-26T21:09:11.386Z"
   },
   {
    "duration": 10,
    "start_time": "2022-12-26T21:09:11.395Z"
   },
   {
    "duration": 7,
    "start_time": "2022-12-26T21:09:11.407Z"
   },
   {
    "duration": 2020,
    "start_time": "2022-12-26T21:09:11.416Z"
   },
   {
    "duration": 3197,
    "start_time": "2022-12-26T21:09:13.439Z"
   },
   {
    "duration": 3908,
    "start_time": "2022-12-26T21:09:16.640Z"
   },
   {
    "duration": 14057,
    "start_time": "2022-12-26T21:09:20.637Z"
   },
   {
    "duration": 1671,
    "start_time": "2022-12-26T21:09:34.696Z"
   },
   {
    "duration": 13890,
    "start_time": "2022-12-26T21:09:36.369Z"
   },
   {
    "duration": 1519,
    "start_time": "2022-12-26T21:09:57.539Z"
   },
   {
    "duration": 1546,
    "start_time": "2022-12-26T21:13:05.512Z"
   },
   {
    "duration": 1567,
    "start_time": "2022-12-26T21:14:14.735Z"
   },
   {
    "duration": 127,
    "start_time": "2022-12-26T21:14:16.304Z"
   },
   {
    "duration": 320,
    "start_time": "2022-12-26T21:14:16.434Z"
   },
   {
    "duration": 408,
    "start_time": "2022-12-26T21:14:16.757Z"
   },
   {
    "duration": 15,
    "start_time": "2022-12-26T21:14:17.166Z"
   },
   {
    "duration": 22,
    "start_time": "2022-12-26T21:14:17.182Z"
   },
   {
    "duration": 38,
    "start_time": "2022-12-26T21:14:17.206Z"
   },
   {
    "duration": 8,
    "start_time": "2022-12-26T21:14:17.245Z"
   },
   {
    "duration": 11,
    "start_time": "2022-12-26T21:14:17.254Z"
   },
   {
    "duration": 4,
    "start_time": "2022-12-26T21:14:17.268Z"
   },
   {
    "duration": 10,
    "start_time": "2022-12-26T21:14:17.274Z"
   },
   {
    "duration": 9,
    "start_time": "2022-12-26T21:14:17.286Z"
   },
   {
    "duration": 3,
    "start_time": "2022-12-26T21:14:17.297Z"
   },
   {
    "duration": 164,
    "start_time": "2022-12-26T21:14:17.302Z"
   },
   {
    "duration": 17,
    "start_time": "2022-12-26T21:14:17.468Z"
   },
   {
    "duration": 15,
    "start_time": "2022-12-26T21:14:17.486Z"
   },
   {
    "duration": 8,
    "start_time": "2022-12-26T21:14:17.502Z"
   },
   {
    "duration": 19,
    "start_time": "2022-12-26T21:14:17.511Z"
   },
   {
    "duration": 6,
    "start_time": "2022-12-26T21:14:17.532Z"
   },
   {
    "duration": 6,
    "start_time": "2022-12-26T21:14:17.540Z"
   },
   {
    "duration": 12,
    "start_time": "2022-12-26T21:14:17.547Z"
   },
   {
    "duration": 23,
    "start_time": "2022-12-26T21:14:17.561Z"
   },
   {
    "duration": 220,
    "start_time": "2022-12-26T21:14:17.586Z"
   },
   {
    "duration": 216,
    "start_time": "2022-12-26T21:14:17.808Z"
   },
   {
    "duration": 214,
    "start_time": "2022-12-26T21:14:18.027Z"
   },
   {
    "duration": 328,
    "start_time": "2022-12-26T21:14:18.242Z"
   },
   {
    "duration": 8,
    "start_time": "2022-12-26T21:14:18.572Z"
   },
   {
    "duration": 116,
    "start_time": "2022-12-26T21:14:18.583Z"
   },
   {
    "duration": 7,
    "start_time": "2022-12-26T21:14:18.701Z"
   },
   {
    "duration": 6,
    "start_time": "2022-12-26T21:14:18.709Z"
   },
   {
    "duration": 343,
    "start_time": "2022-12-26T21:14:18.716Z"
   },
   {
    "duration": 3,
    "start_time": "2022-12-26T21:14:19.060Z"
   },
   {
    "duration": 7,
    "start_time": "2022-12-26T21:14:19.065Z"
   },
   {
    "duration": 6,
    "start_time": "2022-12-26T21:14:19.074Z"
   },
   {
    "duration": 8,
    "start_time": "2022-12-26T21:14:19.082Z"
   },
   {
    "duration": 11,
    "start_time": "2022-12-26T21:14:19.092Z"
   },
   {
    "duration": 8,
    "start_time": "2022-12-26T21:14:19.105Z"
   },
   {
    "duration": 22,
    "start_time": "2022-12-26T21:14:19.114Z"
   },
   {
    "duration": 1502,
    "start_time": "2022-12-26T21:14:19.138Z"
   },
   {
    "duration": 1796,
    "start_time": "2022-12-26T21:14:20.643Z"
   },
   {
    "duration": 1697,
    "start_time": "2022-12-26T21:14:22.442Z"
   },
   {
    "duration": 14339,
    "start_time": "2022-12-26T21:14:24.143Z"
   },
   {
    "duration": 1516,
    "start_time": "2022-12-26T21:14:38.484Z"
   },
   {
    "duration": 1516,
    "start_time": "2022-12-26T21:14:40.002Z"
   },
   {
    "duration": 13532,
    "start_time": "2022-12-26T21:14:41.519Z"
   },
   {
    "duration": 1233,
    "start_time": "2022-12-26T21:17:07.745Z"
   },
   {
    "duration": 1504,
    "start_time": "2022-12-26T21:18:39.624Z"
   },
   {
    "duration": 117,
    "start_time": "2022-12-26T21:18:41.130Z"
   },
   {
    "duration": 305,
    "start_time": "2022-12-26T21:18:41.248Z"
   },
   {
    "duration": 398,
    "start_time": "2022-12-26T21:18:41.556Z"
   },
   {
    "duration": 19,
    "start_time": "2022-12-26T21:18:41.957Z"
   },
   {
    "duration": 25,
    "start_time": "2022-12-26T21:18:41.978Z"
   },
   {
    "duration": 46,
    "start_time": "2022-12-26T21:18:42.005Z"
   },
   {
    "duration": 8,
    "start_time": "2022-12-26T21:18:42.053Z"
   },
   {
    "duration": 31,
    "start_time": "2022-12-26T21:18:42.063Z"
   },
   {
    "duration": 13,
    "start_time": "2022-12-26T21:18:42.097Z"
   },
   {
    "duration": 14,
    "start_time": "2022-12-26T21:18:42.112Z"
   },
   {
    "duration": 14,
    "start_time": "2022-12-26T21:18:42.128Z"
   },
   {
    "duration": 4,
    "start_time": "2022-12-26T21:18:42.144Z"
   },
   {
    "duration": 18,
    "start_time": "2022-12-26T21:18:42.149Z"
   },
   {
    "duration": 29,
    "start_time": "2022-12-26T21:18:42.168Z"
   },
   {
    "duration": 14,
    "start_time": "2022-12-26T21:18:42.199Z"
   },
   {
    "duration": 10,
    "start_time": "2022-12-26T21:18:42.214Z"
   },
   {
    "duration": 26,
    "start_time": "2022-12-26T21:18:42.225Z"
   },
   {
    "duration": 5,
    "start_time": "2022-12-26T21:18:42.252Z"
   },
   {
    "duration": 8,
    "start_time": "2022-12-26T21:18:42.259Z"
   },
   {
    "duration": 15,
    "start_time": "2022-12-26T21:18:42.268Z"
   },
   {
    "duration": 28,
    "start_time": "2022-12-26T21:18:42.285Z"
   },
   {
    "duration": 270,
    "start_time": "2022-12-26T21:18:42.315Z"
   },
   {
    "duration": 223,
    "start_time": "2022-12-26T21:18:42.588Z"
   },
   {
    "duration": 208,
    "start_time": "2022-12-26T21:18:42.812Z"
   },
   {
    "duration": 340,
    "start_time": "2022-12-26T21:18:43.022Z"
   },
   {
    "duration": 8,
    "start_time": "2022-12-26T21:18:43.364Z"
   },
   {
    "duration": 11,
    "start_time": "2022-12-26T21:18:43.375Z"
   },
   {
    "duration": 10,
    "start_time": "2022-12-26T21:18:43.387Z"
   },
   {
    "duration": 11,
    "start_time": "2022-12-26T21:18:43.398Z"
   },
   {
    "duration": 349,
    "start_time": "2022-12-26T21:18:43.410Z"
   },
   {
    "duration": 3,
    "start_time": "2022-12-26T21:18:43.760Z"
   },
   {
    "duration": 14,
    "start_time": "2022-12-26T21:18:43.765Z"
   },
   {
    "duration": 9,
    "start_time": "2022-12-26T21:18:43.781Z"
   },
   {
    "duration": 10,
    "start_time": "2022-12-26T21:18:43.792Z"
   },
   {
    "duration": 8,
    "start_time": "2022-12-26T21:18:43.803Z"
   },
   {
    "duration": 12,
    "start_time": "2022-12-26T21:18:43.813Z"
   },
   {
    "duration": 17,
    "start_time": "2022-12-26T21:18:43.827Z"
   },
   {
    "duration": 1696,
    "start_time": "2022-12-26T21:18:43.846Z"
   },
   {
    "duration": 1793,
    "start_time": "2022-12-26T21:18:45.545Z"
   },
   {
    "duration": 1604,
    "start_time": "2022-12-26T21:18:47.340Z"
   },
   {
    "duration": 14216,
    "start_time": "2022-12-26T21:18:48.946Z"
   },
   {
    "duration": 1655,
    "start_time": "2022-12-26T21:19:03.164Z"
   },
   {
    "duration": 14112,
    "start_time": "2022-12-26T21:19:04.820Z"
   },
   {
    "duration": 1227,
    "start_time": "2022-12-26T21:19:18.938Z"
   },
   {
    "duration": 1165,
    "start_time": "2022-12-26T21:22:58.193Z"
   },
   {
    "duration": 1337,
    "start_time": "2022-12-26T21:24:41.798Z"
   },
   {
    "duration": 1409,
    "start_time": "2022-12-26T21:25:01.827Z"
   },
   {
    "duration": 7,
    "start_time": "2022-12-26T21:33:09.241Z"
   },
   {
    "duration": 7,
    "start_time": "2022-12-26T21:35:39.834Z"
   },
   {
    "duration": 116,
    "start_time": "2022-12-26T21:38:14.834Z"
   },
   {
    "duration": 11,
    "start_time": "2022-12-26T21:38:34.510Z"
   },
   {
    "duration": 13,
    "start_time": "2022-12-26T21:40:06.150Z"
   },
   {
    "duration": 583143,
    "start_time": "2022-12-26T21:44:52.234Z"
   },
   {
    "duration": 421771,
    "start_time": "2022-12-26T21:54:50.023Z"
   },
   {
    "duration": 14311,
    "start_time": "2022-12-26T22:02:14.245Z"
   },
   {
    "duration": 1438,
    "start_time": "2022-12-26T22:02:38.816Z"
   },
   {
    "duration": 12688,
    "start_time": "2022-12-26T22:02:42.919Z"
   },
   {
    "duration": 1160,
    "start_time": "2022-12-26T22:02:58.972Z"
   },
   {
    "duration": 4,
    "start_time": "2022-12-26T22:03:10.051Z"
   },
   {
    "duration": 7,
    "start_time": "2022-12-26T22:03:29.792Z"
   },
   {
    "duration": 33776,
    "start_time": "2022-12-26T22:07:15.008Z"
   },
   {
    "duration": 389813,
    "start_time": "2022-12-26T22:08:30.072Z"
   },
   {
    "duration": 21178,
    "start_time": "2022-12-26T22:15:22.504Z"
   },
   {
    "duration": 4,
    "start_time": "2022-12-26T22:16:03.081Z"
   },
   {
    "duration": 1685,
    "start_time": "2022-12-26T22:16:19.155Z"
   },
   {
    "duration": 1387,
    "start_time": "2022-12-26T22:16:24.157Z"
   },
   {
    "duration": 4,
    "start_time": "2022-12-26T22:16:30.398Z"
   },
   {
    "duration": 1491,
    "start_time": "2022-12-26T22:17:03.989Z"
   },
   {
    "duration": 123,
    "start_time": "2022-12-26T22:17:05.482Z"
   },
   {
    "duration": 313,
    "start_time": "2022-12-26T22:17:05.607Z"
   },
   {
    "duration": 414,
    "start_time": "2022-12-26T22:17:05.922Z"
   },
   {
    "duration": 22,
    "start_time": "2022-12-26T22:17:06.338Z"
   },
   {
    "duration": 19,
    "start_time": "2022-12-26T22:17:06.362Z"
   },
   {
    "duration": 18,
    "start_time": "2022-12-26T22:17:06.383Z"
   },
   {
    "duration": 39,
    "start_time": "2022-12-26T22:17:06.403Z"
   },
   {
    "duration": 15,
    "start_time": "2022-12-26T22:17:06.443Z"
   },
   {
    "duration": 11,
    "start_time": "2022-12-26T22:17:06.461Z"
   },
   {
    "duration": 13,
    "start_time": "2022-12-26T22:17:06.474Z"
   },
   {
    "duration": 15,
    "start_time": "2022-12-26T22:17:06.489Z"
   },
   {
    "duration": 5,
    "start_time": "2022-12-26T22:17:06.506Z"
   },
   {
    "duration": 9,
    "start_time": "2022-12-26T22:17:06.535Z"
   },
   {
    "duration": 19,
    "start_time": "2022-12-26T22:17:06.546Z"
   },
   {
    "duration": 14,
    "start_time": "2022-12-26T22:17:06.568Z"
   },
   {
    "duration": 10,
    "start_time": "2022-12-26T22:17:06.584Z"
   },
   {
    "duration": 39,
    "start_time": "2022-12-26T22:17:06.596Z"
   },
   {
    "duration": 5,
    "start_time": "2022-12-26T22:17:06.637Z"
   },
   {
    "duration": 21,
    "start_time": "2022-12-26T22:17:06.644Z"
   },
   {
    "duration": 44,
    "start_time": "2022-12-26T22:17:06.668Z"
   },
   {
    "duration": 51,
    "start_time": "2022-12-26T22:17:06.714Z"
   },
   {
    "duration": 241,
    "start_time": "2022-12-26T22:17:06.767Z"
   },
   {
    "duration": 217,
    "start_time": "2022-12-26T22:17:07.010Z"
   },
   {
    "duration": 226,
    "start_time": "2022-12-26T22:17:07.235Z"
   },
   {
    "duration": 350,
    "start_time": "2022-12-26T22:17:07.463Z"
   },
   {
    "duration": 7,
    "start_time": "2022-12-26T22:17:07.816Z"
   },
   {
    "duration": 12,
    "start_time": "2022-12-26T22:17:07.834Z"
   },
   {
    "duration": 21,
    "start_time": "2022-12-26T22:17:07.848Z"
   },
   {
    "duration": 12,
    "start_time": "2022-12-26T22:17:07.871Z"
   },
   {
    "duration": 361,
    "start_time": "2022-12-26T22:17:07.884Z"
   },
   {
    "duration": 3,
    "start_time": "2022-12-26T22:17:08.248Z"
   },
   {
    "duration": 17,
    "start_time": "2022-12-26T22:17:08.253Z"
   },
   {
    "duration": 19,
    "start_time": "2022-12-26T22:17:08.271Z"
   },
   {
    "duration": 13,
    "start_time": "2022-12-26T22:17:08.292Z"
   },
   {
    "duration": 22,
    "start_time": "2022-12-26T22:17:08.307Z"
   },
   {
    "duration": 10,
    "start_time": "2022-12-26T22:17:08.331Z"
   },
   {
    "duration": 31,
    "start_time": "2022-12-26T22:17:08.342Z"
   },
   {
    "duration": 1465,
    "start_time": "2022-12-26T22:17:08.375Z"
   },
   {
    "duration": 1696,
    "start_time": "2022-12-26T22:17:09.843Z"
   },
   {
    "duration": 4,
    "start_time": "2022-12-26T22:17:11.541Z"
   },
   {
    "duration": 1494,
    "start_time": "2022-12-26T22:17:11.547Z"
   },
   {
    "duration": 13860,
    "start_time": "2022-12-26T22:17:13.044Z"
   },
   {
    "duration": 1577,
    "start_time": "2022-12-26T22:17:26.906Z"
   },
   {
    "duration": 13252,
    "start_time": "2022-12-26T22:17:28.485Z"
   },
   {
    "duration": 1236,
    "start_time": "2022-12-26T22:17:41.739Z"
   },
   {
    "duration": 3,
    "start_time": "2022-12-26T22:17:42.977Z"
   },
   {
    "duration": 13,
    "start_time": "2022-12-26T22:17:42.982Z"
   },
   {
    "duration": 396118,
    "start_time": "2022-12-26T22:17:42.997Z"
   },
   {
    "duration": 20736,
    "start_time": "2022-12-26T22:24:19.117Z"
   },
   {
    "duration": 382500,
    "start_time": "2022-12-26T22:24:39.855Z"
   },
   {
    "duration": 21857,
    "start_time": "2022-12-26T22:31:02.357Z"
   },
   {
    "duration": 3,
    "start_time": "2022-12-26T22:31:24.216Z"
   },
   {
    "duration": 3,
    "start_time": "2022-12-26T22:34:12.963Z"
   }
  ],
  "kernelspec": {
   "display_name": "Python 3 (ipykernel)",
   "language": "python",
   "name": "python3"
  },
  "language_info": {
   "codemirror_mode": {
    "name": "ipython",
    "version": 3
   },
   "file_extension": ".py",
   "mimetype": "text/x-python",
   "name": "python",
   "nbconvert_exporter": "python",
   "pygments_lexer": "ipython3",
   "version": "3.11.7"
  },
  "toc": {
   "base_numbering": 1,
   "nav_menu": {},
   "number_sections": true,
   "sideBar": true,
   "skip_h1_title": true,
   "title_cell": "Содержание",
   "title_sidebar": "Contents",
   "toc_cell": true,
   "toc_position": {
    "height": "calc(100% - 180px)",
    "left": "10px",
    "top": "150px",
    "width": "165px"
   },
   "toc_section_display": true,
   "toc_window_display": true
  }
 },
 "nbformat": 4,
 "nbformat_minor": 4
}
