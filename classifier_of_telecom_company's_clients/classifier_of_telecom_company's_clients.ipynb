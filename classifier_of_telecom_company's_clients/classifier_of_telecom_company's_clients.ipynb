{
 "cells": [
  {
   "cell_type": "markdown",
   "metadata": {},
   "source": [
    "# Рекомендация тарифов"
   ]
  },
  {
   "cell_type": "markdown",
   "metadata": {},
   "source": [
    "В вашем распоряжении данные о поведении клиентов, которые уже перешли на эти тарифы (из проекта курса «Статистический анализ данных»). Нужно построить модель для задачи классификации, которая выберет подходящий тариф. Предобработка данных не понадобится — вы её уже сделали.\n",
    "\n",
    "Постройте модель с максимально большим значением *accuracy*. Чтобы сдать проект успешно, нужно довести долю правильных ответов по крайней мере до 0.75. Проверьте *accuracy* на тестовой выборке самостоятельно."
   ]
  },
  {
   "cell_type": "markdown",
   "metadata": {},
   "source": [
    "## Откройте и изучите файл"
   ]
  },
  {
   "cell_type": "markdown",
   "metadata": {},
   "source": [
    "Каждый объект в наборе данных — это информация о поведении одного пользователя за месяц. Известно:  \n",
    "сalls — количество звонков,  \n",
    "minutes — суммарная длительность звонков в минутах,  \n",
    "messages — количество sms-сообщений,  \n",
    "mb_used — израсходованный интернет-трафик в Мб,  \n",
    "is_ultra — каким тарифом пользовался в течение месяца («Ультра» — 1, «Смарт» — 0)."
   ]
  },
  {
   "cell_type": "markdown",
   "metadata": {},
   "source": [
    "**Тариф «Смарт»**  \n",
    "Ежемесячная плата: 550 рублей  \n",
    "Включено 500 минут разговора, 50 сообщений и 15 Гб интернет-трафика    \n",
    "\n",
    "**Тариф «Ультра»**  \n",
    "Ежемесячная плата: 1950 рублей  \n",
    "Включено 3000 минут разговора, 1000 сообщений и 30 Гб интернет-трафика  \n"
   ]
  },
  {
   "cell_type": "markdown",
   "metadata": {},
   "source": [
    "Мы видим, что у тарифов разная суммарная длительность звонков, разное кол-во сообщений, и разный израсходованный интернет-трафик, т.е. столбец кол-во звонков нам погоды не сделает, он не нужен.\n"
   ]
  },
  {
   "cell_type": "code",
   "execution_count": 1,
   "metadata": {},
   "outputs": [],
   "source": [
    "import matplotlib.pyplot as plt\n",
    "import pandas as pd  \n",
    "import seaborn as sns\n",
    "\n",
    "from sklearn.model_selection import train_test_split \n",
    "from sklearn.tree import DecisionTreeClassifier\n",
    "from sklearn.metrics import accuracy_score\n",
    "\n",
    "from sklearn.datasets import load_iris\n",
    "from sklearn import tree\n",
    "\n",
    "from sklearn.ensemble import RandomForestClassifier \n",
    "from sklearn.linear_model import LogisticRegression \n",
    "\n",
    "import numpy as np\n",
    "from sklearn.dummy import DummyClassifier"
   ]
  },
  {
   "cell_type": "code",
   "execution_count": 2,
   "metadata": {},
   "outputs": [
    {
     "data": {
      "text/html": [
       "<div>\n",
       "<style scoped>\n",
       "    .dataframe tbody tr th:only-of-type {\n",
       "        vertical-align: middle;\n",
       "    }\n",
       "\n",
       "    .dataframe tbody tr th {\n",
       "        vertical-align: top;\n",
       "    }\n",
       "\n",
       "    .dataframe thead th {\n",
       "        text-align: right;\n",
       "    }\n",
       "</style>\n",
       "<table border=\"1\" class=\"dataframe\">\n",
       "  <thead>\n",
       "    <tr style=\"text-align: right;\">\n",
       "      <th></th>\n",
       "      <th>calls</th>\n",
       "      <th>minutes</th>\n",
       "      <th>messages</th>\n",
       "      <th>mb_used</th>\n",
       "      <th>is_ultra</th>\n",
       "    </tr>\n",
       "  </thead>\n",
       "  <tbody>\n",
       "    <tr>\n",
       "      <th>0</th>\n",
       "      <td>40.0</td>\n",
       "      <td>311.90</td>\n",
       "      <td>83.0</td>\n",
       "      <td>19915.42</td>\n",
       "      <td>0</td>\n",
       "    </tr>\n",
       "    <tr>\n",
       "      <th>1</th>\n",
       "      <td>85.0</td>\n",
       "      <td>516.75</td>\n",
       "      <td>56.0</td>\n",
       "      <td>22696.96</td>\n",
       "      <td>0</td>\n",
       "    </tr>\n",
       "    <tr>\n",
       "      <th>2</th>\n",
       "      <td>77.0</td>\n",
       "      <td>467.66</td>\n",
       "      <td>86.0</td>\n",
       "      <td>21060.45</td>\n",
       "      <td>0</td>\n",
       "    </tr>\n",
       "    <tr>\n",
       "      <th>3</th>\n",
       "      <td>106.0</td>\n",
       "      <td>745.53</td>\n",
       "      <td>81.0</td>\n",
       "      <td>8437.39</td>\n",
       "      <td>1</td>\n",
       "    </tr>\n",
       "    <tr>\n",
       "      <th>4</th>\n",
       "      <td>66.0</td>\n",
       "      <td>418.74</td>\n",
       "      <td>1.0</td>\n",
       "      <td>14502.75</td>\n",
       "      <td>0</td>\n",
       "    </tr>\n",
       "  </tbody>\n",
       "</table>\n",
       "</div>"
      ],
      "text/plain": [
       "   calls  minutes  messages   mb_used  is_ultra\n",
       "0   40.0   311.90      83.0  19915.42         0\n",
       "1   85.0   516.75      56.0  22696.96         0\n",
       "2   77.0   467.66      86.0  21060.45         0\n",
       "3  106.0   745.53      81.0   8437.39         1\n",
       "4   66.0   418.74       1.0  14502.75         0"
      ]
     },
     "metadata": {},
     "output_type": "display_data"
    }
   ],
   "source": [
    "data = pd.read_csv('users_behavior.csv')\n",
    "display(data.head())"
   ]
  },
  {
   "cell_type": "code",
   "execution_count": 3,
   "metadata": {},
   "outputs": [
    {
     "data": {
      "image/png": "[encoded data removed]",
      "text/plain": [
       "<Figure size 640x480 with 2 Axes>"
      ]
     },
     "metadata": {},
     "output_type": "display_data"
    }
   ],
   "source": [
    "data_plot = sns.heatmap(data.corr(), cmap=\"YlGnBu\", annot=True)  \n",
    "plt.show()"
   ]
  },
  {
   "cell_type": "markdown",
   "metadata": {},
   "source": [
    "Получается calls и minutes имеет одниаковую корреляцию с is_ultra. "
   ]
  },
  {
   "cell_type": "code",
   "execution_count": 4,
   "metadata": {},
   "outputs": [
    {
     "name": "stdout",
     "output_type": "stream",
     "text": [
      "<class 'pandas.core.frame.DataFrame'>\n",
      "RangeIndex: 3214 entries, 0 to 3213\n",
      "Data columns (total 5 columns):\n",
      " #   Column    Non-Null Count  Dtype  \n",
      "---  ------    --------------  -----  \n",
      " 0   calls     3214 non-null   float64\n",
      " 1   minutes   3214 non-null   float64\n",
      " 2   messages  3214 non-null   float64\n",
      " 3   mb_used   3214 non-null   float64\n",
      " 4   is_ultra  3214 non-null   int64  \n",
      "dtypes: float64(4), int64(1)\n",
      "memory usage: 125.7 KB\n"
     ]
    }
   ],
   "source": [
    "data.info()"
   ]
  },
  {
   "cell_type": "code",
   "execution_count": 5,
   "metadata": {},
   "outputs": [
    {
     "data": {
      "text/plain": [
       "calls       0\n",
       "minutes     0\n",
       "messages    0\n",
       "mb_used     0\n",
       "is_ultra    0\n",
       "dtype: int64"
      ]
     },
     "execution_count": 5,
     "metadata": {},
     "output_type": "execute_result"
    }
   ],
   "source": [
    "data.isna().sum()"
   ]
  },
  {
   "cell_type": "markdown",
   "metadata": {},
   "source": [
    "     Мультиколлинеарность — корреляция независимых переменных, которая затрудняет оценку и анализ общего результата. Когда независимые переменные коррелируют друг с другом, говорят о возникновении мультиколлинеарности.\n",
    "В машинном обучении мультиколлинеарность может стать причиной переобучаемости модели, что приведет к неверному результату. \n",
    "    \n",
    "*Различные способы решения проблемы мультиколлинеарности:*\n",
    "- Выбор переменных. Переменные следует выбирать таким образом, чтобы те, которые сильно коррелированы, были удалены, и мы использовали только значимые переменные.\n",
    "- Преобразование переменных. Преобразование переменных является неотъемлемым шагом, и здесь цель состоит в том, чтобы сохранить функцию, но выполнение преобразования может дать нам диапазон, который не приведет к предвзятому результату.\n",
    "- Анализ главных компонентов. Анализ основных компонентов — это метод уменьшения размерности, с помощью которого мы можем получить важные характеристики набора данных, которые сильно влияют на нашу целевую переменную.   \n",
    "    \n",
    "*Какие проблемы могут возникнуть из-за мультиколлинеарности?* Поскольку существует сильная взаимосвязь, определение значимых переменных будет сложной задачей. Коэффициенты, которые мы получим для переменных, могут быть нестабильными, и, как следствие, интерпретация модели будет утомительной работой. Может произойти переобучение, и точность модели изменится в зависимости от набора данных.  \n",
    "\n",
    "Это все для регрессионной модели.\n",
    "\n"
   ]
  },
  {
   "cell_type": "markdown",
   "metadata": {},
   "source": [
    "## Разбейте данные на выборки"
   ]
  },
  {
   "cell_type": "markdown",
   "metadata": {},
   "source": [
    "Мы разделим данные на обучающую (60%), валидационную (20%) и тестовую выборки(20%)."
   ]
  },
  {
   "cell_type": "markdown",
   "metadata": {},
   "source": [
    "Сохраним признаки в отдельных переменных:"
   ]
  },
  {
   "cell_type": "code",
   "execution_count": 6,
   "metadata": {},
   "outputs": [
    {
     "name": "stdout",
     "output_type": "stream",
     "text": [
      "(1928, 5)\n",
      "(643, 5)\n",
      "(643, 5)\n"
     ]
    }
   ],
   "source": [
    "data_train, data_test1 = train_test_split(data, test_size=0.4, random_state=12345, stratify=data['is_ultra']) \n",
    "data_test, data_valid = train_test_split(data_test1, test_size=0.5, random_state=12345) #stratify=data['is_ultra']) \n",
    "print(data_train.shape)\n",
    "print(data_test.shape)\n",
    "print(data_valid.shape)"
   ]
  },
  {
   "cell_type": "markdown",
   "metadata": {},
   "source": [
    "## Исследуйте модели"
   ]
  },
  {
   "cell_type": "markdown",
   "metadata": {},
   "source": [
    "Так как нам нужно построить модель для задачи классификации, которая выберет подходящий тариф, то столбец \"is_ultra\" - это наш ответ (целевой признак), и это бинарная классификация (категориальный целевой признак).  "
   ]
  },
  {
   "cell_type": "markdown",
   "metadata": {},
   "source": [
    "Модель мы тренируем на тренировочной(обучающей), оцениваем качество на валидационной. А тестовая просто для контроля. Если очень большие расхождения между валидационной и тестовой - переделываем алгоритм."
   ]
  },
  {
   "cell_type": "markdown",
   "metadata": {},
   "source": [
    "Мы обучим дерево решений, случайный лес и логистическую регрессию. "
   ]
  },
  {
   "cell_type": "code",
   "execution_count": 7,
   "metadata": {},
   "outputs": [
    {
     "name": "stdout",
     "output_type": "stream",
     "text": [
      "(3214, 3)\n",
      "(3214,)\n"
     ]
    }
   ],
   "source": [
    "#features = pd.DataFrame(data=data, columns=['minutes', 'messages', 'mb_used'])\n",
    "features = data.drop(['calls', 'is_ultra'], axis=1)\n",
    "target = data['is_ultra']\n",
    "print(features.shape)\n",
    "print(target.shape)"
   ]
  },
  {
   "cell_type": "code",
   "execution_count": 9,
   "metadata": {},
   "outputs": [
    {
     "name": "stdout",
     "output_type": "stream",
     "text": [
      "(1928, 3)\n",
      "(1928,)\n",
      "(643, 3)\n",
      "(643,)\n",
      "(643, 3)\n",
      "(643,)\n"
     ]
    }
   ],
   "source": [
    "#features_train = data_train.drop(['сalls', 'is_ultra'], axis=1)\n",
    "features_train = pd.DataFrame(data=data_train, columns=['minutes', 'messages', 'mb_used'])\n",
    "target_train = data_train['is_ultra']\n",
    "#features_valid = data_valid.drop(['сalls', 'is_ultra'], axis=1)\n",
    "features_valid = pd.DataFrame(data=data_valid, columns=['minutes', 'messages', 'mb_used'])\n",
    "target_valid = data_valid['is_ultra']\n",
    "features_test = pd.DataFrame(data=data_test, columns=['minutes', 'messages', 'mb_used'])\n",
    "target_test = data_test['is_ultra']\n",
    "\n",
    "\n",
    "print(features_train.shape)\n",
    "print(target_train.shape)\n",
    "print(features_valid.shape)\n",
    "print(target_valid.shape)\n",
    "print(features_test.shape)\n",
    "print(target_test.shape)"
   ]
  },
  {
   "cell_type": "markdown",
   "metadata": {},
   "source": [
    "**Решающее дерево**"
   ]
  },
  {
   "cell_type": "code",
   "execution_count": 10,
   "metadata": {},
   "outputs": [
    {
     "name": "stdout",
     "output_type": "stream",
     "text": [
      "DecisionTreeClassifier()\n"
     ]
    }
   ],
   "source": [
    "model = DecisionTreeClassifier() \n",
    "model.fit(features_train, target_train)\n",
    "print(model)"
   ]
  },
  {
   "cell_type": "code",
   "execution_count": 11,
   "metadata": {},
   "outputs": [
    {
     "name": "stdout",
     "output_type": "stream",
     "text": [
      "max_depth = 1 : 0.7387247278382582\n",
      "max_depth = 2 : 0.7791601866251944\n",
      "max_depth = 3 : 0.7884914463452566\n",
      "max_depth = 4 : 0.7729393468118196\n",
      "max_depth = 5 : 0.7838258164852255\n",
      "max_depth = 6 : 0.7807153965785381\n",
      "max_depth = 7 : 0.7791601866251944\n",
      "max_depth = 8 : 0.7807153965785381\n",
      "max_depth = 9 : 0.7869362363919129\n"
     ]
    }
   ],
   "source": [
    "for depth in range(1, 10):\n",
    "    model = DecisionTreeClassifier(random_state=12345, max_depth=depth) #criterion='gini')\n",
    "    model.fit(features_train, target_train)\n",
    "    predictions_valid = model.predict(features_valid)\n",
    "    \n",
    "    print(\"max_depth =\", depth, \": \", end='')\n",
    "    print(accuracy_score(target_valid, predictions_valid))"
   ]
  },
  {
   "cell_type": "code",
   "execution_count": 12,
   "metadata": {},
   "outputs": [
    {
     "data": {
      "image/png": "[encoded data removed]",
      "text/plain": [
       "<Figure size 1000x700 with 1 Axes>"
      ]
     },
     "metadata": {},
     "output_type": "display_data"
    }
   ],
   "source": [
    "acc_valid = [] # сюда записывается accuracy по валидационной\n",
    "acc_train = [] # сюда записывается accuracy по обучающей\n",
    "\n",
    "depth_ = 20\n",
    "\n",
    "for depth in range(1, depth_):\n",
    "    model_tree = DecisionTreeClassifier(random_state=12345, max_depth=depth)\n",
    "    model_tree.fit(features_train, target_train)\n",
    "    \n",
    "    predictions_valid = model_tree.predict(features_valid)\n",
    "    predictions_train = model_tree.predict(features_train)\n",
    "    \n",
    "#     собираем результаты в списки\n",
    "    acc_valid.append(accuracy_score(target_valid, predictions_valid))   \n",
    "    acc_train.append(accuracy_score(target_train, predictions_train))   \n",
    "    \n",
    "    \n",
    "fig, ax = plt.subplots(figsize = (10, 7))\n",
    "fig.suptitle('')\n",
    "\n",
    "# строи по спискам графики\n",
    "ax.plot(np.arange(1, depth_), acc_valid, )\n",
    "ax.plot(np.arange(1, depth_), acc_train)\n",
    "\n",
    "ax.set_xlabel('Глубина дерева')\n",
    "ax.set_ylabel('Accuracy')\n",
    "\n",
    "ax.legend(['Точность предсказаний на валидационной выборке', 'Точность предсказаний на обучающей выборке'])\n",
    "\n",
    "plt.ylim(0.7, 1);  "
   ]
  },
  {
   "cell_type": "code",
   "execution_count": 13,
   "metadata": {},
   "outputs": [
    {
     "name": "stdout",
     "output_type": "stream",
     "text": [
      "Accuracy наилучшей модели на валидационной выборке: 0.7884914463452566\n",
      " \n",
      "{'ccp_alpha': 0.0, 'class_weight': None, 'criterion': 'gini', 'max_depth': 3, 'max_features': None, 'max_leaf_nodes': None, 'min_impurity_decrease': 0.0, 'min_samples_leaf': 1, 'min_samples_split': 2, 'min_weight_fraction_leaf': 0.0, 'random_state': 12345, 'splitter': 'best'}\n"
     ]
    }
   ],
   "source": [
    "best_model = None\n",
    "best_result = 0\n",
    "for depth in range(1, 10):\n",
    "    model = DecisionTreeClassifier(random_state=12345, max_depth=depth) \n",
    "    model.fit(features_train, target_train)\n",
    "    result = model.score(features_valid, target_valid)\n",
    "    if result > best_result:\n",
    "        best_model = model \n",
    "        best_result = result \n",
    "\n",
    "print(\"Accuracy наилучшей модели на валидационной выборке:\", best_result)\n",
    "print(' ')\n",
    "print(best_model.get_params())"
   ]
  },
  {
   "cell_type": "markdown",
   "metadata": {},
   "source": [
    "Получается лучшая модель с глубиной дерева - 3, c accuracy на валидационной выборке = 0.788"
   ]
  },
  {
   "cell_type": "code",
   "execution_count": 14,
   "metadata": {},
   "outputs": [
    {
     "data": {
      "image/png": "[encoded data removed]",
      "text/plain": [
       "<Figure size 1200x1200 with 1 Axes>"
      ]
     },
     "metadata": {},
     "output_type": "display_data"
    }
   ],
   "source": [
    "model = DecisionTreeClassifier(random_state=12345, max_depth=3) \n",
    "model = model.fit(features_train, target_train)\n",
    "\n",
    "plt.figure(figsize=(12,12))\n",
    "tree.plot_tree(model, fontsize=10)\n",
    "\n",
    "plt.show()"
   ]
  },
  {
   "cell_type": "markdown",
   "metadata": {},
   "source": [
    "**Случайный лес**  \n",
    "Перейдем к случайному лесу, он помогает улучшить результат предсказания и избежать переобучения."
   ]
  },
  {
   "cell_type": "code",
   "execution_count": 18,
   "metadata": {},
   "outputs": [
    {
     "name": "stdout",
     "output_type": "stream",
     "text": [
      "Accuracy наилучшей модели на валидационной выборке: 0.80248833592535\n",
      " \n",
      "{'bootstrap': True, 'ccp_alpha': 0.0, 'class_weight': None, 'criterion': 'entropy', 'max_depth': None, 'max_features': 'sqrt', 'max_leaf_nodes': None, 'max_samples': None, 'min_impurity_decrease': 0.0, 'min_samples_leaf': 1, 'min_samples_split': 2, 'min_weight_fraction_leaf': 0.0, 'n_estimators': 12, 'n_jobs': None, 'oob_score': False, 'random_state': 12345, 'verbose': 0, 'warm_start': False}\n",
      "CPU times: total: 1.12 s\n",
      "Wall time: 1.15 s\n"
     ]
    }
   ],
   "source": [
    "%%time\n",
    "best_model = None\n",
    "best_result = 0\n",
    "for est in range(1, 20):\n",
    "    model = RandomForestClassifier(random_state=12345, criterion='entropy', n_estimators=est) \n",
    "    model.fit(features_train, target_train) \n",
    "    result = model.score(features_valid, target_valid) \n",
    "    if result > best_result:\n",
    "        best_model = model \n",
    "        best_result = result \n",
    "\n",
    "print(\"Accuracy наилучшей модели на валидационной выборке:\", best_result)\n",
    "print(' ')\n",
    "print(best_model.get_params())"
   ]
  },
  {
   "cell_type": "markdown",
   "metadata": {},
   "source": [
    "Получается, что самая лучшаю модель с числом деревьев 12 на валидационной выборке с accuracy = 0,80, с критерием энтропии. "
   ]
  },
  {
   "cell_type": "markdown",
   "metadata": {},
   "source": [
    "**Логиcтическая регрессия**"
   ]
  },
  {
   "cell_type": "code",
   "execution_count": 19,
   "metadata": {},
   "outputs": [
    {
     "name": "stdout",
     "output_type": "stream",
     "text": [
      "Accuracy на валидационной выборке: 0.7076205287713841\n"
     ]
    }
   ],
   "source": [
    "model = LogisticRegression(random_state=12345, solver='lbfgs', max_iter=1000)\n",
    "model.fit(features_train, target_train) \n",
    "result = model.score(features_valid, target_valid) \n",
    "print(\"Accuracy на валидационной выборке:\", result)\n"
   ]
  },
  {
   "cell_type": "code",
   "execution_count": 20,
   "metadata": {},
   "outputs": [
    {
     "name": "stdout",
     "output_type": "stream",
     "text": [
      "Accuracy на валидационной выборке: 0.744945567651633\n"
     ]
    }
   ],
   "source": [
    "model = LogisticRegression(random_state=12345, solver='newton-cg', max_iter=100)\n",
    "model.fit(features_train, target_train) \n",
    "result = model.score(features_valid, target_valid) \n",
    "print(\"Accuracy на валидационной выборке:\", result)"
   ]
  },
  {
   "cell_type": "markdown",
   "metadata": {},
   "source": [
    "## Проверьте модель на тестовой выборке"
   ]
  },
  {
   "cell_type": "markdown",
   "metadata": {},
   "source": [
    "Лучшая модель - случайный лес. Посмотрим на степень переобучения:"
   ]
  },
  {
   "cell_type": "code",
   "execution_count": 28,
   "metadata": {},
   "outputs": [
    {
     "name": "stdout",
     "output_type": "stream",
     "text": [
      "Accuracy\n",
      "Валидационная выборка: 0.7993779160186625\n",
      "Тестовая выборка: 0.7978227060653188\n"
     ]
    }
   ],
   "source": [
    "model = RandomForestClassifier(random_state=12345, n_estimators=17, criterion='entropy')\n",
    "model.fit(features_train, target_train)\n",
    "\n",
    "valid_predictions = model.predict(features_valid)\n",
    "test_predictions = model.predict(features_test)\n",
    "print(\"Accuracy\")\n",
    "print(\"Валидационная выборка:\", accuracy_score(target_valid, valid_predictions)) \n",
    "print(\"Тестовая выборка:\", accuracy_score(target_test, test_predictions))"
   ]
  },
  {
   "cell_type": "markdown",
   "metadata": {},
   "source": [
    "Качество модели на тестовой и валидационой выборке практически одинаковая, что говорит о том, что модель не переобучена."
   ]
  },
  {
   "cell_type": "markdown",
   "metadata": {},
   "source": [
    "Обучим модель с выбранными гиперпараметрами на тренировочной + валидационной выборке. Так как чем больше данных, тем можель лучше может обучиться. Дообученную модель проверим на тесте. "
   ]
  },
  {
   "cell_type": "code",
   "execution_count": 22,
   "metadata": {},
   "outputs": [
    {
     "name": "stdout",
     "output_type": "stream",
     "text": [
      "(2571, 3)\n",
      "(2571,)\n"
     ]
    }
   ],
   "source": [
    "df_combine = pd.concat([data_train, data_valid], axis=0, ignore_index=True)\n",
    "features = df_combine.drop(['calls', 'is_ultra'], axis=1)\n",
    "target = df_combine['is_ultra']\n",
    "print(features.shape)\n",
    "print(target.shape)"
   ]
  },
  {
   "cell_type": "code",
   "execution_count": 29,
   "metadata": {},
   "outputs": [
    {
     "name": "stdout",
     "output_type": "stream",
     "text": [
      "0.807153965785381\n"
     ]
    }
   ],
   "source": [
    "model = RandomForestClassifier(random_state=12345, n_estimators=17, criterion='entropy') \n",
    "model.fit(features, target)\n",
    "predictions = model.predict(features_test)\n",
    "accuracy = accuracy_score(target_test, predictions)\n",
    "print(accuracy)"
   ]
  },
  {
   "cell_type": "code",
   "execution_count": 31,
   "metadata": {},
   "outputs": [
    {
     "name": "stdout",
     "output_type": "stream",
     "text": [
      "Тренировочная + валидационная выборка: 0.807153965785381\n",
      "Тестовая выборка: 0.7978227060653188\n"
     ]
    }
   ],
   "source": [
    "model.fit(features_train, target_train)\n",
    "test_predictions = model.predict(features_test)\n",
    "print(\"Тренировочная + валидационная выборка:\", accuracy) \n",
    "print(\"Тестовая выборка:\", accuracy_score(target_test, test_predictions))"
   ]
  },
  {
   "cell_type": "markdown",
   "metadata": {},
   "source": [
    "Качество модели, обученной на тренировочной + валидационной выборке, улучшилось. "
   ]
  },
  {
   "cell_type": "markdown",
   "metadata": {},
   "source": [
    "Получается лучшая модель - случайный лес, судя по accuracy."
   ]
  },
  {
   "cell_type": "markdown",
   "metadata": {},
   "source": [
    "## (бонус) Проверьте модели на адекватность"
   ]
  },
  {
   "cell_type": "markdown",
   "metadata": {},
   "source": [
    " Точность (англ. precision) показывает, какая доля объектов, отмеченных моделью как тариф ultra, действительно являются ultra (ответ 1). Надо преминить precision_score().   \n",
    "Так же сравнивайть модель со случайной, так можно оценить её адекватность, или проверить на вменяемость (англ. sanity check)."
   ]
  },
  {
   "cell_type": "code",
   "execution_count": 34,
   "metadata": {},
   "outputs": [
    {
     "name": "stdout",
     "output_type": "stream",
     "text": [
      "0.6920684292379471\n"
     ]
    }
   ],
   "source": [
    "dummy_clf = DummyClassifier(strategy=\"most_frequent\", random_state=1)\n",
    "dummy_clf.fit(features_train, target_train)\n",
    "predictions = dummy_clf.predict(features_test)\n",
    "accuracy = dummy_clf.score(features_test, target_test)\n",
    "#print(predictions)\n",
    "print(accuracy)"
   ]
  },
  {
   "cell_type": "markdown",
   "metadata": {},
   "source": [
    "Сравнивая accuracy моей модели 0.8>0.69 - значит можель адеквантая."
   ]
  },
  {
   "cell_type": "markdown",
   "metadata": {},
   "source": [
    "## Вывод \n",
    "- Загрузилали исходный датасет, провали минимальный анализ данных на наличие дубликатов, пропущенных значений и т.д- .\r\n",
    "Выполаили разделение исходных данных на обучающую, валидационную и тестовую выбо ии 60/20/20- Вее выдаелил признаки для моделей и обучили моде- ли.\r\n",
    "Выбрали модель с самым высоким уровнем Accuracy и провели сравнение качества на тестовой выб Сравнила качество модели, обучив ее на валидационой + тренировочной выборке. \n",
    "- Проверила наилучшую модель на адекватность.о- Лзала лучшее значение Accuracy равн0 показала модель случайного лесае 0.81., т.е. 8 из 10 правильных о. А значит мтов. Модель нам подходит."
   ]
  },
  {
   "cell_type": "markdown",
   "metadata": {},
   "source": [
    "## Чек-лист готовности проекта"
   ]
  },
  {
   "cell_type": "markdown",
   "metadata": {},
   "source": [
    "Поставьте 'x' в выполненных пунктах. Далее нажмите Shift+Enter."
   ]
  },
  {
   "cell_type": "markdown",
   "metadata": {},
   "source": [
    "- [x] Jupyter Notebook открыт\n",
    "- [x] Весь код исполняется без ошибок\n",
    "- [x] Ячейки с кодом расположены в порядке исполнения\n",
    "- [x] Выполнено задание 1: данные загружены и изучены\n",
    "- [x] Выполнено задание 2: данные разбиты на три выборки\n",
    "- [x] Выполнено задание 3: проведено исследование моделей\n",
    "    - [x] Рассмотрено больше одной модели\n",
    "    - [x] Рассмотрено хотя бы 3 значения гипепараметров для какой-нибудь модели\n",
    "    - [x] Написаны выводы по результатам исследования\n",
    "- [x] Выполнено задание 3: Проведено тестирование\n",
    "- [x] Удалось достичь accuracy не меньше 0.75\n"
   ]
  }
 ],
 "metadata": {
  "ExecuteTimeLog": [
   {
    "duration": 445,
    "start_time": "2022-11-08T16:05:02.742Z"
   },
   {
    "duration": 34,
    "start_time": "2022-11-08T16:07:15.208Z"
   },
   {
    "duration": 10,
    "start_time": "2022-11-08T16:07:36.103Z"
   },
   {
    "duration": 6,
    "start_time": "2022-11-08T16:17:55.255Z"
   },
   {
    "duration": 693,
    "start_time": "2022-11-08T16:34:22.131Z"
   },
   {
    "duration": 7,
    "start_time": "2022-11-08T17:01:29.173Z"
   },
   {
    "duration": 19,
    "start_time": "2022-11-08T17:01:59.978Z"
   },
   {
    "duration": 19,
    "start_time": "2022-11-08T17:02:15.116Z"
   },
   {
    "duration": 15,
    "start_time": "2022-11-08T17:02:23.374Z"
   },
   {
    "duration": 100,
    "start_time": "2022-11-08T17:08:10.539Z"
   },
   {
    "duration": 35,
    "start_time": "2022-11-08T17:09:12.891Z"
   },
   {
    "duration": 11,
    "start_time": "2022-11-08T17:09:12.929Z"
   },
   {
    "duration": 12,
    "start_time": "2022-11-08T17:09:12.942Z"
   },
   {
    "duration": 21,
    "start_time": "2022-11-08T17:09:12.955Z"
   },
   {
    "duration": 415,
    "start_time": "2022-11-08T17:09:22.332Z"
   },
   {
    "duration": 10,
    "start_time": "2022-11-08T17:09:22.749Z"
   },
   {
    "duration": 8,
    "start_time": "2022-11-08T17:09:22.761Z"
   },
   {
    "duration": 705,
    "start_time": "2022-11-08T17:09:22.770Z"
   },
   {
    "duration": 96,
    "start_time": "2022-11-08T17:13:19.824Z"
   },
   {
    "duration": 13,
    "start_time": "2022-11-08T17:13:26.182Z"
   },
   {
    "duration": 7,
    "start_time": "2022-11-08T17:13:43.036Z"
   },
   {
    "duration": 7,
    "start_time": "2022-11-08T17:25:14.933Z"
   },
   {
    "duration": 7,
    "start_time": "2022-11-08T17:25:20.035Z"
   },
   {
    "duration": 15,
    "start_time": "2022-11-08T17:25:35.900Z"
   },
   {
    "duration": 7,
    "start_time": "2022-11-08T17:30:59.784Z"
   },
   {
    "duration": 9,
    "start_time": "2022-11-08T17:31:19.584Z"
   },
   {
    "duration": 5,
    "start_time": "2022-11-08T17:41:57.040Z"
   },
   {
    "duration": 4,
    "start_time": "2022-11-08T17:43:36.489Z"
   },
   {
    "duration": 5,
    "start_time": "2022-11-08T17:43:56.312Z"
   },
   {
    "duration": 79,
    "start_time": "2022-11-08T18:20:36.984Z"
   },
   {
    "duration": 3,
    "start_time": "2022-11-08T18:20:46.083Z"
   },
   {
    "duration": 5,
    "start_time": "2022-11-08T18:23:13.350Z"
   },
   {
    "duration": 17,
    "start_time": "2022-11-08T18:44:20.475Z"
   },
   {
    "duration": 15,
    "start_time": "2022-11-08T18:46:01.883Z"
   },
   {
    "duration": 13,
    "start_time": "2022-11-08T18:46:58.734Z"
   },
   {
    "duration": 8,
    "start_time": "2022-11-08T18:47:15.331Z"
   },
   {
    "duration": 12,
    "start_time": "2022-11-08T18:48:26.492Z"
   },
   {
    "duration": 8,
    "start_time": "2022-11-08T18:48:44.795Z"
   },
   {
    "duration": 4,
    "start_time": "2022-11-08T18:51:29.124Z"
   },
   {
    "duration": 10,
    "start_time": "2022-11-08T18:51:32.855Z"
   },
   {
    "duration": 13,
    "start_time": "2022-11-08T18:51:49.182Z"
   },
   {
    "duration": 386,
    "start_time": "2022-11-08T18:51:58.967Z"
   },
   {
    "duration": 11,
    "start_time": "2022-11-08T18:51:59.354Z"
   },
   {
    "duration": 9,
    "start_time": "2022-11-08T18:51:59.366Z"
   },
   {
    "duration": 645,
    "start_time": "2022-11-08T18:51:59.377Z"
   },
   {
    "duration": 4,
    "start_time": "2022-11-08T18:52:00.023Z"
   },
   {
    "duration": 12,
    "start_time": "2022-11-08T18:52:00.029Z"
   },
   {
    "duration": 99,
    "start_time": "2022-11-08T18:52:00.042Z"
   },
   {
    "duration": 8,
    "start_time": "2022-11-08T18:56:15.129Z"
   },
   {
    "duration": 37,
    "start_time": "2022-11-08T19:15:58.914Z"
   },
   {
    "duration": 9,
    "start_time": "2022-11-08T19:25:32.563Z"
   },
   {
    "duration": 18,
    "start_time": "2022-11-08T19:39:33.282Z"
   },
   {
    "duration": 37,
    "start_time": "2022-11-08T19:40:43.782Z"
   },
   {
    "duration": 15,
    "start_time": "2022-11-08T19:40:43.821Z"
   },
   {
    "duration": 8,
    "start_time": "2022-11-08T19:40:43.837Z"
   },
   {
    "duration": 8,
    "start_time": "2022-11-08T19:40:43.846Z"
   },
   {
    "duration": 4,
    "start_time": "2022-11-08T19:40:43.857Z"
   },
   {
    "duration": 9,
    "start_time": "2022-11-08T19:40:43.862Z"
   },
   {
    "duration": 6,
    "start_time": "2022-11-08T19:40:43.872Z"
   },
   {
    "duration": 31,
    "start_time": "2022-11-08T19:40:48.043Z"
   },
   {
    "duration": 10,
    "start_time": "2022-11-08T19:40:48.075Z"
   },
   {
    "duration": 8,
    "start_time": "2022-11-08T19:40:48.086Z"
   },
   {
    "duration": 7,
    "start_time": "2022-11-08T19:40:48.096Z"
   },
   {
    "duration": 5,
    "start_time": "2022-11-08T19:40:48.105Z"
   },
   {
    "duration": 7,
    "start_time": "2022-11-08T19:40:48.111Z"
   },
   {
    "duration": 15,
    "start_time": "2022-11-08T19:40:48.120Z"
   },
   {
    "duration": 14,
    "start_time": "2022-11-08T19:40:48.136Z"
   },
   {
    "duration": 13,
    "start_time": "2022-11-08T19:41:09.587Z"
   },
   {
    "duration": 436,
    "start_time": "2022-11-08T19:41:21.047Z"
   },
   {
    "duration": 10,
    "start_time": "2022-11-08T19:41:21.485Z"
   },
   {
    "duration": 8,
    "start_time": "2022-11-08T19:41:21.496Z"
   },
   {
    "duration": 671,
    "start_time": "2022-11-08T19:41:21.506Z"
   },
   {
    "duration": 4,
    "start_time": "2022-11-08T19:41:22.179Z"
   },
   {
    "duration": 9,
    "start_time": "2022-11-08T19:41:22.185Z"
   },
   {
    "duration": 52,
    "start_time": "2022-11-08T19:41:22.195Z"
   },
   {
    "duration": 111,
    "start_time": "2022-11-08T19:41:22.249Z"
   },
   {
    "duration": 15,
    "start_time": "2022-11-08T19:42:21.790Z"
   },
   {
    "duration": 409,
    "start_time": "2022-11-08T19:42:34.252Z"
   },
   {
    "duration": 11,
    "start_time": "2022-11-08T19:42:34.663Z"
   },
   {
    "duration": 9,
    "start_time": "2022-11-08T19:42:34.676Z"
   },
   {
    "duration": 687,
    "start_time": "2022-11-08T19:42:34.686Z"
   },
   {
    "duration": 6,
    "start_time": "2022-11-08T19:42:35.377Z"
   },
   {
    "duration": 13,
    "start_time": "2022-11-08T19:42:35.384Z"
   },
   {
    "duration": 40,
    "start_time": "2022-11-08T19:42:35.398Z"
   },
   {
    "duration": 100,
    "start_time": "2022-11-08T19:42:35.440Z"
   },
   {
    "duration": 21,
    "start_time": "2022-11-08T19:48:16.504Z"
   },
   {
    "duration": 452,
    "start_time": "2022-11-08T19:48:42.011Z"
   },
   {
    "duration": 12,
    "start_time": "2022-11-08T19:48:42.465Z"
   },
   {
    "duration": 6,
    "start_time": "2022-11-08T19:48:42.478Z"
   },
   {
    "duration": 686,
    "start_time": "2022-11-08T19:48:42.487Z"
   },
   {
    "duration": 4,
    "start_time": "2022-11-08T19:48:43.175Z"
   },
   {
    "duration": 11,
    "start_time": "2022-11-08T19:48:43.181Z"
   },
   {
    "duration": 41,
    "start_time": "2022-11-08T19:48:43.194Z"
   },
   {
    "duration": 105,
    "start_time": "2022-11-08T19:48:43.236Z"
   },
   {
    "duration": 0,
    "start_time": "2022-11-08T19:48:43.342Z"
   },
   {
    "duration": 9,
    "start_time": "2022-11-08T19:51:40.269Z"
   },
   {
    "duration": 13,
    "start_time": "2022-11-08T19:51:54.049Z"
   },
   {
    "duration": 7,
    "start_time": "2022-11-08T19:51:58.846Z"
   },
   {
    "duration": 3,
    "start_time": "2022-11-08T19:52:38.351Z"
   },
   {
    "duration": 17,
    "start_time": "2022-11-08T19:52:42.003Z"
   },
   {
    "duration": 15,
    "start_time": "2022-11-08T19:57:49.153Z"
   },
   {
    "duration": 28,
    "start_time": "2022-11-08T19:58:04.031Z"
   },
   {
    "duration": 29,
    "start_time": "2022-11-08T20:00:13.701Z"
   },
   {
    "duration": 35,
    "start_time": "2022-11-08T20:01:03.215Z"
   },
   {
    "duration": 40,
    "start_time": "2022-11-08T20:01:14.014Z"
   },
   {
    "duration": 27,
    "start_time": "2022-11-08T20:01:22.094Z"
   },
   {
    "duration": 49,
    "start_time": "2022-11-08T20:01:25.545Z"
   },
   {
    "duration": 42,
    "start_time": "2022-11-08T20:06:50.519Z"
   },
   {
    "duration": 28,
    "start_time": "2022-11-08T20:09:08.319Z"
   },
   {
    "duration": 29,
    "start_time": "2022-11-08T20:09:16.179Z"
   },
   {
    "duration": 14,
    "start_time": "2022-11-08T20:11:00.360Z"
   },
   {
    "duration": 203,
    "start_time": "2022-11-08T20:11:52.119Z"
   },
   {
    "duration": 223,
    "start_time": "2022-11-08T20:12:28.658Z"
   },
   {
    "duration": 221,
    "start_time": "2022-11-08T20:12:53.206Z"
   },
   {
    "duration": 346,
    "start_time": "2022-11-08T20:12:57.171Z"
   },
   {
    "duration": 404,
    "start_time": "2022-11-08T20:13:27.375Z"
   },
   {
    "duration": 486,
    "start_time": "2022-11-08T20:13:32.644Z"
   },
   {
    "duration": 591,
    "start_time": "2022-11-08T20:13:40.179Z"
   },
   {
    "duration": 614,
    "start_time": "2022-11-08T20:13:48.339Z"
   },
   {
    "duration": 660,
    "start_time": "2022-11-08T20:13:55.346Z"
   },
   {
    "duration": 618,
    "start_time": "2022-11-08T20:14:01.290Z"
   },
   {
    "duration": 3,
    "start_time": "2022-11-08T20:15:07.914Z"
   },
   {
    "duration": 27,
    "start_time": "2022-11-08T20:18:15.842Z"
   },
   {
    "duration": 3,
    "start_time": "2022-11-08T20:18:30.108Z"
   },
   {
    "duration": 170,
    "start_time": "2022-11-08T20:18:31.534Z"
   },
   {
    "duration": 279,
    "start_time": "2022-11-08T20:19:19.715Z"
   },
   {
    "duration": 98,
    "start_time": "2022-11-08T20:20:09.807Z"
   },
   {
    "duration": 18,
    "start_time": "2022-11-08T20:22:16.023Z"
   },
   {
    "duration": 23,
    "start_time": "2022-11-08T20:30:55.022Z"
   },
   {
    "duration": 29,
    "start_time": "2022-11-08T20:33:38.580Z"
   },
   {
    "duration": 25,
    "start_time": "2022-11-08T20:37:16.031Z"
   },
   {
    "duration": 422,
    "start_time": "2022-11-08T20:38:44.809Z"
   },
   {
    "duration": 15,
    "start_time": "2022-11-08T20:38:45.233Z"
   },
   {
    "duration": 12,
    "start_time": "2022-11-08T20:38:45.250Z"
   },
   {
    "duration": 656,
    "start_time": "2022-11-08T20:38:45.264Z"
   },
   {
    "duration": 5,
    "start_time": "2022-11-08T20:38:45.921Z"
   },
   {
    "duration": 14,
    "start_time": "2022-11-08T20:38:45.928Z"
   },
   {
    "duration": 49,
    "start_time": "2022-11-08T20:38:45.943Z"
   },
   {
    "duration": 13,
    "start_time": "2022-11-08T20:38:45.994Z"
   },
   {
    "duration": 42,
    "start_time": "2022-11-08T20:38:46.009Z"
   },
   {
    "duration": 10,
    "start_time": "2022-11-08T20:38:46.053Z"
   },
   {
    "duration": 610,
    "start_time": "2022-11-08T20:38:46.065Z"
   },
   {
    "duration": 2,
    "start_time": "2022-11-08T20:38:46.677Z"
   },
   {
    "duration": 20,
    "start_time": "2022-11-08T20:38:46.681Z"
   },
   {
    "duration": 14,
    "start_time": "2022-11-08T20:45:37.654Z"
   },
   {
    "duration": 8,
    "start_time": "2022-11-08T20:45:59.078Z"
   },
   {
    "duration": 9,
    "start_time": "2022-11-08T20:46:06.317Z"
   },
   {
    "duration": 10,
    "start_time": "2022-11-08T20:46:11.602Z"
   },
   {
    "duration": 11,
    "start_time": "2022-11-08T20:46:19.232Z"
   },
   {
    "duration": 12,
    "start_time": "2022-11-08T20:46:26.735Z"
   },
   {
    "duration": 31,
    "start_time": "2022-11-08T20:46:47.274Z"
   },
   {
    "duration": 30,
    "start_time": "2022-11-08T20:47:06.581Z"
   },
   {
    "duration": 436,
    "start_time": "2022-11-08T20:49:44.826Z"
   },
   {
    "duration": 416,
    "start_time": "2022-11-08T20:50:16.358Z"
   },
   {
    "duration": 511,
    "start_time": "2022-11-13T12:13:58.606Z"
   },
   {
    "duration": 12,
    "start_time": "2022-11-13T12:13:59.119Z"
   },
   {
    "duration": 13,
    "start_time": "2022-11-13T12:13:59.133Z"
   },
   {
    "duration": 718,
    "start_time": "2022-11-13T12:13:59.148Z"
   },
   {
    "duration": 5,
    "start_time": "2022-11-13T12:13:59.869Z"
   },
   {
    "duration": 13,
    "start_time": "2022-11-13T12:13:59.876Z"
   },
   {
    "duration": 55,
    "start_time": "2022-11-13T12:13:59.891Z"
   },
   {
    "duration": 13,
    "start_time": "2022-11-13T12:13:59.948Z"
   },
   {
    "duration": 32,
    "start_time": "2022-11-13T12:13:59.962Z"
   },
   {
    "duration": 31,
    "start_time": "2022-11-13T12:13:59.996Z"
   },
   {
    "duration": 667,
    "start_time": "2022-11-13T12:14:00.029Z"
   },
   {
    "duration": 3,
    "start_time": "2022-11-13T12:14:00.698Z"
   },
   {
    "duration": 32,
    "start_time": "2022-11-13T12:14:00.702Z"
   },
   {
    "duration": 517,
    "start_time": "2022-11-13T12:25:03.973Z"
   },
   {
    "duration": 33,
    "start_time": "2022-11-13T12:32:50.220Z"
   },
   {
    "duration": 11,
    "start_time": "2022-11-13T12:32:50.256Z"
   },
   {
    "duration": 7,
    "start_time": "2022-11-13T12:32:50.269Z"
   },
   {
    "duration": 9,
    "start_time": "2022-11-13T12:32:50.278Z"
   },
   {
    "duration": 5,
    "start_time": "2022-11-13T12:32:50.288Z"
   },
   {
    "duration": 30,
    "start_time": "2022-11-13T12:32:50.295Z"
   },
   {
    "duration": 8,
    "start_time": "2022-11-13T12:32:50.327Z"
   },
   {
    "duration": 20,
    "start_time": "2022-11-13T12:32:50.337Z"
   },
   {
    "duration": 36,
    "start_time": "2022-11-13T12:32:50.359Z"
   },
   {
    "duration": 3,
    "start_time": "2022-11-13T12:32:50.398Z"
   },
   {
    "duration": 673,
    "start_time": "2022-11-13T12:32:50.403Z"
   },
   {
    "duration": 2,
    "start_time": "2022-11-13T12:32:51.078Z"
   },
   {
    "duration": 23,
    "start_time": "2022-11-13T12:32:51.081Z"
   },
   {
    "duration": 30,
    "start_time": "2022-11-13T12:32:51.106Z"
   },
   {
    "duration": 435,
    "start_time": "2022-11-13T12:32:51.138Z"
   },
   {
    "duration": 77,
    "start_time": "2022-11-13T12:37:22.641Z"
   },
   {
    "duration": 14,
    "start_time": "2022-11-13T12:37:30.699Z"
   },
   {
    "duration": 40,
    "start_time": "2022-11-13T12:41:19.562Z"
   },
   {
    "duration": 44,
    "start_time": "2022-11-13T12:41:26.961Z"
   },
   {
    "duration": 55,
    "start_time": "2022-11-13T12:41:42.565Z"
   },
   {
    "duration": 61,
    "start_time": "2022-11-13T12:41:56.199Z"
   },
   {
    "duration": 13,
    "start_time": "2022-11-13T12:42:28.797Z"
   },
   {
    "duration": 32,
    "start_time": "2022-11-13T12:42:40.880Z"
   },
   {
    "duration": 26,
    "start_time": "2022-11-13T12:42:40.913Z"
   },
   {
    "duration": 11,
    "start_time": "2022-11-13T12:42:40.941Z"
   },
   {
    "duration": 10,
    "start_time": "2022-11-13T12:42:40.954Z"
   },
   {
    "duration": 4,
    "start_time": "2022-11-13T12:42:40.966Z"
   },
   {
    "duration": 16,
    "start_time": "2022-11-13T12:42:40.972Z"
   },
   {
    "duration": 4,
    "start_time": "2022-11-13T12:42:40.989Z"
   },
   {
    "duration": 15,
    "start_time": "2022-11-13T12:42:40.995Z"
   },
   {
    "duration": 65,
    "start_time": "2022-11-13T12:42:41.012Z"
   },
   {
    "duration": 12,
    "start_time": "2022-11-13T12:42:41.079Z"
   },
   {
    "duration": 33,
    "start_time": "2022-11-13T12:42:41.093Z"
   },
   {
    "duration": 3,
    "start_time": "2022-11-13T12:42:41.128Z"
   },
   {
    "duration": 683,
    "start_time": "2022-11-13T12:42:41.133Z"
   },
   {
    "duration": 3,
    "start_time": "2022-11-13T12:42:41.822Z"
   },
   {
    "duration": 30,
    "start_time": "2022-11-13T12:42:41.826Z"
   },
   {
    "duration": 443,
    "start_time": "2022-11-13T12:42:41.859Z"
   },
   {
    "duration": 13,
    "start_time": "2022-11-13T12:45:07.064Z"
   },
   {
    "duration": 15,
    "start_time": "2022-11-13T12:49:44.384Z"
   },
   {
    "duration": 15,
    "start_time": "2022-11-13T12:49:48.196Z"
   },
   {
    "duration": 14,
    "start_time": "2022-11-13T12:49:53.212Z"
   },
   {
    "duration": 16,
    "start_time": "2022-11-13T12:49:58.023Z"
   },
   {
    "duration": 694,
    "start_time": "2022-11-13T12:53:14.186Z"
   },
   {
    "duration": 996,
    "start_time": "2022-11-13T12:53:29.677Z"
   },
   {
    "duration": 1366,
    "start_time": "2022-11-13T12:53:35.281Z"
   },
   {
    "duration": 683,
    "start_time": "2022-11-13T12:53:42.913Z"
   },
   {
    "duration": 71,
    "start_time": "2022-11-13T12:57:00.875Z"
   },
   {
    "duration": 26,
    "start_time": "2022-11-13T13:02:59.989Z"
   },
   {
    "duration": 31,
    "start_time": "2022-11-13T13:03:18.312Z"
   },
   {
    "duration": 11,
    "start_time": "2022-11-13T13:03:18.345Z"
   },
   {
    "duration": 9,
    "start_time": "2022-11-13T13:03:18.358Z"
   },
   {
    "duration": 12,
    "start_time": "2022-11-13T13:03:18.368Z"
   },
   {
    "duration": 5,
    "start_time": "2022-11-13T13:03:18.383Z"
   },
   {
    "duration": 14,
    "start_time": "2022-11-13T13:03:18.389Z"
   },
   {
    "duration": 18,
    "start_time": "2022-11-13T13:03:18.405Z"
   },
   {
    "duration": 16,
    "start_time": "2022-11-13T13:03:18.425Z"
   },
   {
    "duration": 62,
    "start_time": "2022-11-13T13:03:18.443Z"
   },
   {
    "duration": 14,
    "start_time": "2022-11-13T13:03:18.522Z"
   },
   {
    "duration": 23,
    "start_time": "2022-11-13T13:03:18.538Z"
   },
   {
    "duration": 2,
    "start_time": "2022-11-13T13:03:18.563Z"
   },
   {
    "duration": 664,
    "start_time": "2022-11-13T13:03:18.567Z"
   },
   {
    "duration": 88,
    "start_time": "2022-11-13T13:03:19.234Z"
   },
   {
    "duration": 3,
    "start_time": "2022-11-13T13:03:19.324Z"
   },
   {
    "duration": 25,
    "start_time": "2022-11-13T13:03:19.328Z"
   },
   {
    "duration": 25,
    "start_time": "2022-11-13T13:03:19.355Z"
   },
   {
    "duration": 435,
    "start_time": "2022-11-13T13:03:19.381Z"
   },
   {
    "duration": 114,
    "start_time": "2022-11-13T13:05:15.422Z"
   },
   {
    "duration": 115,
    "start_time": "2022-11-13T13:05:30.148Z"
   },
   {
    "duration": 133,
    "start_time": "2022-11-13T13:05:45.736Z"
   },
   {
    "duration": 21,
    "start_time": "2022-11-13T13:06:17.308Z"
   },
   {
    "duration": 22,
    "start_time": "2022-11-13T13:09:21.273Z"
   },
   {
    "duration": 123,
    "start_time": "2022-11-13T13:09:35.812Z"
   },
   {
    "duration": 112,
    "start_time": "2022-11-13T13:09:43.377Z"
   },
   {
    "duration": 115,
    "start_time": "2022-11-13T13:09:54.864Z"
   },
   {
    "duration": 58,
    "start_time": "2022-11-13T13:56:25.545Z"
   },
   {
    "duration": 61,
    "start_time": "2022-11-13T13:56:54.970Z"
   },
   {
    "duration": 13,
    "start_time": "2022-11-13T13:57:59.650Z"
   },
   {
    "duration": 10,
    "start_time": "2022-11-13T13:58:20.242Z"
   },
   {
    "duration": 181,
    "start_time": "2022-11-13T13:58:23.965Z"
   },
   {
    "duration": 181,
    "start_time": "2022-11-13T13:58:35.958Z"
   },
   {
    "duration": 120,
    "start_time": "2022-11-13T14:00:02.523Z"
   },
   {
    "duration": 117,
    "start_time": "2022-11-13T14:00:06.765Z"
   },
   {
    "duration": 120,
    "start_time": "2022-11-13T14:00:10.093Z"
   },
   {
    "duration": 31,
    "start_time": "2022-11-13T14:00:36.606Z"
   },
   {
    "duration": 11,
    "start_time": "2022-11-13T14:00:36.639Z"
   },
   {
    "duration": 11,
    "start_time": "2022-11-13T14:00:36.651Z"
   },
   {
    "duration": 8,
    "start_time": "2022-11-13T14:00:36.664Z"
   },
   {
    "duration": 7,
    "start_time": "2022-11-13T14:00:36.674Z"
   },
   {
    "duration": 10,
    "start_time": "2022-11-13T14:00:36.683Z"
   },
   {
    "duration": 27,
    "start_time": "2022-11-13T14:00:36.695Z"
   },
   {
    "duration": 16,
    "start_time": "2022-11-13T14:00:36.724Z"
   },
   {
    "duration": 81,
    "start_time": "2022-11-13T14:00:36.742Z"
   },
   {
    "duration": 16,
    "start_time": "2022-11-13T14:00:36.826Z"
   },
   {
    "duration": 17,
    "start_time": "2022-11-13T14:00:36.845Z"
   },
   {
    "duration": 3,
    "start_time": "2022-11-13T14:00:36.864Z"
   },
   {
    "duration": 660,
    "start_time": "2022-11-13T14:00:36.869Z"
   },
   {
    "duration": 70,
    "start_time": "2022-11-13T14:00:37.531Z"
   },
   {
    "duration": 21,
    "start_time": "2022-11-13T14:00:37.603Z"
   },
   {
    "duration": 35,
    "start_time": "2022-11-13T14:00:37.625Z"
   },
   {
    "duration": 22,
    "start_time": "2022-11-13T14:00:37.662Z"
   },
   {
    "duration": 130,
    "start_time": "2022-11-13T14:00:37.685Z"
   },
   {
    "duration": 132,
    "start_time": "2022-11-13T14:00:37.817Z"
   },
   {
    "duration": 60,
    "start_time": "2022-11-13T14:00:37.950Z"
   },
   {
    "duration": 365,
    "start_time": "2022-11-13T14:01:23.268Z"
   },
   {
    "duration": 55,
    "start_time": "2022-11-13T14:01:33.342Z"
   },
   {
    "duration": 622,
    "start_time": "2022-11-13T14:01:41.875Z"
   },
   {
    "duration": 87,
    "start_time": "2022-11-13T14:02:20.001Z"
   },
   {
    "duration": 19,
    "start_time": "2022-11-13T14:38:10.899Z"
   },
   {
    "duration": 609,
    "start_time": "2022-11-13T14:40:35.195Z"
   },
   {
    "duration": 718,
    "start_time": "2022-11-13T14:40:43.706Z"
   },
   {
    "duration": 89,
    "start_time": "2022-11-13T14:44:15.820Z"
   },
   {
    "duration": 41,
    "start_time": "2022-11-13T14:47:54.001Z"
   },
   {
    "duration": 33,
    "start_time": "2022-11-13T14:53:12.603Z"
   },
   {
    "duration": 12,
    "start_time": "2022-11-13T14:53:12.638Z"
   },
   {
    "duration": 19,
    "start_time": "2022-11-13T14:53:12.652Z"
   },
   {
    "duration": 18,
    "start_time": "2022-11-13T14:53:12.673Z"
   },
   {
    "duration": 19,
    "start_time": "2022-11-13T14:53:12.693Z"
   },
   {
    "duration": 21,
    "start_time": "2022-11-13T14:53:12.714Z"
   },
   {
    "duration": 26,
    "start_time": "2022-11-13T14:53:12.736Z"
   },
   {
    "duration": 29,
    "start_time": "2022-11-13T14:53:12.764Z"
   },
   {
    "duration": 68,
    "start_time": "2022-11-13T14:53:12.795Z"
   },
   {
    "duration": 12,
    "start_time": "2022-11-13T14:53:12.865Z"
   },
   {
    "duration": 28,
    "start_time": "2022-11-13T14:53:12.878Z"
   },
   {
    "duration": 15,
    "start_time": "2022-11-13T14:53:12.909Z"
   },
   {
    "duration": 631,
    "start_time": "2022-11-13T14:53:12.926Z"
   },
   {
    "duration": 76,
    "start_time": "2022-11-13T14:53:13.560Z"
   },
   {
    "duration": 2,
    "start_time": "2022-11-13T14:53:13.638Z"
   },
   {
    "duration": 38,
    "start_time": "2022-11-13T14:53:13.642Z"
   },
   {
    "duration": 40,
    "start_time": "2022-11-13T14:53:13.682Z"
   },
   {
    "duration": 149,
    "start_time": "2022-11-13T14:53:13.724Z"
   },
   {
    "duration": 126,
    "start_time": "2022-11-13T14:53:13.875Z"
   },
   {
    "duration": 46,
    "start_time": "2022-11-13T14:53:14.003Z"
   },
   {
    "duration": 9,
    "start_time": "2022-11-13T14:57:30.396Z"
   },
   {
    "duration": 103,
    "start_time": "2022-11-13T15:05:20.679Z"
   },
   {
    "duration": 23,
    "start_time": "2022-11-13T15:06:02.843Z"
   },
   {
    "duration": 31,
    "start_time": "2022-11-13T15:06:10.459Z"
   },
   {
    "duration": 11,
    "start_time": "2022-11-13T15:06:10.492Z"
   },
   {
    "duration": 9,
    "start_time": "2022-11-13T15:06:10.505Z"
   },
   {
    "duration": 12,
    "start_time": "2022-11-13T15:06:10.516Z"
   },
   {
    "duration": 6,
    "start_time": "2022-11-13T15:06:10.530Z"
   },
   {
    "duration": 13,
    "start_time": "2022-11-13T15:06:10.538Z"
   },
   {
    "duration": 5,
    "start_time": "2022-11-13T15:06:10.553Z"
   },
   {
    "duration": 16,
    "start_time": "2022-11-13T15:06:10.560Z"
   },
   {
    "duration": 73,
    "start_time": "2022-11-13T15:06:10.578Z"
   },
   {
    "duration": 11,
    "start_time": "2022-11-13T15:06:10.654Z"
   },
   {
    "duration": 13,
    "start_time": "2022-11-13T15:06:10.667Z"
   },
   {
    "duration": 2,
    "start_time": "2022-11-13T15:06:10.682Z"
   },
   {
    "duration": 667,
    "start_time": "2022-11-13T15:06:10.686Z"
   },
   {
    "duration": 70,
    "start_time": "2022-11-13T15:06:11.355Z"
   },
   {
    "duration": 2,
    "start_time": "2022-11-13T15:06:11.427Z"
   },
   {
    "duration": 36,
    "start_time": "2022-11-13T15:06:11.431Z"
   },
   {
    "duration": 22,
    "start_time": "2022-11-13T15:06:11.469Z"
   },
   {
    "duration": 124,
    "start_time": "2022-11-13T15:06:11.493Z"
   },
   {
    "duration": 135,
    "start_time": "2022-11-13T15:06:11.622Z"
   },
   {
    "duration": 36,
    "start_time": "2022-11-13T15:06:11.759Z"
   },
   {
    "duration": 8,
    "start_time": "2022-11-13T15:06:11.797Z"
   },
   {
    "duration": 118,
    "start_time": "2022-11-13T15:06:11.807Z"
   },
   {
    "duration": 24,
    "start_time": "2022-11-13T15:06:11.927Z"
   },
   {
    "duration": 111,
    "start_time": "2022-11-13T15:07:12.228Z"
   },
   {
    "duration": 118,
    "start_time": "2022-11-13T15:07:26.977Z"
   },
   {
    "duration": 57,
    "start_time": "2022-11-13T15:08:09.610Z"
   },
   {
    "duration": 9,
    "start_time": "2022-11-13T15:08:10.672Z"
   },
   {
    "duration": 108,
    "start_time": "2022-11-13T15:08:11.472Z"
   },
   {
    "duration": 21,
    "start_time": "2022-11-13T15:08:35.148Z"
   },
   {
    "duration": 11,
    "start_time": "2022-11-13T15:10:24.444Z"
   },
   {
    "duration": 32,
    "start_time": "2022-11-13T15:17:29.613Z"
   },
   {
    "duration": 11,
    "start_time": "2022-11-13T15:17:29.646Z"
   },
   {
    "duration": 10,
    "start_time": "2022-11-13T15:17:29.659Z"
   },
   {
    "duration": 12,
    "start_time": "2022-11-13T15:17:29.671Z"
   },
   {
    "duration": 5,
    "start_time": "2022-11-13T15:17:29.684Z"
   },
   {
    "duration": 8,
    "start_time": "2022-11-13T15:17:29.691Z"
   },
   {
    "duration": 2,
    "start_time": "2022-11-13T15:17:29.723Z"
   },
   {
    "duration": 20,
    "start_time": "2022-11-13T15:17:29.727Z"
   },
   {
    "duration": 73,
    "start_time": "2022-11-13T15:17:29.748Z"
   },
   {
    "duration": 14,
    "start_time": "2022-11-13T15:17:29.823Z"
   },
   {
    "duration": 16,
    "start_time": "2022-11-13T15:17:29.840Z"
   },
   {
    "duration": 3,
    "start_time": "2022-11-13T15:17:29.858Z"
   },
   {
    "duration": 647,
    "start_time": "2022-11-13T15:17:29.863Z"
   },
   {
    "duration": 76,
    "start_time": "2022-11-13T15:17:30.512Z"
   },
   {
    "duration": 2,
    "start_time": "2022-11-13T15:17:30.590Z"
   },
   {
    "duration": 46,
    "start_time": "2022-11-13T15:17:30.594Z"
   },
   {
    "duration": 23,
    "start_time": "2022-11-13T15:17:30.642Z"
   },
   {
    "duration": 140,
    "start_time": "2022-11-13T15:17:30.667Z"
   },
   {
    "duration": 132,
    "start_time": "2022-11-13T15:17:30.809Z"
   },
   {
    "duration": 59,
    "start_time": "2022-11-13T15:17:30.943Z"
   },
   {
    "duration": 25,
    "start_time": "2022-11-13T15:17:31.004Z"
   },
   {
    "duration": 120,
    "start_time": "2022-11-13T15:17:31.031Z"
   },
   {
    "duration": 419,
    "start_time": "2022-11-13T15:42:46.945Z"
   },
   {
    "duration": 11,
    "start_time": "2022-11-13T15:42:47.366Z"
   },
   {
    "duration": 11,
    "start_time": "2022-11-13T15:42:47.378Z"
   },
   {
    "duration": 1537,
    "start_time": "2022-11-13T15:42:47.391Z"
   },
   {
    "duration": 4,
    "start_time": "2022-11-13T15:42:48.931Z"
   },
   {
    "duration": 9,
    "start_time": "2022-11-13T15:42:48.936Z"
   },
   {
    "duration": 86,
    "start_time": "2022-11-13T15:42:48.946Z"
   },
   {
    "duration": 13,
    "start_time": "2022-11-13T15:42:49.034Z"
   },
   {
    "duration": 87,
    "start_time": "2022-11-13T15:42:49.048Z"
   },
   {
    "duration": 18,
    "start_time": "2022-11-13T15:42:49.137Z"
   },
   {
    "duration": 70,
    "start_time": "2022-11-13T15:42:49.157Z"
   },
   {
    "duration": 14,
    "start_time": "2022-11-13T15:42:49.229Z"
   },
   {
    "duration": 750,
    "start_time": "2022-11-13T15:42:49.244Z"
   },
   {
    "duration": 81,
    "start_time": "2022-11-13T15:42:49.998Z"
   },
   {
    "duration": 3,
    "start_time": "2022-11-13T15:42:50.081Z"
   },
   {
    "duration": 35,
    "start_time": "2022-11-13T15:42:50.086Z"
   },
   {
    "duration": 25,
    "start_time": "2022-11-13T15:42:50.123Z"
   },
   {
    "duration": 131,
    "start_time": "2022-11-13T15:42:50.149Z"
   },
   {
    "duration": 125,
    "start_time": "2022-11-13T15:42:50.281Z"
   },
   {
    "duration": 66,
    "start_time": "2022-11-13T15:42:50.408Z"
   },
   {
    "duration": 11,
    "start_time": "2022-11-13T15:42:50.476Z"
   },
   {
    "duration": 130,
    "start_time": "2022-11-13T15:42:50.488Z"
   },
   {
    "duration": 448,
    "start_time": "2022-11-14T10:12:16.194Z"
   },
   {
    "duration": 11,
    "start_time": "2022-11-14T10:12:16.643Z"
   },
   {
    "duration": 18,
    "start_time": "2022-11-14T10:12:16.655Z"
   },
   {
    "duration": 643,
    "start_time": "2022-11-14T10:12:16.674Z"
   },
   {
    "duration": 4,
    "start_time": "2022-11-14T10:12:17.319Z"
   },
   {
    "duration": 22,
    "start_time": "2022-11-14T10:12:17.324Z"
   },
   {
    "duration": 48,
    "start_time": "2022-11-14T10:12:17.347Z"
   },
   {
    "duration": 12,
    "start_time": "2022-11-14T10:12:17.396Z"
   },
   {
    "duration": 71,
    "start_time": "2022-11-14T10:12:17.409Z"
   },
   {
    "duration": 11,
    "start_time": "2022-11-14T10:12:17.482Z"
   },
   {
    "duration": 15,
    "start_time": "2022-11-14T10:12:17.494Z"
   },
   {
    "duration": 16,
    "start_time": "2022-11-14T10:12:17.510Z"
   },
   {
    "duration": 588,
    "start_time": "2022-11-14T10:12:17.527Z"
   },
   {
    "duration": 70,
    "start_time": "2022-11-14T10:12:18.117Z"
   },
   {
    "duration": 2,
    "start_time": "2022-11-14T10:12:18.188Z"
   },
   {
    "duration": 35,
    "start_time": "2022-11-14T10:12:18.192Z"
   },
   {
    "duration": 19,
    "start_time": "2022-11-14T10:12:18.229Z"
   },
   {
    "duration": 113,
    "start_time": "2022-11-14T10:12:18.249Z"
   },
   {
    "duration": 122,
    "start_time": "2022-11-14T10:12:18.363Z"
   },
   {
    "duration": 53,
    "start_time": "2022-11-14T10:12:18.487Z"
   },
   {
    "duration": 10,
    "start_time": "2022-11-14T10:12:18.541Z"
   },
   {
    "duration": 128,
    "start_time": "2022-11-14T10:12:18.553Z"
   },
   {
    "duration": 510,
    "start_time": "2022-11-14T10:14:39.301Z"
   },
   {
    "duration": 34,
    "start_time": "2022-11-14T10:14:41.063Z"
   },
   {
    "duration": 509,
    "start_time": "2022-11-14T10:15:28.859Z"
   },
   {
    "duration": 3,
    "start_time": "2022-11-14T10:15:57.933Z"
   },
   {
    "duration": 31,
    "start_time": "2022-11-14T10:15:58.898Z"
   },
   {
    "duration": 340,
    "start_time": "2022-11-14T10:16:01.513Z"
   },
   {
    "duration": 3,
    "start_time": "2022-11-14T10:29:25.426Z"
   },
   {
    "duration": 1578,
    "start_time": "2022-11-14T16:10:12.262Z"
   },
   {
    "duration": 90,
    "start_time": "2022-11-14T16:10:13.842Z"
   },
   {
    "duration": 468,
    "start_time": "2022-11-14T16:10:13.934Z"
   },
   {
    "duration": 13,
    "start_time": "2022-11-14T16:10:14.404Z"
   },
   {
    "duration": 12,
    "start_time": "2022-11-14T16:10:14.419Z"
   },
   {
    "duration": 302,
    "start_time": "2022-11-14T16:10:14.433Z"
   },
   {
    "duration": 5,
    "start_time": "2022-11-14T16:10:14.737Z"
   },
   {
    "duration": 18,
    "start_time": "2022-11-14T16:10:14.744Z"
   },
   {
    "duration": 53,
    "start_time": "2022-11-14T16:10:14.764Z"
   },
   {
    "duration": 15,
    "start_time": "2022-11-14T16:10:14.820Z"
   },
   {
    "duration": 85,
    "start_time": "2022-11-14T16:10:14.837Z"
   },
   {
    "duration": 29,
    "start_time": "2022-11-14T16:10:14.924Z"
   },
   {
    "duration": 22,
    "start_time": "2022-11-14T16:10:14.956Z"
   },
   {
    "duration": 21,
    "start_time": "2022-11-14T16:10:14.981Z"
   },
   {
    "duration": 806,
    "start_time": "2022-11-14T16:10:15.003Z"
   },
   {
    "duration": 89,
    "start_time": "2022-11-14T16:10:15.811Z"
   },
   {
    "duration": 3,
    "start_time": "2022-11-14T16:10:15.901Z"
   },
   {
    "duration": 26,
    "start_time": "2022-11-14T16:10:15.906Z"
   },
   {
    "duration": 50,
    "start_time": "2022-11-14T16:10:15.934Z"
   },
   {
    "duration": 151,
    "start_time": "2022-11-14T16:10:15.986Z"
   },
   {
    "duration": 161,
    "start_time": "2022-11-14T16:10:16.139Z"
   },
   {
    "duration": 91,
    "start_time": "2022-11-14T16:10:16.303Z"
   },
   {
    "duration": 11,
    "start_time": "2022-11-14T16:10:16.397Z"
   },
   {
    "duration": 160,
    "start_time": "2022-11-14T16:10:16.410Z"
   },
   {
    "duration": 4,
    "start_time": "2022-11-14T16:49:50.692Z"
   },
   {
    "duration": 2,
    "start_time": "2022-11-14T16:50:09.492Z"
   },
   {
    "duration": 82,
    "start_time": "2022-11-14T17:38:08.131Z"
   },
   {
    "duration": 73,
    "start_time": "2022-11-14T17:39:22.901Z"
   },
   {
    "duration": 64,
    "start_time": "2022-11-14T17:52:43.219Z"
   },
   {
    "duration": 128,
    "start_time": "2022-11-14T17:57:54.196Z"
   },
   {
    "duration": 231,
    "start_time": "2022-11-14T17:58:06.120Z"
   },
   {
    "duration": 208,
    "start_time": "2022-11-14T17:58:14.753Z"
   },
   {
    "duration": 602,
    "start_time": "2022-11-14T17:58:59.241Z"
   },
   {
    "duration": 457,
    "start_time": "2022-11-14T17:59:18.068Z"
   },
   {
    "duration": 487,
    "start_time": "2022-11-14T18:00:02.789Z"
   },
   {
    "duration": 79,
    "start_time": "2022-11-14T18:01:54.973Z"
   },
   {
    "duration": 206,
    "start_time": "2022-11-14T18:02:31.570Z"
   },
   {
    "duration": 454,
    "start_time": "2022-11-14T18:09:53.983Z"
   },
   {
    "duration": 476,
    "start_time": "2022-11-14T18:10:29.918Z"
   },
   {
    "duration": 500,
    "start_time": "2022-11-14T18:10:40.721Z"
   },
   {
    "duration": 21,
    "start_time": "2022-11-14T18:21:36.329Z"
   },
   {
    "duration": 19,
    "start_time": "2022-11-14T18:22:56.561Z"
   },
   {
    "duration": 17,
    "start_time": "2022-11-14T18:23:15.673Z"
   },
   {
    "duration": 506,
    "start_time": "2022-11-14T18:23:28.546Z"
   },
   {
    "duration": 502,
    "start_time": "2022-11-14T18:23:46.943Z"
   },
   {
    "duration": 676,
    "start_time": "2022-11-14T18:28:28.645Z"
   },
   {
    "duration": 591,
    "start_time": "2022-11-14T18:41:10.552Z"
   },
   {
    "duration": 580,
    "start_time": "2022-11-14T18:42:12.746Z"
   },
   {
    "duration": 21,
    "start_time": "2022-11-14T18:42:36.885Z"
   },
   {
    "duration": 558,
    "start_time": "2022-11-14T18:42:42.496Z"
   },
   {
    "duration": 5,
    "start_time": "2022-11-14T18:44:59.026Z"
   },
   {
    "duration": 501,
    "start_time": "2022-11-14T18:45:02.061Z"
   },
   {
    "duration": 605,
    "start_time": "2022-11-14T18:45:09.350Z"
   },
   {
    "duration": 588,
    "start_time": "2022-11-14T18:45:13.121Z"
   },
   {
    "duration": 615,
    "start_time": "2022-11-14T18:45:32.745Z"
   },
   {
    "duration": 1010,
    "start_time": "2022-11-14T19:16:09.514Z"
   },
   {
    "duration": 5,
    "start_time": "2022-11-14T19:16:17.074Z"
   },
   {
    "duration": 35,
    "start_time": "2022-11-14T19:16:17.081Z"
   },
   {
    "duration": 425,
    "start_time": "2022-11-14T19:16:17.118Z"
   },
   {
    "duration": 22,
    "start_time": "2022-11-14T19:16:17.545Z"
   },
   {
    "duration": 21,
    "start_time": "2022-11-14T19:16:17.570Z"
   },
   {
    "duration": 13,
    "start_time": "2022-11-14T19:16:17.593Z"
   },
   {
    "duration": 7,
    "start_time": "2022-11-14T19:16:17.608Z"
   },
   {
    "duration": 18,
    "start_time": "2022-11-14T19:16:17.617Z"
   },
   {
    "duration": 20,
    "start_time": "2022-11-14T19:16:17.655Z"
   },
   {
    "duration": 102,
    "start_time": "2022-11-14T19:16:17.677Z"
   },
   {
    "duration": 481,
    "start_time": "2022-11-14T19:16:17.781Z"
   },
   {
    "duration": 75,
    "start_time": "2022-11-14T19:16:18.264Z"
   },
   {
    "duration": 632,
    "start_time": "2022-11-14T19:16:18.352Z"
   },
   {
    "duration": 1037,
    "start_time": "2022-11-14T19:16:18.988Z"
   },
   {
    "duration": 830,
    "start_time": "2022-11-14T19:16:20.027Z"
   },
   {
    "duration": 28,
    "start_time": "2022-11-14T19:16:20.859Z"
   },
   {
    "duration": 31,
    "start_time": "2022-11-14T19:16:20.889Z"
   },
   {
    "duration": 184,
    "start_time": "2022-11-14T19:16:20.922Z"
   },
   {
    "duration": 178,
    "start_time": "2022-11-14T19:16:21.107Z"
   },
   {
    "duration": 14,
    "start_time": "2022-11-14T19:16:21.287Z"
   },
   {
    "duration": 17,
    "start_time": "2022-11-14T19:16:21.303Z"
   },
   {
    "duration": 128,
    "start_time": "2022-11-14T19:16:21.322Z"
   },
   {
    "duration": 70,
    "start_time": "2022-11-14T19:16:21.453Z"
   },
   {
    "duration": 31,
    "start_time": "2022-11-14T19:16:21.526Z"
   },
   {
    "duration": 147,
    "start_time": "2022-11-14T19:16:21.560Z"
   },
   {
    "duration": 902,
    "start_time": "2022-11-14T19:26:34.009Z"
   },
   {
    "duration": 4,
    "start_time": "2022-11-14T19:27:45.110Z"
   },
   {
    "duration": 31,
    "start_time": "2022-11-14T19:27:45.125Z"
   },
   {
    "duration": 379,
    "start_time": "2022-11-14T19:27:45.159Z"
   },
   {
    "duration": 20,
    "start_time": "2022-11-14T19:27:45.540Z"
   },
   {
    "duration": 7,
    "start_time": "2022-11-14T19:27:45.562Z"
   },
   {
    "duration": 13,
    "start_time": "2022-11-14T19:27:45.572Z"
   },
   {
    "duration": 5,
    "start_time": "2022-11-14T19:27:45.587Z"
   },
   {
    "duration": 10,
    "start_time": "2022-11-14T19:27:45.594Z"
   },
   {
    "duration": 54,
    "start_time": "2022-11-14T19:27:45.606Z"
   },
   {
    "duration": 67,
    "start_time": "2022-11-14T19:27:45.662Z"
   },
   {
    "duration": 558,
    "start_time": "2022-11-14T19:27:45.732Z"
   },
   {
    "duration": 80,
    "start_time": "2022-11-14T19:27:46.292Z"
   },
   {
    "duration": 565,
    "start_time": "2022-11-14T19:27:46.374Z"
   },
   {
    "duration": 802,
    "start_time": "2022-11-14T19:27:46.941Z"
   },
   {
    "duration": 22,
    "start_time": "2022-11-14T19:27:47.750Z"
   },
   {
    "duration": 25,
    "start_time": "2022-11-14T19:27:47.773Z"
   },
   {
    "duration": 144,
    "start_time": "2022-11-14T19:27:47.799Z"
   },
   {
    "duration": 142,
    "start_time": "2022-11-14T19:27:47.945Z"
   },
   {
    "duration": 13,
    "start_time": "2022-11-14T19:27:48.088Z"
   },
   {
    "duration": 15,
    "start_time": "2022-11-14T19:27:48.102Z"
   },
   {
    "duration": 87,
    "start_time": "2022-11-14T19:27:48.118Z"
   },
   {
    "duration": 74,
    "start_time": "2022-11-14T19:27:48.207Z"
   },
   {
    "duration": 14,
    "start_time": "2022-11-14T19:27:48.283Z"
   },
   {
    "duration": 256,
    "start_time": "2022-11-14T19:27:48.299Z"
   },
   {
    "duration": 112,
    "start_time": "2022-11-14T19:33:26.347Z"
   },
   {
    "duration": 86,
    "start_time": "2022-11-14T19:33:35.202Z"
   },
   {
    "duration": 77,
    "start_time": "2022-11-14T19:33:42.968Z"
   },
   {
    "duration": 1429,
    "start_time": "2022-11-15T18:16:36.295Z"
   },
   {
    "duration": 83,
    "start_time": "2022-11-15T18:16:37.726Z"
   },
   {
    "duration": 358,
    "start_time": "2022-11-15T18:16:37.811Z"
   },
   {
    "duration": 13,
    "start_time": "2022-11-15T18:16:38.171Z"
   },
   {
    "duration": 5,
    "start_time": "2022-11-15T18:16:38.185Z"
   },
   {
    "duration": 9,
    "start_time": "2022-11-15T18:16:38.192Z"
   },
   {
    "duration": 4,
    "start_time": "2022-11-15T18:16:38.202Z"
   },
   {
    "duration": 8,
    "start_time": "2022-11-15T18:16:38.207Z"
   },
   {
    "duration": 16,
    "start_time": "2022-11-15T18:16:38.216Z"
   },
   {
    "duration": 81,
    "start_time": "2022-11-15T18:16:38.234Z"
   },
   {
    "duration": 350,
    "start_time": "2022-11-15T18:16:38.316Z"
   },
   {
    "duration": 57,
    "start_time": "2022-11-15T18:16:38.668Z"
   },
   {
    "duration": 493,
    "start_time": "2022-11-15T18:16:38.727Z"
   },
   {
    "duration": 712,
    "start_time": "2022-11-15T18:16:39.222Z"
   },
   {
    "duration": 17,
    "start_time": "2022-11-15T18:16:39.936Z"
   },
   {
    "duration": 136,
    "start_time": "2022-11-15T18:16:39.955Z"
   },
   {
    "duration": 11,
    "start_time": "2022-11-15T18:16:40.092Z"
   },
   {
    "duration": 12,
    "start_time": "2022-11-15T18:16:40.104Z"
   },
   {
    "duration": 82,
    "start_time": "2022-11-15T18:16:40.117Z"
   },
   {
    "duration": 56,
    "start_time": "2022-11-15T18:16:40.201Z"
   },
   {
    "duration": 21,
    "start_time": "2022-11-15T18:16:40.258Z"
   },
   {
    "duration": 125,
    "start_time": "2022-11-15T18:16:40.280Z"
   },
   {
    "duration": 3,
    "start_time": "2022-11-15T18:19:29.242Z"
   },
   {
    "duration": 37,
    "start_time": "2022-11-15T18:19:29.248Z"
   },
   {
    "duration": 332,
    "start_time": "2022-11-15T18:19:29.286Z"
   },
   {
    "duration": 9,
    "start_time": "2022-11-15T18:19:29.620Z"
   },
   {
    "duration": 4,
    "start_time": "2022-11-15T18:19:29.631Z"
   },
   {
    "duration": 10,
    "start_time": "2022-11-15T18:19:29.636Z"
   },
   {
    "duration": 4,
    "start_time": "2022-11-15T18:19:29.647Z"
   },
   {
    "duration": 27,
    "start_time": "2022-11-15T18:19:29.652Z"
   },
   {
    "duration": 12,
    "start_time": "2022-11-15T18:19:29.680Z"
   },
   {
    "duration": 53,
    "start_time": "2022-11-15T18:19:29.693Z"
   },
   {
    "duration": 360,
    "start_time": "2022-11-15T18:19:29.747Z"
   },
   {
    "duration": 51,
    "start_time": "2022-11-15T18:19:30.109Z"
   },
   {
    "duration": 504,
    "start_time": "2022-11-15T18:19:30.163Z"
   },
   {
    "duration": 674,
    "start_time": "2022-11-15T18:19:30.669Z"
   },
   {
    "duration": 17,
    "start_time": "2022-11-15T18:19:31.345Z"
   },
   {
    "duration": 105,
    "start_time": "2022-11-15T18:19:31.363Z"
   },
   {
    "duration": 15,
    "start_time": "2022-11-15T18:19:31.469Z"
   },
   {
    "duration": 11,
    "start_time": "2022-11-15T18:19:31.485Z"
   },
   {
    "duration": 81,
    "start_time": "2022-11-15T18:19:31.497Z"
   },
   {
    "duration": 56,
    "start_time": "2022-11-15T18:19:31.579Z"
   },
   {
    "duration": 10,
    "start_time": "2022-11-15T18:19:31.636Z"
   },
   {
    "duration": 172,
    "start_time": "2022-11-15T18:19:31.647Z"
   },
   {
    "duration": 4,
    "start_time": "2022-11-15T18:43:27.189Z"
   },
   {
    "duration": 40,
    "start_time": "2022-11-15T18:43:27.195Z"
   },
   {
    "duration": 379,
    "start_time": "2022-11-15T18:43:27.236Z"
   },
   {
    "duration": 11,
    "start_time": "2022-11-15T18:43:27.618Z"
   },
   {
    "duration": 10,
    "start_time": "2022-11-15T18:43:27.632Z"
   },
   {
    "duration": 10,
    "start_time": "2022-11-15T18:43:27.644Z"
   },
   {
    "duration": 24,
    "start_time": "2022-11-15T18:43:27.656Z"
   },
   {
    "duration": 10,
    "start_time": "2022-11-15T18:43:27.682Z"
   },
   {
    "duration": 14,
    "start_time": "2022-11-15T18:43:27.693Z"
   },
   {
    "duration": 80,
    "start_time": "2022-11-15T18:43:27.709Z"
   },
   {
    "duration": 335,
    "start_time": "2022-11-15T18:43:27.790Z"
   },
   {
    "duration": 55,
    "start_time": "2022-11-15T18:43:28.126Z"
   },
   {
    "duration": 487,
    "start_time": "2022-11-15T18:43:28.182Z"
   },
   {
    "duration": 687,
    "start_time": "2022-11-15T18:43:28.672Z"
   },
   {
    "duration": 21,
    "start_time": "2022-11-15T18:43:29.360Z"
   },
   {
    "duration": 129,
    "start_time": "2022-11-15T18:43:29.382Z"
   },
   {
    "duration": 14,
    "start_time": "2022-11-15T18:43:29.513Z"
   },
   {
    "duration": 16,
    "start_time": "2022-11-15T18:43:29.529Z"
   },
   {
    "duration": 95,
    "start_time": "2022-11-15T18:43:29.546Z"
   },
   {
    "duration": 74,
    "start_time": "2022-11-15T18:43:29.643Z"
   },
   {
    "duration": 12,
    "start_time": "2022-11-15T18:43:29.719Z"
   },
   {
    "duration": 161,
    "start_time": "2022-11-15T18:43:29.733Z"
   },
   {
    "duration": 44,
    "start_time": "2022-11-15T18:50:07.087Z"
   },
   {
    "duration": 49,
    "start_time": "2022-11-15T18:52:59.134Z"
   },
   {
    "duration": 42,
    "start_time": "2022-11-15T18:58:07.033Z"
   },
   {
    "duration": 4,
    "start_time": "2022-11-15T18:59:22.349Z"
   },
   {
    "duration": 39,
    "start_time": "2022-11-15T18:59:22.355Z"
   },
   {
    "duration": 336,
    "start_time": "2022-11-15T18:59:22.395Z"
   },
   {
    "duration": 10,
    "start_time": "2022-11-15T18:59:22.732Z"
   },
   {
    "duration": 6,
    "start_time": "2022-11-15T18:59:22.743Z"
   },
   {
    "duration": 8,
    "start_time": "2022-11-15T18:59:22.751Z"
   },
   {
    "duration": 20,
    "start_time": "2022-11-15T18:59:22.760Z"
   },
   {
    "duration": 13,
    "start_time": "2022-11-15T18:59:22.782Z"
   },
   {
    "duration": 12,
    "start_time": "2022-11-15T18:59:22.797Z"
   },
   {
    "duration": 68,
    "start_time": "2022-11-15T18:59:22.811Z"
   },
   {
    "duration": 347,
    "start_time": "2022-11-15T18:59:22.880Z"
   },
   {
    "duration": 63,
    "start_time": "2022-11-15T18:59:23.229Z"
   },
   {
    "duration": 558,
    "start_time": "2022-11-15T18:59:23.293Z"
   },
   {
    "duration": 693,
    "start_time": "2022-11-15T18:59:23.853Z"
   },
   {
    "duration": 19,
    "start_time": "2022-11-15T18:59:24.548Z"
   },
   {
    "duration": 120,
    "start_time": "2022-11-15T18:59:24.568Z"
   },
   {
    "duration": 10,
    "start_time": "2022-11-15T18:59:24.690Z"
   },
   {
    "duration": 47,
    "start_time": "2022-11-15T18:59:24.702Z"
   },
   {
    "duration": 72,
    "start_time": "2022-11-15T18:59:24.750Z"
   },
   {
    "duration": 9,
    "start_time": "2022-11-15T18:59:24.824Z"
   },
   {
    "duration": 133,
    "start_time": "2022-11-15T18:59:24.835Z"
   },
   {
    "duration": 48,
    "start_time": "2022-11-15T19:04:14.755Z"
   },
   {
    "duration": 49,
    "start_time": "2022-11-15T19:08:02.998Z"
   },
   {
    "duration": 44,
    "start_time": "2022-11-15T19:10:32.576Z"
   },
   {
    "duration": 61,
    "start_time": "2022-11-15T19:10:52.228Z"
   },
   {
    "duration": 59,
    "start_time": "2022-11-15T19:10:59.874Z"
   },
   {
    "duration": 4,
    "start_time": "2022-11-15T19:21:54.143Z"
   },
   {
    "duration": 4,
    "start_time": "2022-11-15T19:23:50.508Z"
   },
   {
    "duration": 6,
    "start_time": "2022-11-15T19:24:17.876Z"
   },
   {
    "duration": 6,
    "start_time": "2022-11-15T19:26:51.204Z"
   },
   {
    "duration": 72,
    "start_time": "2022-11-15T19:26:54.200Z"
   },
   {
    "duration": 78,
    "start_time": "2022-11-15T19:27:25.726Z"
   },
   {
    "duration": 182,
    "start_time": "2022-11-15T19:31:36.434Z"
   },
   {
    "duration": 79,
    "start_time": "2022-11-15T19:32:12.581Z"
   },
   {
    "duration": 82,
    "start_time": "2022-11-15T19:32:53.244Z"
   },
   {
    "duration": 104,
    "start_time": "2022-11-15T19:33:02.822Z"
   },
   {
    "duration": 11,
    "start_time": "2022-11-15T19:36:48.676Z"
   },
   {
    "duration": 4,
    "start_time": "2022-11-15T19:37:01.554Z"
   },
   {
    "duration": 42,
    "start_time": "2022-11-15T19:37:01.560Z"
   },
   {
    "duration": 346,
    "start_time": "2022-11-15T19:37:01.604Z"
   },
   {
    "duration": 11,
    "start_time": "2022-11-15T19:37:01.952Z"
   },
   {
    "duration": 14,
    "start_time": "2022-11-15T19:37:01.965Z"
   },
   {
    "duration": 9,
    "start_time": "2022-11-15T19:37:01.980Z"
   },
   {
    "duration": 6,
    "start_time": "2022-11-15T19:37:01.990Z"
   },
   {
    "duration": 12,
    "start_time": "2022-11-15T19:37:01.997Z"
   },
   {
    "duration": 22,
    "start_time": "2022-11-15T19:37:02.011Z"
   },
   {
    "duration": 91,
    "start_time": "2022-11-15T19:37:02.035Z"
   },
   {
    "duration": 388,
    "start_time": "2022-11-15T19:37:02.128Z"
   },
   {
    "duration": 73,
    "start_time": "2022-11-15T19:37:02.518Z"
   },
   {
    "duration": 530,
    "start_time": "2022-11-15T19:37:02.592Z"
   },
   {
    "duration": 714,
    "start_time": "2022-11-15T19:37:03.124Z"
   },
   {
    "duration": 17,
    "start_time": "2022-11-15T19:37:03.839Z"
   },
   {
    "duration": 164,
    "start_time": "2022-11-15T19:37:03.857Z"
   },
   {
    "duration": 66,
    "start_time": "2022-11-15T19:37:04.022Z"
   },
   {
    "duration": 6,
    "start_time": "2022-11-15T19:37:04.090Z"
   },
   {
    "duration": 109,
    "start_time": "2022-11-15T19:37:04.097Z"
   },
   {
    "duration": 9,
    "start_time": "2022-11-15T19:37:04.207Z"
   },
   {
    "duration": 46,
    "start_time": "2022-11-15T19:39:31.555Z"
   },
   {
    "duration": 6,
    "start_time": "2022-11-15T19:39:35.535Z"
   },
   {
    "duration": 84,
    "start_time": "2022-11-15T19:39:36.951Z"
   },
   {
    "duration": 11,
    "start_time": "2022-11-15T19:39:38.242Z"
   },
   {
    "duration": 3,
    "start_time": "2022-11-15T19:40:57.482Z"
   },
   {
    "duration": 39,
    "start_time": "2022-11-15T19:40:57.487Z"
   },
   {
    "duration": 346,
    "start_time": "2022-11-15T19:40:57.527Z"
   },
   {
    "duration": 10,
    "start_time": "2022-11-15T19:40:57.877Z"
   },
   {
    "duration": 8,
    "start_time": "2022-11-15T19:40:57.889Z"
   },
   {
    "duration": 11,
    "start_time": "2022-11-15T19:40:57.899Z"
   },
   {
    "duration": 3,
    "start_time": "2022-11-15T19:40:57.913Z"
   },
   {
    "duration": 11,
    "start_time": "2022-11-15T19:40:57.918Z"
   },
   {
    "duration": 15,
    "start_time": "2022-11-15T19:40:57.931Z"
   },
   {
    "duration": 76,
    "start_time": "2022-11-15T19:40:57.947Z"
   },
   {
    "duration": 336,
    "start_time": "2022-11-15T19:40:58.025Z"
   },
   {
    "duration": 59,
    "start_time": "2022-11-15T19:40:58.362Z"
   },
   {
    "duration": 468,
    "start_time": "2022-11-15T19:40:58.422Z"
   },
   {
    "duration": 666,
    "start_time": "2022-11-15T19:40:58.892Z"
   },
   {
    "duration": 24,
    "start_time": "2022-11-15T19:40:59.560Z"
   },
   {
    "duration": 112,
    "start_time": "2022-11-15T19:40:59.585Z"
   },
   {
    "duration": 41,
    "start_time": "2022-11-15T19:40:59.698Z"
   },
   {
    "duration": 5,
    "start_time": "2022-11-15T19:40:59.740Z"
   },
   {
    "duration": 100,
    "start_time": "2022-11-15T19:40:59.747Z"
   },
   {
    "duration": 10,
    "start_time": "2022-11-15T19:40:59.849Z"
   },
   {
    "duration": 66,
    "start_time": "2022-11-15T19:41:20.379Z"
   },
   {
    "duration": 11,
    "start_time": "2022-11-15T19:41:22.719Z"
   },
   {
    "duration": 79,
    "start_time": "2022-11-15T19:41:39.256Z"
   },
   {
    "duration": 13,
    "start_time": "2022-11-15T19:41:41.616Z"
   },
   {
    "duration": 54,
    "start_time": "2022-11-15T19:42:34.079Z"
   },
   {
    "duration": 8,
    "start_time": "2022-11-15T19:55:27.730Z"
   },
   {
    "duration": 6,
    "start_time": "2022-11-15T19:55:38.341Z"
   },
   {
    "duration": 5,
    "start_time": "2022-11-15T19:55:48.481Z"
   },
   {
    "duration": 6,
    "start_time": "2022-11-15T19:56:25.879Z"
   },
   {
    "duration": 5,
    "start_time": "2022-11-15T19:59:39.361Z"
   },
   {
    "duration": 15,
    "start_time": "2022-11-15T19:59:46.199Z"
   },
   {
    "duration": 6,
    "start_time": "2022-11-15T19:59:51.654Z"
   },
   {
    "duration": 4,
    "start_time": "2022-11-15T20:14:29.156Z"
   },
   {
    "duration": 3,
    "start_time": "2022-11-15T20:14:33.128Z"
   },
   {
    "duration": 33,
    "start_time": "2022-11-15T20:14:33.133Z"
   },
   {
    "duration": 345,
    "start_time": "2022-11-15T20:14:33.168Z"
   },
   {
    "duration": 9,
    "start_time": "2022-11-15T20:14:33.515Z"
   },
   {
    "duration": 8,
    "start_time": "2022-11-15T20:14:33.526Z"
   },
   {
    "duration": 13,
    "start_time": "2022-11-15T20:14:33.535Z"
   },
   {
    "duration": 7,
    "start_time": "2022-11-15T20:14:33.549Z"
   },
   {
    "duration": 20,
    "start_time": "2022-11-15T20:14:33.558Z"
   },
   {
    "duration": 18,
    "start_time": "2022-11-15T20:14:33.579Z"
   },
   {
    "duration": 54,
    "start_time": "2022-11-15T20:14:33.599Z"
   },
   {
    "duration": 356,
    "start_time": "2022-11-15T20:14:33.655Z"
   },
   {
    "duration": 65,
    "start_time": "2022-11-15T20:14:34.012Z"
   },
   {
    "duration": 534,
    "start_time": "2022-11-15T20:14:34.080Z"
   },
   {
    "duration": 633,
    "start_time": "2022-11-15T20:14:34.616Z"
   },
   {
    "duration": 28,
    "start_time": "2022-11-15T20:14:35.250Z"
   },
   {
    "duration": 110,
    "start_time": "2022-11-15T20:14:35.280Z"
   },
   {
    "duration": 42,
    "start_time": "2022-11-15T20:14:35.391Z"
   },
   {
    "duration": 5,
    "start_time": "2022-11-15T20:14:35.434Z"
   },
   {
    "duration": 98,
    "start_time": "2022-11-15T20:14:35.440Z"
   },
   {
    "duration": 9,
    "start_time": "2022-11-15T20:14:35.540Z"
   },
   {
    "duration": 13,
    "start_time": "2022-11-15T20:14:35.550Z"
   },
   {
    "duration": 160,
    "start_time": "2022-11-16T07:04:02.929Z"
   },
   {
    "duration": 3773,
    "start_time": "2022-11-16T07:04:14.928Z"
   },
   {
    "duration": 132,
    "start_time": "2022-11-16T07:04:18.751Z"
   },
   {
    "duration": 814,
    "start_time": "2022-11-16T07:04:18.887Z"
   },
   {
    "duration": 68,
    "start_time": "2022-11-16T07:04:19.705Z"
   },
   {
    "duration": 81,
    "start_time": "2022-11-16T07:04:19.776Z"
   },
   {
    "duration": 19,
    "start_time": "2022-11-16T07:04:19.860Z"
   },
   {
    "duration": 66,
    "start_time": "2022-11-16T07:04:19.889Z"
   },
   {
    "duration": 51,
    "start_time": "2022-11-16T07:04:19.957Z"
   },
   {
    "duration": 77,
    "start_time": "2022-11-16T07:04:20.011Z"
   },
   {
    "duration": 196,
    "start_time": "2022-11-16T07:04:20.095Z"
   },
   {
    "duration": 1188,
    "start_time": "2022-11-16T07:04:20.293Z"
   },
   {
    "duration": 981,
    "start_time": "2022-11-16T07:04:21.482Z"
   },
   {
    "duration": 197,
    "start_time": "2022-11-16T07:04:22.466Z"
   },
   {
    "duration": 1622,
    "start_time": "2022-11-16T07:04:22.668Z"
   },
   {
    "duration": 2265,
    "start_time": "2022-11-16T07:04:24.292Z"
   },
   {
    "duration": 34,
    "start_time": "2022-11-16T07:04:26.560Z"
   },
   {
    "duration": 397,
    "start_time": "2022-11-16T07:04:26.599Z"
   },
   {
    "duration": 176,
    "start_time": "2022-11-16T07:04:26.998Z"
   },
   {
    "duration": 11,
    "start_time": "2022-11-16T07:04:27.176Z"
   },
   {
    "duration": 301,
    "start_time": "2022-11-16T07:04:27.190Z"
   },
   {
    "duration": 65,
    "start_time": "2022-11-16T07:04:27.493Z"
   },
   {
    "duration": 40,
    "start_time": "2022-11-16T07:04:27.560Z"
   }
  ],
  "kernelspec": {
   "display_name": "Python 3 (ipykernel)",
   "language": "python",
   "name": "python3"
  },
  "language_info": {
   "codemirror_mode": {
    "name": "ipython",
    "version": 3
   },
   "file_extension": ".py",
   "mimetype": "text/x-python",
   "name": "python",
   "nbconvert_exporter": "python",
   "pygments_lexer": "ipython3",
   "version": "3.11.7"
  },
  "toc": {
   "base_numbering": 1,
   "nav_menu": {},
   "number_sections": true,
   "sideBar": true,
   "skip_h1_title": true,
   "title_cell": "Table of Contents",
   "title_sidebar": "Contents",
   "toc_cell": false,
   "toc_position": {},
   "toc_section_display": true,
   "toc_window_display": false
  }
 },
 "nbformat": 4,
 "nbformat_minor": 4
}
