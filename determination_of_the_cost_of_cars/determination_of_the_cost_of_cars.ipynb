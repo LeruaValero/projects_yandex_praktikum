{
 "cells": [
  {
   "cell_type": "markdown",
   "metadata": {},
   "source": [
    "# Определение стоимости автомобилей"
   ]
  },
  {
   "cell_type": "markdown",
   "metadata": {},
   "source": [
    "Сервис по продаже автомобилей с пробегом «Не бит, не крашен» разрабатывает приложение для привлечения новых клиентов. В нём можно быстро узнать рыночную стоимость своего автомобиля. В вашем распоряжении исторические данные: технические характеристики, комплектации и цены автомобилей. Вам нужно построить модель для определения стоимости. \n",
    "\n",
    "Заказчику важны:\n",
    "\n",
    "- качество предсказания;\n",
    "- скорость предсказания;\n",
    "- время обучения."
   ]
  },
  {
   "cell_type": "markdown",
   "metadata": {},
   "source": [
    "**Признаки**  \n",
    "DateCrawled — дата скачивания анкеты из базы  \n",
    "VehicleType — тип автомобильного кузова  \n",
    "RegistrationYear — год регистрации автомобиля  \n",
    "Gearbox — тип коробки передач  \n",
    "Power — мощность (л. с.)  \n",
    "Model — модель автомобиля  \n",
    "Kilometer — пробег (км)  \n",
    "RegistrationMonth — месяц регистрации автомобиля  \n",
    "FuelType — тип топлива  \n",
    "Brand — марка автомобиля  \n",
    "Repaired — была машина в ремонте или нет  \n",
    "DateCreated — дата создания анкеты  \n",
    "NumberOfPictures — количество фотографий автомобиля  \n",
    "PostalCode — почтовый индекс владельца анкеты (пользователя)  \n",
    "LastSeen — дата последней активности пользователя  \n",
    "\n",
    "**Целевой признак**  \n",
    "Price — цена (евро)  \n",
    "\n",
    "**Примечания:**  \n",
    "- Для оценки качества моделей применяйте метрику RMSE. \n",
    "- Значение метрики RMSE должно быть меньше 2500.  \n",
    "- Самостоятельно освойте библиотеку LightGBM и её средствами постройте модели градиентного бустинга.  \n",
    "- Время выполнения ячейки кода Jupyter Notebook можно получить специальной командой. Найдите её.  \n",
    "- Поскольку модель градиентного бустинга может обучаться долго, измените у неё только два-три параметра.  "
   ]
  },
  {
   "cell_type": "markdown",
   "metadata": {},
   "source": [
    "## Подготовка данных"
   ]
  },
  {
   "cell_type": "markdown",
   "metadata": {},
   "source": [
    "**Изучите данные. Заполните пропущенные значения и обработайте аномалии в столбцах. Если среди признаков имеются неинформативные, удалите их.**  \n",
    "**Подготовьте выборки для обучения моделей.**"
   ]
  },
  {
   "cell_type": "code",
   "execution_count": 1,
   "metadata": {},
   "outputs": [],
   "source": [
    "import pandas as pd\n",
    "import numpy as np\n",
    "import seaborn as sns\n",
    "import matplotlib.pyplot as plt\n",
    "import lightgbm as lgb\n",
    "\n",
    "from sklearn.preprocessing import OrdinalEncoder  \n",
    "from sklearn.model_selection import train_test_split\n",
    "from sklearn.metrics import mean_squared_error\n",
    "from sklearn.metrics import make_scorer\n",
    "from sklearn.model_selection import cross_val_score\n",
    "\n",
    "from sklearn.model_selection import GridSearchCV\n",
    "from sklearn.preprocessing import StandardScaler\n",
    "\n",
    "from sklearn.linear_model import LinearRegression\n",
    "from sklearn.tree import DecisionTreeRegressor\n",
    "from lightgbm import LGBMRegressor\n",
    "\n",
    "from catboost import Pool, CatBoostRegressor, cv"
   ]
  },
  {
   "cell_type": "code",
   "execution_count": 2,
   "metadata": {},
   "outputs": [
    {
     "data": {
      "text/html": [
       "<div>\n",
       "<style scoped>\n",
       "    .dataframe tbody tr th:only-of-type {\n",
       "        vertical-align: middle;\n",
       "    }\n",
       "\n",
       "    .dataframe tbody tr th {\n",
       "        vertical-align: top;\n",
       "    }\n",
       "\n",
       "    .dataframe thead th {\n",
       "        text-align: right;\n",
       "    }\n",
       "</style>\n",
       "<table border=\"1\" class=\"dataframe\">\n",
       "  <thead>\n",
       "    <tr style=\"text-align: right;\">\n",
       "      <th></th>\n",
       "      <th>DateCrawled</th>\n",
       "      <th>Price</th>\n",
       "      <th>VehicleType</th>\n",
       "      <th>RegistrationYear</th>\n",
       "      <th>Gearbox</th>\n",
       "      <th>Power</th>\n",
       "      <th>Model</th>\n",
       "      <th>Kilometer</th>\n",
       "      <th>RegistrationMonth</th>\n",
       "      <th>FuelType</th>\n",
       "      <th>Brand</th>\n",
       "      <th>Repaired</th>\n",
       "      <th>DateCreated</th>\n",
       "      <th>NumberOfPictures</th>\n",
       "      <th>PostalCode</th>\n",
       "      <th>LastSeen</th>\n",
       "    </tr>\n",
       "  </thead>\n",
       "  <tbody>\n",
       "    <tr>\n",
       "      <th>0</th>\n",
       "      <td>2016-03-24 11:52:17</td>\n",
       "      <td>480</td>\n",
       "      <td>NaN</td>\n",
       "      <td>1993</td>\n",
       "      <td>manual</td>\n",
       "      <td>0</td>\n",
       "      <td>golf</td>\n",
       "      <td>150000</td>\n",
       "      <td>0</td>\n",
       "      <td>petrol</td>\n",
       "      <td>volkswagen</td>\n",
       "      <td>NaN</td>\n",
       "      <td>2016-03-24 00:00:00</td>\n",
       "      <td>0</td>\n",
       "      <td>70435</td>\n",
       "      <td>2016-04-07 03:16:57</td>\n",
       "    </tr>\n",
       "    <tr>\n",
       "      <th>1</th>\n",
       "      <td>2016-03-24 10:58:45</td>\n",
       "      <td>18300</td>\n",
       "      <td>coupe</td>\n",
       "      <td>2011</td>\n",
       "      <td>manual</td>\n",
       "      <td>190</td>\n",
       "      <td>NaN</td>\n",
       "      <td>125000</td>\n",
       "      <td>5</td>\n",
       "      <td>gasoline</td>\n",
       "      <td>audi</td>\n",
       "      <td>yes</td>\n",
       "      <td>2016-03-24 00:00:00</td>\n",
       "      <td>0</td>\n",
       "      <td>66954</td>\n",
       "      <td>2016-04-07 01:46:50</td>\n",
       "    </tr>\n",
       "    <tr>\n",
       "      <th>2</th>\n",
       "      <td>2016-03-14 12:52:21</td>\n",
       "      <td>9800</td>\n",
       "      <td>suv</td>\n",
       "      <td>2004</td>\n",
       "      <td>auto</td>\n",
       "      <td>163</td>\n",
       "      <td>grand</td>\n",
       "      <td>125000</td>\n",
       "      <td>8</td>\n",
       "      <td>gasoline</td>\n",
       "      <td>jeep</td>\n",
       "      <td>NaN</td>\n",
       "      <td>2016-03-14 00:00:00</td>\n",
       "      <td>0</td>\n",
       "      <td>90480</td>\n",
       "      <td>2016-04-05 12:47:46</td>\n",
       "    </tr>\n",
       "    <tr>\n",
       "      <th>3</th>\n",
       "      <td>2016-03-17 16:54:04</td>\n",
       "      <td>1500</td>\n",
       "      <td>small</td>\n",
       "      <td>2001</td>\n",
       "      <td>manual</td>\n",
       "      <td>75</td>\n",
       "      <td>golf</td>\n",
       "      <td>150000</td>\n",
       "      <td>6</td>\n",
       "      <td>petrol</td>\n",
       "      <td>volkswagen</td>\n",
       "      <td>no</td>\n",
       "      <td>2016-03-17 00:00:00</td>\n",
       "      <td>0</td>\n",
       "      <td>91074</td>\n",
       "      <td>2016-03-17 17:40:17</td>\n",
       "    </tr>\n",
       "    <tr>\n",
       "      <th>4</th>\n",
       "      <td>2016-03-31 17:25:20</td>\n",
       "      <td>3600</td>\n",
       "      <td>small</td>\n",
       "      <td>2008</td>\n",
       "      <td>manual</td>\n",
       "      <td>69</td>\n",
       "      <td>fabia</td>\n",
       "      <td>90000</td>\n",
       "      <td>7</td>\n",
       "      <td>gasoline</td>\n",
       "      <td>skoda</td>\n",
       "      <td>no</td>\n",
       "      <td>2016-03-31 00:00:00</td>\n",
       "      <td>0</td>\n",
       "      <td>60437</td>\n",
       "      <td>2016-04-06 10:17:21</td>\n",
       "    </tr>\n",
       "    <tr>\n",
       "      <th>...</th>\n",
       "      <td>...</td>\n",
       "      <td>...</td>\n",
       "      <td>...</td>\n",
       "      <td>...</td>\n",
       "      <td>...</td>\n",
       "      <td>...</td>\n",
       "      <td>...</td>\n",
       "      <td>...</td>\n",
       "      <td>...</td>\n",
       "      <td>...</td>\n",
       "      <td>...</td>\n",
       "      <td>...</td>\n",
       "      <td>...</td>\n",
       "      <td>...</td>\n",
       "      <td>...</td>\n",
       "      <td>...</td>\n",
       "    </tr>\n",
       "    <tr>\n",
       "      <th>354364</th>\n",
       "      <td>2016-03-21 09:50:58</td>\n",
       "      <td>0</td>\n",
       "      <td>NaN</td>\n",
       "      <td>2005</td>\n",
       "      <td>manual</td>\n",
       "      <td>0</td>\n",
       "      <td>colt</td>\n",
       "      <td>150000</td>\n",
       "      <td>7</td>\n",
       "      <td>petrol</td>\n",
       "      <td>mitsubishi</td>\n",
       "      <td>yes</td>\n",
       "      <td>2016-03-21 00:00:00</td>\n",
       "      <td>0</td>\n",
       "      <td>2694</td>\n",
       "      <td>2016-03-21 10:42:49</td>\n",
       "    </tr>\n",
       "    <tr>\n",
       "      <th>354365</th>\n",
       "      <td>2016-03-14 17:48:27</td>\n",
       "      <td>2200</td>\n",
       "      <td>NaN</td>\n",
       "      <td>2005</td>\n",
       "      <td>NaN</td>\n",
       "      <td>0</td>\n",
       "      <td>NaN</td>\n",
       "      <td>20000</td>\n",
       "      <td>1</td>\n",
       "      <td>NaN</td>\n",
       "      <td>sonstige_autos</td>\n",
       "      <td>NaN</td>\n",
       "      <td>2016-03-14 00:00:00</td>\n",
       "      <td>0</td>\n",
       "      <td>39576</td>\n",
       "      <td>2016-04-06 00:46:52</td>\n",
       "    </tr>\n",
       "    <tr>\n",
       "      <th>354366</th>\n",
       "      <td>2016-03-05 19:56:21</td>\n",
       "      <td>1199</td>\n",
       "      <td>convertible</td>\n",
       "      <td>2000</td>\n",
       "      <td>auto</td>\n",
       "      <td>101</td>\n",
       "      <td>fortwo</td>\n",
       "      <td>125000</td>\n",
       "      <td>3</td>\n",
       "      <td>petrol</td>\n",
       "      <td>smart</td>\n",
       "      <td>no</td>\n",
       "      <td>2016-03-05 00:00:00</td>\n",
       "      <td>0</td>\n",
       "      <td>26135</td>\n",
       "      <td>2016-03-11 18:17:12</td>\n",
       "    </tr>\n",
       "    <tr>\n",
       "      <th>354367</th>\n",
       "      <td>2016-03-19 18:57:12</td>\n",
       "      <td>9200</td>\n",
       "      <td>bus</td>\n",
       "      <td>1996</td>\n",
       "      <td>manual</td>\n",
       "      <td>102</td>\n",
       "      <td>transporter</td>\n",
       "      <td>150000</td>\n",
       "      <td>3</td>\n",
       "      <td>gasoline</td>\n",
       "      <td>volkswagen</td>\n",
       "      <td>no</td>\n",
       "      <td>2016-03-19 00:00:00</td>\n",
       "      <td>0</td>\n",
       "      <td>87439</td>\n",
       "      <td>2016-04-07 07:15:26</td>\n",
       "    </tr>\n",
       "    <tr>\n",
       "      <th>354368</th>\n",
       "      <td>2016-03-20 19:41:08</td>\n",
       "      <td>3400</td>\n",
       "      <td>wagon</td>\n",
       "      <td>2002</td>\n",
       "      <td>manual</td>\n",
       "      <td>100</td>\n",
       "      <td>golf</td>\n",
       "      <td>150000</td>\n",
       "      <td>6</td>\n",
       "      <td>gasoline</td>\n",
       "      <td>volkswagen</td>\n",
       "      <td>NaN</td>\n",
       "      <td>2016-03-20 00:00:00</td>\n",
       "      <td>0</td>\n",
       "      <td>40764</td>\n",
       "      <td>2016-03-24 12:45:21</td>\n",
       "    </tr>\n",
       "  </tbody>\n",
       "</table>\n",
       "<p>354369 rows × 16 columns</p>\n",
       "</div>"
      ],
      "text/plain": [
       "                DateCrawled  Price  VehicleType  RegistrationYear Gearbox  \\\n",
       "0       2016-03-24 11:52:17    480          NaN              1993  manual   \n",
       "1       2016-03-24 10:58:45  18300        coupe              2011  manual   \n",
       "2       2016-03-14 12:52:21   9800          suv              2004    auto   \n",
       "3       2016-03-17 16:54:04   1500        small              2001  manual   \n",
       "4       2016-03-31 17:25:20   3600        small              2008  manual   \n",
       "...                     ...    ...          ...               ...     ...   \n",
       "354364  2016-03-21 09:50:58      0          NaN              2005  manual   \n",
       "354365  2016-03-14 17:48:27   2200          NaN              2005     NaN   \n",
       "354366  2016-03-05 19:56:21   1199  convertible              2000    auto   \n",
       "354367  2016-03-19 18:57:12   9200          bus              1996  manual   \n",
       "354368  2016-03-20 19:41:08   3400        wagon              2002  manual   \n",
       "\n",
       "        Power        Model  Kilometer  RegistrationMonth  FuelType  \\\n",
       "0           0         golf     150000                  0    petrol   \n",
       "1         190          NaN     125000                  5  gasoline   \n",
       "2         163        grand     125000                  8  gasoline   \n",
       "3          75         golf     150000                  6    petrol   \n",
       "4          69        fabia      90000                  7  gasoline   \n",
       "...       ...          ...        ...                ...       ...   \n",
       "354364      0         colt     150000                  7    petrol   \n",
       "354365      0          NaN      20000                  1       NaN   \n",
       "354366    101       fortwo     125000                  3    petrol   \n",
       "354367    102  transporter     150000                  3  gasoline   \n",
       "354368    100         golf     150000                  6  gasoline   \n",
       "\n",
       "                 Brand Repaired          DateCreated  NumberOfPictures  \\\n",
       "0           volkswagen      NaN  2016-03-24 00:00:00                 0   \n",
       "1                 audi      yes  2016-03-24 00:00:00                 0   \n",
       "2                 jeep      NaN  2016-03-14 00:00:00                 0   \n",
       "3           volkswagen       no  2016-03-17 00:00:00                 0   \n",
       "4                skoda       no  2016-03-31 00:00:00                 0   \n",
       "...                ...      ...                  ...               ...   \n",
       "354364      mitsubishi      yes  2016-03-21 00:00:00                 0   \n",
       "354365  sonstige_autos      NaN  2016-03-14 00:00:00                 0   \n",
       "354366           smart       no  2016-03-05 00:00:00                 0   \n",
       "354367      volkswagen       no  2016-03-19 00:00:00                 0   \n",
       "354368      volkswagen      NaN  2016-03-20 00:00:00                 0   \n",
       "\n",
       "        PostalCode             LastSeen  \n",
       "0            70435  2016-04-07 03:16:57  \n",
       "1            66954  2016-04-07 01:46:50  \n",
       "2            90480  2016-04-05 12:47:46  \n",
       "3            91074  2016-03-17 17:40:17  \n",
       "4            60437  2016-04-06 10:17:21  \n",
       "...            ...                  ...  \n",
       "354364        2694  2016-03-21 10:42:49  \n",
       "354365       39576  2016-04-06 00:46:52  \n",
       "354366       26135  2016-03-11 18:17:12  \n",
       "354367       87439  2016-04-07 07:15:26  \n",
       "354368       40764  2016-03-24 12:45:21  \n",
       "\n",
       "[354369 rows x 16 columns]"
      ]
     },
     "metadata": {},
     "output_type": "display_data"
    }
   ],
   "source": [
    "data = pd.read_csv('/datasets/autos.csv')\n",
    "display(data)"
   ]
  },
  {
   "cell_type": "code",
   "execution_count": 3,
   "metadata": {},
   "outputs": [
    {
     "name": "stdout",
     "output_type": "stream",
     "text": [
      "<class 'pandas.core.frame.DataFrame'>\n",
      "RangeIndex: 354369 entries, 0 to 354368\n",
      "Data columns (total 16 columns):\n",
      " #   Column             Non-Null Count   Dtype \n",
      "---  ------             --------------   ----- \n",
      " 0   DateCrawled        354369 non-null  object\n",
      " 1   Price              354369 non-null  int64 \n",
      " 2   VehicleType        316879 non-null  object\n",
      " 3   RegistrationYear   354369 non-null  int64 \n",
      " 4   Gearbox            334536 non-null  object\n",
      " 5   Power              354369 non-null  int64 \n",
      " 6   Model              334664 non-null  object\n",
      " 7   Kilometer          354369 non-null  int64 \n",
      " 8   RegistrationMonth  354369 non-null  int64 \n",
      " 9   FuelType           321474 non-null  object\n",
      " 10  Brand              354369 non-null  object\n",
      " 11  Repaired           283215 non-null  object\n",
      " 12  DateCreated        354369 non-null  object\n",
      " 13  NumberOfPictures   354369 non-null  int64 \n",
      " 14  PostalCode         354369 non-null  int64 \n",
      " 15  LastSeen           354369 non-null  object\n",
      "dtypes: int64(7), object(9)\n",
      "memory usage: 43.3+ MB\n"
     ]
    }
   ],
   "source": [
    "data.info()"
   ]
  },
  {
   "cell_type": "code",
   "execution_count": 4,
   "metadata": {},
   "outputs": [
    {
     "data": {
      "text/plain": [
       "DateCrawled              0\n",
       "Price                    0\n",
       "VehicleType          37490\n",
       "RegistrationYear         0\n",
       "Gearbox              19833\n",
       "Power                    0\n",
       "Model                19705\n",
       "Kilometer                0\n",
       "RegistrationMonth        0\n",
       "FuelType             32895\n",
       "Brand                    0\n",
       "Repaired             71154\n",
       "DateCreated              0\n",
       "NumberOfPictures         0\n",
       "PostalCode               0\n",
       "LastSeen                 0\n",
       "dtype: int64"
      ]
     },
     "execution_count": 4,
     "metadata": {},
     "output_type": "execute_result"
    }
   ],
   "source": [
    "data.isna().sum()"
   ]
  },
  {
   "cell_type": "markdown",
   "metadata": {},
   "source": [
    "У нас есть и численные и категориальные признаки. Также есть столбцы, которые можно удалить - DateCrawled, LastSeen, DateCreated, PostalCode, NumberOfPictures, RegistrationMonth - так как они не влияют на конечную цену машины.  \n",
    "Также есть пропущенные данные, надо понять можно ли их удалить или как-то попробовать заполнить. "
   ]
  },
  {
   "cell_type": "code",
   "execution_count": 5,
   "metadata": {
    "scrolled": true
   },
   "outputs": [
    {
     "data": {
      "text/html": [
       "<div>\n",
       "<style scoped>\n",
       "    .dataframe tbody tr th:only-of-type {\n",
       "        vertical-align: middle;\n",
       "    }\n",
       "\n",
       "    .dataframe tbody tr th {\n",
       "        vertical-align: top;\n",
       "    }\n",
       "\n",
       "    .dataframe thead th {\n",
       "        text-align: right;\n",
       "    }\n",
       "</style>\n",
       "<table border=\"1\" class=\"dataframe\">\n",
       "  <thead>\n",
       "    <tr style=\"text-align: right;\">\n",
       "      <th></th>\n",
       "      <th>VehicleType</th>\n",
       "      <th>Gearbox</th>\n",
       "      <th>Power</th>\n",
       "      <th>Kilometer</th>\n",
       "      <th>FuelType</th>\n",
       "      <th>Brand</th>\n",
       "      <th>Repaired</th>\n",
       "      <th>RegistrationYear</th>\n",
       "      <th>Model</th>\n",
       "      <th>Price</th>\n",
       "    </tr>\n",
       "  </thead>\n",
       "  <tbody>\n",
       "    <tr>\n",
       "      <th>0</th>\n",
       "      <td>NaN</td>\n",
       "      <td>manual</td>\n",
       "      <td>0</td>\n",
       "      <td>150000</td>\n",
       "      <td>petrol</td>\n",
       "      <td>volkswagen</td>\n",
       "      <td>NaN</td>\n",
       "      <td>1993</td>\n",
       "      <td>golf</td>\n",
       "      <td>480</td>\n",
       "    </tr>\n",
       "    <tr>\n",
       "      <th>1</th>\n",
       "      <td>coupe</td>\n",
       "      <td>manual</td>\n",
       "      <td>190</td>\n",
       "      <td>125000</td>\n",
       "      <td>gasoline</td>\n",
       "      <td>audi</td>\n",
       "      <td>yes</td>\n",
       "      <td>2011</td>\n",
       "      <td>NaN</td>\n",
       "      <td>18300</td>\n",
       "    </tr>\n",
       "    <tr>\n",
       "      <th>2</th>\n",
       "      <td>suv</td>\n",
       "      <td>auto</td>\n",
       "      <td>163</td>\n",
       "      <td>125000</td>\n",
       "      <td>gasoline</td>\n",
       "      <td>jeep</td>\n",
       "      <td>NaN</td>\n",
       "      <td>2004</td>\n",
       "      <td>grand</td>\n",
       "      <td>9800</td>\n",
       "    </tr>\n",
       "    <tr>\n",
       "      <th>3</th>\n",
       "      <td>small</td>\n",
       "      <td>manual</td>\n",
       "      <td>75</td>\n",
       "      <td>150000</td>\n",
       "      <td>petrol</td>\n",
       "      <td>volkswagen</td>\n",
       "      <td>no</td>\n",
       "      <td>2001</td>\n",
       "      <td>golf</td>\n",
       "      <td>1500</td>\n",
       "    </tr>\n",
       "    <tr>\n",
       "      <th>4</th>\n",
       "      <td>small</td>\n",
       "      <td>manual</td>\n",
       "      <td>69</td>\n",
       "      <td>90000</td>\n",
       "      <td>gasoline</td>\n",
       "      <td>skoda</td>\n",
       "      <td>no</td>\n",
       "      <td>2008</td>\n",
       "      <td>fabia</td>\n",
       "      <td>3600</td>\n",
       "    </tr>\n",
       "    <tr>\n",
       "      <th>...</th>\n",
       "      <td>...</td>\n",
       "      <td>...</td>\n",
       "      <td>...</td>\n",
       "      <td>...</td>\n",
       "      <td>...</td>\n",
       "      <td>...</td>\n",
       "      <td>...</td>\n",
       "      <td>...</td>\n",
       "      <td>...</td>\n",
       "      <td>...</td>\n",
       "    </tr>\n",
       "    <tr>\n",
       "      <th>354364</th>\n",
       "      <td>NaN</td>\n",
       "      <td>manual</td>\n",
       "      <td>0</td>\n",
       "      <td>150000</td>\n",
       "      <td>petrol</td>\n",
       "      <td>mitsubishi</td>\n",
       "      <td>yes</td>\n",
       "      <td>2005</td>\n",
       "      <td>colt</td>\n",
       "      <td>0</td>\n",
       "    </tr>\n",
       "    <tr>\n",
       "      <th>354365</th>\n",
       "      <td>NaN</td>\n",
       "      <td>NaN</td>\n",
       "      <td>0</td>\n",
       "      <td>20000</td>\n",
       "      <td>NaN</td>\n",
       "      <td>sonstige_autos</td>\n",
       "      <td>NaN</td>\n",
       "      <td>2005</td>\n",
       "      <td>NaN</td>\n",
       "      <td>2200</td>\n",
       "    </tr>\n",
       "    <tr>\n",
       "      <th>354366</th>\n",
       "      <td>convertible</td>\n",
       "      <td>auto</td>\n",
       "      <td>101</td>\n",
       "      <td>125000</td>\n",
       "      <td>petrol</td>\n",
       "      <td>smart</td>\n",
       "      <td>no</td>\n",
       "      <td>2000</td>\n",
       "      <td>fortwo</td>\n",
       "      <td>1199</td>\n",
       "    </tr>\n",
       "    <tr>\n",
       "      <th>354367</th>\n",
       "      <td>bus</td>\n",
       "      <td>manual</td>\n",
       "      <td>102</td>\n",
       "      <td>150000</td>\n",
       "      <td>gasoline</td>\n",
       "      <td>volkswagen</td>\n",
       "      <td>no</td>\n",
       "      <td>1996</td>\n",
       "      <td>transporter</td>\n",
       "      <td>9200</td>\n",
       "    </tr>\n",
       "    <tr>\n",
       "      <th>354368</th>\n",
       "      <td>wagon</td>\n",
       "      <td>manual</td>\n",
       "      <td>100</td>\n",
       "      <td>150000</td>\n",
       "      <td>gasoline</td>\n",
       "      <td>volkswagen</td>\n",
       "      <td>NaN</td>\n",
       "      <td>2002</td>\n",
       "      <td>golf</td>\n",
       "      <td>3400</td>\n",
       "    </tr>\n",
       "  </tbody>\n",
       "</table>\n",
       "<p>354369 rows × 10 columns</p>\n",
       "</div>"
      ],
      "text/plain": [
       "        VehicleType Gearbox  Power  Kilometer  FuelType           Brand  \\\n",
       "0               NaN  manual      0     150000    petrol      volkswagen   \n",
       "1             coupe  manual    190     125000  gasoline            audi   \n",
       "2               suv    auto    163     125000  gasoline            jeep   \n",
       "3             small  manual     75     150000    petrol      volkswagen   \n",
       "4             small  manual     69      90000  gasoline           skoda   \n",
       "...             ...     ...    ...        ...       ...             ...   \n",
       "354364          NaN  manual      0     150000    petrol      mitsubishi   \n",
       "354365          NaN     NaN      0      20000       NaN  sonstige_autos   \n",
       "354366  convertible    auto    101     125000    petrol           smart   \n",
       "354367          bus  manual    102     150000  gasoline      volkswagen   \n",
       "354368        wagon  manual    100     150000  gasoline      volkswagen   \n",
       "\n",
       "       Repaired  RegistrationYear        Model  Price  \n",
       "0           NaN              1993         golf    480  \n",
       "1           yes              2011          NaN  18300  \n",
       "2           NaN              2004        grand   9800  \n",
       "3            no              2001         golf   1500  \n",
       "4            no              2008        fabia   3600  \n",
       "...         ...               ...          ...    ...  \n",
       "354364      yes              2005         colt      0  \n",
       "354365      NaN              2005          NaN   2200  \n",
       "354366       no              2000       fortwo   1199  \n",
       "354367       no              1996  transporter   9200  \n",
       "354368      NaN              2002         golf   3400  \n",
       "\n",
       "[354369 rows x 10 columns]"
      ]
     },
     "metadata": {},
     "output_type": "display_data"
    }
   ],
   "source": [
    "sorted_data = data[['VehicleType', \n",
    "                'Gearbox', \n",
    "                'Power',\n",
    "                'Kilometer',\n",
    "                'FuelType',\n",
    "                'Brand',\n",
    "                'Repaired',\n",
    "                'RegistrationYear',\n",
    "                'Model',\n",
    "                'Price']]\n",
    "display(sorted_data)"
   ]
  },
  {
   "cell_type": "markdown",
   "metadata": {},
   "source": [
    "Категориальные признаки можно заполнить значениями, которые чаще всего встречаются в конкретном признаке - это для столбцов: Gearbox, Repaired.  \n",
    "А у столбца VehicleType(тип автомобильного кузова) пропущенные значения можно заполнить в зависимости от модели автомобиля(Model), либо от марки автомобиля(Brand) - пока не понимаю как правильно!  \n",
    "Для Model поставим глушилки - unknown, так как тут пропущенные значения никак не подставить.  \n",
    "FuelType столбец можно заполнить по популярному варианту из столбца Brand.\n",
    " "
   ]
  },
  {
   "cell_type": "markdown",
   "metadata": {},
   "source": [
    "Но сначала проверим есть ли 0 в столбце Price, если есть, то удаляем их."
   ]
  },
  {
   "cell_type": "code",
   "execution_count": 6,
   "metadata": {},
   "outputs": [
    {
     "data": {
      "text/plain": [
       "0        10772\n",
       "500       5670\n",
       "1500      5394\n",
       "1000      4649\n",
       "1200      4594\n",
       "         ...  \n",
       "13180        1\n",
       "10879        1\n",
       "2683         1\n",
       "634          1\n",
       "8188         1\n",
       "Name: Price, Length: 3731, dtype: int64"
      ]
     },
     "execution_count": 6,
     "metadata": {},
     "output_type": "execute_result"
    }
   ],
   "source": [
    "sorted_data['Price'].value_counts()"
   ]
  },
  {
   "cell_type": "code",
   "execution_count": 7,
   "metadata": {},
   "outputs": [
    {
     "data": {
      "text/plain": [
       "500      5670\n",
       "1500     5394\n",
       "1000     4649\n",
       "1200     4594\n",
       "2500     4438\n",
       "         ... \n",
       "5240        1\n",
       "13180       1\n",
       "10879       1\n",
       "2683        1\n",
       "8188        1\n",
       "Name: Price, Length: 3729, dtype: int64"
      ]
     },
     "execution_count": 7,
     "metadata": {},
     "output_type": "execute_result"
    }
   ],
   "source": [
    "sorted_data = sorted_data.query('Price > 1')\n",
    "sorted_data['Price'].value_counts()"
   ]
  },
  {
   "cell_type": "markdown",
   "metadata": {},
   "source": [
    "Далее заменим пропуски в столбцах."
   ]
  },
  {
   "cell_type": "code",
   "execution_count": 8,
   "metadata": {},
   "outputs": [
    {
     "name": "stdout",
     "output_type": "stream",
     "text": [
      "manual    0.801139\n",
      "auto      0.198861\n",
      "Name: Gearbox, dtype: float64\n"
     ]
    },
    {
     "data": {
      "text/plain": [
       "<AxesSubplot:>"
      ]
     },
     "execution_count": 8,
     "metadata": {},
     "output_type": "execute_result"
    },
    {
     "data": {
      "image/png": "[encoded data removed]",
      "text/plain": [
       "<Figure size 432x288 with 1 Axes>"
      ]
     },
     "metadata": {
      "needs_background": "light"
     },
     "output_type": "display_data"
    }
   ],
   "source": [
    "class_gearbox = sorted_data['Gearbox'].value_counts(normalize=True)\n",
    "print(class_gearbox)\n",
    "class_gearbox.plot(kind='bar')"
   ]
  },
  {
   "cell_type": "code",
   "execution_count": 9,
   "metadata": {},
   "outputs": [
    {
     "name": "stdout",
     "output_type": "stream",
     "text": [
      "no     0.878049\n",
      "yes    0.121951\n",
      "Name: Repaired, dtype: float64\n"
     ]
    },
    {
     "data": {
      "text/plain": [
       "<AxesSubplot:>"
      ]
     },
     "execution_count": 9,
     "metadata": {},
     "output_type": "execute_result"
    },
    {
     "data": {
      "image/png": "[encoded data removed]",
      "text/plain": [
       "<Figure size 432x288 with 1 Axes>"
      ]
     },
     "metadata": {
      "needs_background": "light"
     },
     "output_type": "display_data"
    }
   ],
   "source": [
    "class_repaired = sorted_data['Repaired'].value_counts(normalize=True)\n",
    "print(class_repaired)\n",
    "class_repaired.plot(kind='bar')"
   ]
  },
  {
   "cell_type": "code",
   "execution_count": 10,
   "metadata": {},
   "outputs": [
    {
     "data": {
      "text/plain": [
       "VehicleType         33282\n",
       "Gearbox                 0\n",
       "Power                   0\n",
       "Kilometer               0\n",
       "FuelType            29019\n",
       "Brand                   0\n",
       "Repaired                0\n",
       "RegistrationYear        0\n",
       "Model                   0\n",
       "Price                   0\n",
       "dtype: int64"
      ]
     },
     "execution_count": 10,
     "metadata": {},
     "output_type": "execute_result"
    }
   ],
   "source": [
    "sorted_data.fillna({'Gearbox':'manual', \n",
    "                           'Repaired':'no',\n",
    "                           'Model':'unknown'},\n",
    "                          inplace=True)\n",
    "sorted_data.isna().sum()"
   ]
  },
  {
   "cell_type": "markdown",
   "metadata": {},
   "source": [
    "Дальше пыталась заменить у VehicleType и у FuelType пропущенные значения в зависимости от модели, но как-то не разобралась. Заменила у этих столбцов пропуски просто самыми популярными значениями. "
   ]
  },
  {
   "cell_type": "code",
   "execution_count": 11,
   "metadata": {
    "scrolled": true
   },
   "outputs": [
    {
     "data": {
      "text/plain": [
       "sedan          122490\n",
       "small           77847\n",
       "wagon           63552\n",
       "bus             28283\n",
       "convertible     19828\n",
       "coupe           15578\n",
       "suv             11769\n",
       "other            3061\n",
       "Name: VehicleType, dtype: int64"
      ]
     },
     "metadata": {},
     "output_type": "display_data"
    },
    {
     "data": {
      "text/plain": [
       "petrol      239223\n",
       "gasoline     97001\n",
       "lpg           5155\n",
       "cng            552\n",
       "hybrid         226\n",
       "other          164\n",
       "electric        87\n",
       "Name: FuelType, dtype: int64"
      ]
     },
     "metadata": {},
     "output_type": "display_data"
    },
    {
     "data": {
      "text/plain": [
       "VehicleType         0\n",
       "Gearbox             0\n",
       "Power               0\n",
       "Kilometer           0\n",
       "FuelType            0\n",
       "Brand               0\n",
       "Repaired            0\n",
       "RegistrationYear    0\n",
       "Model               0\n",
       "Price               0\n",
       "dtype: int64"
      ]
     },
     "execution_count": 11,
     "metadata": {},
     "output_type": "execute_result"
    }
   ],
   "source": [
    "sorted_data['VehicleType'] = sorted_data['VehicleType'].fillna(sorted_data['VehicleType'].mode().values[0])\n",
    "sorted_data['FuelType'] = sorted_data['FuelType'].fillna(sorted_data['FuelType'].mode().values[0])\n",
    "\n",
    "display(sorted_data['VehicleType'].value_counts())\n",
    "display(sorted_data['FuelType'].value_counts())\n",
    "\n",
    "sorted_data.isna().sum()"
   ]
  },
  {
   "cell_type": "code",
   "execution_count": 12,
   "metadata": {},
   "outputs": [
    {
     "data": {
      "text/plain": [
       "54118"
      ]
     },
     "execution_count": 12,
     "metadata": {},
     "output_type": "execute_result"
    }
   ],
   "source": [
    "sorted_data.duplicated().sum()"
   ]
  },
  {
   "cell_type": "code",
   "execution_count": 13,
   "metadata": {
    "scrolled": true
   },
   "outputs": [
    {
     "name": "stdout",
     "output_type": "stream",
     "text": [
      "<class 'pandas.core.frame.DataFrame'>\n",
      "Int64Index: 342408 entries, 0 to 354368\n",
      "Data columns (total 10 columns):\n",
      " #   Column            Non-Null Count   Dtype \n",
      "---  ------            --------------   ----- \n",
      " 0   VehicleType       342408 non-null  object\n",
      " 1   Gearbox           342408 non-null  object\n",
      " 2   Power             342408 non-null  int64 \n",
      " 3   Kilometer         342408 non-null  int64 \n",
      " 4   FuelType          342408 non-null  object\n",
      " 5   Brand             342408 non-null  object\n",
      " 6   Repaired          342408 non-null  object\n",
      " 7   RegistrationYear  342408 non-null  int64 \n",
      " 8   Model             342408 non-null  object\n",
      " 9   Price             342408 non-null  int64 \n",
      "dtypes: int64(4), object(6)\n",
      "memory usage: 28.7+ MB\n"
     ]
    }
   ],
   "source": [
    "sorted_data.info()"
   ]
  },
  {
   "cell_type": "code",
   "execution_count": 14,
   "metadata": {},
   "outputs": [
    {
     "data": {
      "text/plain": [
       "0"
      ]
     },
     "execution_count": 14,
     "metadata": {},
     "output_type": "execute_result"
    }
   ],
   "source": [
    "sorted_data = sorted_data.drop_duplicates()\n",
    "sorted_data.duplicated().sum()"
   ]
  },
  {
   "cell_type": "code",
   "execution_count": 15,
   "metadata": {},
   "outputs": [
    {
     "name": "stdout",
     "output_type": "stream",
     "text": [
      "<class 'pandas.core.frame.DataFrame'>\n",
      "Int64Index: 288290 entries, 0 to 354368\n",
      "Data columns (total 10 columns):\n",
      " #   Column            Non-Null Count   Dtype \n",
      "---  ------            --------------   ----- \n",
      " 0   VehicleType       288290 non-null  object\n",
      " 1   Gearbox           288290 non-null  object\n",
      " 2   Power             288290 non-null  int64 \n",
      " 3   Kilometer         288290 non-null  int64 \n",
      " 4   FuelType          288290 non-null  object\n",
      " 5   Brand             288290 non-null  object\n",
      " 6   Repaired          288290 non-null  object\n",
      " 7   RegistrationYear  288290 non-null  int64 \n",
      " 8   Model             288290 non-null  object\n",
      " 9   Price             288290 non-null  int64 \n",
      "dtypes: int64(4), object(6)\n",
      "memory usage: 24.2+ MB\n"
     ]
    }
   ],
   "source": [
    "sorted_data.info()"
   ]
  },
  {
   "cell_type": "markdown",
   "metadata": {},
   "source": [
    "Теперь перейдем к аномалиям. "
   ]
  },
  {
   "cell_type": "code",
   "execution_count": 16,
   "metadata": {},
   "outputs": [
    {
     "data": {
      "text/html": [
       "<div>\n",
       "<style scoped>\n",
       "    .dataframe tbody tr th:only-of-type {\n",
       "        vertical-align: middle;\n",
       "    }\n",
       "\n",
       "    .dataframe tbody tr th {\n",
       "        vertical-align: top;\n",
       "    }\n",
       "\n",
       "    .dataframe thead th {\n",
       "        text-align: right;\n",
       "    }\n",
       "</style>\n",
       "<table border=\"1\" class=\"dataframe\">\n",
       "  <thead>\n",
       "    <tr style=\"text-align: right;\">\n",
       "      <th></th>\n",
       "      <th>Power</th>\n",
       "      <th>Kilometer</th>\n",
       "      <th>RegistrationYear</th>\n",
       "      <th>Price</th>\n",
       "    </tr>\n",
       "  </thead>\n",
       "  <tbody>\n",
       "    <tr>\n",
       "      <th>count</th>\n",
       "      <td>288290.000000</td>\n",
       "      <td>288290.000000</td>\n",
       "      <td>288290.000000</td>\n",
       "      <td>288290.000000</td>\n",
       "    </tr>\n",
       "    <tr>\n",
       "      <th>mean</th>\n",
       "      <td>112.746849</td>\n",
       "      <td>126803.114919</td>\n",
       "      <td>2004.295119</td>\n",
       "      <td>4711.045267</td>\n",
       "    </tr>\n",
       "    <tr>\n",
       "      <th>std</th>\n",
       "      <td>202.496531</td>\n",
       "      <td>38474.441513</td>\n",
       "      <td>83.184589</td>\n",
       "      <td>4592.544303</td>\n",
       "    </tr>\n",
       "    <tr>\n",
       "      <th>min</th>\n",
       "      <td>0.000000</td>\n",
       "      <td>5000.000000</td>\n",
       "      <td>1000.000000</td>\n",
       "      <td>2.000000</td>\n",
       "    </tr>\n",
       "    <tr>\n",
       "      <th>25%</th>\n",
       "      <td>71.000000</td>\n",
       "      <td>125000.000000</td>\n",
       "      <td>1999.000000</td>\n",
       "      <td>1250.000000</td>\n",
       "    </tr>\n",
       "    <tr>\n",
       "      <th>50%</th>\n",
       "      <td>105.000000</td>\n",
       "      <td>150000.000000</td>\n",
       "      <td>2003.000000</td>\n",
       "      <td>2999.000000</td>\n",
       "    </tr>\n",
       "    <tr>\n",
       "      <th>75%</th>\n",
       "      <td>143.000000</td>\n",
       "      <td>150000.000000</td>\n",
       "      <td>2008.000000</td>\n",
       "      <td>6800.000000</td>\n",
       "    </tr>\n",
       "    <tr>\n",
       "      <th>max</th>\n",
       "      <td>20000.000000</td>\n",
       "      <td>150000.000000</td>\n",
       "      <td>9999.000000</td>\n",
       "      <td>20000.000000</td>\n",
       "    </tr>\n",
       "  </tbody>\n",
       "</table>\n",
       "</div>"
      ],
      "text/plain": [
       "               Power      Kilometer  RegistrationYear          Price\n",
       "count  288290.000000  288290.000000     288290.000000  288290.000000\n",
       "mean      112.746849  126803.114919       2004.295119    4711.045267\n",
       "std       202.496531   38474.441513         83.184589    4592.544303\n",
       "min         0.000000    5000.000000       1000.000000       2.000000\n",
       "25%        71.000000  125000.000000       1999.000000    1250.000000\n",
       "50%       105.000000  150000.000000       2003.000000    2999.000000\n",
       "75%       143.000000  150000.000000       2008.000000    6800.000000\n",
       "max     20000.000000  150000.000000       9999.000000   20000.000000"
      ]
     },
     "execution_count": 16,
     "metadata": {},
     "output_type": "execute_result"
    }
   ],
   "source": [
    "sorted_data.describe()"
   ]
  },
  {
   "cell_type": "code",
   "execution_count": 17,
   "metadata": {},
   "outputs": [
    {
     "data": {
      "image/png": "[encoded data removed]",
      "text/plain": [
       "<Figure size 1440x720 with 4 Axes>"
      ]
     },
     "metadata": {
      "needs_background": "light"
     },
     "output_type": "display_data"
    }
   ],
   "source": [
    "sorted_data.hist(figsize=(20, 10), bins=100)\n",
    "plt.show()"
   ]
  },
  {
   "cell_type": "markdown",
   "metadata": {},
   "source": [
    "- столбец Power, сократим данные до 2000 л.с., разброс очень большой, также есть 0, что по логике не возможно.\n",
    "- столбец Kilometer, тут все хорошо, аномалий не видно. \n",
    "- столбец RegistrationYear, выбросы есть, надо обозначить интервал операясь на DateCreated (когда анкета создавалась).\n",
    "- столбец Price, видим высокое стандартное отклонение, что говорит о выбросах, тут тоже выберем интервал цен следуя логики."
   ]
  },
  {
   "cell_type": "code",
   "execution_count": 18,
   "metadata": {},
   "outputs": [
    {
     "data": {
      "text/plain": [
       "count    288179.000000\n",
       "mean        109.587742\n",
       "std          72.623382\n",
       "min           0.000000\n",
       "25%          71.000000\n",
       "50%         105.000000\n",
       "75%         143.000000\n",
       "max        2000.000000\n",
       "Name: Power, dtype: float64"
      ]
     },
     "execution_count": 18,
     "metadata": {},
     "output_type": "execute_result"
    },
    {
     "data": {
      "image/png": "[encoded data removed]",
      "text/plain": [
       "<Figure size 720x648 with 1 Axes>"
      ]
     },
     "metadata": {
      "needs_background": "light"
     },
     "output_type": "display_data"
    }
   ],
   "source": [
    "sorted_data = sorted_data.query('Power < 2001')\n",
    "sorted_data['Power'].hist(bins=100, figsize=(10,9))\n",
    "sorted_data['Power'].describe()"
   ]
  },
  {
   "cell_type": "markdown",
   "metadata": {},
   "source": [
    "Судя по грфику нам надо заключить Power в интервал от 0 < Power < 550 "
   ]
  },
  {
   "cell_type": "code",
   "execution_count": 19,
   "metadata": {},
   "outputs": [],
   "source": [
    "sorted_data = sorted_data.query('0 < Power < 551')"
   ]
  },
  {
   "cell_type": "markdown",
   "metadata": {},
   "source": [
    "Год регистрации автомобиля заключим в промежуток от 1900 года до 2016 года."
   ]
  },
  {
   "cell_type": "code",
   "execution_count": 20,
   "metadata": {},
   "outputs": [
    {
     "data": {
      "text/plain": [
       "Timestamp('2016-04-07 00:00:00')"
      ]
     },
     "execution_count": 20,
     "metadata": {},
     "output_type": "execute_result"
    }
   ],
   "source": [
    "date_time = pd.to_datetime(data['DateCreated'])\n",
    "date_time.max()"
   ]
  },
  {
   "cell_type": "code",
   "execution_count": 21,
   "metadata": {},
   "outputs": [
    {
     "data": {
      "text/plain": [
       "count    247889.000000\n",
       "mean       2002.923966\n",
       "std           6.732142\n",
       "min        1910.000000\n",
       "25%        1999.000000\n",
       "50%        2003.000000\n",
       "75%        2007.000000\n",
       "max        2016.000000\n",
       "Name: RegistrationYear, dtype: float64"
      ]
     },
     "execution_count": 21,
     "metadata": {},
     "output_type": "execute_result"
    },
    {
     "data": {
      "image/png": "[encoded data removed]",
      "text/plain": [
       "<Figure size 720x648 with 1 Axes>"
      ]
     },
     "metadata": {
      "needs_background": "light"
     },
     "output_type": "display_data"
    }
   ],
   "source": [
    "sorted_data = sorted_data.query('1899 < RegistrationYear < 2017')\n",
    "sorted_data['RegistrationYear'].hist(bins=100, figsize=(10,9))\n",
    "sorted_data['RegistrationYear'].describe()"
   ]
  },
  {
   "cell_type": "markdown",
   "metadata": {},
   "source": [
    "Судя по графику, видно что есть машины на ходу с 1960 года, тогда включим эти машины."
   ]
  },
  {
   "cell_type": "code",
   "execution_count": 22,
   "metadata": {},
   "outputs": [],
   "source": [
    "sorted_data = sorted_data.query('1959 < RegistrationYear < 2017')"
   ]
  },
  {
   "cell_type": "code",
   "execution_count": 23,
   "metadata": {},
   "outputs": [
    {
     "data": {
      "text/plain": [
       "count    247745.000000\n",
       "mean       5019.285071\n",
       "std        4684.772741\n",
       "min           2.000000\n",
       "25%        1400.000000\n",
       "50%        3390.000000\n",
       "75%        7299.000000\n",
       "max       20000.000000\n",
       "Name: Price, dtype: float64"
      ]
     },
     "execution_count": 23,
     "metadata": {},
     "output_type": "execute_result"
    },
    {
     "data": {
      "image/png": "[encoded data removed]",
      "text/plain": [
       "<Figure size 1080x504 with 1 Axes>"
      ]
     },
     "metadata": {
      "needs_background": "light"
     },
     "output_type": "display_data"
    }
   ],
   "source": [
    "sorted_data.boxplot(column='Price', figsize=(15,7))\n",
    "sorted_data['Price'].describe()"
   ]
  },
  {
   "cell_type": "code",
   "execution_count": 24,
   "metadata": {},
   "outputs": [
    {
     "data": {
      "text/plain": [
       "count    247243.000000\n",
       "mean       5029.357385\n",
       "std        4684.184818\n",
       "min         100.000000\n",
       "25%        1449.000000\n",
       "50%        3400.000000\n",
       "75%        7300.000000\n",
       "max       20000.000000\n",
       "Name: Price, dtype: float64"
      ]
     },
     "execution_count": 24,
     "metadata": {},
     "output_type": "execute_result"
    },
    {
     "data": {
      "image/png": "[encoded data removed]",
      "text/plain": [
       "<Figure size 1080x648 with 1 Axes>"
      ]
     },
     "metadata": {
      "needs_background": "light"
     },
     "output_type": "display_data"
    }
   ],
   "source": [
    "sorted_data = sorted_data.query('Price >= 100')\n",
    "sorted_data['Price'].hist(bins=50, figsize=(15,9))\n",
    "sorted_data['Price'].describe()"
   ]
  },
  {
   "cell_type": "markdown",
   "metadata": {},
   "source": [
    "Рассуждая логично я заключила Price в промежуток от 200 до 7500 евро."
   ]
  },
  {
   "cell_type": "code",
   "execution_count": 25,
   "metadata": {},
   "outputs": [
    {
     "data": {
      "image/png": "[encoded data removed]",
      "text/plain": [
       "<Figure size 1440x720 with 4 Axes>"
      ]
     },
     "metadata": {
      "needs_background": "light"
     },
     "output_type": "display_data"
    }
   ],
   "source": [
    "sorted_data.hist(figsize=(20, 10), bins=100)\n",
    "plt.show()"
   ]
  },
  {
   "cell_type": "code",
   "execution_count": 26,
   "metadata": {},
   "outputs": [
    {
     "name": "stdout",
     "output_type": "stream",
     "text": [
      "<class 'pandas.core.frame.DataFrame'>\n",
      "Int64Index: 247243 entries, 1 to 354368\n",
      "Data columns (total 10 columns):\n",
      " #   Column            Non-Null Count   Dtype \n",
      "---  ------            --------------   ----- \n",
      " 0   VehicleType       247243 non-null  object\n",
      " 1   Gearbox           247243 non-null  object\n",
      " 2   Power             247243 non-null  int64 \n",
      " 3   Kilometer         247243 non-null  int64 \n",
      " 4   FuelType          247243 non-null  object\n",
      " 5   Brand             247243 non-null  object\n",
      " 6   Repaired          247243 non-null  object\n",
      " 7   RegistrationYear  247243 non-null  int64 \n",
      " 8   Model             247243 non-null  object\n",
      " 9   Price             247243 non-null  int64 \n",
      "dtypes: int64(4), object(6)\n",
      "memory usage: 20.7+ MB\n"
     ]
    }
   ],
   "source": [
    "sorted_data.info()"
   ]
  },
  {
   "cell_type": "code",
   "execution_count": 27,
   "metadata": {},
   "outputs": [
    {
     "data": {
      "text/html": [
       "<div>\n",
       "<style scoped>\n",
       "    .dataframe tbody tr th:only-of-type {\n",
       "        vertical-align: middle;\n",
       "    }\n",
       "\n",
       "    .dataframe tbody tr th {\n",
       "        vertical-align: top;\n",
       "    }\n",
       "\n",
       "    .dataframe thead th {\n",
       "        text-align: right;\n",
       "    }\n",
       "</style>\n",
       "<table border=\"1\" class=\"dataframe\">\n",
       "  <thead>\n",
       "    <tr style=\"text-align: right;\">\n",
       "      <th></th>\n",
       "      <th>VehicleType</th>\n",
       "      <th>Gearbox</th>\n",
       "      <th>Power</th>\n",
       "      <th>Kilometer</th>\n",
       "      <th>FuelType</th>\n",
       "      <th>Brand</th>\n",
       "      <th>Repaired</th>\n",
       "      <th>RegistrationYear</th>\n",
       "      <th>Model</th>\n",
       "      <th>Price</th>\n",
       "    </tr>\n",
       "  </thead>\n",
       "  <tbody>\n",
       "    <tr>\n",
       "      <th>0</th>\n",
       "      <td>coupe</td>\n",
       "      <td>manual</td>\n",
       "      <td>190</td>\n",
       "      <td>125000</td>\n",
       "      <td>gasoline</td>\n",
       "      <td>audi</td>\n",
       "      <td>yes</td>\n",
       "      <td>2011</td>\n",
       "      <td>unknown</td>\n",
       "      <td>18300</td>\n",
       "    </tr>\n",
       "    <tr>\n",
       "      <th>1</th>\n",
       "      <td>suv</td>\n",
       "      <td>auto</td>\n",
       "      <td>163</td>\n",
       "      <td>125000</td>\n",
       "      <td>gasoline</td>\n",
       "      <td>jeep</td>\n",
       "      <td>no</td>\n",
       "      <td>2004</td>\n",
       "      <td>grand</td>\n",
       "      <td>9800</td>\n",
       "    </tr>\n",
       "    <tr>\n",
       "      <th>2</th>\n",
       "      <td>small</td>\n",
       "      <td>manual</td>\n",
       "      <td>75</td>\n",
       "      <td>150000</td>\n",
       "      <td>petrol</td>\n",
       "      <td>volkswagen</td>\n",
       "      <td>no</td>\n",
       "      <td>2001</td>\n",
       "      <td>golf</td>\n",
       "      <td>1500</td>\n",
       "    </tr>\n",
       "    <tr>\n",
       "      <th>3</th>\n",
       "      <td>small</td>\n",
       "      <td>manual</td>\n",
       "      <td>69</td>\n",
       "      <td>90000</td>\n",
       "      <td>gasoline</td>\n",
       "      <td>skoda</td>\n",
       "      <td>no</td>\n",
       "      <td>2008</td>\n",
       "      <td>fabia</td>\n",
       "      <td>3600</td>\n",
       "    </tr>\n",
       "    <tr>\n",
       "      <th>4</th>\n",
       "      <td>sedan</td>\n",
       "      <td>manual</td>\n",
       "      <td>102</td>\n",
       "      <td>150000</td>\n",
       "      <td>petrol</td>\n",
       "      <td>bmw</td>\n",
       "      <td>yes</td>\n",
       "      <td>1995</td>\n",
       "      <td>3er</td>\n",
       "      <td>650</td>\n",
       "    </tr>\n",
       "    <tr>\n",
       "      <th>...</th>\n",
       "      <td>...</td>\n",
       "      <td>...</td>\n",
       "      <td>...</td>\n",
       "      <td>...</td>\n",
       "      <td>...</td>\n",
       "      <td>...</td>\n",
       "      <td>...</td>\n",
       "      <td>...</td>\n",
       "      <td>...</td>\n",
       "      <td>...</td>\n",
       "    </tr>\n",
       "    <tr>\n",
       "      <th>247238</th>\n",
       "      <td>sedan</td>\n",
       "      <td>auto</td>\n",
       "      <td>150</td>\n",
       "      <td>150000</td>\n",
       "      <td>petrol</td>\n",
       "      <td>alfa_romeo</td>\n",
       "      <td>no</td>\n",
       "      <td>2016</td>\n",
       "      <td>159</td>\n",
       "      <td>5250</td>\n",
       "    </tr>\n",
       "    <tr>\n",
       "      <th>247239</th>\n",
       "      <td>sedan</td>\n",
       "      <td>manual</td>\n",
       "      <td>225</td>\n",
       "      <td>150000</td>\n",
       "      <td>petrol</td>\n",
       "      <td>seat</td>\n",
       "      <td>yes</td>\n",
       "      <td>2004</td>\n",
       "      <td>leon</td>\n",
       "      <td>3200</td>\n",
       "    </tr>\n",
       "    <tr>\n",
       "      <th>247240</th>\n",
       "      <td>convertible</td>\n",
       "      <td>auto</td>\n",
       "      <td>101</td>\n",
       "      <td>125000</td>\n",
       "      <td>petrol</td>\n",
       "      <td>smart</td>\n",
       "      <td>no</td>\n",
       "      <td>2000</td>\n",
       "      <td>fortwo</td>\n",
       "      <td>1199</td>\n",
       "    </tr>\n",
       "    <tr>\n",
       "      <th>247241</th>\n",
       "      <td>bus</td>\n",
       "      <td>manual</td>\n",
       "      <td>102</td>\n",
       "      <td>150000</td>\n",
       "      <td>gasoline</td>\n",
       "      <td>volkswagen</td>\n",
       "      <td>no</td>\n",
       "      <td>1996</td>\n",
       "      <td>transporter</td>\n",
       "      <td>9200</td>\n",
       "    </tr>\n",
       "    <tr>\n",
       "      <th>247242</th>\n",
       "      <td>wagon</td>\n",
       "      <td>manual</td>\n",
       "      <td>100</td>\n",
       "      <td>150000</td>\n",
       "      <td>gasoline</td>\n",
       "      <td>volkswagen</td>\n",
       "      <td>no</td>\n",
       "      <td>2002</td>\n",
       "      <td>golf</td>\n",
       "      <td>3400</td>\n",
       "    </tr>\n",
       "  </tbody>\n",
       "</table>\n",
       "<p>247243 rows × 10 columns</p>\n",
       "</div>"
      ],
      "text/plain": [
       "        VehicleType Gearbox  Power  Kilometer  FuelType       Brand Repaired  \\\n",
       "0             coupe  manual    190     125000  gasoline        audi      yes   \n",
       "1               suv    auto    163     125000  gasoline        jeep       no   \n",
       "2             small  manual     75     150000    petrol  volkswagen       no   \n",
       "3             small  manual     69      90000  gasoline       skoda       no   \n",
       "4             sedan  manual    102     150000    petrol         bmw      yes   \n",
       "...             ...     ...    ...        ...       ...         ...      ...   \n",
       "247238        sedan    auto    150     150000    petrol  alfa_romeo       no   \n",
       "247239        sedan  manual    225     150000    petrol        seat      yes   \n",
       "247240  convertible    auto    101     125000    petrol       smart       no   \n",
       "247241          bus  manual    102     150000  gasoline  volkswagen       no   \n",
       "247242        wagon  manual    100     150000  gasoline  volkswagen       no   \n",
       "\n",
       "        RegistrationYear        Model  Price  \n",
       "0                   2011      unknown  18300  \n",
       "1                   2004        grand   9800  \n",
       "2                   2001         golf   1500  \n",
       "3                   2008        fabia   3600  \n",
       "4                   1995          3er    650  \n",
       "...                  ...          ...    ...  \n",
       "247238              2016          159   5250  \n",
       "247239              2004         leon   3200  \n",
       "247240              2000       fortwo   1199  \n",
       "247241              1996  transporter   9200  \n",
       "247242              2002         golf   3400  \n",
       "\n",
       "[247243 rows x 10 columns]"
      ]
     },
     "metadata": {},
     "output_type": "display_data"
    }
   ],
   "source": [
    "sorted_data = sorted_data.reset_index(drop=True)\n",
    "display(sorted_data)"
   ]
  },
  {
   "cell_type": "code",
   "execution_count": 28,
   "metadata": {},
   "outputs": [
    {
     "data": {
      "text/plain": [
       "array(['manual', 'auto'], dtype=object)"
      ]
     },
     "execution_count": 28,
     "metadata": {},
     "output_type": "execute_result"
    }
   ],
   "source": [
    "sorted_data['Gearbox'].unique()"
   ]
  },
  {
   "cell_type": "code",
   "execution_count": 29,
   "metadata": {},
   "outputs": [
    {
     "data": {
      "text/plain": [
       "array(['yes', 'no'], dtype=object)"
      ]
     },
     "execution_count": 29,
     "metadata": {},
     "output_type": "execute_result"
    }
   ],
   "source": [
    "sorted_data['Repaired'].unique()"
   ]
  },
  {
   "cell_type": "markdown",
   "metadata": {},
   "source": [
    "Можно заменить у столбцов Gearbox и Repaired тип данных с object на bool. Тогда у Gearbox(тип коробки передач): 1(manual) - механическая коробка передач, 0(auto) - автоматическая. У Repaired(была машина в ремонте или нет): 1(yes) - машина была в ремонте, 0(no) - не была в ремонте. Для этого создадим два новых столбца ManualGearbox и NotRepaired. "
   ]
  },
  {
   "cell_type": "code",
   "execution_count": 30,
   "metadata": {},
   "outputs": [
    {
     "data": {
      "text/plain": [
       "1    195905\n",
       "0     51338\n",
       "Name: ManualGearbox, dtype: int64"
      ]
     },
     "metadata": {},
     "output_type": "display_data"
    },
    {
     "data": {
      "text/plain": [
       "manual    195905\n",
       "auto       51338\n",
       "Name: Gearbox, dtype: int64"
      ]
     },
     "execution_count": 30,
     "metadata": {},
     "output_type": "execute_result"
    }
   ],
   "source": [
    "sorted_data['ManualGearbox'] = 0\n",
    "sorted_data.loc[sorted_data['Gearbox'] == 'manual', 'ManualGearbox'] = 1\n",
    "\n",
    "display(sorted_data['ManualGearbox'].value_counts())\n",
    "sorted_data['Gearbox'].value_counts()"
   ]
  },
  {
   "cell_type": "code",
   "execution_count": 31,
   "metadata": {},
   "outputs": [
    {
     "data": {
      "text/plain": [
       "0    221101\n",
       "1     26142\n",
       "Name: NotRepaired, dtype: int64"
      ]
     },
     "metadata": {},
     "output_type": "display_data"
    },
    {
     "data": {
      "text/plain": [
       "0    221101\n",
       "1     26142\n",
       "Name: NotRepaired, dtype: int64"
      ]
     },
     "execution_count": 31,
     "metadata": {},
     "output_type": "execute_result"
    }
   ],
   "source": [
    "sorted_data['NotRepaired'] = 0\n",
    "sorted_data.loc[sorted_data['Repaired'] == 'yes', 'NotRepaired'] = 1\n",
    "\n",
    "display(sorted_data['NotRepaired'].value_counts())\n",
    "sorted_data['NotRepaired'].value_counts()"
   ]
  },
  {
   "cell_type": "code",
   "execution_count": 32,
   "metadata": {},
   "outputs": [
    {
     "data": {
      "text/html": [
       "<div>\n",
       "<style scoped>\n",
       "    .dataframe tbody tr th:only-of-type {\n",
       "        vertical-align: middle;\n",
       "    }\n",
       "\n",
       "    .dataframe tbody tr th {\n",
       "        vertical-align: top;\n",
       "    }\n",
       "\n",
       "    .dataframe thead th {\n",
       "        text-align: right;\n",
       "    }\n",
       "</style>\n",
       "<table border=\"1\" class=\"dataframe\">\n",
       "  <thead>\n",
       "    <tr style=\"text-align: right;\">\n",
       "      <th></th>\n",
       "      <th>VehicleType</th>\n",
       "      <th>Power</th>\n",
       "      <th>Kilometer</th>\n",
       "      <th>FuelType</th>\n",
       "      <th>Brand</th>\n",
       "      <th>RegistrationYear</th>\n",
       "      <th>Model</th>\n",
       "      <th>Price</th>\n",
       "      <th>ManualGearbox</th>\n",
       "      <th>NotRepaired</th>\n",
       "    </tr>\n",
       "  </thead>\n",
       "  <tbody>\n",
       "    <tr>\n",
       "      <th>0</th>\n",
       "      <td>coupe</td>\n",
       "      <td>190</td>\n",
       "      <td>125000</td>\n",
       "      <td>gasoline</td>\n",
       "      <td>audi</td>\n",
       "      <td>2011</td>\n",
       "      <td>unknown</td>\n",
       "      <td>18300</td>\n",
       "      <td>1</td>\n",
       "      <td>1</td>\n",
       "    </tr>\n",
       "    <tr>\n",
       "      <th>1</th>\n",
       "      <td>suv</td>\n",
       "      <td>163</td>\n",
       "      <td>125000</td>\n",
       "      <td>gasoline</td>\n",
       "      <td>jeep</td>\n",
       "      <td>2004</td>\n",
       "      <td>grand</td>\n",
       "      <td>9800</td>\n",
       "      <td>0</td>\n",
       "      <td>0</td>\n",
       "    </tr>\n",
       "    <tr>\n",
       "      <th>2</th>\n",
       "      <td>small</td>\n",
       "      <td>75</td>\n",
       "      <td>150000</td>\n",
       "      <td>petrol</td>\n",
       "      <td>volkswagen</td>\n",
       "      <td>2001</td>\n",
       "      <td>golf</td>\n",
       "      <td>1500</td>\n",
       "      <td>1</td>\n",
       "      <td>0</td>\n",
       "    </tr>\n",
       "    <tr>\n",
       "      <th>3</th>\n",
       "      <td>small</td>\n",
       "      <td>69</td>\n",
       "      <td>90000</td>\n",
       "      <td>gasoline</td>\n",
       "      <td>skoda</td>\n",
       "      <td>2008</td>\n",
       "      <td>fabia</td>\n",
       "      <td>3600</td>\n",
       "      <td>1</td>\n",
       "      <td>0</td>\n",
       "    </tr>\n",
       "    <tr>\n",
       "      <th>4</th>\n",
       "      <td>sedan</td>\n",
       "      <td>102</td>\n",
       "      <td>150000</td>\n",
       "      <td>petrol</td>\n",
       "      <td>bmw</td>\n",
       "      <td>1995</td>\n",
       "      <td>3er</td>\n",
       "      <td>650</td>\n",
       "      <td>1</td>\n",
       "      <td>1</td>\n",
       "    </tr>\n",
       "    <tr>\n",
       "      <th>...</th>\n",
       "      <td>...</td>\n",
       "      <td>...</td>\n",
       "      <td>...</td>\n",
       "      <td>...</td>\n",
       "      <td>...</td>\n",
       "      <td>...</td>\n",
       "      <td>...</td>\n",
       "      <td>...</td>\n",
       "      <td>...</td>\n",
       "      <td>...</td>\n",
       "    </tr>\n",
       "    <tr>\n",
       "      <th>247238</th>\n",
       "      <td>sedan</td>\n",
       "      <td>150</td>\n",
       "      <td>150000</td>\n",
       "      <td>petrol</td>\n",
       "      <td>alfa_romeo</td>\n",
       "      <td>2016</td>\n",
       "      <td>159</td>\n",
       "      <td>5250</td>\n",
       "      <td>0</td>\n",
       "      <td>0</td>\n",
       "    </tr>\n",
       "    <tr>\n",
       "      <th>247239</th>\n",
       "      <td>sedan</td>\n",
       "      <td>225</td>\n",
       "      <td>150000</td>\n",
       "      <td>petrol</td>\n",
       "      <td>seat</td>\n",
       "      <td>2004</td>\n",
       "      <td>leon</td>\n",
       "      <td>3200</td>\n",
       "      <td>1</td>\n",
       "      <td>1</td>\n",
       "    </tr>\n",
       "    <tr>\n",
       "      <th>247240</th>\n",
       "      <td>convertible</td>\n",
       "      <td>101</td>\n",
       "      <td>125000</td>\n",
       "      <td>petrol</td>\n",
       "      <td>smart</td>\n",
       "      <td>2000</td>\n",
       "      <td>fortwo</td>\n",
       "      <td>1199</td>\n",
       "      <td>0</td>\n",
       "      <td>0</td>\n",
       "    </tr>\n",
       "    <tr>\n",
       "      <th>247241</th>\n",
       "      <td>bus</td>\n",
       "      <td>102</td>\n",
       "      <td>150000</td>\n",
       "      <td>gasoline</td>\n",
       "      <td>volkswagen</td>\n",
       "      <td>1996</td>\n",
       "      <td>transporter</td>\n",
       "      <td>9200</td>\n",
       "      <td>1</td>\n",
       "      <td>0</td>\n",
       "    </tr>\n",
       "    <tr>\n",
       "      <th>247242</th>\n",
       "      <td>wagon</td>\n",
       "      <td>100</td>\n",
       "      <td>150000</td>\n",
       "      <td>gasoline</td>\n",
       "      <td>volkswagen</td>\n",
       "      <td>2002</td>\n",
       "      <td>golf</td>\n",
       "      <td>3400</td>\n",
       "      <td>1</td>\n",
       "      <td>0</td>\n",
       "    </tr>\n",
       "  </tbody>\n",
       "</table>\n",
       "<p>247243 rows × 10 columns</p>\n",
       "</div>"
      ],
      "text/plain": [
       "        VehicleType  Power  Kilometer  FuelType       Brand  RegistrationYear  \\\n",
       "0             coupe    190     125000  gasoline        audi              2011   \n",
       "1               suv    163     125000  gasoline        jeep              2004   \n",
       "2             small     75     150000    petrol  volkswagen              2001   \n",
       "3             small     69      90000  gasoline       skoda              2008   \n",
       "4             sedan    102     150000    petrol         bmw              1995   \n",
       "...             ...    ...        ...       ...         ...               ...   \n",
       "247238        sedan    150     150000    petrol  alfa_romeo              2016   \n",
       "247239        sedan    225     150000    petrol        seat              2004   \n",
       "247240  convertible    101     125000    petrol       smart              2000   \n",
       "247241          bus    102     150000  gasoline  volkswagen              1996   \n",
       "247242        wagon    100     150000  gasoline  volkswagen              2002   \n",
       "\n",
       "              Model  Price  ManualGearbox  NotRepaired  \n",
       "0           unknown  18300              1            1  \n",
       "1             grand   9800              0            0  \n",
       "2              golf   1500              1            0  \n",
       "3             fabia   3600              1            0  \n",
       "4               3er    650              1            1  \n",
       "...             ...    ...            ...          ...  \n",
       "247238          159   5250              0            0  \n",
       "247239         leon   3200              1            1  \n",
       "247240       fortwo   1199              0            0  \n",
       "247241  transporter   9200              1            0  \n",
       "247242         golf   3400              1            0  \n",
       "\n",
       "[247243 rows x 10 columns]"
      ]
     },
     "metadata": {},
     "output_type": "display_data"
    }
   ],
   "source": [
    "sorted_data.drop(['Repaired','Gearbox'], inplace=True, axis=1)\n",
    "display(sorted_data)"
   ]
  },
  {
   "cell_type": "markdown",
   "metadata": {},
   "source": [
    "Далее применим OrdinalEncoder (для деревянных моделей), One-Hot Encoding (для линейных модели и деревянных), чтобы преобразовать категориальные признаки. Для этого создадим три отдельных типа признаков. "
   ]
  },
  {
   "cell_type": "code",
   "execution_count": 34,
   "metadata": {},
   "outputs": [],
   "source": [
    "# Признаки без изменений \n",
    "features = sorted_data.drop('Price', axis=1)\n",
    "\n",
    "# Целевой признак \n",
    "target = sorted_data['Price']\n",
    "\n",
    "# Разделение на выборки\n",
    "features_train, features_test, target_train, target_test = train_test_split(\n",
    "    features, target, test_size=0.25, random_state=12345)\n"
   ]
  },
  {
   "cell_type": "code",
   "execution_count": 35,
   "metadata": {},
   "outputs": [],
   "source": [
    "#OHE - прямое кодирование\n",
    "features_ohe = pd.get_dummies(features, drop_first=True)"
   ]
  },
  {
   "cell_type": "code",
   "execution_count": 36,
   "metadata": {},
   "outputs": [],
   "source": [
    "features_ohe_train, features_ohe_test, target_train, target_test = train_test_split(\n",
    "    features_ohe, target, test_size=0.25, random_state=12345)"
   ]
  },
  {
   "cell_type": "code",
   "execution_count": 37,
   "metadata": {},
   "outputs": [
    {
     "name": "stdout",
     "output_type": "stream",
     "text": [
      "(185432, 9)\n",
      "(61811, 9)\n"
     ]
    }
   ],
   "source": [
    "print(features_train.shape)\n",
    "print(features_test.shape)"
   ]
  },
  {
   "cell_type": "code",
   "execution_count": 38,
   "metadata": {},
   "outputs": [
    {
     "name": "stdout",
     "output_type": "stream",
     "text": [
      "(61811, 306)\n",
      "(185432, 306)\n",
      "(247243, 306)\n"
     ]
    }
   ],
   "source": [
    "print(features_ohe_test.shape)\n",
    "print(features_ohe_train.shape)\n",
    "print(features_ohe.shape)"
   ]
  },
  {
   "cell_type": "code",
   "execution_count": 41,
   "metadata": {},
   "outputs": [],
   "source": [
    "ordinal_features_train = features_train.copy()\n",
    "ordinal_features_test = features_test.copy()\n",
    "\n",
    "encoder = OrdinalEncoder(handle_unknown='use_encoded_value', unknown_value=-1)\n",
    "encoder_columns = ['VehicleType','FuelType','Brand','Model']\n",
    "encoder.fit(features_train[encoder_columns])\n",
    "\n",
    "ordinal_features_train[encoder_columns] = encoder.transform(ordinal_features_train[encoder_columns])\n",
    "ordinal_features_test[encoder_columns] = encoder.transform(ordinal_features_test[encoder_columns])"
   ]
  },
  {
   "cell_type": "code",
   "execution_count": 42,
   "metadata": {},
   "outputs": [
    {
     "name": "stdout",
     "output_type": "stream",
     "text": [
      "(185432, 9)\n",
      "(61811, 9)\n"
     ]
    }
   ],
   "source": [
    "print(ordinal_features_train.shape)\n",
    "print(ordinal_features_test.shape)"
   ]
  },
  {
   "cell_type": "code",
   "execution_count": 43,
   "metadata": {},
   "outputs": [
    {
     "data": {
      "text/html": [
       "<div>\n",
       "<style scoped>\n",
       "    .dataframe tbody tr th:only-of-type {\n",
       "        vertical-align: middle;\n",
       "    }\n",
       "\n",
       "    .dataframe tbody tr th {\n",
       "        vertical-align: top;\n",
       "    }\n",
       "\n",
       "    .dataframe thead th {\n",
       "        text-align: right;\n",
       "    }\n",
       "</style>\n",
       "<table border=\"1\" class=\"dataframe\">\n",
       "  <thead>\n",
       "    <tr style=\"text-align: right;\">\n",
       "      <th></th>\n",
       "      <th>VehicleType</th>\n",
       "      <th>Power</th>\n",
       "      <th>Kilometer</th>\n",
       "      <th>FuelType</th>\n",
       "      <th>Brand</th>\n",
       "      <th>RegistrationYear</th>\n",
       "      <th>Model</th>\n",
       "      <th>ManualGearbox</th>\n",
       "      <th>NotRepaired</th>\n",
       "    </tr>\n",
       "  </thead>\n",
       "  <tbody>\n",
       "    <tr>\n",
       "      <th>242734</th>\n",
       "      <td>4.0</td>\n",
       "      <td>55</td>\n",
       "      <td>150000</td>\n",
       "      <td>6.0</td>\n",
       "      <td>24.0</td>\n",
       "      <td>2016</td>\n",
       "      <td>42.0</td>\n",
       "      <td>1</td>\n",
       "      <td>1</td>\n",
       "    </tr>\n",
       "    <tr>\n",
       "      <th>52399</th>\n",
       "      <td>7.0</td>\n",
       "      <td>110</td>\n",
       "      <td>150000</td>\n",
       "      <td>6.0</td>\n",
       "      <td>38.0</td>\n",
       "      <td>2002</td>\n",
       "      <td>116.0</td>\n",
       "      <td>1</td>\n",
       "      <td>0</td>\n",
       "    </tr>\n",
       "    <tr>\n",
       "      <th>116865</th>\n",
       "      <td>4.0</td>\n",
       "      <td>75</td>\n",
       "      <td>5000</td>\n",
       "      <td>6.0</td>\n",
       "      <td>10.0</td>\n",
       "      <td>2016</td>\n",
       "      <td>102.0</td>\n",
       "      <td>1</td>\n",
       "      <td>0</td>\n",
       "    </tr>\n",
       "    <tr>\n",
       "      <th>235477</th>\n",
       "      <td>2.0</td>\n",
       "      <td>190</td>\n",
       "      <td>150000</td>\n",
       "      <td>2.0</td>\n",
       "      <td>1.0</td>\n",
       "      <td>2010</td>\n",
       "      <td>30.0</td>\n",
       "      <td>0</td>\n",
       "      <td>0</td>\n",
       "    </tr>\n",
       "    <tr>\n",
       "      <th>193704</th>\n",
       "      <td>7.0</td>\n",
       "      <td>116</td>\n",
       "      <td>150000</td>\n",
       "      <td>6.0</td>\n",
       "      <td>38.0</td>\n",
       "      <td>2001</td>\n",
       "      <td>170.0</td>\n",
       "      <td>1</td>\n",
       "      <td>0</td>\n",
       "    </tr>\n",
       "    <tr>\n",
       "      <th>...</th>\n",
       "      <td>...</td>\n",
       "      <td>...</td>\n",
       "      <td>...</td>\n",
       "      <td>...</td>\n",
       "      <td>...</td>\n",
       "      <td>...</td>\n",
       "      <td>...</td>\n",
       "      <td>...</td>\n",
       "      <td>...</td>\n",
       "    </tr>\n",
       "    <tr>\n",
       "      <th>85412</th>\n",
       "      <td>5.0</td>\n",
       "      <td>58</td>\n",
       "      <td>125000</td>\n",
       "      <td>6.0</td>\n",
       "      <td>27.0</td>\n",
       "      <td>1999</td>\n",
       "      <td>225.0</td>\n",
       "      <td>1</td>\n",
       "      <td>0</td>\n",
       "    </tr>\n",
       "    <tr>\n",
       "      <th>133249</th>\n",
       "      <td>7.0</td>\n",
       "      <td>231</td>\n",
       "      <td>150000</td>\n",
       "      <td>6.0</td>\n",
       "      <td>2.0</td>\n",
       "      <td>2004</td>\n",
       "      <td>11.0</td>\n",
       "      <td>1</td>\n",
       "      <td>0</td>\n",
       "    </tr>\n",
       "    <tr>\n",
       "      <th>130333</th>\n",
       "      <td>5.0</td>\n",
       "      <td>60</td>\n",
       "      <td>150000</td>\n",
       "      <td>6.0</td>\n",
       "      <td>38.0</td>\n",
       "      <td>2011</td>\n",
       "      <td>107.0</td>\n",
       "      <td>1</td>\n",
       "      <td>0</td>\n",
       "    </tr>\n",
       "    <tr>\n",
       "      <th>77285</th>\n",
       "      <td>7.0</td>\n",
       "      <td>193</td>\n",
       "      <td>150000</td>\n",
       "      <td>2.0</td>\n",
       "      <td>2.0</td>\n",
       "      <td>2002</td>\n",
       "      <td>15.0</td>\n",
       "      <td>0</td>\n",
       "      <td>0</td>\n",
       "    </tr>\n",
       "    <tr>\n",
       "      <th>217570</th>\n",
       "      <td>4.0</td>\n",
       "      <td>140</td>\n",
       "      <td>150000</td>\n",
       "      <td>2.0</td>\n",
       "      <td>1.0</td>\n",
       "      <td>2005</td>\n",
       "      <td>28.0</td>\n",
       "      <td>0</td>\n",
       "      <td>0</td>\n",
       "    </tr>\n",
       "  </tbody>\n",
       "</table>\n",
       "<p>185432 rows × 9 columns</p>\n",
       "</div>"
      ],
      "text/plain": [
       "        VehicleType  Power  Kilometer  FuelType  Brand  RegistrationYear  \\\n",
       "242734          4.0     55     150000       6.0   24.0              2016   \n",
       "52399           7.0    110     150000       6.0   38.0              2002   \n",
       "116865          4.0     75       5000       6.0   10.0              2016   \n",
       "235477          2.0    190     150000       2.0    1.0              2010   \n",
       "193704          7.0    116     150000       6.0   38.0              2001   \n",
       "...             ...    ...        ...       ...    ...               ...   \n",
       "85412           5.0     58     125000       6.0   27.0              1999   \n",
       "133249          7.0    231     150000       6.0    2.0              2004   \n",
       "130333          5.0     60     150000       6.0   38.0              2011   \n",
       "77285           7.0    193     150000       2.0    2.0              2002   \n",
       "217570          4.0    140     150000       2.0    1.0              2005   \n",
       "\n",
       "        Model  ManualGearbox  NotRepaired  \n",
       "242734   42.0              1            1  \n",
       "52399   116.0              1            0  \n",
       "116865  102.0              1            0  \n",
       "235477   30.0              0            0  \n",
       "193704  170.0              1            0  \n",
       "...       ...            ...          ...  \n",
       "85412   225.0              1            0  \n",
       "133249   11.0              1            0  \n",
       "130333  107.0              1            0  \n",
       "77285    15.0              0            0  \n",
       "217570   28.0              0            0  \n",
       "\n",
       "[185432 rows x 9 columns]"
      ]
     },
     "metadata": {},
     "output_type": "display_data"
    }
   ],
   "source": [
    "display(ordinal_features_train)"
   ]
  },
  {
   "cell_type": "markdown",
   "metadata": {},
   "source": [
    "## Обучение моделей"
   ]
  },
  {
   "cell_type": "markdown",
   "metadata": {},
   "source": [
    "Возьмем такие модели:  \n",
    "- Линейная регрессия (LinearRegression)\n",
    "- Дерево регрессии (DecisionTreeRegressor)  \n",
    "- LightGBM Regressor \n",
    "- CatBoostRegressor"
   ]
  },
  {
   "cell_type": "markdown",
   "metadata": {},
   "source": [
    "**Линейная регрессия**"
   ]
  },
  {
   "cell_type": "code",
   "execution_count": 44,
   "metadata": {},
   "outputs": [
    {
     "name": "stdout",
     "output_type": "stream",
     "text": [
      "RMSE логистической регресси = 2682.7951718831728\n",
      "CPU times: user 47.8 s, sys: 18.9 s, total: 1min 6s\n",
      "Wall time: 1min 6s\n"
     ]
    }
   ],
   "source": [
    "%%time\n",
    "\n",
    "#без масштабирования признаков\n",
    "LR = LinearRegression()\n",
    "#model.fit(features_ohe_train, target_train)\n",
    "LR_scores = cross_val_score(LR, features_ohe_train, target_train, cv=5, scoring='neg_mean_squared_error', n_jobs = -1)\n",
    "LR_final_score = np.mean(np.sqrt(np.abs(LR_scores)))\n",
    "print('RMSE логистической регресси =', LR_final_score)"
   ]
  },
  {
   "cell_type": "code",
   "execution_count": 45,
   "metadata": {},
   "outputs": [
    {
     "name": "stdout",
     "output_type": "stream",
     "text": [
      "RMSE логистической регресси, с масштабируемыми признаками = 25142766.194575302\n",
      "CPU times: user 52 s, sys: 19.1 s, total: 1min 11s\n",
      "Wall time: 1min 11s\n"
     ]
    }
   ],
   "source": [
    "%%time\n",
    "\n",
    "#Промасштабируем признаки\n",
    "scaler_train = StandardScaler()\n",
    "scaler_train.fit(features_ohe_train)\n",
    "features_ohe_train_scale = scaler_train.transform(features_ohe_train)\n",
    "\n",
    "LR_scores = cross_val_score(LR, features_ohe_train_scale, target_train, cv=5, scoring='neg_mean_squared_error', n_jobs = -1)\n",
    "LR_final_score_scale = np.mean(np.sqrt(np.abs(LR_scores)))\n",
    "print('RMSE логистической регресси, с масштабируемыми признаками =', LR_final_score_scale)"
   ]
  },
  {
   "cell_type": "markdown",
   "metadata": {},
   "source": [
    "Выходит, что при масштабировании признаков метрика RMSE ухудшилась, значит такой метод нам не подходит. "
   ]
  },
  {
   "cell_type": "markdown",
   "metadata": {},
   "source": [
    "**Дерево регрессии**"
   ]
  },
  {
   "cell_type": "markdown",
   "metadata": {},
   "source": [
    "Здесь попробуем проверить модели на OE и OHE преобразованных признаках. "
   ]
  },
  {
   "cell_type": "code",
   "execution_count": 46,
   "metadata": {},
   "outputs": [
    {
     "name": "stdout",
     "output_type": "stream",
     "text": [
      "{'max_depth': 16}\n",
      "CPU times: user 7min 37s, sys: 33.5 s, total: 8min 11s\n",
      "Wall time: 8min 11s\n"
     ]
    }
   ],
   "source": [
    "%%time\n",
    "\n",
    "#OHE\n",
    " \n",
    "#подберем лучшую модель используя GridSearchCV\n",
    "model = DecisionTreeRegressor(random_state=12345)\n",
    "param = [{'max_depth': range(1,31)}]\n",
    "grid = GridSearchCV(model, param, cv=5, scoring='neg_mean_squared_error')\n",
    "grid.fit(features_ohe_train, target_train) \n",
    "print(grid.best_params_)"
   ]
  },
  {
   "cell_type": "code",
   "execution_count": 47,
   "metadata": {},
   "outputs": [
    {
     "name": "stdout",
     "output_type": "stream",
     "text": [
      "RMSE дерева регрессии OHE = 1924.3483787481232\n",
      "CPU times: user 17.1 s, sys: 1.1 s, total: 18.2 s\n",
      "Wall time: 18.2 s\n"
     ]
    }
   ],
   "source": [
    "%%time\n",
    "model = DecisionTreeRegressor(random_state=12345, max_depth = 15)\n",
    "#model.fit(features_ohe_train, target_train)\n",
    "DT_scores = cross_val_score(model, features_ohe_train, target_train, cv=5, scoring='neg_mean_squared_error', n_jobs = -1)\n",
    "DT_final_score_OHE = np.mean(np.sqrt(np.abs(DT_scores)))\n",
    "print('RMSE дерева регрессии OHE =', DT_final_score_OHE)"
   ]
  },
  {
   "cell_type": "code",
   "execution_count": 48,
   "metadata": {},
   "outputs": [
    {
     "name": "stdout",
     "output_type": "stream",
     "text": [
      "{'max_depth': 14}\n",
      "CPU times: user 56.5 s, sys: 317 ms, total: 56.8 s\n",
      "Wall time: 56.8 s\n"
     ]
    }
   ],
   "source": [
    "%%time\n",
    "\n",
    "#OE\n",
    "\n",
    "#подберем лучшую модель используя GridSearchCV\n",
    "DT = DecisionTreeRegressor(random_state=12345)\n",
    "param = [{'max_depth': range(1,31)}]\n",
    "grid = GridSearchCV(DT, param, cv=5, scoring='neg_mean_squared_error')\n",
    "grid.fit(ordinal_features_train, target_train) \n",
    "print(grid.best_params_)"
   ]
  },
  {
   "cell_type": "code",
   "execution_count": 49,
   "metadata": {},
   "outputs": [
    {
     "name": "stdout",
     "output_type": "stream",
     "text": [
      "RMSE дерева регрессии OE = 1940.7305307954339\n",
      "CPU times: user 1.87 s, sys: 33.7 ms, total: 1.9 s\n",
      "Wall time: 1.91 s\n"
     ]
    }
   ],
   "source": [
    "%%time\n",
    "DT = DecisionTreeRegressor(random_state=12345, max_depth = 14)\n",
    "DT_scores = cross_val_score(DT, ordinal_features_train, target_train, cv=5, scoring='neg_mean_squared_error', n_jobs = -1)\n",
    "DT_final_score_OE = np.mean(np.sqrt(np.abs(DT_scores)))\n",
    "print('RMSE дерева регрессии OE =', DT_final_score_OE)"
   ]
  },
  {
   "cell_type": "markdown",
   "metadata": {},
   "source": [
    "Для дерева регрессии, у которого признаки закодированны прямым кодированием, RMSE равно 1083, а у другого дерева, для которого применили порядковое кодирование, метрика RMSE равно 1089, результаты похожи."
   ]
  },
  {
   "cell_type": "markdown",
   "metadata": {},
   "source": [
    "**LightGBM Regressor**"
   ]
  },
  {
   "cell_type": "code",
   "execution_count": 50,
   "metadata": {},
   "outputs": [
    {
     "name": "stdout",
     "output_type": "stream",
     "text": [
      "RMSE LightGBM = 1721.6125200644383\n",
      "CPU times: user 14.2 s, sys: 0 ns, total: 14.2 s\n",
      "Wall time: 14.3 s\n"
     ]
    }
   ],
   "source": [
    "%%time\n",
    "LGBM = LGBMRegressor(random_state=12343, max_depth= 4, learning_rate= 0.5 , num_leaves= 31)\n",
    "LGBM_scores = cross_val_score(LGBM, ordinal_features_train, target_train, scoring='neg_mean_squared_error', n_jobs = -1)\n",
    "LGMB_final_score = np.mean(np.sqrt(np.abs(LGBM_scores)))\n",
    "print('RMSE LightGBM =', LGMB_final_score)"
   ]
  },
  {
   "cell_type": "markdown",
   "metadata": {},
   "source": [
    "**CatBoostRegressor**"
   ]
  },
  {
   "cell_type": "code",
   "execution_count": 51,
   "metadata": {},
   "outputs": [
    {
     "name": "stdout",
     "output_type": "stream",
     "text": [
      "RMSE CatBoostRegressor = 1654.762434302795\n",
      "CPU times: user 1min 49s, sys: 988 ms, total: 1min 50s\n",
      "Wall time: 1min 53s\n"
     ]
    }
   ],
   "source": [
    "%%time\n",
    "CBR = CatBoostRegressor(learning_rate=0.5,\n",
    "                              iterations = 200,\n",
    "                              random_state=12343, \n",
    "                              verbose=False, \n",
    "                              cat_features=['VehicleType','FuelType','Brand','Model']) \n",
    "\n",
    "CBR_scores = cross_val_score(CBR,\n",
    "                                features_train, \n",
    "                                target_train, \n",
    "                                cv=5, \n",
    "                                scoring='neg_mean_squared_error', \n",
    "                                n_jobs = -1)\n",
    "\n",
    "CBR_final_score = np.mean(np.sqrt(np.abs(CBR_scores)))\n",
    "print('RMSE CatBoostRegressor =', CBR_final_score)\n",
    "\n"
   ]
  },
  {
   "cell_type": "markdown",
   "metadata": {},
   "source": [
    "## Анализ моделей"
   ]
  },
  {
   "cell_type": "markdown",
   "metadata": {},
   "source": [
    "Проанализируйте время обучения, время предсказания и качество моделей. Опираясь на критерии заказчика, выберете лучшую модель, проверьте её качество на тестовой выборке."
   ]
  },
  {
   "cell_type": "markdown",
   "metadata": {},
   "source": [
    "**Линейная регрессия**"
   ]
  },
  {
   "cell_type": "code",
   "execution_count": 52,
   "metadata": {},
   "outputs": [
    {
     "name": "stdout",
     "output_type": "stream",
     "text": [
      "CPU times: user 13.2 s, sys: 8.22 s, total: 21.5 s\n",
      "Wall time: 21.7 s\n"
     ]
    },
    {
     "data": {
      "text/plain": [
       "LinearRegression()"
      ]
     },
     "execution_count": 52,
     "metadata": {},
     "output_type": "execute_result"
    }
   ],
   "source": [
    "%%time\n",
    "model = LinearRegression()\n",
    "model.fit(features_ohe_train, target_train)"
   ]
  },
  {
   "cell_type": "code",
   "execution_count": 53,
   "metadata": {},
   "outputs": [
    {
     "name": "stdout",
     "output_type": "stream",
     "text": [
      "CPU times: user 274 ms, sys: 279 ms, total: 553 ms\n",
      "Wall time: 590 ms\n"
     ]
    }
   ],
   "source": [
    "%%time\n",
    "target_predict = model.predict(features_ohe_train)"
   ]
  },
  {
   "cell_type": "code",
   "execution_count": 54,
   "metadata": {},
   "outputs": [
    {
     "name": "stdout",
     "output_type": "stream",
     "text": [
      "RMSE на тестовой выборке логстической регрессии = 2676.698104143083\n",
      "CPU times: user 16.9 ms, sys: 1.82 ms, total: 18.7 ms\n",
      "Wall time: 2.59 ms\n"
     ]
    }
   ],
   "source": [
    "%%time\n",
    "final_LR = mean_squared_error(target_train, target_predict) ** 0.5\n",
    "print('RMSE на train логстической регрессии =', final_LR)"
   ]
  },
  {
   "cell_type": "markdown",
   "metadata": {},
   "source": [
    "**Дерево регресии**"
   ]
  },
  {
   "cell_type": "code",
   "execution_count": 55,
   "metadata": {
    "scrolled": false
   },
   "outputs": [
    {
     "name": "stdout",
     "output_type": "stream",
     "text": [
      "RMSE дерева регрессий на тесте = 1503.2841130744148\n",
      "CPU times: user 2.39 s, sys: 11.1 ms, total: 2.4 s\n",
      "Wall time: 2.41 s\n"
     ]
    },
    {
     "data": {
      "text/plain": [
       "{'mean_fit_time': array([0.3697041]),\n",
       " 'std_fit_time': array([0.01331478]),\n",
       " 'mean_score_time': array([0.00996099]),\n",
       " 'std_score_time': array([0.00065298]),\n",
       " 'param_max_depth': masked_array(data=[14],\n",
       "              mask=[False],\n",
       "        fill_value='?',\n",
       "             dtype=object),\n",
       " 'params': [{'max_depth': 14}],\n",
       " 'split0_test_score': array([0.83095258]),\n",
       " 'split1_test_score': array([0.82862214]),\n",
       " 'split2_test_score': array([0.83083553]),\n",
       " 'split3_test_score': array([0.8271673]),\n",
       " 'split4_test_score': array([0.82437044]),\n",
       " 'mean_test_score': array([0.8283896]),\n",
       " 'std_test_score': array([0.00245981]),\n",
       " 'rank_test_score': array([1], dtype=int32)}"
      ]
     },
     "execution_count": 55,
     "metadata": {},
     "output_type": "execute_result"
    }
   ],
   "source": [
    "%%time\n",
    "model = DecisionTreeRegressor()\n",
    "param = [{'max_depth': [14]}]\n",
    "grid = GridSearchCV(model, param, cv=5)\n",
    "grid.fit(ordinal_features_train, target_train)\n",
    "target_predict = grid.predict(ordinal_features_train)\n",
    "final_DT = mean_squared_error(target_train, target_predict) ** 0.5\n",
    "print('RMSE дерева регрессий на train =', final_DT)\n",
    "grid.cv_results_"
   ]
  },
  {
   "cell_type": "markdown",
   "metadata": {},
   "source": [
    "**LightGBM Regressor**"
   ]
  },
  {
   "cell_type": "code",
   "execution_count": 58,
   "metadata": {
    "scrolled": true
   },
   "outputs": [
    {
     "name": "stdout",
     "output_type": "stream",
     "text": [
      "RMSE LightGBM регрессора на тесте = 1672.2848879155927\n",
      "CPU times: user 11.4 s, sys: 0 ns, total: 11.4 s\n",
      "Wall time: 11.4 s\n"
     ]
    },
    {
     "data": {
      "text/plain": [
       "{'mean_fit_time': array([2.01925937]),\n",
       " 'std_fit_time': array([0.13398129]),\n",
       " 'mean_score_time': array([0.40486519]),\n",
       " 'std_score_time': array([0.00490475]),\n",
       " 'param_learning_rate': masked_array(data=[0.5],\n",
       "              mask=[False],\n",
       "        fill_value='?',\n",
       "             dtype=object),\n",
       " 'param_max_depth': masked_array(data=[4],\n",
       "              mask=[False],\n",
       "        fill_value='?',\n",
       "             dtype=object),\n",
       " 'param_num_leaves': masked_array(data=[31],\n",
       "              mask=[False],\n",
       "        fill_value='?',\n",
       "             dtype=object),\n",
       " 'params': [{'learning_rate': 0.5, 'max_depth': 4, 'num_leaves': 31}],\n",
       " 'split0_test_score': array([0.86478793]),\n",
       " 'split1_test_score': array([0.86682796]),\n",
       " 'split2_test_score': array([0.8633229]),\n",
       " 'mean_test_score': array([0.8649796]),\n",
       " 'std_test_score': array([0.00143734]),\n",
       " 'rank_test_score': array([1], dtype=int32)}"
      ]
     },
     "execution_count": 58,
     "metadata": {},
     "output_type": "execute_result"
    }
   ],
   "source": [
    "%%time\n",
    "model = LGBMRegressor()\n",
    "param = [{'max_depth': [4], 'learning_rate': [0.5], 'num_leaves':[31]}]\n",
    "grid = GridSearchCV(model, param, cv=3)\n",
    "grid.fit(ordinal_features_train, target_train)\n",
    "target_predict = grid.predict(ordinal_features_train)\n",
    "final_LGBMR = mean_squared_error(target_train, target_predict) ** 0.5\n",
    "print('RMSE LightGBM регрессора на train =', final_LGBMR)\n",
    "grid.cv_results_"
   ]
  },
  {
   "cell_type": "markdown",
   "metadata": {},
   "source": [
    "**CatBoostRegressor**"
   ]
  },
  {
   "cell_type": "code",
   "execution_count": 59,
   "metadata": {},
   "outputs": [
    {
     "name": "stdout",
     "output_type": "stream",
     "text": [
      "0:\tlearn: 3353.7375506\ttotal: 19ms\tremaining: 3.79s\n",
      "1:\tlearn: 2711.7631278\ttotal: 39.4ms\tremaining: 3.9s\n",
      "2:\tlearn: 2424.9271684\ttotal: 60.8ms\tremaining: 3.99s\n",
      "3:\tlearn: 2269.3546326\ttotal: 79.7ms\tremaining: 3.91s\n",
      "4:\tlearn: 2171.0443147\ttotal: 98.4ms\tremaining: 3.84s\n",
      "5:\tlearn: 2118.7804150\ttotal: 117ms\tremaining: 3.79s\n",
      "6:\tlearn: 2080.6968114\ttotal: 135ms\tremaining: 3.73s\n",
      "7:\tlearn: 2054.3037131\ttotal: 153ms\tremaining: 3.68s\n",
      "8:\tlearn: 1991.2677297\ttotal: 175ms\tremaining: 3.71s\n",
      "9:\tlearn: 1966.9220748\ttotal: 196ms\tremaining: 3.73s\n",
      "10:\tlearn: 1950.1547809\ttotal: 216ms\tremaining: 3.71s\n",
      "11:\tlearn: 1933.7295530\ttotal: 234ms\tremaining: 3.67s\n",
      "12:\tlearn: 1921.4791548\ttotal: 253ms\tremaining: 3.63s\n",
      "13:\tlearn: 1909.3757461\ttotal: 271ms\tremaining: 3.6s\n",
      "14:\tlearn: 1892.7243241\ttotal: 295ms\tremaining: 3.63s\n",
      "15:\tlearn: 1884.8506981\ttotal: 312ms\tremaining: 3.59s\n",
      "16:\tlearn: 1874.7076747\ttotal: 331ms\tremaining: 3.56s\n",
      "17:\tlearn: 1864.8853909\ttotal: 349ms\tremaining: 3.53s\n",
      "18:\tlearn: 1858.2029502\ttotal: 367ms\tremaining: 3.5s\n",
      "19:\tlearn: 1851.7341484\ttotal: 385ms\tremaining: 3.46s\n",
      "20:\tlearn: 1838.5929416\ttotal: 405ms\tremaining: 3.45s\n",
      "21:\tlearn: 1832.5325081\ttotal: 423ms\tremaining: 3.42s\n",
      "22:\tlearn: 1828.9401500\ttotal: 442ms\tremaining: 3.4s\n",
      "23:\tlearn: 1823.0406497\ttotal: 459ms\tremaining: 3.37s\n",
      "24:\tlearn: 1814.7078815\ttotal: 478ms\tremaining: 3.34s\n",
      "25:\tlearn: 1809.8754771\ttotal: 496ms\tremaining: 3.32s\n",
      "26:\tlearn: 1805.3897618\ttotal: 517ms\tremaining: 3.31s\n",
      "27:\tlearn: 1799.1156743\ttotal: 536ms\tremaining: 3.29s\n",
      "28:\tlearn: 1791.6266780\ttotal: 555ms\tremaining: 3.27s\n",
      "29:\tlearn: 1787.0612496\ttotal: 575ms\tremaining: 3.26s\n",
      "30:\tlearn: 1781.6302968\ttotal: 595ms\tremaining: 3.24s\n",
      "31:\tlearn: 1776.0371591\ttotal: 615ms\tremaining: 3.23s\n",
      "32:\tlearn: 1772.8605874\ttotal: 635ms\tremaining: 3.21s\n",
      "33:\tlearn: 1768.8281630\ttotal: 655ms\tremaining: 3.2s\n",
      "34:\tlearn: 1765.7284754\ttotal: 675ms\tremaining: 3.18s\n",
      "35:\tlearn: 1760.4092312\ttotal: 695ms\tremaining: 3.17s\n",
      "36:\tlearn: 1756.7042188\ttotal: 713ms\tremaining: 3.14s\n",
      "37:\tlearn: 1753.6303338\ttotal: 734ms\tremaining: 3.13s\n",
      "38:\tlearn: 1751.3253695\ttotal: 752ms\tremaining: 3.1s\n",
      "39:\tlearn: 1748.8299266\ttotal: 771ms\tremaining: 3.08s\n",
      "40:\tlearn: 1744.7511910\ttotal: 790ms\tremaining: 3.06s\n",
      "41:\tlearn: 1741.9595068\ttotal: 807ms\tremaining: 3.04s\n",
      "42:\tlearn: 1738.4134350\ttotal: 828ms\tremaining: 3.02s\n",
      "43:\tlearn: 1736.0682398\ttotal: 846ms\tremaining: 3s\n",
      "44:\tlearn: 1734.1512672\ttotal: 865ms\tremaining: 2.98s\n",
      "45:\tlearn: 1730.7384966\ttotal: 886ms\tremaining: 2.96s\n",
      "46:\tlearn: 1727.3648349\ttotal: 905ms\tremaining: 2.95s\n",
      "47:\tlearn: 1724.1403420\ttotal: 923ms\tremaining: 2.92s\n",
      "48:\tlearn: 1721.0144564\ttotal: 942ms\tremaining: 2.9s\n",
      "49:\tlearn: 1719.0509562\ttotal: 961ms\tremaining: 2.88s\n",
      "50:\tlearn: 1716.4929416\ttotal: 982ms\tremaining: 2.87s\n",
      "51:\tlearn: 1714.4088929\ttotal: 1s\tremaining: 2.85s\n",
      "52:\tlearn: 1712.9022937\ttotal: 1.02s\tremaining: 2.83s\n",
      "53:\tlearn: 1711.3343924\ttotal: 1.04s\tremaining: 2.81s\n",
      "54:\tlearn: 1709.2099787\ttotal: 1.06s\tremaining: 2.79s\n",
      "55:\tlearn: 1706.9892160\ttotal: 1.08s\tremaining: 2.77s\n",
      "56:\tlearn: 1705.3122633\ttotal: 1.1s\tremaining: 2.75s\n",
      "57:\tlearn: 1702.7219474\ttotal: 1.12s\tremaining: 2.73s\n",
      "58:\tlearn: 1700.3616509\ttotal: 1.14s\tremaining: 2.72s\n",
      "59:\tlearn: 1698.0902729\ttotal: 1.16s\tremaining: 2.69s\n",
      "60:\tlearn: 1695.7099608\ttotal: 1.18s\tremaining: 2.68s\n",
      "61:\tlearn: 1693.9176334\ttotal: 1.2s\tremaining: 2.68s\n",
      "62:\tlearn: 1691.9343696\ttotal: 1.22s\tremaining: 2.66s\n",
      "63:\tlearn: 1689.6203727\ttotal: 1.24s\tremaining: 2.64s\n",
      "64:\tlearn: 1687.9113035\ttotal: 1.26s\tremaining: 2.62s\n",
      "65:\tlearn: 1685.5913885\ttotal: 1.28s\tremaining: 2.6s\n",
      "66:\tlearn: 1683.1107252\ttotal: 1.3s\tremaining: 2.58s\n",
      "67:\tlearn: 1681.7841397\ttotal: 1.32s\tremaining: 2.56s\n",
      "68:\tlearn: 1679.8850397\ttotal: 1.34s\tremaining: 2.54s\n",
      "69:\tlearn: 1678.2837284\ttotal: 1.36s\tremaining: 2.52s\n",
      "70:\tlearn: 1676.5252889\ttotal: 1.38s\tremaining: 2.5s\n",
      "71:\tlearn: 1675.2352439\ttotal: 1.39s\tremaining: 2.48s\n",
      "72:\tlearn: 1674.5962543\ttotal: 1.41s\tremaining: 2.45s\n",
      "73:\tlearn: 1673.1277666\ttotal: 1.43s\tremaining: 2.43s\n",
      "74:\tlearn: 1671.8696633\ttotal: 1.45s\tremaining: 2.41s\n",
      "75:\tlearn: 1669.8250873\ttotal: 1.47s\tremaining: 2.39s\n",
      "76:\tlearn: 1667.9302377\ttotal: 1.48s\tremaining: 2.37s\n",
      "77:\tlearn: 1666.0869280\ttotal: 1.5s\tremaining: 2.35s\n",
      "78:\tlearn: 1664.9534119\ttotal: 1.52s\tremaining: 2.33s\n",
      "79:\tlearn: 1663.2490220\ttotal: 1.54s\tremaining: 2.31s\n",
      "80:\tlearn: 1661.8788764\ttotal: 1.56s\tremaining: 2.29s\n",
      "81:\tlearn: 1660.5824483\ttotal: 1.58s\tremaining: 2.27s\n",
      "82:\tlearn: 1659.3377853\ttotal: 1.6s\tremaining: 2.25s\n",
      "83:\tlearn: 1657.8062804\ttotal: 1.62s\tremaining: 2.23s\n",
      "84:\tlearn: 1656.9471650\ttotal: 1.63s\tremaining: 2.21s\n",
      "85:\tlearn: 1655.2947823\ttotal: 1.65s\tremaining: 2.19s\n",
      "86:\tlearn: 1653.6669211\ttotal: 1.67s\tremaining: 2.17s\n",
      "87:\tlearn: 1652.7384271\ttotal: 1.69s\tremaining: 2.15s\n",
      "88:\tlearn: 1651.6971849\ttotal: 1.71s\tremaining: 2.13s\n",
      "89:\tlearn: 1649.5318046\ttotal: 1.73s\tremaining: 2.12s\n",
      "90:\tlearn: 1648.1167534\ttotal: 1.75s\tremaining: 2.1s\n",
      "91:\tlearn: 1646.5619083\ttotal: 1.77s\tremaining: 2.08s\n",
      "92:\tlearn: 1644.9332402\ttotal: 1.79s\tremaining: 2.06s\n",
      "93:\tlearn: 1643.8843308\ttotal: 1.81s\tremaining: 2.04s\n",
      "94:\tlearn: 1642.6819430\ttotal: 1.83s\tremaining: 2.02s\n",
      "95:\tlearn: 1641.4925992\ttotal: 1.85s\tremaining: 2s\n",
      "96:\tlearn: 1640.5608000\ttotal: 1.87s\tremaining: 1.98s\n",
      "97:\tlearn: 1639.2797241\ttotal: 1.89s\tremaining: 1.96s\n",
      "98:\tlearn: 1638.4683389\ttotal: 1.9s\tremaining: 1.94s\n",
      "99:\tlearn: 1637.3264920\ttotal: 1.92s\tremaining: 1.92s\n",
      "100:\tlearn: 1636.2659959\ttotal: 1.94s\tremaining: 1.9s\n",
      "101:\tlearn: 1634.9599610\ttotal: 1.96s\tremaining: 1.88s\n",
      "102:\tlearn: 1633.7082817\ttotal: 1.98s\tremaining: 1.86s\n",
      "103:\tlearn: 1633.1798136\ttotal: 1.99s\tremaining: 1.84s\n",
      "104:\tlearn: 1632.2443538\ttotal: 2.01s\tremaining: 1.82s\n",
      "105:\tlearn: 1631.4551105\ttotal: 2.03s\tremaining: 1.8s\n",
      "106:\tlearn: 1629.6651393\ttotal: 2.05s\tremaining: 1.78s\n",
      "107:\tlearn: 1628.1762194\ttotal: 2.07s\tremaining: 1.76s\n",
      "108:\tlearn: 1627.4114036\ttotal: 2.09s\tremaining: 1.74s\n",
      "109:\tlearn: 1626.6861975\ttotal: 2.1s\tremaining: 1.72s\n",
      "110:\tlearn: 1626.2051433\ttotal: 2.13s\tremaining: 1.71s\n",
      "111:\tlearn: 1625.3660617\ttotal: 2.15s\tremaining: 1.69s\n",
      "112:\tlearn: 1624.2321742\ttotal: 2.16s\tremaining: 1.67s\n",
      "113:\tlearn: 1623.3399055\ttotal: 2.18s\tremaining: 1.65s\n",
      "114:\tlearn: 1622.7281769\ttotal: 2.2s\tremaining: 1.63s\n",
      "115:\tlearn: 1622.1781502\ttotal: 2.22s\tremaining: 1.61s\n",
      "116:\tlearn: 1621.5779285\ttotal: 2.24s\tremaining: 1.59s\n",
      "117:\tlearn: 1620.7151256\ttotal: 2.26s\tremaining: 1.57s\n",
      "118:\tlearn: 1619.8339763\ttotal: 2.28s\tremaining: 1.55s\n",
      "119:\tlearn: 1618.9532784\ttotal: 2.3s\tremaining: 1.53s\n",
      "120:\tlearn: 1618.5104052\ttotal: 2.32s\tremaining: 1.51s\n",
      "121:\tlearn: 1617.6220655\ttotal: 2.34s\tremaining: 1.5s\n",
      "122:\tlearn: 1616.6157172\ttotal: 2.36s\tremaining: 1.48s\n",
      "123:\tlearn: 1615.7087979\ttotal: 2.38s\tremaining: 1.46s\n",
      "124:\tlearn: 1614.4467542\ttotal: 2.4s\tremaining: 1.44s\n",
      "125:\tlearn: 1613.7958222\ttotal: 2.42s\tremaining: 1.42s\n",
      "126:\tlearn: 1612.9516225\ttotal: 2.44s\tremaining: 1.4s\n",
      "127:\tlearn: 1611.8482516\ttotal: 2.46s\tremaining: 1.38s\n",
      "128:\tlearn: 1610.8014714\ttotal: 2.48s\tremaining: 1.36s\n",
      "129:\tlearn: 1610.3549558\ttotal: 2.5s\tremaining: 1.35s\n",
      "130:\tlearn: 1609.3588109\ttotal: 2.52s\tremaining: 1.33s\n",
      "131:\tlearn: 1608.6233719\ttotal: 2.54s\tremaining: 1.31s\n",
      "132:\tlearn: 1607.4773614\ttotal: 2.57s\tremaining: 1.29s\n",
      "133:\tlearn: 1606.8107701\ttotal: 2.6s\tremaining: 1.28s\n",
      "134:\tlearn: 1605.9844341\ttotal: 2.62s\tremaining: 1.26s\n",
      "135:\tlearn: 1605.4692273\ttotal: 2.63s\tremaining: 1.24s\n",
      "136:\tlearn: 1604.7093369\ttotal: 2.65s\tremaining: 1.22s\n",
      "137:\tlearn: 1603.7600489\ttotal: 2.67s\tremaining: 1.2s\n",
      "138:\tlearn: 1603.1875304\ttotal: 2.69s\tremaining: 1.18s\n",
      "139:\tlearn: 1602.2985111\ttotal: 2.71s\tremaining: 1.16s\n",
      "140:\tlearn: 1601.2286601\ttotal: 2.73s\tremaining: 1.14s\n",
      "141:\tlearn: 1599.9297879\ttotal: 2.75s\tremaining: 1.12s\n",
      "142:\tlearn: 1599.2822595\ttotal: 2.77s\tremaining: 1.1s\n",
      "143:\tlearn: 1598.4035521\ttotal: 2.79s\tremaining: 1.09s\n",
      "144:\tlearn: 1597.7652152\ttotal: 2.81s\tremaining: 1.07s\n",
      "145:\tlearn: 1596.7283741\ttotal: 2.83s\tremaining: 1.05s\n",
      "146:\tlearn: 1596.1630019\ttotal: 2.85s\tremaining: 1.03s\n",
      "147:\tlearn: 1595.3486725\ttotal: 2.87s\tremaining: 1.01s\n",
      "148:\tlearn: 1594.8989904\ttotal: 2.88s\tremaining: 988ms\n",
      "149:\tlearn: 1594.3547294\ttotal: 2.9s\tremaining: 968ms\n",
      "150:\tlearn: 1593.7546458\ttotal: 2.92s\tremaining: 948ms\n",
      "151:\tlearn: 1593.1304189\ttotal: 2.94s\tremaining: 928ms\n",
      "152:\tlearn: 1592.2512306\ttotal: 2.96s\tremaining: 909ms\n",
      "153:\tlearn: 1591.1740612\ttotal: 2.98s\tremaining: 889ms\n",
      "154:\tlearn: 1590.2706526\ttotal: 3s\tremaining: 870ms\n",
      "155:\tlearn: 1589.4623804\ttotal: 3.02s\tremaining: 851ms\n",
      "156:\tlearn: 1589.1154457\ttotal: 3.03s\tremaining: 831ms\n",
      "157:\tlearn: 1588.2261618\ttotal: 3.05s\tremaining: 811ms\n",
      "158:\tlearn: 1587.9814451\ttotal: 3.07s\tremaining: 791ms\n",
      "159:\tlearn: 1587.1343788\ttotal: 3.08s\tremaining: 771ms\n",
      "160:\tlearn: 1585.6863385\ttotal: 3.1s\tremaining: 752ms\n",
      "161:\tlearn: 1584.4865664\ttotal: 3.12s\tremaining: 732ms\n",
      "162:\tlearn: 1583.8111688\ttotal: 3.14s\tremaining: 712ms\n",
      "163:\tlearn: 1583.2026456\ttotal: 3.15s\tremaining: 693ms\n",
      "164:\tlearn: 1582.6171381\ttotal: 3.17s\tremaining: 673ms\n",
      "165:\tlearn: 1581.7626543\ttotal: 3.2s\tremaining: 655ms\n",
      "166:\tlearn: 1581.2247605\ttotal: 3.22s\tremaining: 636ms\n",
      "167:\tlearn: 1580.2540847\ttotal: 3.24s\tremaining: 616ms\n",
      "168:\tlearn: 1579.6748604\ttotal: 3.26s\tremaining: 598ms\n",
      "169:\tlearn: 1578.9146735\ttotal: 3.28s\tremaining: 579ms\n",
      "170:\tlearn: 1578.0548097\ttotal: 3.31s\tremaining: 561ms\n",
      "171:\tlearn: 1577.5165913\ttotal: 3.33s\tremaining: 541ms\n",
      "172:\tlearn: 1577.0175497\ttotal: 3.34s\tremaining: 522ms\n",
      "173:\tlearn: 1576.3874902\ttotal: 3.36s\tremaining: 502ms\n",
      "174:\tlearn: 1575.9286192\ttotal: 3.38s\tremaining: 483ms\n",
      "175:\tlearn: 1575.3828282\ttotal: 3.4s\tremaining: 463ms\n",
      "176:\tlearn: 1574.7142908\ttotal: 3.42s\tremaining: 444ms\n",
      "177:\tlearn: 1573.8257169\ttotal: 3.43s\tremaining: 424ms\n",
      "178:\tlearn: 1573.4238950\ttotal: 3.45s\tremaining: 405ms\n",
      "179:\tlearn: 1572.6497891\ttotal: 3.47s\tremaining: 386ms\n",
      "180:\tlearn: 1571.8343115\ttotal: 3.49s\tremaining: 366ms\n",
      "181:\tlearn: 1571.4361410\ttotal: 3.51s\tremaining: 347ms\n",
      "182:\tlearn: 1570.9617004\ttotal: 3.52s\tremaining: 327ms\n",
      "183:\tlearn: 1570.3245581\ttotal: 3.54s\tremaining: 308ms\n",
      "184:\tlearn: 1569.2206136\ttotal: 3.56s\tremaining: 289ms\n",
      "185:\tlearn: 1568.5160934\ttotal: 3.58s\tremaining: 270ms\n",
      "186:\tlearn: 1567.9902823\ttotal: 3.6s\tremaining: 250ms\n",
      "187:\tlearn: 1567.4381622\ttotal: 3.62s\tremaining: 231ms\n",
      "188:\tlearn: 1566.2025091\ttotal: 3.64s\tremaining: 212ms\n",
      "189:\tlearn: 1565.4670724\ttotal: 3.65s\tremaining: 192ms\n",
      "190:\tlearn: 1564.8875465\ttotal: 3.67s\tremaining: 173ms\n",
      "191:\tlearn: 1564.5573833\ttotal: 3.69s\tremaining: 154ms\n",
      "192:\tlearn: 1563.6568542\ttotal: 3.71s\tremaining: 134ms\n",
      "193:\tlearn: 1563.0168471\ttotal: 3.72s\tremaining: 115ms\n",
      "194:\tlearn: 1562.5096975\ttotal: 3.74s\tremaining: 96ms\n",
      "195:\tlearn: 1561.9328555\ttotal: 3.76s\tremaining: 76.7ms\n",
      "196:\tlearn: 1561.6194257\ttotal: 3.78s\tremaining: 57.5ms\n",
      "197:\tlearn: 1560.7936732\ttotal: 3.8s\tremaining: 38.4ms\n",
      "198:\tlearn: 1560.3433609\ttotal: 3.82s\tremaining: 19.2ms\n",
      "199:\tlearn: 1559.9962825\ttotal: 3.83s\tremaining: 0us\n",
      "0:\tlearn: 3352.0603315\ttotal: 19.7ms\tremaining: 3.92s\n",
      "1:\tlearn: 2704.5800412\ttotal: 41.7ms\tremaining: 4.13s\n",
      "2:\tlearn: 2417.0718496\ttotal: 62.4ms\tremaining: 4.09s\n",
      "3:\tlearn: 2261.4991776\ttotal: 82.1ms\tremaining: 4.02s\n",
      "4:\tlearn: 2171.5207322\ttotal: 104ms\tremaining: 4.05s\n",
      "5:\tlearn: 2117.7766768\ttotal: 124ms\tremaining: 4s\n",
      "6:\tlearn: 2076.1596775\ttotal: 143ms\tremaining: 3.94s\n",
      "7:\tlearn: 2024.7270283\ttotal: 163ms\tremaining: 3.92s\n",
      "8:\tlearn: 1983.5218732\ttotal: 185ms\tremaining: 3.92s\n",
      "9:\tlearn: 1968.7144069\ttotal: 207ms\tremaining: 3.93s\n",
      "10:\tlearn: 1948.6591922\ttotal: 227ms\tremaining: 3.9s\n",
      "11:\tlearn: 1934.6393529\ttotal: 247ms\tremaining: 3.87s\n",
      "12:\tlearn: 1916.7919088\ttotal: 270ms\tremaining: 3.88s\n",
      "13:\tlearn: 1902.1189581\ttotal: 290ms\tremaining: 3.85s\n",
      "14:\tlearn: 1891.2134702\ttotal: 310ms\tremaining: 3.82s\n",
      "15:\tlearn: 1881.7491989\ttotal: 328ms\tremaining: 3.77s\n",
      "16:\tlearn: 1872.1608937\ttotal: 349ms\tremaining: 3.75s\n",
      "17:\tlearn: 1862.3183419\ttotal: 369ms\tremaining: 3.73s\n",
      "18:\tlearn: 1850.7169719\ttotal: 389ms\tremaining: 3.71s\n",
      "19:\tlearn: 1842.4994155\ttotal: 409ms\tremaining: 3.68s\n",
      "20:\tlearn: 1836.7208716\ttotal: 431ms\tremaining: 3.67s\n",
      "21:\tlearn: 1830.9584292\ttotal: 452ms\tremaining: 3.65s\n",
      "22:\tlearn: 1825.7567934\ttotal: 471ms\tremaining: 3.63s\n",
      "23:\tlearn: 1818.5624662\ttotal: 491ms\tremaining: 3.6s\n",
      "24:\tlearn: 1810.9683308\ttotal: 510ms\tremaining: 3.57s\n",
      "25:\tlearn: 1805.2628483\ttotal: 529ms\tremaining: 3.54s\n",
      "26:\tlearn: 1800.6359915\ttotal: 550ms\tremaining: 3.52s\n",
      "27:\tlearn: 1794.9200444\ttotal: 572ms\tremaining: 3.51s\n",
      "28:\tlearn: 1789.2713667\ttotal: 598ms\tremaining: 3.52s\n",
      "29:\tlearn: 1785.9642705\ttotal: 621ms\tremaining: 3.52s\n",
      "30:\tlearn: 1781.9144746\ttotal: 642ms\tremaining: 3.5s\n",
      "31:\tlearn: 1776.7831697\ttotal: 662ms\tremaining: 3.48s\n",
      "32:\tlearn: 1773.6105950\ttotal: 683ms\tremaining: 3.45s\n",
      "33:\tlearn: 1769.6127851\ttotal: 706ms\tremaining: 3.45s\n",
      "34:\tlearn: 1764.5775343\ttotal: 726ms\tremaining: 3.42s\n",
      "35:\tlearn: 1761.3799963\ttotal: 745ms\tremaining: 3.4s\n",
      "36:\tlearn: 1758.7970721\ttotal: 764ms\tremaining: 3.37s\n",
      "37:\tlearn: 1755.2347130\ttotal: 785ms\tremaining: 3.34s\n",
      "38:\tlearn: 1752.3685949\ttotal: 805ms\tremaining: 3.32s\n",
      "39:\tlearn: 1748.4434470\ttotal: 825ms\tremaining: 3.3s\n",
      "40:\tlearn: 1746.2759006\ttotal: 844ms\tremaining: 3.27s\n",
      "41:\tlearn: 1742.9991300\ttotal: 864ms\tremaining: 3.25s\n",
      "42:\tlearn: 1739.3573103\ttotal: 894ms\tremaining: 3.26s\n",
      "43:\tlearn: 1735.8899187\ttotal: 914ms\tremaining: 3.24s\n",
      "44:\tlearn: 1732.8456525\ttotal: 932ms\tremaining: 3.21s\n",
      "45:\tlearn: 1728.1073757\ttotal: 953ms\tremaining: 3.19s\n",
      "46:\tlearn: 1722.5254481\ttotal: 976ms\tremaining: 3.18s\n",
      "47:\tlearn: 1719.8800491\ttotal: 997ms\tremaining: 3.16s\n",
      "48:\tlearn: 1718.2426773\ttotal: 1.02s\tremaining: 3.14s\n",
      "49:\tlearn: 1716.4425541\ttotal: 1.04s\tremaining: 3.11s\n",
      "50:\tlearn: 1713.8540995\ttotal: 1.06s\tremaining: 3.09s\n",
      "51:\tlearn: 1712.1067528\ttotal: 1.08s\tremaining: 3.07s\n",
      "52:\tlearn: 1709.9714211\ttotal: 1.1s\tremaining: 3.05s\n",
      "53:\tlearn: 1708.2695676\ttotal: 1.12s\tremaining: 3.03s\n",
      "54:\tlearn: 1705.4002359\ttotal: 1.14s\tremaining: 3.02s\n",
      "55:\tlearn: 1702.4990518\ttotal: 1.17s\tremaining: 3s\n",
      "56:\tlearn: 1700.8169338\ttotal: 1.2s\tremaining: 3s\n",
      "57:\tlearn: 1698.3245746\ttotal: 1.23s\tremaining: 3s\n",
      "58:\tlearn: 1695.5875733\ttotal: 1.25s\tremaining: 2.99s\n",
      "59:\tlearn: 1693.3647775\ttotal: 1.27s\tremaining: 2.98s\n",
      "60:\tlearn: 1690.8802257\ttotal: 1.29s\tremaining: 2.95s\n",
      "61:\tlearn: 1689.5041674\ttotal: 1.31s\tremaining: 2.92s\n",
      "62:\tlearn: 1688.1730487\ttotal: 1.33s\tremaining: 2.9s\n",
      "63:\tlearn: 1686.6009301\ttotal: 1.35s\tremaining: 2.88s\n",
      "64:\tlearn: 1684.7434555\ttotal: 1.38s\tremaining: 2.86s\n",
      "65:\tlearn: 1683.2558816\ttotal: 1.4s\tremaining: 2.84s\n",
      "66:\tlearn: 1681.3293271\ttotal: 1.42s\tremaining: 2.82s\n",
      "67:\tlearn: 1679.5596734\ttotal: 1.44s\tremaining: 2.8s\n",
      "68:\tlearn: 1678.1261499\ttotal: 1.46s\tremaining: 2.77s\n",
      "69:\tlearn: 1677.0545907\ttotal: 1.48s\tremaining: 2.75s\n",
      "70:\tlearn: 1674.8755935\ttotal: 1.5s\tremaining: 2.72s\n",
      "71:\tlearn: 1673.3981006\ttotal: 1.52s\tremaining: 2.7s\n",
      "72:\tlearn: 1671.5136725\ttotal: 1.54s\tremaining: 2.68s\n",
      "73:\tlearn: 1669.5334380\ttotal: 1.56s\tremaining: 2.65s\n",
      "74:\tlearn: 1667.0771887\ttotal: 1.58s\tremaining: 2.63s\n",
      "75:\tlearn: 1665.6001914\ttotal: 1.6s\tremaining: 2.61s\n",
      "76:\tlearn: 1664.4395676\ttotal: 1.62s\tremaining: 2.58s\n",
      "77:\tlearn: 1663.2164761\ttotal: 1.64s\tremaining: 2.56s\n",
      "78:\tlearn: 1661.7780588\ttotal: 1.66s\tremaining: 2.54s\n",
      "79:\tlearn: 1660.9122860\ttotal: 1.68s\tremaining: 2.52s\n",
      "80:\tlearn: 1659.8747837\ttotal: 1.7s\tremaining: 2.5s\n",
      "81:\tlearn: 1658.4158467\ttotal: 1.72s\tremaining: 2.48s\n",
      "82:\tlearn: 1656.7996741\ttotal: 1.75s\tremaining: 2.46s\n",
      "83:\tlearn: 1655.2332093\ttotal: 1.76s\tremaining: 2.44s\n",
      "84:\tlearn: 1653.5933691\ttotal: 1.79s\tremaining: 2.42s\n",
      "85:\tlearn: 1652.2955635\ttotal: 1.81s\tremaining: 2.4s\n",
      "86:\tlearn: 1651.6032999\ttotal: 1.83s\tremaining: 2.38s\n",
      "87:\tlearn: 1649.9940698\ttotal: 1.85s\tremaining: 2.36s\n",
      "88:\tlearn: 1648.5164649\ttotal: 1.87s\tremaining: 2.33s\n",
      "89:\tlearn: 1647.2886200\ttotal: 1.89s\tremaining: 2.31s\n",
      "90:\tlearn: 1646.1793619\ttotal: 1.91s\tremaining: 2.29s\n",
      "91:\tlearn: 1644.8332140\ttotal: 1.93s\tremaining: 2.27s\n",
      "92:\tlearn: 1644.2045819\ttotal: 1.95s\tremaining: 2.24s\n",
      "93:\tlearn: 1643.0484831\ttotal: 1.97s\tremaining: 2.22s\n",
      "94:\tlearn: 1641.7459981\ttotal: 1.99s\tremaining: 2.2s\n",
      "95:\tlearn: 1640.9177819\ttotal: 2.01s\tremaining: 2.18s\n",
      "96:\tlearn: 1639.8036521\ttotal: 2.03s\tremaining: 2.15s\n",
      "97:\tlearn: 1638.4184804\ttotal: 2.05s\tremaining: 2.13s\n",
      "98:\tlearn: 1637.4664951\ttotal: 2.07s\tremaining: 2.11s\n",
      "99:\tlearn: 1635.2477561\ttotal: 2.09s\tremaining: 2.09s\n",
      "100:\tlearn: 1634.2202463\ttotal: 2.1s\tremaining: 2.06s\n",
      "101:\tlearn: 1633.4923112\ttotal: 2.13s\tremaining: 2.04s\n",
      "102:\tlearn: 1632.0558395\ttotal: 2.15s\tremaining: 2.02s\n",
      "103:\tlearn: 1630.7763483\ttotal: 2.17s\tremaining: 2s\n",
      "104:\tlearn: 1629.7602008\ttotal: 2.19s\tremaining: 1.98s\n",
      "105:\tlearn: 1628.6831270\ttotal: 2.21s\tremaining: 1.96s\n",
      "106:\tlearn: 1627.6150536\ttotal: 2.23s\tremaining: 1.94s\n",
      "107:\tlearn: 1626.3912483\ttotal: 2.25s\tremaining: 1.92s\n",
      "108:\tlearn: 1625.5718376\ttotal: 2.27s\tremaining: 1.9s\n",
      "109:\tlearn: 1624.6594084\ttotal: 2.29s\tremaining: 1.88s\n",
      "110:\tlearn: 1623.5635080\ttotal: 2.31s\tremaining: 1.85s\n",
      "111:\tlearn: 1622.4089958\ttotal: 2.33s\tremaining: 1.83s\n",
      "112:\tlearn: 1621.1887422\ttotal: 2.35s\tremaining: 1.81s\n",
      "113:\tlearn: 1619.9094367\ttotal: 2.37s\tremaining: 1.79s\n",
      "114:\tlearn: 1617.7945166\ttotal: 2.39s\tremaining: 1.77s\n",
      "115:\tlearn: 1617.1576550\ttotal: 2.41s\tremaining: 1.75s\n",
      "116:\tlearn: 1616.0861081\ttotal: 2.43s\tremaining: 1.73s\n",
      "117:\tlearn: 1615.4250109\ttotal: 2.45s\tremaining: 1.71s\n",
      "118:\tlearn: 1614.6170222\ttotal: 2.48s\tremaining: 1.69s\n",
      "119:\tlearn: 1613.4285070\ttotal: 2.5s\tremaining: 1.66s\n",
      "120:\tlearn: 1612.6149288\ttotal: 2.52s\tremaining: 1.64s\n",
      "121:\tlearn: 1611.9582377\ttotal: 2.53s\tremaining: 1.62s\n",
      "122:\tlearn: 1611.1198821\ttotal: 2.56s\tremaining: 1.6s\n",
      "123:\tlearn: 1610.3370128\ttotal: 2.58s\tremaining: 1.58s\n",
      "124:\tlearn: 1609.0782063\ttotal: 2.6s\tremaining: 1.56s\n",
      "125:\tlearn: 1608.5796769\ttotal: 2.62s\tremaining: 1.54s\n",
      "126:\tlearn: 1608.1997646\ttotal: 2.64s\tremaining: 1.52s\n",
      "127:\tlearn: 1607.3791621\ttotal: 2.67s\tremaining: 1.5s\n",
      "128:\tlearn: 1605.8459973\ttotal: 2.69s\tremaining: 1.48s\n",
      "129:\tlearn: 1604.8485473\ttotal: 2.72s\tremaining: 1.46s\n",
      "130:\tlearn: 1604.2243288\ttotal: 2.74s\tremaining: 1.44s\n",
      "131:\tlearn: 1603.5853450\ttotal: 2.77s\tremaining: 1.42s\n",
      "132:\tlearn: 1602.8079479\ttotal: 2.79s\tremaining: 1.41s\n",
      "133:\tlearn: 1601.9208863\ttotal: 2.81s\tremaining: 1.39s\n",
      "134:\tlearn: 1601.1004641\ttotal: 2.84s\tremaining: 1.36s\n",
      "135:\tlearn: 1600.1497491\ttotal: 2.86s\tremaining: 1.35s\n",
      "136:\tlearn: 1599.1628645\ttotal: 2.88s\tremaining: 1.32s\n",
      "137:\tlearn: 1598.0160282\ttotal: 2.9s\tremaining: 1.3s\n",
      "138:\tlearn: 1597.4512499\ttotal: 2.92s\tremaining: 1.28s\n",
      "139:\tlearn: 1597.0299597\ttotal: 2.94s\tremaining: 1.26s\n",
      "140:\tlearn: 1596.4328444\ttotal: 2.96s\tremaining: 1.24s\n",
      "141:\tlearn: 1595.4141184\ttotal: 2.98s\tremaining: 1.22s\n",
      "142:\tlearn: 1594.7326091\ttotal: 3s\tremaining: 1.19s\n",
      "143:\tlearn: 1594.1339530\ttotal: 3.02s\tremaining: 1.17s\n",
      "144:\tlearn: 1593.1614748\ttotal: 3.04s\tremaining: 1.15s\n",
      "145:\tlearn: 1592.5952281\ttotal: 3.06s\tremaining: 1.13s\n",
      "146:\tlearn: 1591.8408046\ttotal: 3.08s\tremaining: 1.11s\n",
      "147:\tlearn: 1590.9806641\ttotal: 3.1s\tremaining: 1.09s\n",
      "148:\tlearn: 1590.2159520\ttotal: 3.12s\tremaining: 1.07s\n",
      "149:\tlearn: 1589.7426600\ttotal: 3.14s\tremaining: 1.05s\n",
      "150:\tlearn: 1588.9508626\ttotal: 3.16s\tremaining: 1.02s\n",
      "151:\tlearn: 1588.2288079\ttotal: 3.18s\tremaining: 1s\n",
      "152:\tlearn: 1587.0311194\ttotal: 3.2s\tremaining: 982ms\n",
      "153:\tlearn: 1586.6357456\ttotal: 3.22s\tremaining: 961ms\n",
      "154:\tlearn: 1586.1019393\ttotal: 3.24s\tremaining: 940ms\n",
      "155:\tlearn: 1585.5869884\ttotal: 3.26s\tremaining: 919ms\n",
      "156:\tlearn: 1584.7629712\ttotal: 3.28s\tremaining: 898ms\n",
      "157:\tlearn: 1583.7776745\ttotal: 3.3s\tremaining: 878ms\n",
      "158:\tlearn: 1583.2068488\ttotal: 3.33s\tremaining: 858ms\n",
      "159:\tlearn: 1582.6131280\ttotal: 3.35s\tremaining: 837ms\n",
      "160:\tlearn: 1581.8181030\ttotal: 3.37s\tremaining: 816ms\n",
      "161:\tlearn: 1581.1907039\ttotal: 3.39s\tremaining: 796ms\n",
      "162:\tlearn: 1580.2827900\ttotal: 3.41s\tremaining: 775ms\n",
      "163:\tlearn: 1579.7537065\ttotal: 3.44s\tremaining: 754ms\n",
      "164:\tlearn: 1578.9583134\ttotal: 3.46s\tremaining: 734ms\n",
      "165:\tlearn: 1578.5229329\ttotal: 3.48s\tremaining: 713ms\n",
      "166:\tlearn: 1578.1120342\ttotal: 3.5s\tremaining: 692ms\n",
      "167:\tlearn: 1577.2916479\ttotal: 3.52s\tremaining: 671ms\n",
      "168:\tlearn: 1576.6408108\ttotal: 3.54s\tremaining: 650ms\n",
      "169:\tlearn: 1576.0773669\ttotal: 3.56s\tremaining: 629ms\n",
      "170:\tlearn: 1575.3403265\ttotal: 3.58s\tremaining: 607ms\n",
      "171:\tlearn: 1574.5916495\ttotal: 3.6s\tremaining: 587ms\n",
      "172:\tlearn: 1573.9042363\ttotal: 3.63s\tremaining: 566ms\n",
      "173:\tlearn: 1573.2332708\ttotal: 3.65s\tremaining: 545ms\n",
      "174:\tlearn: 1572.8674373\ttotal: 3.67s\tremaining: 524ms\n",
      "175:\tlearn: 1572.2033434\ttotal: 3.69s\tremaining: 503ms\n",
      "176:\tlearn: 1571.6035383\ttotal: 3.71s\tremaining: 482ms\n",
      "177:\tlearn: 1570.9167889\ttotal: 3.73s\tremaining: 461ms\n",
      "178:\tlearn: 1569.9783827\ttotal: 3.75s\tremaining: 441ms\n",
      "179:\tlearn: 1569.3634669\ttotal: 3.78s\tremaining: 420ms\n",
      "180:\tlearn: 1568.9108502\ttotal: 3.8s\tremaining: 399ms\n",
      "181:\tlearn: 1568.1529333\ttotal: 3.82s\tremaining: 378ms\n",
      "182:\tlearn: 1567.9140345\ttotal: 3.84s\tremaining: 356ms\n",
      "183:\tlearn: 1567.4807841\ttotal: 3.86s\tremaining: 335ms\n",
      "184:\tlearn: 1566.8688082\ttotal: 3.88s\tremaining: 315ms\n",
      "185:\tlearn: 1566.2469827\ttotal: 3.9s\tremaining: 293ms\n",
      "186:\tlearn: 1565.6067949\ttotal: 3.92s\tremaining: 272ms\n",
      "187:\tlearn: 1565.0479407\ttotal: 3.94s\tremaining: 251ms\n",
      "188:\tlearn: 1564.4702865\ttotal: 3.96s\tremaining: 230ms\n",
      "189:\tlearn: 1563.8591460\ttotal: 3.98s\tremaining: 209ms\n",
      "190:\tlearn: 1563.1516517\ttotal: 4s\tremaining: 189ms\n",
      "191:\tlearn: 1562.2452870\ttotal: 4.02s\tremaining: 168ms\n",
      "192:\tlearn: 1561.7864176\ttotal: 4.04s\tremaining: 146ms\n",
      "193:\tlearn: 1561.2396599\ttotal: 4.06s\tremaining: 126ms\n",
      "194:\tlearn: 1560.5270332\ttotal: 4.08s\tremaining: 105ms\n",
      "195:\tlearn: 1559.9531133\ttotal: 4.1s\tremaining: 83.8ms\n",
      "196:\tlearn: 1559.4565888\ttotal: 4.13s\tremaining: 62.8ms\n",
      "197:\tlearn: 1558.7491872\ttotal: 4.14s\tremaining: 41.9ms\n",
      "198:\tlearn: 1558.1836820\ttotal: 4.17s\tremaining: 20.9ms\n",
      "199:\tlearn: 1557.5202877\ttotal: 4.19s\tremaining: 0us\n",
      "0:\tlearn: 3356.9744833\ttotal: 21.7ms\tremaining: 4.31s\n",
      "1:\tlearn: 2706.4458120\ttotal: 42ms\tremaining: 4.16s\n",
      "2:\tlearn: 2419.8430404\ttotal: 61.6ms\tremaining: 4.05s\n",
      "3:\tlearn: 2265.8060420\ttotal: 84.4ms\tremaining: 4.13s\n",
      "4:\tlearn: 2173.6160575\ttotal: 104ms\tremaining: 4.06s\n",
      "5:\tlearn: 2123.1045399\ttotal: 124ms\tremaining: 4.01s\n",
      "6:\tlearn: 2092.1304162\ttotal: 143ms\tremaining: 3.94s\n",
      "7:\tlearn: 2045.3356278\ttotal: 163ms\tremaining: 3.91s\n",
      "8:\tlearn: 2007.8796921\ttotal: 182ms\tremaining: 3.85s\n",
      "9:\tlearn: 1985.8224142\ttotal: 201ms\tremaining: 3.82s\n",
      "10:\tlearn: 1963.1466976\ttotal: 222ms\tremaining: 3.82s\n",
      "11:\tlearn: 1950.8410859\ttotal: 241ms\tremaining: 3.77s\n",
      "12:\tlearn: 1927.4115354\ttotal: 260ms\tremaining: 3.74s\n",
      "13:\tlearn: 1916.9793377\ttotal: 278ms\tremaining: 3.69s\n",
      "14:\tlearn: 1901.0901394\ttotal: 298ms\tremaining: 3.68s\n",
      "15:\tlearn: 1892.5577133\ttotal: 318ms\tremaining: 3.66s\n",
      "16:\tlearn: 1884.5832861\ttotal: 340ms\tremaining: 3.66s\n",
      "17:\tlearn: 1877.1703238\ttotal: 359ms\tremaining: 3.63s\n",
      "18:\tlearn: 1868.0080428\ttotal: 378ms\tremaining: 3.6s\n",
      "19:\tlearn: 1862.4037853\ttotal: 397ms\tremaining: 3.57s\n",
      "20:\tlearn: 1855.6189359\ttotal: 418ms\tremaining: 3.56s\n",
      "21:\tlearn: 1848.0477652\ttotal: 436ms\tremaining: 3.53s\n",
      "22:\tlearn: 1841.8167433\ttotal: 454ms\tremaining: 3.49s\n",
      "23:\tlearn: 1835.6849517\ttotal: 473ms\tremaining: 3.47s\n",
      "24:\tlearn: 1830.5296025\ttotal: 492ms\tremaining: 3.45s\n",
      "25:\tlearn: 1826.5298797\ttotal: 512ms\tremaining: 3.43s\n",
      "26:\tlearn: 1817.2879232\ttotal: 531ms\tremaining: 3.4s\n",
      "27:\tlearn: 1812.4111818\ttotal: 551ms\tremaining: 3.38s\n",
      "28:\tlearn: 1807.8403312\ttotal: 571ms\tremaining: 3.37s\n",
      "29:\tlearn: 1804.9775377\ttotal: 591ms\tremaining: 3.35s\n",
      "30:\tlearn: 1802.4792734\ttotal: 608ms\tremaining: 3.32s\n",
      "31:\tlearn: 1797.2099157\ttotal: 629ms\tremaining: 3.3s\n",
      "32:\tlearn: 1792.1700758\ttotal: 648ms\tremaining: 3.28s\n",
      "33:\tlearn: 1785.8344165\ttotal: 667ms\tremaining: 3.26s\n",
      "34:\tlearn: 1780.3973515\ttotal: 687ms\tremaining: 3.24s\n",
      "35:\tlearn: 1776.9679841\ttotal: 704ms\tremaining: 3.21s\n",
      "36:\tlearn: 1774.1729734\ttotal: 722ms\tremaining: 3.18s\n",
      "37:\tlearn: 1772.4171349\ttotal: 740ms\tremaining: 3.15s\n",
      "38:\tlearn: 1769.8807194\ttotal: 760ms\tremaining: 3.14s\n",
      "39:\tlearn: 1766.1010036\ttotal: 778ms\tremaining: 3.11s\n",
      "40:\tlearn: 1760.0909992\ttotal: 798ms\tremaining: 3.1s\n",
      "41:\tlearn: 1755.7103243\ttotal: 818ms\tremaining: 3.08s\n",
      "42:\tlearn: 1752.6824946\ttotal: 840ms\tremaining: 3.06s\n",
      "43:\tlearn: 1750.3092341\ttotal: 857ms\tremaining: 3.04s\n",
      "44:\tlearn: 1747.4101091\ttotal: 878ms\tremaining: 3.02s\n",
      "45:\tlearn: 1744.3084502\ttotal: 896ms\tremaining: 3s\n",
      "46:\tlearn: 1741.0975557\ttotal: 917ms\tremaining: 2.98s\n",
      "47:\tlearn: 1739.2884158\ttotal: 937ms\tremaining: 2.97s\n",
      "48:\tlearn: 1736.1319356\ttotal: 961ms\tremaining: 2.96s\n",
      "49:\tlearn: 1733.2742102\ttotal: 980ms\tremaining: 2.94s\n",
      "50:\tlearn: 1731.5096973\ttotal: 999ms\tremaining: 2.92s\n",
      "51:\tlearn: 1729.5394080\ttotal: 1.02s\tremaining: 2.9s\n",
      "52:\tlearn: 1727.1753101\ttotal: 1.04s\tremaining: 2.88s\n",
      "53:\tlearn: 1724.5071838\ttotal: 1.06s\tremaining: 2.86s\n",
      "54:\tlearn: 1723.0119884\ttotal: 1.08s\tremaining: 2.84s\n",
      "55:\tlearn: 1720.4733755\ttotal: 1.1s\tremaining: 2.82s\n",
      "56:\tlearn: 1717.9384454\ttotal: 1.12s\tremaining: 2.8s\n",
      "57:\tlearn: 1714.4460964\ttotal: 1.14s\tremaining: 2.78s\n",
      "58:\tlearn: 1711.5023338\ttotal: 1.16s\tremaining: 2.76s\n",
      "59:\tlearn: 1710.0976748\ttotal: 1.18s\tremaining: 2.74s\n",
      "60:\tlearn: 1707.4610686\ttotal: 1.2s\tremaining: 2.72s\n",
      "61:\tlearn: 1706.0150358\ttotal: 1.21s\tremaining: 2.7s\n",
      "62:\tlearn: 1704.5016834\ttotal: 1.23s\tremaining: 2.68s\n",
      "63:\tlearn: 1702.9363818\ttotal: 1.25s\tremaining: 2.66s\n",
      "64:\tlearn: 1699.5949285\ttotal: 1.27s\tremaining: 2.64s\n",
      "65:\tlearn: 1697.9239283\ttotal: 1.29s\tremaining: 2.63s\n",
      "66:\tlearn: 1696.1742616\ttotal: 1.31s\tremaining: 2.6s\n",
      "67:\tlearn: 1693.4856343\ttotal: 1.33s\tremaining: 2.59s\n",
      "68:\tlearn: 1691.0764842\ttotal: 1.35s\tremaining: 2.57s\n",
      "69:\tlearn: 1689.2319615\ttotal: 1.37s\tremaining: 2.55s\n",
      "70:\tlearn: 1687.4413283\ttotal: 1.39s\tremaining: 2.53s\n",
      "71:\tlearn: 1685.6441236\ttotal: 1.41s\tremaining: 2.51s\n",
      "72:\tlearn: 1684.0952362\ttotal: 1.43s\tremaining: 2.48s\n",
      "73:\tlearn: 1682.4424488\ttotal: 1.45s\tremaining: 2.46s\n",
      "74:\tlearn: 1681.3504304\ttotal: 1.47s\tremaining: 2.45s\n",
      "75:\tlearn: 1679.7792150\ttotal: 1.49s\tremaining: 2.43s\n",
      "76:\tlearn: 1677.2469150\ttotal: 1.51s\tremaining: 2.41s\n",
      "77:\tlearn: 1675.8050702\ttotal: 1.53s\tremaining: 2.39s\n",
      "78:\tlearn: 1674.7308924\ttotal: 1.55s\tremaining: 2.37s\n",
      "79:\tlearn: 1673.3198341\ttotal: 1.57s\tremaining: 2.35s\n",
      "80:\tlearn: 1672.2988339\ttotal: 1.59s\tremaining: 2.33s\n",
      "81:\tlearn: 1671.3086220\ttotal: 1.61s\tremaining: 2.31s\n",
      "82:\tlearn: 1670.1737923\ttotal: 1.63s\tremaining: 2.29s\n",
      "83:\tlearn: 1668.3238324\ttotal: 1.65s\tremaining: 2.28s\n",
      "84:\tlearn: 1666.3732058\ttotal: 1.67s\tremaining: 2.26s\n",
      "85:\tlearn: 1665.4658090\ttotal: 1.69s\tremaining: 2.24s\n",
      "86:\tlearn: 1664.3998334\ttotal: 1.71s\tremaining: 2.22s\n",
      "87:\tlearn: 1663.1205793\ttotal: 1.73s\tremaining: 2.2s\n",
      "88:\tlearn: 1661.8599247\ttotal: 1.75s\tremaining: 2.18s\n",
      "89:\tlearn: 1660.3567925\ttotal: 1.77s\tremaining: 2.16s\n",
      "90:\tlearn: 1658.6701899\ttotal: 1.79s\tremaining: 2.14s\n",
      "91:\tlearn: 1657.6475964\ttotal: 1.81s\tremaining: 2.12s\n",
      "92:\tlearn: 1656.7227951\ttotal: 1.82s\tremaining: 2.1s\n",
      "93:\tlearn: 1655.9472518\ttotal: 1.84s\tremaining: 2.08s\n",
      "94:\tlearn: 1654.6031010\ttotal: 1.86s\tremaining: 2.06s\n",
      "95:\tlearn: 1653.0960724\ttotal: 1.88s\tremaining: 2.04s\n",
      "96:\tlearn: 1652.0415215\ttotal: 1.9s\tremaining: 2.02s\n",
      "97:\tlearn: 1650.5591054\ttotal: 1.92s\tremaining: 2s\n",
      "98:\tlearn: 1649.0938426\ttotal: 1.94s\tremaining: 1.98s\n",
      "99:\tlearn: 1647.5239022\ttotal: 1.96s\tremaining: 1.96s\n",
      "100:\tlearn: 1646.3238890\ttotal: 1.98s\tremaining: 1.94s\n",
      "101:\tlearn: 1645.4948654\ttotal: 2s\tremaining: 1.92s\n",
      "102:\tlearn: 1644.3805582\ttotal: 2.02s\tremaining: 1.9s\n",
      "103:\tlearn: 1643.0863356\ttotal: 2.04s\tremaining: 1.88s\n",
      "104:\tlearn: 1641.8233157\ttotal: 2.06s\tremaining: 1.86s\n",
      "105:\tlearn: 1641.0457125\ttotal: 2.08s\tremaining: 1.84s\n",
      "106:\tlearn: 1639.6995748\ttotal: 2.1s\tremaining: 1.83s\n",
      "107:\tlearn: 1638.4163719\ttotal: 2.12s\tremaining: 1.81s\n",
      "108:\tlearn: 1636.8575938\ttotal: 2.14s\tremaining: 1.79s\n",
      "109:\tlearn: 1635.7644592\ttotal: 2.16s\tremaining: 1.77s\n",
      "110:\tlearn: 1635.1055710\ttotal: 2.18s\tremaining: 1.75s\n",
      "111:\tlearn: 1634.4491174\ttotal: 2.2s\tremaining: 1.73s\n",
      "112:\tlearn: 1633.3390009\ttotal: 2.22s\tremaining: 1.71s\n",
      "113:\tlearn: 1631.8951608\ttotal: 2.24s\tremaining: 1.69s\n",
      "114:\tlearn: 1630.9698232\ttotal: 2.26s\tremaining: 1.67s\n",
      "115:\tlearn: 1630.4480338\ttotal: 2.28s\tremaining: 1.65s\n",
      "116:\tlearn: 1629.1617029\ttotal: 2.31s\tremaining: 1.64s\n",
      "117:\tlearn: 1627.9738768\ttotal: 2.33s\tremaining: 1.62s\n",
      "118:\tlearn: 1626.4838286\ttotal: 2.35s\tremaining: 1.6s\n",
      "119:\tlearn: 1625.5001253\ttotal: 2.37s\tremaining: 1.58s\n",
      "120:\tlearn: 1624.6641314\ttotal: 2.38s\tremaining: 1.56s\n",
      "121:\tlearn: 1623.3386611\ttotal: 2.4s\tremaining: 1.54s\n",
      "122:\tlearn: 1621.9998869\ttotal: 2.43s\tremaining: 1.52s\n",
      "123:\tlearn: 1621.3904409\ttotal: 2.45s\tremaining: 1.5s\n",
      "124:\tlearn: 1620.8604025\ttotal: 2.46s\tremaining: 1.48s\n",
      "125:\tlearn: 1620.1788830\ttotal: 2.48s\tremaining: 1.46s\n",
      "126:\tlearn: 1618.8760071\ttotal: 2.5s\tremaining: 1.44s\n",
      "127:\tlearn: 1618.1533589\ttotal: 2.52s\tremaining: 1.42s\n",
      "128:\tlearn: 1617.1735208\ttotal: 2.54s\tremaining: 1.4s\n",
      "129:\tlearn: 1616.6222630\ttotal: 2.56s\tremaining: 1.38s\n",
      "130:\tlearn: 1615.7589416\ttotal: 2.58s\tremaining: 1.36s\n",
      "131:\tlearn: 1614.5344076\ttotal: 2.61s\tremaining: 1.34s\n",
      "132:\tlearn: 1613.8194049\ttotal: 2.62s\tremaining: 1.32s\n",
      "133:\tlearn: 1613.0656693\ttotal: 2.64s\tremaining: 1.3s\n",
      "134:\tlearn: 1611.9993408\ttotal: 2.66s\tremaining: 1.28s\n",
      "135:\tlearn: 1611.0196350\ttotal: 2.68s\tremaining: 1.26s\n",
      "136:\tlearn: 1610.0050465\ttotal: 2.7s\tremaining: 1.24s\n",
      "137:\tlearn: 1609.0460947\ttotal: 2.73s\tremaining: 1.22s\n",
      "138:\tlearn: 1607.6773955\ttotal: 2.75s\tremaining: 1.21s\n",
      "139:\tlearn: 1606.6877216\ttotal: 2.77s\tremaining: 1.19s\n",
      "140:\tlearn: 1606.0231228\ttotal: 2.79s\tremaining: 1.17s\n",
      "141:\tlearn: 1605.1680882\ttotal: 2.8s\tremaining: 1.15s\n",
      "142:\tlearn: 1604.2920523\ttotal: 2.82s\tremaining: 1.13s\n",
      "143:\tlearn: 1603.8803230\ttotal: 2.84s\tremaining: 1.1s\n",
      "144:\tlearn: 1602.9922208\ttotal: 2.86s\tremaining: 1.08s\n",
      "145:\tlearn: 1602.1757123\ttotal: 2.88s\tremaining: 1.06s\n",
      "146:\tlearn: 1601.5608950\ttotal: 2.9s\tremaining: 1.04s\n",
      "147:\tlearn: 1600.6577607\ttotal: 2.92s\tremaining: 1.02s\n",
      "148:\tlearn: 1600.0579704\ttotal: 2.94s\tremaining: 1.01s\n",
      "149:\tlearn: 1599.3128001\ttotal: 2.96s\tremaining: 987ms\n",
      "150:\tlearn: 1598.4881090\ttotal: 2.99s\tremaining: 969ms\n",
      "151:\tlearn: 1597.4355948\ttotal: 3.01s\tremaining: 952ms\n",
      "152:\tlearn: 1596.6261443\ttotal: 3.04s\tremaining: 932ms\n",
      "153:\tlearn: 1595.3755570\ttotal: 3.06s\tremaining: 914ms\n",
      "154:\tlearn: 1594.7688451\ttotal: 3.08s\tremaining: 894ms\n",
      "155:\tlearn: 1594.0162148\ttotal: 3.1s\tremaining: 875ms\n",
      "156:\tlearn: 1593.5553369\ttotal: 3.12s\tremaining: 855ms\n",
      "157:\tlearn: 1592.7833708\ttotal: 3.14s\tremaining: 834ms\n",
      "158:\tlearn: 1592.1205670\ttotal: 3.16s\tremaining: 814ms\n",
      "159:\tlearn: 1591.4070093\ttotal: 3.17s\tremaining: 794ms\n",
      "160:\tlearn: 1590.7843696\ttotal: 3.19s\tremaining: 773ms\n",
      "161:\tlearn: 1590.4023923\ttotal: 3.21s\tremaining: 753ms\n",
      "162:\tlearn: 1589.6679485\ttotal: 3.23s\tremaining: 733ms\n",
      "163:\tlearn: 1589.1284918\ttotal: 3.25s\tremaining: 713ms\n",
      "164:\tlearn: 1588.4063260\ttotal: 3.27s\tremaining: 693ms\n",
      "165:\tlearn: 1587.6428883\ttotal: 3.28s\tremaining: 673ms\n",
      "166:\tlearn: 1586.9558210\ttotal: 3.3s\tremaining: 653ms\n",
      "167:\tlearn: 1586.1994904\ttotal: 3.32s\tremaining: 632ms\n",
      "168:\tlearn: 1585.4772156\ttotal: 3.34s\tremaining: 612ms\n",
      "169:\tlearn: 1585.0340450\ttotal: 3.35s\tremaining: 592ms\n",
      "170:\tlearn: 1584.5300478\ttotal: 3.37s\tremaining: 572ms\n",
      "171:\tlearn: 1583.7377481\ttotal: 3.39s\tremaining: 552ms\n",
      "172:\tlearn: 1583.2774480\ttotal: 3.41s\tremaining: 532ms\n",
      "173:\tlearn: 1582.5448936\ttotal: 3.43s\tremaining: 512ms\n",
      "174:\tlearn: 1581.2436388\ttotal: 3.45s\tremaining: 494ms\n",
      "175:\tlearn: 1580.3083726\ttotal: 3.47s\tremaining: 474ms\n",
      "176:\tlearn: 1579.7130881\ttotal: 3.49s\tremaining: 454ms\n",
      "177:\tlearn: 1579.3569628\ttotal: 3.51s\tremaining: 434ms\n",
      "178:\tlearn: 1578.6131490\ttotal: 3.53s\tremaining: 414ms\n",
      "179:\tlearn: 1578.3460199\ttotal: 3.54s\tremaining: 394ms\n",
      "180:\tlearn: 1577.5666440\ttotal: 3.56s\tremaining: 374ms\n",
      "181:\tlearn: 1577.0842323\ttotal: 3.58s\tremaining: 354ms\n",
      "182:\tlearn: 1576.3162304\ttotal: 3.61s\tremaining: 335ms\n",
      "183:\tlearn: 1575.7353135\ttotal: 3.63s\tremaining: 316ms\n",
      "184:\tlearn: 1574.8303676\ttotal: 3.65s\tremaining: 296ms\n",
      "185:\tlearn: 1574.3080043\ttotal: 3.67s\tremaining: 276ms\n",
      "186:\tlearn: 1573.8786110\ttotal: 3.69s\tremaining: 256ms\n",
      "187:\tlearn: 1573.1626567\ttotal: 3.71s\tremaining: 237ms\n",
      "188:\tlearn: 1572.4065215\ttotal: 3.73s\tremaining: 217ms\n",
      "189:\tlearn: 1571.4419944\ttotal: 3.75s\tremaining: 197ms\n",
      "190:\tlearn: 1570.8343869\ttotal: 3.77s\tremaining: 177ms\n",
      "191:\tlearn: 1570.2475005\ttotal: 3.78s\tremaining: 158ms\n",
      "192:\tlearn: 1569.2321825\ttotal: 3.8s\tremaining: 138ms\n",
      "193:\tlearn: 1568.8716767\ttotal: 3.82s\tremaining: 118ms\n",
      "194:\tlearn: 1567.9623041\ttotal: 3.84s\tremaining: 98.5ms\n",
      "195:\tlearn: 1567.3814092\ttotal: 3.86s\tremaining: 78.8ms\n",
      "196:\tlearn: 1567.0720832\ttotal: 3.88s\tremaining: 59ms\n",
      "197:\tlearn: 1566.6762227\ttotal: 3.89s\tremaining: 39.3ms\n",
      "198:\tlearn: 1566.1821054\ttotal: 3.91s\tremaining: 19.7ms\n",
      "199:\tlearn: 1565.8606517\ttotal: 3.93s\tremaining: 0us\n",
      "0:\tlearn: 3360.2711077\ttotal: 21.7ms\tremaining: 4.32s\n",
      "1:\tlearn: 2720.2570628\ttotal: 43.5ms\tremaining: 4.3s\n",
      "2:\tlearn: 2431.5281343\ttotal: 65.4ms\tremaining: 4.29s\n",
      "3:\tlearn: 2284.8718016\ttotal: 86ms\tremaining: 4.21s\n",
      "4:\tlearn: 2186.6736541\ttotal: 106ms\tremaining: 4.14s\n",
      "5:\tlearn: 2132.5896170\ttotal: 125ms\tremaining: 4.04s\n",
      "6:\tlearn: 2083.2278484\ttotal: 146ms\tremaining: 4.03s\n",
      "7:\tlearn: 2047.7679614\ttotal: 167ms\tremaining: 4.01s\n",
      "8:\tlearn: 2017.9694693\ttotal: 188ms\tremaining: 3.98s\n",
      "9:\tlearn: 1994.3015063\ttotal: 208ms\tremaining: 3.95s\n",
      "10:\tlearn: 1962.1909482\ttotal: 229ms\tremaining: 3.93s\n",
      "11:\tlearn: 1947.0770959\ttotal: 249ms\tremaining: 3.91s\n",
      "12:\tlearn: 1931.1832496\ttotal: 270ms\tremaining: 3.89s\n",
      "13:\tlearn: 1918.9046812\ttotal: 290ms\tremaining: 3.85s\n",
      "14:\tlearn: 1906.6816829\ttotal: 310ms\tremaining: 3.82s\n",
      "15:\tlearn: 1897.3121512\ttotal: 329ms\tremaining: 3.78s\n",
      "16:\tlearn: 1886.6117801\ttotal: 350ms\tremaining: 3.77s\n",
      "17:\tlearn: 1876.3725504\ttotal: 372ms\tremaining: 3.76s\n",
      "18:\tlearn: 1870.4686086\ttotal: 393ms\tremaining: 3.74s\n",
      "19:\tlearn: 1860.6774324\ttotal: 414ms\tremaining: 3.73s\n",
      "20:\tlearn: 1853.0241897\ttotal: 435ms\tremaining: 3.71s\n",
      "21:\tlearn: 1843.7270990\ttotal: 454ms\tremaining: 3.68s\n",
      "22:\tlearn: 1838.7574326\ttotal: 473ms\tremaining: 3.64s\n",
      "23:\tlearn: 1835.6203084\ttotal: 495ms\tremaining: 3.63s\n",
      "24:\tlearn: 1830.2833946\ttotal: 514ms\tremaining: 3.6s\n",
      "25:\tlearn: 1826.2324262\ttotal: 534ms\tremaining: 3.57s\n",
      "26:\tlearn: 1818.4811961\ttotal: 557ms\tremaining: 3.57s\n",
      "27:\tlearn: 1812.3344728\ttotal: 576ms\tremaining: 3.54s\n",
      "28:\tlearn: 1806.0549902\ttotal: 597ms\tremaining: 3.52s\n",
      "29:\tlearn: 1798.3135783\ttotal: 617ms\tremaining: 3.5s\n",
      "30:\tlearn: 1795.5077565\ttotal: 636ms\tremaining: 3.47s\n",
      "31:\tlearn: 1789.2471655\ttotal: 656ms\tremaining: 3.44s\n",
      "32:\tlearn: 1784.6952001\ttotal: 677ms\tremaining: 3.42s\n",
      "33:\tlearn: 1779.0626376\ttotal: 697ms\tremaining: 3.4s\n",
      "34:\tlearn: 1774.7368632\ttotal: 716ms\tremaining: 3.38s\n",
      "35:\tlearn: 1771.5844222\ttotal: 736ms\tremaining: 3.35s\n",
      "36:\tlearn: 1768.1728707\ttotal: 755ms\tremaining: 3.33s\n",
      "37:\tlearn: 1764.0222258\ttotal: 776ms\tremaining: 3.31s\n",
      "38:\tlearn: 1760.9871019\ttotal: 795ms\tremaining: 3.28s\n",
      "39:\tlearn: 1758.5842853\ttotal: 815ms\tremaining: 3.26s\n",
      "40:\tlearn: 1756.2765590\ttotal: 833ms\tremaining: 3.23s\n",
      "41:\tlearn: 1751.7394616\ttotal: 853ms\tremaining: 3.21s\n",
      "42:\tlearn: 1749.5328806\ttotal: 872ms\tremaining: 3.18s\n",
      "43:\tlearn: 1746.8646324\ttotal: 893ms\tremaining: 3.17s\n",
      "44:\tlearn: 1743.4817257\ttotal: 913ms\tremaining: 3.14s\n",
      "45:\tlearn: 1740.1607390\ttotal: 932ms\tremaining: 3.12s\n",
      "46:\tlearn: 1737.8952283\ttotal: 953ms\tremaining: 3.1s\n",
      "47:\tlearn: 1734.6306169\ttotal: 973ms\tremaining: 3.08s\n",
      "48:\tlearn: 1733.0360137\ttotal: 992ms\tremaining: 3.06s\n",
      "49:\tlearn: 1731.2986306\ttotal: 1.01s\tremaining: 3.04s\n",
      "50:\tlearn: 1728.2535548\ttotal: 1.03s\tremaining: 3.01s\n",
      "51:\tlearn: 1726.8225816\ttotal: 1.05s\tremaining: 2.99s\n",
      "52:\tlearn: 1724.5941684\ttotal: 1.07s\tremaining: 2.97s\n",
      "53:\tlearn: 1721.6098323\ttotal: 1.09s\tremaining: 2.95s\n",
      "54:\tlearn: 1718.8630532\ttotal: 1.11s\tremaining: 2.93s\n",
      "55:\tlearn: 1714.7375833\ttotal: 1.14s\tremaining: 2.92s\n",
      "56:\tlearn: 1713.1809500\ttotal: 1.16s\tremaining: 2.9s\n",
      "57:\tlearn: 1710.7101485\ttotal: 1.18s\tremaining: 2.88s\n",
      "58:\tlearn: 1708.4615057\ttotal: 1.2s\tremaining: 2.86s\n",
      "59:\tlearn: 1706.7897229\ttotal: 1.22s\tremaining: 2.84s\n",
      "60:\tlearn: 1705.1914811\ttotal: 1.23s\tremaining: 2.81s\n",
      "61:\tlearn: 1702.8225780\ttotal: 1.25s\tremaining: 2.79s\n",
      "62:\tlearn: 1701.1017991\ttotal: 1.27s\tremaining: 2.77s\n",
      "63:\tlearn: 1699.8417633\ttotal: 1.29s\tremaining: 2.75s\n",
      "64:\tlearn: 1696.7504997\ttotal: 1.31s\tremaining: 2.73s\n",
      "65:\tlearn: 1695.1893177\ttotal: 1.33s\tremaining: 2.7s\n",
      "66:\tlearn: 1693.6407389\ttotal: 1.35s\tremaining: 2.68s\n",
      "67:\tlearn: 1692.4805922\ttotal: 1.38s\tremaining: 2.67s\n",
      "68:\tlearn: 1690.0682982\ttotal: 1.4s\tremaining: 2.65s\n",
      "69:\tlearn: 1688.5945478\ttotal: 1.42s\tremaining: 2.63s\n",
      "70:\tlearn: 1684.8497087\ttotal: 1.44s\tremaining: 2.61s\n",
      "71:\tlearn: 1683.0980631\ttotal: 1.46s\tremaining: 2.6s\n",
      "72:\tlearn: 1681.0058472\ttotal: 1.48s\tremaining: 2.58s\n",
      "73:\tlearn: 1679.5379003\ttotal: 1.5s\tremaining: 2.56s\n",
      "74:\tlearn: 1678.0913387\ttotal: 1.52s\tremaining: 2.53s\n",
      "75:\tlearn: 1677.0142298\ttotal: 1.54s\tremaining: 2.51s\n",
      "76:\tlearn: 1675.6969476\ttotal: 1.56s\tremaining: 2.49s\n",
      "77:\tlearn: 1674.1279120\ttotal: 1.58s\tremaining: 2.47s\n",
      "78:\tlearn: 1672.9077795\ttotal: 1.6s\tremaining: 2.45s\n",
      "79:\tlearn: 1671.3382864\ttotal: 1.62s\tremaining: 2.43s\n",
      "80:\tlearn: 1669.8496113\ttotal: 1.64s\tremaining: 2.41s\n",
      "81:\tlearn: 1667.6295000\ttotal: 1.66s\tremaining: 2.39s\n",
      "82:\tlearn: 1666.1963045\ttotal: 1.68s\tremaining: 2.37s\n",
      "83:\tlearn: 1665.4492246\ttotal: 1.7s\tremaining: 2.35s\n",
      "84:\tlearn: 1664.1894941\ttotal: 1.72s\tremaining: 2.33s\n",
      "85:\tlearn: 1662.3873496\ttotal: 1.74s\tremaining: 2.31s\n",
      "86:\tlearn: 1660.0169344\ttotal: 1.76s\tremaining: 2.29s\n",
      "87:\tlearn: 1658.1715036\ttotal: 1.78s\tremaining: 2.27s\n",
      "88:\tlearn: 1656.7678284\ttotal: 1.8s\tremaining: 2.25s\n",
      "89:\tlearn: 1655.1251468\ttotal: 1.82s\tremaining: 2.23s\n",
      "90:\tlearn: 1653.8835996\ttotal: 1.84s\tremaining: 2.21s\n",
      "91:\tlearn: 1653.0790707\ttotal: 1.86s\tremaining: 2.19s\n",
      "92:\tlearn: 1650.4514050\ttotal: 1.89s\tremaining: 2.17s\n",
      "93:\tlearn: 1649.3417651\ttotal: 1.9s\tremaining: 2.15s\n",
      "94:\tlearn: 1648.4104882\ttotal: 1.92s\tremaining: 2.13s\n",
      "95:\tlearn: 1647.0154317\ttotal: 1.95s\tremaining: 2.11s\n",
      "96:\tlearn: 1645.6027246\ttotal: 1.97s\tremaining: 2.09s\n",
      "97:\tlearn: 1643.6214288\ttotal: 1.99s\tremaining: 2.07s\n",
      "98:\tlearn: 1642.8690398\ttotal: 2.01s\tremaining: 2.05s\n",
      "99:\tlearn: 1641.2375736\ttotal: 2.03s\tremaining: 2.03s\n",
      "100:\tlearn: 1639.5554747\ttotal: 2.05s\tremaining: 2.01s\n",
      "101:\tlearn: 1638.5126978\ttotal: 2.07s\tremaining: 1.99s\n",
      "102:\tlearn: 1637.1439624\ttotal: 2.09s\tremaining: 1.97s\n",
      "103:\tlearn: 1636.0393747\ttotal: 2.11s\tremaining: 1.95s\n",
      "104:\tlearn: 1634.4597248\ttotal: 2.13s\tremaining: 1.93s\n",
      "105:\tlearn: 1633.3317861\ttotal: 2.15s\tremaining: 1.91s\n",
      "106:\tlearn: 1632.5038980\ttotal: 2.17s\tremaining: 1.89s\n",
      "107:\tlearn: 1631.5095676\ttotal: 2.19s\tremaining: 1.86s\n",
      "108:\tlearn: 1630.3545941\ttotal: 2.21s\tremaining: 1.84s\n",
      "109:\tlearn: 1629.8155215\ttotal: 2.22s\tremaining: 1.82s\n",
      "110:\tlearn: 1628.7841300\ttotal: 2.24s\tremaining: 1.8s\n",
      "111:\tlearn: 1627.8881456\ttotal: 2.26s\tremaining: 1.78s\n",
      "112:\tlearn: 1626.9479987\ttotal: 2.28s\tremaining: 1.76s\n",
      "113:\tlearn: 1625.8701764\ttotal: 2.3s\tremaining: 1.74s\n",
      "114:\tlearn: 1624.2967256\ttotal: 2.33s\tremaining: 1.72s\n",
      "115:\tlearn: 1623.5629942\ttotal: 2.34s\tremaining: 1.7s\n",
      "116:\tlearn: 1622.8817009\ttotal: 2.36s\tremaining: 1.68s\n",
      "117:\tlearn: 1621.9303138\ttotal: 2.38s\tremaining: 1.66s\n",
      "118:\tlearn: 1621.2497887\ttotal: 2.4s\tremaining: 1.63s\n",
      "119:\tlearn: 1620.3778160\ttotal: 2.42s\tremaining: 1.61s\n",
      "120:\tlearn: 1619.6653607\ttotal: 2.44s\tremaining: 1.59s\n",
      "121:\tlearn: 1618.9248655\ttotal: 2.46s\tremaining: 1.57s\n",
      "122:\tlearn: 1618.0370027\ttotal: 2.48s\tremaining: 1.55s\n",
      "123:\tlearn: 1616.8618852\ttotal: 2.5s\tremaining: 1.53s\n",
      "124:\tlearn: 1616.2440080\ttotal: 2.52s\tremaining: 1.51s\n",
      "125:\tlearn: 1615.2905231\ttotal: 2.54s\tremaining: 1.49s\n",
      "126:\tlearn: 1614.3215709\ttotal: 2.56s\tremaining: 1.47s\n",
      "127:\tlearn: 1613.6106888\ttotal: 2.58s\tremaining: 1.45s\n",
      "128:\tlearn: 1612.7468135\ttotal: 2.6s\tremaining: 1.43s\n",
      "129:\tlearn: 1611.6131236\ttotal: 2.62s\tremaining: 1.41s\n",
      "130:\tlearn: 1610.7754807\ttotal: 2.64s\tremaining: 1.39s\n",
      "131:\tlearn: 1609.3249996\ttotal: 2.66s\tremaining: 1.37s\n",
      "132:\tlearn: 1608.3160165\ttotal: 2.69s\tremaining: 1.35s\n",
      "133:\tlearn: 1607.4772725\ttotal: 2.72s\tremaining: 1.34s\n",
      "134:\tlearn: 1606.4264963\ttotal: 2.74s\tremaining: 1.32s\n",
      "135:\tlearn: 1605.4591728\ttotal: 2.77s\tremaining: 1.3s\n",
      "136:\tlearn: 1603.9491720\ttotal: 2.79s\tremaining: 1.28s\n",
      "137:\tlearn: 1603.1589102\ttotal: 2.81s\tremaining: 1.26s\n",
      "138:\tlearn: 1602.4464564\ttotal: 2.83s\tremaining: 1.24s\n",
      "139:\tlearn: 1601.9734657\ttotal: 2.85s\tremaining: 1.22s\n",
      "140:\tlearn: 1600.6437409\ttotal: 2.88s\tremaining: 1.21s\n",
      "141:\tlearn: 1599.5991189\ttotal: 2.91s\tremaining: 1.19s\n",
      "142:\tlearn: 1598.7455686\ttotal: 2.94s\tremaining: 1.17s\n",
      "143:\tlearn: 1597.8638272\ttotal: 2.96s\tremaining: 1.15s\n",
      "144:\tlearn: 1596.7412235\ttotal: 2.98s\tremaining: 1.13s\n",
      "145:\tlearn: 1596.0277772\ttotal: 3s\tremaining: 1.11s\n",
      "146:\tlearn: 1595.5024258\ttotal: 3.02s\tremaining: 1.09s\n",
      "147:\tlearn: 1594.5923473\ttotal: 3.04s\tremaining: 1.07s\n",
      "148:\tlearn: 1594.0907132\ttotal: 3.06s\tremaining: 1.05s\n",
      "149:\tlearn: 1593.2591168\ttotal: 3.08s\tremaining: 1.03s\n",
      "150:\tlearn: 1592.4191421\ttotal: 3.1s\tremaining: 1.01s\n",
      "151:\tlearn: 1591.6828660\ttotal: 3.13s\tremaining: 988ms\n",
      "152:\tlearn: 1591.0622348\ttotal: 3.15s\tremaining: 967ms\n",
      "153:\tlearn: 1589.8560900\ttotal: 3.17s\tremaining: 946ms\n",
      "154:\tlearn: 1588.8978374\ttotal: 3.19s\tremaining: 926ms\n",
      "155:\tlearn: 1588.3083641\ttotal: 3.21s\tremaining: 905ms\n",
      "156:\tlearn: 1587.9718446\ttotal: 3.23s\tremaining: 884ms\n",
      "157:\tlearn: 1587.0288358\ttotal: 3.25s\tremaining: 864ms\n",
      "158:\tlearn: 1586.3656242\ttotal: 3.27s\tremaining: 843ms\n",
      "159:\tlearn: 1585.7292530\ttotal: 3.29s\tremaining: 822ms\n",
      "160:\tlearn: 1585.1136062\ttotal: 3.31s\tremaining: 802ms\n",
      "161:\tlearn: 1584.5027918\ttotal: 3.33s\tremaining: 781ms\n",
      "162:\tlearn: 1583.6705736\ttotal: 3.35s\tremaining: 760ms\n",
      "163:\tlearn: 1583.2005682\ttotal: 3.37s\tremaining: 739ms\n",
      "164:\tlearn: 1582.4838945\ttotal: 3.39s\tremaining: 719ms\n",
      "165:\tlearn: 1581.9855279\ttotal: 3.41s\tremaining: 698ms\n",
      "166:\tlearn: 1581.5277631\ttotal: 3.43s\tremaining: 677ms\n",
      "167:\tlearn: 1580.7101704\ttotal: 3.45s\tremaining: 657ms\n",
      "168:\tlearn: 1580.0671636\ttotal: 3.47s\tremaining: 637ms\n",
      "169:\tlearn: 1579.2952586\ttotal: 3.49s\tremaining: 616ms\n",
      "170:\tlearn: 1578.8116485\ttotal: 3.51s\tremaining: 595ms\n",
      "171:\tlearn: 1578.1673186\ttotal: 3.53s\tremaining: 574ms\n",
      "172:\tlearn: 1577.7312583\ttotal: 3.55s\tremaining: 553ms\n",
      "173:\tlearn: 1576.8628639\ttotal: 3.57s\tremaining: 533ms\n",
      "174:\tlearn: 1575.8613002\ttotal: 3.58s\tremaining: 512ms\n",
      "175:\tlearn: 1575.1581372\ttotal: 3.6s\tremaining: 491ms\n",
      "176:\tlearn: 1574.7693058\ttotal: 3.62s\tremaining: 471ms\n",
      "177:\tlearn: 1574.0445864\ttotal: 3.64s\tremaining: 450ms\n",
      "178:\tlearn: 1573.2584147\ttotal: 3.67s\tremaining: 430ms\n",
      "179:\tlearn: 1572.4929837\ttotal: 3.69s\tremaining: 410ms\n",
      "180:\tlearn: 1572.0779103\ttotal: 3.71s\tremaining: 389ms\n",
      "181:\tlearn: 1571.2372588\ttotal: 3.72s\tremaining: 368ms\n",
      "182:\tlearn: 1570.6681873\ttotal: 3.74s\tremaining: 348ms\n",
      "183:\tlearn: 1570.0696970\ttotal: 3.76s\tremaining: 327ms\n",
      "184:\tlearn: 1569.2283627\ttotal: 3.78s\tremaining: 307ms\n",
      "185:\tlearn: 1568.6112766\ttotal: 3.8s\tremaining: 286ms\n",
      "186:\tlearn: 1567.7568252\ttotal: 3.82s\tremaining: 266ms\n",
      "187:\tlearn: 1567.3248016\ttotal: 3.84s\tremaining: 245ms\n",
      "188:\tlearn: 1566.9630201\ttotal: 3.86s\tremaining: 225ms\n",
      "189:\tlearn: 1566.2414776\ttotal: 3.88s\tremaining: 204ms\n",
      "190:\tlearn: 1565.5163502\ttotal: 3.9s\tremaining: 184ms\n",
      "191:\tlearn: 1565.0117807\ttotal: 3.91s\tremaining: 163ms\n",
      "192:\tlearn: 1564.2703228\ttotal: 3.93s\tremaining: 143ms\n",
      "193:\tlearn: 1563.6222785\ttotal: 3.95s\tremaining: 122ms\n",
      "194:\tlearn: 1562.9971471\ttotal: 3.97s\tremaining: 102ms\n",
      "195:\tlearn: 1562.1591572\ttotal: 3.99s\tremaining: 81.5ms\n",
      "196:\tlearn: 1561.6831843\ttotal: 4.01s\tremaining: 61ms\n",
      "197:\tlearn: 1561.0936648\ttotal: 4.03s\tremaining: 40.7ms\n",
      "198:\tlearn: 1560.8260705\ttotal: 4.05s\tremaining: 20.4ms\n",
      "199:\tlearn: 1560.5097500\ttotal: 4.07s\tremaining: 0us\n",
      "0:\tlearn: 3350.2438106\ttotal: 19.4ms\tremaining: 3.86s\n",
      "1:\tlearn: 2700.2052189\ttotal: 39.4ms\tremaining: 3.9s\n",
      "2:\tlearn: 2410.1456910\ttotal: 58.2ms\tremaining: 3.82s\n",
      "3:\tlearn: 2259.1342707\ttotal: 76.2ms\tremaining: 3.73s\n",
      "4:\tlearn: 2166.8307320\ttotal: 93.9ms\tremaining: 3.66s\n",
      "5:\tlearn: 2113.1270466\ttotal: 114ms\tremaining: 3.67s\n",
      "6:\tlearn: 2069.6751485\ttotal: 131ms\tremaining: 3.61s\n",
      "7:\tlearn: 2018.5540682\ttotal: 150ms\tremaining: 3.61s\n",
      "8:\tlearn: 1979.1764256\ttotal: 169ms\tremaining: 3.59s\n",
      "9:\tlearn: 1962.4420954\ttotal: 188ms\tremaining: 3.57s\n",
      "10:\tlearn: 1940.0518053\ttotal: 208ms\tremaining: 3.58s\n",
      "11:\tlearn: 1921.7888124\ttotal: 227ms\tremaining: 3.56s\n",
      "12:\tlearn: 1906.8687887\ttotal: 245ms\tremaining: 3.53s\n",
      "13:\tlearn: 1898.8448277\ttotal: 264ms\tremaining: 3.51s\n",
      "14:\tlearn: 1890.4050167\ttotal: 283ms\tremaining: 3.49s\n",
      "15:\tlearn: 1879.1935476\ttotal: 304ms\tremaining: 3.49s\n",
      "16:\tlearn: 1865.3789134\ttotal: 325ms\tremaining: 3.49s\n",
      "17:\tlearn: 1855.6271657\ttotal: 345ms\tremaining: 3.48s\n",
      "18:\tlearn: 1847.4925347\ttotal: 364ms\tremaining: 3.47s\n",
      "19:\tlearn: 1839.7194453\ttotal: 386ms\tremaining: 3.48s\n",
      "20:\tlearn: 1828.5556038\ttotal: 407ms\tremaining: 3.47s\n",
      "21:\tlearn: 1822.8550271\ttotal: 428ms\tremaining: 3.46s\n",
      "22:\tlearn: 1814.4512979\ttotal: 449ms\tremaining: 3.45s\n",
      "23:\tlearn: 1808.7144761\ttotal: 468ms\tremaining: 3.43s\n",
      "24:\tlearn: 1805.1965339\ttotal: 488ms\tremaining: 3.41s\n",
      "25:\tlearn: 1800.1232819\ttotal: 507ms\tremaining: 3.39s\n",
      "26:\tlearn: 1795.6943517\ttotal: 527ms\tremaining: 3.37s\n",
      "27:\tlearn: 1792.2651511\ttotal: 545ms\tremaining: 3.35s\n",
      "28:\tlearn: 1789.4385570\ttotal: 563ms\tremaining: 3.32s\n",
      "29:\tlearn: 1781.8624293\ttotal: 588ms\tremaining: 3.33s\n",
      "30:\tlearn: 1778.0768536\ttotal: 609ms\tremaining: 3.32s\n",
      "31:\tlearn: 1773.5395276\ttotal: 628ms\tremaining: 3.3s\n",
      "32:\tlearn: 1767.7233165\ttotal: 650ms\tremaining: 3.29s\n",
      "33:\tlearn: 1764.5290975\ttotal: 671ms\tremaining: 3.27s\n",
      "34:\tlearn: 1761.2098809\ttotal: 691ms\tremaining: 3.25s\n",
      "35:\tlearn: 1753.8516104\ttotal: 709ms\tremaining: 3.23s\n",
      "36:\tlearn: 1749.9363200\ttotal: 728ms\tremaining: 3.21s\n",
      "37:\tlearn: 1746.1826363\ttotal: 749ms\tremaining: 3.19s\n",
      "38:\tlearn: 1743.1664144\ttotal: 768ms\tremaining: 3.17s\n",
      "39:\tlearn: 1739.9158674\ttotal: 787ms\tremaining: 3.15s\n",
      "40:\tlearn: 1737.7799410\ttotal: 806ms\tremaining: 3.12s\n",
      "41:\tlearn: 1734.4904975\ttotal: 828ms\tremaining: 3.11s\n",
      "42:\tlearn: 1732.4568454\ttotal: 845ms\tremaining: 3.09s\n",
      "43:\tlearn: 1730.0207457\ttotal: 870ms\tremaining: 3.08s\n",
      "44:\tlearn: 1727.4335067\ttotal: 890ms\tremaining: 3.07s\n",
      "45:\tlearn: 1722.5820485\ttotal: 911ms\tremaining: 3.05s\n",
      "46:\tlearn: 1721.2738422\ttotal: 930ms\tremaining: 3.03s\n",
      "47:\tlearn: 1719.6663922\ttotal: 948ms\tremaining: 3s\n",
      "48:\tlearn: 1717.1739732\ttotal: 968ms\tremaining: 2.98s\n",
      "49:\tlearn: 1714.5783589\ttotal: 989ms\tremaining: 2.97s\n",
      "50:\tlearn: 1712.1517819\ttotal: 1.01s\tremaining: 2.94s\n",
      "51:\tlearn: 1709.6640351\ttotal: 1.03s\tremaining: 2.94s\n",
      "52:\tlearn: 1707.3223999\ttotal: 1.06s\tremaining: 2.93s\n",
      "53:\tlearn: 1704.3502631\ttotal: 1.09s\tremaining: 2.95s\n",
      "54:\tlearn: 1702.2425483\ttotal: 1.11s\tremaining: 2.93s\n",
      "55:\tlearn: 1699.3078012\ttotal: 1.13s\tremaining: 2.91s\n",
      "56:\tlearn: 1697.2033106\ttotal: 1.15s\tremaining: 2.89s\n",
      "57:\tlearn: 1695.4275243\ttotal: 1.17s\tremaining: 2.87s\n",
      "58:\tlearn: 1693.6853843\ttotal: 1.2s\tremaining: 2.87s\n",
      "59:\tlearn: 1691.5712242\ttotal: 1.22s\tremaining: 2.85s\n",
      "60:\tlearn: 1689.6308839\ttotal: 1.24s\tremaining: 2.83s\n",
      "61:\tlearn: 1688.1225685\ttotal: 1.26s\tremaining: 2.82s\n",
      "62:\tlearn: 1686.5850277\ttotal: 1.28s\tremaining: 2.79s\n",
      "63:\tlearn: 1685.3723469\ttotal: 1.3s\tremaining: 2.77s\n",
      "64:\tlearn: 1683.4403525\ttotal: 1.32s\tremaining: 2.74s\n",
      "65:\tlearn: 1681.8249377\ttotal: 1.34s\tremaining: 2.73s\n",
      "66:\tlearn: 1680.2548465\ttotal: 1.36s\tremaining: 2.71s\n",
      "67:\tlearn: 1678.0612691\ttotal: 1.39s\tremaining: 2.69s\n",
      "68:\tlearn: 1675.9655879\ttotal: 1.41s\tremaining: 2.67s\n",
      "69:\tlearn: 1674.5109589\ttotal: 1.43s\tremaining: 2.65s\n",
      "70:\tlearn: 1672.9682143\ttotal: 1.45s\tremaining: 2.64s\n",
      "71:\tlearn: 1671.0820818\ttotal: 1.48s\tremaining: 2.62s\n",
      "72:\tlearn: 1669.8606044\ttotal: 1.49s\tremaining: 2.6s\n",
      "73:\tlearn: 1668.6989258\ttotal: 1.51s\tremaining: 2.58s\n",
      "74:\tlearn: 1667.1593109\ttotal: 1.54s\tremaining: 2.56s\n",
      "75:\tlearn: 1665.8144702\ttotal: 1.56s\tremaining: 2.55s\n",
      "76:\tlearn: 1664.4646518\ttotal: 1.58s\tremaining: 2.52s\n",
      "77:\tlearn: 1662.0200668\ttotal: 1.6s\tremaining: 2.5s\n",
      "78:\tlearn: 1660.8412400\ttotal: 1.62s\tremaining: 2.48s\n",
      "79:\tlearn: 1659.8044069\ttotal: 1.65s\tremaining: 2.47s\n",
      "80:\tlearn: 1658.1427950\ttotal: 1.67s\tremaining: 2.45s\n",
      "81:\tlearn: 1656.3348914\ttotal: 1.69s\tremaining: 2.43s\n",
      "82:\tlearn: 1653.6634272\ttotal: 1.71s\tremaining: 2.41s\n",
      "83:\tlearn: 1652.2419352\ttotal: 1.73s\tremaining: 2.39s\n",
      "84:\tlearn: 1651.0221735\ttotal: 1.75s\tremaining: 2.38s\n",
      "85:\tlearn: 1649.2239262\ttotal: 1.78s\tremaining: 2.35s\n",
      "86:\tlearn: 1647.6802911\ttotal: 1.8s\tremaining: 2.34s\n",
      "87:\tlearn: 1646.3541442\ttotal: 1.82s\tremaining: 2.31s\n",
      "88:\tlearn: 1644.9416469\ttotal: 1.85s\tremaining: 2.3s\n",
      "89:\tlearn: 1644.1788261\ttotal: 1.87s\tremaining: 2.28s\n",
      "90:\tlearn: 1643.0990010\ttotal: 1.89s\tremaining: 2.26s\n",
      "91:\tlearn: 1642.3085696\ttotal: 1.9s\tremaining: 2.23s\n",
      "92:\tlearn: 1641.1512991\ttotal: 1.92s\tremaining: 2.21s\n",
      "93:\tlearn: 1639.9294121\ttotal: 1.95s\tremaining: 2.2s\n",
      "94:\tlearn: 1638.8430240\ttotal: 1.97s\tremaining: 2.18s\n",
      "95:\tlearn: 1637.8087307\ttotal: 1.99s\tremaining: 2.16s\n",
      "96:\tlearn: 1636.6225116\ttotal: 2.01s\tremaining: 2.13s\n",
      "97:\tlearn: 1635.6001804\ttotal: 2.03s\tremaining: 2.11s\n",
      "98:\tlearn: 1634.6934386\ttotal: 2.05s\tremaining: 2.09s\n",
      "99:\tlearn: 1633.5388875\ttotal: 2.07s\tremaining: 2.07s\n",
      "100:\tlearn: 1632.3312668\ttotal: 2.09s\tremaining: 2.05s\n",
      "101:\tlearn: 1630.7909555\ttotal: 2.11s\tremaining: 2.02s\n",
      "102:\tlearn: 1629.8223367\ttotal: 2.13s\tremaining: 2s\n",
      "103:\tlearn: 1629.0241183\ttotal: 2.15s\tremaining: 1.98s\n",
      "104:\tlearn: 1628.0775531\ttotal: 2.17s\tremaining: 1.96s\n",
      "105:\tlearn: 1626.0529723\ttotal: 2.19s\tremaining: 1.94s\n",
      "106:\tlearn: 1624.7478158\ttotal: 2.21s\tremaining: 1.92s\n",
      "107:\tlearn: 1623.6533724\ttotal: 2.23s\tremaining: 1.9s\n",
      "108:\tlearn: 1622.6104926\ttotal: 2.25s\tremaining: 1.88s\n",
      "109:\tlearn: 1621.7622787\ttotal: 2.27s\tremaining: 1.86s\n",
      "110:\tlearn: 1620.2650682\ttotal: 2.29s\tremaining: 1.84s\n",
      "111:\tlearn: 1619.3930874\ttotal: 2.31s\tremaining: 1.82s\n",
      "112:\tlearn: 1617.8343588\ttotal: 2.34s\tremaining: 1.8s\n",
      "113:\tlearn: 1616.9817881\ttotal: 2.36s\tremaining: 1.78s\n",
      "114:\tlearn: 1616.1968564\ttotal: 2.37s\tremaining: 1.75s\n",
      "115:\tlearn: 1614.8336569\ttotal: 2.39s\tremaining: 1.73s\n",
      "116:\tlearn: 1613.6059932\ttotal: 2.42s\tremaining: 1.71s\n",
      "117:\tlearn: 1612.7937766\ttotal: 2.43s\tremaining: 1.69s\n",
      "118:\tlearn: 1611.9952570\ttotal: 2.45s\tremaining: 1.67s\n",
      "119:\tlearn: 1611.1458626\ttotal: 2.47s\tremaining: 1.65s\n",
      "120:\tlearn: 1609.8230781\ttotal: 2.49s\tremaining: 1.63s\n",
      "121:\tlearn: 1609.2322666\ttotal: 2.52s\tremaining: 1.61s\n",
      "122:\tlearn: 1608.3227796\ttotal: 2.54s\tremaining: 1.59s\n",
      "123:\tlearn: 1606.9797926\ttotal: 2.56s\tremaining: 1.57s\n",
      "124:\tlearn: 1606.1530350\ttotal: 2.58s\tremaining: 1.54s\n",
      "125:\tlearn: 1605.5515037\ttotal: 2.59s\tremaining: 1.52s\n",
      "126:\tlearn: 1604.3741083\ttotal: 2.62s\tremaining: 1.5s\n",
      "127:\tlearn: 1602.8434979\ttotal: 2.64s\tremaining: 1.48s\n",
      "128:\tlearn: 1602.0417733\ttotal: 2.66s\tremaining: 1.46s\n",
      "129:\tlearn: 1601.0950746\ttotal: 2.67s\tremaining: 1.44s\n",
      "130:\tlearn: 1600.5095882\ttotal: 2.7s\tremaining: 1.42s\n",
      "131:\tlearn: 1599.7282947\ttotal: 2.72s\tremaining: 1.4s\n",
      "132:\tlearn: 1599.0780637\ttotal: 2.74s\tremaining: 1.38s\n",
      "133:\tlearn: 1598.4592794\ttotal: 2.76s\tremaining: 1.36s\n",
      "134:\tlearn: 1597.7779044\ttotal: 2.78s\tremaining: 1.34s\n",
      "135:\tlearn: 1597.3825183\ttotal: 2.79s\tremaining: 1.31s\n",
      "136:\tlearn: 1596.5333457\ttotal: 2.82s\tremaining: 1.29s\n",
      "137:\tlearn: 1595.7029577\ttotal: 2.83s\tremaining: 1.27s\n",
      "138:\tlearn: 1594.8693192\ttotal: 2.86s\tremaining: 1.25s\n",
      "139:\tlearn: 1594.1664979\ttotal: 2.88s\tremaining: 1.23s\n",
      "140:\tlearn: 1593.9287155\ttotal: 2.9s\tremaining: 1.21s\n",
      "141:\tlearn: 1593.2705992\ttotal: 2.92s\tremaining: 1.19s\n",
      "142:\tlearn: 1592.4051703\ttotal: 2.94s\tremaining: 1.17s\n",
      "143:\tlearn: 1591.3963896\ttotal: 2.96s\tremaining: 1.15s\n",
      "144:\tlearn: 1590.5513995\ttotal: 2.98s\tremaining: 1.13s\n",
      "145:\tlearn: 1589.8435565\ttotal: 3.01s\tremaining: 1.11s\n",
      "146:\tlearn: 1589.0863539\ttotal: 3.02s\tremaining: 1.09s\n",
      "147:\tlearn: 1588.2322156\ttotal: 3.04s\tremaining: 1.07s\n",
      "148:\tlearn: 1586.7239955\ttotal: 3.06s\tremaining: 1.05s\n",
      "149:\tlearn: 1585.9097967\ttotal: 3.08s\tremaining: 1.03s\n",
      "150:\tlearn: 1585.0009990\ttotal: 3.11s\tremaining: 1.01s\n",
      "151:\tlearn: 1584.2814793\ttotal: 3.13s\tremaining: 987ms\n",
      "152:\tlearn: 1583.7594848\ttotal: 3.15s\tremaining: 966ms\n",
      "153:\tlearn: 1583.3235472\ttotal: 3.17s\tremaining: 946ms\n",
      "154:\tlearn: 1582.7458304\ttotal: 3.19s\tremaining: 925ms\n",
      "155:\tlearn: 1582.4955230\ttotal: 3.21s\tremaining: 904ms\n",
      "156:\tlearn: 1581.4590280\ttotal: 3.22s\tremaining: 883ms\n",
      "157:\tlearn: 1580.5877540\ttotal: 3.24s\tremaining: 862ms\n",
      "158:\tlearn: 1580.0148388\ttotal: 3.26s\tremaining: 841ms\n",
      "159:\tlearn: 1579.3484891\ttotal: 3.29s\tremaining: 821ms\n",
      "160:\tlearn: 1578.5434211\ttotal: 3.31s\tremaining: 801ms\n",
      "161:\tlearn: 1577.4251767\ttotal: 3.33s\tremaining: 780ms\n",
      "162:\tlearn: 1576.6620607\ttotal: 3.35s\tremaining: 760ms\n",
      "163:\tlearn: 1575.8616563\ttotal: 3.37s\tremaining: 739ms\n",
      "164:\tlearn: 1575.3738377\ttotal: 3.39s\tremaining: 718ms\n",
      "165:\tlearn: 1574.4959857\ttotal: 3.41s\tremaining: 698ms\n",
      "166:\tlearn: 1573.4876237\ttotal: 3.43s\tremaining: 678ms\n",
      "167:\tlearn: 1572.9053607\ttotal: 3.45s\tremaining: 658ms\n",
      "168:\tlearn: 1572.4139028\ttotal: 3.47s\tremaining: 637ms\n",
      "169:\tlearn: 1571.6775257\ttotal: 3.49s\tremaining: 616ms\n",
      "170:\tlearn: 1570.6202928\ttotal: 3.52s\tremaining: 597ms\n",
      "171:\tlearn: 1570.0448737\ttotal: 3.55s\tremaining: 578ms\n",
      "172:\tlearn: 1569.1973319\ttotal: 3.57s\tremaining: 557ms\n",
      "173:\tlearn: 1567.9374613\ttotal: 3.6s\tremaining: 538ms\n",
      "174:\tlearn: 1567.1419603\ttotal: 3.62s\tremaining: 517ms\n",
      "175:\tlearn: 1566.2556734\ttotal: 3.64s\tremaining: 497ms\n",
      "176:\tlearn: 1565.7916139\ttotal: 3.66s\tremaining: 476ms\n",
      "177:\tlearn: 1565.0640665\ttotal: 3.68s\tremaining: 455ms\n",
      "178:\tlearn: 1564.6485049\ttotal: 3.7s\tremaining: 434ms\n",
      "179:\tlearn: 1564.1740799\ttotal: 3.72s\tremaining: 414ms\n",
      "180:\tlearn: 1563.5930824\ttotal: 3.74s\tremaining: 393ms\n",
      "181:\tlearn: 1563.1398472\ttotal: 3.76s\tremaining: 372ms\n",
      "182:\tlearn: 1562.0747167\ttotal: 3.78s\tremaining: 351ms\n",
      "183:\tlearn: 1561.3413181\ttotal: 3.8s\tremaining: 331ms\n",
      "184:\tlearn: 1560.9633520\ttotal: 3.82s\tremaining: 310ms\n",
      "185:\tlearn: 1560.3724687\ttotal: 3.84s\tremaining: 289ms\n",
      "186:\tlearn: 1559.8273836\ttotal: 3.86s\tremaining: 269ms\n",
      "187:\tlearn: 1559.1321641\ttotal: 3.89s\tremaining: 248ms\n",
      "188:\tlearn: 1558.4263696\ttotal: 3.91s\tremaining: 227ms\n",
      "189:\tlearn: 1557.9771101\ttotal: 3.93s\tremaining: 207ms\n",
      "190:\tlearn: 1557.5976058\ttotal: 3.95s\tremaining: 186ms\n",
      "191:\tlearn: 1556.6334708\ttotal: 3.97s\tremaining: 165ms\n",
      "192:\tlearn: 1556.4063194\ttotal: 3.99s\tremaining: 145ms\n",
      "193:\tlearn: 1556.1479196\ttotal: 4.01s\tremaining: 124ms\n",
      "194:\tlearn: 1555.5529502\ttotal: 4.03s\tremaining: 103ms\n",
      "195:\tlearn: 1555.1782746\ttotal: 4.05s\tremaining: 82.6ms\n",
      "196:\tlearn: 1554.6379864\ttotal: 4.07s\tremaining: 61.9ms\n",
      "197:\tlearn: 1554.1381081\ttotal: 4.08s\tremaining: 41.3ms\n",
      "198:\tlearn: 1553.9254939\ttotal: 4.11s\tremaining: 20.7ms\n",
      "199:\tlearn: 1553.5073950\ttotal: 4.13s\tremaining: 0us\n",
      "0:\tlearn: 3355.0059592\ttotal: 25.8ms\tremaining: 5.14s\n",
      "1:\tlearn: 2705.3938843\ttotal: 51.5ms\tremaining: 5.1s\n",
      "2:\tlearn: 2417.6943495\ttotal: 78.2ms\tremaining: 5.13s\n",
      "3:\tlearn: 2266.7402183\ttotal: 111ms\tremaining: 5.44s\n",
      "4:\tlearn: 2173.3562980\ttotal: 134ms\tremaining: 5.21s\n",
      "5:\tlearn: 2122.2891824\ttotal: 161ms\tremaining: 5.2s\n",
      "6:\tlearn: 2078.0746470\ttotal: 185ms\tremaining: 5.11s\n",
      "7:\tlearn: 2033.4808615\ttotal: 210ms\tremaining: 5.03s\n",
      "8:\tlearn: 2000.2170877\ttotal: 237ms\tremaining: 5.03s\n",
      "9:\tlearn: 1968.8137473\ttotal: 262ms\tremaining: 4.97s\n",
      "10:\tlearn: 1946.9093690\ttotal: 290ms\tremaining: 4.97s\n",
      "11:\tlearn: 1927.1054115\ttotal: 314ms\tremaining: 4.92s\n",
      "12:\tlearn: 1912.1222595\ttotal: 342ms\tremaining: 4.91s\n",
      "13:\tlearn: 1896.4626972\ttotal: 368ms\tremaining: 4.89s\n",
      "14:\tlearn: 1886.2363639\ttotal: 394ms\tremaining: 4.85s\n",
      "15:\tlearn: 1878.4164912\ttotal: 419ms\tremaining: 4.82s\n",
      "16:\tlearn: 1867.0906347\ttotal: 445ms\tremaining: 4.79s\n",
      "17:\tlearn: 1856.0980938\ttotal: 469ms\tremaining: 4.75s\n",
      "18:\tlearn: 1850.1935980\ttotal: 493ms\tremaining: 4.7s\n",
      "19:\tlearn: 1843.0409367\ttotal: 520ms\tremaining: 4.68s\n",
      "20:\tlearn: 1834.3100064\ttotal: 549ms\tremaining: 4.68s\n",
      "21:\tlearn: 1829.4158959\ttotal: 574ms\tremaining: 4.64s\n",
      "22:\tlearn: 1823.2120581\ttotal: 599ms\tremaining: 4.61s\n",
      "23:\tlearn: 1817.2321274\ttotal: 626ms\tremaining: 4.59s\n",
      "24:\tlearn: 1812.8968000\ttotal: 661ms\tremaining: 4.63s\n",
      "25:\tlearn: 1806.9186376\ttotal: 688ms\tremaining: 4.6s\n",
      "26:\tlearn: 1802.6740274\ttotal: 711ms\tremaining: 4.56s\n",
      "27:\tlearn: 1796.8200461\ttotal: 736ms\tremaining: 4.52s\n",
      "28:\tlearn: 1792.4728878\ttotal: 762ms\tremaining: 4.49s\n",
      "29:\tlearn: 1787.5430263\ttotal: 797ms\tremaining: 4.51s\n",
      "30:\tlearn: 1780.8145769\ttotal: 825ms\tremaining: 4.5s\n",
      "31:\tlearn: 1777.1502224\ttotal: 851ms\tremaining: 4.47s\n",
      "32:\tlearn: 1772.8055284\ttotal: 880ms\tremaining: 4.46s\n",
      "33:\tlearn: 1769.1295670\ttotal: 908ms\tremaining: 4.43s\n",
      "34:\tlearn: 1766.2941381\ttotal: 939ms\tremaining: 4.43s\n",
      "35:\tlearn: 1762.4683834\ttotal: 967ms\tremaining: 4.4s\n",
      "36:\tlearn: 1759.2285289\ttotal: 994ms\tremaining: 4.38s\n",
      "37:\tlearn: 1757.0044370\ttotal: 1.02s\tremaining: 4.35s\n",
      "38:\tlearn: 1755.5406360\ttotal: 1.04s\tremaining: 4.31s\n",
      "39:\tlearn: 1751.2071454\ttotal: 1.07s\tremaining: 4.3s\n",
      "40:\tlearn: 1748.7402636\ttotal: 1.1s\tremaining: 4.26s\n",
      "41:\tlearn: 1745.1938016\ttotal: 1.13s\tremaining: 4.24s\n",
      "42:\tlearn: 1742.6297001\ttotal: 1.15s\tremaining: 4.22s\n",
      "43:\tlearn: 1739.5478167\ttotal: 1.18s\tremaining: 4.19s\n",
      "44:\tlearn: 1736.5480086\ttotal: 1.21s\tremaining: 4.16s\n",
      "45:\tlearn: 1733.7450448\ttotal: 1.24s\tremaining: 4.14s\n",
      "46:\tlearn: 1731.5407328\ttotal: 1.27s\tremaining: 4.12s\n",
      "47:\tlearn: 1728.9426418\ttotal: 1.29s\tremaining: 4.1s\n",
      "48:\tlearn: 1726.6842691\ttotal: 1.32s\tremaining: 4.08s\n",
      "49:\tlearn: 1724.8954086\ttotal: 1.35s\tremaining: 4.05s\n",
      "50:\tlearn: 1721.5159103\ttotal: 1.38s\tremaining: 4.02s\n",
      "51:\tlearn: 1719.3377671\ttotal: 1.4s\tremaining: 3.99s\n",
      "52:\tlearn: 1717.5795980\ttotal: 1.43s\tremaining: 3.96s\n",
      "53:\tlearn: 1715.9665360\ttotal: 1.45s\tremaining: 3.93s\n",
      "54:\tlearn: 1712.2099577\ttotal: 1.48s\tremaining: 3.91s\n",
      "55:\tlearn: 1710.7676842\ttotal: 1.51s\tremaining: 3.88s\n",
      "56:\tlearn: 1709.5408243\ttotal: 1.53s\tremaining: 3.85s\n",
      "57:\tlearn: 1707.1058648\ttotal: 1.56s\tremaining: 3.83s\n",
      "58:\tlearn: 1705.0080099\ttotal: 1.59s\tremaining: 3.79s\n",
      "59:\tlearn: 1702.4353724\ttotal: 1.61s\tremaining: 3.76s\n",
      "60:\tlearn: 1700.5799800\ttotal: 1.64s\tremaining: 3.73s\n",
      "61:\tlearn: 1699.0594907\ttotal: 1.66s\tremaining: 3.7s\n",
      "62:\tlearn: 1697.3003650\ttotal: 1.69s\tremaining: 3.67s\n",
      "63:\tlearn: 1695.1041929\ttotal: 1.71s\tremaining: 3.64s\n",
      "64:\tlearn: 1693.7407082\ttotal: 1.74s\tremaining: 3.61s\n",
      "65:\tlearn: 1692.0809790\ttotal: 1.77s\tremaining: 3.6s\n",
      "66:\tlearn: 1690.1095119\ttotal: 1.81s\tremaining: 3.6s\n",
      "67:\tlearn: 1688.2953804\ttotal: 1.85s\tremaining: 3.59s\n",
      "68:\tlearn: 1686.4165074\ttotal: 1.89s\tremaining: 3.59s\n",
      "69:\tlearn: 1684.1463575\ttotal: 1.92s\tremaining: 3.57s\n",
      "70:\tlearn: 1682.3915847\ttotal: 1.95s\tremaining: 3.55s\n",
      "71:\tlearn: 1681.0640818\ttotal: 1.99s\tremaining: 3.53s\n",
      "72:\tlearn: 1679.3318903\ttotal: 2.02s\tremaining: 3.52s\n",
      "73:\tlearn: 1677.7179561\ttotal: 2.05s\tremaining: 3.49s\n",
      "74:\tlearn: 1676.4597008\ttotal: 2.08s\tremaining: 3.46s\n",
      "75:\tlearn: 1675.0333058\ttotal: 2.1s\tremaining: 3.43s\n",
      "76:\tlearn: 1673.6268588\ttotal: 2.13s\tremaining: 3.4s\n",
      "77:\tlearn: 1672.3572195\ttotal: 2.16s\tremaining: 3.37s\n",
      "78:\tlearn: 1670.8094730\ttotal: 2.18s\tremaining: 3.34s\n",
      "79:\tlearn: 1669.4775313\ttotal: 2.21s\tremaining: 3.31s\n",
      "80:\tlearn: 1668.6153967\ttotal: 2.23s\tremaining: 3.28s\n",
      "81:\tlearn: 1667.4179569\ttotal: 2.26s\tremaining: 3.25s\n",
      "82:\tlearn: 1666.1153941\ttotal: 2.28s\tremaining: 3.21s\n",
      "83:\tlearn: 1664.6482118\ttotal: 2.31s\tremaining: 3.19s\n",
      "84:\tlearn: 1663.9640770\ttotal: 2.34s\tremaining: 3.16s\n",
      "85:\tlearn: 1662.4315811\ttotal: 2.37s\tremaining: 3.14s\n",
      "86:\tlearn: 1661.3523699\ttotal: 2.39s\tremaining: 3.11s\n",
      "87:\tlearn: 1659.9103158\ttotal: 2.42s\tremaining: 3.08s\n",
      "88:\tlearn: 1659.0765312\ttotal: 2.44s\tremaining: 3.05s\n",
      "89:\tlearn: 1658.1221830\ttotal: 2.47s\tremaining: 3.02s\n",
      "90:\tlearn: 1656.9071214\ttotal: 2.5s\tremaining: 3s\n",
      "91:\tlearn: 1655.4694717\ttotal: 2.53s\tremaining: 2.97s\n",
      "92:\tlearn: 1653.7656130\ttotal: 2.55s\tremaining: 2.94s\n",
      "93:\tlearn: 1652.6438338\ttotal: 2.58s\tremaining: 2.91s\n",
      "94:\tlearn: 1651.4362403\ttotal: 2.61s\tremaining: 2.88s\n",
      "95:\tlearn: 1649.9744518\ttotal: 2.63s\tremaining: 2.85s\n",
      "96:\tlearn: 1649.3381099\ttotal: 2.66s\tremaining: 2.82s\n",
      "97:\tlearn: 1648.5203028\ttotal: 2.68s\tremaining: 2.79s\n",
      "98:\tlearn: 1647.4701544\ttotal: 2.72s\tremaining: 2.77s\n",
      "99:\tlearn: 1646.4751662\ttotal: 2.74s\tremaining: 2.74s\n",
      "100:\tlearn: 1645.6290317\ttotal: 2.77s\tremaining: 2.71s\n",
      "101:\tlearn: 1644.7036265\ttotal: 2.79s\tremaining: 2.68s\n",
      "102:\tlearn: 1643.4265160\ttotal: 2.82s\tremaining: 2.65s\n",
      "103:\tlearn: 1642.3689307\ttotal: 2.84s\tremaining: 2.63s\n",
      "104:\tlearn: 1641.7102057\ttotal: 2.87s\tremaining: 2.6s\n",
      "105:\tlearn: 1640.4443340\ttotal: 2.9s\tremaining: 2.57s\n",
      "106:\tlearn: 1638.8218030\ttotal: 2.92s\tremaining: 2.54s\n",
      "107:\tlearn: 1637.2786919\ttotal: 2.95s\tremaining: 2.52s\n",
      "108:\tlearn: 1636.1954690\ttotal: 2.98s\tremaining: 2.49s\n",
      "109:\tlearn: 1634.8531357\ttotal: 3.01s\tremaining: 2.46s\n",
      "110:\tlearn: 1633.9107233\ttotal: 3.04s\tremaining: 2.44s\n",
      "111:\tlearn: 1633.2476512\ttotal: 3.07s\tremaining: 2.41s\n",
      "112:\tlearn: 1632.5880265\ttotal: 3.1s\tremaining: 2.38s\n",
      "113:\tlearn: 1631.1553732\ttotal: 3.12s\tremaining: 2.35s\n",
      "114:\tlearn: 1629.8954969\ttotal: 3.15s\tremaining: 2.33s\n",
      "115:\tlearn: 1629.2047681\ttotal: 3.18s\tremaining: 2.3s\n",
      "116:\tlearn: 1628.0789284\ttotal: 3.21s\tremaining: 2.28s\n",
      "117:\tlearn: 1627.2067273\ttotal: 3.24s\tremaining: 2.25s\n",
      "118:\tlearn: 1626.2441549\ttotal: 3.27s\tremaining: 2.23s\n",
      "119:\tlearn: 1625.5119429\ttotal: 3.3s\tremaining: 2.2s\n",
      "120:\tlearn: 1624.1334149\ttotal: 3.34s\tremaining: 2.18s\n",
      "121:\tlearn: 1623.0293736\ttotal: 3.37s\tremaining: 2.15s\n",
      "122:\tlearn: 1622.0003965\ttotal: 3.39s\tremaining: 2.13s\n",
      "123:\tlearn: 1621.1573844\ttotal: 3.42s\tremaining: 2.1s\n",
      "124:\tlearn: 1619.9214830\ttotal: 3.45s\tremaining: 2.07s\n",
      "125:\tlearn: 1619.2981039\ttotal: 3.47s\tremaining: 2.04s\n",
      "126:\tlearn: 1618.3764626\ttotal: 3.5s\tremaining: 2.01s\n",
      "127:\tlearn: 1617.0875489\ttotal: 3.53s\tremaining: 1.99s\n",
      "128:\tlearn: 1615.5780894\ttotal: 3.56s\tremaining: 1.96s\n",
      "129:\tlearn: 1614.7326765\ttotal: 3.59s\tremaining: 1.93s\n",
      "130:\tlearn: 1614.0068455\ttotal: 3.61s\tremaining: 1.9s\n",
      "131:\tlearn: 1613.0681733\ttotal: 3.64s\tremaining: 1.87s\n",
      "132:\tlearn: 1612.3522296\ttotal: 3.67s\tremaining: 1.85s\n",
      "133:\tlearn: 1611.8681074\ttotal: 3.69s\tremaining: 1.82s\n",
      "134:\tlearn: 1611.1989704\ttotal: 3.72s\tremaining: 1.79s\n",
      "135:\tlearn: 1610.4087387\ttotal: 3.75s\tremaining: 1.76s\n",
      "136:\tlearn: 1609.7709909\ttotal: 3.77s\tremaining: 1.74s\n",
      "137:\tlearn: 1608.7368720\ttotal: 3.8s\tremaining: 1.71s\n",
      "138:\tlearn: 1608.0520035\ttotal: 3.83s\tremaining: 1.68s\n",
      "139:\tlearn: 1607.1849338\ttotal: 3.85s\tremaining: 1.65s\n",
      "140:\tlearn: 1606.6427112\ttotal: 3.88s\tremaining: 1.62s\n",
      "141:\tlearn: 1605.8453767\ttotal: 3.91s\tremaining: 1.6s\n",
      "142:\tlearn: 1605.1484575\ttotal: 3.94s\tremaining: 1.57s\n",
      "143:\tlearn: 1604.3670668\ttotal: 3.97s\tremaining: 1.54s\n",
      "144:\tlearn: 1603.3805176\ttotal: 4s\tremaining: 1.52s\n",
      "145:\tlearn: 1602.1750012\ttotal: 4.03s\tremaining: 1.49s\n",
      "146:\tlearn: 1601.4134177\ttotal: 4.05s\tremaining: 1.46s\n",
      "147:\tlearn: 1600.7024299\ttotal: 4.08s\tremaining: 1.43s\n",
      "148:\tlearn: 1600.2254704\ttotal: 4.1s\tremaining: 1.4s\n",
      "149:\tlearn: 1599.1212132\ttotal: 4.13s\tremaining: 1.38s\n",
      "150:\tlearn: 1598.5594257\ttotal: 4.16s\tremaining: 1.35s\n",
      "151:\tlearn: 1597.7974468\ttotal: 4.18s\tremaining: 1.32s\n",
      "152:\tlearn: 1597.4691478\ttotal: 4.21s\tremaining: 1.29s\n",
      "153:\tlearn: 1596.8601489\ttotal: 4.24s\tremaining: 1.27s\n",
      "154:\tlearn: 1595.9252128\ttotal: 4.27s\tremaining: 1.24s\n",
      "155:\tlearn: 1595.0592380\ttotal: 4.3s\tremaining: 1.21s\n",
      "156:\tlearn: 1594.2762764\ttotal: 4.33s\tremaining: 1.19s\n",
      "157:\tlearn: 1593.6566330\ttotal: 4.36s\tremaining: 1.16s\n",
      "158:\tlearn: 1591.6174637\ttotal: 4.38s\tremaining: 1.13s\n",
      "159:\tlearn: 1590.9064086\ttotal: 4.41s\tremaining: 1.1s\n",
      "160:\tlearn: 1590.0691959\ttotal: 4.44s\tremaining: 1.07s\n",
      "161:\tlearn: 1589.5081369\ttotal: 4.46s\tremaining: 1.05s\n",
      "162:\tlearn: 1588.9594157\ttotal: 4.49s\tremaining: 1.02s\n",
      "163:\tlearn: 1588.5220334\ttotal: 4.51s\tremaining: 990ms\n",
      "164:\tlearn: 1587.9297622\ttotal: 4.53s\tremaining: 962ms\n",
      "165:\tlearn: 1587.1354393\ttotal: 4.56s\tremaining: 934ms\n",
      "166:\tlearn: 1586.2027046\ttotal: 4.58s\tremaining: 906ms\n",
      "167:\tlearn: 1585.6609178\ttotal: 4.61s\tremaining: 878ms\n",
      "168:\tlearn: 1585.1575142\ttotal: 4.63s\tremaining: 850ms\n",
      "169:\tlearn: 1584.4454619\ttotal: 4.66s\tremaining: 822ms\n",
      "170:\tlearn: 1584.0855653\ttotal: 4.68s\tremaining: 794ms\n",
      "171:\tlearn: 1583.7743963\ttotal: 4.7s\tremaining: 766ms\n",
      "172:\tlearn: 1583.1383188\ttotal: 4.73s\tremaining: 738ms\n",
      "173:\tlearn: 1582.6835191\ttotal: 4.75s\tremaining: 710ms\n",
      "174:\tlearn: 1582.1196837\ttotal: 4.78s\tremaining: 682ms\n",
      "175:\tlearn: 1581.7477007\ttotal: 4.8s\tremaining: 655ms\n",
      "176:\tlearn: 1581.2481732\ttotal: 4.83s\tremaining: 627ms\n",
      "177:\tlearn: 1580.7001577\ttotal: 4.85s\tremaining: 600ms\n",
      "178:\tlearn: 1580.0747964\ttotal: 4.88s\tremaining: 573ms\n",
      "179:\tlearn: 1579.6405708\ttotal: 4.91s\tremaining: 545ms\n",
      "180:\tlearn: 1579.0946131\ttotal: 4.93s\tremaining: 518ms\n",
      "181:\tlearn: 1578.7815387\ttotal: 4.96s\tremaining: 490ms\n",
      "182:\tlearn: 1577.8117825\ttotal: 4.98s\tremaining: 463ms\n",
      "183:\tlearn: 1577.2048593\ttotal: 5.01s\tremaining: 435ms\n",
      "184:\tlearn: 1576.4884698\ttotal: 5.03s\tremaining: 408ms\n",
      "185:\tlearn: 1576.1219300\ttotal: 5.05s\tremaining: 381ms\n",
      "186:\tlearn: 1575.4281801\ttotal: 5.08s\tremaining: 353ms\n",
      "187:\tlearn: 1574.9326517\ttotal: 5.11s\tremaining: 326ms\n",
      "188:\tlearn: 1574.1309856\ttotal: 5.13s\tremaining: 299ms\n",
      "189:\tlearn: 1573.5675545\ttotal: 5.16s\tremaining: 271ms\n",
      "190:\tlearn: 1572.9958007\ttotal: 5.18s\tremaining: 244ms\n",
      "191:\tlearn: 1572.4121160\ttotal: 5.21s\tremaining: 217ms\n",
      "192:\tlearn: 1571.8868215\ttotal: 5.24s\tremaining: 190ms\n",
      "193:\tlearn: 1571.2676935\ttotal: 5.26s\tremaining: 163ms\n",
      "194:\tlearn: 1570.8670127\ttotal: 5.29s\tremaining: 136ms\n",
      "195:\tlearn: 1570.4835587\ttotal: 5.31s\tremaining: 108ms\n",
      "196:\tlearn: 1569.7727338\ttotal: 5.34s\tremaining: 81.3ms\n",
      "197:\tlearn: 1569.5566697\ttotal: 5.37s\tremaining: 54.2ms\n",
      "198:\tlearn: 1569.3002127\ttotal: 5.39s\tremaining: 27.1ms\n",
      "199:\tlearn: 1568.7593043\ttotal: 5.42s\tremaining: 0us\n",
      "RMSE дерева регрессий на тесте = 1568.7593042562828\n",
      "CPU times: user 26.6 s, sys: 245 ms, total: 26.8 s\n",
      "Wall time: 33.3 s\n"
     ]
    },
    {
     "data": {
      "text/plain": [
       "{'mean_fit_time': array([4.99451365]),\n",
       " 'std_fit_time': array([0.46676802]),\n",
       " 'mean_score_time': array([0.01405001]),\n",
       " 'std_score_time': array([0.00335892]),\n",
       " 'param_iterations': masked_array(data=[200],\n",
       "              mask=[False],\n",
       "        fill_value='?',\n",
       "             dtype=object),\n",
       " 'param_learning_rate': masked_array(data=[0.5],\n",
       "              mask=[False],\n",
       "        fill_value='?',\n",
       "             dtype=object),\n",
       " 'params': [{'iterations': 200, 'learning_rate': 0.5}],\n",
       " 'split0_test_score': array([0.87418886]),\n",
       " 'split1_test_score': array([0.87714962]),\n",
       " 'split2_test_score': array([0.87542726]),\n",
       " 'split3_test_score': array([0.87565373]),\n",
       " 'split4_test_score': array([0.86912357]),\n",
       " 'mean_test_score': array([0.87430861]),\n",
       " 'std_test_score': array([0.00275793]),\n",
       " 'rank_test_score': array([1], dtype=int32)}"
      ]
     },
     "execution_count": 59,
     "metadata": {},
     "output_type": "execute_result"
    }
   ],
   "source": [
    "%%time\n",
    "model = CatBoostRegressor()\n",
    "param = [{'learning_rate': [0.5], 'iterations':[200]}]\n",
    "grid = GridSearchCV(model, param, cv=5)\n",
    "grid.fit(ordinal_features_train, target_train)\n",
    "target_predict = grid.predict(ordinal_features_train)\n",
    "final_CBR = mean_squared_error(target_train, target_predict) ** 0.5\n",
    "print('RMSE дерева регрессий на train =', final_CBR)\n",
    "grid.cv_results_"
   ]
  },
  {
   "cell_type": "markdown",
   "metadata": {},
   "source": [
    "**Вывод:** Время обучения линейной регрессии равно 21с, скорость предсказаний 590 мс, качество модели (RMSE) 2676.  \n",
    "Время обучения дерева регрессии равно 4мс (в cv_results_ указан [0.36]), скорость предсказаний [0.009] в cv_results_ указано (без понятия секунды это или милисекунды или еще меньше число), качество модели (RMSE) 1503.  \n",
    "Время обучения LightGBM регрессора равно 2с ([2.01]), скорость предсказаний 4 мс [0.4], качество модели (RMSE) 1672.   \n",
    "Время обучения CatBoostRegressor равно 5с ([4.99]), скорость предсказаний 1мс [0.01], качесвто модели (RMSE) 1568.\n"
   ]
  },
  {
   "cell_type": "markdown",
   "metadata": {},
   "source": [
    "Выходит нам подходит три модели дерева регрессии, LightGBM регрессор, CatBoostRegressor. Я выберу LightGBM Regressor. "
   ]
  },
  {
   "cell_type": "markdown",
   "metadata": {},
   "source": [
    "Обучение на тесте одной лучшей модели:"
   ]
  },
  {
   "cell_type": "code",
   "execution_count": 60,
   "metadata": {},
   "outputs": [
    {
     "name": "stdout",
     "output_type": "stream",
     "text": [
      "CPU times: user 4.83 s, sys: 0 ns, total: 4.83 s\n",
      "Wall time: 4.77 s\n"
     ]
    },
    {
     "data": {
      "text/plain": [
       "LGBMRegressor()"
      ]
     },
     "execution_count": 60,
     "metadata": {},
     "output_type": "execute_result"
    }
   ],
   "source": [
    "%%time\n",
    "model = LGBMRegressor()\n",
    "model.fit(ordinal_features_train, target_train)"
   ]
  },
  {
   "cell_type": "code",
   "execution_count": 62,
   "metadata": {},
   "outputs": [
    {
     "name": "stdout",
     "output_type": "stream",
     "text": [
      "CPU times: user 532 ms, sys: 0 ns, total: 532 ms\n",
      "Wall time: 507 ms\n"
     ]
    }
   ],
   "source": [
    "%%time\n",
    "predict = model.predict(ordinal_features_test)"
   ]
  },
  {
   "cell_type": "code",
   "execution_count": 63,
   "metadata": {},
   "outputs": [
    {
     "name": "stdout",
     "output_type": "stream",
     "text": [
      "RMSE на тестовой выборке LGBMRegressor = 1729.619377074739\n",
      "CPU times: user 2.48 ms, sys: 0 ns, total: 2.48 ms\n",
      "Wall time: 1.41 ms\n"
     ]
    }
   ],
   "source": [
    "%%time\n",
    "final_LGBM = mean_squared_error(target_test, predict) ** 0.5\n",
    "print('RMSE на тестовой выборке LGBMRegressor =', final_LGBM)"
   ]
  },
  {
   "cell_type": "code",
   "execution_count": null,
   "metadata": {},
   "outputs": [],
   "source": []
  }
 ],
 "metadata": {
  "ExecuteTimeLog": [
   {
    "duration": 53,
    "start_time": "2023-02-07T18:19:25.233Z"
   },
   {
    "duration": 385,
    "start_time": "2023-02-07T18:19:41.984Z"
   },
   {
    "duration": 3199,
    "start_time": "2023-02-07T18:19:43.967Z"
   },
   {
    "duration": 143,
    "start_time": "2023-02-07T18:38:11.678Z"
   },
   {
    "duration": 168,
    "start_time": "2023-02-07T18:39:34.560Z"
   },
   {
    "duration": 41,
    "start_time": "2023-02-07T19:50:17.036Z"
   },
   {
    "duration": 4,
    "start_time": "2023-02-07T19:56:06.158Z"
   },
   {
    "duration": 207,
    "start_time": "2023-02-07T19:56:09.913Z"
   },
   {
    "duration": 203,
    "start_time": "2023-02-07T19:58:17.979Z"
   },
   {
    "duration": 192,
    "start_time": "2023-02-07T19:58:27.426Z"
   },
   {
    "duration": 427,
    "start_time": "2023-02-07T20:13:47.581Z"
   },
   {
    "duration": 237,
    "start_time": "2023-02-07T20:13:51.907Z"
   },
   {
    "duration": 171,
    "start_time": "2023-02-07T20:21:17.560Z"
   },
   {
    "duration": 219,
    "start_time": "2023-02-07T20:34:13.689Z"
   },
   {
    "duration": 878,
    "start_time": "2023-02-07T20:35:12.123Z"
   },
   {
    "duration": 243,
    "start_time": "2023-02-07T20:35:18.894Z"
   },
   {
    "duration": 254,
    "start_time": "2023-02-07T20:36:00.637Z"
   },
   {
    "duration": 3577,
    "start_time": "2023-02-07T20:36:50.649Z"
   },
   {
    "duration": 3590,
    "start_time": "2023-02-07T20:39:03.936Z"
   },
   {
    "duration": 3687,
    "start_time": "2023-02-07T20:39:24.160Z"
   },
   {
    "duration": 3605,
    "start_time": "2023-02-07T20:39:37.227Z"
   },
   {
    "duration": 3571,
    "start_time": "2023-02-07T20:39:55.959Z"
   },
   {
    "duration": 3666,
    "start_time": "2023-02-07T20:40:08.389Z"
   },
   {
    "duration": 3767,
    "start_time": "2023-02-07T20:40:21.228Z"
   },
   {
    "duration": 3963,
    "start_time": "2023-02-07T20:40:41.416Z"
   },
   {
    "duration": 16,
    "start_time": "2023-02-07T20:48:35.814Z"
   },
   {
    "duration": 52,
    "start_time": "2023-02-07T20:49:00.470Z"
   },
   {
    "duration": 149,
    "start_time": "2023-02-07T20:52:08.136Z"
   },
   {
    "duration": 182,
    "start_time": "2023-02-07T20:52:11.415Z"
   },
   {
    "duration": 163,
    "start_time": "2023-02-07T20:52:13.309Z"
   },
   {
    "duration": 152,
    "start_time": "2023-02-07T20:58:46.139Z"
   },
   {
    "duration": 1081,
    "start_time": "2023-02-08T16:10:41.532Z"
   },
   {
    "duration": 2213,
    "start_time": "2023-02-08T16:10:42.616Z"
   },
   {
    "duration": 252,
    "start_time": "2023-02-08T16:10:44.831Z"
   },
   {
    "duration": 451,
    "start_time": "2023-02-08T16:10:45.097Z"
   },
   {
    "duration": 73,
    "start_time": "2023-02-08T16:10:45.551Z"
   },
   {
    "duration": 112,
    "start_time": "2023-02-08T16:10:45.626Z"
   },
   {
    "duration": 131,
    "start_time": "2023-02-08T16:10:45.740Z"
   },
   {
    "duration": 289,
    "start_time": "2023-02-08T16:10:45.877Z"
   },
   {
    "duration": 242,
    "start_time": "2023-02-08T16:10:46.173Z"
   },
   {
    "duration": 284,
    "start_time": "2023-02-08T16:10:46.422Z"
   },
   {
    "duration": 272,
    "start_time": "2023-02-08T16:10:46.716Z"
   },
   {
    "duration": 5,
    "start_time": "2023-02-08T16:10:46.995Z"
   },
   {
    "duration": 104,
    "start_time": "2023-02-08T16:10:47.005Z"
   },
   {
    "duration": 152,
    "start_time": "2023-02-08T16:37:08.152Z"
   },
   {
    "duration": 6763,
    "start_time": "2023-02-08T16:57:38.059Z"
   },
   {
    "duration": 16936,
    "start_time": "2023-02-08T16:57:57.604Z"
   },
   {
    "duration": 42,
    "start_time": "2023-02-08T16:58:47.247Z"
   },
   {
    "duration": 92,
    "start_time": "2023-02-08T17:04:07.037Z"
   },
   {
    "duration": 174,
    "start_time": "2023-02-08T17:04:55.932Z"
   },
   {
    "duration": 420,
    "start_time": "2023-02-08T17:06:23.256Z"
   },
   {
    "duration": 888,
    "start_time": "2023-02-08T17:06:45.182Z"
   },
   {
    "duration": 1026,
    "start_time": "2023-02-08T17:06:46.073Z"
   },
   {
    "duration": 185,
    "start_time": "2023-02-08T17:06:47.101Z"
   },
   {
    "duration": 159,
    "start_time": "2023-02-08T17:06:47.290Z"
   },
   {
    "duration": 49,
    "start_time": "2023-02-08T17:06:47.457Z"
   },
   {
    "duration": 16,
    "start_time": "2023-02-08T17:06:47.508Z"
   },
   {
    "duration": 76,
    "start_time": "2023-02-08T17:06:47.527Z"
   },
   {
    "duration": 237,
    "start_time": "2023-02-08T17:06:47.606Z"
   },
   {
    "duration": 227,
    "start_time": "2023-02-08T17:06:47.853Z"
   },
   {
    "duration": 182,
    "start_time": "2023-02-08T17:06:48.088Z"
   },
   {
    "duration": 205,
    "start_time": "2023-02-08T17:06:48.271Z"
   },
   {
    "duration": 250,
    "start_time": "2023-02-08T17:06:48.478Z"
   },
   {
    "duration": 3,
    "start_time": "2023-02-08T17:06:48.730Z"
   },
   {
    "duration": 43,
    "start_time": "2023-02-08T17:06:48.735Z"
   },
   {
    "duration": 243,
    "start_time": "2023-02-08T17:09:02.623Z"
   },
   {
    "duration": 164,
    "start_time": "2023-02-08T17:09:29.078Z"
   },
   {
    "duration": 492,
    "start_time": "2023-02-08T17:09:38.573Z"
   },
   {
    "duration": 156,
    "start_time": "2023-02-08T17:09:45.530Z"
   },
   {
    "duration": 28,
    "start_time": "2023-02-08T17:40:27.197Z"
   },
   {
    "duration": 68,
    "start_time": "2023-02-08T17:45:00.078Z"
   },
   {
    "duration": 1115,
    "start_time": "2023-02-08T17:49:41.853Z"
   },
   {
    "duration": 2118,
    "start_time": "2023-02-08T18:02:59.376Z"
   },
   {
    "duration": 1566,
    "start_time": "2023-02-08T18:03:14.377Z"
   },
   {
    "duration": 476,
    "start_time": "2023-02-08T18:08:57.303Z"
   },
   {
    "duration": 1555,
    "start_time": "2023-02-08T18:09:10.709Z"
   },
   {
    "duration": 1502,
    "start_time": "2023-02-08T18:09:21.204Z"
   },
   {
    "duration": 1730,
    "start_time": "2023-02-08T18:09:45.291Z"
   },
   {
    "duration": 547,
    "start_time": "2023-02-08T18:11:41.380Z"
   },
   {
    "duration": 1028,
    "start_time": "2023-02-08T18:11:53.498Z"
   },
   {
    "duration": 1552,
    "start_time": "2023-02-08T18:11:54.528Z"
   },
   {
    "duration": 252,
    "start_time": "2023-02-08T18:11:56.082Z"
   },
   {
    "duration": 275,
    "start_time": "2023-02-08T18:11:56.337Z"
   },
   {
    "duration": 61,
    "start_time": "2023-02-08T18:11:56.625Z"
   },
   {
    "duration": 45,
    "start_time": "2023-02-08T18:11:56.692Z"
   },
   {
    "duration": 118,
    "start_time": "2023-02-08T18:11:56.745Z"
   },
   {
    "duration": 257,
    "start_time": "2023-02-08T18:11:56.870Z"
   },
   {
    "duration": 215,
    "start_time": "2023-02-08T18:11:57.132Z"
   },
   {
    "duration": 265,
    "start_time": "2023-02-08T18:11:57.355Z"
   },
   {
    "duration": 457,
    "start_time": "2023-02-08T18:11:57.626Z"
   },
   {
    "duration": 292,
    "start_time": "2023-02-08T18:11:58.089Z"
   },
   {
    "duration": 171,
    "start_time": "2023-02-08T18:11:58.387Z"
   },
   {
    "duration": 655,
    "start_time": "2023-02-08T18:11:58.564Z"
   },
   {
    "duration": 146,
    "start_time": "2023-02-08T18:11:59.231Z"
   },
   {
    "duration": 65,
    "start_time": "2023-02-08T18:11:59.386Z"
   },
   {
    "duration": 1636,
    "start_time": "2023-02-08T18:11:59.456Z"
   },
   {
    "duration": 466,
    "start_time": "2023-02-08T18:12:01.103Z"
   },
   {
    "duration": 35,
    "start_time": "2023-02-08T18:17:47.252Z"
   },
   {
    "duration": 120,
    "start_time": "2023-02-08T18:20:31.124Z"
   },
   {
    "duration": 100,
    "start_time": "2023-02-08T18:21:23.898Z"
   },
   {
    "duration": 108,
    "start_time": "2023-02-08T18:21:48.668Z"
   },
   {
    "duration": 129,
    "start_time": "2023-02-08T18:22:08.038Z"
   },
   {
    "duration": 841,
    "start_time": "2023-02-08T18:22:53.390Z"
   },
   {
    "duration": 1434,
    "start_time": "2023-02-08T18:22:54.233Z"
   },
   {
    "duration": 290,
    "start_time": "2023-02-08T18:22:55.678Z"
   },
   {
    "duration": 281,
    "start_time": "2023-02-08T18:22:55.978Z"
   },
   {
    "duration": 132,
    "start_time": "2023-02-08T18:22:56.268Z"
   },
   {
    "duration": 25,
    "start_time": "2023-02-08T18:22:56.413Z"
   },
   {
    "duration": 166,
    "start_time": "2023-02-08T18:22:56.440Z"
   },
   {
    "duration": 253,
    "start_time": "2023-02-08T18:22:56.608Z"
   },
   {
    "duration": 204,
    "start_time": "2023-02-08T18:22:56.867Z"
   },
   {
    "duration": 277,
    "start_time": "2023-02-08T18:22:57.078Z"
   },
   {
    "duration": 456,
    "start_time": "2023-02-08T18:22:57.357Z"
   },
   {
    "duration": 312,
    "start_time": "2023-02-08T18:22:57.817Z"
   },
   {
    "duration": 196,
    "start_time": "2023-02-08T18:22:58.131Z"
   },
   {
    "duration": 519,
    "start_time": "2023-02-08T18:22:58.329Z"
   },
   {
    "duration": 131,
    "start_time": "2023-02-08T18:22:58.850Z"
   },
   {
    "duration": 69,
    "start_time": "2023-02-08T18:22:58.986Z"
   },
   {
    "duration": 1483,
    "start_time": "2023-02-08T18:22:59.058Z"
   },
   {
    "duration": 463,
    "start_time": "2023-02-08T18:23:00.547Z"
   },
   {
    "duration": 78,
    "start_time": "2023-02-08T18:23:01.026Z"
   },
   {
    "duration": 220,
    "start_time": "2023-02-08T18:23:01.122Z"
   },
   {
    "duration": 104,
    "start_time": "2023-02-08T18:23:01.359Z"
   },
   {
    "duration": 65,
    "start_time": "2023-02-08T18:25:14.987Z"
   },
   {
    "duration": 541,
    "start_time": "2023-02-08T18:29:43.659Z"
   },
   {
    "duration": 725,
    "start_time": "2023-02-08T18:30:01.376Z"
   },
   {
    "duration": 750,
    "start_time": "2023-02-08T18:30:07.458Z"
   },
   {
    "duration": 64,
    "start_time": "2023-02-08T18:38:33.912Z"
   },
   {
    "duration": 1061,
    "start_time": "2023-02-08T19:21:38.987Z"
   },
   {
    "duration": 510,
    "start_time": "2023-02-08T19:23:06.383Z"
   },
   {
    "duration": 640,
    "start_time": "2023-02-08T19:23:40.518Z"
   },
   {
    "duration": 710,
    "start_time": "2023-02-08T19:23:52.378Z"
   },
   {
    "duration": 3,
    "start_time": "2023-02-08T19:24:08.279Z"
   },
   {
    "duration": 448,
    "start_time": "2023-02-08T19:53:43.387Z"
   },
   {
    "duration": 369,
    "start_time": "2023-02-08T19:55:01.439Z"
   },
   {
    "duration": 324,
    "start_time": "2023-02-08T19:55:26.225Z"
   },
   {
    "duration": 335,
    "start_time": "2023-02-08T19:55:37.387Z"
   },
   {
    "duration": 590,
    "start_time": "2023-02-08T19:56:13.345Z"
   },
   {
    "duration": 371,
    "start_time": "2023-02-08T19:57:02.367Z"
   },
   {
    "duration": 340,
    "start_time": "2023-02-08T20:04:34.030Z"
   },
   {
    "duration": 249,
    "start_time": "2023-02-08T20:05:02.238Z"
   },
   {
    "duration": 308,
    "start_time": "2023-02-08T20:05:37.266Z"
   },
   {
    "duration": 1379,
    "start_time": "2023-02-08T20:05:44.597Z"
   },
   {
    "duration": 1434,
    "start_time": "2023-02-08T20:05:45.978Z"
   },
   {
    "duration": 225,
    "start_time": "2023-02-08T20:05:47.414Z"
   },
   {
    "duration": 245,
    "start_time": "2023-02-08T20:05:47.641Z"
   },
   {
    "duration": 85,
    "start_time": "2023-02-08T20:05:47.889Z"
   },
   {
    "duration": 48,
    "start_time": "2023-02-08T20:05:47.982Z"
   },
   {
    "duration": 78,
    "start_time": "2023-02-08T20:05:48.032Z"
   },
   {
    "duration": 197,
    "start_time": "2023-02-08T20:05:48.112Z"
   },
   {
    "duration": 168,
    "start_time": "2023-02-08T20:05:48.311Z"
   },
   {
    "duration": 204,
    "start_time": "2023-02-08T20:05:48.482Z"
   },
   {
    "duration": 322,
    "start_time": "2023-02-08T20:05:48.688Z"
   },
   {
    "duration": 204,
    "start_time": "2023-02-08T20:05:49.012Z"
   },
   {
    "duration": 155,
    "start_time": "2023-02-08T20:05:49.219Z"
   },
   {
    "duration": 402,
    "start_time": "2023-02-08T20:05:49.376Z"
   },
   {
    "duration": 96,
    "start_time": "2023-02-08T20:05:49.781Z"
   },
   {
    "duration": 96,
    "start_time": "2023-02-08T20:05:49.879Z"
   },
   {
    "duration": 1084,
    "start_time": "2023-02-08T20:05:49.977Z"
   },
   {
    "duration": 421,
    "start_time": "2023-02-08T20:05:51.067Z"
   },
   {
    "duration": 30,
    "start_time": "2023-02-08T20:05:51.490Z"
   },
   {
    "duration": 85,
    "start_time": "2023-02-08T20:05:51.522Z"
   },
   {
    "duration": 318,
    "start_time": "2023-02-08T20:05:51.610Z"
   },
   {
    "duration": 36,
    "start_time": "2023-02-08T20:05:51.930Z"
   },
   {
    "duration": 420,
    "start_time": "2023-02-08T20:05:51.968Z"
   },
   {
    "duration": 251,
    "start_time": "2023-02-08T20:05:52.389Z"
   },
   {
    "duration": 1557,
    "start_time": "2023-02-08T20:07:08.943Z"
   },
   {
    "duration": 90,
    "start_time": "2023-02-08T20:10:35.137Z"
   },
   {
    "duration": 18,
    "start_time": "2023-02-08T20:17:13.070Z"
   },
   {
    "duration": 18,
    "start_time": "2023-02-08T20:18:57.381Z"
   },
   {
    "duration": 40,
    "start_time": "2023-02-08T20:18:58.081Z"
   },
   {
    "duration": 29,
    "start_time": "2023-02-08T20:19:07.091Z"
   },
   {
    "duration": 32,
    "start_time": "2023-02-08T20:19:13.785Z"
   },
   {
    "duration": 1174,
    "start_time": "2023-02-08T20:19:22.075Z"
   },
   {
    "duration": 981,
    "start_time": "2023-02-08T20:19:23.251Z"
   },
   {
    "duration": 234,
    "start_time": "2023-02-08T20:19:24.234Z"
   },
   {
    "duration": 204,
    "start_time": "2023-02-08T20:19:24.469Z"
   },
   {
    "duration": 40,
    "start_time": "2023-02-08T20:19:24.683Z"
   },
   {
    "duration": 35,
    "start_time": "2023-02-08T20:19:24.724Z"
   },
   {
    "duration": 98,
    "start_time": "2023-02-08T20:19:24.761Z"
   },
   {
    "duration": 234,
    "start_time": "2023-02-08T20:19:24.860Z"
   },
   {
    "duration": 147,
    "start_time": "2023-02-08T20:19:25.104Z"
   },
   {
    "duration": 186,
    "start_time": "2023-02-08T20:19:25.253Z"
   },
   {
    "duration": 362,
    "start_time": "2023-02-08T20:19:25.441Z"
   },
   {
    "duration": 243,
    "start_time": "2023-02-08T20:19:25.805Z"
   },
   {
    "duration": 147,
    "start_time": "2023-02-08T20:19:26.053Z"
   },
   {
    "duration": 441,
    "start_time": "2023-02-08T20:19:26.203Z"
   },
   {
    "duration": 134,
    "start_time": "2023-02-08T20:19:26.646Z"
   },
   {
    "duration": 117,
    "start_time": "2023-02-08T20:19:26.782Z"
   },
   {
    "duration": 1262,
    "start_time": "2023-02-08T20:19:26.901Z"
   },
   {
    "duration": 480,
    "start_time": "2023-02-08T20:19:28.165Z"
   },
   {
    "duration": 29,
    "start_time": "2023-02-08T20:19:28.658Z"
   },
   {
    "duration": 106,
    "start_time": "2023-02-08T20:19:28.689Z"
   },
   {
    "duration": 321,
    "start_time": "2023-02-08T20:19:28.797Z"
   },
   {
    "duration": 22,
    "start_time": "2023-02-08T20:19:29.120Z"
   },
   {
    "duration": 449,
    "start_time": "2023-02-08T20:19:29.143Z"
   },
   {
    "duration": 311,
    "start_time": "2023-02-08T20:19:29.594Z"
   },
   {
    "duration": 1270,
    "start_time": "2023-02-08T20:19:29.906Z"
   },
   {
    "duration": 54,
    "start_time": "2023-02-08T20:19:31.178Z"
   },
   {
    "duration": 41,
    "start_time": "2023-02-08T20:19:31.234Z"
   },
   {
    "duration": 30,
    "start_time": "2023-02-08T20:19:31.276Z"
   },
   {
    "duration": 14,
    "start_time": "2023-02-08T20:20:12.406Z"
   },
   {
    "duration": 43,
    "start_time": "2023-02-08T20:20:13.458Z"
   },
   {
    "duration": 1252,
    "start_time": "2023-02-08T20:20:24.886Z"
   },
   {
    "duration": 1067,
    "start_time": "2023-02-08T20:20:26.140Z"
   },
   {
    "duration": 164,
    "start_time": "2023-02-08T20:20:27.208Z"
   },
   {
    "duration": 174,
    "start_time": "2023-02-08T20:20:27.374Z"
   },
   {
    "duration": 54,
    "start_time": "2023-02-08T20:20:27.558Z"
   },
   {
    "duration": 18,
    "start_time": "2023-02-08T20:20:27.614Z"
   },
   {
    "duration": 77,
    "start_time": "2023-02-08T20:20:27.634Z"
   },
   {
    "duration": 234,
    "start_time": "2023-02-08T20:20:27.713Z"
   },
   {
    "duration": 172,
    "start_time": "2023-02-08T20:20:27.952Z"
   },
   {
    "duration": 186,
    "start_time": "2023-02-08T20:20:28.127Z"
   },
   {
    "duration": 293,
    "start_time": "2023-02-08T20:20:28.315Z"
   },
   {
    "duration": 191,
    "start_time": "2023-02-08T20:20:28.610Z"
   },
   {
    "duration": 117,
    "start_time": "2023-02-08T20:20:28.803Z"
   },
   {
    "duration": 424,
    "start_time": "2023-02-08T20:20:28.923Z"
   },
   {
    "duration": 91,
    "start_time": "2023-02-08T20:20:29.353Z"
   },
   {
    "duration": 61,
    "start_time": "2023-02-08T20:20:29.456Z"
   },
   {
    "duration": 1142,
    "start_time": "2023-02-08T20:20:29.520Z"
   },
   {
    "duration": 450,
    "start_time": "2023-02-08T20:20:30.669Z"
   },
   {
    "duration": 41,
    "start_time": "2023-02-08T20:20:31.121Z"
   },
   {
    "duration": 75,
    "start_time": "2023-02-08T20:20:31.164Z"
   },
   {
    "duration": 354,
    "start_time": "2023-02-08T20:20:31.241Z"
   },
   {
    "duration": 22,
    "start_time": "2023-02-08T20:20:31.599Z"
   },
   {
    "duration": 465,
    "start_time": "2023-02-08T20:20:31.623Z"
   },
   {
    "duration": 268,
    "start_time": "2023-02-08T20:20:32.093Z"
   },
   {
    "duration": 1252,
    "start_time": "2023-02-08T20:20:32.363Z"
   },
   {
    "duration": 75,
    "start_time": "2023-02-08T20:20:33.617Z"
   },
   {
    "duration": 18,
    "start_time": "2023-02-08T20:20:33.696Z"
   },
   {
    "duration": 16,
    "start_time": "2023-02-08T20:20:33.716Z"
   },
   {
    "duration": 34,
    "start_time": "2023-02-08T20:20:52.058Z"
   },
   {
    "duration": 32,
    "start_time": "2023-02-08T20:22:06.354Z"
   },
   {
    "duration": 42,
    "start_time": "2023-02-08T20:22:20.874Z"
   },
   {
    "duration": 20,
    "start_time": "2023-02-08T20:22:28.987Z"
   },
   {
    "duration": 27,
    "start_time": "2023-02-08T20:22:32.744Z"
   },
   {
    "duration": 362,
    "start_time": "2023-02-08T20:28:15.498Z"
   },
   {
    "duration": 84,
    "start_time": "2023-02-08T20:57:49.307Z"
   },
   {
    "duration": 40,
    "start_time": "2023-02-08T21:01:56.170Z"
   },
   {
    "duration": 17,
    "start_time": "2023-02-08T21:03:13.219Z"
   },
   {
    "duration": 1555,
    "start_time": "2023-02-08T21:03:37.434Z"
   },
   {
    "duration": 998,
    "start_time": "2023-02-08T21:03:38.990Z"
   },
   {
    "duration": 170,
    "start_time": "2023-02-08T21:03:39.993Z"
   },
   {
    "duration": 163,
    "start_time": "2023-02-08T21:03:40.167Z"
   },
   {
    "duration": 60,
    "start_time": "2023-02-08T21:03:40.333Z"
   },
   {
    "duration": 14,
    "start_time": "2023-02-08T21:03:40.396Z"
   },
   {
    "duration": 63,
    "start_time": "2023-02-08T21:03:40.412Z"
   },
   {
    "duration": 175,
    "start_time": "2023-02-08T21:03:40.482Z"
   },
   {
    "duration": 157,
    "start_time": "2023-02-08T21:03:40.658Z"
   },
   {
    "duration": 173,
    "start_time": "2023-02-08T21:03:40.817Z"
   },
   {
    "duration": 290,
    "start_time": "2023-02-08T21:03:40.994Z"
   },
   {
    "duration": 203,
    "start_time": "2023-02-08T21:03:41.286Z"
   },
   {
    "duration": 123,
    "start_time": "2023-02-08T21:03:41.491Z"
   },
   {
    "duration": 409,
    "start_time": "2023-02-08T21:03:41.617Z"
   },
   {
    "duration": 96,
    "start_time": "2023-02-08T21:03:42.028Z"
   },
   {
    "duration": 60,
    "start_time": "2023-02-08T21:03:42.126Z"
   },
   {
    "duration": 1140,
    "start_time": "2023-02-08T21:03:42.188Z"
   },
   {
    "duration": 373,
    "start_time": "2023-02-08T21:03:43.330Z"
   },
   {
    "duration": 25,
    "start_time": "2023-02-08T21:03:43.706Z"
   },
   {
    "duration": 78,
    "start_time": "2023-02-08T21:03:43.733Z"
   },
   {
    "duration": 322,
    "start_time": "2023-02-08T21:03:43.813Z"
   },
   {
    "duration": 42,
    "start_time": "2023-02-08T21:03:44.137Z"
   },
   {
    "duration": 433,
    "start_time": "2023-02-08T21:03:44.185Z"
   },
   {
    "duration": 335,
    "start_time": "2023-02-08T21:03:44.620Z"
   },
   {
    "duration": 1366,
    "start_time": "2023-02-08T21:03:44.961Z"
   },
   {
    "duration": 81,
    "start_time": "2023-02-08T21:03:46.329Z"
   },
   {
    "duration": 55,
    "start_time": "2023-02-08T21:03:46.412Z"
   },
   {
    "duration": 22,
    "start_time": "2023-02-08T21:03:46.471Z"
   },
   {
    "duration": 18,
    "start_time": "2023-02-08T21:03:46.495Z"
   },
   {
    "duration": 54,
    "start_time": "2023-02-08T21:03:46.514Z"
   },
   {
    "duration": 33,
    "start_time": "2023-02-08T21:03:46.570Z"
   },
   {
    "duration": 28,
    "start_time": "2023-02-08T21:03:46.605Z"
   },
   {
    "duration": 1451,
    "start_time": "2023-02-09T19:10:11.336Z"
   },
   {
    "duration": 2872,
    "start_time": "2023-02-09T19:10:12.789Z"
   },
   {
    "duration": 120,
    "start_time": "2023-02-09T19:10:15.663Z"
   },
   {
    "duration": 114,
    "start_time": "2023-02-09T19:10:15.785Z"
   },
   {
    "duration": 37,
    "start_time": "2023-02-09T19:10:15.902Z"
   },
   {
    "duration": 16,
    "start_time": "2023-02-09T19:10:15.941Z"
   },
   {
    "duration": 83,
    "start_time": "2023-02-09T19:10:15.959Z"
   },
   {
    "duration": 222,
    "start_time": "2023-02-09T19:10:16.044Z"
   },
   {
    "duration": 197,
    "start_time": "2023-02-09T19:10:16.268Z"
   },
   {
    "duration": 128,
    "start_time": "2023-02-09T19:10:16.467Z"
   },
   {
    "duration": 200,
    "start_time": "2023-02-09T19:10:16.597Z"
   },
   {
    "duration": 159,
    "start_time": "2023-02-09T19:10:16.798Z"
   },
   {
    "duration": 74,
    "start_time": "2023-02-09T19:10:16.958Z"
   },
   {
    "duration": 323,
    "start_time": "2023-02-09T19:10:17.035Z"
   },
   {
    "duration": 62,
    "start_time": "2023-02-09T19:10:17.359Z"
   },
   {
    "duration": 46,
    "start_time": "2023-02-09T19:10:17.423Z"
   },
   {
    "duration": 1090,
    "start_time": "2023-02-09T19:10:17.471Z"
   },
   {
    "duration": 311,
    "start_time": "2023-02-09T19:10:18.562Z"
   },
   {
    "duration": 29,
    "start_time": "2023-02-09T19:10:18.874Z"
   },
   {
    "duration": 49,
    "start_time": "2023-02-09T19:10:18.905Z"
   },
   {
    "duration": 331,
    "start_time": "2023-02-09T19:10:18.956Z"
   },
   {
    "duration": 23,
    "start_time": "2023-02-09T19:10:19.291Z"
   },
   {
    "duration": 438,
    "start_time": "2023-02-09T19:10:19.316Z"
   },
   {
    "duration": 263,
    "start_time": "2023-02-09T19:10:19.756Z"
   },
   {
    "duration": 1338,
    "start_time": "2023-02-09T19:10:20.022Z"
   },
   {
    "duration": 48,
    "start_time": "2023-02-09T19:10:21.363Z"
   },
   {
    "duration": 26,
    "start_time": "2023-02-09T19:10:21.412Z"
   },
   {
    "duration": 15,
    "start_time": "2023-02-09T19:10:21.440Z"
   },
   {
    "duration": 93,
    "start_time": "2023-02-09T19:10:21.458Z"
   },
   {
    "duration": 38,
    "start_time": "2023-02-09T19:10:21.553Z"
   },
   {
    "duration": 20,
    "start_time": "2023-02-09T19:10:21.593Z"
   },
   {
    "duration": 106,
    "start_time": "2023-02-09T19:10:21.615Z"
   },
   {
    "duration": 7,
    "start_time": "2023-02-09T20:36:27.902Z"
   },
   {
    "duration": 276,
    "start_time": "2023-02-09T20:36:29.504Z"
   },
   {
    "duration": 268,
    "start_time": "2023-02-09T20:48:20.807Z"
   },
   {
    "duration": 18,
    "start_time": "2023-02-09T20:48:36.502Z"
   },
   {
    "duration": 27,
    "start_time": "2023-02-09T21:03:31.817Z"
   },
   {
    "duration": 18,
    "start_time": "2023-02-09T21:24:15.586Z"
   },
   {
    "duration": 51,
    "start_time": "2023-02-09T21:36:30.058Z"
   },
   {
    "duration": 272,
    "start_time": "2023-02-09T21:37:05.706Z"
   },
   {
    "duration": 4,
    "start_time": "2023-02-09T21:41:53.009Z"
   },
   {
    "duration": 3,
    "start_time": "2023-02-09T21:43:04.723Z"
   },
   {
    "duration": 1660,
    "start_time": "2023-02-10T11:34:02.002Z"
   },
   {
    "duration": 3259,
    "start_time": "2023-02-10T11:34:03.664Z"
   },
   {
    "duration": 128,
    "start_time": "2023-02-10T11:34:06.924Z"
   },
   {
    "duration": 133,
    "start_time": "2023-02-10T11:34:07.055Z"
   },
   {
    "duration": 45,
    "start_time": "2023-02-10T11:34:07.189Z"
   },
   {
    "duration": 12,
    "start_time": "2023-02-10T11:34:07.235Z"
   },
   {
    "duration": 43,
    "start_time": "2023-02-10T11:34:07.248Z"
   },
   {
    "duration": 186,
    "start_time": "2023-02-10T11:34:07.293Z"
   },
   {
    "duration": 141,
    "start_time": "2023-02-10T11:34:07.481Z"
   },
   {
    "duration": 139,
    "start_time": "2023-02-10T11:34:07.625Z"
   },
   {
    "duration": 248,
    "start_time": "2023-02-10T11:34:07.765Z"
   },
   {
    "duration": 188,
    "start_time": "2023-02-10T11:34:08.020Z"
   },
   {
    "duration": 112,
    "start_time": "2023-02-10T11:34:08.210Z"
   },
   {
    "duration": 353,
    "start_time": "2023-02-10T11:34:08.324Z"
   },
   {
    "duration": 82,
    "start_time": "2023-02-10T11:34:08.678Z"
   },
   {
    "duration": 64,
    "start_time": "2023-02-10T11:34:08.762Z"
   },
   {
    "duration": 1158,
    "start_time": "2023-02-10T11:34:08.828Z"
   },
   {
    "duration": 319,
    "start_time": "2023-02-10T11:34:09.988Z"
   },
   {
    "duration": 36,
    "start_time": "2023-02-10T11:34:10.309Z"
   },
   {
    "duration": 52,
    "start_time": "2023-02-10T11:34:10.347Z"
   },
   {
    "duration": 321,
    "start_time": "2023-02-10T11:34:10.400Z"
   },
   {
    "duration": 20,
    "start_time": "2023-02-10T11:34:10.723Z"
   },
   {
    "duration": 397,
    "start_time": "2023-02-10T11:34:10.745Z"
   },
   {
    "duration": 254,
    "start_time": "2023-02-10T11:34:11.144Z"
   },
   {
    "duration": 1273,
    "start_time": "2023-02-10T11:34:11.400Z"
   },
   {
    "duration": 56,
    "start_time": "2023-02-10T11:34:12.675Z"
   },
   {
    "duration": 24,
    "start_time": "2023-02-10T11:34:12.732Z"
   },
   {
    "duration": 11,
    "start_time": "2023-02-10T11:34:12.760Z"
   },
   {
    "duration": 12,
    "start_time": "2023-02-10T11:34:12.773Z"
   },
   {
    "duration": 68,
    "start_time": "2023-02-10T11:34:12.787Z"
   },
   {
    "duration": 23,
    "start_time": "2023-02-10T11:34:12.857Z"
   },
   {
    "duration": 53,
    "start_time": "2023-02-10T11:34:12.882Z"
   },
   {
    "duration": 8,
    "start_time": "2023-02-10T11:34:12.937Z"
   },
   {
    "duration": 336,
    "start_time": "2023-02-10T11:34:12.947Z"
   },
   {
    "duration": 368,
    "start_time": "2023-02-10T11:34:13.285Z"
   },
   {
    "duration": 20,
    "start_time": "2023-02-10T11:34:13.654Z"
   },
   {
    "duration": 29,
    "start_time": "2023-02-10T11:34:13.676Z"
   },
   {
    "duration": 262,
    "start_time": "2023-02-10T11:34:13.721Z"
   },
   {
    "duration": 5,
    "start_time": "2023-02-10T11:34:13.985Z"
   },
   {
    "duration": 10,
    "start_time": "2023-02-10T11:34:13.992Z"
   },
   {
    "duration": 5,
    "start_time": "2023-02-10T12:14:19.324Z"
   },
   {
    "duration": 40,
    "start_time": "2023-02-10T13:16:31.451Z"
   },
   {
    "duration": 175,
    "start_time": "2023-02-10T13:17:33.245Z"
   },
   {
    "duration": 24,
    "start_time": "2023-02-10T13:18:33.981Z"
   },
   {
    "duration": 63,
    "start_time": "2023-02-10T13:18:44.213Z"
   },
   {
    "duration": 6,
    "start_time": "2023-02-10T13:22:47.026Z"
   },
   {
    "duration": 63485,
    "start_time": "2023-02-10T13:22:54.363Z"
   },
   {
    "duration": 65970,
    "start_time": "2023-02-10T13:29:26.252Z"
   },
   {
    "duration": 56513,
    "start_time": "2023-02-10T13:33:47.310Z"
   },
   {
    "duration": 70,
    "start_time": "2023-02-10T13:41:58.671Z"
   },
   {
    "duration": 5,
    "start_time": "2023-02-10T13:42:58.320Z"
   },
   {
    "duration": 53629,
    "start_time": "2023-02-10T13:43:10.793Z"
   },
   {
    "duration": 26,
    "start_time": "2023-02-10T14:02:13.965Z"
   },
   {
    "duration": 56821,
    "start_time": "2023-02-10T14:21:44.561Z"
   },
   {
    "duration": 352051,
    "start_time": "2023-02-10T14:24:06.190Z"
   },
   {
    "duration": 3,
    "start_time": "2023-02-10T14:34:52.796Z"
   },
   {
    "duration": 4,
    "start_time": "2023-02-10T14:37:26.775Z"
   },
   {
    "duration": 42,
    "start_time": "2023-02-10T14:38:32.858Z"
   },
   {
    "duration": 42046,
    "start_time": "2023-02-10T14:39:10.868Z"
   },
   {
    "duration": 12421,
    "start_time": "2023-02-10T14:48:46.078Z"
   },
   {
    "duration": 12686,
    "start_time": "2023-02-10T14:49:17.605Z"
   },
   {
    "duration": 13038,
    "start_time": "2023-02-10T14:51:22.785Z"
   },
   {
    "duration": 13352,
    "start_time": "2023-02-10T14:52:04.581Z"
   },
   {
    "duration": 1419,
    "start_time": "2023-02-10T14:52:17.935Z"
   },
   {
    "duration": 3,
    "start_time": "2023-02-10T16:00:38.778Z"
   },
   {
    "duration": 46,
    "start_time": "2023-02-10T16:36:38.421Z"
   },
   {
    "duration": 64,
    "start_time": "2023-02-10T17:17:40.268Z"
   },
   {
    "duration": 7,
    "start_time": "2023-02-10T17:19:12.681Z"
   },
   {
    "duration": 476064,
    "start_time": "2023-02-10T17:19:27.582Z"
   },
   {
    "duration": 2070247,
    "start_time": "2023-02-10T17:32:18.386Z"
   },
   {
    "duration": 1616,
    "start_time": "2023-02-10T18:16:07.654Z"
   },
   {
    "duration": 1037,
    "start_time": "2023-02-10T18:16:09.272Z"
   },
   {
    "duration": 166,
    "start_time": "2023-02-10T18:16:10.311Z"
   },
   {
    "duration": 253,
    "start_time": "2023-02-10T18:16:10.479Z"
   },
   {
    "duration": 41,
    "start_time": "2023-02-10T18:16:10.734Z"
   },
   {
    "duration": 23,
    "start_time": "2023-02-10T18:16:10.778Z"
   },
   {
    "duration": 75,
    "start_time": "2023-02-10T18:16:10.804Z"
   },
   {
    "duration": 201,
    "start_time": "2023-02-10T18:16:10.881Z"
   },
   {
    "duration": 157,
    "start_time": "2023-02-10T18:16:11.083Z"
   },
   {
    "duration": 165,
    "start_time": "2023-02-10T18:16:11.244Z"
   },
   {
    "duration": 254,
    "start_time": "2023-02-10T18:16:11.411Z"
   },
   {
    "duration": 197,
    "start_time": "2023-02-10T18:16:11.667Z"
   },
   {
    "duration": 100,
    "start_time": "2023-02-10T18:16:11.866Z"
   },
   {
    "duration": 397,
    "start_time": "2023-02-10T18:16:11.968Z"
   },
   {
    "duration": 105,
    "start_time": "2023-02-10T18:16:12.367Z"
   },
   {
    "duration": 57,
    "start_time": "2023-02-10T18:16:12.473Z"
   },
   {
    "duration": 1255,
    "start_time": "2023-02-10T18:16:12.532Z"
   },
   {
    "duration": 364,
    "start_time": "2023-02-10T18:16:13.789Z"
   },
   {
    "duration": 25,
    "start_time": "2023-02-10T18:16:14.156Z"
   },
   {
    "duration": 79,
    "start_time": "2023-02-10T18:16:14.184Z"
   },
   {
    "duration": 362,
    "start_time": "2023-02-10T18:16:14.265Z"
   },
   {
    "duration": 27,
    "start_time": "2023-02-10T18:16:14.629Z"
   },
   {
    "duration": 510,
    "start_time": "2023-02-10T18:16:14.658Z"
   },
   {
    "duration": 292,
    "start_time": "2023-02-10T18:16:15.171Z"
   },
   {
    "duration": 1272,
    "start_time": "2023-02-10T18:16:15.465Z"
   },
   {
    "duration": 57,
    "start_time": "2023-02-10T18:16:16.739Z"
   },
   {
    "duration": 38,
    "start_time": "2023-02-10T18:16:16.798Z"
   },
   {
    "duration": 21,
    "start_time": "2023-02-10T18:16:16.840Z"
   },
   {
    "duration": 21,
    "start_time": "2023-02-10T18:16:16.863Z"
   },
   {
    "duration": 71,
    "start_time": "2023-02-10T18:16:16.886Z"
   },
   {
    "duration": 63,
    "start_time": "2023-02-10T18:16:16.959Z"
   },
   {
    "duration": 30,
    "start_time": "2023-02-10T18:16:17.024Z"
   },
   {
    "duration": 10,
    "start_time": "2023-02-10T18:16:17.055Z"
   },
   {
    "duration": 354,
    "start_time": "2023-02-10T18:16:17.067Z"
   },
   {
    "duration": 339,
    "start_time": "2023-02-10T18:16:17.423Z"
   },
   {
    "duration": 21,
    "start_time": "2023-02-10T18:16:17.764Z"
   },
   {
    "duration": 55,
    "start_time": "2023-02-10T18:16:17.788Z"
   },
   {
    "duration": 273,
    "start_time": "2023-02-10T18:16:17.845Z"
   },
   {
    "duration": 5,
    "start_time": "2023-02-10T18:16:18.120Z"
   },
   {
    "duration": 7,
    "start_time": "2023-02-10T18:16:18.127Z"
   },
   {
    "duration": 7,
    "start_time": "2023-02-10T18:16:18.135Z"
   },
   {
    "duration": 72777,
    "start_time": "2023-02-10T18:16:18.144Z"
   },
   {
    "duration": 68707,
    "start_time": "2023-02-10T18:17:30.923Z"
   },
   {
    "duration": 354013,
    "start_time": "2023-02-10T18:18:39.634Z"
   },
   {
    "duration": 13318,
    "start_time": "2023-02-10T18:24:33.649Z"
   },
   {
    "duration": 43653,
    "start_time": "2023-02-10T18:24:46.969Z"
   },
   {
    "duration": 1325,
    "start_time": "2023-02-10T18:25:30.624Z"
   },
   {
    "duration": 2173593,
    "start_time": "2023-02-10T18:25:31.951Z"
   },
   {
    "duration": 31,
    "start_time": "2023-02-10T19:01:45.546Z"
   },
   {
    "duration": 0,
    "start_time": "2023-02-10T19:01:45.579Z"
   },
   {
    "duration": 68,
    "start_time": "2023-02-10T19:04:03.857Z"
   },
   {
    "duration": 15,
    "start_time": "2023-02-10T19:05:31.199Z"
   },
   {
    "duration": 1504,
    "start_time": "2023-02-10T19:08:51.572Z"
   },
   {
    "duration": 911,
    "start_time": "2023-02-10T19:08:53.078Z"
   },
   {
    "duration": 157,
    "start_time": "2023-02-10T19:08:53.991Z"
   },
   {
    "duration": 144,
    "start_time": "2023-02-10T19:08:54.151Z"
   },
   {
    "duration": 46,
    "start_time": "2023-02-10T19:08:54.297Z"
   },
   {
    "duration": 14,
    "start_time": "2023-02-10T19:08:54.345Z"
   },
   {
    "duration": 72,
    "start_time": "2023-02-10T19:08:54.361Z"
   },
   {
    "duration": 242,
    "start_time": "2023-02-10T19:08:54.435Z"
   },
   {
    "duration": 157,
    "start_time": "2023-02-10T19:08:54.679Z"
   },
   {
    "duration": 146,
    "start_time": "2023-02-10T19:08:54.839Z"
   },
   {
    "duration": 277,
    "start_time": "2023-02-10T19:08:54.988Z"
   },
   {
    "duration": 195,
    "start_time": "2023-02-10T19:08:55.267Z"
   },
   {
    "duration": 127,
    "start_time": "2023-02-10T19:08:55.464Z"
   },
   {
    "duration": 366,
    "start_time": "2023-02-10T19:08:55.593Z"
   },
   {
    "duration": 83,
    "start_time": "2023-02-10T19:08:55.961Z"
   },
   {
    "duration": 76,
    "start_time": "2023-02-10T19:08:56.046Z"
   },
   {
    "duration": 1273,
    "start_time": "2023-02-10T19:08:56.125Z"
   },
   {
    "duration": 329,
    "start_time": "2023-02-10T19:08:57.401Z"
   },
   {
    "duration": 26,
    "start_time": "2023-02-10T19:08:57.731Z"
   },
   {
    "duration": 71,
    "start_time": "2023-02-10T19:08:57.758Z"
   },
   {
    "duration": 316,
    "start_time": "2023-02-10T19:08:57.831Z"
   },
   {
    "duration": 20,
    "start_time": "2023-02-10T19:08:58.149Z"
   },
   {
    "duration": 408,
    "start_time": "2023-02-10T19:08:58.171Z"
   },
   {
    "duration": 279,
    "start_time": "2023-02-10T19:08:58.581Z"
   },
   {
    "duration": 1316,
    "start_time": "2023-02-10T19:08:58.861Z"
   },
   {
    "duration": 59,
    "start_time": "2023-02-10T19:09:00.179Z"
   },
   {
    "duration": 30,
    "start_time": "2023-02-10T19:09:00.240Z"
   },
   {
    "duration": 23,
    "start_time": "2023-02-10T19:09:00.274Z"
   },
   {
    "duration": 64,
    "start_time": "2023-02-10T19:09:00.320Z"
   },
   {
    "duration": 66,
    "start_time": "2023-02-10T19:09:00.386Z"
   },
   {
    "duration": 26,
    "start_time": "2023-02-10T19:09:00.454Z"
   },
   {
    "duration": 50,
    "start_time": "2023-02-10T19:09:00.481Z"
   },
   {
    "duration": 10,
    "start_time": "2023-02-10T19:09:00.533Z"
   },
   {
    "duration": 367,
    "start_time": "2023-02-10T19:09:00.545Z"
   },
   {
    "duration": 367,
    "start_time": "2023-02-10T19:09:00.914Z"
   },
   {
    "duration": 21,
    "start_time": "2023-02-10T19:09:01.283Z"
   },
   {
    "duration": 61,
    "start_time": "2023-02-10T19:09:01.306Z"
   },
   {
    "duration": 281,
    "start_time": "2023-02-10T19:09:01.369Z"
   },
   {
    "duration": 4,
    "start_time": "2023-02-10T19:09:01.652Z"
   },
   {
    "duration": 28,
    "start_time": "2023-02-10T19:09:01.658Z"
   },
   {
    "duration": 20,
    "start_time": "2023-02-10T19:09:01.688Z"
   },
   {
    "duration": 85813,
    "start_time": "2023-02-10T19:09:01.710Z"
   },
   {
    "duration": 71905,
    "start_time": "2023-02-10T19:10:27.525Z"
   },
   {
    "duration": 351743,
    "start_time": "2023-02-10T19:11:39.432Z"
   },
   {
    "duration": 12887,
    "start_time": "2023-02-10T19:17:31.177Z"
   },
   {
    "duration": 40028,
    "start_time": "2023-02-10T19:17:44.067Z"
   },
   {
    "duration": 1414,
    "start_time": "2023-02-10T19:18:24.096Z"
   },
   {
    "duration": 168,
    "start_time": "2023-02-10T19:18:25.512Z"
   },
   {
    "duration": 22,
    "start_time": "2023-02-10T19:18:25.682Z"
   },
   {
    "duration": 0,
    "start_time": "2023-02-10T19:18:25.706Z"
   },
   {
    "duration": 121,
    "start_time": "2023-02-10T19:21:26.979Z"
   },
   {
    "duration": 53,
    "start_time": "2023-02-10T19:22:26.178Z"
   },
   {
    "duration": 29402,
    "start_time": "2023-02-10T19:23:06.524Z"
   },
   {
    "duration": 106255,
    "start_time": "2023-02-10T19:23:43.944Z"
   },
   {
    "duration": 177486,
    "start_time": "2023-02-10T19:25:33.665Z"
   },
   {
    "duration": 350451,
    "start_time": "2023-02-10T19:28:35.799Z"
   },
   {
    "duration": 133913,
    "start_time": "2023-02-10T19:34:29.248Z"
   },
   {
    "duration": 78054,
    "start_time": "2023-02-10T19:39:08.287Z"
   },
   {
    "duration": 82,
    "start_time": "2023-02-10T19:41:48.701Z"
   },
   {
    "duration": 6,
    "start_time": "2023-02-10T19:42:06.571Z"
   },
   {
    "duration": 8,
    "start_time": "2023-02-10T19:42:54.482Z"
   },
   {
    "duration": 3880,
    "start_time": "2023-02-10T19:44:49.880Z"
   },
   {
    "duration": 5,
    "start_time": "2023-02-10T19:46:32.672Z"
   },
   {
    "duration": 1707,
    "start_time": "2023-02-14T12:45:59.649Z"
   },
   {
    "duration": 2921,
    "start_time": "2023-02-14T12:46:01.358Z"
   },
   {
    "duration": 144,
    "start_time": "2023-02-14T12:46:04.281Z"
   },
   {
    "duration": 155,
    "start_time": "2023-02-14T12:46:04.428Z"
   },
   {
    "duration": 59,
    "start_time": "2023-02-14T12:46:04.585Z"
   },
   {
    "duration": 21,
    "start_time": "2023-02-14T12:46:04.646Z"
   },
   {
    "duration": 54,
    "start_time": "2023-02-14T12:46:04.669Z"
   },
   {
    "duration": 173,
    "start_time": "2023-02-14T12:46:04.738Z"
   },
   {
    "duration": 148,
    "start_time": "2023-02-14T12:46:04.912Z"
   },
   {
    "duration": 144,
    "start_time": "2023-02-14T12:46:05.063Z"
   },
   {
    "duration": 230,
    "start_time": "2023-02-14T12:46:05.209Z"
   },
   {
    "duration": 186,
    "start_time": "2023-02-14T12:46:05.440Z"
   },
   {
    "duration": 110,
    "start_time": "2023-02-14T12:46:05.628Z"
   },
   {
    "duration": 358,
    "start_time": "2023-02-14T12:46:05.740Z"
   },
   {
    "duration": 85,
    "start_time": "2023-02-14T12:46:06.100Z"
   },
   {
    "duration": 63,
    "start_time": "2023-02-14T12:46:06.187Z"
   },
   {
    "duration": 1142,
    "start_time": "2023-02-14T12:46:06.252Z"
   },
   {
    "duration": 348,
    "start_time": "2023-02-14T12:46:07.396Z"
   },
   {
    "duration": 25,
    "start_time": "2023-02-14T12:46:07.746Z"
   },
   {
    "duration": 81,
    "start_time": "2023-02-14T12:46:07.772Z"
   },
   {
    "duration": 367,
    "start_time": "2023-02-14T12:46:07.854Z"
   },
   {
    "duration": 31,
    "start_time": "2023-02-14T12:46:08.223Z"
   },
   {
    "duration": 421,
    "start_time": "2023-02-14T12:46:08.256Z"
   },
   {
    "duration": 274,
    "start_time": "2023-02-14T12:46:08.678Z"
   },
   {
    "duration": 1292,
    "start_time": "2023-02-14T12:46:08.954Z"
   },
   {
    "duration": 53,
    "start_time": "2023-02-14T12:46:10.248Z"
   },
   {
    "duration": 41,
    "start_time": "2023-02-14T12:46:10.303Z"
   },
   {
    "duration": 13,
    "start_time": "2023-02-14T12:46:10.347Z"
   },
   {
    "duration": 16,
    "start_time": "2023-02-14T12:46:10.362Z"
   },
   {
    "duration": 60,
    "start_time": "2023-02-14T12:46:10.380Z"
   },
   {
    "duration": 24,
    "start_time": "2023-02-14T12:46:10.442Z"
   },
   {
    "duration": 33,
    "start_time": "2023-02-14T12:46:10.467Z"
   },
   {
    "duration": 9,
    "start_time": "2023-02-14T12:46:10.501Z"
   },
   {
    "duration": 342,
    "start_time": "2023-02-14T12:46:10.511Z"
   },
   {
    "duration": 325,
    "start_time": "2023-02-14T12:46:10.855Z"
   },
   {
    "duration": 21,
    "start_time": "2023-02-14T12:46:11.182Z"
   },
   {
    "duration": 44,
    "start_time": "2023-02-14T12:46:11.205Z"
   },
   {
    "duration": 271,
    "start_time": "2023-02-14T12:46:11.251Z"
   },
   {
    "duration": 4,
    "start_time": "2023-02-14T12:46:11.524Z"
   },
   {
    "duration": 5,
    "start_time": "2023-02-14T12:46:11.537Z"
   },
   {
    "duration": 12,
    "start_time": "2023-02-14T12:46:11.544Z"
   },
   {
    "duration": 46482,
    "start_time": "2023-02-14T12:46:11.558Z"
   },
   {
    "duration": 50205,
    "start_time": "2023-02-14T12:46:58.043Z"
   },
   {
    "duration": 348466,
    "start_time": "2023-02-14T12:47:48.337Z"
   },
   {
    "duration": 12871,
    "start_time": "2023-02-14T12:53:36.805Z"
   },
   {
    "duration": 39564,
    "start_time": "2023-02-14T12:53:49.678Z"
   },
   {
    "duration": 1351,
    "start_time": "2023-02-14T12:54:29.244Z"
   },
   {
    "duration": 180749,
    "start_time": "2023-02-14T12:54:30.596Z"
   },
   {
    "duration": 90,
    "start_time": "2023-02-14T12:57:31.346Z"
   },
   {
    "duration": 0,
    "start_time": "2023-02-14T12:57:31.438Z"
   },
   {
    "duration": 0,
    "start_time": "2023-02-14T12:57:31.439Z"
   },
   {
    "duration": 0,
    "start_time": "2023-02-14T12:57:31.441Z"
   },
   {
    "duration": 0,
    "start_time": "2023-02-14T12:57:31.442Z"
   },
   {
    "duration": 10776,
    "start_time": "2023-02-14T12:59:56.165Z"
   },
   {
    "duration": 6,
    "start_time": "2023-02-14T14:01:31.439Z"
   },
   {
    "duration": 20,
    "start_time": "2023-02-14T14:06:49.937Z"
   },
   {
    "duration": 19,
    "start_time": "2023-02-14T14:08:04.950Z"
   },
   {
    "duration": 18,
    "start_time": "2023-02-14T14:08:25.466Z"
   },
   {
    "duration": 1429,
    "start_time": "2023-02-14T14:09:47.320Z"
   },
   {
    "duration": 888,
    "start_time": "2023-02-14T14:09:48.751Z"
   },
   {
    "duration": 149,
    "start_time": "2023-02-14T14:09:49.640Z"
   },
   {
    "duration": 136,
    "start_time": "2023-02-14T14:09:49.791Z"
   },
   {
    "duration": 44,
    "start_time": "2023-02-14T14:09:49.929Z"
   },
   {
    "duration": 30,
    "start_time": "2023-02-14T14:09:49.975Z"
   },
   {
    "duration": 58,
    "start_time": "2023-02-14T14:09:50.007Z"
   },
   {
    "duration": 156,
    "start_time": "2023-02-14T14:09:50.067Z"
   },
   {
    "duration": 141,
    "start_time": "2023-02-14T14:09:50.225Z"
   },
   {
    "duration": 136,
    "start_time": "2023-02-14T14:09:50.368Z"
   },
   {
    "duration": 222,
    "start_time": "2023-02-14T14:09:50.505Z"
   },
   {
    "duration": 178,
    "start_time": "2023-02-14T14:09:50.728Z"
   },
   {
    "duration": 94,
    "start_time": "2023-02-14T14:09:50.907Z"
   },
   {
    "duration": 347,
    "start_time": "2023-02-14T14:09:51.004Z"
   },
   {
    "duration": 85,
    "start_time": "2023-02-14T14:09:51.352Z"
   },
   {
    "duration": 51,
    "start_time": "2023-02-14T14:09:51.439Z"
   },
   {
    "duration": 1197,
    "start_time": "2023-02-14T14:09:51.492Z"
   },
   {
    "duration": 354,
    "start_time": "2023-02-14T14:09:52.691Z"
   },
   {
    "duration": 23,
    "start_time": "2023-02-14T14:09:53.047Z"
   },
   {
    "duration": 67,
    "start_time": "2023-02-14T14:09:53.072Z"
   },
   {
    "duration": 323,
    "start_time": "2023-02-14T14:09:53.140Z"
   },
   {
    "duration": 20,
    "start_time": "2023-02-14T14:09:53.465Z"
   },
   {
    "duration": 477,
    "start_time": "2023-02-14T14:09:53.487Z"
   },
   {
    "duration": 255,
    "start_time": "2023-02-14T14:09:53.966Z"
   },
   {
    "duration": 1177,
    "start_time": "2023-02-14T14:09:54.223Z"
   },
   {
    "duration": 58,
    "start_time": "2023-02-14T14:09:55.402Z"
   },
   {
    "duration": 21,
    "start_time": "2023-02-14T14:09:55.461Z"
   },
   {
    "duration": 12,
    "start_time": "2023-02-14T14:09:55.483Z"
   },
   {
    "duration": 15,
    "start_time": "2023-02-14T14:09:55.497Z"
   },
   {
    "duration": 56,
    "start_time": "2023-02-14T14:09:55.513Z"
   },
   {
    "duration": 23,
    "start_time": "2023-02-14T14:09:55.571Z"
   },
   {
    "duration": 51,
    "start_time": "2023-02-14T14:09:55.595Z"
   },
   {
    "duration": 9,
    "start_time": "2023-02-14T14:09:55.647Z"
   },
   {
    "duration": 327,
    "start_time": "2023-02-14T14:09:55.657Z"
   },
   {
    "duration": 318,
    "start_time": "2023-02-14T14:09:55.986Z"
   },
   {
    "duration": 19,
    "start_time": "2023-02-14T14:09:56.305Z"
   },
   {
    "duration": 38,
    "start_time": "2023-02-14T14:09:56.325Z"
   },
   {
    "duration": 260,
    "start_time": "2023-02-14T14:09:56.364Z"
   },
   {
    "duration": 4,
    "start_time": "2023-02-14T14:09:56.626Z"
   },
   {
    "duration": 11,
    "start_time": "2023-02-14T14:09:56.638Z"
   },
   {
    "duration": 6,
    "start_time": "2023-02-14T14:09:56.652Z"
   },
   {
    "duration": 45185,
    "start_time": "2023-02-14T14:09:56.660Z"
   },
   {
    "duration": 48315,
    "start_time": "2023-02-14T14:10:41.937Z"
   },
   {
    "duration": 34908,
    "start_time": "2023-02-14T14:11:30.339Z"
   },
   {
    "duration": 10322,
    "start_time": "2023-02-14T14:12:05.249Z"
   },
   {
    "duration": 5523,
    "start_time": "2023-02-14T14:12:15.573Z"
   },
   {
    "duration": 1388,
    "start_time": "2023-02-14T14:12:21.097Z"
   },
   {
    "duration": 4879,
    "start_time": "2023-02-14T14:12:22.488Z"
   },
   {
    "duration": 7347,
    "start_time": "2023-02-14T14:12:27.369Z"
   },
   {
    "duration": 10682,
    "start_time": "2023-02-14T14:12:34.718Z"
   },
   {
    "duration": 58,
    "start_time": "2023-02-14T14:12:45.402Z"
   },
   {
    "duration": 3222,
    "start_time": "2023-02-14T14:12:45.462Z"
   },
   {
    "duration": 12,
    "start_time": "2023-02-14T14:12:48.687Z"
   },
   {
    "duration": 0,
    "start_time": "2023-02-14T14:12:48.701Z"
   },
   {
    "duration": 22,
    "start_time": "2023-02-14T14:13:08.247Z"
   },
   {
    "duration": 19,
    "start_time": "2023-02-14T14:14:32.177Z"
   },
   {
    "duration": 1470,
    "start_time": "2023-02-14T14:14:42.673Z"
   },
   {
    "duration": 908,
    "start_time": "2023-02-14T14:14:44.145Z"
   },
   {
    "duration": 150,
    "start_time": "2023-02-14T14:14:45.055Z"
   },
   {
    "duration": 139,
    "start_time": "2023-02-14T14:14:45.207Z"
   },
   {
    "duration": 40,
    "start_time": "2023-02-14T14:14:45.348Z"
   },
   {
    "duration": 14,
    "start_time": "2023-02-14T14:14:45.389Z"
   },
   {
    "duration": 73,
    "start_time": "2023-02-14T14:14:45.405Z"
   },
   {
    "duration": 44,
    "start_time": "2023-02-14T14:14:45.480Z"
   },
   {
    "duration": 164,
    "start_time": "2023-02-14T14:14:45.538Z"
   },
   {
    "duration": 136,
    "start_time": "2023-02-14T14:14:45.705Z"
   },
   {
    "duration": 142,
    "start_time": "2023-02-14T14:14:45.843Z"
   },
   {
    "duration": 218,
    "start_time": "2023-02-14T14:14:45.986Z"
   },
   {
    "duration": 184,
    "start_time": "2023-02-14T14:14:46.206Z"
   },
   {
    "duration": 89,
    "start_time": "2023-02-14T14:14:46.392Z"
   },
   {
    "duration": 327,
    "start_time": "2023-02-14T14:14:46.483Z"
   },
   {
    "duration": 83,
    "start_time": "2023-02-14T14:14:46.812Z"
   },
   {
    "duration": 76,
    "start_time": "2023-02-14T14:14:46.897Z"
   },
   {
    "duration": 1161,
    "start_time": "2023-02-14T14:14:46.975Z"
   },
   {
    "duration": 343,
    "start_time": "2023-02-14T14:14:48.138Z"
   },
   {
    "duration": 22,
    "start_time": "2023-02-14T14:14:48.483Z"
   },
   {
    "duration": 66,
    "start_time": "2023-02-14T14:14:48.507Z"
   },
   {
    "duration": 335,
    "start_time": "2023-02-14T14:14:48.575Z"
   },
   {
    "duration": 33,
    "start_time": "2023-02-14T14:14:48.911Z"
   },
   {
    "duration": 385,
    "start_time": "2023-02-14T14:14:48.946Z"
   },
   {
    "duration": 258,
    "start_time": "2023-02-14T14:14:49.332Z"
   },
   {
    "duration": 1239,
    "start_time": "2023-02-14T14:14:49.592Z"
   },
   {
    "duration": 50,
    "start_time": "2023-02-14T14:14:50.833Z"
   },
   {
    "duration": 29,
    "start_time": "2023-02-14T14:14:50.888Z"
   },
   {
    "duration": 24,
    "start_time": "2023-02-14T14:14:50.919Z"
   },
   {
    "duration": 25,
    "start_time": "2023-02-14T14:14:50.945Z"
   },
   {
    "duration": 47,
    "start_time": "2023-02-14T14:14:50.972Z"
   },
   {
    "duration": 35,
    "start_time": "2023-02-14T14:14:51.021Z"
   },
   {
    "duration": 33,
    "start_time": "2023-02-14T14:14:51.057Z"
   },
   {
    "duration": 10,
    "start_time": "2023-02-14T14:14:51.092Z"
   },
   {
    "duration": 334,
    "start_time": "2023-02-14T14:14:51.104Z"
   },
   {
    "duration": 324,
    "start_time": "2023-02-14T14:14:51.440Z"
   },
   {
    "duration": 19,
    "start_time": "2023-02-14T14:14:51.766Z"
   },
   {
    "duration": 44,
    "start_time": "2023-02-14T14:14:51.787Z"
   },
   {
    "duration": 256,
    "start_time": "2023-02-14T14:14:51.833Z"
   },
   {
    "duration": 3,
    "start_time": "2023-02-14T14:14:52.091Z"
   },
   {
    "duration": 14,
    "start_time": "2023-02-14T14:14:52.096Z"
   },
   {
    "duration": 10,
    "start_time": "2023-02-14T14:14:52.112Z"
   },
   {
    "duration": 46314,
    "start_time": "2023-02-14T14:14:52.123Z"
   },
   {
    "duration": 50608,
    "start_time": "2023-02-14T14:15:38.441Z"
   },
   {
    "duration": 1453,
    "start_time": "2023-02-14T14:17:28.927Z"
   },
   {
    "duration": 889,
    "start_time": "2023-02-14T14:17:30.383Z"
   },
   {
    "duration": 144,
    "start_time": "2023-02-14T14:17:31.274Z"
   },
   {
    "duration": 146,
    "start_time": "2023-02-14T14:17:31.421Z"
   },
   {
    "duration": 43,
    "start_time": "2023-02-14T14:17:31.570Z"
   },
   {
    "duration": 26,
    "start_time": "2023-02-14T14:17:31.615Z"
   },
   {
    "duration": 48,
    "start_time": "2023-02-14T14:17:31.643Z"
   },
   {
    "duration": 65,
    "start_time": "2023-02-14T14:17:31.693Z"
   },
   {
    "duration": 164,
    "start_time": "2023-02-14T14:17:31.760Z"
   },
   {
    "duration": 143,
    "start_time": "2023-02-14T14:17:31.926Z"
   },
   {
    "duration": 135,
    "start_time": "2023-02-14T14:17:32.070Z"
   },
   {
    "duration": 256,
    "start_time": "2023-02-14T14:17:32.207Z"
   },
   {
    "duration": 226,
    "start_time": "2023-02-14T14:17:32.465Z"
   },
   {
    "duration": 94,
    "start_time": "2023-02-14T14:17:32.694Z"
   },
   {
    "duration": 352,
    "start_time": "2023-02-14T14:17:32.790Z"
   },
   {
    "duration": 74,
    "start_time": "2023-02-14T14:17:33.144Z"
   },
   {
    "duration": 62,
    "start_time": "2023-02-14T14:17:33.220Z"
   },
   {
    "duration": 1109,
    "start_time": "2023-02-14T14:17:33.284Z"
   },
   {
    "duration": 345,
    "start_time": "2023-02-14T14:17:34.395Z"
   },
   {
    "duration": 24,
    "start_time": "2023-02-14T14:17:34.742Z"
   },
   {
    "duration": 71,
    "start_time": "2023-02-14T14:17:34.768Z"
   },
   {
    "duration": 299,
    "start_time": "2023-02-14T14:17:34.841Z"
   },
   {
    "duration": 22,
    "start_time": "2023-02-14T14:17:35.142Z"
   },
   {
    "duration": 394,
    "start_time": "2023-02-14T14:17:35.165Z"
   },
   {
    "duration": 268,
    "start_time": "2023-02-14T14:17:35.560Z"
   },
   {
    "duration": 1253,
    "start_time": "2023-02-14T14:17:35.830Z"
   },
   {
    "duration": 61,
    "start_time": "2023-02-14T14:17:37.084Z"
   },
   {
    "duration": 23,
    "start_time": "2023-02-14T14:17:37.146Z"
   },
   {
    "duration": 13,
    "start_time": "2023-02-14T14:17:37.171Z"
   },
   {
    "duration": 16,
    "start_time": "2023-02-14T14:17:37.186Z"
   },
   {
    "duration": 70,
    "start_time": "2023-02-14T14:17:37.203Z"
   },
   {
    "duration": 23,
    "start_time": "2023-02-14T14:17:37.275Z"
   },
   {
    "duration": 50,
    "start_time": "2023-02-14T14:17:37.300Z"
   },
   {
    "duration": 8,
    "start_time": "2023-02-14T14:17:37.352Z"
   },
   {
    "duration": 335,
    "start_time": "2023-02-14T14:17:37.362Z"
   },
   {
    "duration": 334,
    "start_time": "2023-02-14T14:17:37.699Z"
   },
   {
    "duration": 20,
    "start_time": "2023-02-14T14:17:38.035Z"
   },
   {
    "duration": 53,
    "start_time": "2023-02-14T14:17:38.057Z"
   },
   {
    "duration": 271,
    "start_time": "2023-02-14T14:17:38.112Z"
   },
   {
    "duration": 5,
    "start_time": "2023-02-14T14:17:38.384Z"
   },
   {
    "duration": 6,
    "start_time": "2023-02-14T14:17:38.392Z"
   },
   {
    "duration": 9,
    "start_time": "2023-02-14T14:17:38.400Z"
   },
   {
    "duration": 47029,
    "start_time": "2023-02-14T14:17:38.411Z"
   },
   {
    "duration": 1474,
    "start_time": "2023-02-14T14:19:07.203Z"
   },
   {
    "duration": 867,
    "start_time": "2023-02-14T14:19:08.679Z"
   },
   {
    "duration": 141,
    "start_time": "2023-02-14T14:19:09.548Z"
   },
   {
    "duration": 133,
    "start_time": "2023-02-14T14:19:09.691Z"
   },
   {
    "duration": 38,
    "start_time": "2023-02-14T14:19:09.826Z"
   },
   {
    "duration": 11,
    "start_time": "2023-02-14T14:19:09.866Z"
   },
   {
    "duration": 67,
    "start_time": "2023-02-14T14:19:09.879Z"
   },
   {
    "duration": 152,
    "start_time": "2023-02-14T14:19:09.947Z"
   },
   {
    "duration": 121,
    "start_time": "2023-02-14T14:19:10.100Z"
   },
   {
    "duration": 137,
    "start_time": "2023-02-14T14:19:10.223Z"
   },
   {
    "duration": 212,
    "start_time": "2023-02-14T14:19:10.362Z"
   },
   {
    "duration": 159,
    "start_time": "2023-02-14T14:19:10.576Z"
   },
   {
    "duration": 82,
    "start_time": "2023-02-14T14:19:10.738Z"
   },
   {
    "duration": 346,
    "start_time": "2023-02-14T14:19:10.823Z"
   },
   {
    "duration": 74,
    "start_time": "2023-02-14T14:19:11.170Z"
   },
   {
    "duration": 46,
    "start_time": "2023-02-14T14:19:11.246Z"
   },
   {
    "duration": 1137,
    "start_time": "2023-02-14T14:19:11.294Z"
   },
   {
    "duration": 363,
    "start_time": "2023-02-14T14:19:12.437Z"
   },
   {
    "duration": 25,
    "start_time": "2023-02-14T14:19:12.802Z"
   },
   {
    "duration": 61,
    "start_time": "2023-02-14T14:19:12.829Z"
   },
   {
    "duration": 293,
    "start_time": "2023-02-14T14:19:12.892Z"
   },
   {
    "duration": 21,
    "start_time": "2023-02-14T14:19:13.186Z"
   },
   {
    "duration": 388,
    "start_time": "2023-02-14T14:19:13.209Z"
   },
   {
    "duration": 249,
    "start_time": "2023-02-14T14:19:13.599Z"
   },
   {
    "duration": 1126,
    "start_time": "2023-02-14T14:19:13.850Z"
   },
   {
    "duration": 60,
    "start_time": "2023-02-14T14:19:14.978Z"
   },
   {
    "duration": 23,
    "start_time": "2023-02-14T14:19:15.040Z"
   },
   {
    "duration": 25,
    "start_time": "2023-02-14T14:19:15.065Z"
   },
   {
    "duration": 15,
    "start_time": "2023-02-14T14:19:15.092Z"
   },
   {
    "duration": 49,
    "start_time": "2023-02-14T14:19:15.108Z"
   },
   {
    "duration": 21,
    "start_time": "2023-02-14T14:19:15.158Z"
   },
   {
    "duration": 30,
    "start_time": "2023-02-14T14:19:15.180Z"
   },
   {
    "duration": 31,
    "start_time": "2023-02-14T14:19:15.211Z"
   },
   {
    "duration": 305,
    "start_time": "2023-02-14T14:19:15.244Z"
   },
   {
    "duration": 301,
    "start_time": "2023-02-14T14:19:15.551Z"
   },
   {
    "duration": 18,
    "start_time": "2023-02-14T14:19:15.854Z"
   },
   {
    "duration": 26,
    "start_time": "2023-02-14T14:19:15.874Z"
   },
   {
    "duration": 274,
    "start_time": "2023-02-14T14:19:15.901Z"
   },
   {
    "duration": 3,
    "start_time": "2023-02-14T14:19:16.177Z"
   },
   {
    "duration": 13,
    "start_time": "2023-02-14T14:19:16.182Z"
   },
   {
    "duration": 10,
    "start_time": "2023-02-14T14:19:16.199Z"
   },
   {
    "duration": 1461,
    "start_time": "2023-02-14T14:19:57.352Z"
   },
   {
    "duration": 953,
    "start_time": "2023-02-14T14:19:58.815Z"
   },
   {
    "duration": 135,
    "start_time": "2023-02-14T14:19:59.770Z"
   },
   {
    "duration": 144,
    "start_time": "2023-02-14T14:19:59.908Z"
   },
   {
    "duration": 31,
    "start_time": "2023-02-14T14:20:00.053Z"
   },
   {
    "duration": 13,
    "start_time": "2023-02-14T14:20:00.086Z"
   },
   {
    "duration": 69,
    "start_time": "2023-02-14T14:20:00.100Z"
   },
   {
    "duration": 174,
    "start_time": "2023-02-14T14:20:00.171Z"
   },
   {
    "duration": 142,
    "start_time": "2023-02-14T14:20:00.347Z"
   },
   {
    "duration": 131,
    "start_time": "2023-02-14T14:20:00.493Z"
   },
   {
    "duration": 223,
    "start_time": "2023-02-14T14:20:00.626Z"
   },
   {
    "duration": 178,
    "start_time": "2023-02-14T14:20:00.850Z"
   },
   {
    "duration": 87,
    "start_time": "2023-02-14T14:20:01.029Z"
   },
   {
    "duration": 333,
    "start_time": "2023-02-14T14:20:01.118Z"
   },
   {
    "duration": 88,
    "start_time": "2023-02-14T14:20:01.453Z"
   },
   {
    "duration": 51,
    "start_time": "2023-02-14T14:20:01.543Z"
   },
   {
    "duration": 1164,
    "start_time": "2023-02-14T14:20:01.596Z"
   },
   {
    "duration": 308,
    "start_time": "2023-02-14T14:20:02.761Z"
   },
   {
    "duration": 25,
    "start_time": "2023-02-14T14:20:03.071Z"
   },
   {
    "duration": 64,
    "start_time": "2023-02-14T14:20:03.099Z"
   },
   {
    "duration": 300,
    "start_time": "2023-02-14T14:20:03.165Z"
   },
   {
    "duration": 21,
    "start_time": "2023-02-14T14:20:03.467Z"
   },
   {
    "duration": 351,
    "start_time": "2023-02-14T14:20:03.490Z"
   },
   {
    "duration": 241,
    "start_time": "2023-02-14T14:20:03.843Z"
   },
   {
    "duration": 1193,
    "start_time": "2023-02-14T14:20:04.086Z"
   },
   {
    "duration": 65,
    "start_time": "2023-02-14T14:20:05.280Z"
   },
   {
    "duration": 68,
    "start_time": "2023-02-14T14:20:05.347Z"
   },
   {
    "duration": 13,
    "start_time": "2023-02-14T14:20:05.420Z"
   },
   {
    "duration": 50,
    "start_time": "2023-02-14T14:20:05.435Z"
   },
   {
    "duration": 62,
    "start_time": "2023-02-14T14:20:05.487Z"
   },
   {
    "duration": 35,
    "start_time": "2023-02-14T14:20:05.551Z"
   },
   {
    "duration": 74,
    "start_time": "2023-02-14T14:20:05.588Z"
   },
   {
    "duration": 9,
    "start_time": "2023-02-14T14:20:05.664Z"
   },
   {
    "duration": 337,
    "start_time": "2023-02-14T14:20:05.675Z"
   },
   {
    "duration": 324,
    "start_time": "2023-02-14T14:20:06.013Z"
   },
   {
    "duration": 19,
    "start_time": "2023-02-14T14:20:06.340Z"
   },
   {
    "duration": 54,
    "start_time": "2023-02-14T14:20:06.360Z"
   },
   {
    "duration": 257,
    "start_time": "2023-02-14T14:20:06.416Z"
   },
   {
    "duration": 4,
    "start_time": "2023-02-14T14:20:06.674Z"
   },
   {
    "duration": 30,
    "start_time": "2023-02-14T14:20:06.680Z"
   },
   {
    "duration": 30,
    "start_time": "2023-02-14T14:20:06.711Z"
   },
   {
    "duration": 45704,
    "start_time": "2023-02-14T14:20:06.742Z"
   },
   {
    "duration": 50110,
    "start_time": "2023-02-14T14:20:52.537Z"
   },
   {
    "duration": 343504,
    "start_time": "2023-02-14T14:21:42.650Z"
   },
   {
    "duration": 12673,
    "start_time": "2023-02-14T14:27:26.156Z"
   },
   {
    "duration": 1409,
    "start_time": "2023-02-14T14:28:14.762Z"
   },
   {
    "duration": 865,
    "start_time": "2023-02-14T14:28:16.173Z"
   },
   {
    "duration": 151,
    "start_time": "2023-02-14T14:28:17.040Z"
   },
   {
    "duration": 136,
    "start_time": "2023-02-14T14:28:17.193Z"
   },
   {
    "duration": 42,
    "start_time": "2023-02-14T14:28:17.331Z"
   },
   {
    "duration": 15,
    "start_time": "2023-02-14T14:28:17.374Z"
   },
   {
    "duration": 72,
    "start_time": "2023-02-14T14:28:17.390Z"
   },
   {
    "duration": 159,
    "start_time": "2023-02-14T14:28:17.463Z"
   },
   {
    "duration": 136,
    "start_time": "2023-02-14T14:28:17.624Z"
   },
   {
    "duration": 127,
    "start_time": "2023-02-14T14:28:17.762Z"
   },
   {
    "duration": 217,
    "start_time": "2023-02-14T14:28:17.891Z"
   },
   {
    "duration": 182,
    "start_time": "2023-02-14T14:28:18.110Z"
   },
   {
    "duration": 84,
    "start_time": "2023-02-14T14:28:18.294Z"
   },
   {
    "duration": 343,
    "start_time": "2023-02-14T14:28:18.380Z"
   },
   {
    "duration": 76,
    "start_time": "2023-02-14T14:28:18.725Z"
   },
   {
    "duration": 61,
    "start_time": "2023-02-14T14:28:18.803Z"
   },
   {
    "duration": 1111,
    "start_time": "2023-02-14T14:28:18.865Z"
   },
   {
    "duration": 327,
    "start_time": "2023-02-14T14:28:19.978Z"
   },
   {
    "duration": 31,
    "start_time": "2023-02-14T14:28:20.307Z"
   },
   {
    "duration": 51,
    "start_time": "2023-02-14T14:28:20.339Z"
   },
   {
    "duration": 319,
    "start_time": "2023-02-14T14:28:20.392Z"
   },
   {
    "duration": 34,
    "start_time": "2023-02-14T14:28:20.712Z"
   },
   {
    "duration": 375,
    "start_time": "2023-02-14T14:28:20.748Z"
   },
   {
    "duration": 272,
    "start_time": "2023-02-14T14:28:21.125Z"
   },
   {
    "duration": 1203,
    "start_time": "2023-02-14T14:28:21.399Z"
   },
   {
    "duration": 86,
    "start_time": "2023-02-14T14:28:22.604Z"
   },
   {
    "duration": 36,
    "start_time": "2023-02-14T14:28:22.692Z"
   },
   {
    "duration": 17,
    "start_time": "2023-02-14T14:28:22.738Z"
   },
   {
    "duration": 35,
    "start_time": "2023-02-14T14:28:22.757Z"
   },
   {
    "duration": 50,
    "start_time": "2023-02-14T14:28:22.794Z"
   },
   {
    "duration": 30,
    "start_time": "2023-02-14T14:28:22.847Z"
   },
   {
    "duration": 52,
    "start_time": "2023-02-14T14:28:22.879Z"
   },
   {
    "duration": 14,
    "start_time": "2023-02-14T14:28:22.932Z"
   },
   {
    "duration": 468,
    "start_time": "2023-02-14T14:28:22.947Z"
   },
   {
    "duration": 436,
    "start_time": "2023-02-14T14:28:23.417Z"
   },
   {
    "duration": 20,
    "start_time": "2023-02-14T14:28:23.855Z"
   },
   {
    "duration": 63,
    "start_time": "2023-02-14T14:28:23.877Z"
   },
   {
    "duration": 374,
    "start_time": "2023-02-14T14:28:23.942Z"
   },
   {
    "duration": 4,
    "start_time": "2023-02-14T14:28:24.317Z"
   },
   {
    "duration": 20,
    "start_time": "2023-02-14T14:28:24.323Z"
   },
   {
    "duration": 30,
    "start_time": "2023-02-14T14:28:24.345Z"
   },
   {
    "duration": 63063,
    "start_time": "2023-02-14T14:28:24.376Z"
   },
   {
    "duration": 79105,
    "start_time": "2023-02-14T14:29:27.444Z"
   },
   {
    "duration": 499688,
    "start_time": "2023-02-14T14:30:46.639Z"
   },
   {
    "duration": 18212,
    "start_time": "2023-02-14T14:39:06.329Z"
   },
   {
    "duration": 56204,
    "start_time": "2023-02-14T14:39:24.542Z"
   },
   {
    "duration": 1961,
    "start_time": "2023-02-14T14:40:20.748Z"
   },
   {
    "duration": 60,
    "start_time": "2023-02-14T14:40:22.711Z"
   },
   {
    "duration": 0,
    "start_time": "2023-02-14T14:40:22.773Z"
   },
   {
    "duration": 0,
    "start_time": "2023-02-14T14:40:22.774Z"
   },
   {
    "duration": 0,
    "start_time": "2023-02-14T14:40:22.776Z"
   },
   {
    "duration": 0,
    "start_time": "2023-02-14T14:40:22.777Z"
   },
   {
    "duration": 0,
    "start_time": "2023-02-14T14:40:22.779Z"
   },
   {
    "duration": 13730,
    "start_time": "2023-02-14T14:58:12.315Z"
   },
   {
    "duration": 213,
    "start_time": "2023-02-14T16:02:46.004Z"
   },
   {
    "duration": 19,
    "start_time": "2023-02-14T16:03:06.537Z"
   },
   {
    "duration": 18,
    "start_time": "2023-02-14T16:03:21.006Z"
   },
   {
    "duration": 108,
    "start_time": "2023-02-14T16:07:38.412Z"
   },
   {
    "duration": 19,
    "start_time": "2023-02-14T16:07:40.101Z"
   },
   {
    "duration": 141,
    "start_time": "2023-02-14T16:16:30.255Z"
   },
   {
    "duration": 1426,
    "start_time": "2023-02-14T16:16:47.107Z"
   },
   {
    "duration": 814,
    "start_time": "2023-02-14T16:16:48.536Z"
   },
   {
    "duration": 138,
    "start_time": "2023-02-14T16:16:49.352Z"
   },
   {
    "duration": 145,
    "start_time": "2023-02-14T16:16:49.492Z"
   },
   {
    "duration": 34,
    "start_time": "2023-02-14T16:16:49.639Z"
   },
   {
    "duration": 13,
    "start_time": "2023-02-14T16:16:49.675Z"
   },
   {
    "duration": 68,
    "start_time": "2023-02-14T16:16:49.690Z"
   },
   {
    "duration": 158,
    "start_time": "2023-02-14T16:16:49.760Z"
   },
   {
    "duration": 141,
    "start_time": "2023-02-14T16:16:49.920Z"
   },
   {
    "duration": 148,
    "start_time": "2023-02-14T16:16:50.065Z"
   },
   {
    "duration": 230,
    "start_time": "2023-02-14T16:16:50.215Z"
   },
   {
    "duration": 178,
    "start_time": "2023-02-14T16:16:50.447Z"
   },
   {
    "duration": 91,
    "start_time": "2023-02-14T16:16:50.627Z"
   },
   {
    "duration": 355,
    "start_time": "2023-02-14T16:16:50.720Z"
   },
   {
    "duration": 81,
    "start_time": "2023-02-14T16:16:51.077Z"
   },
   {
    "duration": 52,
    "start_time": "2023-02-14T16:16:51.160Z"
   },
   {
    "duration": 1102,
    "start_time": "2023-02-14T16:16:51.214Z"
   },
   {
    "duration": 403,
    "start_time": "2023-02-14T16:16:52.318Z"
   },
   {
    "duration": 28,
    "start_time": "2023-02-14T16:16:52.723Z"
   },
   {
    "duration": 56,
    "start_time": "2023-02-14T16:16:52.753Z"
   },
   {
    "duration": 312,
    "start_time": "2023-02-14T16:16:52.811Z"
   },
   {
    "duration": 28,
    "start_time": "2023-02-14T16:16:53.124Z"
   },
   {
    "duration": 353,
    "start_time": "2023-02-14T16:16:53.153Z"
   },
   {
    "duration": 261,
    "start_time": "2023-02-14T16:16:53.507Z"
   },
   {
    "duration": 1114,
    "start_time": "2023-02-14T16:16:53.770Z"
   },
   {
    "duration": 83,
    "start_time": "2023-02-14T16:16:54.886Z"
   },
   {
    "duration": 24,
    "start_time": "2023-02-14T16:16:54.971Z"
   },
   {
    "duration": 41,
    "start_time": "2023-02-14T16:16:55.000Z"
   },
   {
    "duration": 20,
    "start_time": "2023-02-14T16:16:55.044Z"
   },
   {
    "duration": 49,
    "start_time": "2023-02-14T16:16:55.065Z"
   },
   {
    "duration": 36,
    "start_time": "2023-02-14T16:16:55.137Z"
   },
   {
    "duration": 33,
    "start_time": "2023-02-14T16:16:55.175Z"
   },
   {
    "duration": 35,
    "start_time": "2023-02-14T16:16:55.210Z"
   },
   {
    "duration": 170,
    "start_time": "2023-02-14T16:16:55.247Z"
   },
   {
    "duration": 0,
    "start_time": "2023-02-14T16:16:55.419Z"
   },
   {
    "duration": 0,
    "start_time": "2023-02-14T16:16:55.420Z"
   },
   {
    "duration": 0,
    "start_time": "2023-02-14T16:16:55.427Z"
   },
   {
    "duration": 0,
    "start_time": "2023-02-14T16:16:55.429Z"
   },
   {
    "duration": 0,
    "start_time": "2023-02-14T16:16:55.438Z"
   },
   {
    "duration": 0,
    "start_time": "2023-02-14T16:16:55.439Z"
   },
   {
    "duration": 0,
    "start_time": "2023-02-14T16:16:55.441Z"
   },
   {
    "duration": 0,
    "start_time": "2023-02-14T16:16:55.454Z"
   },
   {
    "duration": 0,
    "start_time": "2023-02-14T16:16:55.456Z"
   },
   {
    "duration": 0,
    "start_time": "2023-02-14T16:16:55.457Z"
   },
   {
    "duration": 0,
    "start_time": "2023-02-14T16:16:55.458Z"
   },
   {
    "duration": 0,
    "start_time": "2023-02-14T16:16:55.459Z"
   },
   {
    "duration": 0,
    "start_time": "2023-02-14T16:16:55.460Z"
   },
   {
    "duration": 0,
    "start_time": "2023-02-14T16:16:55.461Z"
   },
   {
    "duration": 0,
    "start_time": "2023-02-14T16:16:55.461Z"
   },
   {
    "duration": 0,
    "start_time": "2023-02-14T16:16:55.464Z"
   },
   {
    "duration": 0,
    "start_time": "2023-02-14T16:16:55.465Z"
   },
   {
    "duration": 0,
    "start_time": "2023-02-14T16:16:55.466Z"
   },
   {
    "duration": 0,
    "start_time": "2023-02-14T16:16:55.468Z"
   },
   {
    "duration": 0,
    "start_time": "2023-02-14T16:16:55.470Z"
   },
   {
    "duration": 0,
    "start_time": "2023-02-14T16:16:55.471Z"
   },
   {
    "duration": 0,
    "start_time": "2023-02-14T16:16:55.472Z"
   },
   {
    "duration": 0,
    "start_time": "2023-02-14T16:16:55.474Z"
   },
   {
    "duration": 0,
    "start_time": "2023-02-14T16:16:55.475Z"
   },
   {
    "duration": 0,
    "start_time": "2023-02-14T16:16:55.476Z"
   },
   {
    "duration": 0,
    "start_time": "2023-02-14T16:16:55.477Z"
   },
   {
    "duration": 0,
    "start_time": "2023-02-14T16:16:55.478Z"
   },
   {
    "duration": 68,
    "start_time": "2023-02-14T16:32:53.912Z"
   },
   {
    "duration": 66,
    "start_time": "2023-02-14T16:42:50.187Z"
   },
   {
    "duration": 457,
    "start_time": "2023-02-14T16:43:11.628Z"
   },
   {
    "duration": 337,
    "start_time": "2023-02-14T16:43:17.574Z"
   },
   {
    "duration": 260,
    "start_time": "2023-02-14T17:00:03.379Z"
   },
   {
    "duration": 322,
    "start_time": "2023-02-14T17:00:41.255Z"
   },
   {
    "duration": 294,
    "start_time": "2023-02-14T17:02:01.651Z"
   },
   {
    "duration": 76,
    "start_time": "2023-02-14T17:03:32.606Z"
   },
   {
    "duration": 55,
    "start_time": "2023-02-14T17:03:48.475Z"
   },
   {
    "duration": 255,
    "start_time": "2023-02-14T17:04:01.167Z"
   },
   {
    "duration": 271,
    "start_time": "2023-02-14T17:05:20.709Z"
   },
   {
    "duration": 1573,
    "start_time": "2023-02-14T17:06:41.044Z"
   },
   {
    "duration": 957,
    "start_time": "2023-02-14T17:06:42.620Z"
   },
   {
    "duration": 167,
    "start_time": "2023-02-14T17:06:43.579Z"
   },
   {
    "duration": 151,
    "start_time": "2023-02-14T17:06:43.748Z"
   },
   {
    "duration": 51,
    "start_time": "2023-02-14T17:06:43.900Z"
   },
   {
    "duration": 16,
    "start_time": "2023-02-14T17:06:43.953Z"
   },
   {
    "duration": 75,
    "start_time": "2023-02-14T17:06:43.970Z"
   },
   {
    "duration": 169,
    "start_time": "2023-02-14T17:06:44.047Z"
   },
   {
    "duration": 151,
    "start_time": "2023-02-14T17:06:44.218Z"
   },
   {
    "duration": 140,
    "start_time": "2023-02-14T17:06:44.373Z"
   },
   {
    "duration": 235,
    "start_time": "2023-02-14T17:06:44.515Z"
   },
   {
    "duration": 191,
    "start_time": "2023-02-14T17:06:44.752Z"
   },
   {
    "duration": 97,
    "start_time": "2023-02-14T17:06:44.945Z"
   },
   {
    "duration": 361,
    "start_time": "2023-02-14T17:06:45.043Z"
   },
   {
    "duration": 89,
    "start_time": "2023-02-14T17:06:45.406Z"
   },
   {
    "duration": 67,
    "start_time": "2023-02-14T17:06:45.497Z"
   },
   {
    "duration": 1134,
    "start_time": "2023-02-14T17:06:45.566Z"
   },
   {
    "duration": 331,
    "start_time": "2023-02-14T17:06:46.703Z"
   },
   {
    "duration": 24,
    "start_time": "2023-02-14T17:06:47.039Z"
   },
   {
    "duration": 77,
    "start_time": "2023-02-14T17:06:47.065Z"
   },
   {
    "duration": 317,
    "start_time": "2023-02-14T17:06:47.144Z"
   },
   {
    "duration": 23,
    "start_time": "2023-02-14T17:06:47.463Z"
   },
   {
    "duration": 390,
    "start_time": "2023-02-14T17:06:47.488Z"
   },
   {
    "duration": 284,
    "start_time": "2023-02-14T17:06:47.880Z"
   },
   {
    "duration": 1171,
    "start_time": "2023-02-14T17:06:48.166Z"
   },
   {
    "duration": 80,
    "start_time": "2023-02-14T17:06:49.340Z"
   },
   {
    "duration": 41,
    "start_time": "2023-02-14T17:06:49.422Z"
   },
   {
    "duration": 19,
    "start_time": "2023-02-14T17:06:49.467Z"
   },
   {
    "duration": 36,
    "start_time": "2023-02-14T17:06:49.488Z"
   },
   {
    "duration": 55,
    "start_time": "2023-02-14T17:06:49.526Z"
   },
   {
    "duration": 30,
    "start_time": "2023-02-14T17:06:49.583Z"
   },
   {
    "duration": 55,
    "start_time": "2023-02-14T17:06:49.614Z"
   },
   {
    "duration": 2,
    "start_time": "2023-02-14T17:06:49.671Z"
   },
   {
    "duration": 33,
    "start_time": "2023-02-14T17:06:49.675Z"
   },
   {
    "duration": 495,
    "start_time": "2023-02-14T17:06:49.710Z"
   },
   {
    "duration": 403,
    "start_time": "2023-02-14T17:06:50.207Z"
   },
   {
    "duration": 0,
    "start_time": "2023-02-14T17:06:50.612Z"
   },
   {
    "duration": 0,
    "start_time": "2023-02-14T17:06:50.614Z"
   },
   {
    "duration": 0,
    "start_time": "2023-02-14T17:06:50.615Z"
   },
   {
    "duration": 0,
    "start_time": "2023-02-14T17:06:50.616Z"
   },
   {
    "duration": 0,
    "start_time": "2023-02-14T17:06:50.618Z"
   },
   {
    "duration": 0,
    "start_time": "2023-02-14T17:06:50.619Z"
   },
   {
    "duration": 0,
    "start_time": "2023-02-14T17:06:50.638Z"
   },
   {
    "duration": 0,
    "start_time": "2023-02-14T17:06:50.640Z"
   },
   {
    "duration": 0,
    "start_time": "2023-02-14T17:06:50.641Z"
   },
   {
    "duration": 0,
    "start_time": "2023-02-14T17:06:50.642Z"
   },
   {
    "duration": 0,
    "start_time": "2023-02-14T17:06:50.643Z"
   },
   {
    "duration": 0,
    "start_time": "2023-02-14T17:06:50.644Z"
   },
   {
    "duration": 0,
    "start_time": "2023-02-14T17:06:50.645Z"
   },
   {
    "duration": 0,
    "start_time": "2023-02-14T17:06:50.647Z"
   },
   {
    "duration": 0,
    "start_time": "2023-02-14T17:06:50.648Z"
   },
   {
    "duration": 0,
    "start_time": "2023-02-14T17:06:50.649Z"
   },
   {
    "duration": 0,
    "start_time": "2023-02-14T17:06:50.651Z"
   },
   {
    "duration": 0,
    "start_time": "2023-02-14T17:06:50.652Z"
   },
   {
    "duration": 0,
    "start_time": "2023-02-14T17:06:50.653Z"
   },
   {
    "duration": 0,
    "start_time": "2023-02-14T17:06:50.654Z"
   },
   {
    "duration": 0,
    "start_time": "2023-02-14T17:06:50.655Z"
   },
   {
    "duration": 0,
    "start_time": "2023-02-14T17:06:50.656Z"
   },
   {
    "duration": 0,
    "start_time": "2023-02-14T17:06:50.658Z"
   },
   {
    "duration": 0,
    "start_time": "2023-02-14T17:06:50.659Z"
   },
   {
    "duration": 0,
    "start_time": "2023-02-14T17:06:50.660Z"
   },
   {
    "duration": 294,
    "start_time": "2023-02-14T17:12:19.331Z"
   },
   {
    "duration": 4,
    "start_time": "2023-02-14T17:13:46.527Z"
   },
   {
    "duration": 21,
    "start_time": "2023-02-14T17:15:39.084Z"
   },
   {
    "duration": 59,
    "start_time": "2023-02-14T17:26:09.027Z"
   },
   {
    "duration": 518,
    "start_time": "2023-02-14T17:26:10.322Z"
   },
   {
    "duration": 286,
    "start_time": "2023-02-14T17:26:15.820Z"
   },
   {
    "duration": 5,
    "start_time": "2023-02-14T17:26:34.678Z"
   },
   {
    "duration": 235,
    "start_time": "2023-02-14T17:30:16.978Z"
   },
   {
    "duration": 222,
    "start_time": "2023-02-14T17:31:27.739Z"
   },
   {
    "duration": 207,
    "start_time": "2023-02-14T17:32:19.966Z"
   },
   {
    "duration": 4,
    "start_time": "2023-02-14T17:32:49.461Z"
   },
   {
    "duration": 19,
    "start_time": "2023-02-14T17:33:25.548Z"
   },
   {
    "duration": 4,
    "start_time": "2023-02-14T17:33:36.622Z"
   },
   {
    "duration": 30,
    "start_time": "2023-02-14T17:35:52.937Z"
   },
   {
    "duration": 277,
    "start_time": "2023-02-14T17:41:46.562Z"
   },
   {
    "duration": 236,
    "start_time": "2023-02-14T17:42:57.175Z"
   },
   {
    "duration": 80,
    "start_time": "2023-02-14T17:42:59.728Z"
   },
   {
    "duration": 1555,
    "start_time": "2023-02-14T17:57:09.361Z"
   },
   {
    "duration": 978,
    "start_time": "2023-02-14T17:57:10.918Z"
   },
   {
    "duration": 168,
    "start_time": "2023-02-14T17:57:11.898Z"
   },
   {
    "duration": 160,
    "start_time": "2023-02-14T17:57:12.068Z"
   },
   {
    "duration": 50,
    "start_time": "2023-02-14T17:57:12.230Z"
   },
   {
    "duration": 25,
    "start_time": "2023-02-14T17:57:12.282Z"
   },
   {
    "duration": 89,
    "start_time": "2023-02-14T17:57:12.309Z"
   },
   {
    "duration": 280,
    "start_time": "2023-02-14T17:57:12.400Z"
   },
   {
    "duration": 183,
    "start_time": "2023-02-14T17:57:12.682Z"
   },
   {
    "duration": 136,
    "start_time": "2023-02-14T17:57:12.868Z"
   },
   {
    "duration": 240,
    "start_time": "2023-02-14T17:57:13.006Z"
   },
   {
    "duration": 194,
    "start_time": "2023-02-14T17:57:13.248Z"
   },
   {
    "duration": 118,
    "start_time": "2023-02-14T17:57:13.444Z"
   },
   {
    "duration": 419,
    "start_time": "2023-02-14T17:57:13.564Z"
   },
   {
    "duration": 87,
    "start_time": "2023-02-14T17:57:13.985Z"
   },
   {
    "duration": 65,
    "start_time": "2023-02-14T17:57:14.074Z"
   },
   {
    "duration": 1206,
    "start_time": "2023-02-14T17:57:14.141Z"
   },
   {
    "duration": 345,
    "start_time": "2023-02-14T17:57:15.349Z"
   },
   {
    "duration": 24,
    "start_time": "2023-02-14T17:57:15.696Z"
   },
   {
    "duration": 62,
    "start_time": "2023-02-14T17:57:15.722Z"
   },
   {
    "duration": 359,
    "start_time": "2023-02-14T17:57:15.786Z"
   },
   {
    "duration": 25,
    "start_time": "2023-02-14T17:57:16.148Z"
   },
   {
    "duration": 464,
    "start_time": "2023-02-14T17:57:16.174Z"
   },
   {
    "duration": 286,
    "start_time": "2023-02-14T17:57:16.639Z"
   },
   {
    "duration": 1263,
    "start_time": "2023-02-14T17:57:16.927Z"
   },
   {
    "duration": 81,
    "start_time": "2023-02-14T17:57:18.192Z"
   },
   {
    "duration": 53,
    "start_time": "2023-02-14T17:57:18.274Z"
   },
   {
    "duration": 61,
    "start_time": "2023-02-14T17:57:18.334Z"
   },
   {
    "duration": 36,
    "start_time": "2023-02-14T17:57:18.398Z"
   },
   {
    "duration": 70,
    "start_time": "2023-02-14T17:57:18.436Z"
   },
   {
    "duration": 39,
    "start_time": "2023-02-14T17:57:18.508Z"
   },
   {
    "duration": 41,
    "start_time": "2023-02-14T17:57:18.549Z"
   },
   {
    "duration": 3,
    "start_time": "2023-02-14T17:57:18.592Z"
   },
   {
    "duration": 145,
    "start_time": "2023-02-14T17:57:18.597Z"
   },
   {
    "duration": 544,
    "start_time": "2023-02-14T17:57:18.745Z"
   },
   {
    "duration": 355,
    "start_time": "2023-02-14T17:57:19.291Z"
   },
   {
    "duration": 4,
    "start_time": "2023-02-14T17:57:19.648Z"
   },
   {
    "duration": 15,
    "start_time": "2023-02-14T17:57:19.654Z"
   },
   {
    "duration": 49,
    "start_time": "2023-02-14T17:57:19.672Z"
   },
   {
    "duration": 0,
    "start_time": "2023-02-14T17:57:19.723Z"
   },
   {
    "duration": 0,
    "start_time": "2023-02-14T17:57:19.727Z"
   },
   {
    "duration": 0,
    "start_time": "2023-02-14T17:57:19.729Z"
   },
   {
    "duration": 0,
    "start_time": "2023-02-14T17:57:19.731Z"
   },
   {
    "duration": 0,
    "start_time": "2023-02-14T17:57:19.732Z"
   },
   {
    "duration": 0,
    "start_time": "2023-02-14T17:57:19.733Z"
   },
   {
    "duration": 0,
    "start_time": "2023-02-14T17:57:19.735Z"
   },
   {
    "duration": 0,
    "start_time": "2023-02-14T17:57:19.736Z"
   },
   {
    "duration": 0,
    "start_time": "2023-02-14T17:57:19.737Z"
   },
   {
    "duration": 0,
    "start_time": "2023-02-14T17:57:19.738Z"
   },
   {
    "duration": 0,
    "start_time": "2023-02-14T17:57:19.740Z"
   },
   {
    "duration": 0,
    "start_time": "2023-02-14T17:57:19.741Z"
   },
   {
    "duration": 0,
    "start_time": "2023-02-14T17:57:19.743Z"
   },
   {
    "duration": 0,
    "start_time": "2023-02-14T17:57:19.744Z"
   },
   {
    "duration": 0,
    "start_time": "2023-02-14T17:57:19.746Z"
   },
   {
    "duration": 0,
    "start_time": "2023-02-14T17:57:19.747Z"
   },
   {
    "duration": 123,
    "start_time": "2023-02-14T17:57:56.926Z"
   },
   {
    "duration": 16,
    "start_time": "2023-02-14T17:58:36.521Z"
   },
   {
    "duration": 7991,
    "start_time": "2023-02-14T18:00:36.743Z"
   },
   {
    "duration": 23,
    "start_time": "2023-02-14T18:01:04.090Z"
   },
   {
    "duration": 2306,
    "start_time": "2023-02-14T18:01:13.713Z"
   },
   {
    "duration": 1381,
    "start_time": "2023-02-14T18:01:16.022Z"
   },
   {
    "duration": 935,
    "start_time": "2023-02-14T18:01:17.404Z"
   },
   {
    "duration": 167,
    "start_time": "2023-02-14T18:01:18.342Z"
   },
   {
    "duration": 145,
    "start_time": "2023-02-14T18:01:18.511Z"
   },
   {
    "duration": 41,
    "start_time": "2023-02-14T18:01:18.658Z"
   },
   {
    "duration": 20,
    "start_time": "2023-02-14T18:01:18.701Z"
   },
   {
    "duration": 75,
    "start_time": "2023-02-14T18:01:18.723Z"
   },
   {
    "duration": 177,
    "start_time": "2023-02-14T18:01:18.800Z"
   },
   {
    "duration": 157,
    "start_time": "2023-02-14T18:01:18.980Z"
   },
   {
    "duration": 142,
    "start_time": "2023-02-14T18:01:19.140Z"
   },
   {
    "duration": 245,
    "start_time": "2023-02-14T18:01:19.284Z"
   },
   {
    "duration": 217,
    "start_time": "2023-02-14T18:01:19.531Z"
   },
   {
    "duration": 102,
    "start_time": "2023-02-14T18:01:19.750Z"
   },
   {
    "duration": 378,
    "start_time": "2023-02-14T18:01:19.853Z"
   },
   {
    "duration": 80,
    "start_time": "2023-02-14T18:01:20.232Z"
   },
   {
    "duration": 84,
    "start_time": "2023-02-14T18:01:20.315Z"
   },
   {
    "duration": 1226,
    "start_time": "2023-02-14T18:01:20.401Z"
   },
   {
    "duration": 336,
    "start_time": "2023-02-14T18:01:21.629Z"
   },
   {
    "duration": 24,
    "start_time": "2023-02-14T18:01:21.967Z"
   },
   {
    "duration": 77,
    "start_time": "2023-02-14T18:01:21.993Z"
   },
   {
    "duration": 314,
    "start_time": "2023-02-14T18:01:22.072Z"
   },
   {
    "duration": 25,
    "start_time": "2023-02-14T18:01:22.388Z"
   },
   {
    "duration": 494,
    "start_time": "2023-02-14T18:01:22.415Z"
   },
   {
    "duration": 277,
    "start_time": "2023-02-14T18:01:22.912Z"
   },
   {
    "duration": 1221,
    "start_time": "2023-02-14T18:01:23.191Z"
   },
   {
    "duration": 77,
    "start_time": "2023-02-14T18:01:24.414Z"
   },
   {
    "duration": 44,
    "start_time": "2023-02-14T18:01:24.495Z"
   },
   {
    "duration": 63,
    "start_time": "2023-02-14T18:01:24.541Z"
   },
   {
    "duration": 57,
    "start_time": "2023-02-14T18:01:24.606Z"
   },
   {
    "duration": 86,
    "start_time": "2023-02-14T18:01:24.665Z"
   },
   {
    "duration": 38,
    "start_time": "2023-02-14T18:01:24.753Z"
   },
   {
    "duration": 54,
    "start_time": "2023-02-14T18:01:24.793Z"
   },
   {
    "duration": 2,
    "start_time": "2023-02-14T18:01:24.849Z"
   },
   {
    "duration": 70,
    "start_time": "2023-02-14T18:01:24.853Z"
   },
   {
    "duration": 494,
    "start_time": "2023-02-14T18:01:24.925Z"
   },
   {
    "duration": 308,
    "start_time": "2023-02-14T18:01:25.422Z"
   },
   {
    "duration": 6,
    "start_time": "2023-02-14T18:01:25.732Z"
   },
   {
    "duration": 25,
    "start_time": "2023-02-14T18:01:25.740Z"
   },
   {
    "duration": 13,
    "start_time": "2023-02-14T18:01:25.767Z"
   },
   {
    "duration": 141,
    "start_time": "2023-02-14T18:01:25.782Z"
   },
   {
    "duration": 0,
    "start_time": "2023-02-14T18:01:25.925Z"
   },
   {
    "duration": 0,
    "start_time": "2023-02-14T18:01:25.927Z"
   },
   {
    "duration": 0,
    "start_time": "2023-02-14T18:01:25.928Z"
   },
   {
    "duration": 0,
    "start_time": "2023-02-14T18:01:25.929Z"
   },
   {
    "duration": 0,
    "start_time": "2023-02-14T18:01:25.939Z"
   },
   {
    "duration": 0,
    "start_time": "2023-02-14T18:01:25.940Z"
   },
   {
    "duration": 0,
    "start_time": "2023-02-14T18:01:25.941Z"
   },
   {
    "duration": 0,
    "start_time": "2023-02-14T18:01:25.943Z"
   },
   {
    "duration": 0,
    "start_time": "2023-02-14T18:01:25.944Z"
   },
   {
    "duration": 0,
    "start_time": "2023-02-14T18:01:25.945Z"
   },
   {
    "duration": 0,
    "start_time": "2023-02-14T18:01:25.947Z"
   },
   {
    "duration": 0,
    "start_time": "2023-02-14T18:01:25.949Z"
   },
   {
    "duration": 0,
    "start_time": "2023-02-14T18:01:25.950Z"
   },
   {
    "duration": 0,
    "start_time": "2023-02-14T18:01:25.951Z"
   },
   {
    "duration": 0,
    "start_time": "2023-02-14T18:01:25.956Z"
   },
   {
    "duration": 327,
    "start_time": "2023-02-14T18:02:49.372Z"
   },
   {
    "duration": 4,
    "start_time": "2023-02-14T18:03:27.964Z"
   },
   {
    "duration": 14,
    "start_time": "2023-02-14T18:03:45.088Z"
   },
   {
    "duration": 18,
    "start_time": "2023-02-14T18:04:00.386Z"
   },
   {
    "duration": 10,
    "start_time": "2023-02-14T18:04:11.416Z"
   },
   {
    "duration": 2610,
    "start_time": "2023-02-14T18:18:22.983Z"
   },
   {
    "duration": 1325,
    "start_time": "2023-02-14T18:18:25.597Z"
   },
   {
    "duration": 986,
    "start_time": "2023-02-14T18:18:26.924Z"
   },
   {
    "duration": 172,
    "start_time": "2023-02-14T18:18:27.912Z"
   },
   {
    "duration": 187,
    "start_time": "2023-02-14T18:18:28.087Z"
   },
   {
    "duration": 73,
    "start_time": "2023-02-14T18:18:28.276Z"
   },
   {
    "duration": 24,
    "start_time": "2023-02-14T18:18:28.352Z"
   },
   {
    "duration": 84,
    "start_time": "2023-02-14T18:18:28.379Z"
   },
   {
    "duration": 218,
    "start_time": "2023-02-14T18:18:28.465Z"
   },
   {
    "duration": 177,
    "start_time": "2023-02-14T18:18:28.685Z"
   },
   {
    "duration": 193,
    "start_time": "2023-02-14T18:18:28.863Z"
   },
   {
    "duration": 295,
    "start_time": "2023-02-14T18:18:29.058Z"
   },
   {
    "duration": 205,
    "start_time": "2023-02-14T18:18:29.355Z"
   },
   {
    "duration": 97,
    "start_time": "2023-02-14T18:18:29.564Z"
   },
   {
    "duration": 415,
    "start_time": "2023-02-14T18:18:29.663Z"
   },
   {
    "duration": 97,
    "start_time": "2023-02-14T18:18:30.080Z"
   },
   {
    "duration": 79,
    "start_time": "2023-02-14T18:18:30.179Z"
   },
   {
    "duration": 1221,
    "start_time": "2023-02-14T18:18:30.260Z"
   },
   {
    "duration": 358,
    "start_time": "2023-02-14T18:18:31.484Z"
   },
   {
    "duration": 26,
    "start_time": "2023-02-14T18:18:31.845Z"
   },
   {
    "duration": 77,
    "start_time": "2023-02-14T18:18:31.872Z"
   },
   {
    "duration": 334,
    "start_time": "2023-02-14T18:18:31.952Z"
   },
   {
    "duration": 27,
    "start_time": "2023-02-14T18:18:32.288Z"
   },
   {
    "duration": 555,
    "start_time": "2023-02-14T18:18:32.317Z"
   },
   {
    "duration": 322,
    "start_time": "2023-02-14T18:18:32.875Z"
   },
   {
    "duration": 1264,
    "start_time": "2023-02-14T18:18:33.200Z"
   },
   {
    "duration": 90,
    "start_time": "2023-02-14T18:18:34.466Z"
   },
   {
    "duration": 40,
    "start_time": "2023-02-14T18:18:34.558Z"
   },
   {
    "duration": 42,
    "start_time": "2023-02-14T18:18:34.600Z"
   },
   {
    "duration": 29,
    "start_time": "2023-02-14T18:18:34.644Z"
   },
   {
    "duration": 77,
    "start_time": "2023-02-14T18:18:34.676Z"
   },
   {
    "duration": 32,
    "start_time": "2023-02-14T18:18:34.754Z"
   },
   {
    "duration": 69,
    "start_time": "2023-02-14T18:18:34.788Z"
   },
   {
    "duration": 5,
    "start_time": "2023-02-14T18:18:34.859Z"
   },
   {
    "duration": 101,
    "start_time": "2023-02-14T18:18:34.866Z"
   },
   {
    "duration": 625,
    "start_time": "2023-02-14T18:18:34.969Z"
   },
   {
    "duration": 342,
    "start_time": "2023-02-14T18:18:35.596Z"
   },
   {
    "duration": 6,
    "start_time": "2023-02-14T18:18:35.940Z"
   },
   {
    "duration": 22,
    "start_time": "2023-02-14T18:18:35.948Z"
   },
   {
    "duration": 38,
    "start_time": "2023-02-14T18:18:35.972Z"
   },
   {
    "duration": 355,
    "start_time": "2023-02-14T18:18:36.017Z"
   },
   {
    "duration": 4,
    "start_time": "2023-02-14T18:18:36.375Z"
   },
   {
    "duration": 40,
    "start_time": "2023-02-14T18:18:36.384Z"
   },
   {
    "duration": 241819,
    "start_time": "2023-02-14T18:18:36.425Z"
   },
   {
    "duration": 141099,
    "start_time": "2023-02-14T18:22:38.246Z"
   },
   {
    "duration": 17650,
    "start_time": "2023-02-14T18:24:59.351Z"
   },
   {
    "duration": 20982,
    "start_time": "2023-02-14T18:25:17.003Z"
   },
   {
    "duration": 1233,
    "start_time": "2023-02-14T18:25:37.987Z"
   },
   {
    "duration": 2793,
    "start_time": "2023-02-14T18:25:39.224Z"
   },
   {
    "duration": 3,
    "start_time": "2023-02-14T18:25:42.019Z"
   },
   {
    "duration": 364124,
    "start_time": "2023-02-14T18:25:42.024Z"
   },
   {
    "duration": 19796,
    "start_time": "2023-02-14T18:31:46.150Z"
   },
   {
    "duration": 101,
    "start_time": "2023-02-14T18:32:05.947Z"
   },
   {
    "duration": 4548,
    "start_time": "2023-02-14T18:32:06.139Z"
   },
   {
    "duration": 7,
    "start_time": "2023-02-14T18:32:10.689Z"
   },
   {
    "duration": 119664,
    "start_time": "2023-02-14T18:44:28.175Z"
   },
   {
    "duration": 2340,
    "start_time": "2023-02-14T18:53:07.766Z"
   },
   {
    "duration": 1339,
    "start_time": "2023-02-14T18:53:10.109Z"
   },
   {
    "duration": 921,
    "start_time": "2023-02-14T18:53:11.449Z"
   },
   {
    "duration": 230,
    "start_time": "2023-02-14T18:53:12.372Z"
   },
   {
    "duration": 159,
    "start_time": "2023-02-14T18:53:12.605Z"
   },
   {
    "duration": 42,
    "start_time": "2023-02-14T18:53:12.766Z"
   },
   {
    "duration": 44,
    "start_time": "2023-02-14T18:53:12.810Z"
   },
   {
    "duration": 62,
    "start_time": "2023-02-14T18:53:12.856Z"
   },
   {
    "duration": 194,
    "start_time": "2023-02-14T18:53:12.920Z"
   },
   {
    "duration": 160,
    "start_time": "2023-02-14T18:53:13.115Z"
   },
   {
    "duration": 149,
    "start_time": "2023-02-14T18:53:13.277Z"
   },
   {
    "duration": 256,
    "start_time": "2023-02-14T18:53:13.428Z"
   },
   {
    "duration": 191,
    "start_time": "2023-02-14T18:53:13.686Z"
   },
   {
    "duration": 93,
    "start_time": "2023-02-14T18:53:13.880Z"
   },
   {
    "duration": 366,
    "start_time": "2023-02-14T18:53:13.974Z"
   },
   {
    "duration": 78,
    "start_time": "2023-02-14T18:53:14.341Z"
   },
   {
    "duration": 94,
    "start_time": "2023-02-14T18:53:14.420Z"
   },
   {
    "duration": 1109,
    "start_time": "2023-02-14T18:53:14.516Z"
   },
   {
    "duration": 310,
    "start_time": "2023-02-14T18:53:15.627Z"
   },
   {
    "duration": 23,
    "start_time": "2023-02-14T18:53:15.939Z"
   },
   {
    "duration": 54,
    "start_time": "2023-02-14T18:53:15.964Z"
   },
   {
    "duration": 319,
    "start_time": "2023-02-14T18:53:16.019Z"
   },
   {
    "duration": 21,
    "start_time": "2023-02-14T18:53:16.340Z"
   },
   {
    "duration": 394,
    "start_time": "2023-02-14T18:53:16.363Z"
   },
   {
    "duration": 284,
    "start_time": "2023-02-14T18:53:16.759Z"
   },
   {
    "duration": 1227,
    "start_time": "2023-02-14T18:53:17.046Z"
   },
   {
    "duration": 78,
    "start_time": "2023-02-14T18:53:18.275Z"
   },
   {
    "duration": 38,
    "start_time": "2023-02-14T18:53:18.355Z"
   },
   {
    "duration": 16,
    "start_time": "2023-02-14T18:53:18.395Z"
   },
   {
    "duration": 37,
    "start_time": "2023-02-14T18:53:18.412Z"
   },
   {
    "duration": 57,
    "start_time": "2023-02-14T18:53:18.451Z"
   },
   {
    "duration": 45,
    "start_time": "2023-02-14T18:53:18.510Z"
   },
   {
    "duration": 39,
    "start_time": "2023-02-14T18:53:18.557Z"
   },
   {
    "duration": 3,
    "start_time": "2023-02-14T18:53:18.598Z"
   },
   {
    "duration": 80,
    "start_time": "2023-02-14T18:53:18.602Z"
   },
   {
    "duration": 540,
    "start_time": "2023-02-14T18:53:18.684Z"
   },
   {
    "duration": 307,
    "start_time": "2023-02-14T18:53:19.226Z"
   },
   {
    "duration": 5,
    "start_time": "2023-02-14T18:53:19.534Z"
   },
   {
    "duration": 19,
    "start_time": "2023-02-14T18:53:19.540Z"
   },
   {
    "duration": 14,
    "start_time": "2023-02-14T18:53:19.561Z"
   },
   {
    "duration": 406,
    "start_time": "2023-02-14T18:53:19.579Z"
   },
   {
    "duration": 3,
    "start_time": "2023-02-14T18:53:19.987Z"
   },
   {
    "duration": 36,
    "start_time": "2023-02-14T18:53:19.992Z"
   },
   {
    "duration": 81012,
    "start_time": "2023-02-14T18:53:20.030Z"
   },
   {
    "duration": 91302,
    "start_time": "2023-02-14T18:54:41.045Z"
   },
   {
    "duration": 17750,
    "start_time": "2023-02-14T18:56:12.350Z"
   },
   {
    "duration": 18741,
    "start_time": "2023-02-14T18:56:30.102Z"
   },
   {
    "duration": 1033,
    "start_time": "2023-02-14T18:56:48.845Z"
   },
   {
    "duration": 1988,
    "start_time": "2023-02-14T18:56:49.880Z"
   },
   {
    "duration": 3,
    "start_time": "2023-02-14T18:56:51.870Z"
   },
   {
    "duration": 2565,
    "start_time": "2023-02-14T19:03:22.698Z"
   },
   {
    "duration": 1389,
    "start_time": "2023-02-14T19:03:25.266Z"
   },
   {
    "duration": 943,
    "start_time": "2023-02-14T19:03:26.657Z"
   },
   {
    "duration": 153,
    "start_time": "2023-02-14T19:03:27.603Z"
   },
   {
    "duration": 154,
    "start_time": "2023-02-14T19:03:27.759Z"
   },
   {
    "duration": 43,
    "start_time": "2023-02-14T19:03:27.915Z"
   },
   {
    "duration": 18,
    "start_time": "2023-02-14T19:03:27.960Z"
   },
   {
    "duration": 62,
    "start_time": "2023-02-14T19:03:27.980Z"
   },
   {
    "duration": 215,
    "start_time": "2023-02-14T19:03:28.044Z"
   },
   {
    "duration": 142,
    "start_time": "2023-02-14T19:03:28.262Z"
   },
   {
    "duration": 157,
    "start_time": "2023-02-14T19:03:28.405Z"
   },
   {
    "duration": 244,
    "start_time": "2023-02-14T19:03:28.564Z"
   },
   {
    "duration": 198,
    "start_time": "2023-02-14T19:03:28.810Z"
   },
   {
    "duration": 171,
    "start_time": "2023-02-14T19:03:29.011Z"
   },
   {
    "duration": 419,
    "start_time": "2023-02-14T19:03:29.185Z"
   },
   {
    "duration": 96,
    "start_time": "2023-02-14T19:03:29.606Z"
   },
   {
    "duration": 84,
    "start_time": "2023-02-14T19:03:29.703Z"
   },
   {
    "duration": 1238,
    "start_time": "2023-02-14T19:03:29.789Z"
   },
   {
    "duration": 348,
    "start_time": "2023-02-14T19:03:31.029Z"
   },
   {
    "duration": 28,
    "start_time": "2023-02-14T19:03:31.379Z"
   },
   {
    "duration": 86,
    "start_time": "2023-02-14T19:03:31.409Z"
   },
   {
    "duration": 334,
    "start_time": "2023-02-14T19:03:31.497Z"
   },
   {
    "duration": 31,
    "start_time": "2023-02-14T19:03:31.833Z"
   },
   {
    "duration": 491,
    "start_time": "2023-02-14T19:03:31.866Z"
   },
   {
    "duration": 360,
    "start_time": "2023-02-14T19:03:32.359Z"
   },
   {
    "duration": 1435,
    "start_time": "2023-02-14T19:03:32.722Z"
   },
   {
    "duration": 78,
    "start_time": "2023-02-14T19:03:34.160Z"
   },
   {
    "duration": 57,
    "start_time": "2023-02-14T19:03:34.245Z"
   },
   {
    "duration": 18,
    "start_time": "2023-02-14T19:03:34.305Z"
   },
   {
    "duration": 25,
    "start_time": "2023-02-14T19:03:34.325Z"
   },
   {
    "duration": 81,
    "start_time": "2023-02-14T19:03:34.353Z"
   },
   {
    "duration": 46,
    "start_time": "2023-02-14T19:03:34.436Z"
   },
   {
    "duration": 46,
    "start_time": "2023-02-14T19:03:34.484Z"
   },
   {
    "duration": 14,
    "start_time": "2023-02-14T19:03:34.532Z"
   },
   {
    "duration": 74,
    "start_time": "2023-02-14T19:03:34.555Z"
   },
   {
    "duration": 496,
    "start_time": "2023-02-14T19:03:34.631Z"
   },
   {
    "duration": 11,
    "start_time": "2023-02-14T19:03:35.130Z"
   },
   {
    "duration": 332,
    "start_time": "2023-02-14T19:03:35.145Z"
   },
   {
    "duration": 4,
    "start_time": "2023-02-14T19:03:35.479Z"
   },
   {
    "duration": 37,
    "start_time": "2023-02-14T19:03:35.485Z"
   },
   {
    "duration": 39,
    "start_time": "2023-02-14T19:03:35.524Z"
   },
   {
    "duration": 340,
    "start_time": "2023-02-14T19:03:35.565Z"
   },
   {
    "duration": 3,
    "start_time": "2023-02-14T19:03:35.907Z"
   },
   {
    "duration": 34,
    "start_time": "2023-02-14T19:03:35.912Z"
   },
   {
    "duration": 168693,
    "start_time": "2023-02-14T19:03:35.951Z"
   },
   {
    "duration": 152605,
    "start_time": "2023-02-14T19:06:24.646Z"
   },
   {
    "duration": 17822,
    "start_time": "2023-02-14T19:08:57.255Z"
   },
   {
    "duration": 18403,
    "start_time": "2023-02-14T19:09:15.079Z"
   },
   {
    "duration": 998,
    "start_time": "2023-02-14T19:09:33.484Z"
   },
   {
    "duration": 1894,
    "start_time": "2023-02-14T19:09:34.483Z"
   },
   {
    "duration": 3,
    "start_time": "2023-02-14T19:09:36.379Z"
   },
   {
    "duration": 385162,
    "start_time": "2023-02-14T19:09:36.384Z"
   },
   {
    "duration": 192889,
    "start_time": "2023-02-14T19:16:01.553Z"
   },
   {
    "duration": 16,
    "start_time": "2023-02-14T19:19:14.444Z"
   },
   {
    "duration": 279,
    "start_time": "2023-02-14T19:19:14.538Z"
   },
   {
    "duration": 0,
    "start_time": "2023-02-14T19:19:14.819Z"
   },
   {
    "duration": 0,
    "start_time": "2023-02-14T19:19:14.821Z"
   },
   {
    "duration": 61,
    "start_time": "2023-02-14T20:08:45.347Z"
   },
   {
    "duration": 112,
    "start_time": "2023-02-14T20:24:27.215Z"
   },
   {
    "duration": 24,
    "start_time": "2023-02-14T20:24:45.585Z"
   },
   {
    "duration": 2200,
    "start_time": "2023-02-14T20:26:00.113Z"
   },
   {
    "duration": 1322,
    "start_time": "2023-02-14T20:26:02.315Z"
   },
   {
    "duration": 882,
    "start_time": "2023-02-14T20:26:03.640Z"
   },
   {
    "duration": 144,
    "start_time": "2023-02-14T20:26:04.525Z"
   },
   {
    "duration": 142,
    "start_time": "2023-02-14T20:26:04.671Z"
   },
   {
    "duration": 43,
    "start_time": "2023-02-14T20:26:04.815Z"
   },
   {
    "duration": 14,
    "start_time": "2023-02-14T20:26:04.860Z"
   },
   {
    "duration": 77,
    "start_time": "2023-02-14T20:26:04.876Z"
   },
   {
    "duration": 166,
    "start_time": "2023-02-14T20:26:04.954Z"
   },
   {
    "duration": 146,
    "start_time": "2023-02-14T20:26:05.123Z"
   },
   {
    "duration": 149,
    "start_time": "2023-02-14T20:26:05.271Z"
   },
   {
    "duration": 224,
    "start_time": "2023-02-14T20:26:05.422Z"
   },
   {
    "duration": 174,
    "start_time": "2023-02-14T20:26:05.648Z"
   },
   {
    "duration": 89,
    "start_time": "2023-02-14T20:26:05.824Z"
   },
   {
    "duration": 377,
    "start_time": "2023-02-14T20:26:05.915Z"
   },
   {
    "duration": 85,
    "start_time": "2023-02-14T20:26:06.293Z"
   },
   {
    "duration": 68,
    "start_time": "2023-02-14T20:26:06.380Z"
   },
   {
    "duration": 1112,
    "start_time": "2023-02-14T20:26:06.449Z"
   },
   {
    "duration": 319,
    "start_time": "2023-02-14T20:26:07.563Z"
   },
   {
    "duration": 21,
    "start_time": "2023-02-14T20:26:07.884Z"
   },
   {
    "duration": 61,
    "start_time": "2023-02-14T20:26:07.907Z"
   },
   {
    "duration": 331,
    "start_time": "2023-02-14T20:26:07.969Z"
   },
   {
    "duration": 20,
    "start_time": "2023-02-14T20:26:08.301Z"
   },
   {
    "duration": 340,
    "start_time": "2023-02-14T20:26:08.323Z"
   },
   {
    "duration": 248,
    "start_time": "2023-02-14T20:26:08.664Z"
   },
   {
    "duration": 1064,
    "start_time": "2023-02-14T20:26:08.914Z"
   },
   {
    "duration": 69,
    "start_time": "2023-02-14T20:26:09.980Z"
   },
   {
    "duration": 23,
    "start_time": "2023-02-14T20:26:10.052Z"
   },
   {
    "duration": 15,
    "start_time": "2023-02-14T20:26:10.077Z"
   },
   {
    "duration": 15,
    "start_time": "2023-02-14T20:26:10.094Z"
   },
   {
    "duration": 73,
    "start_time": "2023-02-14T20:26:10.110Z"
   },
   {
    "duration": 27,
    "start_time": "2023-02-14T20:26:10.185Z"
   },
   {
    "duration": 50,
    "start_time": "2023-02-14T20:26:10.213Z"
   },
   {
    "duration": 2,
    "start_time": "2023-02-14T20:26:10.265Z"
   },
   {
    "duration": 73,
    "start_time": "2023-02-14T20:26:10.269Z"
   },
   {
    "duration": 435,
    "start_time": "2023-02-14T20:26:10.344Z"
   },
   {
    "duration": 3,
    "start_time": "2023-02-14T20:26:10.780Z"
   },
   {
    "duration": 282,
    "start_time": "2023-02-14T20:26:10.784Z"
   },
   {
    "duration": 4,
    "start_time": "2023-02-14T20:26:11.067Z"
   },
   {
    "duration": 10,
    "start_time": "2023-02-14T20:26:11.073Z"
   },
   {
    "duration": 5,
    "start_time": "2023-02-14T20:26:11.085Z"
   },
   {
    "duration": 294,
    "start_time": "2023-02-14T20:26:11.091Z"
   },
   {
    "duration": 4,
    "start_time": "2023-02-14T20:26:11.387Z"
   },
   {
    "duration": 15,
    "start_time": "2023-02-14T20:26:11.392Z"
   },
   {
    "duration": 73931,
    "start_time": "2023-02-14T20:26:11.409Z"
   },
   {
    "duration": 74403,
    "start_time": "2023-02-14T20:27:25.343Z"
   },
   {
    "duration": 17219,
    "start_time": "2023-02-14T20:28:39.840Z"
   },
   {
    "duration": 17379,
    "start_time": "2023-02-14T20:28:57.060Z"
   },
   {
    "duration": 986,
    "start_time": "2023-02-14T20:29:14.440Z"
   },
   {
    "duration": 1840,
    "start_time": "2023-02-14T20:29:15.428Z"
   },
   {
    "duration": 2,
    "start_time": "2023-02-14T20:29:17.270Z"
   },
   {
    "duration": 12673,
    "start_time": "2023-02-14T20:29:17.274Z"
   },
   {
    "duration": 121259,
    "start_time": "2023-02-14T20:29:29.949Z"
   },
   {
    "duration": 66,
    "start_time": "2023-02-14T20:31:31.210Z"
   },
   {
    "duration": 52,
    "start_time": "2023-02-14T20:31:31.278Z"
   },
   {
    "duration": 65,
    "start_time": "2023-02-14T20:31:31.332Z"
   },
   {
    "duration": 38257,
    "start_time": "2023-02-14T20:59:45.686Z"
   },
   {
    "duration": 37788,
    "start_time": "2023-02-14T21:00:45.953Z"
   },
   {
    "duration": 77284,
    "start_time": "2023-02-14T21:23:15.561Z"
   },
   {
    "duration": 77672,
    "start_time": "2023-02-14T21:47:29.672Z"
   },
   {
    "duration": 54,
    "start_time": "2023-02-14T21:49:17.770Z"
   },
   {
    "duration": 2,
    "start_time": "2023-02-14T21:55:21.878Z"
   },
   {
    "duration": 3,
    "start_time": "2023-02-14T22:01:26.275Z"
   },
   {
    "duration": 53,
    "start_time": "2023-02-14T22:08:07.699Z"
   },
   {
    "duration": 2,
    "start_time": "2023-02-14T22:09:02.489Z"
   },
   {
    "duration": 40,
    "start_time": "2023-02-14T22:09:27.296Z"
   },
   {
    "duration": 912,
    "start_time": "2023-02-14T22:09:41.203Z"
   },
   {
    "duration": 57,
    "start_time": "2023-02-14T22:12:41.982Z"
   },
   {
    "duration": 33,
    "start_time": "2023-02-14T22:20:25.840Z"
   },
   {
    "duration": 86,
    "start_time": "2023-02-14T22:22:41.977Z"
   },
   {
    "duration": 940,
    "start_time": "2023-02-14T22:23:28.533Z"
   },
   {
    "duration": 948,
    "start_time": "2023-02-14T22:29:31.833Z"
   },
   {
    "duration": 951,
    "start_time": "2023-02-14T22:29:53.916Z"
   },
   {
    "duration": 10608,
    "start_time": "2023-02-14T22:34:38.796Z"
   },
   {
    "duration": 64,
    "start_time": "2023-02-14T22:37:47.441Z"
   },
   {
    "duration": 2159,
    "start_time": "2023-02-14T22:38:03.003Z"
   },
   {
    "duration": 2180,
    "start_time": "2023-02-14T22:49:22.987Z"
   },
   {
    "duration": 2385,
    "start_time": "2023-02-14T22:53:50.755Z"
   },
   {
    "duration": 2250,
    "start_time": "2023-02-14T22:54:40.334Z"
   },
   {
    "duration": 29890,
    "start_time": "2023-02-14T23:33:48.677Z"
   },
   {
    "duration": 5118,
    "start_time": "2023-02-14T23:34:18.569Z"
   },
   {
    "duration": 4475,
    "start_time": "2023-02-14T23:34:23.691Z"
   },
   {
    "duration": 805,
    "start_time": "2023-02-14T23:34:28.170Z"
   },
   {
    "duration": 971,
    "start_time": "2023-02-14T23:34:28.984Z"
   },
   {
    "duration": 199,
    "start_time": "2023-02-14T23:34:29.957Z"
   },
   {
    "duration": 85,
    "start_time": "2023-02-14T23:34:30.168Z"
   },
   {
    "duration": 213,
    "start_time": "2023-02-14T23:34:30.256Z"
   },
   {
    "duration": 840,
    "start_time": "2023-02-14T23:34:30.548Z"
   },
   {
    "duration": 765,
    "start_time": "2023-02-14T23:34:31.392Z"
   },
   {
    "duration": 993,
    "start_time": "2023-02-14T23:34:32.163Z"
   },
   {
    "duration": 1200,
    "start_time": "2023-02-14T23:34:33.161Z"
   },
   {
    "duration": 1017,
    "start_time": "2023-02-14T23:34:34.367Z"
   },
   {
    "duration": 591,
    "start_time": "2023-02-14T23:34:35.394Z"
   },
   {
    "duration": 1913,
    "start_time": "2023-02-14T23:34:36.049Z"
   },
   {
    "duration": 497,
    "start_time": "2023-02-14T23:34:37.967Z"
   },
   {
    "duration": 207,
    "start_time": "2023-02-14T23:34:38.476Z"
   },
   {
    "duration": 5704,
    "start_time": "2023-02-14T23:34:38.750Z"
   },
   {
    "duration": 1520,
    "start_time": "2023-02-14T23:34:44.465Z"
   },
   {
    "duration": 98,
    "start_time": "2023-02-14T23:34:45.989Z"
   },
   {
    "duration": 528,
    "start_time": "2023-02-14T23:34:46.151Z"
   },
   {
    "duration": 1631,
    "start_time": "2023-02-14T23:34:46.751Z"
   },
   {
    "duration": 114,
    "start_time": "2023-02-14T23:34:48.450Z"
   },
   {
    "duration": 2199,
    "start_time": "2023-02-14T23:34:48.568Z"
   },
   {
    "duration": 1380,
    "start_time": "2023-02-14T23:34:50.775Z"
   },
   {
    "duration": 6007,
    "start_time": "2023-02-14T23:34:52.156Z"
   },
   {
    "duration": 488,
    "start_time": "2023-02-14T23:34:58.170Z"
   },
   {
    "duration": 118,
    "start_time": "2023-02-14T23:34:58.668Z"
   },
   {
    "duration": 201,
    "start_time": "2023-02-14T23:34:58.848Z"
   },
   {
    "duration": 117,
    "start_time": "2023-02-14T23:34:59.064Z"
   },
   {
    "duration": 475,
    "start_time": "2023-02-14T23:34:59.187Z"
   },
   {
    "duration": 219,
    "start_time": "2023-02-14T23:34:59.666Z"
   },
   {
    "duration": 302,
    "start_time": "2023-02-14T23:34:59.955Z"
   },
   {
    "duration": 6,
    "start_time": "2023-02-14T23:35:00.259Z"
   },
   {
    "duration": 396,
    "start_time": "2023-02-14T23:35:00.272Z"
   },
   {
    "duration": 2784,
    "start_time": "2023-02-14T23:35:00.676Z"
   },
   {
    "duration": 9,
    "start_time": "2023-02-14T23:35:03.466Z"
   },
   {
    "duration": 1302,
    "start_time": "2023-02-14T23:35:03.551Z"
   },
   {
    "duration": 14,
    "start_time": "2023-02-14T23:35:04.859Z"
   },
   {
    "duration": 100,
    "start_time": "2023-02-14T23:35:04.879Z"
   },
   {
    "duration": 77,
    "start_time": "2023-02-14T23:35:04.988Z"
   },
   {
    "duration": 1795,
    "start_time": "2023-02-14T23:35:35.890Z"
   },
   {
    "duration": 24,
    "start_time": "2023-02-14T23:35:41.149Z"
   },
   {
    "duration": 609,
    "start_time": "2023-02-14T23:35:50.349Z"
   },
   {
    "duration": 79,
    "start_time": "2023-02-14T23:36:08.790Z"
   },
   {
    "duration": 23,
    "start_time": "2023-02-14T23:36:42.348Z"
   },
   {
    "duration": 30,
    "start_time": "2023-02-14T23:36:46.348Z"
   },
   {
    "duration": 1700,
    "start_time": "2023-02-14T23:37:18.877Z"
   },
   {
    "duration": 2124,
    "start_time": "2023-02-14T23:38:29.152Z"
   },
   {
    "duration": 120,
    "start_time": "2023-02-14T23:38:44.850Z"
   },
   {
    "duration": 171,
    "start_time": "2023-02-14T23:38:49.286Z"
   },
   {
    "duration": 109,
    "start_time": "2023-02-14T23:39:02.374Z"
   },
   {
    "duration": 2609,
    "start_time": "2023-02-14T23:39:06.052Z"
   },
   {
    "duration": 165,
    "start_time": "2023-02-14T23:39:11.687Z"
   },
   {
    "duration": 211,
    "start_time": "2023-02-14T23:39:38.648Z"
   },
   {
    "duration": 171,
    "start_time": "2023-02-14T23:42:22.682Z"
   },
   {
    "duration": 72628,
    "start_time": "2023-02-14T23:42:33.649Z"
   },
   {
    "duration": 889,
    "start_time": "2023-02-14T23:43:46.287Z"
   },
   {
    "duration": 10486,
    "start_time": "2023-02-14T23:43:59.480Z"
   },
   {
    "duration": 1677,
    "start_time": "2023-02-15T06:05:25.503Z"
   },
   {
    "duration": 2960,
    "start_time": "2023-02-15T06:05:27.182Z"
   },
   {
    "duration": 136,
    "start_time": "2023-02-15T06:05:30.143Z"
   },
   {
    "duration": 158,
    "start_time": "2023-02-15T06:05:30.282Z"
   },
   {
    "duration": 85,
    "start_time": "2023-02-15T06:05:30.442Z"
   },
   {
    "duration": 19,
    "start_time": "2023-02-15T06:05:30.529Z"
   },
   {
    "duration": 80,
    "start_time": "2023-02-15T06:05:30.551Z"
   },
   {
    "duration": 190,
    "start_time": "2023-02-15T06:05:30.633Z"
   },
   {
    "duration": 143,
    "start_time": "2023-02-15T06:05:30.825Z"
   },
   {
    "duration": 129,
    "start_time": "2023-02-15T06:05:30.970Z"
   },
   {
    "duration": 227,
    "start_time": "2023-02-15T06:05:31.100Z"
   },
   {
    "duration": 189,
    "start_time": "2023-02-15T06:05:31.329Z"
   },
   {
    "duration": 92,
    "start_time": "2023-02-15T06:05:31.520Z"
   },
   {
    "duration": 358,
    "start_time": "2023-02-15T06:05:31.614Z"
   },
   {
    "duration": 82,
    "start_time": "2023-02-15T06:05:31.974Z"
   },
   {
    "duration": 63,
    "start_time": "2023-02-15T06:05:32.058Z"
   },
   {
    "duration": 1249,
    "start_time": "2023-02-15T06:05:32.123Z"
   },
   {
    "duration": 337,
    "start_time": "2023-02-15T06:05:33.373Z"
   },
   {
    "duration": 37,
    "start_time": "2023-02-15T06:05:33.712Z"
   },
   {
    "duration": 55,
    "start_time": "2023-02-15T06:05:33.751Z"
   },
   {
    "duration": 321,
    "start_time": "2023-02-15T06:05:33.808Z"
   },
   {
    "duration": 26,
    "start_time": "2023-02-15T06:05:34.131Z"
   },
   {
    "duration": 385,
    "start_time": "2023-02-15T06:05:34.159Z"
   },
   {
    "duration": 266,
    "start_time": "2023-02-15T06:05:34.546Z"
   },
   {
    "duration": 1182,
    "start_time": "2023-02-15T06:05:34.813Z"
   },
   {
    "duration": 67,
    "start_time": "2023-02-15T06:05:35.996Z"
   },
   {
    "duration": 28,
    "start_time": "2023-02-15T06:05:36.065Z"
   },
   {
    "duration": 17,
    "start_time": "2023-02-15T06:05:36.098Z"
   },
   {
    "duration": 17,
    "start_time": "2023-02-15T06:05:36.138Z"
   },
   {
    "duration": 50,
    "start_time": "2023-02-15T06:05:36.157Z"
   },
   {
    "duration": 49,
    "start_time": "2023-02-15T06:05:36.209Z"
   },
   {
    "duration": 33,
    "start_time": "2023-02-15T06:05:36.259Z"
   },
   {
    "duration": 2,
    "start_time": "2023-02-15T06:05:36.294Z"
   },
   {
    "duration": 77,
    "start_time": "2023-02-15T06:05:36.298Z"
   },
   {
    "duration": 492,
    "start_time": "2023-02-15T06:05:36.377Z"
   },
   {
    "duration": 294,
    "start_time": "2023-02-15T06:05:36.871Z"
   },
   {
    "duration": 4,
    "start_time": "2023-02-15T06:05:37.167Z"
   },
   {
    "duration": 9,
    "start_time": "2023-02-15T06:05:37.172Z"
   },
   {
    "duration": 11,
    "start_time": "2023-02-15T06:05:37.182Z"
   },
   {
    "duration": 137,
    "start_time": "2023-02-15T06:05:37.194Z"
   },
   {
    "duration": 0,
    "start_time": "2023-02-15T06:05:37.333Z"
   },
   {
    "duration": 0,
    "start_time": "2023-02-15T06:05:37.334Z"
   },
   {
    "duration": 0,
    "start_time": "2023-02-15T06:05:37.335Z"
   },
   {
    "duration": 0,
    "start_time": "2023-02-15T06:05:37.335Z"
   },
   {
    "duration": 0,
    "start_time": "2023-02-15T06:05:37.336Z"
   },
   {
    "duration": 0,
    "start_time": "2023-02-15T06:05:37.337Z"
   },
   {
    "duration": 0,
    "start_time": "2023-02-15T06:05:37.338Z"
   },
   {
    "duration": 0,
    "start_time": "2023-02-15T06:05:37.340Z"
   },
   {
    "duration": 0,
    "start_time": "2023-02-15T06:05:37.341Z"
   },
   {
    "duration": 0,
    "start_time": "2023-02-15T06:05:37.342Z"
   },
   {
    "duration": 0,
    "start_time": "2023-02-15T06:05:37.344Z"
   },
   {
    "duration": 0,
    "start_time": "2023-02-15T06:05:37.345Z"
   },
   {
    "duration": 0,
    "start_time": "2023-02-15T06:05:37.346Z"
   },
   {
    "duration": 1,
    "start_time": "2023-02-15T06:05:37.347Z"
   },
   {
    "duration": 0,
    "start_time": "2023-02-15T06:05:37.349Z"
   },
   {
    "duration": 0,
    "start_time": "2023-02-15T06:05:37.350Z"
   },
   {
    "duration": 0,
    "start_time": "2023-02-15T06:05:37.351Z"
   },
   {
    "duration": 0,
    "start_time": "2023-02-15T06:05:37.353Z"
   },
   {
    "duration": 488,
    "start_time": "2023-02-15T06:06:09.884Z"
   },
   {
    "duration": 4,
    "start_time": "2023-02-15T06:06:14.752Z"
   },
   {
    "duration": 19,
    "start_time": "2023-02-15T06:06:15.269Z"
   },
   {
    "duration": 67024,
    "start_time": "2023-02-15T06:06:20.215Z"
   },
   {
    "duration": 71498,
    "start_time": "2023-02-15T06:07:27.242Z"
   },
   {
    "duration": 491441,
    "start_time": "2023-02-15T06:08:38.743Z"
   },
   {
    "duration": 18253,
    "start_time": "2023-02-15T06:16:50.186Z"
   },
   {
    "duration": 56834,
    "start_time": "2023-02-15T06:17:08.441Z"
   },
   {
    "duration": 1911,
    "start_time": "2023-02-15T06:18:05.277Z"
   },
   {
    "duration": 14266,
    "start_time": "2023-02-15T06:18:07.190Z"
   },
   {
    "duration": 113738,
    "start_time": "2023-02-15T06:18:21.539Z"
   },
   {
    "duration": 21762,
    "start_time": "2023-02-15T06:20:15.279Z"
   },
   {
    "duration": 594,
    "start_time": "2023-02-15T06:20:37.045Z"
   },
   {
    "duration": 8,
    "start_time": "2023-02-15T06:20:37.641Z"
   },
   {
    "duration": 2425,
    "start_time": "2023-02-15T06:20:37.738Z"
   },
   {
    "duration": 47,
    "start_time": "2023-02-15T06:20:40.164Z"
   },
   {
    "duration": 3548,
    "start_time": "2023-02-15T06:20:40.213Z"
   },
   {
    "duration": 11395,
    "start_time": "2023-02-15T06:21:04.362Z"
   },
   {
    "duration": 33286,
    "start_time": "2023-02-15T06:22:34.414Z"
   },
   {
    "duration": 4772,
    "start_time": "2023-02-15T07:02:13.177Z"
   },
   {
    "duration": 74,
    "start_time": "2023-02-15T07:02:20.092Z"
   },
   {
    "duration": 511,
    "start_time": "2023-02-15T07:02:52.233Z"
   },
   {
    "duration": 5,
    "start_time": "2023-02-15T07:05:30.898Z"
   }
  ],
  "kernelspec": {
   "display_name": "Python 3",
   "language": "python",
   "name": "python3"
  },
  "language_info": {
   "codemirror_mode": {
    "name": "ipython",
    "version": 3
   },
   "file_extension": ".py",
   "mimetype": "text/x-python",
   "name": "python",
   "nbconvert_exporter": "python",
   "pygments_lexer": "ipython3",
   "version": "3.8.3"
  },
  "toc": {
   "base_numbering": 1,
   "nav_menu": {},
   "number_sections": true,
   "sideBar": true,
   "skip_h1_title": true,
   "title_cell": "Table of Contents",
   "title_sidebar": "Contents",
   "toc_cell": false,
   "toc_position": {},
   "toc_section_display": true,
   "toc_window_display": false
  }
 },
 "nbformat": 4,
 "nbformat_minor": 2
}
